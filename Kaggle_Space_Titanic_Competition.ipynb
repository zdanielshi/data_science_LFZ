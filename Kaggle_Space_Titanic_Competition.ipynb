{
  "nbformat": 4,
  "nbformat_minor": 0,
  "metadata": {
    "colab": {
      "name": "Kaggle Space Titanic Competition.ipynb",
      "provenance": [],
      "authorship_tag": "ABX9TyPwSAIv08ybWSFZHFEgJtn6",
      "include_colab_link": true
    },
    "kernelspec": {
      "name": "python3",
      "display_name": "Python 3"
    },
    "language_info": {
      "name": "python"
    }
  },
  "cells": [
    {
      "cell_type": "markdown",
      "metadata": {
        "id": "view-in-github",
        "colab_type": "text"
      },
      "source": [
        "<a href=\"https://colab.research.google.com/github/zdanielshi/data_science_LFZ/blob/main/Kaggle_Space_Titanic_Competition.ipynb\" target=\"_parent\"><img src=\"https://colab.research.google.com/assets/colab-badge.svg\" alt=\"Open In Colab\"/></a>"
      ]
    },
    {
      "cell_type": "markdown",
      "source": [
        "# Set up"
      ],
      "metadata": {
        "id": "atPKcdeabPXu"
      }
    },
    {
      "cell_type": "code",
      "execution_count": null,
      "metadata": {
        "id": "G0qLqJ_nMgcZ"
      },
      "outputs": [],
      "source": [
        "import pandas as pd\n",
        "import numpy as np\n",
        "import matplotlib.pyplot as plt\n",
        "import seaborn as sns\n",
        "from scipy import stats\n",
        "from sklearn.preprocessing import RobustScaler, MinMaxScaler, MaxAbsScaler, StandardScaler, PowerTransformer\n",
        "from sklearn.model_selection import train_test_split\n",
        "from sklearn.metrics import mean_squared_error, mean_absolute_error\n",
        "from sklearn.linear_model import LogisticRegression\n",
        "from sklearn.neighbors import KNeighborsClassifier\n",
        "\n",
        "# classifiers\n",
        "\n",
        "pd.options.display.float_format = '{:,.3f}'.format"
      ]
    },
    {
      "cell_type": "code",
      "source": [
        "# mounting Google Drive and loading files\n",
        "from google.colab import drive\n",
        "drive.mount('/content/drive')\n",
        "\n",
        "train = pd.read_csv('/content/drive/MyDrive/Colab Notebooks/Colab data/train space titanic.csv')\n",
        "test = pd.read_csv('/content/drive/MyDrive/Colab Notebooks/Colab data/test space titanic.csv')"
      ],
      "metadata": {
        "id": "sulZhSc3M25Q",
        "colab": {
          "base_uri": "https://localhost:8080/"
        },
        "outputId": "abf3e3f1-cceb-4690-ac4c-c710b8d05357"
      },
      "execution_count": null,
      "outputs": [
        {
          "output_type": "stream",
          "name": "stdout",
          "text": [
            "Drive already mounted at /content/drive; to attempt to forcibly remount, call drive.mount(\"/content/drive\", force_remount=True).\n"
          ]
        }
      ]
    },
    {
      "cell_type": "markdown",
      "source": [
        "# Analysis"
      ],
      "metadata": {
        "id": "TTwkMwWYc2uF"
      }
    },
    {
      "cell_type": "code",
      "source": [
        "train"
      ],
      "metadata": {
        "colab": {
          "base_uri": "https://localhost:8080/",
          "height": 424
        },
        "id": "QS9vcnmJQT9l",
        "outputId": "333521b5-3dce-4de8-885e-1de7f7f6db18"
      },
      "execution_count": null,
      "outputs": [
        {
          "output_type": "execute_result",
          "data": {
            "text/plain": [
              "     PassengerId HomePlanet CryoSleep     Cabin    Destination    Age    VIP  \\\n",
              "0        0001_01     Europa     False     B/0/P    TRAPPIST-1e 39.000  False   \n",
              "1        0002_01      Earth     False     F/0/S    TRAPPIST-1e 24.000  False   \n",
              "2        0003_01     Europa     False     A/0/S    TRAPPIST-1e 58.000   True   \n",
              "3        0003_02     Europa     False     A/0/S    TRAPPIST-1e 33.000  False   \n",
              "4        0004_01      Earth     False     F/1/S    TRAPPIST-1e 16.000  False   \n",
              "...          ...        ...       ...       ...            ...    ...    ...   \n",
              "8688     9276_01     Europa     False    A/98/P    55 Cancri e 41.000   True   \n",
              "8689     9278_01      Earth      True  G/1499/S  PSO J318.5-22 18.000  False   \n",
              "8690     9279_01      Earth     False  G/1500/S    TRAPPIST-1e 26.000  False   \n",
              "8691     9280_01     Europa     False   E/608/S    55 Cancri e 32.000  False   \n",
              "8692     9280_02     Europa     False   E/608/S    TRAPPIST-1e 44.000  False   \n",
              "\n",
              "      RoomService  FoodCourt  ShoppingMall       Spa    VRDeck  \\\n",
              "0           0.000      0.000         0.000     0.000     0.000   \n",
              "1         109.000      9.000        25.000   549.000    44.000   \n",
              "2          43.000  3,576.000         0.000 6,715.000    49.000   \n",
              "3           0.000  1,283.000       371.000 3,329.000   193.000   \n",
              "4         303.000     70.000       151.000   565.000     2.000   \n",
              "...           ...        ...           ...       ...       ...   \n",
              "8688        0.000  6,819.000         0.000 1,643.000    74.000   \n",
              "8689        0.000      0.000         0.000     0.000     0.000   \n",
              "8690        0.000      0.000     1,872.000     1.000     0.000   \n",
              "8691        0.000  1,049.000         0.000   353.000 3,235.000   \n",
              "8692      126.000  4,688.000         0.000     0.000    12.000   \n",
              "\n",
              "                   Name  Transported  \n",
              "0       Maham Ofracculy        False  \n",
              "1          Juanna Vines         True  \n",
              "2         Altark Susent        False  \n",
              "3          Solam Susent        False  \n",
              "4     Willy Santantines         True  \n",
              "...                 ...          ...  \n",
              "8688  Gravior Noxnuther        False  \n",
              "8689    Kurta Mondalley        False  \n",
              "8690       Fayey Connon         True  \n",
              "8691   Celeon Hontichre        False  \n",
              "8692   Propsh Hontichre         True  \n",
              "\n",
              "[8693 rows x 14 columns]"
            ],
            "text/html": [
              "\n",
              "  <div id=\"df-f544e43e-e814-46d2-ae7c-5798ab465328\">\n",
              "    <div class=\"colab-df-container\">\n",
              "      <div>\n",
              "<style scoped>\n",
              "    .dataframe tbody tr th:only-of-type {\n",
              "        vertical-align: middle;\n",
              "    }\n",
              "\n",
              "    .dataframe tbody tr th {\n",
              "        vertical-align: top;\n",
              "    }\n",
              "\n",
              "    .dataframe thead th {\n",
              "        text-align: right;\n",
              "    }\n",
              "</style>\n",
              "<table border=\"1\" class=\"dataframe\">\n",
              "  <thead>\n",
              "    <tr style=\"text-align: right;\">\n",
              "      <th></th>\n",
              "      <th>PassengerId</th>\n",
              "      <th>HomePlanet</th>\n",
              "      <th>CryoSleep</th>\n",
              "      <th>Cabin</th>\n",
              "      <th>Destination</th>\n",
              "      <th>Age</th>\n",
              "      <th>VIP</th>\n",
              "      <th>RoomService</th>\n",
              "      <th>FoodCourt</th>\n",
              "      <th>ShoppingMall</th>\n",
              "      <th>Spa</th>\n",
              "      <th>VRDeck</th>\n",
              "      <th>Name</th>\n",
              "      <th>Transported</th>\n",
              "    </tr>\n",
              "  </thead>\n",
              "  <tbody>\n",
              "    <tr>\n",
              "      <th>0</th>\n",
              "      <td>0001_01</td>\n",
              "      <td>Europa</td>\n",
              "      <td>False</td>\n",
              "      <td>B/0/P</td>\n",
              "      <td>TRAPPIST-1e</td>\n",
              "      <td>39.000</td>\n",
              "      <td>False</td>\n",
              "      <td>0.000</td>\n",
              "      <td>0.000</td>\n",
              "      <td>0.000</td>\n",
              "      <td>0.000</td>\n",
              "      <td>0.000</td>\n",
              "      <td>Maham Ofracculy</td>\n",
              "      <td>False</td>\n",
              "    </tr>\n",
              "    <tr>\n",
              "      <th>1</th>\n",
              "      <td>0002_01</td>\n",
              "      <td>Earth</td>\n",
              "      <td>False</td>\n",
              "      <td>F/0/S</td>\n",
              "      <td>TRAPPIST-1e</td>\n",
              "      <td>24.000</td>\n",
              "      <td>False</td>\n",
              "      <td>109.000</td>\n",
              "      <td>9.000</td>\n",
              "      <td>25.000</td>\n",
              "      <td>549.000</td>\n",
              "      <td>44.000</td>\n",
              "      <td>Juanna Vines</td>\n",
              "      <td>True</td>\n",
              "    </tr>\n",
              "    <tr>\n",
              "      <th>2</th>\n",
              "      <td>0003_01</td>\n",
              "      <td>Europa</td>\n",
              "      <td>False</td>\n",
              "      <td>A/0/S</td>\n",
              "      <td>TRAPPIST-1e</td>\n",
              "      <td>58.000</td>\n",
              "      <td>True</td>\n",
              "      <td>43.000</td>\n",
              "      <td>3,576.000</td>\n",
              "      <td>0.000</td>\n",
              "      <td>6,715.000</td>\n",
              "      <td>49.000</td>\n",
              "      <td>Altark Susent</td>\n",
              "      <td>False</td>\n",
              "    </tr>\n",
              "    <tr>\n",
              "      <th>3</th>\n",
              "      <td>0003_02</td>\n",
              "      <td>Europa</td>\n",
              "      <td>False</td>\n",
              "      <td>A/0/S</td>\n",
              "      <td>TRAPPIST-1e</td>\n",
              "      <td>33.000</td>\n",
              "      <td>False</td>\n",
              "      <td>0.000</td>\n",
              "      <td>1,283.000</td>\n",
              "      <td>371.000</td>\n",
              "      <td>3,329.000</td>\n",
              "      <td>193.000</td>\n",
              "      <td>Solam Susent</td>\n",
              "      <td>False</td>\n",
              "    </tr>\n",
              "    <tr>\n",
              "      <th>4</th>\n",
              "      <td>0004_01</td>\n",
              "      <td>Earth</td>\n",
              "      <td>False</td>\n",
              "      <td>F/1/S</td>\n",
              "      <td>TRAPPIST-1e</td>\n",
              "      <td>16.000</td>\n",
              "      <td>False</td>\n",
              "      <td>303.000</td>\n",
              "      <td>70.000</td>\n",
              "      <td>151.000</td>\n",
              "      <td>565.000</td>\n",
              "      <td>2.000</td>\n",
              "      <td>Willy Santantines</td>\n",
              "      <td>True</td>\n",
              "    </tr>\n",
              "    <tr>\n",
              "      <th>...</th>\n",
              "      <td>...</td>\n",
              "      <td>...</td>\n",
              "      <td>...</td>\n",
              "      <td>...</td>\n",
              "      <td>...</td>\n",
              "      <td>...</td>\n",
              "      <td>...</td>\n",
              "      <td>...</td>\n",
              "      <td>...</td>\n",
              "      <td>...</td>\n",
              "      <td>...</td>\n",
              "      <td>...</td>\n",
              "      <td>...</td>\n",
              "      <td>...</td>\n",
              "    </tr>\n",
              "    <tr>\n",
              "      <th>8688</th>\n",
              "      <td>9276_01</td>\n",
              "      <td>Europa</td>\n",
              "      <td>False</td>\n",
              "      <td>A/98/P</td>\n",
              "      <td>55 Cancri e</td>\n",
              "      <td>41.000</td>\n",
              "      <td>True</td>\n",
              "      <td>0.000</td>\n",
              "      <td>6,819.000</td>\n",
              "      <td>0.000</td>\n",
              "      <td>1,643.000</td>\n",
              "      <td>74.000</td>\n",
              "      <td>Gravior Noxnuther</td>\n",
              "      <td>False</td>\n",
              "    </tr>\n",
              "    <tr>\n",
              "      <th>8689</th>\n",
              "      <td>9278_01</td>\n",
              "      <td>Earth</td>\n",
              "      <td>True</td>\n",
              "      <td>G/1499/S</td>\n",
              "      <td>PSO J318.5-22</td>\n",
              "      <td>18.000</td>\n",
              "      <td>False</td>\n",
              "      <td>0.000</td>\n",
              "      <td>0.000</td>\n",
              "      <td>0.000</td>\n",
              "      <td>0.000</td>\n",
              "      <td>0.000</td>\n",
              "      <td>Kurta Mondalley</td>\n",
              "      <td>False</td>\n",
              "    </tr>\n",
              "    <tr>\n",
              "      <th>8690</th>\n",
              "      <td>9279_01</td>\n",
              "      <td>Earth</td>\n",
              "      <td>False</td>\n",
              "      <td>G/1500/S</td>\n",
              "      <td>TRAPPIST-1e</td>\n",
              "      <td>26.000</td>\n",
              "      <td>False</td>\n",
              "      <td>0.000</td>\n",
              "      <td>0.000</td>\n",
              "      <td>1,872.000</td>\n",
              "      <td>1.000</td>\n",
              "      <td>0.000</td>\n",
              "      <td>Fayey Connon</td>\n",
              "      <td>True</td>\n",
              "    </tr>\n",
              "    <tr>\n",
              "      <th>8691</th>\n",
              "      <td>9280_01</td>\n",
              "      <td>Europa</td>\n",
              "      <td>False</td>\n",
              "      <td>E/608/S</td>\n",
              "      <td>55 Cancri e</td>\n",
              "      <td>32.000</td>\n",
              "      <td>False</td>\n",
              "      <td>0.000</td>\n",
              "      <td>1,049.000</td>\n",
              "      <td>0.000</td>\n",
              "      <td>353.000</td>\n",
              "      <td>3,235.000</td>\n",
              "      <td>Celeon Hontichre</td>\n",
              "      <td>False</td>\n",
              "    </tr>\n",
              "    <tr>\n",
              "      <th>8692</th>\n",
              "      <td>9280_02</td>\n",
              "      <td>Europa</td>\n",
              "      <td>False</td>\n",
              "      <td>E/608/S</td>\n",
              "      <td>TRAPPIST-1e</td>\n",
              "      <td>44.000</td>\n",
              "      <td>False</td>\n",
              "      <td>126.000</td>\n",
              "      <td>4,688.000</td>\n",
              "      <td>0.000</td>\n",
              "      <td>0.000</td>\n",
              "      <td>12.000</td>\n",
              "      <td>Propsh Hontichre</td>\n",
              "      <td>True</td>\n",
              "    </tr>\n",
              "  </tbody>\n",
              "</table>\n",
              "<p>8693 rows × 14 columns</p>\n",
              "</div>\n",
              "      <button class=\"colab-df-convert\" onclick=\"convertToInteractive('df-f544e43e-e814-46d2-ae7c-5798ab465328')\"\n",
              "              title=\"Convert this dataframe to an interactive table.\"\n",
              "              style=\"display:none;\">\n",
              "        \n",
              "  <svg xmlns=\"http://www.w3.org/2000/svg\" height=\"24px\"viewBox=\"0 0 24 24\"\n",
              "       width=\"24px\">\n",
              "    <path d=\"M0 0h24v24H0V0z\" fill=\"none\"/>\n",
              "    <path d=\"M18.56 5.44l.94 2.06.94-2.06 2.06-.94-2.06-.94-.94-2.06-.94 2.06-2.06.94zm-11 1L8.5 8.5l.94-2.06 2.06-.94-2.06-.94L8.5 2.5l-.94 2.06-2.06.94zm10 10l.94 2.06.94-2.06 2.06-.94-2.06-.94-.94-2.06-.94 2.06-2.06.94z\"/><path d=\"M17.41 7.96l-1.37-1.37c-.4-.4-.92-.59-1.43-.59-.52 0-1.04.2-1.43.59L10.3 9.45l-7.72 7.72c-.78.78-.78 2.05 0 2.83L4 21.41c.39.39.9.59 1.41.59.51 0 1.02-.2 1.41-.59l7.78-7.78 2.81-2.81c.8-.78.8-2.07 0-2.86zM5.41 20L4 18.59l7.72-7.72 1.47 1.35L5.41 20z\"/>\n",
              "  </svg>\n",
              "      </button>\n",
              "      \n",
              "  <style>\n",
              "    .colab-df-container {\n",
              "      display:flex;\n",
              "      flex-wrap:wrap;\n",
              "      gap: 12px;\n",
              "    }\n",
              "\n",
              "    .colab-df-convert {\n",
              "      background-color: #E8F0FE;\n",
              "      border: none;\n",
              "      border-radius: 50%;\n",
              "      cursor: pointer;\n",
              "      display: none;\n",
              "      fill: #1967D2;\n",
              "      height: 32px;\n",
              "      padding: 0 0 0 0;\n",
              "      width: 32px;\n",
              "    }\n",
              "\n",
              "    .colab-df-convert:hover {\n",
              "      background-color: #E2EBFA;\n",
              "      box-shadow: 0px 1px 2px rgba(60, 64, 67, 0.3), 0px 1px 3px 1px rgba(60, 64, 67, 0.15);\n",
              "      fill: #174EA6;\n",
              "    }\n",
              "\n",
              "    [theme=dark] .colab-df-convert {\n",
              "      background-color: #3B4455;\n",
              "      fill: #D2E3FC;\n",
              "    }\n",
              "\n",
              "    [theme=dark] .colab-df-convert:hover {\n",
              "      background-color: #434B5C;\n",
              "      box-shadow: 0px 1px 3px 1px rgba(0, 0, 0, 0.15);\n",
              "      filter: drop-shadow(0px 1px 2px rgba(0, 0, 0, 0.3));\n",
              "      fill: #FFFFFF;\n",
              "    }\n",
              "  </style>\n",
              "\n",
              "      <script>\n",
              "        const buttonEl =\n",
              "          document.querySelector('#df-f544e43e-e814-46d2-ae7c-5798ab465328 button.colab-df-convert');\n",
              "        buttonEl.style.display =\n",
              "          google.colab.kernel.accessAllowed ? 'block' : 'none';\n",
              "\n",
              "        async function convertToInteractive(key) {\n",
              "          const element = document.querySelector('#df-f544e43e-e814-46d2-ae7c-5798ab465328');\n",
              "          const dataTable =\n",
              "            await google.colab.kernel.invokeFunction('convertToInteractive',\n",
              "                                                     [key], {});\n",
              "          if (!dataTable) return;\n",
              "\n",
              "          const docLinkHtml = 'Like what you see? Visit the ' +\n",
              "            '<a target=\"_blank\" href=https://colab.research.google.com/notebooks/data_table.ipynb>data table notebook</a>'\n",
              "            + ' to learn more about interactive tables.';\n",
              "          element.innerHTML = '';\n",
              "          dataTable['output_type'] = 'display_data';\n",
              "          await google.colab.output.renderOutput(dataTable, element);\n",
              "          const docLink = document.createElement('div');\n",
              "          docLink.innerHTML = docLinkHtml;\n",
              "          element.appendChild(docLink);\n",
              "        }\n",
              "      </script>\n",
              "    </div>\n",
              "  </div>\n",
              "  "
            ]
          },
          "metadata": {},
          "execution_count": 3
        }
      ]
    },
    {
      "cell_type": "code",
      "source": [
        "train.isnull().sum()"
      ],
      "metadata": {
        "colab": {
          "base_uri": "https://localhost:8080/"
        },
        "id": "ol9LFgMsP8sP",
        "outputId": "07f0616a-3a3a-4040-b1f6-6ff9fa0771e7"
      },
      "execution_count": null,
      "outputs": [
        {
          "output_type": "execute_result",
          "data": {
            "text/plain": [
              "PassengerId       0\n",
              "HomePlanet      201\n",
              "CryoSleep       217\n",
              "Cabin           199\n",
              "Destination     182\n",
              "Age             179\n",
              "VIP             203\n",
              "RoomService     181\n",
              "FoodCourt       183\n",
              "ShoppingMall    208\n",
              "Spa             183\n",
              "VRDeck          188\n",
              "Name            200\n",
              "Transported       0\n",
              "dtype: int64"
            ]
          },
          "metadata": {},
          "execution_count": 4
        }
      ]
    },
    {
      "cell_type": "markdown",
      "source": [
        "#Stacking and separating the testing and training data"
      ],
      "metadata": {
        "id": "qNqIkNZFd55k"
      }
    },
    {
      "cell_type": "code",
      "source": [
        "train['train_data'] = True\n",
        "test['train_data'] = False"
      ],
      "metadata": {
        "id": "5nglzcX6zKf0"
      },
      "execution_count": null,
      "outputs": []
    },
    {
      "cell_type": "code",
      "source": [
        "x = train.loc[:,train.columns != 'Transported'].copy()\n",
        "transported = train.loc[:,train.columns == 'Transported'].copy()"
      ],
      "metadata": {
        "id": "oA_7l4jrTPcS"
      },
      "execution_count": null,
      "outputs": []
    },
    {
      "cell_type": "code",
      "source": [
        "x = pd.concat([x, test], axis = 0)"
      ],
      "metadata": {
        "id": "w7NZ7UqiTceg"
      },
      "execution_count": null,
      "outputs": []
    },
    {
      "cell_type": "code",
      "source": [
        "x.isnull().sum()"
      ],
      "metadata": {
        "colab": {
          "base_uri": "https://localhost:8080/"
        },
        "id": "P9924PIqT9QQ",
        "outputId": "b7374b8f-5f19-48f3-bb26-210eb515b99c"
      },
      "execution_count": null,
      "outputs": [
        {
          "output_type": "execute_result",
          "data": {
            "text/plain": [
              "PassengerId       0\n",
              "HomePlanet      288\n",
              "CryoSleep       310\n",
              "Cabin           299\n",
              "Destination     274\n",
              "Age             270\n",
              "VIP             296\n",
              "RoomService     263\n",
              "FoodCourt       289\n",
              "ShoppingMall    306\n",
              "Spa             284\n",
              "VRDeck          268\n",
              "Name            294\n",
              "train_data        0\n",
              "dtype: int64"
            ]
          },
          "metadata": {},
          "execution_count": 8
        }
      ]
    },
    {
      "cell_type": "markdown",
      "source": [
        "## Ad hoc feature engineering: splitting up passenger ID and cabin columns"
      ],
      "metadata": {
        "id": "f9F10dAKU53X"
      }
    },
    {
      "cell_type": "code",
      "source": [
        "# Splitting up Passenger Id into Group and GroupSubId within group\n",
        "x[['GroupId', 'GroupSubId']] = x['PassengerId'].str.split('_', expand = True)"
      ],
      "metadata": {
        "id": "w_QSSlrsUF9x"
      },
      "execution_count": null,
      "outputs": []
    },
    {
      "cell_type": "code",
      "source": [
        "x[['Deck', 'Number', 'Side']] = x['Cabin'].str.split('/', expand = True)"
      ],
      "metadata": {
        "id": "Ac81fA4yWFnU"
      },
      "execution_count": null,
      "outputs": []
    },
    {
      "cell_type": "code",
      "source": [
        "x"
      ],
      "metadata": {
        "colab": {
          "base_uri": "https://localhost:8080/",
          "height": 424
        },
        "id": "v7npUdFHVbw6",
        "outputId": "2e470ee3-ddbd-4701-a242-44f3acad0d33"
      },
      "execution_count": null,
      "outputs": [
        {
          "output_type": "execute_result",
          "data": {
            "text/plain": [
              "     PassengerId HomePlanet CryoSleep     Cabin    Destination    Age    VIP  \\\n",
              "0        0001_01     Europa     False     B/0/P    TRAPPIST-1e 39.000  False   \n",
              "1        0002_01      Earth     False     F/0/S    TRAPPIST-1e 24.000  False   \n",
              "2        0003_01     Europa     False     A/0/S    TRAPPIST-1e 58.000   True   \n",
              "3        0003_02     Europa     False     A/0/S    TRAPPIST-1e 33.000  False   \n",
              "4        0004_01      Earth     False     F/1/S    TRAPPIST-1e 16.000  False   \n",
              "...          ...        ...       ...       ...            ...    ...    ...   \n",
              "4272     9266_02      Earth      True  G/1496/S    TRAPPIST-1e 34.000  False   \n",
              "4273     9269_01      Earth     False       NaN    TRAPPIST-1e 42.000  False   \n",
              "4274     9271_01       Mars      True   D/296/P    55 Cancri e    NaN  False   \n",
              "4275     9273_01     Europa     False   D/297/P            NaN    NaN  False   \n",
              "4276     9277_01      Earth      True  G/1498/S  PSO J318.5-22 43.000  False   \n",
              "\n",
              "      RoomService  FoodCourt  ShoppingMall       Spa  VRDeck  \\\n",
              "0           0.000      0.000         0.000     0.000   0.000   \n",
              "1         109.000      9.000        25.000   549.000  44.000   \n",
              "2          43.000  3,576.000         0.000 6,715.000  49.000   \n",
              "3           0.000  1,283.000       371.000 3,329.000 193.000   \n",
              "4         303.000     70.000       151.000   565.000   2.000   \n",
              "...           ...        ...           ...       ...     ...   \n",
              "4272        0.000      0.000         0.000     0.000   0.000   \n",
              "4273        0.000    847.000        17.000    10.000 144.000   \n",
              "4274        0.000      0.000         0.000     0.000   0.000   \n",
              "4275        0.000  2,680.000         0.000     0.000 523.000   \n",
              "4276        0.000      0.000         0.000     0.000   0.000   \n",
              "\n",
              "                   Name  train_data GroupId GroupSubId Deck Number Side  \n",
              "0       Maham Ofracculy        True    0001         01    B      0    P  \n",
              "1          Juanna Vines        True    0002         01    F      0    S  \n",
              "2         Altark Susent        True    0003         01    A      0    S  \n",
              "3          Solam Susent        True    0003         02    A      0    S  \n",
              "4     Willy Santantines        True    0004         01    F      1    S  \n",
              "...                 ...         ...     ...        ...  ...    ...  ...  \n",
              "4272        Jeron Peter       False    9266         02    G   1496    S  \n",
              "4273      Matty Scheron       False    9269         01  NaN    NaN  NaN  \n",
              "4274        Jayrin Pore       False    9271         01    D    296    P  \n",
              "4275     Kitakan Conale       False    9273         01    D    297    P  \n",
              "4276   Lilace Leonzaley       False    9277         01    G   1498    S  \n",
              "\n",
              "[12970 rows x 19 columns]"
            ],
            "text/html": [
              "\n",
              "  <div id=\"df-639842fc-01f2-48c4-8265-85e9e48df664\">\n",
              "    <div class=\"colab-df-container\">\n",
              "      <div>\n",
              "<style scoped>\n",
              "    .dataframe tbody tr th:only-of-type {\n",
              "        vertical-align: middle;\n",
              "    }\n",
              "\n",
              "    .dataframe tbody tr th {\n",
              "        vertical-align: top;\n",
              "    }\n",
              "\n",
              "    .dataframe thead th {\n",
              "        text-align: right;\n",
              "    }\n",
              "</style>\n",
              "<table border=\"1\" class=\"dataframe\">\n",
              "  <thead>\n",
              "    <tr style=\"text-align: right;\">\n",
              "      <th></th>\n",
              "      <th>PassengerId</th>\n",
              "      <th>HomePlanet</th>\n",
              "      <th>CryoSleep</th>\n",
              "      <th>Cabin</th>\n",
              "      <th>Destination</th>\n",
              "      <th>Age</th>\n",
              "      <th>VIP</th>\n",
              "      <th>RoomService</th>\n",
              "      <th>FoodCourt</th>\n",
              "      <th>ShoppingMall</th>\n",
              "      <th>Spa</th>\n",
              "      <th>VRDeck</th>\n",
              "      <th>Name</th>\n",
              "      <th>train_data</th>\n",
              "      <th>GroupId</th>\n",
              "      <th>GroupSubId</th>\n",
              "      <th>Deck</th>\n",
              "      <th>Number</th>\n",
              "      <th>Side</th>\n",
              "    </tr>\n",
              "  </thead>\n",
              "  <tbody>\n",
              "    <tr>\n",
              "      <th>0</th>\n",
              "      <td>0001_01</td>\n",
              "      <td>Europa</td>\n",
              "      <td>False</td>\n",
              "      <td>B/0/P</td>\n",
              "      <td>TRAPPIST-1e</td>\n",
              "      <td>39.000</td>\n",
              "      <td>False</td>\n",
              "      <td>0.000</td>\n",
              "      <td>0.000</td>\n",
              "      <td>0.000</td>\n",
              "      <td>0.000</td>\n",
              "      <td>0.000</td>\n",
              "      <td>Maham Ofracculy</td>\n",
              "      <td>True</td>\n",
              "      <td>0001</td>\n",
              "      <td>01</td>\n",
              "      <td>B</td>\n",
              "      <td>0</td>\n",
              "      <td>P</td>\n",
              "    </tr>\n",
              "    <tr>\n",
              "      <th>1</th>\n",
              "      <td>0002_01</td>\n",
              "      <td>Earth</td>\n",
              "      <td>False</td>\n",
              "      <td>F/0/S</td>\n",
              "      <td>TRAPPIST-1e</td>\n",
              "      <td>24.000</td>\n",
              "      <td>False</td>\n",
              "      <td>109.000</td>\n",
              "      <td>9.000</td>\n",
              "      <td>25.000</td>\n",
              "      <td>549.000</td>\n",
              "      <td>44.000</td>\n",
              "      <td>Juanna Vines</td>\n",
              "      <td>True</td>\n",
              "      <td>0002</td>\n",
              "      <td>01</td>\n",
              "      <td>F</td>\n",
              "      <td>0</td>\n",
              "      <td>S</td>\n",
              "    </tr>\n",
              "    <tr>\n",
              "      <th>2</th>\n",
              "      <td>0003_01</td>\n",
              "      <td>Europa</td>\n",
              "      <td>False</td>\n",
              "      <td>A/0/S</td>\n",
              "      <td>TRAPPIST-1e</td>\n",
              "      <td>58.000</td>\n",
              "      <td>True</td>\n",
              "      <td>43.000</td>\n",
              "      <td>3,576.000</td>\n",
              "      <td>0.000</td>\n",
              "      <td>6,715.000</td>\n",
              "      <td>49.000</td>\n",
              "      <td>Altark Susent</td>\n",
              "      <td>True</td>\n",
              "      <td>0003</td>\n",
              "      <td>01</td>\n",
              "      <td>A</td>\n",
              "      <td>0</td>\n",
              "      <td>S</td>\n",
              "    </tr>\n",
              "    <tr>\n",
              "      <th>3</th>\n",
              "      <td>0003_02</td>\n",
              "      <td>Europa</td>\n",
              "      <td>False</td>\n",
              "      <td>A/0/S</td>\n",
              "      <td>TRAPPIST-1e</td>\n",
              "      <td>33.000</td>\n",
              "      <td>False</td>\n",
              "      <td>0.000</td>\n",
              "      <td>1,283.000</td>\n",
              "      <td>371.000</td>\n",
              "      <td>3,329.000</td>\n",
              "      <td>193.000</td>\n",
              "      <td>Solam Susent</td>\n",
              "      <td>True</td>\n",
              "      <td>0003</td>\n",
              "      <td>02</td>\n",
              "      <td>A</td>\n",
              "      <td>0</td>\n",
              "      <td>S</td>\n",
              "    </tr>\n",
              "    <tr>\n",
              "      <th>4</th>\n",
              "      <td>0004_01</td>\n",
              "      <td>Earth</td>\n",
              "      <td>False</td>\n",
              "      <td>F/1/S</td>\n",
              "      <td>TRAPPIST-1e</td>\n",
              "      <td>16.000</td>\n",
              "      <td>False</td>\n",
              "      <td>303.000</td>\n",
              "      <td>70.000</td>\n",
              "      <td>151.000</td>\n",
              "      <td>565.000</td>\n",
              "      <td>2.000</td>\n",
              "      <td>Willy Santantines</td>\n",
              "      <td>True</td>\n",
              "      <td>0004</td>\n",
              "      <td>01</td>\n",
              "      <td>F</td>\n",
              "      <td>1</td>\n",
              "      <td>S</td>\n",
              "    </tr>\n",
              "    <tr>\n",
              "      <th>...</th>\n",
              "      <td>...</td>\n",
              "      <td>...</td>\n",
              "      <td>...</td>\n",
              "      <td>...</td>\n",
              "      <td>...</td>\n",
              "      <td>...</td>\n",
              "      <td>...</td>\n",
              "      <td>...</td>\n",
              "      <td>...</td>\n",
              "      <td>...</td>\n",
              "      <td>...</td>\n",
              "      <td>...</td>\n",
              "      <td>...</td>\n",
              "      <td>...</td>\n",
              "      <td>...</td>\n",
              "      <td>...</td>\n",
              "      <td>...</td>\n",
              "      <td>...</td>\n",
              "      <td>...</td>\n",
              "    </tr>\n",
              "    <tr>\n",
              "      <th>4272</th>\n",
              "      <td>9266_02</td>\n",
              "      <td>Earth</td>\n",
              "      <td>True</td>\n",
              "      <td>G/1496/S</td>\n",
              "      <td>TRAPPIST-1e</td>\n",
              "      <td>34.000</td>\n",
              "      <td>False</td>\n",
              "      <td>0.000</td>\n",
              "      <td>0.000</td>\n",
              "      <td>0.000</td>\n",
              "      <td>0.000</td>\n",
              "      <td>0.000</td>\n",
              "      <td>Jeron Peter</td>\n",
              "      <td>False</td>\n",
              "      <td>9266</td>\n",
              "      <td>02</td>\n",
              "      <td>G</td>\n",
              "      <td>1496</td>\n",
              "      <td>S</td>\n",
              "    </tr>\n",
              "    <tr>\n",
              "      <th>4273</th>\n",
              "      <td>9269_01</td>\n",
              "      <td>Earth</td>\n",
              "      <td>False</td>\n",
              "      <td>NaN</td>\n",
              "      <td>TRAPPIST-1e</td>\n",
              "      <td>42.000</td>\n",
              "      <td>False</td>\n",
              "      <td>0.000</td>\n",
              "      <td>847.000</td>\n",
              "      <td>17.000</td>\n",
              "      <td>10.000</td>\n",
              "      <td>144.000</td>\n",
              "      <td>Matty Scheron</td>\n",
              "      <td>False</td>\n",
              "      <td>9269</td>\n",
              "      <td>01</td>\n",
              "      <td>NaN</td>\n",
              "      <td>NaN</td>\n",
              "      <td>NaN</td>\n",
              "    </tr>\n",
              "    <tr>\n",
              "      <th>4274</th>\n",
              "      <td>9271_01</td>\n",
              "      <td>Mars</td>\n",
              "      <td>True</td>\n",
              "      <td>D/296/P</td>\n",
              "      <td>55 Cancri e</td>\n",
              "      <td>NaN</td>\n",
              "      <td>False</td>\n",
              "      <td>0.000</td>\n",
              "      <td>0.000</td>\n",
              "      <td>0.000</td>\n",
              "      <td>0.000</td>\n",
              "      <td>0.000</td>\n",
              "      <td>Jayrin Pore</td>\n",
              "      <td>False</td>\n",
              "      <td>9271</td>\n",
              "      <td>01</td>\n",
              "      <td>D</td>\n",
              "      <td>296</td>\n",
              "      <td>P</td>\n",
              "    </tr>\n",
              "    <tr>\n",
              "      <th>4275</th>\n",
              "      <td>9273_01</td>\n",
              "      <td>Europa</td>\n",
              "      <td>False</td>\n",
              "      <td>D/297/P</td>\n",
              "      <td>NaN</td>\n",
              "      <td>NaN</td>\n",
              "      <td>False</td>\n",
              "      <td>0.000</td>\n",
              "      <td>2,680.000</td>\n",
              "      <td>0.000</td>\n",
              "      <td>0.000</td>\n",
              "      <td>523.000</td>\n",
              "      <td>Kitakan Conale</td>\n",
              "      <td>False</td>\n",
              "      <td>9273</td>\n",
              "      <td>01</td>\n",
              "      <td>D</td>\n",
              "      <td>297</td>\n",
              "      <td>P</td>\n",
              "    </tr>\n",
              "    <tr>\n",
              "      <th>4276</th>\n",
              "      <td>9277_01</td>\n",
              "      <td>Earth</td>\n",
              "      <td>True</td>\n",
              "      <td>G/1498/S</td>\n",
              "      <td>PSO J318.5-22</td>\n",
              "      <td>43.000</td>\n",
              "      <td>False</td>\n",
              "      <td>0.000</td>\n",
              "      <td>0.000</td>\n",
              "      <td>0.000</td>\n",
              "      <td>0.000</td>\n",
              "      <td>0.000</td>\n",
              "      <td>Lilace Leonzaley</td>\n",
              "      <td>False</td>\n",
              "      <td>9277</td>\n",
              "      <td>01</td>\n",
              "      <td>G</td>\n",
              "      <td>1498</td>\n",
              "      <td>S</td>\n",
              "    </tr>\n",
              "  </tbody>\n",
              "</table>\n",
              "<p>12970 rows × 19 columns</p>\n",
              "</div>\n",
              "      <button class=\"colab-df-convert\" onclick=\"convertToInteractive('df-639842fc-01f2-48c4-8265-85e9e48df664')\"\n",
              "              title=\"Convert this dataframe to an interactive table.\"\n",
              "              style=\"display:none;\">\n",
              "        \n",
              "  <svg xmlns=\"http://www.w3.org/2000/svg\" height=\"24px\"viewBox=\"0 0 24 24\"\n",
              "       width=\"24px\">\n",
              "    <path d=\"M0 0h24v24H0V0z\" fill=\"none\"/>\n",
              "    <path d=\"M18.56 5.44l.94 2.06.94-2.06 2.06-.94-2.06-.94-.94-2.06-.94 2.06-2.06.94zm-11 1L8.5 8.5l.94-2.06 2.06-.94-2.06-.94L8.5 2.5l-.94 2.06-2.06.94zm10 10l.94 2.06.94-2.06 2.06-.94-2.06-.94-.94-2.06-.94 2.06-2.06.94z\"/><path d=\"M17.41 7.96l-1.37-1.37c-.4-.4-.92-.59-1.43-.59-.52 0-1.04.2-1.43.59L10.3 9.45l-7.72 7.72c-.78.78-.78 2.05 0 2.83L4 21.41c.39.39.9.59 1.41.59.51 0 1.02-.2 1.41-.59l7.78-7.78 2.81-2.81c.8-.78.8-2.07 0-2.86zM5.41 20L4 18.59l7.72-7.72 1.47 1.35L5.41 20z\"/>\n",
              "  </svg>\n",
              "      </button>\n",
              "      \n",
              "  <style>\n",
              "    .colab-df-container {\n",
              "      display:flex;\n",
              "      flex-wrap:wrap;\n",
              "      gap: 12px;\n",
              "    }\n",
              "\n",
              "    .colab-df-convert {\n",
              "      background-color: #E8F0FE;\n",
              "      border: none;\n",
              "      border-radius: 50%;\n",
              "      cursor: pointer;\n",
              "      display: none;\n",
              "      fill: #1967D2;\n",
              "      height: 32px;\n",
              "      padding: 0 0 0 0;\n",
              "      width: 32px;\n",
              "    }\n",
              "\n",
              "    .colab-df-convert:hover {\n",
              "      background-color: #E2EBFA;\n",
              "      box-shadow: 0px 1px 2px rgba(60, 64, 67, 0.3), 0px 1px 3px 1px rgba(60, 64, 67, 0.15);\n",
              "      fill: #174EA6;\n",
              "    }\n",
              "\n",
              "    [theme=dark] .colab-df-convert {\n",
              "      background-color: #3B4455;\n",
              "      fill: #D2E3FC;\n",
              "    }\n",
              "\n",
              "    [theme=dark] .colab-df-convert:hover {\n",
              "      background-color: #434B5C;\n",
              "      box-shadow: 0px 1px 3px 1px rgba(0, 0, 0, 0.15);\n",
              "      filter: drop-shadow(0px 1px 2px rgba(0, 0, 0, 0.3));\n",
              "      fill: #FFFFFF;\n",
              "    }\n",
              "  </style>\n",
              "\n",
              "      <script>\n",
              "        const buttonEl =\n",
              "          document.querySelector('#df-639842fc-01f2-48c4-8265-85e9e48df664 button.colab-df-convert');\n",
              "        buttonEl.style.display =\n",
              "          google.colab.kernel.accessAllowed ? 'block' : 'none';\n",
              "\n",
              "        async function convertToInteractive(key) {\n",
              "          const element = document.querySelector('#df-639842fc-01f2-48c4-8265-85e9e48df664');\n",
              "          const dataTable =\n",
              "            await google.colab.kernel.invokeFunction('convertToInteractive',\n",
              "                                                     [key], {});\n",
              "          if (!dataTable) return;\n",
              "\n",
              "          const docLinkHtml = 'Like what you see? Visit the ' +\n",
              "            '<a target=\"_blank\" href=https://colab.research.google.com/notebooks/data_table.ipynb>data table notebook</a>'\n",
              "            + ' to learn more about interactive tables.';\n",
              "          element.innerHTML = '';\n",
              "          dataTable['output_type'] = 'display_data';\n",
              "          await google.colab.output.renderOutput(dataTable, element);\n",
              "          const docLink = document.createElement('div');\n",
              "          docLink.innerHTML = docLinkHtml;\n",
              "          element.appendChild(docLink);\n",
              "        }\n",
              "      </script>\n",
              "    </div>\n",
              "  </div>\n",
              "  "
            ]
          },
          "metadata": {},
          "execution_count": 11
        }
      ]
    },
    {
      "cell_type": "markdown",
      "source": [
        "# Clean up"
      ],
      "metadata": {
        "id": "YVjbFNVCc4X4"
      }
    },
    {
      "cell_type": "markdown",
      "source": [
        "## Filling in nulls\n",
        "Ideas\n",
        "* Same ID group, would have the same Cabin and home planet"
      ],
      "metadata": {
        "id": "IZ-McUuqRbR-"
      }
    },
    {
      "cell_type": "code",
      "source": [
        "x.groupby('Destination')['HomePlanet'].value_counts(normalize=True)"
      ],
      "metadata": {
        "colab": {
          "base_uri": "https://localhost:8080/"
        },
        "id": "RR0zpHMuRavO",
        "outputId": "4341dbf5-dd50-4df9-d979-1ccb8d93d909"
      },
      "execution_count": null,
      "outputs": [
        {
          "output_type": "execute_result",
          "data": {
            "text/plain": [
              "Destination    HomePlanet\n",
              "55 Cancri e    Europa       0.506\n",
              "               Earth        0.380\n",
              "               Mars         0.114\n",
              "PSO J318.5-22  Earth        0.917\n",
              "               Mars         0.058\n",
              "               Europa       0.025\n",
              "TRAPPIST-1e    Earth        0.539\n",
              "               Mars         0.260\n",
              "               Europa       0.200\n",
              "Name: HomePlanet, dtype: float64"
            ]
          },
          "metadata": {},
          "execution_count": 12
        }
      ]
    },
    {
      "cell_type": "code",
      "source": [
        "# Fill Home Planet nulls: 55 Chancri is Europa, Earth for others\n",
        "x.HomePlanet.fillna(x.Destination, inplace=True)"
      ],
      "metadata": {
        "id": "pEZz8h79aFID"
      },
      "execution_count": null,
      "outputs": []
    },
    {
      "cell_type": "code",
      "source": [
        "x.HomePlanet.value_counts()"
      ],
      "metadata": {
        "colab": {
          "base_uri": "https://localhost:8080/"
        },
        "id": "OMYen05rbIiM",
        "outputId": "8e1f192b-cfb6-4546-acc4-eba9a0564cc2"
      },
      "execution_count": null,
      "outputs": [
        {
          "output_type": "execute_result",
          "data": {
            "text/plain": [
              "Earth            6865\n",
              "Europa           3133\n",
              "Mars             2684\n",
              "TRAPPIST-1e       206\n",
              "55 Cancri e        53\n",
              "PSO J318.5-22      23\n",
              "Name: HomePlanet, dtype: int64"
            ]
          },
          "metadata": {},
          "execution_count": 14
        }
      ]
    },
    {
      "cell_type": "code",
      "source": [
        "x.HomePlanet.isnull().sum()"
      ],
      "metadata": {
        "colab": {
          "base_uri": "https://localhost:8080/"
        },
        "id": "Tthd817zb7i-",
        "outputId": "80fb8d5f-de83-4134-dbef-7aada386aff6"
      },
      "execution_count": null,
      "outputs": [
        {
          "output_type": "execute_result",
          "data": {
            "text/plain": [
              "6"
            ]
          },
          "metadata": {},
          "execution_count": 15
        }
      ]
    },
    {
      "cell_type": "code",
      "source": [
        "x.HomePlanet = x['HomePlanet'].apply(lambda x: 'Europa' if x == '55 Cancri e' else ('Earth' if x == 'PSO J318.5-22' else ('Earth' if x == 'TRAPPIST-1e' else x)))"
      ],
      "metadata": {
        "id": "4SIXO3Hsatjy"
      },
      "execution_count": null,
      "outputs": []
    },
    {
      "cell_type": "code",
      "source": [
        "x.HomePlanet.value_counts()"
      ],
      "metadata": {
        "colab": {
          "base_uri": "https://localhost:8080/"
        },
        "id": "EdwzTv-Na67g",
        "outputId": "62ace9ee-ced8-4d7b-80e9-aaa8c6cb6e86"
      },
      "execution_count": null,
      "outputs": [
        {
          "output_type": "execute_result",
          "data": {
            "text/plain": [
              "Earth     7094\n",
              "Europa    3186\n",
              "Mars      2684\n",
              "Name: HomePlanet, dtype: int64"
            ]
          },
          "metadata": {},
          "execution_count": 17
        }
      ]
    },
    {
      "cell_type": "code",
      "source": [
        "x.HomePlanet.fillna('Earth',inplace=True)"
      ],
      "metadata": {
        "id": "L7X5rK29cD7L"
      },
      "execution_count": null,
      "outputs": []
    },
    {
      "cell_type": "code",
      "source": [
        "x.CryoSleep.value_counts()"
      ],
      "metadata": {
        "colab": {
          "base_uri": "https://localhost:8080/"
        },
        "id": "7z02k_EtcJTh",
        "outputId": "c56bd6b0-9e45-4db8-c478-9667278f6fda"
      },
      "execution_count": null,
      "outputs": [
        {
          "output_type": "execute_result",
          "data": {
            "text/plain": [
              "False    8079\n",
              "True     4581\n",
              "Name: CryoSleep, dtype: int64"
            ]
          },
          "metadata": {},
          "execution_count": 19
        }
      ]
    },
    {
      "cell_type": "code",
      "source": [
        "x.CryoSleep.isna().sum()"
      ],
      "metadata": {
        "colab": {
          "base_uri": "https://localhost:8080/"
        },
        "id": "wciE5UbwcM33",
        "outputId": "b6fd39d0-3834-4086-8803-95bf006a4376"
      },
      "execution_count": null,
      "outputs": [
        {
          "output_type": "execute_result",
          "data": {
            "text/plain": [
              "310"
            ]
          },
          "metadata": {},
          "execution_count": 20
        }
      ]
    },
    {
      "cell_type": "code",
      "source": [
        "x.CryoSleep.fillna(x.CryoSleep.mode()[0], inplace=True)"
      ],
      "metadata": {
        "id": "hcQTXccVca4s"
      },
      "execution_count": null,
      "outputs": []
    },
    {
      "cell_type": "code",
      "source": [
        "# Drop cabin, and then fill in the modes for Deck, Number and Side\n",
        "x.drop(columns = 'Cabin', inplace=True)\n",
        "x.Deck.fillna(x.Deck.mode()[0], inplace=True)\n",
        "x.Number.fillna(x.Number.mode()[0], inplace=True)\n",
        "x.Side.fillna(x.Side.mode()[0], inplace=True)"
      ],
      "metadata": {
        "id": "FIDNUvCeeoH9"
      },
      "execution_count": null,
      "outputs": []
    },
    {
      "cell_type": "code",
      "source": [
        "# Destination, fill with mode\n",
        "x.Destination.fillna(x.Destination.mode()[0], inplace=True)"
      ],
      "metadata": {
        "id": "1P4H6gf9hBm9"
      },
      "execution_count": null,
      "outputs": []
    },
    {
      "cell_type": "code",
      "source": [
        "# VIP fill with mode\n",
        "x.VIP.fillna(x.VIP.mode()[0], inplace=True)"
      ],
      "metadata": {
        "id": "cATVU_nhhNmo"
      },
      "execution_count": null,
      "outputs": []
    },
    {
      "cell_type": "code",
      "source": [
        "x.Age.hist()"
      ],
      "metadata": {
        "colab": {
          "base_uri": "https://localhost:8080/",
          "height": 282
        },
        "id": "qq8Y2LBehVE0",
        "outputId": "768d8fef-e39e-4619-96c2-0bd4a1f1e746"
      },
      "execution_count": null,
      "outputs": [
        {
          "output_type": "execute_result",
          "data": {
            "text/plain": [
              "<matplotlib.axes._subplots.AxesSubplot at 0x7f95f8b2b810>"
            ]
          },
          "metadata": {},
          "execution_count": 25
        },
        {
          "output_type": "display_data",
          "data": {
            "text/plain": [
              "<Figure size 432x288 with 1 Axes>"
            ],
            "image/png": "[encoded data removed]"
          },
          "metadata": {
            "needs_background": "light"
          }
        }
      ]
    },
    {
      "cell_type": "code",
      "source": [
        "x.Age.fillna(x.Age.median(), inplace=True)"
      ],
      "metadata": {
        "id": "vBR0WbzQhnn1"
      },
      "execution_count": null,
      "outputs": []
    },
    {
      "cell_type": "code",
      "source": [
        "x.fillna(method = 'bfill', inplace=True)"
      ],
      "metadata": {
        "id": "3Knzzn3rkarX"
      },
      "execution_count": null,
      "outputs": []
    },
    {
      "cell_type": "markdown",
      "source": [
        "# Feature Engineering\n",
        "* Break up the cabin into deck, number, and side\n",
        "* ID can be broken up into group and ID"
      ],
      "metadata": {
        "id": "S2oqGd_-c9VF"
      }
    },
    {
      "cell_type": "code",
      "source": [
        "x.info()"
      ],
      "metadata": {
        "colab": {
          "base_uri": "https://localhost:8080/"
        },
        "id": "XngQD8l0kuGp",
        "outputId": "70e2f06d-a2e0-4546-ccae-85ad34548c0e"
      },
      "execution_count": null,
      "outputs": [
        {
          "output_type": "stream",
          "name": "stdout",
          "text": [
            "<class 'pandas.core.frame.DataFrame'>\n",
            "Int64Index: 12970 entries, 0 to 4276\n",
            "Data columns (total 18 columns):\n",
            " #   Column        Non-Null Count  Dtype  \n",
            "---  ------        --------------  -----  \n",
            " 0   PassengerId   12970 non-null  object \n",
            " 1   HomePlanet    12970 non-null  object \n",
            " 2   CryoSleep     12970 non-null  bool   \n",
            " 3   Destination   12970 non-null  object \n",
            " 4   Age           12970 non-null  float64\n",
            " 5   VIP           12970 non-null  bool   \n",
            " 6   RoomService   12970 non-null  float64\n",
            " 7   FoodCourt     12970 non-null  float64\n",
            " 8   ShoppingMall  12970 non-null  float64\n",
            " 9   Spa           12970 non-null  float64\n",
            " 10  VRDeck        12970 non-null  float64\n",
            " 11  Name          12970 non-null  object \n",
            " 12  train_data    12970 non-null  bool   \n",
            " 13  GroupId       12970 non-null  object \n",
            " 14  GroupSubId    12970 non-null  object \n",
            " 15  Deck          12970 non-null  object \n",
            " 16  Number        12970 non-null  object \n",
            " 17  Side          12970 non-null  object \n",
            "dtypes: bool(3), float64(6), object(9)\n",
            "memory usage: 1.6+ MB\n"
          ]
        }
      ]
    },
    {
      "cell_type": "code",
      "source": [
        "# Create a total spend colum\n",
        "x['TotalSpend'] = x['RoomService'] + x['FoodCourt'] + x['ShoppingMall'] + x['ShoppingMall'] + x['Spa'] + x['VRDeck']"
      ],
      "metadata": {
        "id": "MZ9LenC0lIcT"
      },
      "execution_count": null,
      "outputs": []
    },
    {
      "cell_type": "code",
      "source": [
        "# Boolean for if they spent ANY money\n",
        "x['SpentMoney'] = x['TotalSpend']\n",
        "x['SpentMoney'] = x['SpentMoney'].apply(lambda x: 1 if x > 0 else 0)\n",
        "x['SpentMoney'] = x['SpentMoney'].astype('boolean')"
      ],
      "metadata": {
        "id": "nK6ojnRWlfs8"
      },
      "execution_count": null,
      "outputs": []
    },
    {
      "cell_type": "code",
      "source": [
        "# Create a column for the travel corridor\n",
        "x['TravelCorridor'] = x['HomePlanet']+\" / \" + x['Destination']"
      ],
      "metadata": {
        "id": "j4Rp89aPmDq8"
      },
      "execution_count": null,
      "outputs": []
    },
    {
      "cell_type": "code",
      "source": [
        "# Create a column showing if someone is an adult at age 18\n",
        "cutoff = 18\n",
        "x['Adult'] = x['Age']\n",
        "x['Adult'] = x['Adult'].apply(lambda x: 1 if x >= 18 else 0)\n",
        "x['Adult'] = x['Adult'].astype('boolean')"
      ],
      "metadata": {
        "id": "QnPECQKgnN-_"
      },
      "execution_count": null,
      "outputs": []
    },
    {
      "cell_type": "code",
      "source": [
        "#group_size = x.groupby('GroupId')['GroupSubId'].max()"
      ],
      "metadata": {
        "id": "ZOCYUH59oje4"
      },
      "execution_count": null,
      "outputs": []
    },
    {
      "cell_type": "code",
      "source": [
        "#group_size"
      ],
      "metadata": {
        "id": "UayTdfJipsAK"
      },
      "execution_count": null,
      "outputs": []
    },
    {
      "cell_type": "markdown",
      "source": [
        "## Dropping some columns"
      ],
      "metadata": {
        "id": "ZuT9mlOEobp5"
      }
    },
    {
      "cell_type": "code",
      "source": [
        "# drop GroupId and GroupSubId until I figure out how to utilize them\n",
        "x.drop(columns = ['GroupId', 'GroupSubId'], inplace=True)"
      ],
      "metadata": {
        "id": "BWReMyzoocfB"
      },
      "execution_count": null,
      "outputs": []
    },
    {
      "cell_type": "code",
      "source": [
        "# Drop Passenger Id\n",
        "x.drop(columns = ['PassengerId'], inplace=True)"
      ],
      "metadata": {
        "id": "4IW5oz3-sh63"
      },
      "execution_count": null,
      "outputs": []
    },
    {
      "cell_type": "code",
      "source": [
        "# Drop name\n",
        "x.drop(columns = ['Name'], inplace=True)"
      ],
      "metadata": {
        "id": "ZOZP_EpAsqdh"
      },
      "execution_count": null,
      "outputs": []
    },
    {
      "cell_type": "code",
      "source": [
        "# drop Number since that's the cabin number\n",
        "x.drop(columns = ['Number'], inplace=True)"
      ],
      "metadata": {
        "id": "WqrZtqZlsu1E"
      },
      "execution_count": null,
      "outputs": []
    },
    {
      "cell_type": "markdown",
      "source": [
        "# Preprocessing"
      ],
      "metadata": {
        "id": "xLobop3EdAuB"
      }
    },
    {
      "cell_type": "markdown",
      "source": [
        "## Transforming"
      ],
      "metadata": {
        "id": "XmHQjUz8nzcI"
      }
    },
    {
      "cell_type": "code",
      "source": [
        "x.skew()"
      ],
      "metadata": {
        "colab": {
          "base_uri": "https://localhost:8080/"
        },
        "id": "T82fsK6Pnyr6",
        "outputId": "3536bc55-8d59-4924-caed-abe88ae2e6a2"
      },
      "execution_count": null,
      "outputs": [
        {
          "output_type": "stream",
          "name": "stderr",
          "text": [
            "/usr/local/lib/python3.7/dist-packages/ipykernel_launcher.py:1: FutureWarning: Dropping of nuisance columns in DataFrame reductions (with 'numeric_only=None') is deprecated; in a future version this will raise TypeError.  Select only valid columns before calling the reduction.\n",
            "  \"\"\"Entry point for launching an IPython kernel.\n"
          ]
        },
        {
          "output_type": "execute_result",
          "data": {
            "text/plain": [
              "CryoSleep       0.614\n",
              "Age             0.452\n",
              "VIP             6.674\n",
              "RoomService     6.092\n",
              "FoodCourt       7.011\n",
              "ShoppingMall   11.000\n",
              "Spa             7.618\n",
              "VRDeck          8.037\n",
              "train_data     -0.724\n",
              "TotalSpend      4.361\n",
              "SpentMoney     -0.387\n",
              "Adult          -1.715\n",
              "dtype: float64"
            ]
          },
          "metadata": {},
          "execution_count": 39
        }
      ]
    },
    {
      "cell_type": "code",
      "source": [
        "# Transform RoomService, FoodCout, ShoppingMall, Spa, VRDeck, and TotalSpend, use YJ\n",
        "\n",
        "x['RoomService'] = list(stats.yeojohnson(x['RoomService'])[0])\n",
        "x['FoodCourt'] = list(stats.yeojohnson(x['FoodCourt'])[0])\n",
        "x['ShoppingMall'] = list(stats.yeojohnson(x['ShoppingMall'])[0])\n",
        "x['Spa'] = list(stats.yeojohnson(x['Spa'])[0])\n",
        "x['Spa'] = list(stats.yeojohnson(x['Spa'])[0])\n",
        "x['VRDeck'] = list(stats.yeojohnson(x['VRDeck'])[0])\n",
        "x['TotalSpend'] = list(stats.yeojohnson(x['TotalSpend'])[0])"
      ],
      "metadata": {
        "id": "LPnm0Rq6rdEI"
      },
      "execution_count": null,
      "outputs": []
    },
    {
      "cell_type": "markdown",
      "source": [
        "## Scaling"
      ],
      "metadata": {
        "id": "G7pb2IN1tBgR"
      }
    },
    {
      "cell_type": "code",
      "source": [
        "num_cols_to_scale = x.select_dtypes(exclude = ['object', 'bool']).columns.values.tolist()\n",
        "num_cols_to_scale"
      ],
      "metadata": {
        "colab": {
          "base_uri": "https://localhost:8080/"
        },
        "id": "UTaf6Pl5tCd2",
        "outputId": "b930a46f-8f20-4956-b2b1-5b89b66b53d6"
      },
      "execution_count": null,
      "outputs": [
        {
          "output_type": "execute_result",
          "data": {
            "text/plain": [
              "['Age',\n",
              " 'RoomService',\n",
              " 'FoodCourt',\n",
              " 'ShoppingMall',\n",
              " 'Spa',\n",
              " 'VRDeck',\n",
              " 'TotalSpend']"
            ]
          },
          "metadata": {},
          "execution_count": 41
        }
      ]
    },
    {
      "cell_type": "markdown",
      "source": [
        "### Robust Scaler"
      ],
      "metadata": {
        "id": "9PVYcIUhtIha"
      }
    },
    {
      "cell_type": "code",
      "source": [
        "robust_scaler = RobustScaler().fit(x[num_cols_to_scale])\n",
        "x[num_cols_to_scale] = robust_scaler.transform(x[num_cols_to_scale])"
      ],
      "metadata": {
        "id": "O8w8jyaEtPbO"
      },
      "execution_count": null,
      "outputs": []
    },
    {
      "cell_type": "markdown",
      "source": [
        "### Standard Scaler"
      ],
      "metadata": {
        "id": "mWYFC2MCtKIX"
      }
    },
    {
      "cell_type": "code",
      "source": [
        "# standard_scaler = StandardScaler().fit(x[num_cols_to_scale])\n",
        "# x[num_cols_to_scale] = standard_scaler.transform(x[num_cols_to_scale])"
      ],
      "metadata": {
        "id": "sQ_JEISntPrI"
      },
      "execution_count": null,
      "outputs": []
    },
    {
      "cell_type": "markdown",
      "source": [
        "### MinMax Scaler"
      ],
      "metadata": {
        "id": "QlgpkkvZtJut"
      }
    },
    {
      "cell_type": "code",
      "source": [
        "# minmax_scaler = MinMaxScaler().fit(x[num_cols_to_scale])\n",
        "# x[num_cols_to_scale] = minmax_scaler.transform(x[num_cols_to_scale])"
      ],
      "metadata": {
        "id": "4U2iFQWatGTU"
      },
      "execution_count": null,
      "outputs": []
    },
    {
      "cell_type": "markdown",
      "source": [
        "## Encoding"
      ],
      "metadata": {
        "id": "gNkVoVvttS9Q"
      }
    },
    {
      "cell_type": "code",
      "source": [
        "x = pd.get_dummies(x)"
      ],
      "metadata": {
        "id": "VJqCvFwltT38"
      },
      "execution_count": null,
      "outputs": []
    },
    {
      "cell_type": "code",
      "source": [
        "x"
      ],
      "metadata": {
        "colab": {
          "base_uri": "https://localhost:8080/",
          "height": 505
        },
        "id": "yalkDG0RtYc6",
        "outputId": "74955a65-039e-4e3f-dcb9-fe6927642cdb"
      },
      "execution_count": null,
      "outputs": [
        {
          "output_type": "execute_result",
          "data": {
            "text/plain": [
              "      CryoSleep    Age    VIP  RoomService  FoodCourt  ShoppingMall    Spa  \\\n",
              "0         False  0.706  False       -0.000     -0.000        -0.000 -0.000   \n",
              "1         False -0.176  False        1.066      0.722         0.982  1.031   \n",
              "2         False  1.824   True        0.987      1.176        -0.000  1.042   \n",
              "3         False  0.353  False       -0.000      1.150         1.175  1.040   \n",
              "4         False -0.647  False        1.123      0.990         1.135  1.031   \n",
              "...         ...    ...    ...          ...        ...           ...    ...   \n",
              "4272       True  0.412  False       -0.000     -0.000        -0.000 -0.000   \n",
              "4273      False  0.882  False       -0.000      1.137         0.931  0.933   \n",
              "4274       True  0.000  False       -0.000     -0.000        -0.000 -0.000   \n",
              "4275      False  0.000  False       -0.000      1.169        -0.000 -0.000   \n",
              "4276       True  0.941  False       -0.000     -0.000        -0.000 -0.000   \n",
              "\n",
              "      VRDeck  train_data  TotalSpend  ...  Side_S  \\\n",
              "0     -0.000        True      -0.857  ...       0   \n",
              "1      1.005        True      -0.005  ...       1   \n",
              "2      1.016        True       0.478  ...       1   \n",
              "3      1.118        True       0.352  ...       1   \n",
              "4      0.470        True       0.078  ...       1   \n",
              "...      ...         ...         ...  ...     ...   \n",
              "4272  -0.000       False      -0.857  ...       1   \n",
              "4273   1.100       False       0.046  ...       1   \n",
              "4274  -0.000       False      -0.857  ...       0   \n",
              "4275   1.162       False       0.248  ...       0   \n",
              "4276  -0.000       False      -0.857  ...       1   \n",
              "\n",
              "      TravelCorridor_Earth / 55 Cancri e  \\\n",
              "0                                      0   \n",
              "1                                      0   \n",
              "2                                      0   \n",
              "3                                      0   \n",
              "4                                      0   \n",
              "...                                  ...   \n",
              "4272                                   0   \n",
              "4273                                   0   \n",
              "4274                                   0   \n",
              "4275                                   0   \n",
              "4276                                   0   \n",
              "\n",
              "      TravelCorridor_Earth / PSO J318.5-22  \\\n",
              "0                                        0   \n",
              "1                                        0   \n",
              "2                                        0   \n",
              "3                                        0   \n",
              "4                                        0   \n",
              "...                                    ...   \n",
              "4272                                     0   \n",
              "4273                                     0   \n",
              "4274                                     0   \n",
              "4275                                     0   \n",
              "4276                                     1   \n",
              "\n",
              "      TravelCorridor_Earth / TRAPPIST-1e  TravelCorridor_Europa / 55 Cancri e  \\\n",
              "0                                      0                                    0   \n",
              "1                                      1                                    0   \n",
              "2                                      0                                    0   \n",
              "3                                      0                                    0   \n",
              "4                                      1                                    0   \n",
              "...                                  ...                                  ...   \n",
              "4272                                   1                                    0   \n",
              "4273                                   1                                    0   \n",
              "4274                                   0                                    0   \n",
              "4275                                   0                                    0   \n",
              "4276                                   0                                    0   \n",
              "\n",
              "      TravelCorridor_Europa / PSO J318.5-22  \\\n",
              "0                                         0   \n",
              "1                                         0   \n",
              "2                                         0   \n",
              "3                                         0   \n",
              "4                                         0   \n",
              "...                                     ...   \n",
              "4272                                      0   \n",
              "4273                                      0   \n",
              "4274                                      0   \n",
              "4275                                      0   \n",
              "4276                                      0   \n",
              "\n",
              "      TravelCorridor_Europa / TRAPPIST-1e  TravelCorridor_Mars / 55 Cancri e  \\\n",
              "0                                       1                                  0   \n",
              "1                                       0                                  0   \n",
              "2                                       1                                  0   \n",
              "3                                       1                                  0   \n",
              "4                                       0                                  0   \n",
              "...                                   ...                                ...   \n",
              "4272                                    0                                  0   \n",
              "4273                                    0                                  0   \n",
              "4274                                    0                                  1   \n",
              "4275                                    1                                  0   \n",
              "4276                                    0                                  0   \n",
              "\n",
              "      TravelCorridor_Mars / PSO J318.5-22  TravelCorridor_Mars / TRAPPIST-1e  \n",
              "0                                       0                                  0  \n",
              "1                                       0                                  0  \n",
              "2                                       0                                  0  \n",
              "3                                       0                                  0  \n",
              "4                                       0                                  0  \n",
              "...                                   ...                                ...  \n",
              "4272                                    0                                  0  \n",
              "4273                                    0                                  0  \n",
              "4274                                    0                                  0  \n",
              "4275                                    0                                  0  \n",
              "4276                                    0                                  0  \n",
              "\n",
              "[12970 rows x 37 columns]"
            ],
            "text/html": [
              "\n",
              "  <div id=\"df-435b8ad9-d326-470a-bd2e-256f01521815\">\n",
              "    <div class=\"colab-df-container\">\n",
              "      <div>\n",
              "<style scoped>\n",
              "    .dataframe tbody tr th:only-of-type {\n",
              "        vertical-align: middle;\n",
              "    }\n",
              "\n",
              "    .dataframe tbody tr th {\n",
              "        vertical-align: top;\n",
              "    }\n",
              "\n",
              "    .dataframe thead th {\n",
              "        text-align: right;\n",
              "    }\n",
              "</style>\n",
              "<table border=\"1\" class=\"dataframe\">\n",
              "  <thead>\n",
              "    <tr style=\"text-align: right;\">\n",
              "      <th></th>\n",
              "      <th>CryoSleep</th>\n",
              "      <th>Age</th>\n",
              "      <th>VIP</th>\n",
              "      <th>RoomService</th>\n",
              "      <th>FoodCourt</th>\n",
              "      <th>ShoppingMall</th>\n",
              "      <th>Spa</th>\n",
              "      <th>VRDeck</th>\n",
              "      <th>train_data</th>\n",
              "      <th>TotalSpend</th>\n",
              "      <th>...</th>\n",
              "      <th>Side_S</th>\n",
              "      <th>TravelCorridor_Earth / 55 Cancri e</th>\n",
              "      <th>TravelCorridor_Earth / PSO J318.5-22</th>\n",
              "      <th>TravelCorridor_Earth / TRAPPIST-1e</th>\n",
              "      <th>TravelCorridor_Europa / 55 Cancri e</th>\n",
              "      <th>TravelCorridor_Europa / PSO J318.5-22</th>\n",
              "      <th>TravelCorridor_Europa / TRAPPIST-1e</th>\n",
              "      <th>TravelCorridor_Mars / 55 Cancri e</th>\n",
              "      <th>TravelCorridor_Mars / PSO J318.5-22</th>\n",
              "      <th>TravelCorridor_Mars / TRAPPIST-1e</th>\n",
              "    </tr>\n",
              "  </thead>\n",
              "  <tbody>\n",
              "    <tr>\n",
              "      <th>0</th>\n",
              "      <td>False</td>\n",
              "      <td>0.706</td>\n",
              "      <td>False</td>\n",
              "      <td>-0.000</td>\n",
              "      <td>-0.000</td>\n",
              "      <td>-0.000</td>\n",
              "      <td>-0.000</td>\n",
              "      <td>-0.000</td>\n",
              "      <td>True</td>\n",
              "      <td>-0.857</td>\n",
              "      <td>...</td>\n",
              "      <td>0</td>\n",
              "      <td>0</td>\n",
              "      <td>0</td>\n",
              "      <td>0</td>\n",
              "      <td>0</td>\n",
              "      <td>0</td>\n",
              "      <td>1</td>\n",
              "      <td>0</td>\n",
              "      <td>0</td>\n",
              "      <td>0</td>\n",
              "    </tr>\n",
              "    <tr>\n",
              "      <th>1</th>\n",
              "      <td>False</td>\n",
              "      <td>-0.176</td>\n",
              "      <td>False</td>\n",
              "      <td>1.066</td>\n",
              "      <td>0.722</td>\n",
              "      <td>0.982</td>\n",
              "      <td>1.031</td>\n",
              "      <td>1.005</td>\n",
              "      <td>True</td>\n",
              "      <td>-0.005</td>\n",
              "      <td>...</td>\n",
              "      <td>1</td>\n",
              "      <td>0</td>\n",
              "      <td>0</td>\n",
              "      <td>1</td>\n",
              "      <td>0</td>\n",
              "      <td>0</td>\n",
              "      <td>0</td>\n",
              "      <td>0</td>\n",
              "      <td>0</td>\n",
              "      <td>0</td>\n",
              "    </tr>\n",
              "    <tr>\n",
              "      <th>2</th>\n",
              "      <td>False</td>\n",
              "      <td>1.824</td>\n",
              "      <td>True</td>\n",
              "      <td>0.987</td>\n",
              "      <td>1.176</td>\n",
              "      <td>-0.000</td>\n",
              "      <td>1.042</td>\n",
              "      <td>1.016</td>\n",
              "      <td>True</td>\n",
              "      <td>0.478</td>\n",
              "      <td>...</td>\n",
              "      <td>1</td>\n",
              "      <td>0</td>\n",
              "      <td>0</td>\n",
              "      <td>0</td>\n",
              "      <td>0</td>\n",
              "      <td>0</td>\n",
              "      <td>1</td>\n",
              "      <td>0</td>\n",
              "      <td>0</td>\n",
              "      <td>0</td>\n",
              "    </tr>\n",
              "    <tr>\n",
              "      <th>3</th>\n",
              "      <td>False</td>\n",
              "      <td>0.353</td>\n",
              "      <td>False</td>\n",
              "      <td>-0.000</td>\n",
              "      <td>1.150</td>\n",
              "      <td>1.175</td>\n",
              "      <td>1.040</td>\n",
              "      <td>1.118</td>\n",
              "      <td>True</td>\n",
              "      <td>0.352</td>\n",
              "      <td>...</td>\n",
              "      <td>1</td>\n",
              "      <td>0</td>\n",
              "      <td>0</td>\n",
              "      <td>0</td>\n",
              "      <td>0</td>\n",
              "      <td>0</td>\n",
              "      <td>1</td>\n",
              "      <td>0</td>\n",
              "      <td>0</td>\n",
              "      <td>0</td>\n",
              "    </tr>\n",
              "    <tr>\n",
              "      <th>4</th>\n",
              "      <td>False</td>\n",
              "      <td>-0.647</td>\n",
              "      <td>False</td>\n",
              "      <td>1.123</td>\n",
              "      <td>0.990</td>\n",
              "      <td>1.135</td>\n",
              "      <td>1.031</td>\n",
              "      <td>0.470</td>\n",
              "      <td>True</td>\n",
              "      <td>0.078</td>\n",
              "      <td>...</td>\n",
              "      <td>1</td>\n",
              "      <td>0</td>\n",
              "      <td>0</td>\n",
              "      <td>1</td>\n",
              "      <td>0</td>\n",
              "      <td>0</td>\n",
              "      <td>0</td>\n",
              "      <td>0</td>\n",
              "      <td>0</td>\n",
              "      <td>0</td>\n",
              "    </tr>\n",
              "    <tr>\n",
              "      <th>...</th>\n",
              "      <td>...</td>\n",
              "      <td>...</td>\n",
              "      <td>...</td>\n",
              "      <td>...</td>\n",
              "      <td>...</td>\n",
              "      <td>...</td>\n",
              "      <td>...</td>\n",
              "      <td>...</td>\n",
              "      <td>...</td>\n",
              "      <td>...</td>\n",
              "      <td>...</td>\n",
              "      <td>...</td>\n",
              "      <td>...</td>\n",
              "      <td>...</td>\n",
              "      <td>...</td>\n",
              "      <td>...</td>\n",
              "      <td>...</td>\n",
              "      <td>...</td>\n",
              "      <td>...</td>\n",
              "      <td>...</td>\n",
              "      <td>...</td>\n",
              "    </tr>\n",
              "    <tr>\n",
              "      <th>4272</th>\n",
              "      <td>True</td>\n",
              "      <td>0.412</td>\n",
              "      <td>False</td>\n",
              "      <td>-0.000</td>\n",
              "      <td>-0.000</td>\n",
              "      <td>-0.000</td>\n",
              "      <td>-0.000</td>\n",
              "      <td>-0.000</td>\n",
              "      <td>False</td>\n",
              "      <td>-0.857</td>\n",
              "      <td>...</td>\n",
              "      <td>1</td>\n",
              "      <td>0</td>\n",
              "      <td>0</td>\n",
              "      <td>1</td>\n",
              "      <td>0</td>\n",
              "      <td>0</td>\n",
              "      <td>0</td>\n",
              "      <td>0</td>\n",
              "      <td>0</td>\n",
              "      <td>0</td>\n",
              "    </tr>\n",
              "    <tr>\n",
              "      <th>4273</th>\n",
              "      <td>False</td>\n",
              "      <td>0.882</td>\n",
              "      <td>False</td>\n",
              "      <td>-0.000</td>\n",
              "      <td>1.137</td>\n",
              "      <td>0.931</td>\n",
              "      <td>0.933</td>\n",
              "      <td>1.100</td>\n",
              "      <td>False</td>\n",
              "      <td>0.046</td>\n",
              "      <td>...</td>\n",
              "      <td>1</td>\n",
              "      <td>0</td>\n",
              "      <td>0</td>\n",
              "      <td>1</td>\n",
              "      <td>0</td>\n",
              "      <td>0</td>\n",
              "      <td>0</td>\n",
              "      <td>0</td>\n",
              "      <td>0</td>\n",
              "      <td>0</td>\n",
              "    </tr>\n",
              "    <tr>\n",
              "      <th>4274</th>\n",
              "      <td>True</td>\n",
              "      <td>0.000</td>\n",
              "      <td>False</td>\n",
              "      <td>-0.000</td>\n",
              "      <td>-0.000</td>\n",
              "      <td>-0.000</td>\n",
              "      <td>-0.000</td>\n",
              "      <td>-0.000</td>\n",
              "      <td>False</td>\n",
              "      <td>-0.857</td>\n",
              "      <td>...</td>\n",
              "      <td>0</td>\n",
              "      <td>0</td>\n",
              "      <td>0</td>\n",
              "      <td>0</td>\n",
              "      <td>0</td>\n",
              "      <td>0</td>\n",
              "      <td>0</td>\n",
              "      <td>1</td>\n",
              "      <td>0</td>\n",
              "      <td>0</td>\n",
              "    </tr>\n",
              "    <tr>\n",
              "      <th>4275</th>\n",
              "      <td>False</td>\n",
              "      <td>0.000</td>\n",
              "      <td>False</td>\n",
              "      <td>-0.000</td>\n",
              "      <td>1.169</td>\n",
              "      <td>-0.000</td>\n",
              "      <td>-0.000</td>\n",
              "      <td>1.162</td>\n",
              "      <td>False</td>\n",
              "      <td>0.248</td>\n",
              "      <td>...</td>\n",
              "      <td>0</td>\n",
              "      <td>0</td>\n",
              "      <td>0</td>\n",
              "      <td>0</td>\n",
              "      <td>0</td>\n",
              "      <td>0</td>\n",
              "      <td>1</td>\n",
              "      <td>0</td>\n",
              "      <td>0</td>\n",
              "      <td>0</td>\n",
              "    </tr>\n",
              "    <tr>\n",
              "      <th>4276</th>\n",
              "      <td>True</td>\n",
              "      <td>0.941</td>\n",
              "      <td>False</td>\n",
              "      <td>-0.000</td>\n",
              "      <td>-0.000</td>\n",
              "      <td>-0.000</td>\n",
              "      <td>-0.000</td>\n",
              "      <td>-0.000</td>\n",
              "      <td>False</td>\n",
              "      <td>-0.857</td>\n",
              "      <td>...</td>\n",
              "      <td>1</td>\n",
              "      <td>0</td>\n",
              "      <td>1</td>\n",
              "      <td>0</td>\n",
              "      <td>0</td>\n",
              "      <td>0</td>\n",
              "      <td>0</td>\n",
              "      <td>0</td>\n",
              "      <td>0</td>\n",
              "      <td>0</td>\n",
              "    </tr>\n",
              "  </tbody>\n",
              "</table>\n",
              "<p>12970 rows × 37 columns</p>\n",
              "</div>\n",
              "      <button class=\"colab-df-convert\" onclick=\"convertToInteractive('df-435b8ad9-d326-470a-bd2e-256f01521815')\"\n",
              "              title=\"Convert this dataframe to an interactive table.\"\n",
              "              style=\"display:none;\">\n",
              "        \n",
              "  <svg xmlns=\"http://www.w3.org/2000/svg\" height=\"24px\"viewBox=\"0 0 24 24\"\n",
              "       width=\"24px\">\n",
              "    <path d=\"M0 0h24v24H0V0z\" fill=\"none\"/>\n",
              "    <path d=\"M18.56 5.44l.94 2.06.94-2.06 2.06-.94-2.06-.94-.94-2.06-.94 2.06-2.06.94zm-11 1L8.5 8.5l.94-2.06 2.06-.94-2.06-.94L8.5 2.5l-.94 2.06-2.06.94zm10 10l.94 2.06.94-2.06 2.06-.94-2.06-.94-.94-2.06-.94 2.06-2.06.94z\"/><path d=\"M17.41 7.96l-1.37-1.37c-.4-.4-.92-.59-1.43-.59-.52 0-1.04.2-1.43.59L10.3 9.45l-7.72 7.72c-.78.78-.78 2.05 0 2.83L4 21.41c.39.39.9.59 1.41.59.51 0 1.02-.2 1.41-.59l7.78-7.78 2.81-2.81c.8-.78.8-2.07 0-2.86zM5.41 20L4 18.59l7.72-7.72 1.47 1.35L5.41 20z\"/>\n",
              "  </svg>\n",
              "      </button>\n",
              "      \n",
              "  <style>\n",
              "    .colab-df-container {\n",
              "      display:flex;\n",
              "      flex-wrap:wrap;\n",
              "      gap: 12px;\n",
              "    }\n",
              "\n",
              "    .colab-df-convert {\n",
              "      background-color: #E8F0FE;\n",
              "      border: none;\n",
              "      border-radius: 50%;\n",
              "      cursor: pointer;\n",
              "      display: none;\n",
              "      fill: #1967D2;\n",
              "      height: 32px;\n",
              "      padding: 0 0 0 0;\n",
              "      width: 32px;\n",
              "    }\n",
              "\n",
              "    .colab-df-convert:hover {\n",
              "      background-color: #E2EBFA;\n",
              "      box-shadow: 0px 1px 2px rgba(60, 64, 67, 0.3), 0px 1px 3px 1px rgba(60, 64, 67, 0.15);\n",
              "      fill: #174EA6;\n",
              "    }\n",
              "\n",
              "    [theme=dark] .colab-df-convert {\n",
              "      background-color: #3B4455;\n",
              "      fill: #D2E3FC;\n",
              "    }\n",
              "\n",
              "    [theme=dark] .colab-df-convert:hover {\n",
              "      background-color: #434B5C;\n",
              "      box-shadow: 0px 1px 3px 1px rgba(0, 0, 0, 0.15);\n",
              "      filter: drop-shadow(0px 1px 2px rgba(0, 0, 0, 0.3));\n",
              "      fill: #FFFFFF;\n",
              "    }\n",
              "  </style>\n",
              "\n",
              "      <script>\n",
              "        const buttonEl =\n",
              "          document.querySelector('#df-435b8ad9-d326-470a-bd2e-256f01521815 button.colab-df-convert');\n",
              "        buttonEl.style.display =\n",
              "          google.colab.kernel.accessAllowed ? 'block' : 'none';\n",
              "\n",
              "        async function convertToInteractive(key) {\n",
              "          const element = document.querySelector('#df-435b8ad9-d326-470a-bd2e-256f01521815');\n",
              "          const dataTable =\n",
              "            await google.colab.kernel.invokeFunction('convertToInteractive',\n",
              "                                                     [key], {});\n",
              "          if (!dataTable) return;\n",
              "\n",
              "          const docLinkHtml = 'Like what you see? Visit the ' +\n",
              "            '<a target=\"_blank\" href=https://colab.research.google.com/notebooks/data_table.ipynb>data table notebook</a>'\n",
              "            + ' to learn more about interactive tables.';\n",
              "          element.innerHTML = '';\n",
              "          dataTable['output_type'] = 'display_data';\n",
              "          await google.colab.output.renderOutput(dataTable, element);\n",
              "          const docLink = document.createElement('div');\n",
              "          docLink.innerHTML = docLinkHtml;\n",
              "          element.appendChild(docLink);\n",
              "        }\n",
              "      </script>\n",
              "    </div>\n",
              "  </div>\n",
              "  "
            ]
          },
          "metadata": {},
          "execution_count": 46
        }
      ]
    },
    {
      "cell_type": "markdown",
      "source": [
        "#Training and Predicting"
      ],
      "metadata": {
        "id": "3NSjVgdVdDP2"
      }
    },
    {
      "cell_type": "markdown",
      "source": [
        "## Prepping the data and splitting it"
      ],
      "metadata": {
        "id": "W3c77sd-tfLZ"
      }
    },
    {
      "cell_type": "code",
      "source": [
        "# Unstacking the training and test data\n",
        "train = x[x.train_data == True]\n",
        "test = x[x.train_data == False]"
      ],
      "metadata": {
        "id": "g4zn85x-tufo"
      },
      "execution_count": null,
      "outputs": []
    },
    {
      "cell_type": "code",
      "source": [
        "train.drop(columns = 'train_data', inplace=True)\n",
        "test.drop(columns = 'train_data', inplace=True)"
      ],
      "metadata": {
        "colab": {
          "base_uri": "https://localhost:8080/"
        },
        "id": "NfMgM4jlz5nf",
        "outputId": "baebaaef-56a7-44d6-b762-99ff6bcb8558"
      },
      "execution_count": null,
      "outputs": [
        {
          "output_type": "stream",
          "name": "stderr",
          "text": [
            "/usr/local/lib/python3.7/dist-packages/pandas/core/frame.py:4913: SettingWithCopyWarning: \n",
            "A value is trying to be set on a copy of a slice from a DataFrame\n",
            "\n",
            "See the caveats in the documentation: https://pandas.pydata.org/pandas-docs/stable/user_guide/indexing.html#returning-a-view-versus-a-copy\n",
            "  errors=errors,\n"
          ]
        }
      ]
    },
    {
      "cell_type": "code",
      "source": [
        "train.shape, test.shape"
      ],
      "metadata": {
        "colab": {
          "base_uri": "https://localhost:8080/"
        },
        "id": "rsojCr66yf4M",
        "outputId": "58a9fcca-706a-4998-80ee-18308f99e33a"
      },
      "execution_count": null,
      "outputs": [
        {
          "output_type": "execute_result",
          "data": {
            "text/plain": [
              "((8693, 36), (4277, 36))"
            ]
          },
          "metadata": {},
          "execution_count": 49
        }
      ]
    },
    {
      "cell_type": "code",
      "source": [
        "xtrain, xtest, ytrain, ytest = train_test_split(train, transported, test_size = .25, random_state = 7)"
      ],
      "metadata": {
        "id": "39ShPzk-t6iI"
      },
      "execution_count": null,
      "outputs": []
    },
    {
      "cell_type": "code",
      "source": [
        "xtrain.shape, xtest.shape, ytrain.shape, ytest.shape"
      ],
      "metadata": {
        "colab": {
          "base_uri": "https://localhost:8080/"
        },
        "id": "bnpDmXyw0MJZ",
        "outputId": "054dd3cf-1a89-49b9-bb22-4bf18f417525"
      },
      "execution_count": null,
      "outputs": [
        {
          "output_type": "execute_result",
          "data": {
            "text/plain": [
              "((6519, 36), (2174, 36), (6519, 1), (2174, 1))"
            ]
          },
          "metadata": {},
          "execution_count": 70
        }
      ]
    },
    {
      "cell_type": "markdown",
      "source": [
        "## Logistic Regression"
      ],
      "metadata": {
        "id": "gTxe6tOOtfIo"
      }
    },
    {
      "cell_type": "code",
      "source": [
        "lr = LogisticRegression(max_iter = 100000).fit(xtrain, ytrain)"
      ],
      "metadata": {
        "colab": {
          "base_uri": "https://localhost:8080/"
        },
        "id": "TrkODK-QuHM0",
        "outputId": "261a908a-2ec5-4a20-aa01-39fb1e61accc"
      },
      "execution_count": null,
      "outputs": [
        {
          "output_type": "stream",
          "name": "stderr",
          "text": [
            "/usr/local/lib/python3.7/dist-packages/sklearn/utils/validation.py:993: DataConversionWarning: A column-vector y was passed when a 1d array was expected. Please change the shape of y to (n_samples, ), for example using ravel().\n",
            "  y = column_or_1d(y, warn=True)\n"
          ]
        }
      ]
    },
    {
      "cell_type": "markdown",
      "source": [
        "### Analyzing logistic regression results"
      ],
      "metadata": {
        "id": "ZMWAs-Bmtk9b"
      }
    },
    {
      "cell_type": "code",
      "source": [
        "lr.score(xtest, ytest)"
      ],
      "metadata": {
        "colab": {
          "base_uri": "https://localhost:8080/"
        },
        "id": "p8SS68jwuzIg",
        "outputId": "62707b83-e6c5-428e-ee81-45abf2bffafd"
      },
      "execution_count": null,
      "outputs": [
        {
          "output_type": "execute_result",
          "data": {
            "text/plain": [
              "0.7585096596136155"
            ]
          },
          "metadata": {},
          "execution_count": 72
        }
      ]
    },
    {
      "cell_type": "markdown",
      "source": [
        "## KNN Classification"
      ],
      "metadata": {
        "id": "sWJD_LAHtk7I"
      }
    },
    {
      "cell_type": "code",
      "source": [
        "n = 105\n",
        "knn = KNeighborsClassifier(n_neighbors = n).fit(xtrain, ytrain)"
      ],
      "metadata": {
        "colab": {
          "base_uri": "https://localhost:8080/"
        },
        "id": "PEyDotffu1zK",
        "outputId": "926bd8d1-d2d2-45e6-8a02-db3352605989"
      },
      "execution_count": null,
      "outputs": [
        {
          "output_type": "stream",
          "name": "stderr",
          "text": [
            "/usr/local/lib/python3.7/dist-packages/sklearn/neighbors/_classification.py:198: DataConversionWarning: A column-vector y was passed when a 1d array was expected. Please change the shape of y to (n_samples,), for example using ravel().\n",
            "  return self._fit(X, y)\n"
          ]
        }
      ]
    },
    {
      "cell_type": "markdown",
      "source": [
        "### Analyzing KNN Classification results"
      ],
      "metadata": {
        "id": "RWqeF4ZytfGJ"
      }
    },
    {
      "cell_type": "code",
      "source": [
        "knn_score = knn.score(xtest, ytest)\n",
        "knn_score"
      ],
      "metadata": {
        "colab": {
          "base_uri": "https://localhost:8080/"
        },
        "id": "4buqnqJ8u8JP",
        "outputId": "c7b3ffd0-e33e-49ed-f23d-9a13efb211b3"
      },
      "execution_count": null,
      "outputs": [
        {
          "output_type": "execute_result",
          "data": {
            "text/plain": [
              "0.7552897884084636"
            ]
          },
          "metadata": {},
          "execution_count": 74
        }
      ]
    },
    {
      "cell_type": "markdown",
      "source": [
        "# Predicting and uploading results"
      ],
      "metadata": {
        "id": "b295H643tr4c"
      }
    },
    {
      "cell_type": "code",
      "source": [
        "to_submit = pd.read_csv('/content/drive/MyDrive/Colab Notebooks/Colab data/test space titanic.csv')"
      ],
      "metadata": {
        "id": "5uDz94Tx3cAh"
      },
      "execution_count": null,
      "outputs": []
    },
    {
      "cell_type": "code",
      "source": [
        "lr_prediction = lr.predict(test)\n",
        "submission = pd.DataFrame()\n",
        "submission['PassengerId'] = to_submit['PassengerId']\n",
        "submission['Transported'] = lr_prediction\n",
        "submission.to_csv('space titanic prediction (logistic).csv', index=False)"
      ],
      "metadata": {
        "id": "_EakXj9h0Qwz"
      },
      "execution_count": null,
      "outputs": []
    },
    {
      "cell_type": "code",
      "source": [
        "knn_prediction = knn.predict(test)\n",
        "submission = pd.DataFrame()\n",
        "submission['PassengerId'] = to_submit['PassengerId']\n",
        "submission['Transported'] = knn_prediction\n",
        "submission.to_csv('space titanic prediction (KNN).csv', index=False)"
      ],
      "metadata": {
        "id": "al6MI_O33dkU"
      },
      "execution_count": null,
      "outputs": []
    }
  ]
}