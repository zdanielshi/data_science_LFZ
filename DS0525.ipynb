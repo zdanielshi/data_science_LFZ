{
  "nbformat": 4,
  "nbformat_minor": 0,
  "metadata": {
    "colab": {
      "name": "DS0525.ipynb",
      "provenance": [],
      "authorship_tag": "ABX9TyOSZK5vTSJ+J4NqgopyXGfB",
      "include_colab_link": true
    },
    "kernelspec": {
      "name": "python3",
      "display_name": "Python 3"
    },
    "language_info": {
      "name": "python"
    }
  },
  "cells": [
    {
      "cell_type": "markdown",
      "metadata": {
        "id": "view-in-github",
        "colab_type": "text"
      },
      "source": [
        "<a href=\"https://colab.research.google.com/github/zdanielshi/personal_projects/blob/main/DS0525.ipynb\" target=\"_parent\"><img src=\"https://colab.research.google.com/assets/colab-badge.svg\" alt=\"Open In Colab\"/></a>"
      ]
    },
    {
      "cell_type": "code",
      "source": [
        "import datetime as dt\n",
        "import pytz"
      ],
      "metadata": {
        "id": "JgED9nPwZwup"
      },
      "execution_count": 129,
      "outputs": []
    },
    {
      "cell_type": "markdown",
      "source": [
        "Exercise #6\n",
        "1. Luke Skywalker has family and friends; help remind him who is who \n",
        "2. Given a string with a name, return the relation of that person to Luke\n",
        "\n",
        "Person         Relation\n",
        "Darth Vader    Father\n",
        "Leia           Sister\n",
        "Han            Brother in Law\n",
        "R2D2           Droid\n",
        "C3PO           Droid\n",
        "\n",
        "Example Outputs:\n",
        "relation_to_luke(\"Darth Vader\") ➞ \"Luke, I am your father.\"\n",
        "relation_to_luke(\"Leia\") ➞ \"Luke, I am your sister.\"\n",
        "relation_to_luke(\"Han\") ➞ \"Luke, I am your brother in law.\"\n"
      ],
      "metadata": {
        "id": "BLREeS6Q_2Zf"
      }
    },
    {
      "cell_type": "code",
      "execution_count": null,
      "metadata": {
        "id": "bDU9SCth4uC0",
        "colab": {
          "base_uri": "https://localhost:8080/"
        },
        "outputId": "fdb73a6c-0bd2-40cb-faa4-4c69c032e591"
      },
      "outputs": [
        {
          "output_type": "stream",
          "name": "stdout",
          "text": [
            "Luke, I am your Father\n",
            "Luke, I am your Sister\n",
            "Luke, I am your Brother in Law\n",
            "Luke, I am your Droid\n",
            "Luke, I am your Droid\n",
            "Please enter a Star Wars character\n"
          ]
        }
      ],
      "source": [
        "def relation_to_luke(person):\n",
        "  try:\n",
        "    relative = {'Darth Vader': 'Father',\n",
        "                'Leia': 'Sister',\n",
        "                'Han': 'Brother in Law',\n",
        "                'R2D2': 'Droid',\n",
        "                'C3PO': 'Droid'\n",
        "                }\n",
        "    output = 'Luke, I am your ' + relative[person]\n",
        "    return output\n",
        "  except:\n",
        "    return 'Please enter a Star Wars character'\n",
        "\n",
        "print(relation_to_luke('Darth Vader'))\n",
        "print(relation_to_luke('Leia'))\n",
        "print(relation_to_luke('Han'))\n",
        "print(relation_to_luke('R2D2'))\n",
        "print(relation_to_luke('C3PO'))\n",
        "print(relation_to_luke('Bob'))"
      ]
    },
    {
      "cell_type": "markdown",
      "source": [
        "Exercise #7\n",
        "1. Write a function named 'circle_or_square' that will take two parameters, the radius of a circle and the area of a square \n",
        "2. Return True if the circumference of the circle is greater than the square's perimeter and False if the square's perimeter is greater than the circumference of the circle\n",
        "\n",
        "**Example Outputs: **\n",
        "\n",
        "circle_or_square(16, 625) ➞ True\n",
        "\n",
        "circle_or_square(5, 100) ➞ False\n",
        "\n",
        "circle_or_square(8, 144) ➞ True\n",
        "\n",
        "Notes:\n",
        "\n",
        "You can use Pi to 2 decimal places (3.14)\n",
        "Circumference of a circle equals 2 * Pi * radius\n",
        "\n",
        "To find the perimeter of a square using its area, find the square root of area (to get side length) and multiply that by 4\n",
        "\n",
        "\n",
        "\n",
        "\n",
        "\n",
        "\n",
        "\n",
        "\n",
        "\n",
        "\n",
        "\n",
        "\n",
        "\n"
      ],
      "metadata": {
        "id": "SY1Vag7HB7ny"
      }
    },
    {
      "cell_type": "code",
      "source": [
        "def circle_or_square(radius_circle, area_square): # def function for radius of circle and area of square\n",
        "  try: \n",
        "    circle_circ = 2 * radius_circle * 3.14 # variable for circ of circle\n",
        "    square_perim = (area_square ** 0.5) * 4 # variable for circ of square\n",
        "    return circle_circ > square_perim # return the boolean of the comparison\n",
        "  except:\n",
        "    return 'Please enter the values for 1) the radius of a circle and 2) the area of a square'\n",
        "\n",
        "print(circle_or_square(16, 625)) # should be TRUE\n",
        "print(circle_or_square(5, 100)) # should be FALSE\n",
        "print(circle_or_square(8, 144)) # should be TRUE\n",
        "print(circle_or_square('a', 'b'))"
      ],
      "metadata": {
        "colab": {
          "base_uri": "https://localhost:8080/"
        },
        "id": "cmjgUqRcCDv2",
        "outputId": "1fa82923-da60-4e2d-93a4-cd01820e5c49"
      },
      "execution_count": null,
      "outputs": [
        {
          "output_type": "stream",
          "name": "stdout",
          "text": [
            "True\n",
            "False\n",
            "True\n",
            "Please enter the values for 1) the radius of a circle and 2) the area of a square\n"
          ]
        }
      ]
    },
    {
      "cell_type": "markdown",
      "source": [
        "Exercise #8\n",
        "1. Create a function that returns the number of characters shared between two words\n",
        "\n",
        "**Example Outputs:**\n",
        "\n",
        "shared_letters(\"apple\", \"meaty\") ➞ 2\n",
        "\n",
        "Since \"ea\" is shared between \"apple\" and \"meaty\"\n",
        "\n",
        "shared_letters(\"fan\", \"forsook\") ➞ 1\n",
        "\n",
        "shared_letters(\"spout\", \"shout\") ➞ 4"
      ],
      "metadata": {
        "id": "IC6XicmSEbWw"
      }
    },
    {
      "cell_type": "code",
      "source": [
        "def shared_letters(str_1, str_2): # def the function taking two strings\n",
        "  try:\n",
        "    string_1_chars = [] # initialize a list for str1\n",
        "    string_2_chars = [] # intialize a list for str2\n",
        "    counter = 0 # intialize a counter\n",
        "    for i in range(len(str_1)): # for loop to parse str1 into list\n",
        "      string_1_chars.append(str_1[i])\n",
        "    string_1_chars_set = set(string_1_chars) # turn list into a set\n",
        "    for i in range(len(str_1)): # for loop to parse str2 into list\n",
        "      string_2_chars.append(str_2[i])\n",
        "    string_1_chars_set = set(string_1_chars) # turn list into a set\n",
        "    string_2_chars_set = set(string_2_chars) # turn list into a set\n",
        "    for v in string_1_chars: # for loop thru str 1 set\n",
        "      if v in string_2_chars: # if char is in str 2 set\n",
        "        counter += 1 # increment the counter\n",
        "    return counter # return the counter\n",
        "  except:\n",
        "    return('Please enter two strings')\n",
        "\n",
        "print(shared_letters(\"apple\", \"meaty\")) # 2\n",
        "print(shared_letters(\"fan\", \"forsook\")) # 1 \n",
        "print(shared_letters(\"spout\", \"shout\")) # 4\n",
        "print(shared_letters('3830930', 38393))"
      ],
      "metadata": {
        "colab": {
          "base_uri": "https://localhost:8080/"
        },
        "id": "M8r7s8bNEqzx",
        "outputId": "ccddb87b-f113-4e73-8478-48084cfc2f75"
      },
      "execution_count": null,
      "outputs": [
        {
          "output_type": "stream",
          "name": "stdout",
          "text": [
            "2\n",
            "1\n",
            "4\n",
            "Please enter two strings\n"
          ]
        }
      ]
    },
    {
      "cell_type": "markdown",
      "source": [
        "Exercise #9\n",
        "1. Create a function to test if a string is a valid pin or not\n",
        "2. A valid pin has:\n",
        "   Exactly 4 or 6 characters\n",
        "   Only numerical characters (0-9)\n",
        "   No whitespace\n",
        "\n",
        "Example Outputs:\n",
        "\n",
        "valid(\"1234\") ➞ True\n",
        "\n",
        "valid(\"45135\") ➞ False\n",
        "\n",
        "valid(\"89abc1\") ➞ False\n",
        "\n",
        "valid(\"900876\") ➞ True\n",
        "\n",
        "valid(\" 4983\") ➞ False"
      ],
      "metadata": {
        "id": "YbiZZeL8J7ft"
      }
    },
    {
      "cell_type": "code",
      "source": [
        "def is_valid(pin_string): # define a function\n",
        "  try: \n",
        "    if len(pin_string) == 4 or len(pin_string) == 6 and pin_string.isnumeric(): # 4 or 6 chars, trimmed, isnumeric  \n",
        "      return 'True'\n",
        "    else:\n",
        "      return 'False'\n",
        "  except:\n",
        "    return 'Please input a string'\n",
        "\n",
        "print(is_valid(\"1234\")) # True\n",
        "print(is_valid(\"45135\")) # False\n",
        "print(is_valid(\"89abc1\")) # False\n",
        "print(is_valid(\"900876\")) # True\n",
        "print(is_valid(\" 3456\")) # False\n",
        "print(is_valid(123455))"
      ],
      "metadata": {
        "colab": {
          "base_uri": "https://localhost:8080/"
        },
        "id": "IaZAPFi4J_z5",
        "outputId": "08eda6d2-7292-4c1a-983d-70275a145f72"
      },
      "execution_count": null,
      "outputs": [
        {
          "output_type": "stream",
          "name": "stdout",
          "text": [
            "True\n",
            "False\n",
            "False\n",
            "True\n",
            "False\n",
            "Please input a string\n"
          ]
        }
      ]
    },
    {
      "cell_type": "code",
      "source": [
        "pin_string_test = '89abc1'\n",
        "\n",
        "len(pin_string_test) == 4 or len(pin_string_test) == 6 and pin_string_test.isnumeric()\n",
        "\n",
        "# print(len(pin_string_test.strip()) == 4)\n",
        "# print(len(pin_string_test.strip()) == 6)\n",
        "# print(pin_string_test.isnumeric())"
      ],
      "metadata": {
        "colab": {
          "base_uri": "https://localhost:8080/"
        },
        "id": "To_x-77SNfmx",
        "outputId": "f05a92e3-b64e-4f02-e0e5-63ef71c02b18"
      },
      "execution_count": null,
      "outputs": [
        {
          "output_type": "execute_result",
          "data": {
            "text/plain": [
              "False"
            ]
          },
          "metadata": {},
          "execution_count": 76
        }
      ]
    },
    {
      "cell_type": "markdown",
      "source": [
        "Exercise #10\n",
        "1. It takes 21 seconds to wash your hands and help prevent the spread of COVID-19\n",
        "2. Create a function that takes the number of times a person washes their hands per day 'N' and the number of months they follow this routine 'M' and calculates the duration in minutes and seconds that person spends washing their hands\n",
        "\n",
        "Example Outputs:\n",
        "\n",
        "wash_hands(8, 7) ➞ \"588 minutes and 0 seconds\"\n",
        "\n",
        "wash_hands(0, 0) ➞ \"0 minutes and 0 seconds\"\n",
        "\n",
        "wash_hands(7, 9) ➞ \"661 minutes and 30 seconds\"\n",
        "\n",
        "*considering a month has 30 days\n"
      ],
      "metadata": {
        "id": "qXwPjQQTPuBc"
      }
    },
    {
      "cell_type": "code",
      "source": [
        "def wash_hands(times_per_day, months): # define a function, collecting N washes and M months\n",
        "  try: \n",
        "    days_in_month = 30 # variable to calc total days\n",
        "    seconds = 21\n",
        "    total_seconds = seconds * times_per_day * days_in_month * months # variable to calc total seconds\n",
        "    minutes = int(total_seconds / 60) # convert seconds to minutes\n",
        "    remainder_seconds = int(total_seconds % 60)\n",
        "    return str(minutes) + ' minutes and ' + str(remainder_seconds) + ' seconds'\n",
        "  except:\n",
        "    return 'Enter values for timers per day and months of hand washing.'\n",
        "\n",
        "print(wash_hands(8,7))\n",
        "print(wash_hands(0,0))\n",
        "print(wash_hands(7,9))\n",
        "print(wash_hands('a',9))"
      ],
      "metadata": {
        "colab": {
          "base_uri": "https://localhost:8080/"
        },
        "id": "73-lCVjfQF_U",
        "outputId": "2607d291-5cc4-4bce-b7e7-8fc7587c36be"
      },
      "execution_count": null,
      "outputs": [
        {
          "output_type": "stream",
          "name": "stdout",
          "text": [
            "588 minutes and 0 seconds\n",
            "0 minutes and 0 seconds\n",
            "661 minutes and 30 seconds\n",
            "Enter values for timers per day and months of hand washing.\n"
          ]
        }
      ]
    },
    {
      "cell_type": "code",
      "source": [
        "dt.date.today()"
      ],
      "metadata": {
        "colab": {
          "base_uri": "https://localhost:8080/"
        },
        "id": "LXrRaWJCZubI",
        "outputId": "4ebbf978-1dd7-488c-c4f5-2385c33b0ae6"
      },
      "execution_count": 89,
      "outputs": [
        {
          "output_type": "execute_result",
          "data": {
            "text/plain": [
              "datetime.date(2022, 5, 26)"
            ]
          },
          "metadata": {},
          "execution_count": 89
        }
      ]
    },
    {
      "cell_type": "code",
      "source": [
        "dt.datetime.today()"
      ],
      "metadata": {
        "colab": {
          "base_uri": "https://localhost:8080/"
        },
        "id": "JgJ4mOXbZ8Hu",
        "outputId": "43116721-7488-4e0a-8376-cfe4a98d8f54"
      },
      "execution_count": 94,
      "outputs": [
        {
          "output_type": "execute_result",
          "data": {
            "text/plain": [
              "datetime.datetime(2022, 5, 26, 3, 29, 1, 875660)"
            ]
          },
          "metadata": {},
          "execution_count": 94
        }
      ]
    },
    {
      "cell_type": "code",
      "source": [
        "thanksgiving = dt.datetime(2022, 11, 24)\n",
        "today = dt.datetime.today()\n",
        "\n",
        "thanksgiving - today"
      ],
      "metadata": {
        "colab": {
          "base_uri": "https://localhost:8080/"
        },
        "id": "gPGW3RUzZ_HT",
        "outputId": "c475ee5c-cab1-4754-bc49-0e27d6a987d1"
      },
      "execution_count": 102,
      "outputs": [
        {
          "output_type": "execute_result",
          "data": {
            "text/plain": [
              "datetime.timedelta(days=181, seconds=73370, microseconds=495982)"
            ]
          },
          "metadata": {},
          "execution_count": 102
        }
      ]
    },
    {
      "cell_type": "markdown",
      "source": [
        "Write a function that asks a user their date of birthbased on their DOB, calculate how old they are"
      ],
      "metadata": {
        "id": "Pk4bJZLWga9J"
      }
    },
    {
      "cell_type": "code",
      "source": [
        "def birthday(input_year, input_month, input_date):\n",
        "  try: \n",
        "    birthdate = dt.datetime(input_year, input_month, input_date)\n",
        "    today = dt.datetime.today()\n",
        "    difference = today - birthdate\n",
        "    years = int(difference.days / 365)\n",
        "    return str(years) + ' years old'\n",
        "  except:\n",
        "    return 'Please enter Year, Month, and Date as YYYY, MM, DD'\n",
        "\n",
        "input_year = int(input('Year? (####) '))\n",
        "input_month = int(input('Month? (##)'))\n",
        "input_date = int(input('Date? (##)'))\n",
        "\n",
        "birthday(input_year, input_month, input_date)\n"
      ],
      "metadata": {
        "colab": {
          "base_uri": "https://localhost:8080/",
          "height": 87
        },
        "id": "VpG-Cj7sgS0U",
        "outputId": "6968fbad-e155-411e-f92f-2968423d2fe3"
      },
      "execution_count": 128,
      "outputs": [
        {
          "name": "stdout",
          "output_type": "stream",
          "text": [
            "Year? (####) 1985\n",
            "Month? (##)04\n",
            "Date? (##)28\n"
          ]
        },
        {
          "output_type": "execute_result",
          "data": {
            "text/plain": [
              "'37 years old'"
            ],
            "application/vnd.google.colaboratory.intrinsic+json": {
              "type": "string"
            }
          },
          "metadata": {},
          "execution_count": 128
        }
      ]
    }
  ]
}