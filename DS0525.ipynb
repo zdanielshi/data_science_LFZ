{
  "nbformat": 4,
  "nbformat_minor": 0,
  "metadata": {
    "colab": {
      "name": "DS0525.ipynb",
      "provenance": [],
      "authorship_tag": "ABX9TyP7n/apHSQTcDKtYjkaXfU2",
      "include_colab_link": true
    },
    "kernelspec": {
      "name": "python3",
      "display_name": "Python 3"
    },
    "language_info": {
      "name": "python"
    }
  },
  "cells": [
    {
      "cell_type": "markdown",
      "metadata": {
        "id": "view-in-github",
        "colab_type": "text"
      },
      "source": [
        "<a href=\"https://colab.research.google.com/github/zdanielshi/personal_projects/blob/main/DS0525.ipynb\" target=\"_parent\"><img src=\"https://colab.research.google.com/assets/colab-badge.svg\" alt=\"Open In Colab\"/></a>"
      ]
    },
    {
      "cell_type": "markdown",
      "source": [
        "Exercise #6\n",
        "1. Luke Skywalker has family and friends; help remind him who is who \n",
        "2. Given a string with a name, return the relation of that person to Luke\n",
        "\n",
        "Person         Relation\n",
        "Darth Vader    Father\n",
        "Leia           Sister\n",
        "Han            Brother in Law\n",
        "R2D2           Droid\n",
        "C3PO           Droid\n",
        "\n",
        "Example Outputs:\n",
        "relation_to_luke(\"Darth Vader\") ➞ \"Luke, I am your father.\"\n",
        "relation_to_luke(\"Leia\") ➞ \"Luke, I am your sister.\"\n",
        "relation_to_luke(\"Han\") ➞ \"Luke, I am your brother in law.\"\n"
      ],
      "metadata": {
        "id": "BLREeS6Q_2Zf"
      }
    },
    {
      "cell_type": "code",
      "execution_count": 5,
      "metadata": {
        "id": "bDU9SCth4uC0",
        "colab": {
          "base_uri": "https://localhost:8080/"
        },
        "outputId": "fdb73a6c-0bd2-40cb-faa4-4c69c032e591"
      },
      "outputs": [
        {
          "output_type": "stream",
          "name": "stdout",
          "text": [
            "Luke, I am your Father\n",
            "Luke, I am your Sister\n",
            "Luke, I am your Brother in Law\n",
            "Luke, I am your Droid\n",
            "Luke, I am your Droid\n",
            "Please enter a Star Wars character\n"
          ]
        }
      ],
      "source": [
        "def relation_to_luke(person):\n",
        "  try:\n",
        "    relative = {'Darth Vader': 'Father',\n",
        "                'Leia': 'Sister',\n",
        "                'Han': 'Brother in Law',\n",
        "                'R2D2': 'Droid',\n",
        "                'C3PO': 'Droid'\n",
        "                }\n",
        "    output = 'Luke, I am your ' + relative[person]\n",
        "    return output\n",
        "  except:\n",
        "    return 'Please enter a Star Wars character'\n",
        "\n",
        "print(relation_to_luke('Darth Vader'))\n",
        "print(relation_to_luke('Leia'))\n",
        "print(relation_to_luke('Han'))\n",
        "print(relation_to_luke('R2D2'))\n",
        "print(relation_to_luke('C3PO'))\n",
        "print(relation_to_luke('Bob'))"
      ]
    },
    {
      "cell_type": "markdown",
      "source": [
        "Exercise #7\n",
        "1. Write a function named 'circle_or_square' that will take two parameters, the radius of a circle and the area of a square \n",
        "2. Return True if the circumference of the circle is greater than the square's perimeter and False if the square's perimeter is greater than the circumference of the circle\n",
        "\n",
        "**Example Outputs: **\n",
        "\n",
        "circle_or_square(16, 625) ➞ True\n",
        "\n",
        "circle_or_square(5, 100) ➞ False\n",
        "\n",
        "circle_or_square(8, 144) ➞ True\n",
        "\n",
        "Notes:\n",
        "\n",
        "You can use Pi to 2 decimal places (3.14)\n",
        "Circumference of a circle equals 2 * Pi * radius\n",
        "\n",
        "To find the perimeter of a square using its area, find the square root of area (to get side length) and multiply that by 4\n",
        "\n",
        "\n",
        "\n",
        "\n",
        "\n",
        "\n",
        "\n",
        "\n",
        "\n",
        "\n",
        "\n",
        "\n",
        "\n"
      ],
      "metadata": {
        "id": "SY1Vag7HB7ny"
      }
    },
    {
      "cell_type": "code",
      "source": [
        "def circle_or_square(radius_circle, area_square): # def function for radius of circle and area of square\n",
        "  try: \n",
        "    circle_circ = 2 * radius_circle * 3.14 # variable for circ of circle\n",
        "    square_perim = (area_square ** 0.5) * 4 # variable for circ of square\n",
        "    return circle_circ > square_perim # return the boolean of the comparison\n",
        "  except:\n",
        "    return 'Please enter the values for 1) the radius of a circle and 2) the area of a square'\n",
        "\n",
        "print(circle_or_square(16, 625)) # should be TRUE\n",
        "print(circle_or_square(5, 100)) # should be FALSE\n",
        "print(circle_or_square(8, 144)) # should be TRUE\n",
        "print(circle_or_square('a', 'b'))"
      ],
      "metadata": {
        "colab": {
          "base_uri": "https://localhost:8080/"
        },
        "id": "cmjgUqRcCDv2",
        "outputId": "1fa82923-da60-4e2d-93a4-cd01820e5c49"
      },
      "execution_count": 12,
      "outputs": [
        {
          "output_type": "stream",
          "name": "stdout",
          "text": [
            "True\n",
            "False\n",
            "True\n",
            "Please enter the values for 1) the radius of a circle and 2) the area of a square\n"
          ]
        }
      ]
    }
  ]
}