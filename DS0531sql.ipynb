{
  "nbformat": 4,
  "nbformat_minor": 0,
  "metadata": {
    "colab": {
      "name": "DS0531sql.ipynb",
      "provenance": [],
      "authorship_tag": "ABX9TyOezxsHUPn3MBy3yFthMPf+",
      "include_colab_link": true
    },
    "kernelspec": {
      "name": "python3",
      "display_name": "Python 3"
    },
    "language_info": {
      "name": "python"
    }
  },
  "cells": [
    {
      "cell_type": "markdown",
      "metadata": {
        "id": "view-in-github",
        "colab_type": "text"
      },
      "source": [
        "<a href=\"https://colab.research.google.com/github/zdanielshi/personal_projects/blob/main/DS0531sql.ipynb\" target=\"_parent\"><img src=\"https://colab.research.google.com/assets/colab-badge.svg\" alt=\"Open In Colab\"/></a>"
      ]
    },
    {
      "cell_type": "code",
      "execution_count": null,
      "metadata": {
        "id": "pKXbPhAUbTPT"
      },
      "outputs": [],
      "source": [
        "import sqlite3\n",
        "import pandas as pd"
      ]
    },
    {
      "cell_type": "markdown",
      "source": [
        "# HR Exercise"
      ],
      "metadata": {
        "id": "wmcYVhLEVUh7"
      }
    },
    {
      "cell_type": "code",
      "source": [
        "conn = sqlite3.connect('hr.db')"
      ],
      "metadata": {
        "id": "6nAOFJH7bqd-"
      },
      "execution_count": null,
      "outputs": []
    },
    {
      "cell_type": "code",
      "source": [
        "tables = conn.execute(\"SELECT name from sqlite_master WHERE type='table'\")"
      ],
      "metadata": {
        "id": "z0ieDGdKcW6S"
      },
      "execution_count": null,
      "outputs": []
    },
    {
      "cell_type": "code",
      "source": [
        "for name in tables:\n",
        "  print(name)"
      ],
      "metadata": {
        "id": "uJAEmPjTcmEp"
      },
      "execution_count": null,
      "outputs": []
    },
    {
      "cell_type": "code",
      "source": [
        "data = pd.read_sql(\"SELECT * from employee\", conn)\n",
        "data"
      ],
      "metadata": {
        "id": "O8086C20c-jf"
      },
      "execution_count": null,
      "outputs": []
    },
    {
      "cell_type": "code",
      "source": [
        "current_employees = data[data.Attrition == 'No']\n",
        "current_employees"
      ],
      "metadata": {
        "id": "ek7D2oEdd_Mr"
      },
      "execution_count": null,
      "outputs": []
    },
    {
      "cell_type": "code",
      "source": [
        "current_employees.to_sql('current_emp', conn)"
      ],
      "metadata": {
        "id": "U-VQdBq3ejGI"
      },
      "execution_count": null,
      "outputs": []
    },
    {
      "cell_type": "code",
      "source": [
        "previous_employees = data[data.Attrition == 'Yes']\n",
        "previous_employees.to_sql('previous_emp', conn)"
      ],
      "metadata": {
        "id": "j6AINvUYe508"
      },
      "execution_count": null,
      "outputs": []
    },
    {
      "cell_type": "code",
      "source": [
        "emp = pd.read_sql(\"SELECT 8 from previous_emp\", conn)\n",
        "emp"
      ],
      "metadata": {
        "id": "iSHkLoIJgov8"
      },
      "execution_count": null,
      "outputs": []
    },
    {
      "cell_type": "code",
      "source": [
        "tables = conn.execute(\"SELECT name from sqlite_master WHERE type='table'\")\n",
        "for name in tables:\n",
        "  print(name)"
      ],
      "metadata": {
        "colab": {
          "base_uri": "https://localhost:8080/"
        },
        "id": "QzNBwFc3fPeJ",
        "outputId": "21b43c79-62be-4b0b-d27c-a21ddcf1ad5f"
      },
      "execution_count": null,
      "outputs": [
        {
          "output_type": "stream",
          "name": "stdout",
          "text": [
            "('employee',)\n",
            "('previous_emp',)\n"
          ]
        }
      ]
    },
    {
      "cell_type": "code",
      "source": [
        "conn.execute(\"DROP TABLE previous_emp\")"
      ],
      "metadata": {
        "colab": {
          "base_uri": "https://localhost:8080/"
        },
        "id": "TcFREikLff2b",
        "outputId": "676c1757-fe89-4571-fc05-7e8bcbb88a7f"
      },
      "execution_count": null,
      "outputs": [
        {
          "output_type": "execute_result",
          "data": {
            "text/plain": [
              "<sqlite3.Cursor at 0x7fd3d76869d0>"
            ]
          },
          "metadata": {},
          "execution_count": 35
        }
      ]
    },
    {
      "cell_type": "markdown",
      "source": [
        "# Stocks exercise"
      ],
      "metadata": {
        "id": "PfrPcFhLVfbQ"
      }
    },
    {
      "cell_type": "code",
      "source": [
        "stocksconn = sqlite3.connect('/content/stocks.sqlite')"
      ],
      "metadata": {
        "id": "SAeY0iA6WB7R"
      },
      "execution_count": 9,
      "outputs": []
    },
    {
      "cell_type": "code",
      "source": [
        "stocks_tables = stocksconn.execute(\"SELECT name from sqlite_master WHERE type='table'\")"
      ],
      "metadata": {
        "id": "HtkdR2cqWLsr"
      },
      "execution_count": 10,
      "outputs": []
    },
    {
      "cell_type": "code",
      "source": [
        "for name in stocks_tables:\n",
        "  print(name)"
      ],
      "metadata": {
        "colab": {
          "base_uri": "https://localhost:8080/"
        },
        "id": "QQpcXWzWW9we",
        "outputId": "b735dcb2-00f9-4bce-c61f-8f99df202525"
      },
      "execution_count": 11,
      "outputs": [
        {
          "output_type": "stream",
          "name": "stdout",
          "text": [
            "('STOCK_DATA',)\n",
            "('Symbol_MSFT',)\n",
            "('Symbol_AAPL',)\n"
          ]
        }
      ]
    },
    {
      "cell_type": "markdown",
      "source": [
        "1. Create two new tables in the database, one with only 'MSFT' values for the Symbol feature, and one with only 'AAPL' values for the Symbol feature."
      ],
      "metadata": {
        "id": "8kMEYSXvVric"
      }
    },
    {
      "cell_type": "markdown",
      "source": [
        "2. Read the two new new tables in from the database using SQL to check if they were successfully created."
      ],
      "metadata": {
        "id": "lpfpxhxUVts0"
      }
    },
    {
      "cell_type": "markdown",
      "source": [
        "3. For each new table in the database, query for the Maximum and Minimum dates, and save those as new pandas data frames."
      ],
      "metadata": {
        "id": "C5LU2H0sVt8y"
      }
    },
    {
      "cell_type": "markdown",
      "source": [
        "4. For each new table in the database, query for values greater than 50 in the Open feature, and save those as new pandas data frames."
      ],
      "metadata": {
        "id": "Jc8uKt4HVuMC"
      }
    }
  ]
}