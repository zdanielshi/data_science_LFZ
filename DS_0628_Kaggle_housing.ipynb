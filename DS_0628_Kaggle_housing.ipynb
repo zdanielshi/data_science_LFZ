{
  "nbformat": 4,
  "nbformat_minor": 0,
  "metadata": {
    "colab": {
      "name": "DS 0628 Kaggle housing.ipynb",
      "provenance": [],
      "authorship_tag": "ABX9TyMlET7Ym7zBVaJn9NXT+JkJ",
      "include_colab_link": true
    },
    "kernelspec": {
      "name": "python3",
      "display_name": "Python 3"
    },
    "language_info": {
      "name": "python"
    }
  },
  "cells": [
    {
      "cell_type": "markdown",
      "metadata": {
        "id": "view-in-github",
        "colab_type": "text"
      },
      "source": [
        "<a href=\"https://colab.research.google.com/github/zdanielshi/data_science_LFZ/blob/main/DS_0628_Kaggle_housing.ipynb\" target=\"_parent\"><img src=\"https://colab.research.google.com/assets/colab-badge.svg\" alt=\"Open In Colab\"/></a>"
      ]
    },
    {
      "cell_type": "code",
      "execution_count": 1,
      "metadata": {
        "id": "YqlJbeNLC5t4"
      },
      "outputs": [],
      "source": [
        "import pandas as pd\n",
        "import matplotlib.pyplot as plt\n",
        "import numpy as np\n",
        "import seaborn as sns\n",
        "from scipy import stats\n",
        "from sklearn.preprocessing import RobustScaler, MinMaxScaler, MaxAbsScaler, StandardScaler, PowerTransformer\n",
        "from sklearn.model_selection import train_test_split\n",
        "from sklearn.linear_model import LinearRegression, Lasso, Ridge\n",
        "from sklearn.metrics import mean_squared_error, mean_absolute_error\n",
        "\n",
        "import warnings\n",
        "warnings.filterwarnings(\"error\")\n",
        "\n",
        "pd.set_option('display.float_format', lambda x: '%.5f' % x)\n",
        "\n",
        "from google.colab import drive"
      ]
    },
    {
      "cell_type": "code",
      "source": [
        "drive.mount('/content/drive')"
      ],
      "metadata": {
        "colab": {
          "base_uri": "https://localhost:8080/"
        },
        "id": "uKh01mLjDENX",
        "outputId": "77d9647a-76f3-4634-eb3c-7674b7831c29"
      },
      "execution_count": 2,
      "outputs": [
        {
          "output_type": "stream",
          "name": "stdout",
          "text": [
            "Drive already mounted at /content/drive; to attempt to forcibly remount, call drive.mount(\"/content/drive\", force_remount=True).\n"
          ]
        }
      ]
    },
    {
      "cell_type": "code",
      "source": [
        "train = pd.read_csv('/content/drive/MyDrive/Colab Notebooks/Colab data/train.csv')\n",
        "test = pd.read_csv('/content/drive/MyDrive/Colab Notebooks/Colab data/test.csv')"
      ],
      "metadata": {
        "id": "wWUufbe3DSwu"
      },
      "execution_count": 3,
      "outputs": []
    },
    {
      "cell_type": "code",
      "source": [
        "train.shape"
      ],
      "metadata": {
        "colab": {
          "base_uri": "https://localhost:8080/"
        },
        "id": "v6YgGhfTDes_",
        "outputId": "4ca65aea-c40f-4b86-da65-91fd605dd167"
      },
      "execution_count": 4,
      "outputs": [
        {
          "output_type": "execute_result",
          "data": {
            "text/plain": [
              "(1460, 81)"
            ]
          },
          "metadata": {},
          "execution_count": 4
        }
      ]
    },
    {
      "cell_type": "code",
      "source": [
        "test.shape"
      ],
      "metadata": {
        "colab": {
          "base_uri": "https://localhost:8080/"
        },
        "id": "crqWVO49Dgwg",
        "outputId": "4e0ad629-5a9c-4dcc-846e-01e8e81c29d9"
      },
      "execution_count": 5,
      "outputs": [
        {
          "output_type": "execute_result",
          "data": {
            "text/plain": [
              "(1459, 80)"
            ]
          },
          "metadata": {},
          "execution_count": 5
        }
      ]
    },
    {
      "cell_type": "markdown",
      "source": [
        "# Stacking the two tables\n",
        "Also separating out price feature into it's own column"
      ],
      "metadata": {
        "id": "zvSrTm0jE6ZW"
      }
    },
    {
      "cell_type": "code",
      "source": [
        "y = pd.DataFrame(train['SalePrice'])"
      ],
      "metadata": {
        "id": "H52enCIpEaRj"
      },
      "execution_count": 6,
      "outputs": []
    },
    {
      "cell_type": "code",
      "source": [
        "y.describe()"
      ],
      "metadata": {
        "colab": {
          "base_uri": "https://localhost:8080/",
          "height": 300
        },
        "id": "sxoZEJoXEo0H",
        "outputId": "d8b0483a-5b12-4b5d-c040-3408b298b084"
      },
      "execution_count": 7,
      "outputs": [
        {
          "output_type": "execute_result",
          "data": {
            "text/plain": [
              "         SalePrice\n",
              "count   1460.00000\n",
              "mean  180921.19589\n",
              "std    79442.50288\n",
              "min    34900.00000\n",
              "25%   129975.00000\n",
              "50%   163000.00000\n",
              "75%   214000.00000\n",
              "max   755000.00000"
            ],
            "text/html": [
              "\n",
              "  <div id=\"df-1b313e4e-af2c-4929-a926-2f139324dadd\">\n",
              "    <div class=\"colab-df-container\">\n",
              "      <div>\n",
              "<style scoped>\n",
              "    .dataframe tbody tr th:only-of-type {\n",
              "        vertical-align: middle;\n",
              "    }\n",
              "\n",
              "    .dataframe tbody tr th {\n",
              "        vertical-align: top;\n",
              "    }\n",
              "\n",
              "    .dataframe thead th {\n",
              "        text-align: right;\n",
              "    }\n",
              "</style>\n",
              "<table border=\"1\" class=\"dataframe\">\n",
              "  <thead>\n",
              "    <tr style=\"text-align: right;\">\n",
              "      <th></th>\n",
              "      <th>SalePrice</th>\n",
              "    </tr>\n",
              "  </thead>\n",
              "  <tbody>\n",
              "    <tr>\n",
              "      <th>count</th>\n",
              "      <td>1460.00000</td>\n",
              "    </tr>\n",
              "    <tr>\n",
              "      <th>mean</th>\n",
              "      <td>180921.19589</td>\n",
              "    </tr>\n",
              "    <tr>\n",
              "      <th>std</th>\n",
              "      <td>79442.50288</td>\n",
              "    </tr>\n",
              "    <tr>\n",
              "      <th>min</th>\n",
              "      <td>34900.00000</td>\n",
              "    </tr>\n",
              "    <tr>\n",
              "      <th>25%</th>\n",
              "      <td>129975.00000</td>\n",
              "    </tr>\n",
              "    <tr>\n",
              "      <th>50%</th>\n",
              "      <td>163000.00000</td>\n",
              "    </tr>\n",
              "    <tr>\n",
              "      <th>75%</th>\n",
              "      <td>214000.00000</td>\n",
              "    </tr>\n",
              "    <tr>\n",
              "      <th>max</th>\n",
              "      <td>755000.00000</td>\n",
              "    </tr>\n",
              "  </tbody>\n",
              "</table>\n",
              "</div>\n",
              "      <button class=\"colab-df-convert\" onclick=\"convertToInteractive('df-1b313e4e-af2c-4929-a926-2f139324dadd')\"\n",
              "              title=\"Convert this dataframe to an interactive table.\"\n",
              "              style=\"display:none;\">\n",
              "        \n",
              "  <svg xmlns=\"http://www.w3.org/2000/svg\" height=\"24px\"viewBox=\"0 0 24 24\"\n",
              "       width=\"24px\">\n",
              "    <path d=\"M0 0h24v24H0V0z\" fill=\"none\"/>\n",
              "    <path d=\"M18.56 5.44l.94 2.06.94-2.06 2.06-.94-2.06-.94-.94-2.06-.94 2.06-2.06.94zm-11 1L8.5 8.5l.94-2.06 2.06-.94-2.06-.94L8.5 2.5l-.94 2.06-2.06.94zm10 10l.94 2.06.94-2.06 2.06-.94-2.06-.94-.94-2.06-.94 2.06-2.06.94z\"/><path d=\"M17.41 7.96l-1.37-1.37c-.4-.4-.92-.59-1.43-.59-.52 0-1.04.2-1.43.59L10.3 9.45l-7.72 7.72c-.78.78-.78 2.05 0 2.83L4 21.41c.39.39.9.59 1.41.59.51 0 1.02-.2 1.41-.59l7.78-7.78 2.81-2.81c.8-.78.8-2.07 0-2.86zM5.41 20L4 18.59l7.72-7.72 1.47 1.35L5.41 20z\"/>\n",
              "  </svg>\n",
              "      </button>\n",
              "      \n",
              "  <style>\n",
              "    .colab-df-container {\n",
              "      display:flex;\n",
              "      flex-wrap:wrap;\n",
              "      gap: 12px;\n",
              "    }\n",
              "\n",
              "    .colab-df-convert {\n",
              "      background-color: #E8F0FE;\n",
              "      border: none;\n",
              "      border-radius: 50%;\n",
              "      cursor: pointer;\n",
              "      display: none;\n",
              "      fill: #1967D2;\n",
              "      height: 32px;\n",
              "      padding: 0 0 0 0;\n",
              "      width: 32px;\n",
              "    }\n",
              "\n",
              "    .colab-df-convert:hover {\n",
              "      background-color: #E2EBFA;\n",
              "      box-shadow: 0px 1px 2px rgba(60, 64, 67, 0.3), 0px 1px 3px 1px rgba(60, 64, 67, 0.15);\n",
              "      fill: #174EA6;\n",
              "    }\n",
              "\n",
              "    [theme=dark] .colab-df-convert {\n",
              "      background-color: #3B4455;\n",
              "      fill: #D2E3FC;\n",
              "    }\n",
              "\n",
              "    [theme=dark] .colab-df-convert:hover {\n",
              "      background-color: #434B5C;\n",
              "      box-shadow: 0px 1px 3px 1px rgba(0, 0, 0, 0.15);\n",
              "      filter: drop-shadow(0px 1px 2px rgba(0, 0, 0, 0.3));\n",
              "      fill: #FFFFFF;\n",
              "    }\n",
              "  </style>\n",
              "\n",
              "      <script>\n",
              "        const buttonEl =\n",
              "          document.querySelector('#df-1b313e4e-af2c-4929-a926-2f139324dadd button.colab-df-convert');\n",
              "        buttonEl.style.display =\n",
              "          google.colab.kernel.accessAllowed ? 'block' : 'none';\n",
              "\n",
              "        async function convertToInteractive(key) {\n",
              "          const element = document.querySelector('#df-1b313e4e-af2c-4929-a926-2f139324dadd');\n",
              "          const dataTable =\n",
              "            await google.colab.kernel.invokeFunction('convertToInteractive',\n",
              "                                                     [key], {});\n",
              "          if (!dataTable) return;\n",
              "\n",
              "          const docLinkHtml = 'Like what you see? Visit the ' +\n",
              "            '<a target=\"_blank\" href=https://colab.research.google.com/notebooks/data_table.ipynb>data table notebook</a>'\n",
              "            + ' to learn more about interactive tables.';\n",
              "          element.innerHTML = '';\n",
              "          dataTable['output_type'] = 'display_data';\n",
              "          await google.colab.output.renderOutput(dataTable, element);\n",
              "          const docLink = document.createElement('div');\n",
              "          docLink.innerHTML = docLinkHtml;\n",
              "          element.appendChild(docLink);\n",
              "        }\n",
              "      </script>\n",
              "    </div>\n",
              "  </div>\n",
              "  "
            ]
          },
          "metadata": {},
          "execution_count": 7
        }
      ]
    },
    {
      "cell_type": "code",
      "source": [
        "# train.drop(columns = 'SalePrice', inplace=True)"
      ],
      "metadata": {
        "id": "73EO2Bg9Eyvl"
      },
      "execution_count": 8,
      "outputs": []
    },
    {
      "cell_type": "code",
      "source": [
        "x = pd.concat([train.drop(columns='SalePrice'), test], axis = 0)"
      ],
      "metadata": {
        "id": "6KSbuLojFCbV"
      },
      "execution_count": 9,
      "outputs": []
    },
    {
      "cell_type": "code",
      "source": [
        "x"
      ],
      "metadata": {
        "colab": {
          "base_uri": "https://localhost:8080/",
          "height": 488
        },
        "id": "2wAjIE_LFewS",
        "outputId": "499408fe-7859-479f-be59-ad98a283805e"
      },
      "execution_count": 10,
      "outputs": [
        {
          "output_type": "execute_result",
          "data": {
            "text/plain": [
              "        Id  MSSubClass MSZoning  LotFrontage  LotArea Street Alley LotShape  \\\n",
              "0        1          60       RL     65.00000     8450   Pave   NaN      Reg   \n",
              "1        2          20       RL     80.00000     9600   Pave   NaN      Reg   \n",
              "2        3          60       RL     68.00000    11250   Pave   NaN      IR1   \n",
              "3        4          70       RL     60.00000     9550   Pave   NaN      IR1   \n",
              "4        5          60       RL     84.00000    14260   Pave   NaN      IR1   \n",
              "...    ...         ...      ...          ...      ...    ...   ...      ...   \n",
              "1454  2915         160       RM     21.00000     1936   Pave   NaN      Reg   \n",
              "1455  2916         160       RM     21.00000     1894   Pave   NaN      Reg   \n",
              "1456  2917          20       RL    160.00000    20000   Pave   NaN      Reg   \n",
              "1457  2918          85       RL     62.00000    10441   Pave   NaN      Reg   \n",
              "1458  2919          60       RL     74.00000     9627   Pave   NaN      Reg   \n",
              "\n",
              "     LandContour Utilities  ... ScreenPorch PoolArea PoolQC  Fence  \\\n",
              "0            Lvl    AllPub  ...           0        0    NaN    NaN   \n",
              "1            Lvl    AllPub  ...           0        0    NaN    NaN   \n",
              "2            Lvl    AllPub  ...           0        0    NaN    NaN   \n",
              "3            Lvl    AllPub  ...           0        0    NaN    NaN   \n",
              "4            Lvl    AllPub  ...           0        0    NaN    NaN   \n",
              "...          ...       ...  ...         ...      ...    ...    ...   \n",
              "1454         Lvl    AllPub  ...           0        0    NaN    NaN   \n",
              "1455         Lvl    AllPub  ...           0        0    NaN    NaN   \n",
              "1456         Lvl    AllPub  ...           0        0    NaN    NaN   \n",
              "1457         Lvl    AllPub  ...           0        0    NaN  MnPrv   \n",
              "1458         Lvl    AllPub  ...           0        0    NaN    NaN   \n",
              "\n",
              "     MiscFeature MiscVal MoSold  YrSold  SaleType  SaleCondition  \n",
              "0            NaN       0      2    2008        WD         Normal  \n",
              "1            NaN       0      5    2007        WD         Normal  \n",
              "2            NaN       0      9    2008        WD         Normal  \n",
              "3            NaN       0      2    2006        WD        Abnorml  \n",
              "4            NaN       0     12    2008        WD         Normal  \n",
              "...          ...     ...    ...     ...       ...            ...  \n",
              "1454         NaN       0      6    2006        WD         Normal  \n",
              "1455         NaN       0      4    2006        WD        Abnorml  \n",
              "1456         NaN       0      9    2006        WD        Abnorml  \n",
              "1457        Shed     700      7    2006        WD         Normal  \n",
              "1458         NaN       0     11    2006        WD         Normal  \n",
              "\n",
              "[2919 rows x 80 columns]"
            ],
            "text/html": [
              "\n",
              "  <div id=\"df-ec9f8d10-6797-4de3-96e4-4a1f8b37f357\">\n",
              "    <div class=\"colab-df-container\">\n",
              "      <div>\n",
              "<style scoped>\n",
              "    .dataframe tbody tr th:only-of-type {\n",
              "        vertical-align: middle;\n",
              "    }\n",
              "\n",
              "    .dataframe tbody tr th {\n",
              "        vertical-align: top;\n",
              "    }\n",
              "\n",
              "    .dataframe thead th {\n",
              "        text-align: right;\n",
              "    }\n",
              "</style>\n",
              "<table border=\"1\" class=\"dataframe\">\n",
              "  <thead>\n",
              "    <tr style=\"text-align: right;\">\n",
              "      <th></th>\n",
              "      <th>Id</th>\n",
              "      <th>MSSubClass</th>\n",
              "      <th>MSZoning</th>\n",
              "      <th>LotFrontage</th>\n",
              "      <th>LotArea</th>\n",
              "      <th>Street</th>\n",
              "      <th>Alley</th>\n",
              "      <th>LotShape</th>\n",
              "      <th>LandContour</th>\n",
              "      <th>Utilities</th>\n",
              "      <th>...</th>\n",
              "      <th>ScreenPorch</th>\n",
              "      <th>PoolArea</th>\n",
              "      <th>PoolQC</th>\n",
              "      <th>Fence</th>\n",
              "      <th>MiscFeature</th>\n",
              "      <th>MiscVal</th>\n",
              "      <th>MoSold</th>\n",
              "      <th>YrSold</th>\n",
              "      <th>SaleType</th>\n",
              "      <th>SaleCondition</th>\n",
              "    </tr>\n",
              "  </thead>\n",
              "  <tbody>\n",
              "    <tr>\n",
              "      <th>0</th>\n",
              "      <td>1</td>\n",
              "      <td>60</td>\n",
              "      <td>RL</td>\n",
              "      <td>65.00000</td>\n",
              "      <td>8450</td>\n",
              "      <td>Pave</td>\n",
              "      <td>NaN</td>\n",
              "      <td>Reg</td>\n",
              "      <td>Lvl</td>\n",
              "      <td>AllPub</td>\n",
              "      <td>...</td>\n",
              "      <td>0</td>\n",
              "      <td>0</td>\n",
              "      <td>NaN</td>\n",
              "      <td>NaN</td>\n",
              "      <td>NaN</td>\n",
              "      <td>0</td>\n",
              "      <td>2</td>\n",
              "      <td>2008</td>\n",
              "      <td>WD</td>\n",
              "      <td>Normal</td>\n",
              "    </tr>\n",
              "    <tr>\n",
              "      <th>1</th>\n",
              "      <td>2</td>\n",
              "      <td>20</td>\n",
              "      <td>RL</td>\n",
              "      <td>80.00000</td>\n",
              "      <td>9600</td>\n",
              "      <td>Pave</td>\n",
              "      <td>NaN</td>\n",
              "      <td>Reg</td>\n",
              "      <td>Lvl</td>\n",
              "      <td>AllPub</td>\n",
              "      <td>...</td>\n",
              "      <td>0</td>\n",
              "      <td>0</td>\n",
              "      <td>NaN</td>\n",
              "      <td>NaN</td>\n",
              "      <td>NaN</td>\n",
              "      <td>0</td>\n",
              "      <td>5</td>\n",
              "      <td>2007</td>\n",
              "      <td>WD</td>\n",
              "      <td>Normal</td>\n",
              "    </tr>\n",
              "    <tr>\n",
              "      <th>2</th>\n",
              "      <td>3</td>\n",
              "      <td>60</td>\n",
              "      <td>RL</td>\n",
              "      <td>68.00000</td>\n",
              "      <td>11250</td>\n",
              "      <td>Pave</td>\n",
              "      <td>NaN</td>\n",
              "      <td>IR1</td>\n",
              "      <td>Lvl</td>\n",
              "      <td>AllPub</td>\n",
              "      <td>...</td>\n",
              "      <td>0</td>\n",
              "      <td>0</td>\n",
              "      <td>NaN</td>\n",
              "      <td>NaN</td>\n",
              "      <td>NaN</td>\n",
              "      <td>0</td>\n",
              "      <td>9</td>\n",
              "      <td>2008</td>\n",
              "      <td>WD</td>\n",
              "      <td>Normal</td>\n",
              "    </tr>\n",
              "    <tr>\n",
              "      <th>3</th>\n",
              "      <td>4</td>\n",
              "      <td>70</td>\n",
              "      <td>RL</td>\n",
              "      <td>60.00000</td>\n",
              "      <td>9550</td>\n",
              "      <td>Pave</td>\n",
              "      <td>NaN</td>\n",
              "      <td>IR1</td>\n",
              "      <td>Lvl</td>\n",
              "      <td>AllPub</td>\n",
              "      <td>...</td>\n",
              "      <td>0</td>\n",
              "      <td>0</td>\n",
              "      <td>NaN</td>\n",
              "      <td>NaN</td>\n",
              "      <td>NaN</td>\n",
              "      <td>0</td>\n",
              "      <td>2</td>\n",
              "      <td>2006</td>\n",
              "      <td>WD</td>\n",
              "      <td>Abnorml</td>\n",
              "    </tr>\n",
              "    <tr>\n",
              "      <th>4</th>\n",
              "      <td>5</td>\n",
              "      <td>60</td>\n",
              "      <td>RL</td>\n",
              "      <td>84.00000</td>\n",
              "      <td>14260</td>\n",
              "      <td>Pave</td>\n",
              "      <td>NaN</td>\n",
              "      <td>IR1</td>\n",
              "      <td>Lvl</td>\n",
              "      <td>AllPub</td>\n",
              "      <td>...</td>\n",
              "      <td>0</td>\n",
              "      <td>0</td>\n",
              "      <td>NaN</td>\n",
              "      <td>NaN</td>\n",
              "      <td>NaN</td>\n",
              "      <td>0</td>\n",
              "      <td>12</td>\n",
              "      <td>2008</td>\n",
              "      <td>WD</td>\n",
              "      <td>Normal</td>\n",
              "    </tr>\n",
              "    <tr>\n",
              "      <th>...</th>\n",
              "      <td>...</td>\n",
              "      <td>...</td>\n",
              "      <td>...</td>\n",
              "      <td>...</td>\n",
              "      <td>...</td>\n",
              "      <td>...</td>\n",
              "      <td>...</td>\n",
              "      <td>...</td>\n",
              "      <td>...</td>\n",
              "      <td>...</td>\n",
              "      <td>...</td>\n",
              "      <td>...</td>\n",
              "      <td>...</td>\n",
              "      <td>...</td>\n",
              "      <td>...</td>\n",
              "      <td>...</td>\n",
              "      <td>...</td>\n",
              "      <td>...</td>\n",
              "      <td>...</td>\n",
              "      <td>...</td>\n",
              "      <td>...</td>\n",
              "    </tr>\n",
              "    <tr>\n",
              "      <th>1454</th>\n",
              "      <td>2915</td>\n",
              "      <td>160</td>\n",
              "      <td>RM</td>\n",
              "      <td>21.00000</td>\n",
              "      <td>1936</td>\n",
              "      <td>Pave</td>\n",
              "      <td>NaN</td>\n",
              "      <td>Reg</td>\n",
              "      <td>Lvl</td>\n",
              "      <td>AllPub</td>\n",
              "      <td>...</td>\n",
              "      <td>0</td>\n",
              "      <td>0</td>\n",
              "      <td>NaN</td>\n",
              "      <td>NaN</td>\n",
              "      <td>NaN</td>\n",
              "      <td>0</td>\n",
              "      <td>6</td>\n",
              "      <td>2006</td>\n",
              "      <td>WD</td>\n",
              "      <td>Normal</td>\n",
              "    </tr>\n",
              "    <tr>\n",
              "      <th>1455</th>\n",
              "      <td>2916</td>\n",
              "      <td>160</td>\n",
              "      <td>RM</td>\n",
              "      <td>21.00000</td>\n",
              "      <td>1894</td>\n",
              "      <td>Pave</td>\n",
              "      <td>NaN</td>\n",
              "      <td>Reg</td>\n",
              "      <td>Lvl</td>\n",
              "      <td>AllPub</td>\n",
              "      <td>...</td>\n",
              "      <td>0</td>\n",
              "      <td>0</td>\n",
              "      <td>NaN</td>\n",
              "      <td>NaN</td>\n",
              "      <td>NaN</td>\n",
              "      <td>0</td>\n",
              "      <td>4</td>\n",
              "      <td>2006</td>\n",
              "      <td>WD</td>\n",
              "      <td>Abnorml</td>\n",
              "    </tr>\n",
              "    <tr>\n",
              "      <th>1456</th>\n",
              "      <td>2917</td>\n",
              "      <td>20</td>\n",
              "      <td>RL</td>\n",
              "      <td>160.00000</td>\n",
              "      <td>20000</td>\n",
              "      <td>Pave</td>\n",
              "      <td>NaN</td>\n",
              "      <td>Reg</td>\n",
              "      <td>Lvl</td>\n",
              "      <td>AllPub</td>\n",
              "      <td>...</td>\n",
              "      <td>0</td>\n",
              "      <td>0</td>\n",
              "      <td>NaN</td>\n",
              "      <td>NaN</td>\n",
              "      <td>NaN</td>\n",
              "      <td>0</td>\n",
              "      <td>9</td>\n",
              "      <td>2006</td>\n",
              "      <td>WD</td>\n",
              "      <td>Abnorml</td>\n",
              "    </tr>\n",
              "    <tr>\n",
              "      <th>1457</th>\n",
              "      <td>2918</td>\n",
              "      <td>85</td>\n",
              "      <td>RL</td>\n",
              "      <td>62.00000</td>\n",
              "      <td>10441</td>\n",
              "      <td>Pave</td>\n",
              "      <td>NaN</td>\n",
              "      <td>Reg</td>\n",
              "      <td>Lvl</td>\n",
              "      <td>AllPub</td>\n",
              "      <td>...</td>\n",
              "      <td>0</td>\n",
              "      <td>0</td>\n",
              "      <td>NaN</td>\n",
              "      <td>MnPrv</td>\n",
              "      <td>Shed</td>\n",
              "      <td>700</td>\n",
              "      <td>7</td>\n",
              "      <td>2006</td>\n",
              "      <td>WD</td>\n",
              "      <td>Normal</td>\n",
              "    </tr>\n",
              "    <tr>\n",
              "      <th>1458</th>\n",
              "      <td>2919</td>\n",
              "      <td>60</td>\n",
              "      <td>RL</td>\n",
              "      <td>74.00000</td>\n",
              "      <td>9627</td>\n",
              "      <td>Pave</td>\n",
              "      <td>NaN</td>\n",
              "      <td>Reg</td>\n",
              "      <td>Lvl</td>\n",
              "      <td>AllPub</td>\n",
              "      <td>...</td>\n",
              "      <td>0</td>\n",
              "      <td>0</td>\n",
              "      <td>NaN</td>\n",
              "      <td>NaN</td>\n",
              "      <td>NaN</td>\n",
              "      <td>0</td>\n",
              "      <td>11</td>\n",
              "      <td>2006</td>\n",
              "      <td>WD</td>\n",
              "      <td>Normal</td>\n",
              "    </tr>\n",
              "  </tbody>\n",
              "</table>\n",
              "<p>2919 rows × 80 columns</p>\n",
              "</div>\n",
              "      <button class=\"colab-df-convert\" onclick=\"convertToInteractive('df-ec9f8d10-6797-4de3-96e4-4a1f8b37f357')\"\n",
              "              title=\"Convert this dataframe to an interactive table.\"\n",
              "              style=\"display:none;\">\n",
              "        \n",
              "  <svg xmlns=\"http://www.w3.org/2000/svg\" height=\"24px\"viewBox=\"0 0 24 24\"\n",
              "       width=\"24px\">\n",
              "    <path d=\"M0 0h24v24H0V0z\" fill=\"none\"/>\n",
              "    <path d=\"M18.56 5.44l.94 2.06.94-2.06 2.06-.94-2.06-.94-.94-2.06-.94 2.06-2.06.94zm-11 1L8.5 8.5l.94-2.06 2.06-.94-2.06-.94L8.5 2.5l-.94 2.06-2.06.94zm10 10l.94 2.06.94-2.06 2.06-.94-2.06-.94-.94-2.06-.94 2.06-2.06.94z\"/><path d=\"M17.41 7.96l-1.37-1.37c-.4-.4-.92-.59-1.43-.59-.52 0-1.04.2-1.43.59L10.3 9.45l-7.72 7.72c-.78.78-.78 2.05 0 2.83L4 21.41c.39.39.9.59 1.41.59.51 0 1.02-.2 1.41-.59l7.78-7.78 2.81-2.81c.8-.78.8-2.07 0-2.86zM5.41 20L4 18.59l7.72-7.72 1.47 1.35L5.41 20z\"/>\n",
              "  </svg>\n",
              "      </button>\n",
              "      \n",
              "  <style>\n",
              "    .colab-df-container {\n",
              "      display:flex;\n",
              "      flex-wrap:wrap;\n",
              "      gap: 12px;\n",
              "    }\n",
              "\n",
              "    .colab-df-convert {\n",
              "      background-color: #E8F0FE;\n",
              "      border: none;\n",
              "      border-radius: 50%;\n",
              "      cursor: pointer;\n",
              "      display: none;\n",
              "      fill: #1967D2;\n",
              "      height: 32px;\n",
              "      padding: 0 0 0 0;\n",
              "      width: 32px;\n",
              "    }\n",
              "\n",
              "    .colab-df-convert:hover {\n",
              "      background-color: #E2EBFA;\n",
              "      box-shadow: 0px 1px 2px rgba(60, 64, 67, 0.3), 0px 1px 3px 1px rgba(60, 64, 67, 0.15);\n",
              "      fill: #174EA6;\n",
              "    }\n",
              "\n",
              "    [theme=dark] .colab-df-convert {\n",
              "      background-color: #3B4455;\n",
              "      fill: #D2E3FC;\n",
              "    }\n",
              "\n",
              "    [theme=dark] .colab-df-convert:hover {\n",
              "      background-color: #434B5C;\n",
              "      box-shadow: 0px 1px 3px 1px rgba(0, 0, 0, 0.15);\n",
              "      filter: drop-shadow(0px 1px 2px rgba(0, 0, 0, 0.3));\n",
              "      fill: #FFFFFF;\n",
              "    }\n",
              "  </style>\n",
              "\n",
              "      <script>\n",
              "        const buttonEl =\n",
              "          document.querySelector('#df-ec9f8d10-6797-4de3-96e4-4a1f8b37f357 button.colab-df-convert');\n",
              "        buttonEl.style.display =\n",
              "          google.colab.kernel.accessAllowed ? 'block' : 'none';\n",
              "\n",
              "        async function convertToInteractive(key) {\n",
              "          const element = document.querySelector('#df-ec9f8d10-6797-4de3-96e4-4a1f8b37f357');\n",
              "          const dataTable =\n",
              "            await google.colab.kernel.invokeFunction('convertToInteractive',\n",
              "                                                     [key], {});\n",
              "          if (!dataTable) return;\n",
              "\n",
              "          const docLinkHtml = 'Like what you see? Visit the ' +\n",
              "            '<a target=\"_blank\" href=https://colab.research.google.com/notebooks/data_table.ipynb>data table notebook</a>'\n",
              "            + ' to learn more about interactive tables.';\n",
              "          element.innerHTML = '';\n",
              "          dataTable['output_type'] = 'display_data';\n",
              "          await google.colab.output.renderOutput(dataTable, element);\n",
              "          const docLink = document.createElement('div');\n",
              "          docLink.innerHTML = docLinkHtml;\n",
              "          element.appendChild(docLink);\n",
              "        }\n",
              "      </script>\n",
              "    </div>\n",
              "  </div>\n",
              "  "
            ]
          },
          "metadata": {},
          "execution_count": 10
        }
      ]
    },
    {
      "cell_type": "markdown",
      "source": [
        "Plan of attack\n",
        "* Analysis\n",
        "* Clean up\n",
        "  * Nulls\n",
        "  * Outlier values\n",
        "* Feature engineering\n",
        "* Numericals to categoricals\n",
        "* Ordinals\n",
        "* Do some correlation and pairplotting\n",
        "* Drop columns\n",
        "  * Use the xnum threshold method\n",
        "* Preprocessing\n",
        "  * Transforming\n",
        "  * Scaling\n",
        "  * Encoding\n",
        "* Regression and analysis"
      ],
      "metadata": {
        "id": "8pUCWeAqJpuY"
      }
    },
    {
      "cell_type": "markdown",
      "source": [
        "# Analysis"
      ],
      "metadata": {
        "id": "t5x70hrFKZG3"
      }
    },
    {
      "cell_type": "code",
      "source": [
        "x.info()"
      ],
      "metadata": {
        "colab": {
          "base_uri": "https://localhost:8080/"
        },
        "id": "WdYQtgINJfSN",
        "outputId": "3c9e64a4-9a9e-4cc7-9033-740949f48ca8"
      },
      "execution_count": 11,
      "outputs": [
        {
          "output_type": "stream",
          "name": "stdout",
          "text": [
            "<class 'pandas.core.frame.DataFrame'>\n",
            "Int64Index: 2919 entries, 0 to 1458\n",
            "Data columns (total 80 columns):\n",
            " #   Column         Non-Null Count  Dtype  \n",
            "---  ------         --------------  -----  \n",
            " 0   Id             2919 non-null   int64  \n",
            " 1   MSSubClass     2919 non-null   int64  \n",
            " 2   MSZoning       2915 non-null   object \n",
            " 3   LotFrontage    2433 non-null   float64\n",
            " 4   LotArea        2919 non-null   int64  \n",
            " 5   Street         2919 non-null   object \n",
            " 6   Alley          198 non-null    object \n",
            " 7   LotShape       2919 non-null   object \n",
            " 8   LandContour    2919 non-null   object \n",
            " 9   Utilities      2917 non-null   object \n",
            " 10  LotConfig      2919 non-null   object \n",
            " 11  LandSlope      2919 non-null   object \n",
            " 12  Neighborhood   2919 non-null   object \n",
            " 13  Condition1     2919 non-null   object \n",
            " 14  Condition2     2919 non-null   object \n",
            " 15  BldgType       2919 non-null   object \n",
            " 16  HouseStyle     2919 non-null   object \n",
            " 17  OverallQual    2919 non-null   int64  \n",
            " 18  OverallCond    2919 non-null   int64  \n",
            " 19  YearBuilt      2919 non-null   int64  \n",
            " 20  YearRemodAdd   2919 non-null   int64  \n",
            " 21  RoofStyle      2919 non-null   object \n",
            " 22  RoofMatl       2919 non-null   object \n",
            " 23  Exterior1st    2918 non-null   object \n",
            " 24  Exterior2nd    2918 non-null   object \n",
            " 25  MasVnrType     2895 non-null   object \n",
            " 26  MasVnrArea     2896 non-null   float64\n",
            " 27  ExterQual      2919 non-null   object \n",
            " 28  ExterCond      2919 non-null   object \n",
            " 29  Foundation     2919 non-null   object \n",
            " 30  BsmtQual       2838 non-null   object \n",
            " 31  BsmtCond       2837 non-null   object \n",
            " 32  BsmtExposure   2837 non-null   object \n",
            " 33  BsmtFinType1   2840 non-null   object \n",
            " 34  BsmtFinSF1     2918 non-null   float64\n",
            " 35  BsmtFinType2   2839 non-null   object \n",
            " 36  BsmtFinSF2     2918 non-null   float64\n",
            " 37  BsmtUnfSF      2918 non-null   float64\n",
            " 38  TotalBsmtSF    2918 non-null   float64\n",
            " 39  Heating        2919 non-null   object \n",
            " 40  HeatingQC      2919 non-null   object \n",
            " 41  CentralAir     2919 non-null   object \n",
            " 42  Electrical     2918 non-null   object \n",
            " 43  1stFlrSF       2919 non-null   int64  \n",
            " 44  2ndFlrSF       2919 non-null   int64  \n",
            " 45  LowQualFinSF   2919 non-null   int64  \n",
            " 46  GrLivArea      2919 non-null   int64  \n",
            " 47  BsmtFullBath   2917 non-null   float64\n",
            " 48  BsmtHalfBath   2917 non-null   float64\n",
            " 49  FullBath       2919 non-null   int64  \n",
            " 50  HalfBath       2919 non-null   int64  \n",
            " 51  BedroomAbvGr   2919 non-null   int64  \n",
            " 52  KitchenAbvGr   2919 non-null   int64  \n",
            " 53  KitchenQual    2918 non-null   object \n",
            " 54  TotRmsAbvGrd   2919 non-null   int64  \n",
            " 55  Functional     2917 non-null   object \n",
            " 56  Fireplaces     2919 non-null   int64  \n",
            " 57  FireplaceQu    1499 non-null   object \n",
            " 58  GarageType     2762 non-null   object \n",
            " 59  GarageYrBlt    2760 non-null   float64\n",
            " 60  GarageFinish   2760 non-null   object \n",
            " 61  GarageCars     2918 non-null   float64\n",
            " 62  GarageArea     2918 non-null   float64\n",
            " 63  GarageQual     2760 non-null   object \n",
            " 64  GarageCond     2760 non-null   object \n",
            " 65  PavedDrive     2919 non-null   object \n",
            " 66  WoodDeckSF     2919 non-null   int64  \n",
            " 67  OpenPorchSF    2919 non-null   int64  \n",
            " 68  EnclosedPorch  2919 non-null   int64  \n",
            " 69  3SsnPorch      2919 non-null   int64  \n",
            " 70  ScreenPorch    2919 non-null   int64  \n",
            " 71  PoolArea       2919 non-null   int64  \n",
            " 72  PoolQC         10 non-null     object \n",
            " 73  Fence          571 non-null    object \n",
            " 74  MiscFeature    105 non-null    object \n",
            " 75  MiscVal        2919 non-null   int64  \n",
            " 76  MoSold         2919 non-null   int64  \n",
            " 77  YrSold         2919 non-null   int64  \n",
            " 78  SaleType       2918 non-null   object \n",
            " 79  SaleCondition  2919 non-null   object \n",
            "dtypes: float64(11), int64(26), object(43)\n",
            "memory usage: 1.8+ MB\n"
          ]
        }
      ]
    },
    {
      "cell_type": "code",
      "source": [
        "y.hist(bins = 20)"
      ],
      "metadata": {
        "colab": {
          "base_uri": "https://localhost:8080/",
          "height": 316
        },
        "id": "Qx3R-vKQKq8C",
        "outputId": "948e75d9-3a71-4890-c318-c72e7d024632"
      },
      "execution_count": 12,
      "outputs": [
        {
          "output_type": "execute_result",
          "data": {
            "text/plain": [
              "array([[<matplotlib.axes._subplots.AxesSubplot object at 0x7f5a2d20ab90>]],\n",
              "      dtype=object)"
            ]
          },
          "metadata": {},
          "execution_count": 12
        },
        {
          "output_type": "display_data",
          "data": {
            "text/plain": [
              "<Figure size 432x288 with 1 Axes>"
            ],
            "image/png": "[encoded data removed]"
          },
          "metadata": {
            "needs_background": "light"
          }
        }
      ]
    },
    {
      "cell_type": "markdown",
      "source": [
        "Correlations"
      ],
      "metadata": {
        "id": "f5I5NXRuKYl1"
      }
    },
    {
      "cell_type": "code",
      "source": [
        "# plt.figure(figsize =(30,10))\n",
        "# heatmap = sns.heatmap(train.corr(), annot=True, vmin = -1, vmax = 1, cmap = 'BrBG')"
      ],
      "metadata": {
        "id": "38vJVlLxOysL"
      },
      "execution_count": 13,
      "outputs": []
    },
    {
      "cell_type": "markdown",
      "source": [
        "## Clean up"
      ],
      "metadata": {
        "id": "CfT8kjhqKYhW"
      }
    },
    {
      "cell_type": "markdown",
      "source": [
        "#### Clean up columns where nulls = 'none'\n",
        "\n",
        "* PoolQC - 'No pool'\n",
        "* Fence - 'No fence'\n",
        "* MiscFeature - 'No feature'\n",
        "* Alley - 'No alley'\n",
        "* BsmtQual - 'No basement'\n",
        "* BsmtCond - 'No basement'\n",
        "* BsmtExposure - 'No basement'\n",
        "* BsmtFinType1 - 'No basement'\n",
        "* BsmtFinType2 - 'No basement'\n",
        "* FireplaceQu - 'No fireplace'\n",
        "* GarageType - 'No garage'\n",
        "* GarageYrBlt - 'No garage'\n",
        "* GarageQual - 'No garage'\n",
        "* GarageCond - 'No garage'\n"
      ],
      "metadata": {
        "id": "ZjdHd16hc1_d"
      }
    },
    {
      "cell_type": "code",
      "source": [
        "x.isnull().sum().sum()"
      ],
      "metadata": {
        "colab": {
          "base_uri": "https://localhost:8080/"
        },
        "id": "5Uc9TmL994pw",
        "outputId": "99db4b7d-4d26-451b-947c-e4901ec4e6be"
      },
      "execution_count": 14,
      "outputs": [
        {
          "output_type": "execute_result",
          "data": {
            "text/plain": [
              "13965"
            ]
          },
          "metadata": {},
          "execution_count": 14
        }
      ]
    },
    {
      "cell_type": "code",
      "source": [
        "x.PoolQC.fillna('No Pool', inplace=True) # PoolQC \n",
        "x.Fence.fillna('No Fence', inplace=True) # Fence\n",
        "x.MiscFeature.fillna('None', inplace=True) # MiscFeature\n",
        "x.Alley.fillna('No alley access', inplace=True) # Alley\n",
        "x.BsmtQual.fillna('No basement', inplace=True) # BsmtQual\n",
        "x.BsmtCond.fillna('No basement', inplace=True) # BsmtCond\n",
        "x.BsmtExposure.fillna('No basement', inplace=True) # BsmtExposure\n",
        "x.BsmtFinType1.fillna('No basement', inplace=True) # BsmtFinType1\n",
        "x.BsmtFinType2.fillna('No basement', inplace=True) # BsmtFinType2\n",
        "x.FireplaceQu.fillna('No fireplace', inplace=True) # FireplaceQu\n",
        "x.GarageType.fillna('No garage', inplace=True) # GarageType\n",
        "x.GarageYrBlt.fillna('No garage', inplace=True) # GarageYrBlt\n",
        "x.GarageQual.fillna('No garage', inplace=True) # GarageQual\n",
        "x.GarageCond.fillna('No garage', inplace=True) # GarageCond\n",
        "x.GarageFinish.fillna('No garage', inplace=True) # GarageFinish"
      ],
      "metadata": {
        "id": "gOolCJu07f6M"
      },
      "execution_count": 15,
      "outputs": []
    },
    {
      "cell_type": "code",
      "source": [
        "x.isnull().sum().sum()"
      ],
      "metadata": {
        "colab": {
          "base_uri": "https://localhost:8080/"
        },
        "id": "_IZOQTQ8-AfP",
        "outputId": "5907dd74-f171-4223-c15e-62c9671ce777"
      },
      "execution_count": 16,
      "outputs": [
        {
          "output_type": "execute_result",
          "data": {
            "text/plain": [
              "556"
            ]
          },
          "metadata": {},
          "execution_count": 16
        }
      ]
    },
    {
      "cell_type": "markdown",
      "source": [
        "### Filling in nulls"
      ],
      "metadata": {
        "id": "a_DTyJPLgzxf"
      }
    },
    {
      "cell_type": "code",
      "source": [
        "isnull = x.isnull().sum().sort_values(ascending=False)\n",
        "isnull = isnull[isnull > 0]\n",
        "isnull"
      ],
      "metadata": {
        "colab": {
          "base_uri": "https://localhost:8080/"
        },
        "id": "M1jQi_8Eg1RT",
        "outputId": "7bcbc11c-394d-41a6-c1a6-6474d6deba72"
      },
      "execution_count": 17,
      "outputs": [
        {
          "output_type": "execute_result",
          "data": {
            "text/plain": [
              "LotFrontage     486\n",
              "MasVnrType       24\n",
              "MasVnrArea       23\n",
              "MSZoning          4\n",
              "BsmtFullBath      2\n",
              "BsmtHalfBath      2\n",
              "Functional        2\n",
              "Utilities         2\n",
              "BsmtFinSF1        1\n",
              "Exterior2nd       1\n",
              "BsmtFinSF2        1\n",
              "KitchenQual       1\n",
              "GarageArea        1\n",
              "BsmtUnfSF         1\n",
              "TotalBsmtSF       1\n",
              "Electrical        1\n",
              "GarageCars        1\n",
              "Exterior1st       1\n",
              "SaleType          1\n",
              "dtype: int64"
            ]
          },
          "metadata": {},
          "execution_count": 17
        }
      ]
    },
    {
      "cell_type": "code",
      "source": [
        "isnull_under_100 = isnull[isnull < 100]\n",
        "list_isnull_under_100 = isnull_under_100.index.tolist()\n",
        "\n",
        "list_isnull_under_100"
      ],
      "metadata": {
        "colab": {
          "base_uri": "https://localhost:8080/"
        },
        "id": "y0qaoyKAjcZS",
        "outputId": "8bc7a4c7-63bc-43c9-daa0-51141bd2c7e4"
      },
      "execution_count": 18,
      "outputs": [
        {
          "output_type": "execute_result",
          "data": {
            "text/plain": [
              "['MasVnrType',\n",
              " 'MasVnrArea',\n",
              " 'MSZoning',\n",
              " 'BsmtFullBath',\n",
              " 'BsmtHalfBath',\n",
              " 'Functional',\n",
              " 'Utilities',\n",
              " 'BsmtFinSF1',\n",
              " 'Exterior2nd',\n",
              " 'BsmtFinSF2',\n",
              " 'KitchenQual',\n",
              " 'GarageArea',\n",
              " 'BsmtUnfSF',\n",
              " 'TotalBsmtSF',\n",
              " 'Electrical',\n",
              " 'GarageCars',\n",
              " 'Exterior1st',\n",
              " 'SaleType']"
            ]
          },
          "metadata": {},
          "execution_count": 18
        }
      ]
    },
    {
      "cell_type": "code",
      "source": [
        "for i in list_isnull_under_100:\n",
        "  try:\n",
        "    x[i].fillna(x[i].median()[0], inplace=True)\n",
        "  except:\n",
        "    x[i].fillna(x[i].mode()[0], inplace=True)"
      ],
      "metadata": {
        "id": "h1mtxueukQ4i"
      },
      "execution_count": 19,
      "outputs": []
    },
    {
      "cell_type": "code",
      "source": [
        "isnull = x.isnull().sum().sort_values(ascending=False)\n",
        "isnull = isnull[isnull > 0]\n",
        "isnull"
      ],
      "metadata": {
        "colab": {
          "base_uri": "https://localhost:8080/"
        },
        "id": "v1APtEx7lFW1",
        "outputId": "59260dfc-9748-445d-86f9-e837246d2e96"
      },
      "execution_count": 20,
      "outputs": [
        {
          "output_type": "execute_result",
          "data": {
            "text/plain": [
              "LotFrontage    486\n",
              "dtype: int64"
            ]
          },
          "metadata": {},
          "execution_count": 20
        }
      ]
    },
    {
      "cell_type": "code",
      "source": [
        "x.groupby('LotConfig')['LotFrontage'].median()"
      ],
      "metadata": {
        "colab": {
          "base_uri": "https://localhost:8080/"
        },
        "id": "xg9YmCLMmWJy",
        "outputId": "f679dcf2-1cad-48b1-fd92-43aca1a67979"
      },
      "execution_count": 21,
      "outputs": [
        {
          "output_type": "execute_result",
          "data": {
            "text/plain": [
              "LotConfig\n",
              "Corner    80.00000\n",
              "CulDSac   50.00000\n",
              "FR2       62.00000\n",
              "FR3       66.00000\n",
              "Inside    66.00000\n",
              "Name: LotFrontage, dtype: float64"
            ]
          },
          "metadata": {},
          "execution_count": 21
        }
      ]
    },
    {
      "cell_type": "code",
      "source": [
        "x.LotFrontage.fillna(x.groupby('LotConfig')['LotFrontage'].transform('median'),inplace=True)"
      ],
      "metadata": {
        "id": "p3lkStWQoEET"
      },
      "execution_count": 22,
      "outputs": []
    },
    {
      "cell_type": "code",
      "source": [
        "isnull = x.isnull().sum().sort_values(ascending=False)\n",
        "isnull = isnull[isnull > 0]\n",
        "isnull"
      ],
      "metadata": {
        "colab": {
          "base_uri": "https://localhost:8080/"
        },
        "id": "46d6FWUho0jP",
        "outputId": "687d37bb-695e-45d6-c55c-c35e59d60c24"
      },
      "execution_count": 23,
      "outputs": [
        {
          "output_type": "execute_result",
          "data": {
            "text/plain": [
              "Series([], dtype: int64)"
            ]
          },
          "metadata": {},
          "execution_count": 23
        }
      ]
    },
    {
      "cell_type": "markdown",
      "source": [
        "### Looking for outliers"
      ],
      "metadata": {
        "id": "s8miaXO_xmth"
      }
    },
    {
      "cell_type": "markdown",
      "source": [
        "### Fix some categoricals\n",
        "* CentralAir: make it 1 and 0"
      ],
      "metadata": {
        "id": "ce5grZK1aJrd"
      }
    },
    {
      "cell_type": "code",
      "source": [
        "x['CentralAir'] = x['CentralAir'].apply(lambda x: 1 if x == 'Y' else 0)"
      ],
      "metadata": {
        "id": "5ShSvDGBafOX"
      },
      "execution_count": 24,
      "outputs": []
    },
    {
      "cell_type": "code",
      "source": [
        "x['CentralAir'] = x['CentralAir'].astype('object')"
      ],
      "metadata": {
        "id": "wuU7CVb6byKd"
      },
      "execution_count": 25,
      "outputs": []
    },
    {
      "cell_type": "markdown",
      "source": [
        "# Feature Engineering"
      ],
      "metadata": {
        "id": "9ouDOqZV0sDX"
      }
    },
    {
      "cell_type": "markdown",
      "source": [
        "#### Features to engineer\n",
        "1. Total square footage (sum all of the sq fts)\n",
        "1.  Total # of bathrooms\n",
        "1.  Total porch sq\n",
        "1.  Does it have a pool?\n",
        "1.  Does it have a 2nd floor?\n",
        "1. Does it have a garage\n",
        "1. Does it have a basement?\n",
        "1. Does it have a fireplace?"
      ],
      "metadata": {
        "id": "K8X1U31m3Iby"
      }
    },
    {
      "cell_type": "code",
      "source": [
        "# Total square footage"
      ],
      "metadata": {
        "id": "gTGMMIoOAIyN"
      },
      "execution_count": 26,
      "outputs": []
    },
    {
      "cell_type": "code",
      "source": [
        "# Total # of bathrooms"
      ],
      "metadata": {
        "id": "cRMim6_kAItO"
      },
      "execution_count": 27,
      "outputs": []
    },
    {
      "cell_type": "code",
      "source": [
        "# Total porch square footage"
      ],
      "metadata": {
        "id": "176CEsI3AInZ"
      },
      "execution_count": 28,
      "outputs": []
    },
    {
      "cell_type": "code",
      "source": [
        "# Does it have a pool (2906)\n",
        "x['HasPool'] = x['PoolArea'].apply(lambda x: 1 if x >0 else 0).astype('category')"
      ],
      "metadata": {
        "id": "f7f9v06dAIgc"
      },
      "execution_count": 29,
      "outputs": []
    },
    {
      "cell_type": "code",
      "source": [
        "# Does it have a 2nd floor\n",
        "x['Has2ndFloor'] = x['2ndFlrSF'].apply(lambda x: 1 if x > 0 else 0).astype('category')"
      ],
      "metadata": {
        "id": "yWAjZHbpAIdv"
      },
      "execution_count": 30,
      "outputs": []
    },
    {
      "cell_type": "code",
      "source": [
        "# Does it have a garage\n",
        "x['HasGarage'] = x['GarageArea'].apply(lambda x: 1 if x > 0 else 0).astype('category')"
      ],
      "metadata": {
        "id": "almg6RS2AIbG"
      },
      "execution_count": 31,
      "outputs": []
    },
    {
      "cell_type": "code",
      "source": [
        "# Does it have a basement\n",
        "x['HasBasement'] = x['TotalBsmtSF'].apply(lambda x: 1 if x > 0 else 0).astype('category')"
      ],
      "metadata": {
        "id": "O-FhAS20AIYc"
      },
      "execution_count": 32,
      "outputs": []
    },
    {
      "cell_type": "code",
      "source": [
        "# Does it have a fireplace?\n",
        "x['HasFireplace'] = x['Fireplaces'].apply(lambda x: 1 if x > 0 else 0).astype('category')"
      ],
      "metadata": {
        "id": "_g-dkkmvAIVo"
      },
      "execution_count": 33,
      "outputs": []
    },
    {
      "cell_type": "markdown",
      "source": [
        "# Preprocessing"
      ],
      "metadata": {
        "id": "g5y_HozbKYem"
      }
    },
    {
      "cell_type": "markdown",
      "source": [
        "Changing objects to numericals"
      ],
      "metadata": {
        "id": "5uICc30e2WO_"
      }
    },
    {
      "cell_type": "code",
      "source": [
        "xcat = x.select_dtypes(include='object')\n",
        "xcat.info()"
      ],
      "metadata": {
        "colab": {
          "base_uri": "https://localhost:8080/"
        },
        "id": "kRGOjm1G2IIY",
        "outputId": "f1d8b5e1-abf5-4199-c21d-aef8fb46fa6d"
      },
      "execution_count": 34,
      "outputs": [
        {
          "output_type": "stream",
          "name": "stdout",
          "text": [
            "<class 'pandas.core.frame.DataFrame'>\n",
            "Int64Index: 2919 entries, 0 to 1458\n",
            "Data columns (total 44 columns):\n",
            " #   Column         Non-Null Count  Dtype \n",
            "---  ------         --------------  ----- \n",
            " 0   MSZoning       2919 non-null   object\n",
            " 1   Street         2919 non-null   object\n",
            " 2   Alley          2919 non-null   object\n",
            " 3   LotShape       2919 non-null   object\n",
            " 4   LandContour    2919 non-null   object\n",
            " 5   Utilities      2919 non-null   object\n",
            " 6   LotConfig      2919 non-null   object\n",
            " 7   LandSlope      2919 non-null   object\n",
            " 8   Neighborhood   2919 non-null   object\n",
            " 9   Condition1     2919 non-null   object\n",
            " 10  Condition2     2919 non-null   object\n",
            " 11  BldgType       2919 non-null   object\n",
            " 12  HouseStyle     2919 non-null   object\n",
            " 13  RoofStyle      2919 non-null   object\n",
            " 14  RoofMatl       2919 non-null   object\n",
            " 15  Exterior1st    2919 non-null   object\n",
            " 16  Exterior2nd    2919 non-null   object\n",
            " 17  MasVnrType     2919 non-null   object\n",
            " 18  ExterQual      2919 non-null   object\n",
            " 19  ExterCond      2919 non-null   object\n",
            " 20  Foundation     2919 non-null   object\n",
            " 21  BsmtQual       2919 non-null   object\n",
            " 22  BsmtCond       2919 non-null   object\n",
            " 23  BsmtExposure   2919 non-null   object\n",
            " 24  BsmtFinType1   2919 non-null   object\n",
            " 25  BsmtFinType2   2919 non-null   object\n",
            " 26  Heating        2919 non-null   object\n",
            " 27  HeatingQC      2919 non-null   object\n",
            " 28  CentralAir     2919 non-null   object\n",
            " 29  Electrical     2919 non-null   object\n",
            " 30  KitchenQual    2919 non-null   object\n",
            " 31  Functional     2919 non-null   object\n",
            " 32  FireplaceQu    2919 non-null   object\n",
            " 33  GarageType     2919 non-null   object\n",
            " 34  GarageYrBlt    2919 non-null   object\n",
            " 35  GarageFinish   2919 non-null   object\n",
            " 36  GarageQual     2919 non-null   object\n",
            " 37  GarageCond     2919 non-null   object\n",
            " 38  PavedDrive     2919 non-null   object\n",
            " 39  PoolQC         2919 non-null   object\n",
            " 40  Fence          2919 non-null   object\n",
            " 41  MiscFeature    2919 non-null   object\n",
            " 42  SaleType       2919 non-null   object\n",
            " 43  SaleCondition  2919 non-null   object\n",
            "dtypes: object(44)\n",
            "memory usage: 1.0+ MB\n"
          ]
        }
      ]
    },
    {
      "cell_type": "code",
      "source": [
        "xnum = x.select_dtypes(include = 'number')"
      ],
      "metadata": {
        "id": "QxyJemCR1Vv0"
      },
      "execution_count": 35,
      "outputs": []
    },
    {
      "cell_type": "code",
      "source": [
        "xnum"
      ],
      "metadata": {
        "colab": {
          "base_uri": "https://localhost:8080/",
          "height": 488
        },
        "id": "92x5uiLau9Ww",
        "outputId": "f5607d3f-d9ae-4382-d472-640bff726a58"
      },
      "execution_count": 36,
      "outputs": [
        {
          "output_type": "execute_result",
          "data": {
            "text/plain": [
              "        Id  MSSubClass  LotFrontage  LotArea  OverallQual  OverallCond  \\\n",
              "0        1          60     65.00000     8450            7            5   \n",
              "1        2          20     80.00000     9600            6            8   \n",
              "2        3          60     68.00000    11250            7            5   \n",
              "3        4          70     60.00000     9550            7            5   \n",
              "4        5          60     84.00000    14260            8            5   \n",
              "...    ...         ...          ...      ...          ...          ...   \n",
              "1454  2915         160     21.00000     1936            4            7   \n",
              "1455  2916         160     21.00000     1894            4            5   \n",
              "1456  2917          20    160.00000    20000            5            7   \n",
              "1457  2918          85     62.00000    10441            5            5   \n",
              "1458  2919          60     74.00000     9627            7            5   \n",
              "\n",
              "      YearBuilt  YearRemodAdd  MasVnrArea  BsmtFinSF1  ...  GarageArea  \\\n",
              "0          2003          2003   196.00000   706.00000  ...   548.00000   \n",
              "1          1976          1976     0.00000   978.00000  ...   460.00000   \n",
              "2          2001          2002   162.00000   486.00000  ...   608.00000   \n",
              "3          1915          1970     0.00000   216.00000  ...   642.00000   \n",
              "4          2000          2000   350.00000   655.00000  ...   836.00000   \n",
              "...         ...           ...         ...         ...  ...         ...   \n",
              "1454       1970          1970     0.00000     0.00000  ...     0.00000   \n",
              "1455       1970          1970     0.00000   252.00000  ...   286.00000   \n",
              "1456       1960          1996     0.00000  1224.00000  ...   576.00000   \n",
              "1457       1992          1992     0.00000   337.00000  ...     0.00000   \n",
              "1458       1993          1994    94.00000   758.00000  ...   650.00000   \n",
              "\n",
              "      WoodDeckSF  OpenPorchSF  EnclosedPorch  3SsnPorch  ScreenPorch  \\\n",
              "0              0           61              0          0            0   \n",
              "1            298            0              0          0            0   \n",
              "2              0           42              0          0            0   \n",
              "3              0           35            272          0            0   \n",
              "4            192           84              0          0            0   \n",
              "...          ...          ...            ...        ...          ...   \n",
              "1454           0            0              0          0            0   \n",
              "1455           0           24              0          0            0   \n",
              "1456         474            0              0          0            0   \n",
              "1457          80           32              0          0            0   \n",
              "1458         190           48              0          0            0   \n",
              "\n",
              "      PoolArea  MiscVal  MoSold  YrSold  \n",
              "0            0        0       2    2008  \n",
              "1            0        0       5    2007  \n",
              "2            0        0       9    2008  \n",
              "3            0        0       2    2006  \n",
              "4            0        0      12    2008  \n",
              "...        ...      ...     ...     ...  \n",
              "1454         0        0       6    2006  \n",
              "1455         0        0       4    2006  \n",
              "1456         0        0       9    2006  \n",
              "1457         0      700       7    2006  \n",
              "1458         0        0      11    2006  \n",
              "\n",
              "[2919 rows x 36 columns]"
            ],
            "text/html": [
              "\n",
              "  <div id=\"df-156eeca8-16b1-4b58-a6ec-c80cc1f05ca3\">\n",
              "    <div class=\"colab-df-container\">\n",
              "      <div>\n",
              "<style scoped>\n",
              "    .dataframe tbody tr th:only-of-type {\n",
              "        vertical-align: middle;\n",
              "    }\n",
              "\n",
              "    .dataframe tbody tr th {\n",
              "        vertical-align: top;\n",
              "    }\n",
              "\n",
              "    .dataframe thead th {\n",
              "        text-align: right;\n",
              "    }\n",
              "</style>\n",
              "<table border=\"1\" class=\"dataframe\">\n",
              "  <thead>\n",
              "    <tr style=\"text-align: right;\">\n",
              "      <th></th>\n",
              "      <th>Id</th>\n",
              "      <th>MSSubClass</th>\n",
              "      <th>LotFrontage</th>\n",
              "      <th>LotArea</th>\n",
              "      <th>OverallQual</th>\n",
              "      <th>OverallCond</th>\n",
              "      <th>YearBuilt</th>\n",
              "      <th>YearRemodAdd</th>\n",
              "      <th>MasVnrArea</th>\n",
              "      <th>BsmtFinSF1</th>\n",
              "      <th>...</th>\n",
              "      <th>GarageArea</th>\n",
              "      <th>WoodDeckSF</th>\n",
              "      <th>OpenPorchSF</th>\n",
              "      <th>EnclosedPorch</th>\n",
              "      <th>3SsnPorch</th>\n",
              "      <th>ScreenPorch</th>\n",
              "      <th>PoolArea</th>\n",
              "      <th>MiscVal</th>\n",
              "      <th>MoSold</th>\n",
              "      <th>YrSold</th>\n",
              "    </tr>\n",
              "  </thead>\n",
              "  <tbody>\n",
              "    <tr>\n",
              "      <th>0</th>\n",
              "      <td>1</td>\n",
              "      <td>60</td>\n",
              "      <td>65.00000</td>\n",
              "      <td>8450</td>\n",
              "      <td>7</td>\n",
              "      <td>5</td>\n",
              "      <td>2003</td>\n",
              "      <td>2003</td>\n",
              "      <td>196.00000</td>\n",
              "      <td>706.00000</td>\n",
              "      <td>...</td>\n",
              "      <td>548.00000</td>\n",
              "      <td>0</td>\n",
              "      <td>61</td>\n",
              "      <td>0</td>\n",
              "      <td>0</td>\n",
              "      <td>0</td>\n",
              "      <td>0</td>\n",
              "      <td>0</td>\n",
              "      <td>2</td>\n",
              "      <td>2008</td>\n",
              "    </tr>\n",
              "    <tr>\n",
              "      <th>1</th>\n",
              "      <td>2</td>\n",
              "      <td>20</td>\n",
              "      <td>80.00000</td>\n",
              "      <td>9600</td>\n",
              "      <td>6</td>\n",
              "      <td>8</td>\n",
              "      <td>1976</td>\n",
              "      <td>1976</td>\n",
              "      <td>0.00000</td>\n",
              "      <td>978.00000</td>\n",
              "      <td>...</td>\n",
              "      <td>460.00000</td>\n",
              "      <td>298</td>\n",
              "      <td>0</td>\n",
              "      <td>0</td>\n",
              "      <td>0</td>\n",
              "      <td>0</td>\n",
              "      <td>0</td>\n",
              "      <td>0</td>\n",
              "      <td>5</td>\n",
              "      <td>2007</td>\n",
              "    </tr>\n",
              "    <tr>\n",
              "      <th>2</th>\n",
              "      <td>3</td>\n",
              "      <td>60</td>\n",
              "      <td>68.00000</td>\n",
              "      <td>11250</td>\n",
              "      <td>7</td>\n",
              "      <td>5</td>\n",
              "      <td>2001</td>\n",
              "      <td>2002</td>\n",
              "      <td>162.00000</td>\n",
              "      <td>486.00000</td>\n",
              "      <td>...</td>\n",
              "      <td>608.00000</td>\n",
              "      <td>0</td>\n",
              "      <td>42</td>\n",
              "      <td>0</td>\n",
              "      <td>0</td>\n",
              "      <td>0</td>\n",
              "      <td>0</td>\n",
              "      <td>0</td>\n",
              "      <td>9</td>\n",
              "      <td>2008</td>\n",
              "    </tr>\n",
              "    <tr>\n",
              "      <th>3</th>\n",
              "      <td>4</td>\n",
              "      <td>70</td>\n",
              "      <td>60.00000</td>\n",
              "      <td>9550</td>\n",
              "      <td>7</td>\n",
              "      <td>5</td>\n",
              "      <td>1915</td>\n",
              "      <td>1970</td>\n",
              "      <td>0.00000</td>\n",
              "      <td>216.00000</td>\n",
              "      <td>...</td>\n",
              "      <td>642.00000</td>\n",
              "      <td>0</td>\n",
              "      <td>35</td>\n",
              "      <td>272</td>\n",
              "      <td>0</td>\n",
              "      <td>0</td>\n",
              "      <td>0</td>\n",
              "      <td>0</td>\n",
              "      <td>2</td>\n",
              "      <td>2006</td>\n",
              "    </tr>\n",
              "    <tr>\n",
              "      <th>4</th>\n",
              "      <td>5</td>\n",
              "      <td>60</td>\n",
              "      <td>84.00000</td>\n",
              "      <td>14260</td>\n",
              "      <td>8</td>\n",
              "      <td>5</td>\n",
              "      <td>2000</td>\n",
              "      <td>2000</td>\n",
              "      <td>350.00000</td>\n",
              "      <td>655.00000</td>\n",
              "      <td>...</td>\n",
              "      <td>836.00000</td>\n",
              "      <td>192</td>\n",
              "      <td>84</td>\n",
              "      <td>0</td>\n",
              "      <td>0</td>\n",
              "      <td>0</td>\n",
              "      <td>0</td>\n",
              "      <td>0</td>\n",
              "      <td>12</td>\n",
              "      <td>2008</td>\n",
              "    </tr>\n",
              "    <tr>\n",
              "      <th>...</th>\n",
              "      <td>...</td>\n",
              "      <td>...</td>\n",
              "      <td>...</td>\n",
              "      <td>...</td>\n",
              "      <td>...</td>\n",
              "      <td>...</td>\n",
              "      <td>...</td>\n",
              "      <td>...</td>\n",
              "      <td>...</td>\n",
              "      <td>...</td>\n",
              "      <td>...</td>\n",
              "      <td>...</td>\n",
              "      <td>...</td>\n",
              "      <td>...</td>\n",
              "      <td>...</td>\n",
              "      <td>...</td>\n",
              "      <td>...</td>\n",
              "      <td>...</td>\n",
              "      <td>...</td>\n",
              "      <td>...</td>\n",
              "      <td>...</td>\n",
              "    </tr>\n",
              "    <tr>\n",
              "      <th>1454</th>\n",
              "      <td>2915</td>\n",
              "      <td>160</td>\n",
              "      <td>21.00000</td>\n",
              "      <td>1936</td>\n",
              "      <td>4</td>\n",
              "      <td>7</td>\n",
              "      <td>1970</td>\n",
              "      <td>1970</td>\n",
              "      <td>0.00000</td>\n",
              "      <td>0.00000</td>\n",
              "      <td>...</td>\n",
              "      <td>0.00000</td>\n",
              "      <td>0</td>\n",
              "      <td>0</td>\n",
              "      <td>0</td>\n",
              "      <td>0</td>\n",
              "      <td>0</td>\n",
              "      <td>0</td>\n",
              "      <td>0</td>\n",
              "      <td>6</td>\n",
              "      <td>2006</td>\n",
              "    </tr>\n",
              "    <tr>\n",
              "      <th>1455</th>\n",
              "      <td>2916</td>\n",
              "      <td>160</td>\n",
              "      <td>21.00000</td>\n",
              "      <td>1894</td>\n",
              "      <td>4</td>\n",
              "      <td>5</td>\n",
              "      <td>1970</td>\n",
              "      <td>1970</td>\n",
              "      <td>0.00000</td>\n",
              "      <td>252.00000</td>\n",
              "      <td>...</td>\n",
              "      <td>286.00000</td>\n",
              "      <td>0</td>\n",
              "      <td>24</td>\n",
              "      <td>0</td>\n",
              "      <td>0</td>\n",
              "      <td>0</td>\n",
              "      <td>0</td>\n",
              "      <td>0</td>\n",
              "      <td>4</td>\n",
              "      <td>2006</td>\n",
              "    </tr>\n",
              "    <tr>\n",
              "      <th>1456</th>\n",
              "      <td>2917</td>\n",
              "      <td>20</td>\n",
              "      <td>160.00000</td>\n",
              "      <td>20000</td>\n",
              "      <td>5</td>\n",
              "      <td>7</td>\n",
              "      <td>1960</td>\n",
              "      <td>1996</td>\n",
              "      <td>0.00000</td>\n",
              "      <td>1224.00000</td>\n",
              "      <td>...</td>\n",
              "      <td>576.00000</td>\n",
              "      <td>474</td>\n",
              "      <td>0</td>\n",
              "      <td>0</td>\n",
              "      <td>0</td>\n",
              "      <td>0</td>\n",
              "      <td>0</td>\n",
              "      <td>0</td>\n",
              "      <td>9</td>\n",
              "      <td>2006</td>\n",
              "    </tr>\n",
              "    <tr>\n",
              "      <th>1457</th>\n",
              "      <td>2918</td>\n",
              "      <td>85</td>\n",
              "      <td>62.00000</td>\n",
              "      <td>10441</td>\n",
              "      <td>5</td>\n",
              "      <td>5</td>\n",
              "      <td>1992</td>\n",
              "      <td>1992</td>\n",
              "      <td>0.00000</td>\n",
              "      <td>337.00000</td>\n",
              "      <td>...</td>\n",
              "      <td>0.00000</td>\n",
              "      <td>80</td>\n",
              "      <td>32</td>\n",
              "      <td>0</td>\n",
              "      <td>0</td>\n",
              "      <td>0</td>\n",
              "      <td>0</td>\n",
              "      <td>700</td>\n",
              "      <td>7</td>\n",
              "      <td>2006</td>\n",
              "    </tr>\n",
              "    <tr>\n",
              "      <th>1458</th>\n",
              "      <td>2919</td>\n",
              "      <td>60</td>\n",
              "      <td>74.00000</td>\n",
              "      <td>9627</td>\n",
              "      <td>7</td>\n",
              "      <td>5</td>\n",
              "      <td>1993</td>\n",
              "      <td>1994</td>\n",
              "      <td>94.00000</td>\n",
              "      <td>758.00000</td>\n",
              "      <td>...</td>\n",
              "      <td>650.00000</td>\n",
              "      <td>190</td>\n",
              "      <td>48</td>\n",
              "      <td>0</td>\n",
              "      <td>0</td>\n",
              "      <td>0</td>\n",
              "      <td>0</td>\n",
              "      <td>0</td>\n",
              "      <td>11</td>\n",
              "      <td>2006</td>\n",
              "    </tr>\n",
              "  </tbody>\n",
              "</table>\n",
              "<p>2919 rows × 36 columns</p>\n",
              "</div>\n",
              "      <button class=\"colab-df-convert\" onclick=\"convertToInteractive('df-156eeca8-16b1-4b58-a6ec-c80cc1f05ca3')\"\n",
              "              title=\"Convert this dataframe to an interactive table.\"\n",
              "              style=\"display:none;\">\n",
              "        \n",
              "  <svg xmlns=\"http://www.w3.org/2000/svg\" height=\"24px\"viewBox=\"0 0 24 24\"\n",
              "       width=\"24px\">\n",
              "    <path d=\"M0 0h24v24H0V0z\" fill=\"none\"/>\n",
              "    <path d=\"M18.56 5.44l.94 2.06.94-2.06 2.06-.94-2.06-.94-.94-2.06-.94 2.06-2.06.94zm-11 1L8.5 8.5l.94-2.06 2.06-.94-2.06-.94L8.5 2.5l-.94 2.06-2.06.94zm10 10l.94 2.06.94-2.06 2.06-.94-2.06-.94-.94-2.06-.94 2.06-2.06.94z\"/><path d=\"M17.41 7.96l-1.37-1.37c-.4-.4-.92-.59-1.43-.59-.52 0-1.04.2-1.43.59L10.3 9.45l-7.72 7.72c-.78.78-.78 2.05 0 2.83L4 21.41c.39.39.9.59 1.41.59.51 0 1.02-.2 1.41-.59l7.78-7.78 2.81-2.81c.8-.78.8-2.07 0-2.86zM5.41 20L4 18.59l7.72-7.72 1.47 1.35L5.41 20z\"/>\n",
              "  </svg>\n",
              "      </button>\n",
              "      \n",
              "  <style>\n",
              "    .colab-df-container {\n",
              "      display:flex;\n",
              "      flex-wrap:wrap;\n",
              "      gap: 12px;\n",
              "    }\n",
              "\n",
              "    .colab-df-convert {\n",
              "      background-color: #E8F0FE;\n",
              "      border: none;\n",
              "      border-radius: 50%;\n",
              "      cursor: pointer;\n",
              "      display: none;\n",
              "      fill: #1967D2;\n",
              "      height: 32px;\n",
              "      padding: 0 0 0 0;\n",
              "      width: 32px;\n",
              "    }\n",
              "\n",
              "    .colab-df-convert:hover {\n",
              "      background-color: #E2EBFA;\n",
              "      box-shadow: 0px 1px 2px rgba(60, 64, 67, 0.3), 0px 1px 3px 1px rgba(60, 64, 67, 0.15);\n",
              "      fill: #174EA6;\n",
              "    }\n",
              "\n",
              "    [theme=dark] .colab-df-convert {\n",
              "      background-color: #3B4455;\n",
              "      fill: #D2E3FC;\n",
              "    }\n",
              "\n",
              "    [theme=dark] .colab-df-convert:hover {\n",
              "      background-color: #434B5C;\n",
              "      box-shadow: 0px 1px 3px 1px rgba(0, 0, 0, 0.15);\n",
              "      filter: drop-shadow(0px 1px 2px rgba(0, 0, 0, 0.3));\n",
              "      fill: #FFFFFF;\n",
              "    }\n",
              "  </style>\n",
              "\n",
              "      <script>\n",
              "        const buttonEl =\n",
              "          document.querySelector('#df-156eeca8-16b1-4b58-a6ec-c80cc1f05ca3 button.colab-df-convert');\n",
              "        buttonEl.style.display =\n",
              "          google.colab.kernel.accessAllowed ? 'block' : 'none';\n",
              "\n",
              "        async function convertToInteractive(key) {\n",
              "          const element = document.querySelector('#df-156eeca8-16b1-4b58-a6ec-c80cc1f05ca3');\n",
              "          const dataTable =\n",
              "            await google.colab.kernel.invokeFunction('convertToInteractive',\n",
              "                                                     [key], {});\n",
              "          if (!dataTable) return;\n",
              "\n",
              "          const docLinkHtml = 'Like what you see? Visit the ' +\n",
              "            '<a target=\"_blank\" href=https://colab.research.google.com/notebooks/data_table.ipynb>data table notebook</a>'\n",
              "            + ' to learn more about interactive tables.';\n",
              "          element.innerHTML = '';\n",
              "          dataTable['output_type'] = 'display_data';\n",
              "          await google.colab.output.renderOutput(dataTable, element);\n",
              "          const docLink = document.createElement('div');\n",
              "          docLink.innerHTML = docLinkHtml;\n",
              "          element.appendChild(docLink);\n",
              "        }\n",
              "      </script>\n",
              "    </div>\n",
              "  </div>\n",
              "  "
            ]
          },
          "metadata": {},
          "execution_count": 36
        }
      ]
    },
    {
      "cell_type": "markdown",
      "source": [
        "Convert from object to ordinals:\n",
        "* "
      ],
      "metadata": {
        "id": "RLpaW3CT2qxA"
      }
    },
    {
      "cell_type": "markdown",
      "source": [
        "## Correcting ordinals"
      ],
      "metadata": {
        "id": "um43V7jw2faX"
      }
    },
    {
      "cell_type": "markdown",
      "source": [
        "## Transforming"
      ],
      "metadata": {
        "id": "ZgzezACQKfLs"
      }
    },
    {
      "cell_type": "code",
      "source": [
        "xnum_to_transform = []\n",
        "skew_threshold = .4\n",
        "\n",
        "for (xcolname, xcol) in xnum.iteritems():\n",
        "  skew = xcol.skew()\n",
        "  if abs(skew) > skew_threshold:\n",
        "    xnum_to_transform.append(xcolname)\n",
        "\n",
        "len(xnum_to_transform)"
      ],
      "metadata": {
        "colab": {
          "base_uri": "https://localhost:8080/"
        },
        "id": "6P3ZC079ep4Q",
        "outputId": "1c492531-7c77-48c7-91df-dd214dfc59d6"
      },
      "execution_count": 37,
      "outputs": [
        {
          "output_type": "execute_result",
          "data": {
            "text/plain": [
              "28"
            ]
          },
          "metadata": {},
          "execution_count": 37
        }
      ]
    },
    {
      "cell_type": "code",
      "source": [
        "xnum_to_transform"
      ],
      "metadata": {
        "colab": {
          "base_uri": "https://localhost:8080/"
        },
        "id": "Mgz2640IghIp",
        "outputId": "21acc813-fa8f-481c-cea9-e9b52eaa4b96"
      },
      "execution_count": 38,
      "outputs": [
        {
          "output_type": "execute_result",
          "data": {
            "text/plain": [
              "['MSSubClass',\n",
              " 'LotFrontage',\n",
              " 'LotArea',\n",
              " 'OverallCond',\n",
              " 'YearBuilt',\n",
              " 'YearRemodAdd',\n",
              " 'MasVnrArea',\n",
              " 'BsmtFinSF1',\n",
              " 'BsmtFinSF2',\n",
              " 'BsmtUnfSF',\n",
              " 'TotalBsmtSF',\n",
              " '1stFlrSF',\n",
              " '2ndFlrSF',\n",
              " 'LowQualFinSF',\n",
              " 'GrLivArea',\n",
              " 'BsmtFullBath',\n",
              " 'BsmtHalfBath',\n",
              " 'HalfBath',\n",
              " 'KitchenAbvGr',\n",
              " 'TotRmsAbvGrd',\n",
              " 'Fireplaces',\n",
              " 'WoodDeckSF',\n",
              " 'OpenPorchSF',\n",
              " 'EnclosedPorch',\n",
              " '3SsnPorch',\n",
              " 'ScreenPorch',\n",
              " 'PoolArea',\n",
              " 'MiscVal']"
            ]
          },
          "metadata": {},
          "execution_count": 38
        }
      ]
    },
    {
      "cell_type": "code",
      "source": [
        "xnum_transformed_skews = pd.DataFrame()\n",
        "\n",
        "for i in xnum_to_transform:  # for loop across the xnums_to_transform\n",
        "  dict = {} # create a dictionary\n",
        "  try: \n",
        "    log_skew = np.log(x[i]).skew() # log transformation\n",
        "  except: \n",
        "    log_skew = 999\n",
        "  try: \n",
        "    sqrt_skew = np.sqrt(x[i]).skew() # sqrt transformation\n",
        "  except: \n",
        "    srt_skew_skew = 999\n",
        "  try:\n",
        "    inverse_skew = (1/x[i]).skew() # inverse transformation\n",
        "  except: \n",
        "    inverse_skew = 999\n",
        "  try: \n",
        "    boxcox_skew = pd.DataFrame(list(stats.boxcox(x[i])[0])).skew()[0] # boxcox transformation\n",
        "  except: \n",
        "    boxcox_skew = 999\n",
        "  try:\n",
        "    yj_skew = pd.DataFrame(list(stats.yeojohnson(x[i])[0])).skew()[0]# yj skew\n",
        "  except: \n",
        "    yj_skew = 999\n",
        "  dict['log skew'] = abs(log_skew) # append log to dict\n",
        "  dict['sqrt skew'] = abs(sqrt_skew) # append sqrt to dict\n",
        "  dict['inverse skew'] = abs(inverse_skew) # append inverted to dict\n",
        "  dict['boxcox skew'] = abs(boxcox_skew) # append boxcox to dict\n",
        "  dict['yj skew'] = abs(yj_skew) # append yj to dict\n",
        "  best_skew_key = min(dict, key = dict.get)\n",
        "  if best_skew_key == 'log skew':\n",
        "    x[i] = np.log(x[i])\n",
        "  elif best_skew_key == 'sqrt skew':\n",
        "    x[i] = np.sqrt(x[i])\n",
        "  elif best_skew_key == 'inverse skew':\n",
        "    x[i] = (1/x[i])\n",
        "  elif best_skew_key == 'boxcox skew':\n",
        "    x[i] = list(stats.boxcox(x[i])[0])\n",
        "  else:\n",
        "    x[i] = list(stats.yeojohnson(x[i])[0])\n",
        "  \n",
        "  #best_skew_val = min(dict.values())\n",
        "  #print(i, best_skew_key, \"{:.2f}\".format(best_skew_val))\n",
        "  \n",
        "  #print(i, best_skew) # determine which transformation had the lowest skew\n",
        "  # apply that transformation to the column"
      ],
      "metadata": {
        "id": "HxvAsax5gloX"
      },
      "execution_count": 39,
      "outputs": []
    },
    {
      "cell_type": "code",
      "source": [
        "xnum = x.select_dtypes(include = 'number')\n",
        "\n",
        "xnum_to_transform_2 = []\n",
        "skew_threshold = 0.60\n",
        "\n",
        "for (xcolname, xcol) in xnum.iteritems():\n",
        "  skew = xcol.skew()\n",
        "  if abs(skew) > skew_threshold:\n",
        "    xnum_to_transform_2.append(xcolname)\n",
        "\n",
        "len(xnum_to_transform_2)"
      ],
      "metadata": {
        "colab": {
          "base_uri": "https://localhost:8080/"
        },
        "id": "SpGgiVbQ04hk",
        "outputId": "df6eff47-6557-4a2d-bf98-31832daa6d1e"
      },
      "execution_count": 40,
      "outputs": [
        {
          "output_type": "execute_result",
          "data": {
            "text/plain": [
              "9"
            ]
          },
          "metadata": {},
          "execution_count": 40
        }
      ]
    },
    {
      "cell_type": "code",
      "source": [
        "for i in xnum_to_transform_2:\n",
        "  skew = x[i].skew()\n",
        "  print(i, \"{:2f}\".format(skew))"
      ],
      "metadata": {
        "colab": {
          "base_uri": "https://localhost:8080/"
        },
        "id": "9dbwFmri1Icc",
        "outputId": "c89c12d7-a0c7-4ef1-d7f0-dfa1b55d07a1"
      },
      "execution_count": 41,
      "outputs": [
        {
          "output_type": "stream",
          "name": "stdout",
          "text": [
            "BsmtFinSF2 2.356483\n",
            "LowQualFinSF 8.370238\n",
            "BsmtHalfBath 3.709166\n",
            "KitchenAbvGr -2.064646\n",
            "EnclosedPorch 1.884120\n",
            "3SsnPorch 8.716812\n",
            "ScreenPorch 2.916714\n",
            "PoolArea 14.891972\n",
            "MiscVal 5.040088\n"
          ]
        }
      ]
    },
    {
      "cell_type": "markdown",
      "source": [
        "#### Dropping all of the high skew columns"
      ],
      "metadata": {
        "id": "JekArySN2M4h"
      }
    },
    {
      "cell_type": "code",
      "source": [
        "x.shape"
      ],
      "metadata": {
        "colab": {
          "base_uri": "https://localhost:8080/"
        },
        "id": "0y759ZIX2iTS",
        "outputId": "e84b03ca-02a9-4e71-cd64-02b586b1950b"
      },
      "execution_count": 42,
      "outputs": [
        {
          "output_type": "execute_result",
          "data": {
            "text/plain": [
              "(2919, 85)"
            ]
          },
          "metadata": {},
          "execution_count": 42
        }
      ]
    },
    {
      "cell_type": "code",
      "source": [
        "# Dropping all of the high skew columns\n",
        "x.drop(columns=xnum_to_transform_2, inplace=True)"
      ],
      "metadata": {
        "id": "3W85_vPY1bpR"
      },
      "execution_count": 43,
      "outputs": []
    },
    {
      "cell_type": "code",
      "source": [
        "x.shape"
      ],
      "metadata": {
        "colab": {
          "base_uri": "https://localhost:8080/"
        },
        "id": "na-wKjJe2kvy",
        "outputId": "c178f2d4-dbc6-4d66-d01e-f95033756f83"
      },
      "execution_count": 44,
      "outputs": [
        {
          "output_type": "execute_result",
          "data": {
            "text/plain": [
              "(2919, 76)"
            ]
          },
          "metadata": {},
          "execution_count": 44
        }
      ]
    },
    {
      "cell_type": "markdown",
      "source": [
        "### Transforming Y.SalePrice"
      ],
      "metadata": {
        "id": "vuYlSxH_tX8l"
      }
    },
    {
      "cell_type": "code",
      "source": [
        "y.skew()"
      ],
      "metadata": {
        "colab": {
          "base_uri": "https://localhost:8080/"
        },
        "id": "5HSm7_97tZvi",
        "outputId": "d884d624-228f-43da-f2b5-79c3d2f0b128"
      },
      "execution_count": 45,
      "outputs": [
        {
          "output_type": "execute_result",
          "data": {
            "text/plain": [
              "SalePrice   1.88288\n",
              "dtype: float64"
            ]
          },
          "metadata": {},
          "execution_count": 45
        }
      ]
    },
    {
      "cell_type": "code",
      "source": [
        "y.describe()"
      ],
      "metadata": {
        "colab": {
          "base_uri": "https://localhost:8080/",
          "height": 300
        },
        "id": "ME2y4BH8k4yo",
        "outputId": "3acf92f0-1427-405e-d52c-88211369334d"
      },
      "execution_count": 46,
      "outputs": [
        {
          "output_type": "execute_result",
          "data": {
            "text/plain": [
              "         SalePrice\n",
              "count   1460.00000\n",
              "mean  180921.19589\n",
              "std    79442.50288\n",
              "min    34900.00000\n",
              "25%   129975.00000\n",
              "50%   163000.00000\n",
              "75%   214000.00000\n",
              "max   755000.00000"
            ],
            "text/html": [
              "\n",
              "  <div id=\"df-c9a46ab9-2deb-4757-b4c3-b1b50cfc28d7\">\n",
              "    <div class=\"colab-df-container\">\n",
              "      <div>\n",
              "<style scoped>\n",
              "    .dataframe tbody tr th:only-of-type {\n",
              "        vertical-align: middle;\n",
              "    }\n",
              "\n",
              "    .dataframe tbody tr th {\n",
              "        vertical-align: top;\n",
              "    }\n",
              "\n",
              "    .dataframe thead th {\n",
              "        text-align: right;\n",
              "    }\n",
              "</style>\n",
              "<table border=\"1\" class=\"dataframe\">\n",
              "  <thead>\n",
              "    <tr style=\"text-align: right;\">\n",
              "      <th></th>\n",
              "      <th>SalePrice</th>\n",
              "    </tr>\n",
              "  </thead>\n",
              "  <tbody>\n",
              "    <tr>\n",
              "      <th>count</th>\n",
              "      <td>1460.00000</td>\n",
              "    </tr>\n",
              "    <tr>\n",
              "      <th>mean</th>\n",
              "      <td>180921.19589</td>\n",
              "    </tr>\n",
              "    <tr>\n",
              "      <th>std</th>\n",
              "      <td>79442.50288</td>\n",
              "    </tr>\n",
              "    <tr>\n",
              "      <th>min</th>\n",
              "      <td>34900.00000</td>\n",
              "    </tr>\n",
              "    <tr>\n",
              "      <th>25%</th>\n",
              "      <td>129975.00000</td>\n",
              "    </tr>\n",
              "    <tr>\n",
              "      <th>50%</th>\n",
              "      <td>163000.00000</td>\n",
              "    </tr>\n",
              "    <tr>\n",
              "      <th>75%</th>\n",
              "      <td>214000.00000</td>\n",
              "    </tr>\n",
              "    <tr>\n",
              "      <th>max</th>\n",
              "      <td>755000.00000</td>\n",
              "    </tr>\n",
              "  </tbody>\n",
              "</table>\n",
              "</div>\n",
              "      <button class=\"colab-df-convert\" onclick=\"convertToInteractive('df-c9a46ab9-2deb-4757-b4c3-b1b50cfc28d7')\"\n",
              "              title=\"Convert this dataframe to an interactive table.\"\n",
              "              style=\"display:none;\">\n",
              "        \n",
              "  <svg xmlns=\"http://www.w3.org/2000/svg\" height=\"24px\"viewBox=\"0 0 24 24\"\n",
              "       width=\"24px\">\n",
              "    <path d=\"M0 0h24v24H0V0z\" fill=\"none\"/>\n",
              "    <path d=\"M18.56 5.44l.94 2.06.94-2.06 2.06-.94-2.06-.94-.94-2.06-.94 2.06-2.06.94zm-11 1L8.5 8.5l.94-2.06 2.06-.94-2.06-.94L8.5 2.5l-.94 2.06-2.06.94zm10 10l.94 2.06.94-2.06 2.06-.94-2.06-.94-.94-2.06-.94 2.06-2.06.94z\"/><path d=\"M17.41 7.96l-1.37-1.37c-.4-.4-.92-.59-1.43-.59-.52 0-1.04.2-1.43.59L10.3 9.45l-7.72 7.72c-.78.78-.78 2.05 0 2.83L4 21.41c.39.39.9.59 1.41.59.51 0 1.02-.2 1.41-.59l7.78-7.78 2.81-2.81c.8-.78.8-2.07 0-2.86zM5.41 20L4 18.59l7.72-7.72 1.47 1.35L5.41 20z\"/>\n",
              "  </svg>\n",
              "      </button>\n",
              "      \n",
              "  <style>\n",
              "    .colab-df-container {\n",
              "      display:flex;\n",
              "      flex-wrap:wrap;\n",
              "      gap: 12px;\n",
              "    }\n",
              "\n",
              "    .colab-df-convert {\n",
              "      background-color: #E8F0FE;\n",
              "      border: none;\n",
              "      border-radius: 50%;\n",
              "      cursor: pointer;\n",
              "      display: none;\n",
              "      fill: #1967D2;\n",
              "      height: 32px;\n",
              "      padding: 0 0 0 0;\n",
              "      width: 32px;\n",
              "    }\n",
              "\n",
              "    .colab-df-convert:hover {\n",
              "      background-color: #E2EBFA;\n",
              "      box-shadow: 0px 1px 2px rgba(60, 64, 67, 0.3), 0px 1px 3px 1px rgba(60, 64, 67, 0.15);\n",
              "      fill: #174EA6;\n",
              "    }\n",
              "\n",
              "    [theme=dark] .colab-df-convert {\n",
              "      background-color: #3B4455;\n",
              "      fill: #D2E3FC;\n",
              "    }\n",
              "\n",
              "    [theme=dark] .colab-df-convert:hover {\n",
              "      background-color: #434B5C;\n",
              "      box-shadow: 0px 1px 3px 1px rgba(0, 0, 0, 0.15);\n",
              "      filter: drop-shadow(0px 1px 2px rgba(0, 0, 0, 0.3));\n",
              "      fill: #FFFFFF;\n",
              "    }\n",
              "  </style>\n",
              "\n",
              "      <script>\n",
              "        const buttonEl =\n",
              "          document.querySelector('#df-c9a46ab9-2deb-4757-b4c3-b1b50cfc28d7 button.colab-df-convert');\n",
              "        buttonEl.style.display =\n",
              "          google.colab.kernel.accessAllowed ? 'block' : 'none';\n",
              "\n",
              "        async function convertToInteractive(key) {\n",
              "          const element = document.querySelector('#df-c9a46ab9-2deb-4757-b4c3-b1b50cfc28d7');\n",
              "          const dataTable =\n",
              "            await google.colab.kernel.invokeFunction('convertToInteractive',\n",
              "                                                     [key], {});\n",
              "          if (!dataTable) return;\n",
              "\n",
              "          const docLinkHtml = 'Like what you see? Visit the ' +\n",
              "            '<a target=\"_blank\" href=https://colab.research.google.com/notebooks/data_table.ipynb>data table notebook</a>'\n",
              "            + ' to learn more about interactive tables.';\n",
              "          element.innerHTML = '';\n",
              "          dataTable['output_type'] = 'display_data';\n",
              "          await google.colab.output.renderOutput(dataTable, element);\n",
              "          const docLink = document.createElement('div');\n",
              "          docLink.innerHTML = docLinkHtml;\n",
              "          element.appendChild(docLink);\n",
              "        }\n",
              "      </script>\n",
              "    </div>\n",
              "  </div>\n",
              "  "
            ]
          },
          "metadata": {},
          "execution_count": 46
        }
      ]
    },
    {
      "cell_type": "code",
      "source": [
        "y.hist()"
      ],
      "metadata": {
        "colab": {
          "base_uri": "https://localhost:8080/",
          "height": 316
        },
        "id": "74ypM57Ukp6N",
        "outputId": "a389a065-14c9-4b90-87a3-fcc2d0daaf6e"
      },
      "execution_count": 47,
      "outputs": [
        {
          "output_type": "execute_result",
          "data": {
            "text/plain": [
              "array([[<matplotlib.axes._subplots.AxesSubplot object at 0x7f5a1c835a10>]],\n",
              "      dtype=object)"
            ]
          },
          "metadata": {},
          "execution_count": 47
        },
        {
          "output_type": "display_data",
          "data": {
            "text/plain": [
              "<Figure size 432x288 with 1 Axes>"
            ],
            "image/png": "[encoded data removed]"
          },
          "metadata": {
            "needs_background": "light"
          }
        }
      ]
    },
    {
      "cell_type": "code",
      "source": [
        "print('y log skew', np.log(y).skew())\n",
        "print('y sqrt skew', np.sqrt(y).skew())\n",
        "print('y inverse skew', (1/y).skew())\n",
        "print('y YJ skew', pd.DataFrame(list(stats.yeojohnson(y))[0]).skew()[0])"
      ],
      "metadata": {
        "colab": {
          "base_uri": "https://localhost:8080/"
        },
        "id": "CqATEu7jtegG",
        "outputId": "b5fcf68d-c8f0-4bc3-9531-19c3a5dc3e10"
      },
      "execution_count": 48,
      "outputs": [
        {
          "output_type": "stream",
          "name": "stdout",
          "text": [
            "y log skew SalePrice   0.12134\n",
            "dtype: float64\n",
            "y sqrt skew SalePrice   0.94315\n",
            "dtype: float64\n",
            "y inverse skew SalePrice   2.14212\n",
            "dtype: float64\n",
            "y YJ skew -0.00865367081719516\n"
          ]
        }
      ]
    },
    {
      "cell_type": "code",
      "source": [
        "y['SalePrice'] = np.log(y['SalePrice'])"
      ],
      "metadata": {
        "id": "CFtsPu1kuhQs"
      },
      "execution_count": 49,
      "outputs": []
    },
    {
      "cell_type": "markdown",
      "source": [
        "##### come back to this: try to do a YJ transform"
      ],
      "metadata": {
        "id": "wafm8INWcOnq"
      }
    },
    {
      "cell_type": "code",
      "source": [
        "# YJ is the best transformation. Use the PowerTransformer funciton.\n",
        "\n",
        "# y['SalePrice'] = list(stats.yeojohnson(y))[0]\n",
        "# print(y.skew())\n",
        "# y.hist()"
      ],
      "metadata": {
        "id": "JQ_vK74HbD1u"
      },
      "execution_count": 50,
      "outputs": []
    },
    {
      "cell_type": "markdown",
      "source": [
        "## Dropping columns \n",
        "* ID"
      ],
      "metadata": {
        "id": "UTWfYPEsoP_m"
      }
    },
    {
      "cell_type": "code",
      "source": [
        "x.shape"
      ],
      "metadata": {
        "colab": {
          "base_uri": "https://localhost:8080/"
        },
        "id": "uXcbNaNApyv-",
        "outputId": "ccf560f9-bf02-434e-c3fe-05b56eebd177"
      },
      "execution_count": 51,
      "outputs": [
        {
          "output_type": "execute_result",
          "data": {
            "text/plain": [
              "(2919, 76)"
            ]
          },
          "metadata": {},
          "execution_count": 51
        }
      ]
    },
    {
      "cell_type": "code",
      "source": [
        "x.drop(columns = 'Id', inplace=True)"
      ],
      "metadata": {
        "id": "acYNInvrpuqT"
      },
      "execution_count": 52,
      "outputs": []
    },
    {
      "cell_type": "code",
      "source": [
        "x.shape"
      ],
      "metadata": {
        "colab": {
          "base_uri": "https://localhost:8080/"
        },
        "id": "exXtpmk1p0_6",
        "outputId": "a0c9a56e-d39d-4e8f-de91-50393729aa7a"
      },
      "execution_count": 53,
      "outputs": [
        {
          "output_type": "execute_result",
          "data": {
            "text/plain": [
              "(2919, 75)"
            ]
          },
          "metadata": {},
          "execution_count": 53
        }
      ]
    },
    {
      "cell_type": "markdown",
      "source": [
        "## Scaling"
      ],
      "metadata": {
        "id": "BNp7P3D7KfJl"
      }
    },
    {
      "cell_type": "markdown",
      "source": [
        "### Identifying which columns are booleans already"
      ],
      "metadata": {
        "id": "5N3mHf1Q0kbQ"
      }
    },
    {
      "cell_type": "code",
      "source": [
        "bool_list = [] # initiate a list\n",
        "for (xcolname, xcol) in x.iteritems(): # iterate through columns that\n",
        "  bool_test = xcol.value_counts().index.tolist() # find the number of unique values per column\n",
        "  if 1 and 0 in bool_test and len(bool_test) == 2: # if there are only 2 unique values, add them to the list\n",
        "    bool_list.append(xcolname)\n",
        "\n",
        "print(bool_list)# print the list"
      ],
      "metadata": {
        "colab": {
          "base_uri": "https://localhost:8080/"
        },
        "id": "U3wTY8T7xiG_",
        "outputId": "8d042756-2ba0-43aa-eb75-30d15d457e1a"
      },
      "execution_count": 54,
      "outputs": [
        {
          "output_type": "stream",
          "name": "stdout",
          "text": [
            "['CentralAir', 'HasPool', 'Has2ndFloor', 'HasGarage', 'HasBasement', 'HasFireplace']\n"
          ]
        }
      ]
    },
    {
      "cell_type": "code",
      "source": [
        "for i in bool_list:\n",
        "  x[i] = x[i].astype('bool')"
      ],
      "metadata": {
        "id": "X8ZLVNAn0or5"
      },
      "execution_count": 55,
      "outputs": []
    },
    {
      "cell_type": "markdown",
      "source": [
        "### Selecting the columns to scale (numerics, excluding bools)"
      ],
      "metadata": {
        "id": "L9SgRlrA0cVk"
      }
    },
    {
      "cell_type": "code",
      "source": [
        "num_cols_to_scale = x.select_dtypes(exclude = ['object', 'bool']).columns.values.tolist()\n",
        "num_cols_to_scale"
      ],
      "metadata": {
        "id": "yoUhY-4d2vzM",
        "colab": {
          "base_uri": "https://localhost:8080/"
        },
        "outputId": "588fddd7-46cd-44a0-fe23-2a7c1b70acf6"
      },
      "execution_count": 56,
      "outputs": [
        {
          "output_type": "execute_result",
          "data": {
            "text/plain": [
              "['MSSubClass',\n",
              " 'LotFrontage',\n",
              " 'LotArea',\n",
              " 'OverallQual',\n",
              " 'OverallCond',\n",
              " 'YearBuilt',\n",
              " 'YearRemodAdd',\n",
              " 'MasVnrArea',\n",
              " 'BsmtFinSF1',\n",
              " 'BsmtUnfSF',\n",
              " 'TotalBsmtSF',\n",
              " '1stFlrSF',\n",
              " '2ndFlrSF',\n",
              " 'GrLivArea',\n",
              " 'BsmtFullBath',\n",
              " 'FullBath',\n",
              " 'HalfBath',\n",
              " 'BedroomAbvGr',\n",
              " 'TotRmsAbvGrd',\n",
              " 'Fireplaces',\n",
              " 'GarageCars',\n",
              " 'GarageArea',\n",
              " 'WoodDeckSF',\n",
              " 'OpenPorchSF',\n",
              " 'MoSold',\n",
              " 'YrSold']"
            ]
          },
          "metadata": {},
          "execution_count": 56
        }
      ]
    },
    {
      "cell_type": "markdown",
      "source": [
        "### Robust Scaler"
      ],
      "metadata": {
        "id": "TzDUWcnNrCo7"
      }
    },
    {
      "cell_type": "code",
      "source": [
        "robust_scaler = RobustScaler().fit(x[num_cols_to_scale])\n",
        "x[num_cols_to_scale] = robust_scaler.transform(x[num_cols_to_scale])"
      ],
      "metadata": {
        "id": "ZwKZlxLl1qL5"
      },
      "execution_count": 57,
      "outputs": []
    },
    {
      "cell_type": "markdown",
      "source": [
        "### Standard Scaler"
      ],
      "metadata": {
        "id": "YECcv02_ogTO"
      }
    },
    {
      "cell_type": "code",
      "source": [
        "# standard_scaler = StandardScaler().fit(x[num_cols_to_scale])\n",
        "# x[num_cols_to_scale] = standard_scaler.transform(x[num_cols_to_scale])"
      ],
      "metadata": {
        "id": "wvs9MfjPoi2u"
      },
      "execution_count": 58,
      "outputs": []
    },
    {
      "cell_type": "markdown",
      "source": [
        ""
      ],
      "metadata": {
        "id": "6tHbV9hnogHQ"
      }
    },
    {
      "cell_type": "markdown",
      "source": [
        ""
      ],
      "metadata": {
        "id": "ru3Lch2Bof5K"
      }
    },
    {
      "cell_type": "markdown",
      "source": [
        "## Encoding"
      ],
      "metadata": {
        "id": "ujZBoZQcKfHJ"
      }
    },
    {
      "cell_type": "code",
      "source": [
        "cat_cols_to_encode = x.select_dtypes(include = 'object').columns.values.tolist()\n",
        "cat_cols_to_encode"
      ],
      "metadata": {
        "colab": {
          "base_uri": "https://localhost:8080/"
        },
        "id": "9gEYU4AdsmCz",
        "outputId": "43f778b3-9109-41ca-c1bf-b1c11f6acf6a"
      },
      "execution_count": 59,
      "outputs": [
        {
          "output_type": "execute_result",
          "data": {
            "text/plain": [
              "['MSZoning',\n",
              " 'Street',\n",
              " 'Alley',\n",
              " 'LotShape',\n",
              " 'LandContour',\n",
              " 'Utilities',\n",
              " 'LotConfig',\n",
              " 'LandSlope',\n",
              " 'Neighborhood',\n",
              " 'Condition1',\n",
              " 'Condition2',\n",
              " 'BldgType',\n",
              " 'HouseStyle',\n",
              " 'RoofStyle',\n",
              " 'RoofMatl',\n",
              " 'Exterior1st',\n",
              " 'Exterior2nd',\n",
              " 'MasVnrType',\n",
              " 'ExterQual',\n",
              " 'ExterCond',\n",
              " 'Foundation',\n",
              " 'BsmtQual',\n",
              " 'BsmtCond',\n",
              " 'BsmtExposure',\n",
              " 'BsmtFinType1',\n",
              " 'BsmtFinType2',\n",
              " 'Heating',\n",
              " 'HeatingQC',\n",
              " 'Electrical',\n",
              " 'KitchenQual',\n",
              " 'Functional',\n",
              " 'FireplaceQu',\n",
              " 'GarageType',\n",
              " 'GarageYrBlt',\n",
              " 'GarageFinish',\n",
              " 'GarageQual',\n",
              " 'GarageCond',\n",
              " 'PavedDrive',\n",
              " 'PoolQC',\n",
              " 'Fence',\n",
              " 'MiscFeature',\n",
              " 'SaleType',\n",
              " 'SaleCondition']"
            ]
          },
          "metadata": {},
          "execution_count": 59
        }
      ]
    },
    {
      "cell_type": "code",
      "source": [
        "x = pd.get_dummies(x)"
      ],
      "metadata": {
        "id": "mfGfpbl32Pfy"
      },
      "execution_count": 60,
      "outputs": []
    },
    {
      "cell_type": "markdown",
      "source": [
        "# Training and Predicting"
      ],
      "metadata": {
        "id": "pFy2jYLDKYb_"
      }
    },
    {
      "cell_type": "markdown",
      "source": [
        "## Prepping the training data\n",
        "* Unstacking x back into training and test (prediction to be submitted to Kaggle).\n",
        "* Splitting training data into training and test data.\n",
        "* Fitting the regression model.\n",
        "* Predicting the output.\n",
        "* Measuring the RMSE"
      ],
      "metadata": {
        "id": "IqwLPkGHVVhl"
      }
    },
    {
      "cell_type": "code",
      "source": [
        "total_copy = x"
      ],
      "metadata": {
        "id": "rATPPsDa2fRK"
      },
      "execution_count": 61,
      "outputs": []
    },
    {
      "cell_type": "code",
      "source": [
        "new_test = test.shape[0]\n",
        "train2 = total_copy[:train.shape[0]]\n",
        "test2 = total_copy[train.shape[0]:test.shape[0] + (new_test+1)]"
      ],
      "metadata": {
        "id": "mpi0L_COW-So"
      },
      "execution_count": 62,
      "outputs": []
    },
    {
      "cell_type": "markdown",
      "source": [
        "## Training"
      ],
      "metadata": {
        "id": "X4wtLOP_YGzj"
      }
    },
    {
      "cell_type": "markdown",
      "source": [
        "## Splitting the training data"
      ],
      "metadata": {
        "id": "qd0YdkJF2H-p"
      }
    },
    {
      "cell_type": "code",
      "source": [
        "xtrain2, xtest2, ytrain2, ytest2 = train_test_split(train2, y.SalePrice, test_size = .33, random_state = 7)"
      ],
      "metadata": {
        "id": "eXHakpO6YMf3"
      },
      "execution_count": 63,
      "outputs": []
    },
    {
      "cell_type": "code",
      "source": [
        "print('xtrain2', xtrain2.shape)\n",
        "print('xtest2', xtest2.shape)\n",
        "print('ytrain2', ytrain2.shape)\n",
        "print('ytest2', ytest2.shape)"
      ],
      "metadata": {
        "colab": {
          "base_uri": "https://localhost:8080/"
        },
        "id": "Cb99xRo8dE5S",
        "outputId": "a84add33-16cf-4a65-d3db-6e3f78a06c75"
      },
      "execution_count": 64,
      "outputs": [
        {
          "output_type": "stream",
          "name": "stdout",
          "text": [
            "xtrain2 (978, 400)\n",
            "xtest2 (482, 400)\n",
            "ytrain2 (978,)\n",
            "ytest2 (482,)\n"
          ]
        }
      ]
    },
    {
      "cell_type": "markdown",
      "source": [
        "## Lasso Regression"
      ],
      "metadata": {
        "id": "L36kL4Ek2Dx-"
      }
    },
    {
      "cell_type": "code",
      "source": [
        "las = Lasso(alpha = 0.0008).fit(xtrain2, ytrain2)"
      ],
      "metadata": {
        "id": "UQWu2uZ72DK_"
      },
      "execution_count": 65,
      "outputs": []
    },
    {
      "cell_type": "code",
      "source": [
        "ypred2 = las.predict(xtest2)"
      ],
      "metadata": {
        "id": "P982J0MU2g-Y"
      },
      "execution_count": 66,
      "outputs": []
    },
    {
      "cell_type": "code",
      "source": [
        "ypred2_untrans = np.exp(ypred2)"
      ],
      "metadata": {
        "id": "V3NP7D6r2lD9"
      },
      "execution_count": 67,
      "outputs": []
    },
    {
      "cell_type": "code",
      "source": [
        "ytest2_untrans = np.exp(ytest2)"
      ],
      "metadata": {
        "id": "cvxSUnEr29B5"
      },
      "execution_count": 68,
      "outputs": []
    },
    {
      "cell_type": "markdown",
      "source": [
        "### Analyzing the results"
      ],
      "metadata": {
        "id": "ozc9BbcPYIN8"
      }
    },
    {
      "cell_type": "code",
      "source": [
        "mse = mean_squared_error(ytest2_untrans, ypred2_untrans)\n",
        "rmse = np.sqrt(mse)\n",
        "mae = mean_absolute_error(ytest2_untrans, ypred2_untrans)\n",
        "\n",
        "plt.scatter(ypred2_untrans, ytest2_untrans)\n",
        "print('Mean Squared Error is', '{:,.2f}'.format(mse))\n",
        "print('Root Mean Squared Error is', '{:,.2f}'.format(rmse))\n",
        "print('Mean Absolute Error is', '{:,.2f}'.format(mae))\n",
        "plt.scatter(ypred2_untrans, ytest2_untrans) "
      ],
      "metadata": {
        "colab": {
          "base_uri": "https://localhost:8080/",
          "height": 334
        },
        "id": "xtTsnnxHf3z9",
        "outputId": "71a205c2-82ad-4cfb-a643-83b1566d1525"
      },
      "execution_count": 69,
      "outputs": [
        {
          "output_type": "stream",
          "name": "stdout",
          "text": [
            "Mean Squared Error is 728,317,101.41\n",
            "Root Mean Squared Error is 26,987.35\n",
            "Mean Absolute Error is 15,699.30\n"
          ]
        },
        {
          "output_type": "execute_result",
          "data": {
            "text/plain": [
              "<matplotlib.collections.PathCollection at 0x7f5a1c6b6d90>"
            ]
          },
          "metadata": {},
          "execution_count": 69
        },
        {
          "output_type": "display_data",
          "data": {
            "text/plain": [
              "<Figure size 432x288 with 1 Axes>"
            ],
            "image/png": "[encoded data removed]"
          },
          "metadata": {
            "needs_background": "light"
          }
        }
      ]
    },
    {
      "cell_type": "code",
      "source": [
        "ytest2_untrans.describe()"
      ],
      "metadata": {
        "colab": {
          "base_uri": "https://localhost:8080/"
        },
        "id": "ua4Mn4OsrsnB",
        "outputId": "4fd45ca7-26c8-4e3d-c3e1-e6cc7b7debcc"
      },
      "execution_count": 70,
      "outputs": [
        {
          "output_type": "execute_result",
          "data": {
            "text/plain": [
              "count      482.00000\n",
              "mean    184178.47925\n",
              "std      84750.40520\n",
              "min      55000.00000\n",
              "25%     129125.00000\n",
              "50%     165750.00000\n",
              "75%     218782.50000\n",
              "max     755000.00000\n",
              "Name: SalePrice, dtype: float64"
            ]
          },
          "metadata": {},
          "execution_count": 70
        }
      ]
    },
    {
      "cell_type": "markdown",
      "source": [
        "# Predicting the results"
      ],
      "metadata": {
        "id": "hMmAKvEO5zDM"
      }
    },
    {
      "cell_type": "code",
      "source": [
        "submit_pred = las.predict(test2)\n",
        "submit_pred_untrans = np.exp(submit_pred)\n",
        "submit_pred_untrans"
      ],
      "metadata": {
        "colab": {
          "base_uri": "https://localhost:8080/"
        },
        "id": "qHQeURXF50tw",
        "outputId": "b947a7cf-af8c-47ba-b30a-53e1622a2564"
      },
      "execution_count": 82,
      "outputs": [
        {
          "output_type": "execute_result",
          "data": {
            "text/plain": [
              "array([109389.07661539, 155733.77634496, 181587.52851069, ...,\n",
              "       175757.77946731, 122189.1930551 , 231287.45137041])"
            ]
          },
          "metadata": {},
          "execution_count": 82
        }
      ]
    },
    {
      "cell_type": "code",
      "source": [
        "test = pd.read_csv('/content/drive/MyDrive/Colab Notebooks/Colab data/test.csv')"
      ],
      "metadata": {
        "id": "O5MSq-ND6p72"
      },
      "execution_count": 93,
      "outputs": []
    },
    {
      "cell_type": "code",
      "source": [
        "test_to_submit = pd.DataFrame(test['Id'])\n",
        "test_to_submit['SalePrice'] = submit_pred_untrans"
      ],
      "metadata": {
        "id": "N8AxvJmV6tdH"
      },
      "execution_count": 98,
      "outputs": []
    },
    {
      "cell_type": "code",
      "source": [
        "test_to_submit.to_csv('/content/predictions.csv', index=False)"
      ],
      "metadata": {
        "id": "SDfPHF_37igI"
      },
      "execution_count": 100,
      "outputs": []
    }
  ]
}