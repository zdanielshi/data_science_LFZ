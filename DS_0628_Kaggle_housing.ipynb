{
  "nbformat": 4,
  "nbformat_minor": 0,
  "metadata": {
    "colab": {
      "name": "DS 0628 Kaggle housing.ipynb",
      "provenance": [],
      "toc_visible": true,
      "authorship_tag": "ABX9TyMWlELzJ/DV+992FhpLjqim",
      "include_colab_link": true
    },
    "kernelspec": {
      "name": "python3",
      "display_name": "Python 3"
    },
    "language_info": {
      "name": "python"
    }
  },
  "cells": [
    {
      "cell_type": "markdown",
      "metadata": {
        "id": "view-in-github",
        "colab_type": "text"
      },
      "source": [
        "<a href=\"https://colab.research.google.com/github/zdanielshi/data_science_LFZ/blob/main/DS_0628_Kaggle_housing.ipynb\" target=\"_parent\"><img src=\"https://colab.research.google.com/assets/colab-badge.svg\" alt=\"Open In Colab\"/></a>"
      ]
    },
    {
      "cell_type": "code",
      "execution_count": 80,
      "metadata": {
        "id": "YqlJbeNLC5t4"
      },
      "outputs": [],
      "source": [
        "#@title\n",
        "import pandas as pd\n",
        "import matplotlib.pyplot as plt\n",
        "import numpy as np\n",
        "import seaborn as sns\n",
        "from scipy import stats\n",
        "from sklearn.preprocessing import RobustScaler, MinMaxScaler, MaxAbsScaler, StandardScaler, PowerTransformer\n",
        "from sklearn.model_selection import train_test_split\n",
        "from sklearn.linear_model import LinearRegression, Lasso, Ridge, LassoCV\n",
        "from sklearn.metrics import mean_squared_error, mean_absolute_error\n",
        "from xgboost import XGBRegressor\n",
        "\n",
        "import warnings\n",
        "warnings.filterwarnings(\"error\")\n",
        "\n",
        "pd.set_option('display.float_format', lambda x: '%.5f' % x)\n",
        "\n",
        "from google.colab import drive"
      ]
    },
    {
      "cell_type": "code",
      "source": [
        "#@title\n",
        "drive.mount('/content/drive')"
      ],
      "metadata": {
        "colab": {
          "base_uri": "https://localhost:8080/"
        },
        "id": "uKh01mLjDENX",
        "outputId": "dc27f6b1-3a01-4a68-857c-a0b53926f977"
      },
      "execution_count": 81,
      "outputs": [
        {
          "output_type": "stream",
          "name": "stdout",
          "text": [
            "Drive already mounted at /content/drive; to attempt to forcibly remount, call drive.mount(\"/content/drive\", force_remount=True).\n"
          ]
        }
      ]
    },
    {
      "cell_type": "code",
      "source": [
        "#@title\n",
        "train = pd.read_csv('/content/drive/MyDrive/Colab Notebooks/Colab data/train.csv')\n",
        "test = pd.read_csv('/content/drive/MyDrive/Colab Notebooks/Colab data/test.csv')"
      ],
      "metadata": {
        "id": "wWUufbe3DSwu"
      },
      "execution_count": 82,
      "outputs": []
    },
    {
      "cell_type": "code",
      "source": [
        "#@title\n",
        "train.shape"
      ],
      "metadata": {
        "colab": {
          "base_uri": "https://localhost:8080/"
        },
        "id": "v6YgGhfTDes_",
        "outputId": "5ee27be4-519a-493f-d50a-a91aac3baae6"
      },
      "execution_count": 83,
      "outputs": [
        {
          "output_type": "execute_result",
          "data": {
            "text/plain": [
              "(1460, 81)"
            ]
          },
          "metadata": {},
          "execution_count": 83
        }
      ]
    },
    {
      "cell_type": "code",
      "source": [
        "#@title\n",
        "test.shape"
      ],
      "metadata": {
        "colab": {
          "base_uri": "https://localhost:8080/"
        },
        "id": "crqWVO49Dgwg",
        "outputId": "934f4876-40ef-4b71-d639-64cec6f3101a"
      },
      "execution_count": 84,
      "outputs": [
        {
          "output_type": "execute_result",
          "data": {
            "text/plain": [
              "(1459, 80)"
            ]
          },
          "metadata": {},
          "execution_count": 84
        }
      ]
    },
    {
      "cell_type": "code",
      "source": [
        "#@title\n",
        "plt.scatter(train.GrLivArea, train.SalePrice)"
      ],
      "metadata": {
        "colab": {
          "base_uri": "https://localhost:8080/",
          "height": 282
        },
        "id": "VrdJ30kFnwgr",
        "outputId": "e1537e91-0113-4aab-f05a-34ced7f4b423"
      },
      "execution_count": 85,
      "outputs": [
        {
          "output_type": "execute_result",
          "data": {
            "text/plain": [
              "<matplotlib.collections.PathCollection at 0x7fac9e7ee9d0>"
            ]
          },
          "metadata": {},
          "execution_count": 85
        },
        {
          "output_type": "display_data",
          "data": {
            "text/plain": [
              "<Figure size 432x288 with 1 Axes>"
            ],
            "image/png": "[encoded data removed]"
          },
          "metadata": {
            "needs_background": "light"
          }
        }
      ]
    },
    {
      "cell_type": "code",
      "source": [
        "#@title\n",
        "train = train.drop(train[(train['GrLivArea']>4000) & (train['SalePrice']<300000)].index)"
      ],
      "metadata": {
        "id": "Kw4pgxgBisBA"
      },
      "execution_count": 86,
      "outputs": []
    },
    {
      "cell_type": "code",
      "source": [
        "#@title\n",
        "train.shape"
      ],
      "metadata": {
        "colab": {
          "base_uri": "https://localhost:8080/"
        },
        "id": "7Vq5JBitpF3n",
        "outputId": "3dad0699-4aac-4013-dfde-b6e221278ddd"
      },
      "execution_count": 87,
      "outputs": [
        {
          "output_type": "execute_result",
          "data": {
            "text/plain": [
              "(1458, 81)"
            ]
          },
          "metadata": {},
          "execution_count": 87
        }
      ]
    },
    {
      "cell_type": "markdown",
      "source": [
        "# Stacking the two tables\n",
        "Also separating out price feature into it's own column"
      ],
      "metadata": {
        "id": "zvSrTm0jE6ZW"
      }
    },
    {
      "cell_type": "code",
      "source": [
        "#@title\n",
        "y = pd.DataFrame(train['SalePrice'])"
      ],
      "metadata": {
        "id": "H52enCIpEaRj"
      },
      "execution_count": 88,
      "outputs": []
    },
    {
      "cell_type": "code",
      "source": [
        "#@title\n",
        "y.describe()"
      ],
      "metadata": {
        "colab": {
          "base_uri": "https://localhost:8080/",
          "height": 300
        },
        "id": "sxoZEJoXEo0H",
        "outputId": "5310ccf8-d9e5-43d2-929f-195f2e5d66ff"
      },
      "execution_count": 89,
      "outputs": [
        {
          "output_type": "execute_result",
          "data": {
            "text/plain": [
              "         SalePrice\n",
              "count   1458.00000\n",
              "mean  180932.91907\n",
              "std    79495.05528\n",
              "min    34900.00000\n",
              "25%   129925.00000\n",
              "50%   163000.00000\n",
              "75%   214000.00000\n",
              "max   755000.00000"
            ],
            "text/html": [
              "\n",
              "  <div id=\"df-d6fb3dc6-ff3d-4451-817f-c71b1a92518b\">\n",
              "    <div class=\"colab-df-container\">\n",
              "      <div>\n",
              "<style scoped>\n",
              "    .dataframe tbody tr th:only-of-type {\n",
              "        vertical-align: middle;\n",
              "    }\n",
              "\n",
              "    .dataframe tbody tr th {\n",
              "        vertical-align: top;\n",
              "    }\n",
              "\n",
              "    .dataframe thead th {\n",
              "        text-align: right;\n",
              "    }\n",
              "</style>\n",
              "<table border=\"1\" class=\"dataframe\">\n",
              "  <thead>\n",
              "    <tr style=\"text-align: right;\">\n",
              "      <th></th>\n",
              "      <th>SalePrice</th>\n",
              "    </tr>\n",
              "  </thead>\n",
              "  <tbody>\n",
              "    <tr>\n",
              "      <th>count</th>\n",
              "      <td>1458.00000</td>\n",
              "    </tr>\n",
              "    <tr>\n",
              "      <th>mean</th>\n",
              "      <td>180932.91907</td>\n",
              "    </tr>\n",
              "    <tr>\n",
              "      <th>std</th>\n",
              "      <td>79495.05528</td>\n",
              "    </tr>\n",
              "    <tr>\n",
              "      <th>min</th>\n",
              "      <td>34900.00000</td>\n",
              "    </tr>\n",
              "    <tr>\n",
              "      <th>25%</th>\n",
              "      <td>129925.00000</td>\n",
              "    </tr>\n",
              "    <tr>\n",
              "      <th>50%</th>\n",
              "      <td>163000.00000</td>\n",
              "    </tr>\n",
              "    <tr>\n",
              "      <th>75%</th>\n",
              "      <td>214000.00000</td>\n",
              "    </tr>\n",
              "    <tr>\n",
              "      <th>max</th>\n",
              "      <td>755000.00000</td>\n",
              "    </tr>\n",
              "  </tbody>\n",
              "</table>\n",
              "</div>\n",
              "      <button class=\"colab-df-convert\" onclick=\"convertToInteractive('df-d6fb3dc6-ff3d-4451-817f-c71b1a92518b')\"\n",
              "              title=\"Convert this dataframe to an interactive table.\"\n",
              "              style=\"display:none;\">\n",
              "        \n",
              "  <svg xmlns=\"http://www.w3.org/2000/svg\" height=\"24px\"viewBox=\"0 0 24 24\"\n",
              "       width=\"24px\">\n",
              "    <path d=\"M0 0h24v24H0V0z\" fill=\"none\"/>\n",
              "    <path d=\"M18.56 5.44l.94 2.06.94-2.06 2.06-.94-2.06-.94-.94-2.06-.94 2.06-2.06.94zm-11 1L8.5 8.5l.94-2.06 2.06-.94-2.06-.94L8.5 2.5l-.94 2.06-2.06.94zm10 10l.94 2.06.94-2.06 2.06-.94-2.06-.94-.94-2.06-.94 2.06-2.06.94z\"/><path d=\"M17.41 7.96l-1.37-1.37c-.4-.4-.92-.59-1.43-.59-.52 0-1.04.2-1.43.59L10.3 9.45l-7.72 7.72c-.78.78-.78 2.05 0 2.83L4 21.41c.39.39.9.59 1.41.59.51 0 1.02-.2 1.41-.59l7.78-7.78 2.81-2.81c.8-.78.8-2.07 0-2.86zM5.41 20L4 18.59l7.72-7.72 1.47 1.35L5.41 20z\"/>\n",
              "  </svg>\n",
              "      </button>\n",
              "      \n",
              "  <style>\n",
              "    .colab-df-container {\n",
              "      display:flex;\n",
              "      flex-wrap:wrap;\n",
              "      gap: 12px;\n",
              "    }\n",
              "\n",
              "    .colab-df-convert {\n",
              "      background-color: #E8F0FE;\n",
              "      border: none;\n",
              "      border-radius: 50%;\n",
              "      cursor: pointer;\n",
              "      display: none;\n",
              "      fill: #1967D2;\n",
              "      height: 32px;\n",
              "      padding: 0 0 0 0;\n",
              "      width: 32px;\n",
              "    }\n",
              "\n",
              "    .colab-df-convert:hover {\n",
              "      background-color: #E2EBFA;\n",
              "      box-shadow: 0px 1px 2px rgba(60, 64, 67, 0.3), 0px 1px 3px 1px rgba(60, 64, 67, 0.15);\n",
              "      fill: #174EA6;\n",
              "    }\n",
              "\n",
              "    [theme=dark] .colab-df-convert {\n",
              "      background-color: #3B4455;\n",
              "      fill: #D2E3FC;\n",
              "    }\n",
              "\n",
              "    [theme=dark] .colab-df-convert:hover {\n",
              "      background-color: #434B5C;\n",
              "      box-shadow: 0px 1px 3px 1px rgba(0, 0, 0, 0.15);\n",
              "      filter: drop-shadow(0px 1px 2px rgba(0, 0, 0, 0.3));\n",
              "      fill: #FFFFFF;\n",
              "    }\n",
              "  </style>\n",
              "\n",
              "      <script>\n",
              "        const buttonEl =\n",
              "          document.querySelector('#df-d6fb3dc6-ff3d-4451-817f-c71b1a92518b button.colab-df-convert');\n",
              "        buttonEl.style.display =\n",
              "          google.colab.kernel.accessAllowed ? 'block' : 'none';\n",
              "\n",
              "        async function convertToInteractive(key) {\n",
              "          const element = document.querySelector('#df-d6fb3dc6-ff3d-4451-817f-c71b1a92518b');\n",
              "          const dataTable =\n",
              "            await google.colab.kernel.invokeFunction('convertToInteractive',\n",
              "                                                     [key], {});\n",
              "          if (!dataTable) return;\n",
              "\n",
              "          const docLinkHtml = 'Like what you see? Visit the ' +\n",
              "            '<a target=\"_blank\" href=https://colab.research.google.com/notebooks/data_table.ipynb>data table notebook</a>'\n",
              "            + ' to learn more about interactive tables.';\n",
              "          element.innerHTML = '';\n",
              "          dataTable['output_type'] = 'display_data';\n",
              "          await google.colab.output.renderOutput(dataTable, element);\n",
              "          const docLink = document.createElement('div');\n",
              "          docLink.innerHTML = docLinkHtml;\n",
              "          element.appendChild(docLink);\n",
              "        }\n",
              "      </script>\n",
              "    </div>\n",
              "  </div>\n",
              "  "
            ]
          },
          "metadata": {},
          "execution_count": 89
        }
      ]
    },
    {
      "cell_type": "code",
      "source": [
        "#@title\n",
        "# train.drop(columns = 'SalePrice', inplace=True)"
      ],
      "metadata": {
        "id": "73EO2Bg9Eyvl"
      },
      "execution_count": 90,
      "outputs": []
    },
    {
      "cell_type": "code",
      "source": [
        "#@title\n",
        "x = pd.concat([train.drop(columns='SalePrice'), test], axis = 0)"
      ],
      "metadata": {
        "id": "6KSbuLojFCbV"
      },
      "execution_count": 91,
      "outputs": []
    },
    {
      "cell_type": "code",
      "source": [
        "#@title\n",
        "x"
      ],
      "metadata": {
        "colab": {
          "base_uri": "https://localhost:8080/",
          "height": 424
        },
        "id": "2wAjIE_LFewS",
        "outputId": "fc22601b-aea4-45bc-9f25-ff4a9bb36ee9"
      },
      "execution_count": 92,
      "outputs": [
        {
          "output_type": "execute_result",
          "data": {
            "text/plain": [
              "        Id  MSSubClass MSZoning  LotFrontage  LotArea Street Alley LotShape  \\\n",
              "0        1          60       RL     65.00000     8450   Pave   NaN      Reg   \n",
              "1        2          20       RL     80.00000     9600   Pave   NaN      Reg   \n",
              "2        3          60       RL     68.00000    11250   Pave   NaN      IR1   \n",
              "3        4          70       RL     60.00000     9550   Pave   NaN      IR1   \n",
              "4        5          60       RL     84.00000    14260   Pave   NaN      IR1   \n",
              "...    ...         ...      ...          ...      ...    ...   ...      ...   \n",
              "1454  2915         160       RM     21.00000     1936   Pave   NaN      Reg   \n",
              "1455  2916         160       RM     21.00000     1894   Pave   NaN      Reg   \n",
              "1456  2917          20       RL    160.00000    20000   Pave   NaN      Reg   \n",
              "1457  2918          85       RL     62.00000    10441   Pave   NaN      Reg   \n",
              "1458  2919          60       RL     74.00000     9627   Pave   NaN      Reg   \n",
              "\n",
              "     LandContour Utilities  ... ScreenPorch PoolArea PoolQC  Fence  \\\n",
              "0            Lvl    AllPub  ...           0        0    NaN    NaN   \n",
              "1            Lvl    AllPub  ...           0        0    NaN    NaN   \n",
              "2            Lvl    AllPub  ...           0        0    NaN    NaN   \n",
              "3            Lvl    AllPub  ...           0        0    NaN    NaN   \n",
              "4            Lvl    AllPub  ...           0        0    NaN    NaN   \n",
              "...          ...       ...  ...         ...      ...    ...    ...   \n",
              "1454         Lvl    AllPub  ...           0        0    NaN    NaN   \n",
              "1455         Lvl    AllPub  ...           0        0    NaN    NaN   \n",
              "1456         Lvl    AllPub  ...           0        0    NaN    NaN   \n",
              "1457         Lvl    AllPub  ...           0        0    NaN  MnPrv   \n",
              "1458         Lvl    AllPub  ...           0        0    NaN    NaN   \n",
              "\n",
              "     MiscFeature MiscVal MoSold  YrSold  SaleType  SaleCondition  \n",
              "0            NaN       0      2    2008        WD         Normal  \n",
              "1            NaN       0      5    2007        WD         Normal  \n",
              "2            NaN       0      9    2008        WD         Normal  \n",
              "3            NaN       0      2    2006        WD        Abnorml  \n",
              "4            NaN       0     12    2008        WD         Normal  \n",
              "...          ...     ...    ...     ...       ...            ...  \n",
              "1454         NaN       0      6    2006        WD         Normal  \n",
              "1455         NaN       0      4    2006        WD        Abnorml  \n",
              "1456         NaN       0      9    2006        WD        Abnorml  \n",
              "1457        Shed     700      7    2006        WD         Normal  \n",
              "1458         NaN       0     11    2006        WD         Normal  \n",
              "\n",
              "[2917 rows x 80 columns]"
            ],
            "text/html": [
              "\n",
              "  <div id=\"df-ccce787d-0c3e-4374-b018-0798140b0af0\">\n",
              "    <div class=\"colab-df-container\">\n",
              "      <div>\n",
              "<style scoped>\n",
              "    .dataframe tbody tr th:only-of-type {\n",
              "        vertical-align: middle;\n",
              "    }\n",
              "\n",
              "    .dataframe tbody tr th {\n",
              "        vertical-align: top;\n",
              "    }\n",
              "\n",
              "    .dataframe thead th {\n",
              "        text-align: right;\n",
              "    }\n",
              "</style>\n",
              "<table border=\"1\" class=\"dataframe\">\n",
              "  <thead>\n",
              "    <tr style=\"text-align: right;\">\n",
              "      <th></th>\n",
              "      <th>Id</th>\n",
              "      <th>MSSubClass</th>\n",
              "      <th>MSZoning</th>\n",
              "      <th>LotFrontage</th>\n",
              "      <th>LotArea</th>\n",
              "      <th>Street</th>\n",
              "      <th>Alley</th>\n",
              "      <th>LotShape</th>\n",
              "      <th>LandContour</th>\n",
              "      <th>Utilities</th>\n",
              "      <th>...</th>\n",
              "      <th>ScreenPorch</th>\n",
              "      <th>PoolArea</th>\n",
              "      <th>PoolQC</th>\n",
              "      <th>Fence</th>\n",
              "      <th>MiscFeature</th>\n",
              "      <th>MiscVal</th>\n",
              "      <th>MoSold</th>\n",
              "      <th>YrSold</th>\n",
              "      <th>SaleType</th>\n",
              "      <th>SaleCondition</th>\n",
              "    </tr>\n",
              "  </thead>\n",
              "  <tbody>\n",
              "    <tr>\n",
              "      <th>0</th>\n",
              "      <td>1</td>\n",
              "      <td>60</td>\n",
              "      <td>RL</td>\n",
              "      <td>65.00000</td>\n",
              "      <td>8450</td>\n",
              "      <td>Pave</td>\n",
              "      <td>NaN</td>\n",
              "      <td>Reg</td>\n",
              "      <td>Lvl</td>\n",
              "      <td>AllPub</td>\n",
              "      <td>...</td>\n",
              "      <td>0</td>\n",
              "      <td>0</td>\n",
              "      <td>NaN</td>\n",
              "      <td>NaN</td>\n",
              "      <td>NaN</td>\n",
              "      <td>0</td>\n",
              "      <td>2</td>\n",
              "      <td>2008</td>\n",
              "      <td>WD</td>\n",
              "      <td>Normal</td>\n",
              "    </tr>\n",
              "    <tr>\n",
              "      <th>1</th>\n",
              "      <td>2</td>\n",
              "      <td>20</td>\n",
              "      <td>RL</td>\n",
              "      <td>80.00000</td>\n",
              "      <td>9600</td>\n",
              "      <td>Pave</td>\n",
              "      <td>NaN</td>\n",
              "      <td>Reg</td>\n",
              "      <td>Lvl</td>\n",
              "      <td>AllPub</td>\n",
              "      <td>...</td>\n",
              "      <td>0</td>\n",
              "      <td>0</td>\n",
              "      <td>NaN</td>\n",
              "      <td>NaN</td>\n",
              "      <td>NaN</td>\n",
              "      <td>0</td>\n",
              "      <td>5</td>\n",
              "      <td>2007</td>\n",
              "      <td>WD</td>\n",
              "      <td>Normal</td>\n",
              "    </tr>\n",
              "    <tr>\n",
              "      <th>2</th>\n",
              "      <td>3</td>\n",
              "      <td>60</td>\n",
              "      <td>RL</td>\n",
              "      <td>68.00000</td>\n",
              "      <td>11250</td>\n",
              "      <td>Pave</td>\n",
              "      <td>NaN</td>\n",
              "      <td>IR1</td>\n",
              "      <td>Lvl</td>\n",
              "      <td>AllPub</td>\n",
              "      <td>...</td>\n",
              "      <td>0</td>\n",
              "      <td>0</td>\n",
              "      <td>NaN</td>\n",
              "      <td>NaN</td>\n",
              "      <td>NaN</td>\n",
              "      <td>0</td>\n",
              "      <td>9</td>\n",
              "      <td>2008</td>\n",
              "      <td>WD</td>\n",
              "      <td>Normal</td>\n",
              "    </tr>\n",
              "    <tr>\n",
              "      <th>3</th>\n",
              "      <td>4</td>\n",
              "      <td>70</td>\n",
              "      <td>RL</td>\n",
              "      <td>60.00000</td>\n",
              "      <td>9550</td>\n",
              "      <td>Pave</td>\n",
              "      <td>NaN</td>\n",
              "      <td>IR1</td>\n",
              "      <td>Lvl</td>\n",
              "      <td>AllPub</td>\n",
              "      <td>...</td>\n",
              "      <td>0</td>\n",
              "      <td>0</td>\n",
              "      <td>NaN</td>\n",
              "      <td>NaN</td>\n",
              "      <td>NaN</td>\n",
              "      <td>0</td>\n",
              "      <td>2</td>\n",
              "      <td>2006</td>\n",
              "      <td>WD</td>\n",
              "      <td>Abnorml</td>\n",
              "    </tr>\n",
              "    <tr>\n",
              "      <th>4</th>\n",
              "      <td>5</td>\n",
              "      <td>60</td>\n",
              "      <td>RL</td>\n",
              "      <td>84.00000</td>\n",
              "      <td>14260</td>\n",
              "      <td>Pave</td>\n",
              "      <td>NaN</td>\n",
              "      <td>IR1</td>\n",
              "      <td>Lvl</td>\n",
              "      <td>AllPub</td>\n",
              "      <td>...</td>\n",
              "      <td>0</td>\n",
              "      <td>0</td>\n",
              "      <td>NaN</td>\n",
              "      <td>NaN</td>\n",
              "      <td>NaN</td>\n",
              "      <td>0</td>\n",
              "      <td>12</td>\n",
              "      <td>2008</td>\n",
              "      <td>WD</td>\n",
              "      <td>Normal</td>\n",
              "    </tr>\n",
              "    <tr>\n",
              "      <th>...</th>\n",
              "      <td>...</td>\n",
              "      <td>...</td>\n",
              "      <td>...</td>\n",
              "      <td>...</td>\n",
              "      <td>...</td>\n",
              "      <td>...</td>\n",
              "      <td>...</td>\n",
              "      <td>...</td>\n",
              "      <td>...</td>\n",
              "      <td>...</td>\n",
              "      <td>...</td>\n",
              "      <td>...</td>\n",
              "      <td>...</td>\n",
              "      <td>...</td>\n",
              "      <td>...</td>\n",
              "      <td>...</td>\n",
              "      <td>...</td>\n",
              "      <td>...</td>\n",
              "      <td>...</td>\n",
              "      <td>...</td>\n",
              "      <td>...</td>\n",
              "    </tr>\n",
              "    <tr>\n",
              "      <th>1454</th>\n",
              "      <td>2915</td>\n",
              "      <td>160</td>\n",
              "      <td>RM</td>\n",
              "      <td>21.00000</td>\n",
              "      <td>1936</td>\n",
              "      <td>Pave</td>\n",
              "      <td>NaN</td>\n",
              "      <td>Reg</td>\n",
              "      <td>Lvl</td>\n",
              "      <td>AllPub</td>\n",
              "      <td>...</td>\n",
              "      <td>0</td>\n",
              "      <td>0</td>\n",
              "      <td>NaN</td>\n",
              "      <td>NaN</td>\n",
              "      <td>NaN</td>\n",
              "      <td>0</td>\n",
              "      <td>6</td>\n",
              "      <td>2006</td>\n",
              "      <td>WD</td>\n",
              "      <td>Normal</td>\n",
              "    </tr>\n",
              "    <tr>\n",
              "      <th>1455</th>\n",
              "      <td>2916</td>\n",
              "      <td>160</td>\n",
              "      <td>RM</td>\n",
              "      <td>21.00000</td>\n",
              "      <td>1894</td>\n",
              "      <td>Pave</td>\n",
              "      <td>NaN</td>\n",
              "      <td>Reg</td>\n",
              "      <td>Lvl</td>\n",
              "      <td>AllPub</td>\n",
              "      <td>...</td>\n",
              "      <td>0</td>\n",
              "      <td>0</td>\n",
              "      <td>NaN</td>\n",
              "      <td>NaN</td>\n",
              "      <td>NaN</td>\n",
              "      <td>0</td>\n",
              "      <td>4</td>\n",
              "      <td>2006</td>\n",
              "      <td>WD</td>\n",
              "      <td>Abnorml</td>\n",
              "    </tr>\n",
              "    <tr>\n",
              "      <th>1456</th>\n",
              "      <td>2917</td>\n",
              "      <td>20</td>\n",
              "      <td>RL</td>\n",
              "      <td>160.00000</td>\n",
              "      <td>20000</td>\n",
              "      <td>Pave</td>\n",
              "      <td>NaN</td>\n",
              "      <td>Reg</td>\n",
              "      <td>Lvl</td>\n",
              "      <td>AllPub</td>\n",
              "      <td>...</td>\n",
              "      <td>0</td>\n",
              "      <td>0</td>\n",
              "      <td>NaN</td>\n",
              "      <td>NaN</td>\n",
              "      <td>NaN</td>\n",
              "      <td>0</td>\n",
              "      <td>9</td>\n",
              "      <td>2006</td>\n",
              "      <td>WD</td>\n",
              "      <td>Abnorml</td>\n",
              "    </tr>\n",
              "    <tr>\n",
              "      <th>1457</th>\n",
              "      <td>2918</td>\n",
              "      <td>85</td>\n",
              "      <td>RL</td>\n",
              "      <td>62.00000</td>\n",
              "      <td>10441</td>\n",
              "      <td>Pave</td>\n",
              "      <td>NaN</td>\n",
              "      <td>Reg</td>\n",
              "      <td>Lvl</td>\n",
              "      <td>AllPub</td>\n",
              "      <td>...</td>\n",
              "      <td>0</td>\n",
              "      <td>0</td>\n",
              "      <td>NaN</td>\n",
              "      <td>MnPrv</td>\n",
              "      <td>Shed</td>\n",
              "      <td>700</td>\n",
              "      <td>7</td>\n",
              "      <td>2006</td>\n",
              "      <td>WD</td>\n",
              "      <td>Normal</td>\n",
              "    </tr>\n",
              "    <tr>\n",
              "      <th>1458</th>\n",
              "      <td>2919</td>\n",
              "      <td>60</td>\n",
              "      <td>RL</td>\n",
              "      <td>74.00000</td>\n",
              "      <td>9627</td>\n",
              "      <td>Pave</td>\n",
              "      <td>NaN</td>\n",
              "      <td>Reg</td>\n",
              "      <td>Lvl</td>\n",
              "      <td>AllPub</td>\n",
              "      <td>...</td>\n",
              "      <td>0</td>\n",
              "      <td>0</td>\n",
              "      <td>NaN</td>\n",
              "      <td>NaN</td>\n",
              "      <td>NaN</td>\n",
              "      <td>0</td>\n",
              "      <td>11</td>\n",
              "      <td>2006</td>\n",
              "      <td>WD</td>\n",
              "      <td>Normal</td>\n",
              "    </tr>\n",
              "  </tbody>\n",
              "</table>\n",
              "<p>2917 rows × 80 columns</p>\n",
              "</div>\n",
              "      <button class=\"colab-df-convert\" onclick=\"convertToInteractive('df-ccce787d-0c3e-4374-b018-0798140b0af0')\"\n",
              "              title=\"Convert this dataframe to an interactive table.\"\n",
              "              style=\"display:none;\">\n",
              "        \n",
              "  <svg xmlns=\"http://www.w3.org/2000/svg\" height=\"24px\"viewBox=\"0 0 24 24\"\n",
              "       width=\"24px\">\n",
              "    <path d=\"M0 0h24v24H0V0z\" fill=\"none\"/>\n",
              "    <path d=\"M18.56 5.44l.94 2.06.94-2.06 2.06-.94-2.06-.94-.94-2.06-.94 2.06-2.06.94zm-11 1L8.5 8.5l.94-2.06 2.06-.94-2.06-.94L8.5 2.5l-.94 2.06-2.06.94zm10 10l.94 2.06.94-2.06 2.06-.94-2.06-.94-.94-2.06-.94 2.06-2.06.94z\"/><path d=\"M17.41 7.96l-1.37-1.37c-.4-.4-.92-.59-1.43-.59-.52 0-1.04.2-1.43.59L10.3 9.45l-7.72 7.72c-.78.78-.78 2.05 0 2.83L4 21.41c.39.39.9.59 1.41.59.51 0 1.02-.2 1.41-.59l7.78-7.78 2.81-2.81c.8-.78.8-2.07 0-2.86zM5.41 20L4 18.59l7.72-7.72 1.47 1.35L5.41 20z\"/>\n",
              "  </svg>\n",
              "      </button>\n",
              "      \n",
              "  <style>\n",
              "    .colab-df-container {\n",
              "      display:flex;\n",
              "      flex-wrap:wrap;\n",
              "      gap: 12px;\n",
              "    }\n",
              "\n",
              "    .colab-df-convert {\n",
              "      background-color: #E8F0FE;\n",
              "      border: none;\n",
              "      border-radius: 50%;\n",
              "      cursor: pointer;\n",
              "      display: none;\n",
              "      fill: #1967D2;\n",
              "      height: 32px;\n",
              "      padding: 0 0 0 0;\n",
              "      width: 32px;\n",
              "    }\n",
              "\n",
              "    .colab-df-convert:hover {\n",
              "      background-color: #E2EBFA;\n",
              "      box-shadow: 0px 1px 2px rgba(60, 64, 67, 0.3), 0px 1px 3px 1px rgba(60, 64, 67, 0.15);\n",
              "      fill: #174EA6;\n",
              "    }\n",
              "\n",
              "    [theme=dark] .colab-df-convert {\n",
              "      background-color: #3B4455;\n",
              "      fill: #D2E3FC;\n",
              "    }\n",
              "\n",
              "    [theme=dark] .colab-df-convert:hover {\n",
              "      background-color: #434B5C;\n",
              "      box-shadow: 0px 1px 3px 1px rgba(0, 0, 0, 0.15);\n",
              "      filter: drop-shadow(0px 1px 2px rgba(0, 0, 0, 0.3));\n",
              "      fill: #FFFFFF;\n",
              "    }\n",
              "  </style>\n",
              "\n",
              "      <script>\n",
              "        const buttonEl =\n",
              "          document.querySelector('#df-ccce787d-0c3e-4374-b018-0798140b0af0 button.colab-df-convert');\n",
              "        buttonEl.style.display =\n",
              "          google.colab.kernel.accessAllowed ? 'block' : 'none';\n",
              "\n",
              "        async function convertToInteractive(key) {\n",
              "          const element = document.querySelector('#df-ccce787d-0c3e-4374-b018-0798140b0af0');\n",
              "          const dataTable =\n",
              "            await google.colab.kernel.invokeFunction('convertToInteractive',\n",
              "                                                     [key], {});\n",
              "          if (!dataTable) return;\n",
              "\n",
              "          const docLinkHtml = 'Like what you see? Visit the ' +\n",
              "            '<a target=\"_blank\" href=https://colab.research.google.com/notebooks/data_table.ipynb>data table notebook</a>'\n",
              "            + ' to learn more about interactive tables.';\n",
              "          element.innerHTML = '';\n",
              "          dataTable['output_type'] = 'display_data';\n",
              "          await google.colab.output.renderOutput(dataTable, element);\n",
              "          const docLink = document.createElement('div');\n",
              "          docLink.innerHTML = docLinkHtml;\n",
              "          element.appendChild(docLink);\n",
              "        }\n",
              "      </script>\n",
              "    </div>\n",
              "  </div>\n",
              "  "
            ]
          },
          "metadata": {},
          "execution_count": 92
        }
      ]
    },
    {
      "cell_type": "markdown",
      "source": [
        "Plan of attack\n",
        "* Analysis\n",
        "* Clean up\n",
        "  * Nulls\n",
        "  * Outlier values\n",
        "* Feature engineering\n",
        "* Numericals to categoricals\n",
        "* Ordinals\n",
        "* Do some correlation and pairplotting\n",
        "* Drop columns\n",
        "  * Use the xnum threshold method\n",
        "* Preprocessing\n",
        "  * Transforming\n",
        "  * Scaling\n",
        "  * Encoding\n",
        "* Regression and analysis"
      ],
      "metadata": {
        "id": "8pUCWeAqJpuY"
      }
    },
    {
      "cell_type": "markdown",
      "source": [
        "# Analysis"
      ],
      "metadata": {
        "id": "t5x70hrFKZG3"
      }
    },
    {
      "cell_type": "code",
      "source": [
        "#@title\n",
        "x.info()"
      ],
      "metadata": {
        "colab": {
          "base_uri": "https://localhost:8080/"
        },
        "id": "WdYQtgINJfSN",
        "outputId": "fe9d2dd4-a87b-43e4-d68f-facdec3a9965"
      },
      "execution_count": 93,
      "outputs": [
        {
          "output_type": "stream",
          "name": "stdout",
          "text": [
            "<class 'pandas.core.frame.DataFrame'>\n",
            "Int64Index: 2917 entries, 0 to 1458\n",
            "Data columns (total 80 columns):\n",
            " #   Column         Non-Null Count  Dtype  \n",
            "---  ------         --------------  -----  \n",
            " 0   Id             2917 non-null   int64  \n",
            " 1   MSSubClass     2917 non-null   int64  \n",
            " 2   MSZoning       2913 non-null   object \n",
            " 3   LotFrontage    2431 non-null   float64\n",
            " 4   LotArea        2917 non-null   int64  \n",
            " 5   Street         2917 non-null   object \n",
            " 6   Alley          198 non-null    object \n",
            " 7   LotShape       2917 non-null   object \n",
            " 8   LandContour    2917 non-null   object \n",
            " 9   Utilities      2915 non-null   object \n",
            " 10  LotConfig      2917 non-null   object \n",
            " 11  LandSlope      2917 non-null   object \n",
            " 12  Neighborhood   2917 non-null   object \n",
            " 13  Condition1     2917 non-null   object \n",
            " 14  Condition2     2917 non-null   object \n",
            " 15  BldgType       2917 non-null   object \n",
            " 16  HouseStyle     2917 non-null   object \n",
            " 17  OverallQual    2917 non-null   int64  \n",
            " 18  OverallCond    2917 non-null   int64  \n",
            " 19  YearBuilt      2917 non-null   int64  \n",
            " 20  YearRemodAdd   2917 non-null   int64  \n",
            " 21  RoofStyle      2917 non-null   object \n",
            " 22  RoofMatl       2917 non-null   object \n",
            " 23  Exterior1st    2916 non-null   object \n",
            " 24  Exterior2nd    2916 non-null   object \n",
            " 25  MasVnrType     2893 non-null   object \n",
            " 26  MasVnrArea     2894 non-null   float64\n",
            " 27  ExterQual      2917 non-null   object \n",
            " 28  ExterCond      2917 non-null   object \n",
            " 29  Foundation     2917 non-null   object \n",
            " 30  BsmtQual       2836 non-null   object \n",
            " 31  BsmtCond       2835 non-null   object \n",
            " 32  BsmtExposure   2835 non-null   object \n",
            " 33  BsmtFinType1   2838 non-null   object \n",
            " 34  BsmtFinSF1     2916 non-null   float64\n",
            " 35  BsmtFinType2   2837 non-null   object \n",
            " 36  BsmtFinSF2     2916 non-null   float64\n",
            " 37  BsmtUnfSF      2916 non-null   float64\n",
            " 38  TotalBsmtSF    2916 non-null   float64\n",
            " 39  Heating        2917 non-null   object \n",
            " 40  HeatingQC      2917 non-null   object \n",
            " 41  CentralAir     2917 non-null   object \n",
            " 42  Electrical     2916 non-null   object \n",
            " 43  1stFlrSF       2917 non-null   int64  \n",
            " 44  2ndFlrSF       2917 non-null   int64  \n",
            " 45  LowQualFinSF   2917 non-null   int64  \n",
            " 46  GrLivArea      2917 non-null   int64  \n",
            " 47  BsmtFullBath   2915 non-null   float64\n",
            " 48  BsmtHalfBath   2915 non-null   float64\n",
            " 49  FullBath       2917 non-null   int64  \n",
            " 50  HalfBath       2917 non-null   int64  \n",
            " 51  BedroomAbvGr   2917 non-null   int64  \n",
            " 52  KitchenAbvGr   2917 non-null   int64  \n",
            " 53  KitchenQual    2916 non-null   object \n",
            " 54  TotRmsAbvGrd   2917 non-null   int64  \n",
            " 55  Functional     2915 non-null   object \n",
            " 56  Fireplaces     2917 non-null   int64  \n",
            " 57  FireplaceQu    1497 non-null   object \n",
            " 58  GarageType     2760 non-null   object \n",
            " 59  GarageYrBlt    2758 non-null   float64\n",
            " 60  GarageFinish   2758 non-null   object \n",
            " 61  GarageCars     2916 non-null   float64\n",
            " 62  GarageArea     2916 non-null   float64\n",
            " 63  GarageQual     2758 non-null   object \n",
            " 64  GarageCond     2758 non-null   object \n",
            " 65  PavedDrive     2917 non-null   object \n",
            " 66  WoodDeckSF     2917 non-null   int64  \n",
            " 67  OpenPorchSF    2917 non-null   int64  \n",
            " 68  EnclosedPorch  2917 non-null   int64  \n",
            " 69  3SsnPorch      2917 non-null   int64  \n",
            " 70  ScreenPorch    2917 non-null   int64  \n",
            " 71  PoolArea       2917 non-null   int64  \n",
            " 72  PoolQC         9 non-null      object \n",
            " 73  Fence          571 non-null    object \n",
            " 74  MiscFeature    105 non-null    object \n",
            " 75  MiscVal        2917 non-null   int64  \n",
            " 76  MoSold         2917 non-null   int64  \n",
            " 77  YrSold         2917 non-null   int64  \n",
            " 78  SaleType       2916 non-null   object \n",
            " 79  SaleCondition  2917 non-null   object \n",
            "dtypes: float64(11), int64(26), object(43)\n",
            "memory usage: 1.8+ MB\n"
          ]
        }
      ]
    },
    {
      "cell_type": "code",
      "source": [
        "#@title\n",
        "y.hist(bins = 20)"
      ],
      "metadata": {
        "colab": {
          "base_uri": "https://localhost:8080/",
          "height": 316
        },
        "id": "Qx3R-vKQKq8C",
        "outputId": "76cba2eb-7b17-4de4-dbbb-e83c5c16f534"
      },
      "execution_count": 94,
      "outputs": [
        {
          "output_type": "execute_result",
          "data": {
            "text/plain": [
              "array([[<matplotlib.axes._subplots.AxesSubplot object at 0x7fac9e88dc90>]],\n",
              "      dtype=object)"
            ]
          },
          "metadata": {},
          "execution_count": 94
        },
        {
          "output_type": "display_data",
          "data": {
            "text/plain": [
              "<Figure size 432x288 with 1 Axes>"
            ],
            "image/png": "[encoded data removed]"
          },
          "metadata": {
            "needs_background": "light"
          }
        }
      ]
    },
    {
      "cell_type": "markdown",
      "source": [
        "Correlations"
      ],
      "metadata": {
        "id": "f5I5NXRuKYl1"
      }
    },
    {
      "cell_type": "code",
      "source": [
        "#@title\n",
        "# plt.figure(figsize =(30,10))\n",
        "# heatmap = sns.heatmap(train.corr(), annot=True, vmin = -1, vmax = 1, cmap = 'BrBG')"
      ],
      "metadata": {
        "id": "38vJVlLxOysL"
      },
      "execution_count": 95,
      "outputs": []
    },
    {
      "cell_type": "markdown",
      "source": [
        "## Clean up"
      ],
      "metadata": {
        "id": "CfT8kjhqKYhW"
      }
    },
    {
      "cell_type": "markdown",
      "source": [
        "#### Clean up columns where nulls = 'none'\n",
        "\n",
        "* PoolQC - 'No pool'\n",
        "* Fence - 'No fence'\n",
        "* MiscFeature - 'No feature'\n",
        "* Alley - 'No alley'\n",
        "* BsmtQual - 'No basement'\n",
        "* BsmtCond - 'No basement'\n",
        "* BsmtExposure - 'No basement'\n",
        "* BsmtFinType1 - 'No basement'\n",
        "* BsmtFinType2 - 'No basement'\n",
        "* FireplaceQu - 'No fireplace'\n",
        "* GarageType - 'No garage'\n",
        "* GarageYrBlt - 'No garage'\n",
        "* GarageQual - 'No garage'\n",
        "* GarageCond - 'No garage'\n"
      ],
      "metadata": {
        "id": "ZjdHd16hc1_d"
      }
    },
    {
      "cell_type": "code",
      "source": [
        "#@title\n",
        "x.isnull().sum().sum()"
      ],
      "metadata": {
        "colab": {
          "base_uri": "https://localhost:8080/"
        },
        "id": "5Uc9TmL994pw",
        "outputId": "a78a2c7d-9c1a-45db-d634-ccdf6ff5bfd6"
      },
      "execution_count": 96,
      "outputs": [
        {
          "output_type": "execute_result",
          "data": {
            "text/plain": [
              "13958"
            ]
          },
          "metadata": {},
          "execution_count": 96
        }
      ]
    },
    {
      "cell_type": "code",
      "source": [
        "#@title\n",
        "x.PoolQC.fillna('No Pool', inplace=True) # PoolQC \n",
        "x.Fence.fillna('No Fence', inplace=True) # Fence\n",
        "x.MiscFeature.fillna('None', inplace=True) # MiscFeature\n",
        "x.Alley.fillna('No alley access', inplace=True) # Alley\n",
        "x.BsmtQual.fillna('No basement', inplace=True) # BsmtQual\n",
        "x.BsmtCond.fillna('No basement', inplace=True) # BsmtCond\n",
        "x.BsmtExposure.fillna('No basement', inplace=True) # BsmtExposure\n",
        "x.BsmtFinType1.fillna('No basement', inplace=True) # BsmtFinType1\n",
        "x.BsmtFinType2.fillna('No basement', inplace=True) # BsmtFinType2\n",
        "x.FireplaceQu.fillna('No fireplace', inplace=True) # FireplaceQu\n",
        "x.GarageType.fillna('No garage', inplace=True) # GarageType\n",
        "x.GarageYrBlt.fillna('No garage', inplace=True) # GarageYrBlt\n",
        "x.GarageQual.fillna('No garage', inplace=True) # GarageQual\n",
        "x.GarageCond.fillna('No garage', inplace=True) # GarageCond\n",
        "x.GarageFinish.fillna('No garage', inplace=True) # GarageFinish"
      ],
      "metadata": {
        "id": "gOolCJu07f6M"
      },
      "execution_count": 97,
      "outputs": []
    },
    {
      "cell_type": "code",
      "source": [
        "#@title\n",
        "x.isnull().sum().sum()"
      ],
      "metadata": {
        "colab": {
          "base_uri": "https://localhost:8080/"
        },
        "id": "_IZOQTQ8-AfP",
        "outputId": "29f99431-4ac1-41c4-8156-52b06c7f16c5"
      },
      "execution_count": 98,
      "outputs": [
        {
          "output_type": "execute_result",
          "data": {
            "text/plain": [
              "556"
            ]
          },
          "metadata": {},
          "execution_count": 98
        }
      ]
    },
    {
      "cell_type": "markdown",
      "source": [
        "### Filling in nulls"
      ],
      "metadata": {
        "id": "a_DTyJPLgzxf"
      }
    },
    {
      "cell_type": "code",
      "source": [
        "#@title\n",
        "isnull = x.isnull().sum().sort_values(ascending=False)\n",
        "isnull = isnull[isnull > 0]\n",
        "isnull"
      ],
      "metadata": {
        "colab": {
          "base_uri": "https://localhost:8080/"
        },
        "id": "M1jQi_8Eg1RT",
        "outputId": "8e93d420-feb2-48fe-c765-b1da8dc4a834"
      },
      "execution_count": 99,
      "outputs": [
        {
          "output_type": "execute_result",
          "data": {
            "text/plain": [
              "LotFrontage     486\n",
              "MasVnrType       24\n",
              "MasVnrArea       23\n",
              "MSZoning          4\n",
              "BsmtFullBath      2\n",
              "BsmtHalfBath      2\n",
              "Functional        2\n",
              "Utilities         2\n",
              "BsmtFinSF1        1\n",
              "Exterior2nd       1\n",
              "BsmtFinSF2        1\n",
              "KitchenQual       1\n",
              "GarageArea        1\n",
              "BsmtUnfSF         1\n",
              "TotalBsmtSF       1\n",
              "Electrical        1\n",
              "GarageCars        1\n",
              "Exterior1st       1\n",
              "SaleType          1\n",
              "dtype: int64"
            ]
          },
          "metadata": {},
          "execution_count": 99
        }
      ]
    },
    {
      "cell_type": "code",
      "source": [
        "#@title\n",
        "isnull_under_100 = isnull[isnull < 100]\n",
        "list_isnull_under_100 = isnull_under_100.index.tolist()\n",
        "\n",
        "list_isnull_under_100"
      ],
      "metadata": {
        "colab": {
          "base_uri": "https://localhost:8080/"
        },
        "id": "y0qaoyKAjcZS",
        "outputId": "e45a23e3-a037-46a5-f1d6-48f7f479b018"
      },
      "execution_count": 100,
      "outputs": [
        {
          "output_type": "execute_result",
          "data": {
            "text/plain": [
              "['MasVnrType',\n",
              " 'MasVnrArea',\n",
              " 'MSZoning',\n",
              " 'BsmtFullBath',\n",
              " 'BsmtHalfBath',\n",
              " 'Functional',\n",
              " 'Utilities',\n",
              " 'BsmtFinSF1',\n",
              " 'Exterior2nd',\n",
              " 'BsmtFinSF2',\n",
              " 'KitchenQual',\n",
              " 'GarageArea',\n",
              " 'BsmtUnfSF',\n",
              " 'TotalBsmtSF',\n",
              " 'Electrical',\n",
              " 'GarageCars',\n",
              " 'Exterior1st',\n",
              " 'SaleType']"
            ]
          },
          "metadata": {},
          "execution_count": 100
        }
      ]
    },
    {
      "cell_type": "code",
      "source": [
        "#@title\n",
        "for i in list_isnull_under_100:\n",
        "  try:\n",
        "    x[i].fillna(x[i].median()[0], inplace=True)\n",
        "  except:\n",
        "    x[i].fillna(x[i].mode()[0], inplace=True)"
      ],
      "metadata": {
        "id": "h1mtxueukQ4i"
      },
      "execution_count": 101,
      "outputs": []
    },
    {
      "cell_type": "code",
      "source": [
        "#@title\n",
        "isnull = x.isnull().sum().sort_values(ascending=False)\n",
        "isnull = isnull[isnull > 0]\n",
        "isnull"
      ],
      "metadata": {
        "colab": {
          "base_uri": "https://localhost:8080/"
        },
        "id": "v1APtEx7lFW1",
        "outputId": "4eb89702-a517-4bbf-ab87-117a1c0bfa05"
      },
      "execution_count": 102,
      "outputs": [
        {
          "output_type": "execute_result",
          "data": {
            "text/plain": [
              "LotFrontage    486\n",
              "dtype: int64"
            ]
          },
          "metadata": {},
          "execution_count": 102
        }
      ]
    },
    {
      "cell_type": "code",
      "source": [
        "#@title\n",
        "x.groupby('LotConfig')['LotFrontage'].median()"
      ],
      "metadata": {
        "colab": {
          "base_uri": "https://localhost:8080/"
        },
        "id": "xg9YmCLMmWJy",
        "outputId": "546fc49b-e1c0-4ed8-8040-786f12c110b5"
      },
      "execution_count": 103,
      "outputs": [
        {
          "output_type": "execute_result",
          "data": {
            "text/plain": [
              "LotConfig\n",
              "Corner    80.00000\n",
              "CulDSac   50.00000\n",
              "FR2       62.00000\n",
              "FR3       66.00000\n",
              "Inside    66.00000\n",
              "Name: LotFrontage, dtype: float64"
            ]
          },
          "metadata": {},
          "execution_count": 103
        }
      ]
    },
    {
      "cell_type": "code",
      "source": [
        "#@title\n",
        "x.LotFrontage.fillna(x.groupby('LotConfig')['LotFrontage'].transform('median'),inplace=True)"
      ],
      "metadata": {
        "id": "p3lkStWQoEET"
      },
      "execution_count": 104,
      "outputs": []
    },
    {
      "cell_type": "code",
      "source": [
        "#@title\n",
        "isnull = x.isnull().sum().sort_values(ascending=False)\n",
        "isnull = isnull[isnull > 0]\n",
        "isnull"
      ],
      "metadata": {
        "colab": {
          "base_uri": "https://localhost:8080/"
        },
        "id": "46d6FWUho0jP",
        "outputId": "f21be6ef-173b-47ec-ba14-2c97dd0e33c9"
      },
      "execution_count": 105,
      "outputs": [
        {
          "output_type": "execute_result",
          "data": {
            "text/plain": [
              "Series([], dtype: int64)"
            ]
          },
          "metadata": {},
          "execution_count": 105
        }
      ]
    },
    {
      "cell_type": "markdown",
      "source": [
        "### Looking for outliers"
      ],
      "metadata": {
        "id": "s8miaXO_xmth"
      }
    },
    {
      "cell_type": "markdown",
      "source": [
        "### Fix some categoricals\n",
        "* CentralAir: make it 1 and 0"
      ],
      "metadata": {
        "id": "ce5grZK1aJrd"
      }
    },
    {
      "cell_type": "code",
      "source": [
        "#@title\n",
        "x['CentralAir'] = x['CentralAir'].apply(lambda x: 1 if x == 'Y' else 0)"
      ],
      "metadata": {
        "id": "5ShSvDGBafOX"
      },
      "execution_count": 106,
      "outputs": []
    },
    {
      "cell_type": "code",
      "source": [
        "#@title\n",
        "x['CentralAir'] = x['CentralAir'].astype('object')"
      ],
      "metadata": {
        "id": "wuU7CVb6byKd"
      },
      "execution_count": 107,
      "outputs": []
    },
    {
      "cell_type": "markdown",
      "source": [
        "# Feature Engineering"
      ],
      "metadata": {
        "id": "9ouDOqZV0sDX"
      }
    },
    {
      "cell_type": "markdown",
      "source": [
        "#### Features to engineer\n",
        "1. Total square footage (sum all of the sq fts)\n",
        "1.  Total # of bathrooms\n",
        "1.  Total porch sq\n",
        "1.  Does it have a pool?\n",
        "1.  Does it have a 2nd floor?\n",
        "1. Does it have a garage\n",
        "1. Does it have a basement?\n",
        "1. Does it have a fireplace?"
      ],
      "metadata": {
        "id": "K8X1U31m3Iby"
      }
    },
    {
      "cell_type": "code",
      "source": [
        "#@title\n",
        "# Total square footage\n",
        "x['TotalLivableSF'] = x['1stFlrSF'] + x['2ndFlrSF'] + x['BsmtFinSF1'] + x['BsmtFinSF2']"
      ],
      "metadata": {
        "id": "gTGMMIoOAIyN"
      },
      "execution_count": 108,
      "outputs": []
    },
    {
      "cell_type": "code",
      "source": [
        "#@title\n",
        "# Total # of bathrooms\n",
        "x['TotalBaths'] = x['BsmtFullBath'] + (x['BsmtHalfBath'] * .5) + x['FullBath'] + (x['HalfBath'] * .5)"
      ],
      "metadata": {
        "id": "cRMim6_kAItO"
      },
      "execution_count": 109,
      "outputs": []
    },
    {
      "cell_type": "code",
      "source": [
        "#@title\n",
        "# Total porch square footage\n",
        "x[\"TotalPorchSF\"] = x.WoodDeckSF + x.OpenPorchSF + x.EnclosedPorch + x['3SsnPorch']"
      ],
      "metadata": {
        "id": "176CEsI3AInZ"
      },
      "execution_count": 110,
      "outputs": []
    },
    {
      "cell_type": "code",
      "source": [
        "#@title\n",
        "# Does it have a pool (2906)\n",
        "x['HasPool'] = x['PoolArea'].apply(lambda x: 1 if x >0 else 0).astype('category')"
      ],
      "metadata": {
        "id": "f7f9v06dAIgc"
      },
      "execution_count": 111,
      "outputs": []
    },
    {
      "cell_type": "code",
      "source": [
        "#@title\n",
        "# Does it have a 2nd floor\n",
        "x['Has2ndFloor'] = x['2ndFlrSF'].apply(lambda x: 1 if x > 0 else 0).astype('category')"
      ],
      "metadata": {
        "id": "yWAjZHbpAIdv"
      },
      "execution_count": 112,
      "outputs": []
    },
    {
      "cell_type": "code",
      "source": [
        "#@title\n",
        "# Does it have a garage\n",
        "x['HasGarage'] = x['GarageArea'].apply(lambda x: 1 if x > 0 else 0).astype('category')"
      ],
      "metadata": {
        "id": "almg6RS2AIbG"
      },
      "execution_count": 113,
      "outputs": []
    },
    {
      "cell_type": "code",
      "source": [
        "#@title\n",
        "# Does it have a basement\n",
        "x['HasBasement'] = x['TotalBsmtSF'].apply(lambda x: 1 if x > 0 else 0).astype('category')"
      ],
      "metadata": {
        "id": "O-FhAS20AIYc"
      },
      "execution_count": 114,
      "outputs": []
    },
    {
      "cell_type": "code",
      "source": [
        "#@title\n",
        "# Does it have a fireplace?\n",
        "x['HasFireplace'] = x['Fireplaces'].apply(lambda x: 1 if x > 0 else 0).astype('category')"
      ],
      "metadata": {
        "id": "_g-dkkmvAIVo"
      },
      "execution_count": 115,
      "outputs": []
    },
    {
      "cell_type": "markdown",
      "source": [
        "# Preprocessing"
      ],
      "metadata": {
        "id": "g5y_HozbKYem"
      }
    },
    {
      "cell_type": "markdown",
      "source": [
        "Changing objects to numericals"
      ],
      "metadata": {
        "id": "5uICc30e2WO_"
      }
    },
    {
      "cell_type": "code",
      "source": [
        "#@title\n",
        "xcat = x.select_dtypes(include='object')\n",
        "xcat.info()"
      ],
      "metadata": {
        "colab": {
          "base_uri": "https://localhost:8080/"
        },
        "id": "kRGOjm1G2IIY",
        "outputId": "53c2a9bd-31d5-42e3-b4cd-1569f5f5ec30"
      },
      "execution_count": 116,
      "outputs": [
        {
          "output_type": "stream",
          "name": "stdout",
          "text": [
            "<class 'pandas.core.frame.DataFrame'>\n",
            "Int64Index: 2917 entries, 0 to 1458\n",
            "Data columns (total 44 columns):\n",
            " #   Column         Non-Null Count  Dtype \n",
            "---  ------         --------------  ----- \n",
            " 0   MSZoning       2917 non-null   object\n",
            " 1   Street         2917 non-null   object\n",
            " 2   Alley          2917 non-null   object\n",
            " 3   LotShape       2917 non-null   object\n",
            " 4   LandContour    2917 non-null   object\n",
            " 5   Utilities      2917 non-null   object\n",
            " 6   LotConfig      2917 non-null   object\n",
            " 7   LandSlope      2917 non-null   object\n",
            " 8   Neighborhood   2917 non-null   object\n",
            " 9   Condition1     2917 non-null   object\n",
            " 10  Condition2     2917 non-null   object\n",
            " 11  BldgType       2917 non-null   object\n",
            " 12  HouseStyle     2917 non-null   object\n",
            " 13  RoofStyle      2917 non-null   object\n",
            " 14  RoofMatl       2917 non-null   object\n",
            " 15  Exterior1st    2917 non-null   object\n",
            " 16  Exterior2nd    2917 non-null   object\n",
            " 17  MasVnrType     2917 non-null   object\n",
            " 18  ExterQual      2917 non-null   object\n",
            " 19  ExterCond      2917 non-null   object\n",
            " 20  Foundation     2917 non-null   object\n",
            " 21  BsmtQual       2917 non-null   object\n",
            " 22  BsmtCond       2917 non-null   object\n",
            " 23  BsmtExposure   2917 non-null   object\n",
            " 24  BsmtFinType1   2917 non-null   object\n",
            " 25  BsmtFinType2   2917 non-null   object\n",
            " 26  Heating        2917 non-null   object\n",
            " 27  HeatingQC      2917 non-null   object\n",
            " 28  CentralAir     2917 non-null   object\n",
            " 29  Electrical     2917 non-null   object\n",
            " 30  KitchenQual    2917 non-null   object\n",
            " 31  Functional     2917 non-null   object\n",
            " 32  FireplaceQu    2917 non-null   object\n",
            " 33  GarageType     2917 non-null   object\n",
            " 34  GarageYrBlt    2917 non-null   object\n",
            " 35  GarageFinish   2917 non-null   object\n",
            " 36  GarageQual     2917 non-null   object\n",
            " 37  GarageCond     2917 non-null   object\n",
            " 38  PavedDrive     2917 non-null   object\n",
            " 39  PoolQC         2917 non-null   object\n",
            " 40  Fence          2917 non-null   object\n",
            " 41  MiscFeature    2917 non-null   object\n",
            " 42  SaleType       2917 non-null   object\n",
            " 43  SaleCondition  2917 non-null   object\n",
            "dtypes: object(44)\n",
            "memory usage: 1.0+ MB\n"
          ]
        }
      ]
    },
    {
      "cell_type": "code",
      "source": [
        "#@title\n",
        "xnum = x.select_dtypes(include = 'number')"
      ],
      "metadata": {
        "id": "QxyJemCR1Vv0"
      },
      "execution_count": 117,
      "outputs": []
    },
    {
      "cell_type": "code",
      "source": [
        "\n",
        "xnum.info()"
      ],
      "metadata": {
        "colab": {
          "base_uri": "https://localhost:8080/",
          "height": 424
        },
        "id": "92x5uiLau9Ww",
        "outputId": "ced72f22-9315-4bbd-f6b9-616515336298"
      },
      "execution_count": 118,
      "outputs": [
        {
          "output_type": "execute_result",
          "data": {
            "text/plain": [
              "        Id  MSSubClass  LotFrontage  LotArea  OverallQual  OverallCond  \\\n",
              "0        1          60     65.00000     8450            7            5   \n",
              "1        2          20     80.00000     9600            6            8   \n",
              "2        3          60     68.00000    11250            7            5   \n",
              "3        4          70     60.00000     9550            7            5   \n",
              "4        5          60     84.00000    14260            8            5   \n",
              "...    ...         ...          ...      ...          ...          ...   \n",
              "1454  2915         160     21.00000     1936            4            7   \n",
              "1455  2916         160     21.00000     1894            4            5   \n",
              "1456  2917          20    160.00000    20000            5            7   \n",
              "1457  2918          85     62.00000    10441            5            5   \n",
              "1458  2919          60     74.00000     9627            7            5   \n",
              "\n",
              "      YearBuilt  YearRemodAdd  MasVnrArea  BsmtFinSF1  ...  EnclosedPorch  \\\n",
              "0          2003          2003   196.00000   706.00000  ...              0   \n",
              "1          1976          1976     0.00000   978.00000  ...              0   \n",
              "2          2001          2002   162.00000   486.00000  ...              0   \n",
              "3          1915          1970     0.00000   216.00000  ...            272   \n",
              "4          2000          2000   350.00000   655.00000  ...              0   \n",
              "...         ...           ...         ...         ...  ...            ...   \n",
              "1454       1970          1970     0.00000     0.00000  ...              0   \n",
              "1455       1970          1970     0.00000   252.00000  ...              0   \n",
              "1456       1960          1996     0.00000  1224.00000  ...              0   \n",
              "1457       1992          1992     0.00000   337.00000  ...              0   \n",
              "1458       1993          1994    94.00000   758.00000  ...              0   \n",
              "\n",
              "      3SsnPorch  ScreenPorch  PoolArea  MiscVal  MoSold  YrSold  \\\n",
              "0             0            0         0        0       2    2008   \n",
              "1             0            0         0        0       5    2007   \n",
              "2             0            0         0        0       9    2008   \n",
              "3             0            0         0        0       2    2006   \n",
              "4             0            0         0        0      12    2008   \n",
              "...         ...          ...       ...      ...     ...     ...   \n",
              "1454          0            0         0        0       6    2006   \n",
              "1455          0            0         0        0       4    2006   \n",
              "1456          0            0         0        0       9    2006   \n",
              "1457          0            0         0      700       7    2006   \n",
              "1458          0            0         0        0      11    2006   \n",
              "\n",
              "      TotalLivableSF  TotalBaths  TotalPorchSF  \n",
              "0         2416.00000     3.50000            61  \n",
              "1         2240.00000     2.50000           298  \n",
              "2         2272.00000     3.50000            42  \n",
              "3         1933.00000     2.00000           307  \n",
              "4         2853.00000     3.50000           276  \n",
              "...              ...         ...           ...  \n",
              "1454      1092.00000     1.50000             0  \n",
              "1455      1344.00000     1.50000            24  \n",
              "1456      2448.00000     2.00000           474  \n",
              "1457      1307.00000     1.50000           112  \n",
              "1458      2758.00000     2.50000           238  \n",
              "\n",
              "[2917 rows x 39 columns]"
            ],
            "text/html": [
              "\n",
              "  <div id=\"df-2a31a04d-ef4e-4d83-bb14-f57ec8b9ad8f\">\n",
              "    <div class=\"colab-df-container\">\n",
              "      <div>\n",
              "<style scoped>\n",
              "    .dataframe tbody tr th:only-of-type {\n",
              "        vertical-align: middle;\n",
              "    }\n",
              "\n",
              "    .dataframe tbody tr th {\n",
              "        vertical-align: top;\n",
              "    }\n",
              "\n",
              "    .dataframe thead th {\n",
              "        text-align: right;\n",
              "    }\n",
              "</style>\n",
              "<table border=\"1\" class=\"dataframe\">\n",
              "  <thead>\n",
              "    <tr style=\"text-align: right;\">\n",
              "      <th></th>\n",
              "      <th>Id</th>\n",
              "      <th>MSSubClass</th>\n",
              "      <th>LotFrontage</th>\n",
              "      <th>LotArea</th>\n",
              "      <th>OverallQual</th>\n",
              "      <th>OverallCond</th>\n",
              "      <th>YearBuilt</th>\n",
              "      <th>YearRemodAdd</th>\n",
              "      <th>MasVnrArea</th>\n",
              "      <th>BsmtFinSF1</th>\n",
              "      <th>...</th>\n",
              "      <th>EnclosedPorch</th>\n",
              "      <th>3SsnPorch</th>\n",
              "      <th>ScreenPorch</th>\n",
              "      <th>PoolArea</th>\n",
              "      <th>MiscVal</th>\n",
              "      <th>MoSold</th>\n",
              "      <th>YrSold</th>\n",
              "      <th>TotalLivableSF</th>\n",
              "      <th>TotalBaths</th>\n",
              "      <th>TotalPorchSF</th>\n",
              "    </tr>\n",
              "  </thead>\n",
              "  <tbody>\n",
              "    <tr>\n",
              "      <th>0</th>\n",
              "      <td>1</td>\n",
              "      <td>60</td>\n",
              "      <td>65.00000</td>\n",
              "      <td>8450</td>\n",
              "      <td>7</td>\n",
              "      <td>5</td>\n",
              "      <td>2003</td>\n",
              "      <td>2003</td>\n",
              "      <td>196.00000</td>\n",
              "      <td>706.00000</td>\n",
              "      <td>...</td>\n",
              "      <td>0</td>\n",
              "      <td>0</td>\n",
              "      <td>0</td>\n",
              "      <td>0</td>\n",
              "      <td>0</td>\n",
              "      <td>2</td>\n",
              "      <td>2008</td>\n",
              "      <td>2416.00000</td>\n",
              "      <td>3.50000</td>\n",
              "      <td>61</td>\n",
              "    </tr>\n",
              "    <tr>\n",
              "      <th>1</th>\n",
              "      <td>2</td>\n",
              "      <td>20</td>\n",
              "      <td>80.00000</td>\n",
              "      <td>9600</td>\n",
              "      <td>6</td>\n",
              "      <td>8</td>\n",
              "      <td>1976</td>\n",
              "      <td>1976</td>\n",
              "      <td>0.00000</td>\n",
              "      <td>978.00000</td>\n",
              "      <td>...</td>\n",
              "      <td>0</td>\n",
              "      <td>0</td>\n",
              "      <td>0</td>\n",
              "      <td>0</td>\n",
              "      <td>0</td>\n",
              "      <td>5</td>\n",
              "      <td>2007</td>\n",
              "      <td>2240.00000</td>\n",
              "      <td>2.50000</td>\n",
              "      <td>298</td>\n",
              "    </tr>\n",
              "    <tr>\n",
              "      <th>2</th>\n",
              "      <td>3</td>\n",
              "      <td>60</td>\n",
              "      <td>68.00000</td>\n",
              "      <td>11250</td>\n",
              "      <td>7</td>\n",
              "      <td>5</td>\n",
              "      <td>2001</td>\n",
              "      <td>2002</td>\n",
              "      <td>162.00000</td>\n",
              "      <td>486.00000</td>\n",
              "      <td>...</td>\n",
              "      <td>0</td>\n",
              "      <td>0</td>\n",
              "      <td>0</td>\n",
              "      <td>0</td>\n",
              "      <td>0</td>\n",
              "      <td>9</td>\n",
              "      <td>2008</td>\n",
              "      <td>2272.00000</td>\n",
              "      <td>3.50000</td>\n",
              "      <td>42</td>\n",
              "    </tr>\n",
              "    <tr>\n",
              "      <th>3</th>\n",
              "      <td>4</td>\n",
              "      <td>70</td>\n",
              "      <td>60.00000</td>\n",
              "      <td>9550</td>\n",
              "      <td>7</td>\n",
              "      <td>5</td>\n",
              "      <td>1915</td>\n",
              "      <td>1970</td>\n",
              "      <td>0.00000</td>\n",
              "      <td>216.00000</td>\n",
              "      <td>...</td>\n",
              "      <td>272</td>\n",
              "      <td>0</td>\n",
              "      <td>0</td>\n",
              "      <td>0</td>\n",
              "      <td>0</td>\n",
              "      <td>2</td>\n",
              "      <td>2006</td>\n",
              "      <td>1933.00000</td>\n",
              "      <td>2.00000</td>\n",
              "      <td>307</td>\n",
              "    </tr>\n",
              "    <tr>\n",
              "      <th>4</th>\n",
              "      <td>5</td>\n",
              "      <td>60</td>\n",
              "      <td>84.00000</td>\n",
              "      <td>14260</td>\n",
              "      <td>8</td>\n",
              "      <td>5</td>\n",
              "      <td>2000</td>\n",
              "      <td>2000</td>\n",
              "      <td>350.00000</td>\n",
              "      <td>655.00000</td>\n",
              "      <td>...</td>\n",
              "      <td>0</td>\n",
              "      <td>0</td>\n",
              "      <td>0</td>\n",
              "      <td>0</td>\n",
              "      <td>0</td>\n",
              "      <td>12</td>\n",
              "      <td>2008</td>\n",
              "      <td>2853.00000</td>\n",
              "      <td>3.50000</td>\n",
              "      <td>276</td>\n",
              "    </tr>\n",
              "    <tr>\n",
              "      <th>...</th>\n",
              "      <td>...</td>\n",
              "      <td>...</td>\n",
              "      <td>...</td>\n",
              "      <td>...</td>\n",
              "      <td>...</td>\n",
              "      <td>...</td>\n",
              "      <td>...</td>\n",
              "      <td>...</td>\n",
              "      <td>...</td>\n",
              "      <td>...</td>\n",
              "      <td>...</td>\n",
              "      <td>...</td>\n",
              "      <td>...</td>\n",
              "      <td>...</td>\n",
              "      <td>...</td>\n",
              "      <td>...</td>\n",
              "      <td>...</td>\n",
              "      <td>...</td>\n",
              "      <td>...</td>\n",
              "      <td>...</td>\n",
              "      <td>...</td>\n",
              "    </tr>\n",
              "    <tr>\n",
              "      <th>1454</th>\n",
              "      <td>2915</td>\n",
              "      <td>160</td>\n",
              "      <td>21.00000</td>\n",
              "      <td>1936</td>\n",
              "      <td>4</td>\n",
              "      <td>7</td>\n",
              "      <td>1970</td>\n",
              "      <td>1970</td>\n",
              "      <td>0.00000</td>\n",
              "      <td>0.00000</td>\n",
              "      <td>...</td>\n",
              "      <td>0</td>\n",
              "      <td>0</td>\n",
              "      <td>0</td>\n",
              "      <td>0</td>\n",
              "      <td>0</td>\n",
              "      <td>6</td>\n",
              "      <td>2006</td>\n",
              "      <td>1092.00000</td>\n",
              "      <td>1.50000</td>\n",
              "      <td>0</td>\n",
              "    </tr>\n",
              "    <tr>\n",
              "      <th>1455</th>\n",
              "      <td>2916</td>\n",
              "      <td>160</td>\n",
              "      <td>21.00000</td>\n",
              "      <td>1894</td>\n",
              "      <td>4</td>\n",
              "      <td>5</td>\n",
              "      <td>1970</td>\n",
              "      <td>1970</td>\n",
              "      <td>0.00000</td>\n",
              "      <td>252.00000</td>\n",
              "      <td>...</td>\n",
              "      <td>0</td>\n",
              "      <td>0</td>\n",
              "      <td>0</td>\n",
              "      <td>0</td>\n",
              "      <td>0</td>\n",
              "      <td>4</td>\n",
              "      <td>2006</td>\n",
              "      <td>1344.00000</td>\n",
              "      <td>1.50000</td>\n",
              "      <td>24</td>\n",
              "    </tr>\n",
              "    <tr>\n",
              "      <th>1456</th>\n",
              "      <td>2917</td>\n",
              "      <td>20</td>\n",
              "      <td>160.00000</td>\n",
              "      <td>20000</td>\n",
              "      <td>5</td>\n",
              "      <td>7</td>\n",
              "      <td>1960</td>\n",
              "      <td>1996</td>\n",
              "      <td>0.00000</td>\n",
              "      <td>1224.00000</td>\n",
              "      <td>...</td>\n",
              "      <td>0</td>\n",
              "      <td>0</td>\n",
              "      <td>0</td>\n",
              "      <td>0</td>\n",
              "      <td>0</td>\n",
              "      <td>9</td>\n",
              "      <td>2006</td>\n",
              "      <td>2448.00000</td>\n",
              "      <td>2.00000</td>\n",
              "      <td>474</td>\n",
              "    </tr>\n",
              "    <tr>\n",
              "      <th>1457</th>\n",
              "      <td>2918</td>\n",
              "      <td>85</td>\n",
              "      <td>62.00000</td>\n",
              "      <td>10441</td>\n",
              "      <td>5</td>\n",
              "      <td>5</td>\n",
              "      <td>1992</td>\n",
              "      <td>1992</td>\n",
              "      <td>0.00000</td>\n",
              "      <td>337.00000</td>\n",
              "      <td>...</td>\n",
              "      <td>0</td>\n",
              "      <td>0</td>\n",
              "      <td>0</td>\n",
              "      <td>0</td>\n",
              "      <td>700</td>\n",
              "      <td>7</td>\n",
              "      <td>2006</td>\n",
              "      <td>1307.00000</td>\n",
              "      <td>1.50000</td>\n",
              "      <td>112</td>\n",
              "    </tr>\n",
              "    <tr>\n",
              "      <th>1458</th>\n",
              "      <td>2919</td>\n",
              "      <td>60</td>\n",
              "      <td>74.00000</td>\n",
              "      <td>9627</td>\n",
              "      <td>7</td>\n",
              "      <td>5</td>\n",
              "      <td>1993</td>\n",
              "      <td>1994</td>\n",
              "      <td>94.00000</td>\n",
              "      <td>758.00000</td>\n",
              "      <td>...</td>\n",
              "      <td>0</td>\n",
              "      <td>0</td>\n",
              "      <td>0</td>\n",
              "      <td>0</td>\n",
              "      <td>0</td>\n",
              "      <td>11</td>\n",
              "      <td>2006</td>\n",
              "      <td>2758.00000</td>\n",
              "      <td>2.50000</td>\n",
              "      <td>238</td>\n",
              "    </tr>\n",
              "  </tbody>\n",
              "</table>\n",
              "<p>2917 rows × 39 columns</p>\n",
              "</div>\n",
              "      <button class=\"colab-df-convert\" onclick=\"convertToInteractive('df-2a31a04d-ef4e-4d83-bb14-f57ec8b9ad8f')\"\n",
              "              title=\"Convert this dataframe to an interactive table.\"\n",
              "              style=\"display:none;\">\n",
              "        \n",
              "  <svg xmlns=\"http://www.w3.org/2000/svg\" height=\"24px\"viewBox=\"0 0 24 24\"\n",
              "       width=\"24px\">\n",
              "    <path d=\"M0 0h24v24H0V0z\" fill=\"none\"/>\n",
              "    <path d=\"M18.56 5.44l.94 2.06.94-2.06 2.06-.94-2.06-.94-.94-2.06-.94 2.06-2.06.94zm-11 1L8.5 8.5l.94-2.06 2.06-.94-2.06-.94L8.5 2.5l-.94 2.06-2.06.94zm10 10l.94 2.06.94-2.06 2.06-.94-2.06-.94-.94-2.06-.94 2.06-2.06.94z\"/><path d=\"M17.41 7.96l-1.37-1.37c-.4-.4-.92-.59-1.43-.59-.52 0-1.04.2-1.43.59L10.3 9.45l-7.72 7.72c-.78.78-.78 2.05 0 2.83L4 21.41c.39.39.9.59 1.41.59.51 0 1.02-.2 1.41-.59l7.78-7.78 2.81-2.81c.8-.78.8-2.07 0-2.86zM5.41 20L4 18.59l7.72-7.72 1.47 1.35L5.41 20z\"/>\n",
              "  </svg>\n",
              "      </button>\n",
              "      \n",
              "  <style>\n",
              "    .colab-df-container {\n",
              "      display:flex;\n",
              "      flex-wrap:wrap;\n",
              "      gap: 12px;\n",
              "    }\n",
              "\n",
              "    .colab-df-convert {\n",
              "      background-color: #E8F0FE;\n",
              "      border: none;\n",
              "      border-radius: 50%;\n",
              "      cursor: pointer;\n",
              "      display: none;\n",
              "      fill: #1967D2;\n",
              "      height: 32px;\n",
              "      padding: 0 0 0 0;\n",
              "      width: 32px;\n",
              "    }\n",
              "\n",
              "    .colab-df-convert:hover {\n",
              "      background-color: #E2EBFA;\n",
              "      box-shadow: 0px 1px 2px rgba(60, 64, 67, 0.3), 0px 1px 3px 1px rgba(60, 64, 67, 0.15);\n",
              "      fill: #174EA6;\n",
              "    }\n",
              "\n",
              "    [theme=dark] .colab-df-convert {\n",
              "      background-color: #3B4455;\n",
              "      fill: #D2E3FC;\n",
              "    }\n",
              "\n",
              "    [theme=dark] .colab-df-convert:hover {\n",
              "      background-color: #434B5C;\n",
              "      box-shadow: 0px 1px 3px 1px rgba(0, 0, 0, 0.15);\n",
              "      filter: drop-shadow(0px 1px 2px rgba(0, 0, 0, 0.3));\n",
              "      fill: #FFFFFF;\n",
              "    }\n",
              "  </style>\n",
              "\n",
              "      <script>\n",
              "        const buttonEl =\n",
              "          document.querySelector('#df-2a31a04d-ef4e-4d83-bb14-f57ec8b9ad8f button.colab-df-convert');\n",
              "        buttonEl.style.display =\n",
              "          google.colab.kernel.accessAllowed ? 'block' : 'none';\n",
              "\n",
              "        async function convertToInteractive(key) {\n",
              "          const element = document.querySelector('#df-2a31a04d-ef4e-4d83-bb14-f57ec8b9ad8f');\n",
              "          const dataTable =\n",
              "            await google.colab.kernel.invokeFunction('convertToInteractive',\n",
              "                                                     [key], {});\n",
              "          if (!dataTable) return;\n",
              "\n",
              "          const docLinkHtml = 'Like what you see? Visit the ' +\n",
              "            '<a target=\"_blank\" href=https://colab.research.google.com/notebooks/data_table.ipynb>data table notebook</a>'\n",
              "            + ' to learn more about interactive tables.';\n",
              "          element.innerHTML = '';\n",
              "          dataTable['output_type'] = 'display_data';\n",
              "          await google.colab.output.renderOutput(dataTable, element);\n",
              "          const docLink = document.createElement('div');\n",
              "          docLink.innerHTML = docLinkHtml;\n",
              "          element.appendChild(docLink);\n",
              "        }\n",
              "      </script>\n",
              "    </div>\n",
              "  </div>\n",
              "  "
            ]
          },
          "metadata": {},
          "execution_count": 118
        }
      ]
    },
    {
      "cell_type": "markdown",
      "source": [
        "## Correcting ordinals"
      ],
      "metadata": {
        "id": "um43V7jw2faX"
      }
    },
    {
      "cell_type": "markdown",
      "source": [
        "## Transforming"
      ],
      "metadata": {
        "id": "ZgzezACQKfLs"
      }
    },
    {
      "cell_type": "code",
      "source": [
        "#@title\n",
        "xnum_to_transform = []\n",
        "skew_threshold = .6\n",
        "\n",
        "for (xcolname, xcol) in xnum.iteritems():\n",
        "  skew = xcol.skew()\n",
        "  if abs(skew) > skew_threshold:\n",
        "    xnum_to_transform.append(xcolname)\n",
        "\n",
        "len(xnum_to_transform)"
      ],
      "metadata": {
        "colab": {
          "base_uri": "https://localhost:8080/"
        },
        "id": "6P3ZC079ep4Q",
        "outputId": "a4e8b5ca-a58e-44fe-cec0-baba09d3db66"
      },
      "execution_count": 119,
      "outputs": [
        {
          "output_type": "execute_result",
          "data": {
            "text/plain": [
              "27"
            ]
          },
          "metadata": {},
          "execution_count": 119
        }
      ]
    },
    {
      "cell_type": "code",
      "source": [
        "#@title\n",
        "xnum_to_transform"
      ],
      "metadata": {
        "colab": {
          "base_uri": "https://localhost:8080/"
        },
        "id": "Mgz2640IghIp",
        "outputId": "20419803-8ec7-46a3-f5f2-28d08d8eaa62"
      },
      "execution_count": 120,
      "outputs": [
        {
          "output_type": "execute_result",
          "data": {
            "text/plain": [
              "['MSSubClass',\n",
              " 'LotFrontage',\n",
              " 'LotArea',\n",
              " 'MasVnrArea',\n",
              " 'BsmtFinSF1',\n",
              " 'BsmtFinSF2',\n",
              " 'BsmtUnfSF',\n",
              " 'TotalBsmtSF',\n",
              " '1stFlrSF',\n",
              " '2ndFlrSF',\n",
              " 'LowQualFinSF',\n",
              " 'GrLivArea',\n",
              " 'BsmtFullBath',\n",
              " 'BsmtHalfBath',\n",
              " 'HalfBath',\n",
              " 'KitchenAbvGr',\n",
              " 'TotRmsAbvGrd',\n",
              " 'Fireplaces',\n",
              " 'WoodDeckSF',\n",
              " 'OpenPorchSF',\n",
              " 'EnclosedPorch',\n",
              " '3SsnPorch',\n",
              " 'ScreenPorch',\n",
              " 'PoolArea',\n",
              " 'MiscVal',\n",
              " 'TotalLivableSF',\n",
              " 'TotalPorchSF']"
            ]
          },
          "metadata": {},
          "execution_count": 120
        }
      ]
    },
    {
      "cell_type": "code",
      "source": [
        "#@title\n",
        "xnum_transformed_skews = pd.DataFrame()\n",
        "\n",
        "for i in xnum_to_transform:  # for loop across the xnums_to_transform\n",
        "  dict = {} # create a dictionary\n",
        "  try: \n",
        "    log_skew = np.log(x[i]).skew() # log transformation\n",
        "  except: \n",
        "    log_skew = 999\n",
        "  try: \n",
        "    sqrt_skew = np.sqrt(x[i]).skew() # sqrt transformation\n",
        "  except: \n",
        "    srt_skew_skew = 999\n",
        "  try:\n",
        "    inverse_skew = (1/x[i]).skew() # inverse transformation\n",
        "  except: \n",
        "    inverse_skew = 999\n",
        "  try: \n",
        "    boxcox_skew = pd.DataFrame(list(stats.boxcox(x[i])[0])).skew()[0] # boxcox transformation\n",
        "  except: \n",
        "    boxcox_skew = 999\n",
        "  try:\n",
        "    yj_skew = pd.DataFrame(list(stats.yeojohnson(x[i])[0])).skew()[0]# yj skew\n",
        "  except: \n",
        "    yj_skew = 999\n",
        "  dict['log skew'] = abs(log_skew) # append log to dict\n",
        "  dict['sqrt skew'] = abs(sqrt_skew) # append sqrt to dict\n",
        "  dict['inverse skew'] = abs(inverse_skew) # append inverted to dict\n",
        "  dict['boxcox skew'] = abs(boxcox_skew) # append boxcox to dict\n",
        "  dict['yj skew'] = abs(yj_skew) # append yj to dict\n",
        "  best_skew_key = min(dict, key = dict.get)\n",
        "  if best_skew_key == 'log skew':\n",
        "    x[i] = np.log(x[i])\n",
        "  elif best_skew_key == 'sqrt skew':\n",
        "    x[i] = np.sqrt(x[i])\n",
        "  elif best_skew_key == 'inverse skew':\n",
        "    x[i] = (1/x[i])\n",
        "  elif best_skew_key == 'boxcox skew':\n",
        "    x[i] = list(stats.boxcox(x[i])[0])\n",
        "  else:\n",
        "    x[i] = list(stats.yeojohnson(x[i])[0])\n",
        "  \n",
        "  #best_skew_val = min(dict.values())\n",
        "  #print(i, best_skew_key, \"{:.2f}\".format(best_skew_val))\n",
        "  \n",
        "  #print(i, best_skew) # determine which transformation had the lowest skew\n",
        "  # apply that transformation to the column"
      ],
      "metadata": {
        "id": "HxvAsax5gloX"
      },
      "execution_count": 121,
      "outputs": []
    },
    {
      "cell_type": "code",
      "source": [
        "#@title\n",
        "xnum = x.select_dtypes(include = 'number')\n",
        "\n",
        "xnum_to_transform_2 = []\n",
        "skew_threshold = 0.60\n",
        "\n",
        "for (xcolname, xcol) in xnum.iteritems():\n",
        "  skew = xcol.skew()\n",
        "  if abs(skew) > skew_threshold:\n",
        "    xnum_to_transform_2.append(xcolname)\n",
        "\n",
        "len(xnum_to_transform_2)"
      ],
      "metadata": {
        "colab": {
          "base_uri": "https://localhost:8080/"
        },
        "id": "SpGgiVbQ04hk",
        "outputId": "2a3ec0ae-62ef-4d50-c018-1efc79361b4c"
      },
      "execution_count": 122,
      "outputs": [
        {
          "output_type": "execute_result",
          "data": {
            "text/plain": [
              "9"
            ]
          },
          "metadata": {},
          "execution_count": 122
        }
      ]
    },
    {
      "cell_type": "code",
      "source": [
        "#@title\n",
        "for i in xnum_to_transform_2:\n",
        "  skew = x[i].skew()\n",
        "  print(i, \"{:2f}\".format(skew))"
      ],
      "metadata": {
        "colab": {
          "base_uri": "https://localhost:8080/"
        },
        "id": "9dbwFmri1Icc",
        "outputId": "3dfad7a9-e5be-4ea1-beed-833ea81a421b"
      },
      "execution_count": 123,
      "outputs": [
        {
          "output_type": "stream",
          "name": "stdout",
          "text": [
            "BsmtFinSF2 2.355281\n",
            "LowQualFinSF 8.367252\n",
            "BsmtHalfBath 3.707631\n",
            "KitchenAbvGr -2.063595\n",
            "EnclosedPorch 1.883004\n",
            "3SsnPorch 8.713711\n",
            "ScreenPorch 2.915386\n",
            "PoolArea 15.502729\n",
            "MiscVal 5.038164\n"
          ]
        }
      ]
    },
    {
      "cell_type": "markdown",
      "source": [
        "#### Dropping all of the high skew columns"
      ],
      "metadata": {
        "id": "JekArySN2M4h"
      }
    },
    {
      "cell_type": "code",
      "source": [
        "#@title\n",
        "x.shape"
      ],
      "metadata": {
        "colab": {
          "base_uri": "https://localhost:8080/"
        },
        "id": "0y759ZIX2iTS",
        "outputId": "91e9ad89-f7c4-4a52-e07d-2bdb88989d3e"
      },
      "execution_count": 124,
      "outputs": [
        {
          "output_type": "execute_result",
          "data": {
            "text/plain": [
              "(2917, 88)"
            ]
          },
          "metadata": {},
          "execution_count": 124
        }
      ]
    },
    {
      "cell_type": "code",
      "source": [
        "#@title\n",
        "#Dropping all of the high skew columns\n",
        "x.drop(columns=xnum_to_transform_2, inplace=True)"
      ],
      "metadata": {
        "id": "3W85_vPY1bpR"
      },
      "execution_count": 125,
      "outputs": []
    },
    {
      "cell_type": "code",
      "source": [
        "#@title\n",
        "x.shape"
      ],
      "metadata": {
        "colab": {
          "base_uri": "https://localhost:8080/"
        },
        "id": "na-wKjJe2kvy",
        "outputId": "aa6df2f8-768a-4630-b328-e7444b95e485"
      },
      "execution_count": 126,
      "outputs": [
        {
          "output_type": "execute_result",
          "data": {
            "text/plain": [
              "(2917, 79)"
            ]
          },
          "metadata": {},
          "execution_count": 126
        }
      ]
    },
    {
      "cell_type": "markdown",
      "source": [
        "### Transforming Y.SalePrice"
      ],
      "metadata": {
        "id": "vuYlSxH_tX8l"
      }
    },
    {
      "cell_type": "code",
      "source": [
        "#@title\n",
        "y.skew()"
      ],
      "metadata": {
        "colab": {
          "base_uri": "https://localhost:8080/"
        },
        "id": "5HSm7_97tZvi",
        "outputId": "70a6c703-068c-4ad0-b108-edb226b656cb"
      },
      "execution_count": 127,
      "outputs": [
        {
          "output_type": "execute_result",
          "data": {
            "text/plain": [
              "SalePrice   1.88130\n",
              "dtype: float64"
            ]
          },
          "metadata": {},
          "execution_count": 127
        }
      ]
    },
    {
      "cell_type": "code",
      "source": [
        "#@title\n",
        "y.describe()"
      ],
      "metadata": {
        "colab": {
          "base_uri": "https://localhost:8080/",
          "height": 300
        },
        "id": "ME2y4BH8k4yo",
        "outputId": "572c299a-caa5-4ede-fba0-57bceeadaf1b"
      },
      "execution_count": 128,
      "outputs": [
        {
          "output_type": "execute_result",
          "data": {
            "text/plain": [
              "         SalePrice\n",
              "count   1458.00000\n",
              "mean  180932.91907\n",
              "std    79495.05528\n",
              "min    34900.00000\n",
              "25%   129925.00000\n",
              "50%   163000.00000\n",
              "75%   214000.00000\n",
              "max   755000.00000"
            ],
            "text/html": [
              "\n",
              "  <div id=\"df-4c3a610a-f502-4e00-97f9-bc9c9e88abc4\">\n",
              "    <div class=\"colab-df-container\">\n",
              "      <div>\n",
              "<style scoped>\n",
              "    .dataframe tbody tr th:only-of-type {\n",
              "        vertical-align: middle;\n",
              "    }\n",
              "\n",
              "    .dataframe tbody tr th {\n",
              "        vertical-align: top;\n",
              "    }\n",
              "\n",
              "    .dataframe thead th {\n",
              "        text-align: right;\n",
              "    }\n",
              "</style>\n",
              "<table border=\"1\" class=\"dataframe\">\n",
              "  <thead>\n",
              "    <tr style=\"text-align: right;\">\n",
              "      <th></th>\n",
              "      <th>SalePrice</th>\n",
              "    </tr>\n",
              "  </thead>\n",
              "  <tbody>\n",
              "    <tr>\n",
              "      <th>count</th>\n",
              "      <td>1458.00000</td>\n",
              "    </tr>\n",
              "    <tr>\n",
              "      <th>mean</th>\n",
              "      <td>180932.91907</td>\n",
              "    </tr>\n",
              "    <tr>\n",
              "      <th>std</th>\n",
              "      <td>79495.05528</td>\n",
              "    </tr>\n",
              "    <tr>\n",
              "      <th>min</th>\n",
              "      <td>34900.00000</td>\n",
              "    </tr>\n",
              "    <tr>\n",
              "      <th>25%</th>\n",
              "      <td>129925.00000</td>\n",
              "    </tr>\n",
              "    <tr>\n",
              "      <th>50%</th>\n",
              "      <td>163000.00000</td>\n",
              "    </tr>\n",
              "    <tr>\n",
              "      <th>75%</th>\n",
              "      <td>214000.00000</td>\n",
              "    </tr>\n",
              "    <tr>\n",
              "      <th>max</th>\n",
              "      <td>755000.00000</td>\n",
              "    </tr>\n",
              "  </tbody>\n",
              "</table>\n",
              "</div>\n",
              "      <button class=\"colab-df-convert\" onclick=\"convertToInteractive('df-4c3a610a-f502-4e00-97f9-bc9c9e88abc4')\"\n",
              "              title=\"Convert this dataframe to an interactive table.\"\n",
              "              style=\"display:none;\">\n",
              "        \n",
              "  <svg xmlns=\"http://www.w3.org/2000/svg\" height=\"24px\"viewBox=\"0 0 24 24\"\n",
              "       width=\"24px\">\n",
              "    <path d=\"M0 0h24v24H0V0z\" fill=\"none\"/>\n",
              "    <path d=\"M18.56 5.44l.94 2.06.94-2.06 2.06-.94-2.06-.94-.94-2.06-.94 2.06-2.06.94zm-11 1L8.5 8.5l.94-2.06 2.06-.94-2.06-.94L8.5 2.5l-.94 2.06-2.06.94zm10 10l.94 2.06.94-2.06 2.06-.94-2.06-.94-.94-2.06-.94 2.06-2.06.94z\"/><path d=\"M17.41 7.96l-1.37-1.37c-.4-.4-.92-.59-1.43-.59-.52 0-1.04.2-1.43.59L10.3 9.45l-7.72 7.72c-.78.78-.78 2.05 0 2.83L4 21.41c.39.39.9.59 1.41.59.51 0 1.02-.2 1.41-.59l7.78-7.78 2.81-2.81c.8-.78.8-2.07 0-2.86zM5.41 20L4 18.59l7.72-7.72 1.47 1.35L5.41 20z\"/>\n",
              "  </svg>\n",
              "      </button>\n",
              "      \n",
              "  <style>\n",
              "    .colab-df-container {\n",
              "      display:flex;\n",
              "      flex-wrap:wrap;\n",
              "      gap: 12px;\n",
              "    }\n",
              "\n",
              "    .colab-df-convert {\n",
              "      background-color: #E8F0FE;\n",
              "      border: none;\n",
              "      border-radius: 50%;\n",
              "      cursor: pointer;\n",
              "      display: none;\n",
              "      fill: #1967D2;\n",
              "      height: 32px;\n",
              "      padding: 0 0 0 0;\n",
              "      width: 32px;\n",
              "    }\n",
              "\n",
              "    .colab-df-convert:hover {\n",
              "      background-color: #E2EBFA;\n",
              "      box-shadow: 0px 1px 2px rgba(60, 64, 67, 0.3), 0px 1px 3px 1px rgba(60, 64, 67, 0.15);\n",
              "      fill: #174EA6;\n",
              "    }\n",
              "\n",
              "    [theme=dark] .colab-df-convert {\n",
              "      background-color: #3B4455;\n",
              "      fill: #D2E3FC;\n",
              "    }\n",
              "\n",
              "    [theme=dark] .colab-df-convert:hover {\n",
              "      background-color: #434B5C;\n",
              "      box-shadow: 0px 1px 3px 1px rgba(0, 0, 0, 0.15);\n",
              "      filter: drop-shadow(0px 1px 2px rgba(0, 0, 0, 0.3));\n",
              "      fill: #FFFFFF;\n",
              "    }\n",
              "  </style>\n",
              "\n",
              "      <script>\n",
              "        const buttonEl =\n",
              "          document.querySelector('#df-4c3a610a-f502-4e00-97f9-bc9c9e88abc4 button.colab-df-convert');\n",
              "        buttonEl.style.display =\n",
              "          google.colab.kernel.accessAllowed ? 'block' : 'none';\n",
              "\n",
              "        async function convertToInteractive(key) {\n",
              "          const element = document.querySelector('#df-4c3a610a-f502-4e00-97f9-bc9c9e88abc4');\n",
              "          const dataTable =\n",
              "            await google.colab.kernel.invokeFunction('convertToInteractive',\n",
              "                                                     [key], {});\n",
              "          if (!dataTable) return;\n",
              "\n",
              "          const docLinkHtml = 'Like what you see? Visit the ' +\n",
              "            '<a target=\"_blank\" href=https://colab.research.google.com/notebooks/data_table.ipynb>data table notebook</a>'\n",
              "            + ' to learn more about interactive tables.';\n",
              "          element.innerHTML = '';\n",
              "          dataTable['output_type'] = 'display_data';\n",
              "          await google.colab.output.renderOutput(dataTable, element);\n",
              "          const docLink = document.createElement('div');\n",
              "          docLink.innerHTML = docLinkHtml;\n",
              "          element.appendChild(docLink);\n",
              "        }\n",
              "      </script>\n",
              "    </div>\n",
              "  </div>\n",
              "  "
            ]
          },
          "metadata": {},
          "execution_count": 128
        }
      ]
    },
    {
      "cell_type": "code",
      "source": [
        "#@title\n",
        "y.hist()"
      ],
      "metadata": {
        "colab": {
          "base_uri": "https://localhost:8080/",
          "height": 316
        },
        "id": "74ypM57Ukp6N",
        "outputId": "aaa528a6-f8c6-4a5c-f09c-2ea887eac3de"
      },
      "execution_count": 129,
      "outputs": [
        {
          "output_type": "execute_result",
          "data": {
            "text/plain": [
              "array([[<matplotlib.axes._subplots.AxesSubplot object at 0x7fac9e68ba50>]],\n",
              "      dtype=object)"
            ]
          },
          "metadata": {},
          "execution_count": 129
        },
        {
          "output_type": "display_data",
          "data": {
            "text/plain": [
              "<Figure size 432x288 with 1 Axes>"
            ],
            "image/png": "[encoded data removed]"
          },
          "metadata": {
            "needs_background": "light"
          }
        }
      ]
    },
    {
      "cell_type": "code",
      "source": [
        "#@title\n",
        "print('y log skew', np.log(y).skew())\n",
        "print('y sqrt skew', np.sqrt(y).skew())\n",
        "print('y inverse skew', (1/y).skew())\n",
        "print('y YJ skew', pd.DataFrame(list(stats.yeojohnson(y))[0]).skew()[0])"
      ],
      "metadata": {
        "colab": {
          "base_uri": "https://localhost:8080/"
        },
        "id": "CqATEu7jtegG",
        "outputId": "a2a9299d-a487-4502-df9f-ebea6428cf6c"
      },
      "execution_count": 130,
      "outputs": [
        {
          "output_type": "stream",
          "name": "stdout",
          "text": [
            "y log skew SalePrice   0.12157\n",
            "dtype: float64\n",
            "y sqrt skew SalePrice   0.94249\n",
            "dtype: float64\n",
            "y inverse skew SalePrice   2.14007\n",
            "dtype: float64\n",
            "y YJ skew -0.008634434986093346\n"
          ]
        }
      ]
    },
    {
      "cell_type": "code",
      "source": [
        "#@title\n",
        "y['SalePrice'] = np.log(y['SalePrice'])"
      ],
      "metadata": {
        "id": "CFtsPu1kuhQs"
      },
      "execution_count": 131,
      "outputs": []
    },
    {
      "cell_type": "markdown",
      "source": [
        "##### come back to this: try to do a YJ transform"
      ],
      "metadata": {
        "id": "wafm8INWcOnq"
      }
    },
    {
      "cell_type": "code",
      "source": [
        "#@title\n",
        "# YJ is the best transformation. Use the PowerTransformer funciton.\n",
        "\n",
        "# y['SalePrice'] = list(stats.yeojohnson(y))[0]\n",
        "# print(y.skew())\n",
        "# y.hist()"
      ],
      "metadata": {
        "id": "JQ_vK74HbD1u"
      },
      "execution_count": 132,
      "outputs": []
    },
    {
      "cell_type": "markdown",
      "source": [
        "## Dropping columns \n",
        "* ID"
      ],
      "metadata": {
        "id": "UTWfYPEsoP_m"
      }
    },
    {
      "cell_type": "code",
      "source": [
        "#@title\n",
        "x.shape"
      ],
      "metadata": {
        "colab": {
          "base_uri": "https://localhost:8080/"
        },
        "id": "uXcbNaNApyv-",
        "outputId": "c7a3b14c-aeea-4c10-d5e2-18183f1077af"
      },
      "execution_count": 133,
      "outputs": [
        {
          "output_type": "execute_result",
          "data": {
            "text/plain": [
              "(2917, 79)"
            ]
          },
          "metadata": {},
          "execution_count": 133
        }
      ]
    },
    {
      "cell_type": "code",
      "source": [
        "#@title\n",
        "x.drop(columns = 'Id', inplace=True)"
      ],
      "metadata": {
        "id": "acYNInvrpuqT"
      },
      "execution_count": 134,
      "outputs": []
    },
    {
      "cell_type": "code",
      "source": [
        "#@title\n",
        "x.shape"
      ],
      "metadata": {
        "colab": {
          "base_uri": "https://localhost:8080/"
        },
        "id": "exXtpmk1p0_6",
        "outputId": "c381fb94-2b8f-4c4f-e6cb-3dad6d943e45"
      },
      "execution_count": 135,
      "outputs": [
        {
          "output_type": "execute_result",
          "data": {
            "text/plain": [
              "(2917, 78)"
            ]
          },
          "metadata": {},
          "execution_count": 135
        }
      ]
    },
    {
      "cell_type": "markdown",
      "source": [
        "## Scaling"
      ],
      "metadata": {
        "id": "BNp7P3D7KfJl"
      }
    },
    {
      "cell_type": "markdown",
      "source": [
        "### Identifying which columns are booleans already"
      ],
      "metadata": {
        "id": "5N3mHf1Q0kbQ"
      }
    },
    {
      "cell_type": "code",
      "source": [
        "#@title\n",
        "bool_list = [] # initiate a list\n",
        "for (xcolname, xcol) in x.iteritems(): # iterate through columns that\n",
        "  bool_test = xcol.value_counts().index.tolist() # find the number of unique values per column\n",
        "  if 1 and 0 in bool_test and len(bool_test) == 2: # if there are only 2 unique values, add them to the list\n",
        "    bool_list.append(xcolname)\n",
        "\n",
        "print(bool_list)# print the list"
      ],
      "metadata": {
        "colab": {
          "base_uri": "https://localhost:8080/"
        },
        "id": "U3wTY8T7xiG_",
        "outputId": "9060697e-6e8b-4c1e-b4f5-a03610531ac9"
      },
      "execution_count": 136,
      "outputs": [
        {
          "output_type": "stream",
          "name": "stdout",
          "text": [
            "['CentralAir', 'HasPool', 'Has2ndFloor', 'HasGarage', 'HasBasement', 'HasFireplace']\n"
          ]
        }
      ]
    },
    {
      "cell_type": "code",
      "source": [
        "#@title\n",
        "for i in bool_list:\n",
        "  x[i] = x[i].astype('bool')"
      ],
      "metadata": {
        "id": "X8ZLVNAn0or5"
      },
      "execution_count": 137,
      "outputs": []
    },
    {
      "cell_type": "markdown",
      "source": [
        "### Selecting the columns to scale (numerics, excluding bools)"
      ],
      "metadata": {
        "id": "L9SgRlrA0cVk"
      }
    },
    {
      "cell_type": "code",
      "source": [
        "#@title\n",
        "num_cols_to_scale = x.select_dtypes(exclude = ['object', 'bool']).columns.values.tolist()\n",
        "num_cols_to_scale"
      ],
      "metadata": {
        "id": "yoUhY-4d2vzM",
        "colab": {
          "base_uri": "https://localhost:8080/"
        },
        "outputId": "e6884c1c-e269-4f2d-9254-f124dbbb2600"
      },
      "execution_count": 138,
      "outputs": [
        {
          "output_type": "execute_result",
          "data": {
            "text/plain": [
              "['MSSubClass',\n",
              " 'LotFrontage',\n",
              " 'LotArea',\n",
              " 'OverallQual',\n",
              " 'OverallCond',\n",
              " 'YearBuilt',\n",
              " 'YearRemodAdd',\n",
              " 'MasVnrArea',\n",
              " 'BsmtFinSF1',\n",
              " 'BsmtUnfSF',\n",
              " 'TotalBsmtSF',\n",
              " '1stFlrSF',\n",
              " '2ndFlrSF',\n",
              " 'GrLivArea',\n",
              " 'BsmtFullBath',\n",
              " 'FullBath',\n",
              " 'HalfBath',\n",
              " 'BedroomAbvGr',\n",
              " 'TotRmsAbvGrd',\n",
              " 'Fireplaces',\n",
              " 'GarageCars',\n",
              " 'GarageArea',\n",
              " 'WoodDeckSF',\n",
              " 'OpenPorchSF',\n",
              " 'MoSold',\n",
              " 'YrSold',\n",
              " 'TotalLivableSF',\n",
              " 'TotalBaths',\n",
              " 'TotalPorchSF']"
            ]
          },
          "metadata": {},
          "execution_count": 138
        }
      ]
    },
    {
      "cell_type": "markdown",
      "source": [
        "### Robust Scaler"
      ],
      "metadata": {
        "id": "TzDUWcnNrCo7"
      }
    },
    {
      "cell_type": "code",
      "source": [
        "#@title\n",
        "robust_scaler = RobustScaler().fit(x[num_cols_to_scale])\n",
        "x[num_cols_to_scale] = robust_scaler.transform(x[num_cols_to_scale])"
      ],
      "metadata": {
        "id": "ZwKZlxLl1qL5"
      },
      "execution_count": 139,
      "outputs": []
    },
    {
      "cell_type": "markdown",
      "source": [
        "### Standard Scaler"
      ],
      "metadata": {
        "id": "YECcv02_ogTO"
      }
    },
    {
      "cell_type": "code",
      "source": [
        "#@title\n",
        "# standard_scaler = StandardScaler().fit(x[num_cols_to_scale])\n",
        "# x[num_cols_to_scale] = standard_scaler.transform(x[num_cols_to_scale])"
      ],
      "metadata": {
        "id": "wvs9MfjPoi2u"
      },
      "execution_count": 140,
      "outputs": []
    },
    {
      "cell_type": "markdown",
      "source": [
        "## Encoding"
      ],
      "metadata": {
        "id": "ujZBoZQcKfHJ"
      }
    },
    {
      "cell_type": "code",
      "source": [
        "#@title\n",
        "cat_cols_to_encode = x.select_dtypes(include = 'object').columns.values.tolist()\n",
        "cat_cols_to_encode"
      ],
      "metadata": {
        "colab": {
          "base_uri": "https://localhost:8080/"
        },
        "id": "9gEYU4AdsmCz",
        "outputId": "168b1d8f-dab6-402d-94e1-7b7698edb60c"
      },
      "execution_count": 141,
      "outputs": [
        {
          "output_type": "execute_result",
          "data": {
            "text/plain": [
              "['MSZoning',\n",
              " 'Street',\n",
              " 'Alley',\n",
              " 'LotShape',\n",
              " 'LandContour',\n",
              " 'Utilities',\n",
              " 'LotConfig',\n",
              " 'LandSlope',\n",
              " 'Neighborhood',\n",
              " 'Condition1',\n",
              " 'Condition2',\n",
              " 'BldgType',\n",
              " 'HouseStyle',\n",
              " 'RoofStyle',\n",
              " 'RoofMatl',\n",
              " 'Exterior1st',\n",
              " 'Exterior2nd',\n",
              " 'MasVnrType',\n",
              " 'ExterQual',\n",
              " 'ExterCond',\n",
              " 'Foundation',\n",
              " 'BsmtQual',\n",
              " 'BsmtCond',\n",
              " 'BsmtExposure',\n",
              " 'BsmtFinType1',\n",
              " 'BsmtFinType2',\n",
              " 'Heating',\n",
              " 'HeatingQC',\n",
              " 'Electrical',\n",
              " 'KitchenQual',\n",
              " 'Functional',\n",
              " 'FireplaceQu',\n",
              " 'GarageType',\n",
              " 'GarageYrBlt',\n",
              " 'GarageFinish',\n",
              " 'GarageQual',\n",
              " 'GarageCond',\n",
              " 'PavedDrive',\n",
              " 'PoolQC',\n",
              " 'Fence',\n",
              " 'MiscFeature',\n",
              " 'SaleType',\n",
              " 'SaleCondition']"
            ]
          },
          "metadata": {},
          "execution_count": 141
        }
      ]
    },
    {
      "cell_type": "code",
      "source": [
        "#@title\n",
        "x = pd.get_dummies(x)"
      ],
      "metadata": {
        "id": "mfGfpbl32Pfy"
      },
      "execution_count": 142,
      "outputs": []
    },
    {
      "cell_type": "markdown",
      "source": [
        "# Training and Predicting"
      ],
      "metadata": {
        "id": "pFy2jYLDKYb_"
      }
    },
    {
      "cell_type": "markdown",
      "source": [
        "## Prepping the training data and splitting it"
      ],
      "metadata": {
        "id": "IqwLPkGHVVhl"
      }
    },
    {
      "cell_type": "code",
      "source": [
        "#@title\n",
        "total_copy = x"
      ],
      "metadata": {
        "id": "rATPPsDa2fRK"
      },
      "execution_count": 143,
      "outputs": []
    },
    {
      "cell_type": "code",
      "source": [
        "#@title\n",
        "new_test = test.shape[0]\n",
        "train2 = total_copy[:train.shape[0]]\n",
        "test2 = total_copy[train.shape[0]:test.shape[0] + (new_test+1)]"
      ],
      "metadata": {
        "id": "mpi0L_COW-So"
      },
      "execution_count": 144,
      "outputs": []
    },
    {
      "cell_type": "code",
      "source": [
        "#@title\n",
        "xtrain2, xtest2, ytrain2, ytest2 = train_test_split(train2, y.SalePrice, test_size = .33, random_state = 7)"
      ],
      "metadata": {
        "id": "eXHakpO6YMf3"
      },
      "execution_count": 145,
      "outputs": []
    },
    {
      "cell_type": "code",
      "source": [
        "#@title\n",
        "print('xtrain2', xtrain2.shape)\n",
        "print('xtest2', xtest2.shape)\n",
        "print('ytrain2', ytrain2.shape)\n",
        "print('ytest2', ytest2.shape)"
      ],
      "metadata": {
        "colab": {
          "base_uri": "https://localhost:8080/"
        },
        "id": "Cb99xRo8dE5S",
        "outputId": "29e11ab1-8fea-4309-c6fc-b4c4e88ad782"
      },
      "execution_count": 146,
      "outputs": [
        {
          "output_type": "stream",
          "name": "stdout",
          "text": [
            "xtrain2 (976, 402)\n",
            "xtest2 (482, 402)\n",
            "ytrain2 (976,)\n",
            "ytest2 (482,)\n"
          ]
        }
      ]
    },
    {
      "cell_type": "code",
      "source": [
        "#@title\n",
        "#untransform ytest data\n",
        "ytest2_untrans = np.exp(ytest2)"
      ],
      "metadata": {
        "id": "0K8M0bPSIOX5"
      },
      "execution_count": 147,
      "outputs": []
    },
    {
      "cell_type": "markdown",
      "source": [
        "## Lasso Regression"
      ],
      "metadata": {
        "id": "L36kL4Ek2Dx-"
      }
    },
    {
      "cell_type": "code",
      "source": [
        "#@title\n",
        "las = Lasso(alpha = 0.0004).fit(xtrain2, ytrain2)\n",
        "ypred2_las = las.predict(xtest2)\n",
        "ypred2_las_untrans = np.exp(ypred2_las)"
      ],
      "metadata": {
        "id": "UQWu2uZ72DK_"
      },
      "execution_count": 148,
      "outputs": []
    },
    {
      "cell_type": "markdown",
      "source": [
        "### Analyzing the results"
      ],
      "metadata": {
        "id": "ozc9BbcPYIN8"
      }
    },
    {
      "cell_type": "code",
      "source": [
        "#@title\n",
        "mse = mean_squared_error(ytest2_untrans, ypred2_las_untrans)\n",
        "rmse = np.sqrt(mse)\n",
        "mae = mean_absolute_error(ytest2_untrans, ypred2_las_untrans)\n",
        "\n",
        "plt.scatter(ypred2_las_untrans, ytest2_untrans)\n",
        "print('Mean Squared Error is', '{:,.2f}'.format(mse))\n",
        "print('Root Mean Squared Error is', '{:,.2f}'.format(rmse))\n",
        "print('Mean Absolute Error is', '{:,.2f}'.format(mae))"
      ],
      "metadata": {
        "colab": {
          "base_uri": "https://localhost:8080/",
          "height": 317
        },
        "id": "xtTsnnxHf3z9",
        "outputId": "e061cbfa-72c5-4e4d-e9be-c797c5a62650"
      },
      "execution_count": 149,
      "outputs": [
        {
          "output_type": "stream",
          "name": "stdout",
          "text": [
            "Mean Squared Error is 516,560,125.47\n",
            "Root Mean Squared Error is 22,727.96\n",
            "Mean Absolute Error is 14,255.30\n"
          ]
        },
        {
          "output_type": "display_data",
          "data": {
            "text/plain": [
              "<Figure size 432x288 with 1 Axes>"
            ],
            "image/png": "[encoded data removed]"
          },
          "metadata": {
            "needs_background": "light"
          }
        }
      ]
    },
    {
      "cell_type": "markdown",
      "source": [
        "### Predicting the results using Lasso"
      ],
      "metadata": {
        "id": "hMmAKvEO5zDM"
      }
    },
    {
      "cell_type": "code",
      "source": [
        "#@title\n",
        "test = pd.read_csv('/content/drive/MyDrive/Colab Notebooks/Colab data/test.csv')"
      ],
      "metadata": {
        "id": "O5MSq-ND6p72"
      },
      "execution_count": 150,
      "outputs": []
    },
    {
      "cell_type": "code",
      "source": [
        "#@title\n",
        "submit_pred_las = las.predict(test2)\n",
        "submit_pred_untrans_las = np.exp(submit_pred_las)\n",
        "submit_pred_untrans_las"
      ],
      "metadata": {
        "colab": {
          "base_uri": "https://localhost:8080/"
        },
        "id": "qHQeURXF50tw",
        "outputId": "041cc10a-b00f-4d8c-aee9-68fe97f98d5e"
      },
      "execution_count": 151,
      "outputs": [
        {
          "output_type": "execute_result",
          "data": {
            "text/plain": [
              "array([117799.03653838, 161556.49544191, 186743.82092627, ...,\n",
              "       174132.50408294, 120146.10349284, 223543.6516241 ])"
            ]
          },
          "metadata": {},
          "execution_count": 151
        }
      ]
    },
    {
      "cell_type": "code",
      "source": [
        "#@title\n",
        "test_to_submit_las = pd.DataFrame(test['Id'])\n",
        "test_to_submit_las['SalePrice'] = submit_pred_untrans_las\n",
        "test_to_submit_las.to_csv('/content/predictions(lasso).csv', index=False)"
      ],
      "metadata": {
        "id": "N8AxvJmV6tdH"
      },
      "execution_count": 152,
      "outputs": []
    },
    {
      "cell_type": "markdown",
      "source": [
        "## Ridge Regression"
      ],
      "metadata": {
        "id": "Kls5M7UUGjkK"
      }
    },
    {
      "cell_type": "code",
      "source": [
        "#@title\n",
        "ridge = Ridge(alpha = .05).fit(xtrain2, ytrain2)\n",
        "ypred2_ridge = ridge.predict(xtest2)\n",
        "ypred2_ridge_untrans = np.exp(ypred2_ridge)"
      ],
      "metadata": {
        "id": "_xvKQxLWGtrM"
      },
      "execution_count": 153,
      "outputs": []
    },
    {
      "cell_type": "markdown",
      "source": [
        "### Analyzing the results for ridge regression"
      ],
      "metadata": {
        "id": "TsIWsReLHWl8"
      }
    },
    {
      "cell_type": "code",
      "source": [
        "#@title\n",
        "mse = mean_squared_error(ytest2_untrans, ypred2_ridge_untrans)\n",
        "rmse = np.sqrt(mse)\n",
        "mae = mean_absolute_error(ytest2_untrans, ypred2_ridge_untrans)\n",
        "\n",
        "plt.scatter(ypred2_ridge_untrans, ytest2_untrans)\n",
        "print('Mean Squared Error is', '{:,.2f}'.format(mse))\n",
        "print('Root Mean Squared Error is', '{:,.2f}'.format(rmse))\n",
        "print('Mean Absolute Error is', '{:,.2f}'.format(mae))"
      ],
      "metadata": {
        "colab": {
          "base_uri": "https://localhost:8080/",
          "height": 317
        },
        "id": "MkpnzQCUHYIa",
        "outputId": "5569be53-0a8b-44c0-b7c1-09fcc5447525"
      },
      "execution_count": 154,
      "outputs": [
        {
          "output_type": "stream",
          "name": "stdout",
          "text": [
            "Mean Squared Error is 648,835,807.17\n",
            "Root Mean Squared Error is 25,472.26\n",
            "Mean Absolute Error is 15,986.20\n"
          ]
        },
        {
          "output_type": "display_data",
          "data": {
            "text/plain": [
              "<Figure size 432x288 with 1 Axes>"
            ],
            "image/png": "[encoded data removed]"
          },
          "metadata": {
            "needs_background": "light"
          }
        }
      ]
    },
    {
      "cell_type": "markdown",
      "source": [
        "### Predicting the results using Ridge"
      ],
      "metadata": {
        "id": "bn4FQikhIgNw"
      }
    },
    {
      "cell_type": "code",
      "source": [
        "#@title\n",
        "submit_pred_ridge = ridge.predict(test2)\n",
        "submit_pred_ridge_untrans = np.exp(submit_pred_ridge)\n",
        "submit_pred_ridge_untrans"
      ],
      "metadata": {
        "colab": {
          "base_uri": "https://localhost:8080/"
        },
        "id": "0qwK0jesIoXW",
        "outputId": "690f9809-50b0-430f-cf5b-8030feae0184"
      },
      "execution_count": 155,
      "outputs": [
        {
          "output_type": "execute_result",
          "data": {
            "text/plain": [
              "array([122234.92181151, 162245.27968545, 195016.92889861, ...,\n",
              "       172495.82091159, 120472.45398011, 212965.70289045])"
            ]
          },
          "metadata": {},
          "execution_count": 155
        }
      ]
    },
    {
      "cell_type": "code",
      "source": [
        "#@title\n",
        "test_to_submit_ridge = pd.DataFrame(test['Id'])\n",
        "test_to_submit_ridge['SalePrice'] = submit_pred_ridge_untrans\n",
        "test_to_submit_ridge.to_csv('/content/predictions(ridge).csv', index=False)"
      ],
      "metadata": {
        "id": "pC57DPeUIt7p"
      },
      "execution_count": 156,
      "outputs": []
    },
    {
      "cell_type": "markdown",
      "source": [
        "## XGBoost"
      ],
      "metadata": {
        "id": "wiljOSe4MFYN"
      }
    },
    {
      "cell_type": "code",
      "source": [
        "#@title\n",
        "xgb = XGBRegressor(n_estimators=10000, learning_rate=0.02)\n",
        "xgb.fit(xtrain2, ytrain2, verbose=False)\n",
        "ypred2_xgb = xgb.predict(xtest2)\n",
        "ypred2_xgb_untrans = np.exp(ypred2_xgb)"
      ],
      "metadata": {
        "colab": {
          "base_uri": "https://localhost:8080/"
        },
        "id": "-mGH3wp6MG6D",
        "outputId": "39b476ed-9782-4f56-bff8-d50b296bd347"
      },
      "execution_count": null,
      "outputs": [
        {
          "output_type": "stream",
          "name": "stdout",
          "text": [
            "[01:43:56] WARNING: /workspace/src/objective/regression_obj.cu:152: reg:linear is now deprecated in favor of reg:squarederror.\n"
          ]
        }
      ]
    },
    {
      "cell_type": "markdown",
      "source": [
        "### Analyzing the results using XGB"
      ],
      "metadata": {
        "id": "WjKCdB3OMp14"
      }
    },
    {
      "cell_type": "code",
      "source": [
        "#@title\n",
        "mse = mean_squared_error(ytest2_untrans, ypred2_xgb_untrans)\n",
        "rmse = np.sqrt(mse)\n",
        "mae = mean_absolute_error(ytest2_untrans, ypred2_xgb_untrans)\n",
        "\n",
        "plt.scatter(ypred2_xgb_untrans, ytest2_untrans)\n",
        "print('Mean Squared Error is', '{:,.2f}'.format(mse))\n",
        "print('Root Mean Squared Error is', '{:,.2f}'.format(rmse))\n",
        "print('Mean Absolute Error is', '{:,.2f}'.format(mae))"
      ],
      "metadata": {
        "id": "Y70_KrDZMrIu"
      },
      "execution_count": null,
      "outputs": []
    },
    {
      "cell_type": "markdown",
      "source": [
        "### Predicting the results using XGB"
      ],
      "metadata": {
        "id": "_Ad-DNdjQaGZ"
      }
    },
    {
      "cell_type": "code",
      "source": [
        "#@title\n",
        "submit_pred_xgb = xgb.predict(test2)\n",
        "submit_pred_untrans_xgb = np.exp(submit_pred_xgb)\n",
        "submit_pred_untrans_xgb"
      ],
      "metadata": {
        "id": "P7UcNtOeQd9_"
      },
      "execution_count": null,
      "outputs": []
    },
    {
      "cell_type": "code",
      "source": [
        "#@title\n",
        "test_to_submit_ridge = pd.DataFrame(test['Id'])\n",
        "test_to_submit_ridge['SalePrice'] = submit_pred_ridge_untrans\n",
        "test_to_submit_ridge.to_csv('/content/predictions(xgb).csv', index=False)"
      ],
      "metadata": {
        "id": "VGRU-ae5QnHU"
      },
      "execution_count": null,
      "outputs": []
    },
    {
      "cell_type": "markdown",
      "source": [
        "## Try blending XGB and Lasso results"
      ],
      "metadata": {
        "id": "HAmOupX0Q3fv"
      }
    },
    {
      "cell_type": "code",
      "source": [
        "#@title\n",
        "blend_las_weight = .7\n",
        "ypred2_blend = ((1 - blend_las_weight) * ypred2_xgb_untrans) + (blend_las_weight * ypred2_las_untrans)"
      ],
      "metadata": {
        "id": "jBRLQVaTe4f-"
      },
      "execution_count": null,
      "outputs": []
    },
    {
      "cell_type": "code",
      "source": [
        "#@title\n",
        "mse = mean_squared_error(ytest2_untrans, ypred2_blend)\n",
        "rmse = np.sqrt(mse)\n",
        "mae = mean_absolute_error(ytest2_untrans, ypred2_blend)\n",
        "\n",
        "plt.scatter(ypred2_blend, ytest2_untrans)\n",
        "print('Mean Squared Error is', '{:,.2f}'.format(mse))\n",
        "print('Root Mean Squared Error is', '{:,.2f}'.format(rmse))\n",
        "print('Mean Absolute Error is', '{:,.2f}'.format(mae))"
      ],
      "metadata": {
        "id": "46En2-L0e_Bg"
      },
      "execution_count": null,
      "outputs": []
    },
    {
      "cell_type": "code",
      "source": [
        "#@title\n",
        "submit_pred_untrans_xgb"
      ],
      "metadata": {
        "id": "DkFQvkfjQ7k4"
      },
      "execution_count": null,
      "outputs": []
    },
    {
      "cell_type": "code",
      "source": [
        "#@title\n",
        "submit_pred_untrans_las"
      ],
      "metadata": {
        "id": "FsFxyHt6Q_qi"
      },
      "execution_count": null,
      "outputs": []
    },
    {
      "cell_type": "code",
      "source": [
        "#@title\n",
        "submit_blend_las_xgb = (submit_pred_untrans_xgb * 0.1) + (submit_pred_untrans_las * .9)"
      ],
      "metadata": {
        "id": "trU_fL6TRWWg"
      },
      "execution_count": null,
      "outputs": []
    },
    {
      "cell_type": "code",
      "source": [
        "#@title\n",
        "test_to_submit_blend = pd.DataFrame(test['Id'])\n",
        "test_to_submit_blend['SalePrice'] = submit_blend_las_xgb\n",
        "test_to_submit_ridge.to_csv('/content/predictions(blend).csv', index=False)"
      ],
      "metadata": {
        "id": "sfu_i8pSRbcG"
      },
      "execution_count": null,
      "outputs": []
    }
  ]
}