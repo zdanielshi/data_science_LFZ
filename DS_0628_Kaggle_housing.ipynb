{
  "nbformat": 4,
  "nbformat_minor": 0,
  "metadata": {
    "colab": {
      "name": "DS 0628 Kaggle housing.ipynb",
      "provenance": [],
      "toc_visible": true,
      "authorship_tag": "ABX9TyN+22EvN7y4fl4YA3rUkyLx",
      "include_colab_link": true
    },
    "kernelspec": {
      "name": "python3",
      "display_name": "Python 3"
    },
    "language_info": {
      "name": "python"
    }
  },
  "cells": [
    {
      "cell_type": "markdown",
      "metadata": {
        "id": "view-in-github",
        "colab_type": "text"
      },
      "source": [
        "<a href=\"https://colab.research.google.com/github/zdanielshi/data_science_LFZ/blob/main/DS_0628_Kaggle_housing.ipynb\" target=\"_parent\"><img src=\"https://colab.research.google.com/assets/colab-badge.svg\" alt=\"Open In Colab\"/></a>"
      ]
    },
    {
      "cell_type": "code",
      "execution_count": 828,
      "metadata": {
        "id": "YqlJbeNLC5t4"
      },
      "outputs": [],
      "source": [
        "import pandas as pd\n",
        "import matplotlib.pyplot as plt\n",
        "import numpy as np\n",
        "import seaborn as sns\n",
        "from scipy import stats\n",
        "from sklearn.preprocessing import RobustScaler, MinMaxScaler, MaxAbsScaler, StandardScaler, PowerTransformer\n",
        "from sklearn.model_selection import train_test_split\n",
        "from sklearn.linear_model import LinearRegression, Lasso, Ridge, LassoCV\n",
        "from sklearn.metrics import mean_squared_error, mean_absolute_error\n",
        "from xgboost import XGBRegressor\n",
        "\n",
        "import warnings\n",
        "warnings.filterwarnings(\"error\")\n",
        "\n",
        "pd.set_option('display.float_format', lambda x: '%.5f' % x)\n",
        "\n",
        "from google.colab import drive"
      ]
    },
    {
      "cell_type": "code",
      "source": [
        "drive.mount('/content/drive')"
      ],
      "metadata": {
        "colab": {
          "base_uri": "https://localhost:8080/"
        },
        "id": "uKh01mLjDENX",
        "outputId": "9009000d-1e82-4eed-c146-6e77da6afeea"
      },
      "execution_count": 829,
      "outputs": [
        {
          "output_type": "stream",
          "name": "stdout",
          "text": [
            "Drive already mounted at /content/drive; to attempt to forcibly remount, call drive.mount(\"/content/drive\", force_remount=True).\n"
          ]
        }
      ]
    },
    {
      "cell_type": "code",
      "source": [
        "train = pd.read_csv('/content/drive/MyDrive/Colab Notebooks/Colab data/train.csv')\n",
        "test = pd.read_csv('/content/drive/MyDrive/Colab Notebooks/Colab data/test.csv')"
      ],
      "metadata": {
        "id": "wWUufbe3DSwu"
      },
      "execution_count": 830,
      "outputs": []
    },
    {
      "cell_type": "code",
      "source": [
        "train.shape"
      ],
      "metadata": {
        "colab": {
          "base_uri": "https://localhost:8080/"
        },
        "id": "v6YgGhfTDes_",
        "outputId": "c3a29661-ccb4-4a87-87dc-7c9ae3e890f4"
      },
      "execution_count": 831,
      "outputs": [
        {
          "output_type": "execute_result",
          "data": {
            "text/plain": [
              "(1460, 81)"
            ]
          },
          "metadata": {},
          "execution_count": 831
        }
      ]
    },
    {
      "cell_type": "code",
      "source": [
        "test.shape"
      ],
      "metadata": {
        "colab": {
          "base_uri": "https://localhost:8080/"
        },
        "id": "crqWVO49Dgwg",
        "outputId": "cf12ab9d-5310-4916-fbd0-8bd94fbaedd3"
      },
      "execution_count": 832,
      "outputs": [
        {
          "output_type": "execute_result",
          "data": {
            "text/plain": [
              "(1459, 80)"
            ]
          },
          "metadata": {},
          "execution_count": 832
        }
      ]
    },
    {
      "cell_type": "code",
      "source": [
        "plt.scatter(train.GrLivArea, train.SalePrice)"
      ],
      "metadata": {
        "colab": {
          "base_uri": "https://localhost:8080/",
          "height": 282
        },
        "id": "VrdJ30kFnwgr",
        "outputId": "30816af6-a3b7-4da1-82af-f62963a95e47"
      },
      "execution_count": 833,
      "outputs": [
        {
          "output_type": "execute_result",
          "data": {
            "text/plain": [
              "<matplotlib.collections.PathCollection at 0x7fc924a74a90>"
            ]
          },
          "metadata": {},
          "execution_count": 833
        },
        {
          "output_type": "display_data",
          "data": {
            "text/plain": [
              "<Figure size 432x288 with 1 Axes>"
            ],
            "image/png": "[encoded data removed]"
          },
          "metadata": {
            "needs_background": "light"
          }
        }
      ]
    },
    {
      "cell_type": "code",
      "source": [
        "train = train.drop(train[(train['GrLivArea']>4000) & (train['SalePrice']<300000)].index)"
      ],
      "metadata": {
        "id": "Kw4pgxgBisBA"
      },
      "execution_count": 834,
      "outputs": []
    },
    {
      "cell_type": "code",
      "source": [
        "train.shape"
      ],
      "metadata": {
        "colab": {
          "base_uri": "https://localhost:8080/"
        },
        "id": "7Vq5JBitpF3n",
        "outputId": "573d4e35-2c8b-4c13-bdb9-08688f36ee77"
      },
      "execution_count": 835,
      "outputs": [
        {
          "output_type": "execute_result",
          "data": {
            "text/plain": [
              "(1458, 81)"
            ]
          },
          "metadata": {},
          "execution_count": 835
        }
      ]
    },
    {
      "cell_type": "markdown",
      "source": [
        "# Stacking the two tables\n",
        "Also separating out price feature into it's own column"
      ],
      "metadata": {
        "id": "zvSrTm0jE6ZW"
      }
    },
    {
      "cell_type": "code",
      "source": [
        "y = pd.DataFrame(train['SalePrice'])"
      ],
      "metadata": {
        "id": "H52enCIpEaRj"
      },
      "execution_count": 836,
      "outputs": []
    },
    {
      "cell_type": "code",
      "source": [
        "y.describe()"
      ],
      "metadata": {
        "colab": {
          "base_uri": "https://localhost:8080/",
          "height": 300
        },
        "id": "sxoZEJoXEo0H",
        "outputId": "87cf2b21-2b21-4831-b500-c69422054653"
      },
      "execution_count": 837,
      "outputs": [
        {
          "output_type": "execute_result",
          "data": {
            "text/plain": [
              "         SalePrice\n",
              "count   1458.00000\n",
              "mean  180932.91907\n",
              "std    79495.05528\n",
              "min    34900.00000\n",
              "25%   129925.00000\n",
              "50%   163000.00000\n",
              "75%   214000.00000\n",
              "max   755000.00000"
            ],
            "text/html": [
              "\n",
              "  <div id=\"df-59bbab92-b481-498e-b7a0-c3a1db247a5f\">\n",
              "    <div class=\"colab-df-container\">\n",
              "      <div>\n",
              "<style scoped>\n",
              "    .dataframe tbody tr th:only-of-type {\n",
              "        vertical-align: middle;\n",
              "    }\n",
              "\n",
              "    .dataframe tbody tr th {\n",
              "        vertical-align: top;\n",
              "    }\n",
              "\n",
              "    .dataframe thead th {\n",
              "        text-align: right;\n",
              "    }\n",
              "</style>\n",
              "<table border=\"1\" class=\"dataframe\">\n",
              "  <thead>\n",
              "    <tr style=\"text-align: right;\">\n",
              "      <th></th>\n",
              "      <th>SalePrice</th>\n",
              "    </tr>\n",
              "  </thead>\n",
              "  <tbody>\n",
              "    <tr>\n",
              "      <th>count</th>\n",
              "      <td>1458.00000</td>\n",
              "    </tr>\n",
              "    <tr>\n",
              "      <th>mean</th>\n",
              "      <td>180932.91907</td>\n",
              "    </tr>\n",
              "    <tr>\n",
              "      <th>std</th>\n",
              "      <td>79495.05528</td>\n",
              "    </tr>\n",
              "    <tr>\n",
              "      <th>min</th>\n",
              "      <td>34900.00000</td>\n",
              "    </tr>\n",
              "    <tr>\n",
              "      <th>25%</th>\n",
              "      <td>129925.00000</td>\n",
              "    </tr>\n",
              "    <tr>\n",
              "      <th>50%</th>\n",
              "      <td>163000.00000</td>\n",
              "    </tr>\n",
              "    <tr>\n",
              "      <th>75%</th>\n",
              "      <td>214000.00000</td>\n",
              "    </tr>\n",
              "    <tr>\n",
              "      <th>max</th>\n",
              "      <td>755000.00000</td>\n",
              "    </tr>\n",
              "  </tbody>\n",
              "</table>\n",
              "</div>\n",
              "      <button class=\"colab-df-convert\" onclick=\"convertToInteractive('df-59bbab92-b481-498e-b7a0-c3a1db247a5f')\"\n",
              "              title=\"Convert this dataframe to an interactive table.\"\n",
              "              style=\"display:none;\">\n",
              "        \n",
              "  <svg xmlns=\"http://www.w3.org/2000/svg\" height=\"24px\"viewBox=\"0 0 24 24\"\n",
              "       width=\"24px\">\n",
              "    <path d=\"M0 0h24v24H0V0z\" fill=\"none\"/>\n",
              "    <path d=\"M18.56 5.44l.94 2.06.94-2.06 2.06-.94-2.06-.94-.94-2.06-.94 2.06-2.06.94zm-11 1L8.5 8.5l.94-2.06 2.06-.94-2.06-.94L8.5 2.5l-.94 2.06-2.06.94zm10 10l.94 2.06.94-2.06 2.06-.94-2.06-.94-.94-2.06-.94 2.06-2.06.94z\"/><path d=\"M17.41 7.96l-1.37-1.37c-.4-.4-.92-.59-1.43-.59-.52 0-1.04.2-1.43.59L10.3 9.45l-7.72 7.72c-.78.78-.78 2.05 0 2.83L4 21.41c.39.39.9.59 1.41.59.51 0 1.02-.2 1.41-.59l7.78-7.78 2.81-2.81c.8-.78.8-2.07 0-2.86zM5.41 20L4 18.59l7.72-7.72 1.47 1.35L5.41 20z\"/>\n",
              "  </svg>\n",
              "      </button>\n",
              "      \n",
              "  <style>\n",
              "    .colab-df-container {\n",
              "      display:flex;\n",
              "      flex-wrap:wrap;\n",
              "      gap: 12px;\n",
              "    }\n",
              "\n",
              "    .colab-df-convert {\n",
              "      background-color: #E8F0FE;\n",
              "      border: none;\n",
              "      border-radius: 50%;\n",
              "      cursor: pointer;\n",
              "      display: none;\n",
              "      fill: #1967D2;\n",
              "      height: 32px;\n",
              "      padding: 0 0 0 0;\n",
              "      width: 32px;\n",
              "    }\n",
              "\n",
              "    .colab-df-convert:hover {\n",
              "      background-color: #E2EBFA;\n",
              "      box-shadow: 0px 1px 2px rgba(60, 64, 67, 0.3), 0px 1px 3px 1px rgba(60, 64, 67, 0.15);\n",
              "      fill: #174EA6;\n",
              "    }\n",
              "\n",
              "    [theme=dark] .colab-df-convert {\n",
              "      background-color: #3B4455;\n",
              "      fill: #D2E3FC;\n",
              "    }\n",
              "\n",
              "    [theme=dark] .colab-df-convert:hover {\n",
              "      background-color: #434B5C;\n",
              "      box-shadow: 0px 1px 3px 1px rgba(0, 0, 0, 0.15);\n",
              "      filter: drop-shadow(0px 1px 2px rgba(0, 0, 0, 0.3));\n",
              "      fill: #FFFFFF;\n",
              "    }\n",
              "  </style>\n",
              "\n",
              "      <script>\n",
              "        const buttonEl =\n",
              "          document.querySelector('#df-59bbab92-b481-498e-b7a0-c3a1db247a5f button.colab-df-convert');\n",
              "        buttonEl.style.display =\n",
              "          google.colab.kernel.accessAllowed ? 'block' : 'none';\n",
              "\n",
              "        async function convertToInteractive(key) {\n",
              "          const element = document.querySelector('#df-59bbab92-b481-498e-b7a0-c3a1db247a5f');\n",
              "          const dataTable =\n",
              "            await google.colab.kernel.invokeFunction('convertToInteractive',\n",
              "                                                     [key], {});\n",
              "          if (!dataTable) return;\n",
              "\n",
              "          const docLinkHtml = 'Like what you see? Visit the ' +\n",
              "            '<a target=\"_blank\" href=https://colab.research.google.com/notebooks/data_table.ipynb>data table notebook</a>'\n",
              "            + ' to learn more about interactive tables.';\n",
              "          element.innerHTML = '';\n",
              "          dataTable['output_type'] = 'display_data';\n",
              "          await google.colab.output.renderOutput(dataTable, element);\n",
              "          const docLink = document.createElement('div');\n",
              "          docLink.innerHTML = docLinkHtml;\n",
              "          element.appendChild(docLink);\n",
              "        }\n",
              "      </script>\n",
              "    </div>\n",
              "  </div>\n",
              "  "
            ]
          },
          "metadata": {},
          "execution_count": 837
        }
      ]
    },
    {
      "cell_type": "code",
      "source": [
        "# train.drop(columns = 'SalePrice', inplace=True)"
      ],
      "metadata": {
        "id": "73EO2Bg9Eyvl"
      },
      "execution_count": 838,
      "outputs": []
    },
    {
      "cell_type": "code",
      "source": [
        "x = pd.concat([train.drop(columns='SalePrice'), test], axis = 0)"
      ],
      "metadata": {
        "id": "6KSbuLojFCbV"
      },
      "execution_count": 839,
      "outputs": []
    },
    {
      "cell_type": "code",
      "source": [
        "x"
      ],
      "metadata": {
        "colab": {
          "base_uri": "https://localhost:8080/",
          "height": 488
        },
        "id": "2wAjIE_LFewS",
        "outputId": "4991786f-81c0-4640-8eb7-d08b2f76e44a"
      },
      "execution_count": 840,
      "outputs": [
        {
          "output_type": "execute_result",
          "data": {
            "text/plain": [
              "        Id  MSSubClass MSZoning  LotFrontage  LotArea Street Alley LotShape  \\\n",
              "0        1          60       RL     65.00000     8450   Pave   NaN      Reg   \n",
              "1        2          20       RL     80.00000     9600   Pave   NaN      Reg   \n",
              "2        3          60       RL     68.00000    11250   Pave   NaN      IR1   \n",
              "3        4          70       RL     60.00000     9550   Pave   NaN      IR1   \n",
              "4        5          60       RL     84.00000    14260   Pave   NaN      IR1   \n",
              "...    ...         ...      ...          ...      ...    ...   ...      ...   \n",
              "1454  2915         160       RM     21.00000     1936   Pave   NaN      Reg   \n",
              "1455  2916         160       RM     21.00000     1894   Pave   NaN      Reg   \n",
              "1456  2917          20       RL    160.00000    20000   Pave   NaN      Reg   \n",
              "1457  2918          85       RL     62.00000    10441   Pave   NaN      Reg   \n",
              "1458  2919          60       RL     74.00000     9627   Pave   NaN      Reg   \n",
              "\n",
              "     LandContour Utilities  ... ScreenPorch PoolArea PoolQC  Fence  \\\n",
              "0            Lvl    AllPub  ...           0        0    NaN    NaN   \n",
              "1            Lvl    AllPub  ...           0        0    NaN    NaN   \n",
              "2            Lvl    AllPub  ...           0        0    NaN    NaN   \n",
              "3            Lvl    AllPub  ...           0        0    NaN    NaN   \n",
              "4            Lvl    AllPub  ...           0        0    NaN    NaN   \n",
              "...          ...       ...  ...         ...      ...    ...    ...   \n",
              "1454         Lvl    AllPub  ...           0        0    NaN    NaN   \n",
              "1455         Lvl    AllPub  ...           0        0    NaN    NaN   \n",
              "1456         Lvl    AllPub  ...           0        0    NaN    NaN   \n",
              "1457         Lvl    AllPub  ...           0        0    NaN  MnPrv   \n",
              "1458         Lvl    AllPub  ...           0        0    NaN    NaN   \n",
              "\n",
              "     MiscFeature MiscVal MoSold  YrSold  SaleType  SaleCondition  \n",
              "0            NaN       0      2    2008        WD         Normal  \n",
              "1            NaN       0      5    2007        WD         Normal  \n",
              "2            NaN       0      9    2008        WD         Normal  \n",
              "3            NaN       0      2    2006        WD        Abnorml  \n",
              "4            NaN       0     12    2008        WD         Normal  \n",
              "...          ...     ...    ...     ...       ...            ...  \n",
              "1454         NaN       0      6    2006        WD         Normal  \n",
              "1455         NaN       0      4    2006        WD        Abnorml  \n",
              "1456         NaN       0      9    2006        WD        Abnorml  \n",
              "1457        Shed     700      7    2006        WD         Normal  \n",
              "1458         NaN       0     11    2006        WD         Normal  \n",
              "\n",
              "[2917 rows x 80 columns]"
            ],
            "text/html": [
              "\n",
              "  <div id=\"df-66871ec9-a0c0-4b3e-98a9-f49408135af5\">\n",
              "    <div class=\"colab-df-container\">\n",
              "      <div>\n",
              "<style scoped>\n",
              "    .dataframe tbody tr th:only-of-type {\n",
              "        vertical-align: middle;\n",
              "    }\n",
              "\n",
              "    .dataframe tbody tr th {\n",
              "        vertical-align: top;\n",
              "    }\n",
              "\n",
              "    .dataframe thead th {\n",
              "        text-align: right;\n",
              "    }\n",
              "</style>\n",
              "<table border=\"1\" class=\"dataframe\">\n",
              "  <thead>\n",
              "    <tr style=\"text-align: right;\">\n",
              "      <th></th>\n",
              "      <th>Id</th>\n",
              "      <th>MSSubClass</th>\n",
              "      <th>MSZoning</th>\n",
              "      <th>LotFrontage</th>\n",
              "      <th>LotArea</th>\n",
              "      <th>Street</th>\n",
              "      <th>Alley</th>\n",
              "      <th>LotShape</th>\n",
              "      <th>LandContour</th>\n",
              "      <th>Utilities</th>\n",
              "      <th>...</th>\n",
              "      <th>ScreenPorch</th>\n",
              "      <th>PoolArea</th>\n",
              "      <th>PoolQC</th>\n",
              "      <th>Fence</th>\n",
              "      <th>MiscFeature</th>\n",
              "      <th>MiscVal</th>\n",
              "      <th>MoSold</th>\n",
              "      <th>YrSold</th>\n",
              "      <th>SaleType</th>\n",
              "      <th>SaleCondition</th>\n",
              "    </tr>\n",
              "  </thead>\n",
              "  <tbody>\n",
              "    <tr>\n",
              "      <th>0</th>\n",
              "      <td>1</td>\n",
              "      <td>60</td>\n",
              "      <td>RL</td>\n",
              "      <td>65.00000</td>\n",
              "      <td>8450</td>\n",
              "      <td>Pave</td>\n",
              "      <td>NaN</td>\n",
              "      <td>Reg</td>\n",
              "      <td>Lvl</td>\n",
              "      <td>AllPub</td>\n",
              "      <td>...</td>\n",
              "      <td>0</td>\n",
              "      <td>0</td>\n",
              "      <td>NaN</td>\n",
              "      <td>NaN</td>\n",
              "      <td>NaN</td>\n",
              "      <td>0</td>\n",
              "      <td>2</td>\n",
              "      <td>2008</td>\n",
              "      <td>WD</td>\n",
              "      <td>Normal</td>\n",
              "    </tr>\n",
              "    <tr>\n",
              "      <th>1</th>\n",
              "      <td>2</td>\n",
              "      <td>20</td>\n",
              "      <td>RL</td>\n",
              "      <td>80.00000</td>\n",
              "      <td>9600</td>\n",
              "      <td>Pave</td>\n",
              "      <td>NaN</td>\n",
              "      <td>Reg</td>\n",
              "      <td>Lvl</td>\n",
              "      <td>AllPub</td>\n",
              "      <td>...</td>\n",
              "      <td>0</td>\n",
              "      <td>0</td>\n",
              "      <td>NaN</td>\n",
              "      <td>NaN</td>\n",
              "      <td>NaN</td>\n",
              "      <td>0</td>\n",
              "      <td>5</td>\n",
              "      <td>2007</td>\n",
              "      <td>WD</td>\n",
              "      <td>Normal</td>\n",
              "    </tr>\n",
              "    <tr>\n",
              "      <th>2</th>\n",
              "      <td>3</td>\n",
              "      <td>60</td>\n",
              "      <td>RL</td>\n",
              "      <td>68.00000</td>\n",
              "      <td>11250</td>\n",
              "      <td>Pave</td>\n",
              "      <td>NaN</td>\n",
              "      <td>IR1</td>\n",
              "      <td>Lvl</td>\n",
              "      <td>AllPub</td>\n",
              "      <td>...</td>\n",
              "      <td>0</td>\n",
              "      <td>0</td>\n",
              "      <td>NaN</td>\n",
              "      <td>NaN</td>\n",
              "      <td>NaN</td>\n",
              "      <td>0</td>\n",
              "      <td>9</td>\n",
              "      <td>2008</td>\n",
              "      <td>WD</td>\n",
              "      <td>Normal</td>\n",
              "    </tr>\n",
              "    <tr>\n",
              "      <th>3</th>\n",
              "      <td>4</td>\n",
              "      <td>70</td>\n",
              "      <td>RL</td>\n",
              "      <td>60.00000</td>\n",
              "      <td>9550</td>\n",
              "      <td>Pave</td>\n",
              "      <td>NaN</td>\n",
              "      <td>IR1</td>\n",
              "      <td>Lvl</td>\n",
              "      <td>AllPub</td>\n",
              "      <td>...</td>\n",
              "      <td>0</td>\n",
              "      <td>0</td>\n",
              "      <td>NaN</td>\n",
              "      <td>NaN</td>\n",
              "      <td>NaN</td>\n",
              "      <td>0</td>\n",
              "      <td>2</td>\n",
              "      <td>2006</td>\n",
              "      <td>WD</td>\n",
              "      <td>Abnorml</td>\n",
              "    </tr>\n",
              "    <tr>\n",
              "      <th>4</th>\n",
              "      <td>5</td>\n",
              "      <td>60</td>\n",
              "      <td>RL</td>\n",
              "      <td>84.00000</td>\n",
              "      <td>14260</td>\n",
              "      <td>Pave</td>\n",
              "      <td>NaN</td>\n",
              "      <td>IR1</td>\n",
              "      <td>Lvl</td>\n",
              "      <td>AllPub</td>\n",
              "      <td>...</td>\n",
              "      <td>0</td>\n",
              "      <td>0</td>\n",
              "      <td>NaN</td>\n",
              "      <td>NaN</td>\n",
              "      <td>NaN</td>\n",
              "      <td>0</td>\n",
              "      <td>12</td>\n",
              "      <td>2008</td>\n",
              "      <td>WD</td>\n",
              "      <td>Normal</td>\n",
              "    </tr>\n",
              "    <tr>\n",
              "      <th>...</th>\n",
              "      <td>...</td>\n",
              "      <td>...</td>\n",
              "      <td>...</td>\n",
              "      <td>...</td>\n",
              "      <td>...</td>\n",
              "      <td>...</td>\n",
              "      <td>...</td>\n",
              "      <td>...</td>\n",
              "      <td>...</td>\n",
              "      <td>...</td>\n",
              "      <td>...</td>\n",
              "      <td>...</td>\n",
              "      <td>...</td>\n",
              "      <td>...</td>\n",
              "      <td>...</td>\n",
              "      <td>...</td>\n",
              "      <td>...</td>\n",
              "      <td>...</td>\n",
              "      <td>...</td>\n",
              "      <td>...</td>\n",
              "      <td>...</td>\n",
              "    </tr>\n",
              "    <tr>\n",
              "      <th>1454</th>\n",
              "      <td>2915</td>\n",
              "      <td>160</td>\n",
              "      <td>RM</td>\n",
              "      <td>21.00000</td>\n",
              "      <td>1936</td>\n",
              "      <td>Pave</td>\n",
              "      <td>NaN</td>\n",
              "      <td>Reg</td>\n",
              "      <td>Lvl</td>\n",
              "      <td>AllPub</td>\n",
              "      <td>...</td>\n",
              "      <td>0</td>\n",
              "      <td>0</td>\n",
              "      <td>NaN</td>\n",
              "      <td>NaN</td>\n",
              "      <td>NaN</td>\n",
              "      <td>0</td>\n",
              "      <td>6</td>\n",
              "      <td>2006</td>\n",
              "      <td>WD</td>\n",
              "      <td>Normal</td>\n",
              "    </tr>\n",
              "    <tr>\n",
              "      <th>1455</th>\n",
              "      <td>2916</td>\n",
              "      <td>160</td>\n",
              "      <td>RM</td>\n",
              "      <td>21.00000</td>\n",
              "      <td>1894</td>\n",
              "      <td>Pave</td>\n",
              "      <td>NaN</td>\n",
              "      <td>Reg</td>\n",
              "      <td>Lvl</td>\n",
              "      <td>AllPub</td>\n",
              "      <td>...</td>\n",
              "      <td>0</td>\n",
              "      <td>0</td>\n",
              "      <td>NaN</td>\n",
              "      <td>NaN</td>\n",
              "      <td>NaN</td>\n",
              "      <td>0</td>\n",
              "      <td>4</td>\n",
              "      <td>2006</td>\n",
              "      <td>WD</td>\n",
              "      <td>Abnorml</td>\n",
              "    </tr>\n",
              "    <tr>\n",
              "      <th>1456</th>\n",
              "      <td>2917</td>\n",
              "      <td>20</td>\n",
              "      <td>RL</td>\n",
              "      <td>160.00000</td>\n",
              "      <td>20000</td>\n",
              "      <td>Pave</td>\n",
              "      <td>NaN</td>\n",
              "      <td>Reg</td>\n",
              "      <td>Lvl</td>\n",
              "      <td>AllPub</td>\n",
              "      <td>...</td>\n",
              "      <td>0</td>\n",
              "      <td>0</td>\n",
              "      <td>NaN</td>\n",
              "      <td>NaN</td>\n",
              "      <td>NaN</td>\n",
              "      <td>0</td>\n",
              "      <td>9</td>\n",
              "      <td>2006</td>\n",
              "      <td>WD</td>\n",
              "      <td>Abnorml</td>\n",
              "    </tr>\n",
              "    <tr>\n",
              "      <th>1457</th>\n",
              "      <td>2918</td>\n",
              "      <td>85</td>\n",
              "      <td>RL</td>\n",
              "      <td>62.00000</td>\n",
              "      <td>10441</td>\n",
              "      <td>Pave</td>\n",
              "      <td>NaN</td>\n",
              "      <td>Reg</td>\n",
              "      <td>Lvl</td>\n",
              "      <td>AllPub</td>\n",
              "      <td>...</td>\n",
              "      <td>0</td>\n",
              "      <td>0</td>\n",
              "      <td>NaN</td>\n",
              "      <td>MnPrv</td>\n",
              "      <td>Shed</td>\n",
              "      <td>700</td>\n",
              "      <td>7</td>\n",
              "      <td>2006</td>\n",
              "      <td>WD</td>\n",
              "      <td>Normal</td>\n",
              "    </tr>\n",
              "    <tr>\n",
              "      <th>1458</th>\n",
              "      <td>2919</td>\n",
              "      <td>60</td>\n",
              "      <td>RL</td>\n",
              "      <td>74.00000</td>\n",
              "      <td>9627</td>\n",
              "      <td>Pave</td>\n",
              "      <td>NaN</td>\n",
              "      <td>Reg</td>\n",
              "      <td>Lvl</td>\n",
              "      <td>AllPub</td>\n",
              "      <td>...</td>\n",
              "      <td>0</td>\n",
              "      <td>0</td>\n",
              "      <td>NaN</td>\n",
              "      <td>NaN</td>\n",
              "      <td>NaN</td>\n",
              "      <td>0</td>\n",
              "      <td>11</td>\n",
              "      <td>2006</td>\n",
              "      <td>WD</td>\n",
              "      <td>Normal</td>\n",
              "    </tr>\n",
              "  </tbody>\n",
              "</table>\n",
              "<p>2917 rows × 80 columns</p>\n",
              "</div>\n",
              "      <button class=\"colab-df-convert\" onclick=\"convertToInteractive('df-66871ec9-a0c0-4b3e-98a9-f49408135af5')\"\n",
              "              title=\"Convert this dataframe to an interactive table.\"\n",
              "              style=\"display:none;\">\n",
              "        \n",
              "  <svg xmlns=\"http://www.w3.org/2000/svg\" height=\"24px\"viewBox=\"0 0 24 24\"\n",
              "       width=\"24px\">\n",
              "    <path d=\"M0 0h24v24H0V0z\" fill=\"none\"/>\n",
              "    <path d=\"M18.56 5.44l.94 2.06.94-2.06 2.06-.94-2.06-.94-.94-2.06-.94 2.06-2.06.94zm-11 1L8.5 8.5l.94-2.06 2.06-.94-2.06-.94L8.5 2.5l-.94 2.06-2.06.94zm10 10l.94 2.06.94-2.06 2.06-.94-2.06-.94-.94-2.06-.94 2.06-2.06.94z\"/><path d=\"M17.41 7.96l-1.37-1.37c-.4-.4-.92-.59-1.43-.59-.52 0-1.04.2-1.43.59L10.3 9.45l-7.72 7.72c-.78.78-.78 2.05 0 2.83L4 21.41c.39.39.9.59 1.41.59.51 0 1.02-.2 1.41-.59l7.78-7.78 2.81-2.81c.8-.78.8-2.07 0-2.86zM5.41 20L4 18.59l7.72-7.72 1.47 1.35L5.41 20z\"/>\n",
              "  </svg>\n",
              "      </button>\n",
              "      \n",
              "  <style>\n",
              "    .colab-df-container {\n",
              "      display:flex;\n",
              "      flex-wrap:wrap;\n",
              "      gap: 12px;\n",
              "    }\n",
              "\n",
              "    .colab-df-convert {\n",
              "      background-color: #E8F0FE;\n",
              "      border: none;\n",
              "      border-radius: 50%;\n",
              "      cursor: pointer;\n",
              "      display: none;\n",
              "      fill: #1967D2;\n",
              "      height: 32px;\n",
              "      padding: 0 0 0 0;\n",
              "      width: 32px;\n",
              "    }\n",
              "\n",
              "    .colab-df-convert:hover {\n",
              "      background-color: #E2EBFA;\n",
              "      box-shadow: 0px 1px 2px rgba(60, 64, 67, 0.3), 0px 1px 3px 1px rgba(60, 64, 67, 0.15);\n",
              "      fill: #174EA6;\n",
              "    }\n",
              "\n",
              "    [theme=dark] .colab-df-convert {\n",
              "      background-color: #3B4455;\n",
              "      fill: #D2E3FC;\n",
              "    }\n",
              "\n",
              "    [theme=dark] .colab-df-convert:hover {\n",
              "      background-color: #434B5C;\n",
              "      box-shadow: 0px 1px 3px 1px rgba(0, 0, 0, 0.15);\n",
              "      filter: drop-shadow(0px 1px 2px rgba(0, 0, 0, 0.3));\n",
              "      fill: #FFFFFF;\n",
              "    }\n",
              "  </style>\n",
              "\n",
              "      <script>\n",
              "        const buttonEl =\n",
              "          document.querySelector('#df-66871ec9-a0c0-4b3e-98a9-f49408135af5 button.colab-df-convert');\n",
              "        buttonEl.style.display =\n",
              "          google.colab.kernel.accessAllowed ? 'block' : 'none';\n",
              "\n",
              "        async function convertToInteractive(key) {\n",
              "          const element = document.querySelector('#df-66871ec9-a0c0-4b3e-98a9-f49408135af5');\n",
              "          const dataTable =\n",
              "            await google.colab.kernel.invokeFunction('convertToInteractive',\n",
              "                                                     [key], {});\n",
              "          if (!dataTable) return;\n",
              "\n",
              "          const docLinkHtml = 'Like what you see? Visit the ' +\n",
              "            '<a target=\"_blank\" href=https://colab.research.google.com/notebooks/data_table.ipynb>data table notebook</a>'\n",
              "            + ' to learn more about interactive tables.';\n",
              "          element.innerHTML = '';\n",
              "          dataTable['output_type'] = 'display_data';\n",
              "          await google.colab.output.renderOutput(dataTable, element);\n",
              "          const docLink = document.createElement('div');\n",
              "          docLink.innerHTML = docLinkHtml;\n",
              "          element.appendChild(docLink);\n",
              "        }\n",
              "      </script>\n",
              "    </div>\n",
              "  </div>\n",
              "  "
            ]
          },
          "metadata": {},
          "execution_count": 840
        }
      ]
    },
    {
      "cell_type": "markdown",
      "source": [
        "Plan of attack\n",
        "* Analysis\n",
        "* Clean up\n",
        "  * Nulls\n",
        "  * Outlier values\n",
        "* Feature engineering\n",
        "* Numericals to categoricals\n",
        "* Ordinals\n",
        "* Do some correlation and pairplotting\n",
        "* Drop columns\n",
        "  * Use the xnum threshold method\n",
        "* Preprocessing\n",
        "  * Transforming\n",
        "  * Scaling\n",
        "  * Encoding\n",
        "* Regression and analysis"
      ],
      "metadata": {
        "id": "8pUCWeAqJpuY"
      }
    },
    {
      "cell_type": "markdown",
      "source": [
        "# Analysis"
      ],
      "metadata": {
        "id": "t5x70hrFKZG3"
      }
    },
    {
      "cell_type": "code",
      "source": [
        "x.info()"
      ],
      "metadata": {
        "colab": {
          "base_uri": "https://localhost:8080/"
        },
        "id": "WdYQtgINJfSN",
        "outputId": "6dbe126f-d2b1-415a-c214-61ea6fad8732"
      },
      "execution_count": 841,
      "outputs": [
        {
          "output_type": "stream",
          "name": "stdout",
          "text": [
            "<class 'pandas.core.frame.DataFrame'>\n",
            "Int64Index: 2917 entries, 0 to 1458\n",
            "Data columns (total 80 columns):\n",
            " #   Column         Non-Null Count  Dtype  \n",
            "---  ------         --------------  -----  \n",
            " 0   Id             2917 non-null   int64  \n",
            " 1   MSSubClass     2917 non-null   int64  \n",
            " 2   MSZoning       2913 non-null   object \n",
            " 3   LotFrontage    2431 non-null   float64\n",
            " 4   LotArea        2917 non-null   int64  \n",
            " 5   Street         2917 non-null   object \n",
            " 6   Alley          198 non-null    object \n",
            " 7   LotShape       2917 non-null   object \n",
            " 8   LandContour    2917 non-null   object \n",
            " 9   Utilities      2915 non-null   object \n",
            " 10  LotConfig      2917 non-null   object \n",
            " 11  LandSlope      2917 non-null   object \n",
            " 12  Neighborhood   2917 non-null   object \n",
            " 13  Condition1     2917 non-null   object \n",
            " 14  Condition2     2917 non-null   object \n",
            " 15  BldgType       2917 non-null   object \n",
            " 16  HouseStyle     2917 non-null   object \n",
            " 17  OverallQual    2917 non-null   int64  \n",
            " 18  OverallCond    2917 non-null   int64  \n",
            " 19  YearBuilt      2917 non-null   int64  \n",
            " 20  YearRemodAdd   2917 non-null   int64  \n",
            " 21  RoofStyle      2917 non-null   object \n",
            " 22  RoofMatl       2917 non-null   object \n",
            " 23  Exterior1st    2916 non-null   object \n",
            " 24  Exterior2nd    2916 non-null   object \n",
            " 25  MasVnrType     2893 non-null   object \n",
            " 26  MasVnrArea     2894 non-null   float64\n",
            " 27  ExterQual      2917 non-null   object \n",
            " 28  ExterCond      2917 non-null   object \n",
            " 29  Foundation     2917 non-null   object \n",
            " 30  BsmtQual       2836 non-null   object \n",
            " 31  BsmtCond       2835 non-null   object \n",
            " 32  BsmtExposure   2835 non-null   object \n",
            " 33  BsmtFinType1   2838 non-null   object \n",
            " 34  BsmtFinSF1     2916 non-null   float64\n",
            " 35  BsmtFinType2   2837 non-null   object \n",
            " 36  BsmtFinSF2     2916 non-null   float64\n",
            " 37  BsmtUnfSF      2916 non-null   float64\n",
            " 38  TotalBsmtSF    2916 non-null   float64\n",
            " 39  Heating        2917 non-null   object \n",
            " 40  HeatingQC      2917 non-null   object \n",
            " 41  CentralAir     2917 non-null   object \n",
            " 42  Electrical     2916 non-null   object \n",
            " 43  1stFlrSF       2917 non-null   int64  \n",
            " 44  2ndFlrSF       2917 non-null   int64  \n",
            " 45  LowQualFinSF   2917 non-null   int64  \n",
            " 46  GrLivArea      2917 non-null   int64  \n",
            " 47  BsmtFullBath   2915 non-null   float64\n",
            " 48  BsmtHalfBath   2915 non-null   float64\n",
            " 49  FullBath       2917 non-null   int64  \n",
            " 50  HalfBath       2917 non-null   int64  \n",
            " 51  BedroomAbvGr   2917 non-null   int64  \n",
            " 52  KitchenAbvGr   2917 non-null   int64  \n",
            " 53  KitchenQual    2916 non-null   object \n",
            " 54  TotRmsAbvGrd   2917 non-null   int64  \n",
            " 55  Functional     2915 non-null   object \n",
            " 56  Fireplaces     2917 non-null   int64  \n",
            " 57  FireplaceQu    1497 non-null   object \n",
            " 58  GarageType     2760 non-null   object \n",
            " 59  GarageYrBlt    2758 non-null   float64\n",
            " 60  GarageFinish   2758 non-null   object \n",
            " 61  GarageCars     2916 non-null   float64\n",
            " 62  GarageArea     2916 non-null   float64\n",
            " 63  GarageQual     2758 non-null   object \n",
            " 64  GarageCond     2758 non-null   object \n",
            " 65  PavedDrive     2917 non-null   object \n",
            " 66  WoodDeckSF     2917 non-null   int64  \n",
            " 67  OpenPorchSF    2917 non-null   int64  \n",
            " 68  EnclosedPorch  2917 non-null   int64  \n",
            " 69  3SsnPorch      2917 non-null   int64  \n",
            " 70  ScreenPorch    2917 non-null   int64  \n",
            " 71  PoolArea       2917 non-null   int64  \n",
            " 72  PoolQC         9 non-null      object \n",
            " 73  Fence          571 non-null    object \n",
            " 74  MiscFeature    105 non-null    object \n",
            " 75  MiscVal        2917 non-null   int64  \n",
            " 76  MoSold         2917 non-null   int64  \n",
            " 77  YrSold         2917 non-null   int64  \n",
            " 78  SaleType       2916 non-null   object \n",
            " 79  SaleCondition  2917 non-null   object \n",
            "dtypes: float64(11), int64(26), object(43)\n",
            "memory usage: 1.8+ MB\n"
          ]
        }
      ]
    },
    {
      "cell_type": "code",
      "source": [
        "y.hist(bins = 20)"
      ],
      "metadata": {
        "colab": {
          "base_uri": "https://localhost:8080/",
          "height": 333
        },
        "id": "Qx3R-vKQKq8C",
        "outputId": "a2065dff-2efa-4d5a-d719-58c0433846fa"
      },
      "execution_count": 842,
      "outputs": [
        {
          "output_type": "execute_result",
          "data": {
            "text/plain": [
              "array([[<matplotlib.axes._subplots.AxesSubplot object at 0x7fc924e00410>]],\n",
              "      dtype=object)"
            ]
          },
          "metadata": {},
          "execution_count": 842
        },
        {
          "output_type": "display_data",
          "data": {
            "text/plain": [
              "<Figure size 432x288 with 1 Axes>"
            ],
            "image/png": "[encoded data removed]"
          },
          "metadata": {
            "needs_background": "light"
          }
        }
      ]
    },
    {
      "cell_type": "markdown",
      "source": [
        "Correlations"
      ],
      "metadata": {
        "id": "f5I5NXRuKYl1"
      }
    },
    {
      "cell_type": "code",
      "source": [
        "# plt.figure(figsize =(30,10))\n",
        "# heatmap = sns.heatmap(train.corr(), annot=True, vmin = -1, vmax = 1, cmap = 'BrBG')"
      ],
      "metadata": {
        "id": "38vJVlLxOysL"
      },
      "execution_count": 843,
      "outputs": []
    },
    {
      "cell_type": "markdown",
      "source": [
        "## Clean up"
      ],
      "metadata": {
        "id": "CfT8kjhqKYhW"
      }
    },
    {
      "cell_type": "markdown",
      "source": [
        "#### Clean up columns where nulls = 'none'\n",
        "\n",
        "* PoolQC - 'No pool'\n",
        "* Fence - 'No fence'\n",
        "* MiscFeature - 'No feature'\n",
        "* Alley - 'No alley'\n",
        "* BsmtQual - 'No basement'\n",
        "* BsmtCond - 'No basement'\n",
        "* BsmtExposure - 'No basement'\n",
        "* BsmtFinType1 - 'No basement'\n",
        "* BsmtFinType2 - 'No basement'\n",
        "* FireplaceQu - 'No fireplace'\n",
        "* GarageType - 'No garage'\n",
        "* GarageYrBlt - 'No garage'\n",
        "* GarageQual - 'No garage'\n",
        "* GarageCond - 'No garage'\n"
      ],
      "metadata": {
        "id": "ZjdHd16hc1_d"
      }
    },
    {
      "cell_type": "code",
      "source": [
        "x.isnull().sum().sum()"
      ],
      "metadata": {
        "colab": {
          "base_uri": "https://localhost:8080/"
        },
        "id": "5Uc9TmL994pw",
        "outputId": "b36a17b6-3126-4d05-c87a-ffd9d94c823d"
      },
      "execution_count": 844,
      "outputs": [
        {
          "output_type": "execute_result",
          "data": {
            "text/plain": [
              "13958"
            ]
          },
          "metadata": {},
          "execution_count": 844
        }
      ]
    },
    {
      "cell_type": "code",
      "source": [
        "x.PoolQC.fillna('Not present', inplace=True) # PoolQC \n",
        "x.Fence.fillna('Not present', inplace=True) # Fence\n",
        "x.MiscFeature.fillna('Not present', inplace=True) # MiscFeature\n",
        "x.Alley.fillna('Not present', inplace=True) # Alley\n",
        "x.BsmtQual.fillna('Not present', inplace=True) # BsmtQual\n",
        "x.BsmtCond.fillna('Not present', inplace=True) # BsmtCond\n",
        "x.BsmtExposure.fillna('Not present', inplace=True) # BsmtExposure\n",
        "x.BsmtFinType1.fillna('Not present', inplace=True) # BsmtFinType1\n",
        "x.BsmtFinType2.fillna('Not present', inplace=True) # BsmtFinType2\n",
        "x.FireplaceQu.fillna('Not present', inplace=True) # FireplaceQu\n",
        "x.GarageType.fillna('Not present', inplace=True) # GarageType\n",
        "x.GarageYrBlt.fillna('Not present', inplace=True) # GarageYrBlt\n",
        "x.GarageQual.fillna('Not present', inplace=True) # GarageQual\n",
        "x.GarageCond.fillna('Not present', inplace=True) # GarageCond\n",
        "x.GarageFinish.fillna('Not present', inplace=True) # GarageFinish"
      ],
      "metadata": {
        "id": "gOolCJu07f6M"
      },
      "execution_count": 845,
      "outputs": []
    },
    {
      "cell_type": "code",
      "source": [
        "x.isnull().sum().sum()"
      ],
      "metadata": {
        "colab": {
          "base_uri": "https://localhost:8080/"
        },
        "id": "_IZOQTQ8-AfP",
        "outputId": "16cf2bf1-5e24-468f-8d17-26802246946d"
      },
      "execution_count": 846,
      "outputs": [
        {
          "output_type": "execute_result",
          "data": {
            "text/plain": [
              "556"
            ]
          },
          "metadata": {},
          "execution_count": 846
        }
      ]
    },
    {
      "cell_type": "markdown",
      "source": [
        "### Filling in nulls"
      ],
      "metadata": {
        "id": "a_DTyJPLgzxf"
      }
    },
    {
      "cell_type": "code",
      "source": [
        "isnull = x.isnull().sum().sort_values(ascending=False)\n",
        "isnull = isnull[isnull > 0]\n",
        "isnull"
      ],
      "metadata": {
        "colab": {
          "base_uri": "https://localhost:8080/"
        },
        "id": "M1jQi_8Eg1RT",
        "outputId": "cc0d1c7e-7241-46f3-eeaa-58588ee66941"
      },
      "execution_count": 847,
      "outputs": [
        {
          "output_type": "execute_result",
          "data": {
            "text/plain": [
              "LotFrontage     486\n",
              "MasVnrType       24\n",
              "MasVnrArea       23\n",
              "MSZoning          4\n",
              "BsmtFullBath      2\n",
              "BsmtHalfBath      2\n",
              "Functional        2\n",
              "Utilities         2\n",
              "BsmtFinSF1        1\n",
              "Exterior2nd       1\n",
              "BsmtFinSF2        1\n",
              "KitchenQual       1\n",
              "GarageArea        1\n",
              "BsmtUnfSF         1\n",
              "TotalBsmtSF       1\n",
              "Electrical        1\n",
              "GarageCars        1\n",
              "Exterior1st       1\n",
              "SaleType          1\n",
              "dtype: int64"
            ]
          },
          "metadata": {},
          "execution_count": 847
        }
      ]
    },
    {
      "cell_type": "code",
      "source": [
        "isnull_under_100 = isnull[isnull < 100]\n",
        "list_isnull_under_100 = isnull_under_100.index.tolist()\n",
        "\n",
        "list_isnull_under_100"
      ],
      "metadata": {
        "colab": {
          "base_uri": "https://localhost:8080/"
        },
        "id": "y0qaoyKAjcZS",
        "outputId": "26807e3f-c15f-49a9-ba71-21799ba9848a"
      },
      "execution_count": 848,
      "outputs": [
        {
          "output_type": "execute_result",
          "data": {
            "text/plain": [
              "['MasVnrType',\n",
              " 'MasVnrArea',\n",
              " 'MSZoning',\n",
              " 'BsmtFullBath',\n",
              " 'BsmtHalfBath',\n",
              " 'Functional',\n",
              " 'Utilities',\n",
              " 'BsmtFinSF1',\n",
              " 'Exterior2nd',\n",
              " 'BsmtFinSF2',\n",
              " 'KitchenQual',\n",
              " 'GarageArea',\n",
              " 'BsmtUnfSF',\n",
              " 'TotalBsmtSF',\n",
              " 'Electrical',\n",
              " 'GarageCars',\n",
              " 'Exterior1st',\n",
              " 'SaleType']"
            ]
          },
          "metadata": {},
          "execution_count": 848
        }
      ]
    },
    {
      "cell_type": "code",
      "source": [
        "for i in list_isnull_under_100:\n",
        "  try:\n",
        "    x[i].fillna(x[i].median()[0], inplace=True)\n",
        "  except:\n",
        "    x[i].fillna(x[i].mode()[0], inplace=True)"
      ],
      "metadata": {
        "id": "h1mtxueukQ4i"
      },
      "execution_count": 849,
      "outputs": []
    },
    {
      "cell_type": "code",
      "source": [
        "isnull = x.isnull().sum().sort_values(ascending=False)\n",
        "isnull = isnull[isnull > 0]\n",
        "isnull"
      ],
      "metadata": {
        "colab": {
          "base_uri": "https://localhost:8080/"
        },
        "id": "v1APtEx7lFW1",
        "outputId": "12b534fa-2928-47ab-d7fa-94468f9712eb"
      },
      "execution_count": 850,
      "outputs": [
        {
          "output_type": "execute_result",
          "data": {
            "text/plain": [
              "LotFrontage    486\n",
              "dtype: int64"
            ]
          },
          "metadata": {},
          "execution_count": 850
        }
      ]
    },
    {
      "cell_type": "code",
      "source": [
        "x.groupby('LotConfig')['LotFrontage'].median()"
      ],
      "metadata": {
        "colab": {
          "base_uri": "https://localhost:8080/"
        },
        "id": "xg9YmCLMmWJy",
        "outputId": "fed20584-8687-45a4-f75a-066d2ac93f0a"
      },
      "execution_count": 851,
      "outputs": [
        {
          "output_type": "execute_result",
          "data": {
            "text/plain": [
              "LotConfig\n",
              "Corner    80.00000\n",
              "CulDSac   50.00000\n",
              "FR2       62.00000\n",
              "FR3       66.00000\n",
              "Inside    66.00000\n",
              "Name: LotFrontage, dtype: float64"
            ]
          },
          "metadata": {},
          "execution_count": 851
        }
      ]
    },
    {
      "cell_type": "code",
      "source": [
        "x.LotFrontage.fillna(x.groupby('LotConfig')['LotFrontage'].transform('median'),inplace=True)"
      ],
      "metadata": {
        "id": "p3lkStWQoEET"
      },
      "execution_count": 852,
      "outputs": []
    },
    {
      "cell_type": "code",
      "source": [
        "isnull = x.isnull().sum().sort_values(ascending=False)\n",
        "isnull = isnull[isnull > 0]\n",
        "isnull"
      ],
      "metadata": {
        "colab": {
          "base_uri": "https://localhost:8080/"
        },
        "id": "46d6FWUho0jP",
        "outputId": "15139b80-50a3-4ac3-8428-030a96b1735f"
      },
      "execution_count": 853,
      "outputs": [
        {
          "output_type": "execute_result",
          "data": {
            "text/plain": [
              "Series([], dtype: int64)"
            ]
          },
          "metadata": {},
          "execution_count": 853
        }
      ]
    },
    {
      "cell_type": "markdown",
      "source": [
        "### Looking for outliers"
      ],
      "metadata": {
        "id": "s8miaXO_xmth"
      }
    },
    {
      "cell_type": "markdown",
      "source": [
        "### Fix some categoricals\n",
        "* CentralAir: make it 1 and 0"
      ],
      "metadata": {
        "id": "ce5grZK1aJrd"
      }
    },
    {
      "cell_type": "code",
      "source": [
        "x['CentralAir'] = x['CentralAir'].apply(lambda x: 1 if x == 'Y' else 0)"
      ],
      "metadata": {
        "id": "5ShSvDGBafOX"
      },
      "execution_count": 854,
      "outputs": []
    },
    {
      "cell_type": "code",
      "source": [
        "x['CentralAir'] = x['CentralAir'].astype('object')"
      ],
      "metadata": {
        "id": "wuU7CVb6byKd"
      },
      "execution_count": 855,
      "outputs": []
    },
    {
      "cell_type": "markdown",
      "source": [
        "# Feature Engineering"
      ],
      "metadata": {
        "id": "9ouDOqZV0sDX"
      }
    },
    {
      "cell_type": "markdown",
      "source": [
        "#### Features to engineer\n",
        "1. Total square footage (sum all of the sq fts)\n",
        "1.  Total # of bathrooms\n",
        "1.  Total porch sq\n",
        "1.  Does it have a pool?\n",
        "1.  Does it have a 2nd floor?\n",
        "1. Does it have a garage\n",
        "1. Does it have a basement?\n",
        "1. Does it have a fireplace?"
      ],
      "metadata": {
        "id": "K8X1U31m3Iby"
      }
    },
    {
      "cell_type": "code",
      "source": [
        "# Total square footage\n",
        "x['TotalLivableSF'] = x['1stFlrSF'] + x['2ndFlrSF'] + x['BsmtFinSF1'] + x['BsmtFinSF2']"
      ],
      "metadata": {
        "id": "gTGMMIoOAIyN"
      },
      "execution_count": 856,
      "outputs": []
    },
    {
      "cell_type": "code",
      "source": [
        "# Total # of bathrooms\n",
        "x['TotalBaths'] = x['BsmtFullBath'] + (x['BsmtHalfBath'] * .5) + x['FullBath'] + (x['HalfBath'] * .5)"
      ],
      "metadata": {
        "id": "cRMim6_kAItO"
      },
      "execution_count": 857,
      "outputs": []
    },
    {
      "cell_type": "code",
      "source": [
        "# Total porch square footage\n",
        "x[\"TotalPorchSF\"] = x.WoodDeckSF + x.OpenPorchSF + x.EnclosedPorch + x['3SsnPorch']"
      ],
      "metadata": {
        "id": "176CEsI3AInZ"
      },
      "execution_count": 858,
      "outputs": []
    },
    {
      "cell_type": "code",
      "source": [
        "# Does it have a pool (2906)\n",
        "x['HasPool'] = x['PoolArea'].apply(lambda x: 1 if x >0 else 0).astype('category')"
      ],
      "metadata": {
        "id": "f7f9v06dAIgc"
      },
      "execution_count": 859,
      "outputs": []
    },
    {
      "cell_type": "code",
      "source": [
        "# Does it have a 2nd floor\n",
        "x['Has2ndFloor'] = x['2ndFlrSF'].apply(lambda x: 1 if x > 0 else 0).astype('category')"
      ],
      "metadata": {
        "id": "yWAjZHbpAIdv"
      },
      "execution_count": 860,
      "outputs": []
    },
    {
      "cell_type": "code",
      "source": [
        "# Does it have a garage\n",
        "x['HasGarage'] = x['GarageArea'].apply(lambda x: 1 if x > 0 else 0).astype('category')"
      ],
      "metadata": {
        "id": "almg6RS2AIbG"
      },
      "execution_count": 861,
      "outputs": []
    },
    {
      "cell_type": "code",
      "source": [
        "# Does it have a basement\n",
        "x['HasBasement'] = x['TotalBsmtSF'].apply(lambda x: 1 if x > 0 else 0).astype('category')"
      ],
      "metadata": {
        "id": "O-FhAS20AIYc"
      },
      "execution_count": 862,
      "outputs": []
    },
    {
      "cell_type": "code",
      "source": [
        "# Does it have a fireplace?\n",
        "x['HasFireplace'] = x['Fireplaces'].apply(lambda x: 1 if x > 0 else 0).astype('category')"
      ],
      "metadata": {
        "id": "_g-dkkmvAIVo"
      },
      "execution_count": 863,
      "outputs": []
    },
    {
      "cell_type": "markdown",
      "source": [
        "# Preprocessing"
      ],
      "metadata": {
        "id": "g5y_HozbKYem"
      }
    },
    {
      "cell_type": "markdown",
      "source": [
        "## Changing objects to numericals"
      ],
      "metadata": {
        "id": "5uICc30e2WO_"
      }
    },
    {
      "cell_type": "code",
      "source": [
        "xcat = x.select_dtypes(include='object')"
      ],
      "metadata": {
        "id": "kRGOjm1G2IIY"
      },
      "execution_count": 864,
      "outputs": []
    },
    {
      "cell_type": "markdown",
      "source": [
        "## Changing quality values to numbers\n",
        "* These are features with \"Ex, Gd, TA, FA, PO, NA\"\n",
        "  * ExterQual\n",
        "  * ExterCond\n",
        "  * BsmtQual\n",
        "  * BsmtCond\n",
        "  * HeatingQC\n",
        "  * KitchenQual\n",
        "  * FireplaceQu\n",
        "  * GarageQual\n",
        "  * GarageCond\n",
        "  * PoolQC\n",
        "* These have \"GLQ, ALQ, BLQ, Rec, LwQ, Unf, NA\"\n",
        "  * BsmtFinType1\n",
        "  * BsmtFinType2\n",
        "* Functional Deduction\n"
      ],
      "metadata": {
        "id": "albDSGFMeX32"
      }
    },
    {
      "cell_type": "code",
      "source": [
        "# # Changing all of the columns with \"Ex, Gd, TA, FA, PO, NA\"\n",
        "# qual_dict = {\n",
        "#             \"Ex\": '6',\n",
        "#             \"Gd\": '5',\n",
        "#             \"TA\": '4',\n",
        "#             \"Fa\": '3',\n",
        "#             \"Po\": '2', \n",
        "#             \"Not present\": '1'\n",
        "#             }\n",
        "\n",
        "# x.replace({'ExterQual': qual_dict}, inplace=True)\n",
        "# x.replace({'ExterCond': qual_dict}, inplace=True)\n",
        "# x.replace({'BsmtQual': qual_dict}, inplace=True)\n",
        "# x.replace({'BsmtCond': qual_dict}, inplace=True)\n",
        "# x.replace({'HeatingQC': qual_dict}, inplace=True)\n",
        "# x.replace({'KitchenQual': qual_dict}, inplace=True)\n",
        "# x.replace({'FireplaceQu': qual_dict}, inplace=True)\n",
        "# x.replace({'GarageQual': qual_dict}, inplace=True)\n",
        "# x.replace({'GarageCond': qual_dict}, inplace=True)\n",
        "# x.replace({'PoolQC': qual_dict}, inplace=True)\n",
        "\n",
        "# x.ExterQual = x.ExterQual.astype('int')\n",
        "# x.ExterCond = x.ExterCond.astype('int')\n",
        "# x.BsmtQual = x.BsmtQual.astype('int')\n",
        "# x.BsmtCond = x.BsmtCond.astype('int')\n",
        "# x.HeatingQC = x.HeatingQC.astype('int')\n",
        "# x.KitchenQual = x.KitchenQual.astype('int')\n",
        "# x.FireplaceQu = x.FireplaceQu.astype('int')\n",
        "# x.GarageQual = x.GarageQual.astype('int')\n",
        "# x.GarageCond = x.GarageCond.astype('int')\n",
        "# x.PoolQC = x.PoolQC.astype('int')"
      ],
      "metadata": {
        "id": "uRGZ9N8jhUny"
      },
      "execution_count": 865,
      "outputs": []
    },
    {
      "cell_type": "code",
      "source": [
        "# # Changing the Basement Finishes\n",
        "# fin_dict = {\n",
        "#             \"GLQ\":'7',\n",
        "#             \"ALQ\":'6',\n",
        "#             \"BLQ\":'5',\n",
        "#             \"Rec\":'4',\n",
        "#             \"LwQ\":'3',\n",
        "#             \"Unf\":'2',\n",
        "#             \"Not present\":'1'\n",
        "#             }\n",
        "\n",
        "# x.replace({'BsmtFinType1': fin_dict}, inplace=True)\n",
        "# x.replace({'BsmtFinType2': fin_dict}, inplace=True)\n",
        "\n",
        "# x.BsmtFinType1 = x.BsmtFinType1.astype('int')\n",
        "# x.BsmtFinType2 = x.BsmtFinType2.astype('int')"
      ],
      "metadata": {
        "id": "gLwfYnyOlWof"
      },
      "execution_count": 866,
      "outputs": []
    },
    {
      "cell_type": "code",
      "source": [
        "# # Change basement exposure\n",
        "# exp_dict = {\n",
        "#             \"Gd\":'5',\n",
        "#             \"Av\":'4',\n",
        "#             \"Mn\":'3',\n",
        "#             \"No\":'2',\n",
        "#             \"Not present\":'1'\n",
        "#             }\n",
        "\n",
        "# x.replace({'BsmtExposure': exp_dict}, inplace=True)\n",
        "\n",
        "# x.BsmtExposure = x.BsmtExposure.astype('int')"
      ],
      "metadata": {
        "id": "3CZ3Of2FmIV5"
      },
      "execution_count": 867,
      "outputs": []
    },
    {
      "cell_type": "code",
      "source": [
        "# Functional category\n",
        "# func_dict = {\n",
        "#             \"Typ\":'8',\n",
        "#             \"Min1\":'7',\n",
        "#             \"Min2\":'6',\n",
        "#             \"Mod\":'5',\n",
        "#             \"Maj1\":'4',\n",
        "#             \"Maj2\":'3',\n",
        "#             \"Sev\":'2',\n",
        "#             \"Sal\":'1'\n",
        "#             }\n",
        "\n",
        "# x.replace({'Functional': func_dict}, inplace=True)\n",
        "# x.Functional = x.Functional.astype('int')"
      ],
      "metadata": {
        "id": "vauWMBsFm3sK"
      },
      "execution_count": 868,
      "outputs": []
    },
    {
      "cell_type": "markdown",
      "source": [
        "## Changing numericals to objects\n",
        "* Change MSSubClass to categoricals. The numbers are codes, not ordered.\n",
        "* Change YrSold and MoSold. Those aren't ordered\n"
      ],
      "metadata": {
        "id": "um43V7jw2faX"
      }
    },
    {
      "cell_type": "code",
      "source": [
        "xnum = x.select_dtypes(include = 'number')"
      ],
      "metadata": {
        "id": "QxyJemCR1Vv0"
      },
      "execution_count": 869,
      "outputs": []
    },
    {
      "cell_type": "code",
      "source": [
        "# Changing MSSubClass to categoricals\n",
        "x['MSSubClass'] = x[\"MSSubClass\"].astype('object')"
      ],
      "metadata": {
        "id": "YUekVdJ2VuXe"
      },
      "execution_count": 870,
      "outputs": []
    },
    {
      "cell_type": "code",
      "source": [
        "# Changing YrSold to categoricals\n",
        "x['YrSold'] = x[\"YrSold\"].astype('object')"
      ],
      "metadata": {
        "id": "A9rPTgHhbOyq"
      },
      "execution_count": 871,
      "outputs": []
    },
    {
      "cell_type": "code",
      "source": [
        "# Changing MoSold to categoricals\n",
        "x['MoSold'] = x[\"MoSold\"].astype('object')"
      ],
      "metadata": {
        "id": "r-6ObnvEbOmJ"
      },
      "execution_count": 872,
      "outputs": []
    },
    {
      "cell_type": "code",
      "source": [
        "xnum = x.select_dtypes(include = 'number')"
      ],
      "metadata": {
        "id": "VCeRED2Ta9ND"
      },
      "execution_count": 873,
      "outputs": []
    },
    {
      "cell_type": "markdown",
      "source": [
        "## Transforming"
      ],
      "metadata": {
        "id": "ZgzezACQKfLs"
      }
    },
    {
      "cell_type": "code",
      "source": [
        "xnum_to_transform = []\n",
        "skew_threshold = .5\n",
        "\n",
        "for (xcolname, xcol) in xnum.iteritems():\n",
        "  skew = xcol.skew()\n",
        "  if abs(skew) > skew_threshold:\n",
        "    xnum_to_transform.append(xcolname)\n",
        "\n",
        "len(xnum_to_transform)"
      ],
      "metadata": {
        "colab": {
          "base_uri": "https://localhost:8080/"
        },
        "id": "6P3ZC079ep4Q",
        "outputId": "7ae8d00a-3784-4e65-f2c4-9ae6f2e67f89"
      },
      "execution_count": 874,
      "outputs": [
        {
          "output_type": "execute_result",
          "data": {
            "text/plain": [
              "28"
            ]
          },
          "metadata": {},
          "execution_count": 874
        }
      ]
    },
    {
      "cell_type": "code",
      "source": [
        "xnum_to_transform"
      ],
      "metadata": {
        "colab": {
          "base_uri": "https://localhost:8080/"
        },
        "id": "Mgz2640IghIp",
        "outputId": "626528c3-7daf-4327-f0f8-196ea891e130"
      },
      "execution_count": 875,
      "outputs": [
        {
          "output_type": "execute_result",
          "data": {
            "text/plain": [
              "['LotFrontage',\n",
              " 'LotArea',\n",
              " 'OverallCond',\n",
              " 'YearBuilt',\n",
              " 'MasVnrArea',\n",
              " 'BsmtFinSF1',\n",
              " 'BsmtFinSF2',\n",
              " 'BsmtUnfSF',\n",
              " 'TotalBsmtSF',\n",
              " '1stFlrSF',\n",
              " '2ndFlrSF',\n",
              " 'LowQualFinSF',\n",
              " 'GrLivArea',\n",
              " 'BsmtFullBath',\n",
              " 'BsmtHalfBath',\n",
              " 'HalfBath',\n",
              " 'KitchenAbvGr',\n",
              " 'TotRmsAbvGrd',\n",
              " 'Fireplaces',\n",
              " 'WoodDeckSF',\n",
              " 'OpenPorchSF',\n",
              " 'EnclosedPorch',\n",
              " '3SsnPorch',\n",
              " 'ScreenPorch',\n",
              " 'PoolArea',\n",
              " 'MiscVal',\n",
              " 'TotalLivableSF',\n",
              " 'TotalPorchSF']"
            ]
          },
          "metadata": {},
          "execution_count": 875
        }
      ]
    },
    {
      "cell_type": "code",
      "source": [
        "xnum_transformed_skews = pd.DataFrame()\n",
        "\n",
        "for i in xnum_to_transform:  # for loop across the xnums_to_transform\n",
        "  dict = {} # create a dictionary\n",
        "  try: \n",
        "    log_skew = np.log(x[i]).skew() # log transformation\n",
        "  except: \n",
        "    log_skew = 999\n",
        "  try: \n",
        "    sqrt_skew = np.sqrt(x[i]).skew() # sqrt transformation\n",
        "  except: \n",
        "    srt_skew_skew = 999\n",
        "  try:\n",
        "    inverse_skew = (1/x[i]).skew() # inverse transformation\n",
        "  except: \n",
        "    inverse_skew = 999\n",
        "  try: \n",
        "    boxcox_skew = pd.DataFrame(list(stats.boxcox(x[i])[0])).skew()[0] # boxcox transformation\n",
        "  except: \n",
        "    boxcox_skew = 999\n",
        "  try:\n",
        "    yj_skew = pd.DataFrame(list(stats.yeojohnson(x[i])[0])).skew()[0]# yj skew\n",
        "  except: \n",
        "    yj_skew = 999\n",
        "  dict['log skew'] = abs(log_skew) # append log to dict\n",
        "  dict['sqrt skew'] = abs(sqrt_skew) # append sqrt to dict\n",
        "  dict['inverse skew'] = abs(inverse_skew) # append inverted to dict\n",
        "  dict['boxcox skew'] = abs(boxcox_skew) # append boxcox to dict\n",
        "  dict['yj skew'] = abs(yj_skew) # append yj to dict\n",
        "  best_skew_key = min(dict, key = dict.get)\n",
        "  if best_skew_key == 'log skew':\n",
        "    x[i] = np.log(x[i])\n",
        "  elif best_skew_key == 'sqrt skew':\n",
        "    x[i] = np.sqrt(x[i])\n",
        "  elif best_skew_key == 'inverse skew':\n",
        "    x[i] = (1/x[i])\n",
        "  elif best_skew_key == 'boxcox skew':\n",
        "    x[i] = list(stats.boxcox(x[i])[0])\n",
        "  else:\n",
        "    x[i] = list(stats.yeojohnson(x[i])[0])\n",
        "  \n",
        "  #best_skew_val = min(dict.values())\n",
        "  #print(i, best_skew_key, \"{:.2f}\".format(best_skew_val))\n",
        "  \n",
        "  #print(i, best_skew) # determine which transformation had the lowest skew\n",
        "  # apply that transformation to the column"
      ],
      "metadata": {
        "id": "HxvAsax5gloX"
      },
      "execution_count": 876,
      "outputs": []
    },
    {
      "cell_type": "code",
      "source": [
        "xnum = x.select_dtypes(include = 'number')\n",
        "\n",
        "xnum_to_transform_2 = []\n",
        "skew_threshold = 0.60\n",
        "\n",
        "for (xcolname, xcol) in xnum.iteritems():\n",
        "  skew = xcol.skew()\n",
        "  if abs(skew) > skew_threshold:\n",
        "    xnum_to_transform_2.append(xcolname)\n",
        "\n",
        "len(xnum_to_transform_2)"
      ],
      "metadata": {
        "colab": {
          "base_uri": "https://localhost:8080/"
        },
        "id": "SpGgiVbQ04hk",
        "outputId": "33e0de6a-4a36-476d-d0fb-95185383d27c"
      },
      "execution_count": 877,
      "outputs": [
        {
          "output_type": "execute_result",
          "data": {
            "text/plain": [
              "9"
            ]
          },
          "metadata": {},
          "execution_count": 877
        }
      ]
    },
    {
      "cell_type": "code",
      "source": [
        "for i in xnum_to_transform_2:\n",
        "  skew = x[i].skew()\n",
        "  print(i, \"{:2f}\".format(skew))"
      ],
      "metadata": {
        "colab": {
          "base_uri": "https://localhost:8080/"
        },
        "id": "9dbwFmri1Icc",
        "outputId": "45e7a21a-2654-439d-a861-c371ea207894"
      },
      "execution_count": 878,
      "outputs": [
        {
          "output_type": "stream",
          "name": "stdout",
          "text": [
            "BsmtFinSF2 2.355281\n",
            "LowQualFinSF 8.367252\n",
            "BsmtHalfBath 3.707631\n",
            "KitchenAbvGr -2.063595\n",
            "EnclosedPorch 1.883004\n",
            "3SsnPorch 8.713711\n",
            "ScreenPorch 2.915386\n",
            "PoolArea 15.502729\n",
            "MiscVal 5.038164\n"
          ]
        }
      ]
    },
    {
      "cell_type": "markdown",
      "source": [
        "#### Dropping all of the high skew columns"
      ],
      "metadata": {
        "id": "JekArySN2M4h"
      }
    },
    {
      "cell_type": "code",
      "source": [
        "x.shape"
      ],
      "metadata": {
        "colab": {
          "base_uri": "https://localhost:8080/"
        },
        "id": "0y759ZIX2iTS",
        "outputId": "3d1da452-a20b-42c7-e7c9-8631d7e1a7bd"
      },
      "execution_count": 879,
      "outputs": [
        {
          "output_type": "execute_result",
          "data": {
            "text/plain": [
              "(2917, 88)"
            ]
          },
          "metadata": {},
          "execution_count": 879
        }
      ]
    },
    {
      "cell_type": "code",
      "source": [
        "#Dropping all of the high skew columns\n",
        "x.drop(columns=xnum_to_transform_2, inplace=True)"
      ],
      "metadata": {
        "id": "3W85_vPY1bpR"
      },
      "execution_count": 880,
      "outputs": []
    },
    {
      "cell_type": "code",
      "source": [
        "x.shape"
      ],
      "metadata": {
        "colab": {
          "base_uri": "https://localhost:8080/"
        },
        "id": "na-wKjJe2kvy",
        "outputId": "6141da81-9b10-4df8-9113-43ab5b3d7d99"
      },
      "execution_count": 881,
      "outputs": [
        {
          "output_type": "execute_result",
          "data": {
            "text/plain": [
              "(2917, 79)"
            ]
          },
          "metadata": {},
          "execution_count": 881
        }
      ]
    },
    {
      "cell_type": "markdown",
      "source": [
        "## Transforming Y.SalePrice"
      ],
      "metadata": {
        "id": "vuYlSxH_tX8l"
      }
    },
    {
      "cell_type": "code",
      "source": [
        "y.skew()"
      ],
      "metadata": {
        "colab": {
          "base_uri": "https://localhost:8080/"
        },
        "id": "5HSm7_97tZvi",
        "outputId": "8883bfeb-229a-4c8d-c961-747d55992e92"
      },
      "execution_count": 882,
      "outputs": [
        {
          "output_type": "execute_result",
          "data": {
            "text/plain": [
              "SalePrice   1.88130\n",
              "dtype: float64"
            ]
          },
          "metadata": {},
          "execution_count": 882
        }
      ]
    },
    {
      "cell_type": "code",
      "source": [
        "y.describe()"
      ],
      "metadata": {
        "colab": {
          "base_uri": "https://localhost:8080/",
          "height": 300
        },
        "id": "ME2y4BH8k4yo",
        "outputId": "0f759655-9d4b-4b69-c24b-80305dfec5a4"
      },
      "execution_count": 883,
      "outputs": [
        {
          "output_type": "execute_result",
          "data": {
            "text/plain": [
              "         SalePrice\n",
              "count   1458.00000\n",
              "mean  180932.91907\n",
              "std    79495.05528\n",
              "min    34900.00000\n",
              "25%   129925.00000\n",
              "50%   163000.00000\n",
              "75%   214000.00000\n",
              "max   755000.00000"
            ],
            "text/html": [
              "\n",
              "  <div id=\"df-ebba5a75-8699-4997-a312-08e7109e3b6e\">\n",
              "    <div class=\"colab-df-container\">\n",
              "      <div>\n",
              "<style scoped>\n",
              "    .dataframe tbody tr th:only-of-type {\n",
              "        vertical-align: middle;\n",
              "    }\n",
              "\n",
              "    .dataframe tbody tr th {\n",
              "        vertical-align: top;\n",
              "    }\n",
              "\n",
              "    .dataframe thead th {\n",
              "        text-align: right;\n",
              "    }\n",
              "</style>\n",
              "<table border=\"1\" class=\"dataframe\">\n",
              "  <thead>\n",
              "    <tr style=\"text-align: right;\">\n",
              "      <th></th>\n",
              "      <th>SalePrice</th>\n",
              "    </tr>\n",
              "  </thead>\n",
              "  <tbody>\n",
              "    <tr>\n",
              "      <th>count</th>\n",
              "      <td>1458.00000</td>\n",
              "    </tr>\n",
              "    <tr>\n",
              "      <th>mean</th>\n",
              "      <td>180932.91907</td>\n",
              "    </tr>\n",
              "    <tr>\n",
              "      <th>std</th>\n",
              "      <td>79495.05528</td>\n",
              "    </tr>\n",
              "    <tr>\n",
              "      <th>min</th>\n",
              "      <td>34900.00000</td>\n",
              "    </tr>\n",
              "    <tr>\n",
              "      <th>25%</th>\n",
              "      <td>129925.00000</td>\n",
              "    </tr>\n",
              "    <tr>\n",
              "      <th>50%</th>\n",
              "      <td>163000.00000</td>\n",
              "    </tr>\n",
              "    <tr>\n",
              "      <th>75%</th>\n",
              "      <td>214000.00000</td>\n",
              "    </tr>\n",
              "    <tr>\n",
              "      <th>max</th>\n",
              "      <td>755000.00000</td>\n",
              "    </tr>\n",
              "  </tbody>\n",
              "</table>\n",
              "</div>\n",
              "      <button class=\"colab-df-convert\" onclick=\"convertToInteractive('df-ebba5a75-8699-4997-a312-08e7109e3b6e')\"\n",
              "              title=\"Convert this dataframe to an interactive table.\"\n",
              "              style=\"display:none;\">\n",
              "        \n",
              "  <svg xmlns=\"http://www.w3.org/2000/svg\" height=\"24px\"viewBox=\"0 0 24 24\"\n",
              "       width=\"24px\">\n",
              "    <path d=\"M0 0h24v24H0V0z\" fill=\"none\"/>\n",
              "    <path d=\"M18.56 5.44l.94 2.06.94-2.06 2.06-.94-2.06-.94-.94-2.06-.94 2.06-2.06.94zm-11 1L8.5 8.5l.94-2.06 2.06-.94-2.06-.94L8.5 2.5l-.94 2.06-2.06.94zm10 10l.94 2.06.94-2.06 2.06-.94-2.06-.94-.94-2.06-.94 2.06-2.06.94z\"/><path d=\"M17.41 7.96l-1.37-1.37c-.4-.4-.92-.59-1.43-.59-.52 0-1.04.2-1.43.59L10.3 9.45l-7.72 7.72c-.78.78-.78 2.05 0 2.83L4 21.41c.39.39.9.59 1.41.59.51 0 1.02-.2 1.41-.59l7.78-7.78 2.81-2.81c.8-.78.8-2.07 0-2.86zM5.41 20L4 18.59l7.72-7.72 1.47 1.35L5.41 20z\"/>\n",
              "  </svg>\n",
              "      </button>\n",
              "      \n",
              "  <style>\n",
              "    .colab-df-container {\n",
              "      display:flex;\n",
              "      flex-wrap:wrap;\n",
              "      gap: 12px;\n",
              "    }\n",
              "\n",
              "    .colab-df-convert {\n",
              "      background-color: #E8F0FE;\n",
              "      border: none;\n",
              "      border-radius: 50%;\n",
              "      cursor: pointer;\n",
              "      display: none;\n",
              "      fill: #1967D2;\n",
              "      height: 32px;\n",
              "      padding: 0 0 0 0;\n",
              "      width: 32px;\n",
              "    }\n",
              "\n",
              "    .colab-df-convert:hover {\n",
              "      background-color: #E2EBFA;\n",
              "      box-shadow: 0px 1px 2px rgba(60, 64, 67, 0.3), 0px 1px 3px 1px rgba(60, 64, 67, 0.15);\n",
              "      fill: #174EA6;\n",
              "    }\n",
              "\n",
              "    [theme=dark] .colab-df-convert {\n",
              "      background-color: #3B4455;\n",
              "      fill: #D2E3FC;\n",
              "    }\n",
              "\n",
              "    [theme=dark] .colab-df-convert:hover {\n",
              "      background-color: #434B5C;\n",
              "      box-shadow: 0px 1px 3px 1px rgba(0, 0, 0, 0.15);\n",
              "      filter: drop-shadow(0px 1px 2px rgba(0, 0, 0, 0.3));\n",
              "      fill: #FFFFFF;\n",
              "    }\n",
              "  </style>\n",
              "\n",
              "      <script>\n",
              "        const buttonEl =\n",
              "          document.querySelector('#df-ebba5a75-8699-4997-a312-08e7109e3b6e button.colab-df-convert');\n",
              "        buttonEl.style.display =\n",
              "          google.colab.kernel.accessAllowed ? 'block' : 'none';\n",
              "\n",
              "        async function convertToInteractive(key) {\n",
              "          const element = document.querySelector('#df-ebba5a75-8699-4997-a312-08e7109e3b6e');\n",
              "          const dataTable =\n",
              "            await google.colab.kernel.invokeFunction('convertToInteractive',\n",
              "                                                     [key], {});\n",
              "          if (!dataTable) return;\n",
              "\n",
              "          const docLinkHtml = 'Like what you see? Visit the ' +\n",
              "            '<a target=\"_blank\" href=https://colab.research.google.com/notebooks/data_table.ipynb>data table notebook</a>'\n",
              "            + ' to learn more about interactive tables.';\n",
              "          element.innerHTML = '';\n",
              "          dataTable['output_type'] = 'display_data';\n",
              "          await google.colab.output.renderOutput(dataTable, element);\n",
              "          const docLink = document.createElement('div');\n",
              "          docLink.innerHTML = docLinkHtml;\n",
              "          element.appendChild(docLink);\n",
              "        }\n",
              "      </script>\n",
              "    </div>\n",
              "  </div>\n",
              "  "
            ]
          },
          "metadata": {},
          "execution_count": 883
        }
      ]
    },
    {
      "cell_type": "code",
      "source": [
        "y.hist()"
      ],
      "metadata": {
        "colab": {
          "base_uri": "https://localhost:8080/",
          "height": 333
        },
        "id": "74ypM57Ukp6N",
        "outputId": "2d27a610-d95f-4317-e1ec-d5e0620b0365"
      },
      "execution_count": 884,
      "outputs": [
        {
          "output_type": "execute_result",
          "data": {
            "text/plain": [
              "array([[<matplotlib.axes._subplots.AxesSubplot object at 0x7fc9245e41d0>]],\n",
              "      dtype=object)"
            ]
          },
          "metadata": {},
          "execution_count": 884
        },
        {
          "output_type": "display_data",
          "data": {
            "text/plain": [
              "<Figure size 432x288 with 1 Axes>"
            ],
            "image/png": "[encoded data removed]"
          },
          "metadata": {
            "needs_background": "light"
          }
        }
      ]
    },
    {
      "cell_type": "code",
      "source": [
        "print('y log skew', np.log(y).skew())\n",
        "print('y sqrt skew', np.sqrt(y).skew())\n",
        "print('y inverse skew', (1/y).skew())\n",
        "print('y YJ skew', pd.DataFrame(list(stats.yeojohnson(y))[0]).skew()[0])"
      ],
      "metadata": {
        "colab": {
          "base_uri": "https://localhost:8080/"
        },
        "id": "CqATEu7jtegG",
        "outputId": "ef4416c8-9ac5-410d-f842-f2c7325eef32"
      },
      "execution_count": 885,
      "outputs": [
        {
          "output_type": "stream",
          "name": "stdout",
          "text": [
            "y log skew SalePrice   0.12157\n",
            "dtype: float64\n",
            "y sqrt skew SalePrice   0.94249\n",
            "dtype: float64\n",
            "y inverse skew SalePrice   2.14007\n",
            "dtype: float64\n",
            "y YJ skew -0.008634434986093346\n"
          ]
        }
      ]
    },
    {
      "cell_type": "code",
      "source": [
        "#y['SalePrice'] = np.log[(y['SalePrice'])"
      ],
      "metadata": {
        "id": "CFtsPu1kuhQs"
      },
      "execution_count": 886,
      "outputs": []
    },
    {
      "cell_type": "markdown",
      "source": [
        "##### come back to this: try to do a YJ transform"
      ],
      "metadata": {
        "id": "wafm8INWcOnq"
      }
    },
    {
      "cell_type": "code",
      "source": [
        "# YJ is the best transformation. Use the PowerTransformer funciton.\n",
        "\n",
        "# y['SalePrice'] = list(stats.yeojohnson(y))[0]\n",
        "# print(y.skew())\n",
        "# y.hist()\n",
        "\n",
        "pt = PowerTransformer(method = 'yeo-johnson')\n",
        "pt.fit(y)"
      ],
      "metadata": {
        "id": "JQ_vK74HbD1u",
        "colab": {
          "base_uri": "https://localhost:8080/"
        },
        "outputId": "6a7dc4ef-15ee-4390-8177-9d33253cb114"
      },
      "execution_count": 887,
      "outputs": [
        {
          "output_type": "execute_result",
          "data": {
            "text/plain": [
              "PowerTransformer()"
            ]
          },
          "metadata": {},
          "execution_count": 887
        }
      ]
    },
    {
      "cell_type": "code",
      "source": [
        "y.SalePrice = pt.transform(y)"
      ],
      "metadata": {
        "id": "e2Psnrfw2LBw"
      },
      "execution_count": 888,
      "outputs": []
    },
    {
      "cell_type": "code",
      "source": [
        "y.SalePrice.hist()"
      ],
      "metadata": {
        "colab": {
          "base_uri": "https://localhost:8080/",
          "height": 282
        },
        "id": "a-q7hWAEAhpT",
        "outputId": "631f0d01-56a9-475e-a12d-c62a777c4ab2"
      },
      "execution_count": 889,
      "outputs": [
        {
          "output_type": "execute_result",
          "data": {
            "text/plain": [
              "<matplotlib.axes._subplots.AxesSubplot at 0x7fc9244f19d0>"
            ]
          },
          "metadata": {},
          "execution_count": 889
        },
        {
          "output_type": "display_data",
          "data": {
            "text/plain": [
              "<Figure size 432x288 with 1 Axes>"
            ],
            "image/png": "[encoded data removed]"
          },
          "metadata": {
            "needs_background": "light"
          }
        }
      ]
    },
    {
      "cell_type": "markdown",
      "source": [
        "## Dropping columns \n",
        "* ID"
      ],
      "metadata": {
        "id": "UTWfYPEsoP_m"
      }
    },
    {
      "cell_type": "code",
      "source": [
        "x.shape"
      ],
      "metadata": {
        "colab": {
          "base_uri": "https://localhost:8080/"
        },
        "id": "uXcbNaNApyv-",
        "outputId": "6187881a-9de4-4153-d792-a36b30b9a22e"
      },
      "execution_count": 890,
      "outputs": [
        {
          "output_type": "execute_result",
          "data": {
            "text/plain": [
              "(2917, 79)"
            ]
          },
          "metadata": {},
          "execution_count": 890
        }
      ]
    },
    {
      "cell_type": "code",
      "source": [
        "x.drop(columns = 'Id', inplace=True)"
      ],
      "metadata": {
        "id": "acYNInvrpuqT"
      },
      "execution_count": 891,
      "outputs": []
    },
    {
      "cell_type": "code",
      "source": [
        "x.shape"
      ],
      "metadata": {
        "colab": {
          "base_uri": "https://localhost:8080/"
        },
        "id": "exXtpmk1p0_6",
        "outputId": "d9609090-5f97-4ba7-b421-7935871d4b04"
      },
      "execution_count": 892,
      "outputs": [
        {
          "output_type": "execute_result",
          "data": {
            "text/plain": [
              "(2917, 78)"
            ]
          },
          "metadata": {},
          "execution_count": 892
        }
      ]
    },
    {
      "cell_type": "markdown",
      "source": [
        "## Scaling"
      ],
      "metadata": {
        "id": "BNp7P3D7KfJl"
      }
    },
    {
      "cell_type": "markdown",
      "source": [
        "### Identifying which columns are booleans already"
      ],
      "metadata": {
        "id": "5N3mHf1Q0kbQ"
      }
    },
    {
      "cell_type": "code",
      "source": [
        "bool_list = [] # initiate a list\n",
        "for (xcolname, xcol) in x.iteritems(): # iterate through columns that\n",
        "  bool_test = xcol.value_counts().index.tolist() # find the number of unique values per column\n",
        "  if 1 and 0 in bool_test and len(bool_test) == 2: # if there are only 2 unique values, add them to the list\n",
        "    bool_list.append(xcolname)\n",
        "\n",
        "print(bool_list)# print the list"
      ],
      "metadata": {
        "colab": {
          "base_uri": "https://localhost:8080/"
        },
        "id": "U3wTY8T7xiG_",
        "outputId": "cf0a87d9-4abb-4abf-9cec-e08c4f0c8e00"
      },
      "execution_count": 893,
      "outputs": [
        {
          "output_type": "stream",
          "name": "stdout",
          "text": [
            "['CentralAir', 'HasPool', 'Has2ndFloor', 'HasGarage', 'HasBasement', 'HasFireplace']\n"
          ]
        }
      ]
    },
    {
      "cell_type": "code",
      "source": [
        "for i in bool_list:\n",
        "  x[i] = x[i].astype('bool')"
      ],
      "metadata": {
        "id": "X8ZLVNAn0or5"
      },
      "execution_count": 894,
      "outputs": []
    },
    {
      "cell_type": "markdown",
      "source": [
        "### Selecting the columns to scale (numerics, excluding bools)"
      ],
      "metadata": {
        "id": "L9SgRlrA0cVk"
      }
    },
    {
      "cell_type": "code",
      "source": [
        "x.info()"
      ],
      "metadata": {
        "colab": {
          "base_uri": "https://localhost:8080/"
        },
        "id": "Y03vWzYFoqHO",
        "outputId": "fc34d3ce-2c90-4d64-c8d9-0004721f8cbe"
      },
      "execution_count": 895,
      "outputs": [
        {
          "output_type": "stream",
          "name": "stdout",
          "text": [
            "<class 'pandas.core.frame.DataFrame'>\n",
            "Int64Index: 2917 entries, 0 to 1458\n",
            "Data columns (total 78 columns):\n",
            " #   Column          Non-Null Count  Dtype  \n",
            "---  ------          --------------  -----  \n",
            " 0   MSSubClass      2917 non-null   object \n",
            " 1   MSZoning        2917 non-null   object \n",
            " 2   LotFrontage     2917 non-null   float64\n",
            " 3   LotArea         2917 non-null   float64\n",
            " 4   Street          2917 non-null   object \n",
            " 5   Alley           2917 non-null   object \n",
            " 6   LotShape        2917 non-null   object \n",
            " 7   LandContour     2917 non-null   object \n",
            " 8   Utilities       2917 non-null   object \n",
            " 9   LotConfig       2917 non-null   object \n",
            " 10  LandSlope       2917 non-null   object \n",
            " 11  Neighborhood    2917 non-null   object \n",
            " 12  Condition1      2917 non-null   object \n",
            " 13  Condition2      2917 non-null   object \n",
            " 14  BldgType        2917 non-null   object \n",
            " 15  HouseStyle      2917 non-null   object \n",
            " 16  OverallQual     2917 non-null   int64  \n",
            " 17  OverallCond     2917 non-null   float64\n",
            " 18  YearBuilt       2917 non-null   float64\n",
            " 19  YearRemodAdd    2917 non-null   int64  \n",
            " 20  RoofStyle       2917 non-null   object \n",
            " 21  RoofMatl        2917 non-null   object \n",
            " 22  Exterior1st     2917 non-null   object \n",
            " 23  Exterior2nd     2917 non-null   object \n",
            " 24  MasVnrType      2917 non-null   object \n",
            " 25  MasVnrArea      2917 non-null   float64\n",
            " 26  ExterQual       2917 non-null   object \n",
            " 27  ExterCond       2917 non-null   object \n",
            " 28  Foundation      2917 non-null   object \n",
            " 29  BsmtQual        2917 non-null   object \n",
            " 30  BsmtCond        2917 non-null   object \n",
            " 31  BsmtExposure    2917 non-null   object \n",
            " 32  BsmtFinType1    2917 non-null   object \n",
            " 33  BsmtFinSF1      2917 non-null   float64\n",
            " 34  BsmtFinType2    2917 non-null   object \n",
            " 35  BsmtUnfSF       2917 non-null   float64\n",
            " 36  TotalBsmtSF     2917 non-null   float64\n",
            " 37  Heating         2917 non-null   object \n",
            " 38  HeatingQC       2917 non-null   object \n",
            " 39  CentralAir      2917 non-null   bool   \n",
            " 40  Electrical      2917 non-null   object \n",
            " 41  1stFlrSF        2917 non-null   float64\n",
            " 42  2ndFlrSF        2917 non-null   float64\n",
            " 43  GrLivArea       2917 non-null   float64\n",
            " 44  BsmtFullBath    2917 non-null   float64\n",
            " 45  FullBath        2917 non-null   int64  \n",
            " 46  HalfBath        2917 non-null   float64\n",
            " 47  BedroomAbvGr    2917 non-null   int64  \n",
            " 48  KitchenQual     2917 non-null   object \n",
            " 49  TotRmsAbvGrd    2917 non-null   float64\n",
            " 50  Functional      2917 non-null   object \n",
            " 51  Fireplaces      2917 non-null   float64\n",
            " 52  FireplaceQu     2917 non-null   object \n",
            " 53  GarageType      2917 non-null   object \n",
            " 54  GarageYrBlt     2917 non-null   object \n",
            " 55  GarageFinish    2917 non-null   object \n",
            " 56  GarageCars      2917 non-null   float64\n",
            " 57  GarageArea      2917 non-null   float64\n",
            " 58  GarageQual      2917 non-null   object \n",
            " 59  GarageCond      2917 non-null   object \n",
            " 60  PavedDrive      2917 non-null   object \n",
            " 61  WoodDeckSF      2917 non-null   float64\n",
            " 62  OpenPorchSF     2917 non-null   float64\n",
            " 63  PoolQC          2917 non-null   object \n",
            " 64  Fence           2917 non-null   object \n",
            " 65  MiscFeature     2917 non-null   object \n",
            " 66  MoSold          2917 non-null   object \n",
            " 67  YrSold          2917 non-null   object \n",
            " 68  SaleType        2917 non-null   object \n",
            " 69  SaleCondition   2917 non-null   object \n",
            " 70  TotalLivableSF  2917 non-null   float64\n",
            " 71  TotalBaths      2917 non-null   float64\n",
            " 72  TotalPorchSF    2917 non-null   float64\n",
            " 73  HasPool         2917 non-null   bool   \n",
            " 74  Has2ndFloor     2917 non-null   bool   \n",
            " 75  HasGarage       2917 non-null   bool   \n",
            " 76  HasBasement     2917 non-null   bool   \n",
            " 77  HasFireplace    2917 non-null   bool   \n",
            "dtypes: bool(6), float64(22), int64(4), object(46)\n",
            "memory usage: 1.6+ MB\n"
          ]
        }
      ]
    },
    {
      "cell_type": "code",
      "source": [
        "num_cols_to_scale = x.select_dtypes(exclude = ['object', 'bool']).columns.values.tolist()\n",
        "num_cols_to_scale"
      ],
      "metadata": {
        "id": "yoUhY-4d2vzM",
        "colab": {
          "base_uri": "https://localhost:8080/"
        },
        "outputId": "8bb9fcf2-01c7-43aa-d750-db78d7b664e4"
      },
      "execution_count": 896,
      "outputs": [
        {
          "output_type": "execute_result",
          "data": {
            "text/plain": [
              "['LotFrontage',\n",
              " 'LotArea',\n",
              " 'OverallQual',\n",
              " 'OverallCond',\n",
              " 'YearBuilt',\n",
              " 'YearRemodAdd',\n",
              " 'MasVnrArea',\n",
              " 'BsmtFinSF1',\n",
              " 'BsmtUnfSF',\n",
              " 'TotalBsmtSF',\n",
              " '1stFlrSF',\n",
              " '2ndFlrSF',\n",
              " 'GrLivArea',\n",
              " 'BsmtFullBath',\n",
              " 'FullBath',\n",
              " 'HalfBath',\n",
              " 'BedroomAbvGr',\n",
              " 'TotRmsAbvGrd',\n",
              " 'Fireplaces',\n",
              " 'GarageCars',\n",
              " 'GarageArea',\n",
              " 'WoodDeckSF',\n",
              " 'OpenPorchSF',\n",
              " 'TotalLivableSF',\n",
              " 'TotalBaths',\n",
              " 'TotalPorchSF']"
            ]
          },
          "metadata": {},
          "execution_count": 896
        }
      ]
    },
    {
      "cell_type": "markdown",
      "source": [
        "### Robust Scaler"
      ],
      "metadata": {
        "id": "TzDUWcnNrCo7"
      }
    },
    {
      "cell_type": "code",
      "source": [
        "# robust_scaler = RobustScaler().fit(x[num_cols_to_scale])\n",
        "# x[num_cols_to_scale] = robust_scaler.transform(x[num_cols_to_scale])"
      ],
      "metadata": {
        "id": "ZwKZlxLl1qL5"
      },
      "execution_count": 897,
      "outputs": []
    },
    {
      "cell_type": "markdown",
      "source": [
        "### Standard Scaler"
      ],
      "metadata": {
        "id": "YECcv02_ogTO"
      }
    },
    {
      "cell_type": "code",
      "source": [
        "standard_scaler = StandardScaler().fit(x[num_cols_to_scale])\n",
        "x[num_cols_to_scale] = standard_scaler.transform(x[num_cols_to_scale])"
      ],
      "metadata": {
        "id": "wvs9MfjPoi2u"
      },
      "execution_count": 898,
      "outputs": []
    },
    {
      "cell_type": "markdown",
      "source": [
        "### MinMax Scaler"
      ],
      "metadata": {
        "id": "8agATF--t183"
      }
    },
    {
      "cell_type": "code",
      "source": [
        "# minmax_scaler = MinMaxScaler().fit(x[num_cols_to_scale])\n",
        "# x[num_cols_to_scale] = minmax_scaler.transform(x[num_cols_to_scale])"
      ],
      "metadata": {
        "id": "OfFD9-t9t1rm"
      },
      "execution_count": 899,
      "outputs": []
    },
    {
      "cell_type": "markdown",
      "source": [
        "## Encoding"
      ],
      "metadata": {
        "id": "ujZBoZQcKfHJ"
      }
    },
    {
      "cell_type": "code",
      "source": [
        "cat_cols_to_encode = x.select_dtypes(include = 'object').columns.values.tolist()\n",
        "cat_cols_to_encode"
      ],
      "metadata": {
        "colab": {
          "base_uri": "https://localhost:8080/"
        },
        "id": "9gEYU4AdsmCz",
        "outputId": "89e68ce3-1c96-4252-82de-079322b4c4d1"
      },
      "execution_count": 900,
      "outputs": [
        {
          "output_type": "execute_result",
          "data": {
            "text/plain": [
              "['MSSubClass',\n",
              " 'MSZoning',\n",
              " 'Street',\n",
              " 'Alley',\n",
              " 'LotShape',\n",
              " 'LandContour',\n",
              " 'Utilities',\n",
              " 'LotConfig',\n",
              " 'LandSlope',\n",
              " 'Neighborhood',\n",
              " 'Condition1',\n",
              " 'Condition2',\n",
              " 'BldgType',\n",
              " 'HouseStyle',\n",
              " 'RoofStyle',\n",
              " 'RoofMatl',\n",
              " 'Exterior1st',\n",
              " 'Exterior2nd',\n",
              " 'MasVnrType',\n",
              " 'ExterQual',\n",
              " 'ExterCond',\n",
              " 'Foundation',\n",
              " 'BsmtQual',\n",
              " 'BsmtCond',\n",
              " 'BsmtExposure',\n",
              " 'BsmtFinType1',\n",
              " 'BsmtFinType2',\n",
              " 'Heating',\n",
              " 'HeatingQC',\n",
              " 'Electrical',\n",
              " 'KitchenQual',\n",
              " 'Functional',\n",
              " 'FireplaceQu',\n",
              " 'GarageType',\n",
              " 'GarageYrBlt',\n",
              " 'GarageFinish',\n",
              " 'GarageQual',\n",
              " 'GarageCond',\n",
              " 'PavedDrive',\n",
              " 'PoolQC',\n",
              " 'Fence',\n",
              " 'MiscFeature',\n",
              " 'MoSold',\n",
              " 'YrSold',\n",
              " 'SaleType',\n",
              " 'SaleCondition']"
            ]
          },
          "metadata": {},
          "execution_count": 900
        }
      ]
    },
    {
      "cell_type": "code",
      "source": [
        "x = pd.get_dummies(x)"
      ],
      "metadata": {
        "id": "mfGfpbl32Pfy"
      },
      "execution_count": 901,
      "outputs": []
    },
    {
      "cell_type": "markdown",
      "source": [
        "# Training and Predicting"
      ],
      "metadata": {
        "id": "pFy2jYLDKYb_"
      }
    },
    {
      "cell_type": "markdown",
      "source": [
        "## Prepping the training data and splitting it"
      ],
      "metadata": {
        "id": "IqwLPkGHVVhl"
      }
    },
    {
      "cell_type": "code",
      "source": [
        "total_copy = x"
      ],
      "metadata": {
        "id": "rATPPsDa2fRK"
      },
      "execution_count": 902,
      "outputs": []
    },
    {
      "cell_type": "code",
      "source": [
        "new_test = test.shape[0]\n",
        "train2 = total_copy[:train.shape[0]]\n",
        "test2 = total_copy[train.shape[0]:test.shape[0] + (new_test+1)]"
      ],
      "metadata": {
        "id": "mpi0L_COW-So"
      },
      "execution_count": 903,
      "outputs": []
    },
    {
      "cell_type": "code",
      "source": [
        "xtrain2, xtest2, ytrain2, ytest2 = train_test_split(train2, y.SalePrice, test_size = .33, random_state = 7)"
      ],
      "metadata": {
        "id": "eXHakpO6YMf3"
      },
      "execution_count": 904,
      "outputs": []
    },
    {
      "cell_type": "code",
      "source": [
        "print('xtrain2', xtrain2.shape)\n",
        "print('xtest2', xtest2.shape)\n",
        "print('ytrain2', ytrain2.shape)\n",
        "print('ytest2', ytest2.shape)"
      ],
      "metadata": {
        "colab": {
          "base_uri": "https://localhost:8080/"
        },
        "id": "Cb99xRo8dE5S",
        "outputId": "78ddf1ee-615a-42a1-caa7-7d90b8686261"
      },
      "execution_count": 905,
      "outputs": [
        {
          "output_type": "stream",
          "name": "stdout",
          "text": [
            "xtrain2 (976, 432)\n",
            "xtest2 (482, 432)\n",
            "ytrain2 (976,)\n",
            "ytest2 (482,)\n"
          ]
        }
      ]
    },
    {
      "cell_type": "code",
      "source": [
        "ytest2 = pd.DataFrame(ytest2)"
      ],
      "metadata": {
        "id": "5XvQHHDu3Y_E"
      },
      "execution_count": 906,
      "outputs": []
    },
    {
      "cell_type": "code",
      "source": [
        "#untransform ytest data\n",
        "ytest2_untrans = pt.inverse_transform(ytest2)"
      ],
      "metadata": {
        "id": "0K8M0bPSIOX5"
      },
      "execution_count": 907,
      "outputs": []
    },
    {
      "cell_type": "markdown",
      "source": [
        "## Lasso Regression"
      ],
      "metadata": {
        "id": "L36kL4Ek2Dx-"
      }
    },
    {
      "cell_type": "code",
      "source": [
        "#Lasso alpha optimization\n",
        "model = LassoCV(cv=5, random_state=0, max_iter=10000)\n",
        "model.fit(xtrain2, ytrain2)\n",
        "model.alpha_"
      ],
      "metadata": {
        "colab": {
          "base_uri": "https://localhost:8080/"
        },
        "id": "coB60PHXsz-M",
        "outputId": "cd7d8c13-8fe7-4fbb-bddc-166284ae587c"
      },
      "execution_count": 908,
      "outputs": [
        {
          "output_type": "execute_result",
          "data": {
            "text/plain": [
              "0.0017540869054382458"
            ]
          },
          "metadata": {},
          "execution_count": 908
        }
      ]
    },
    {
      "cell_type": "code",
      "source": [
        "las = Lasso(alpha = model.alpha_).fit(xtrain2, ytrain2)\n",
        "ypred2_las = las.predict(xtest2)\n",
        "ypred2_las = pd.DataFrame(ypred2_las, columns = ['SalePrice'])\n",
        "ypred2_las_untrans = pt.inverse_transform(ypred2_las)"
      ],
      "metadata": {
        "id": "UQWu2uZ72DK_"
      },
      "execution_count": 909,
      "outputs": []
    },
    {
      "cell_type": "markdown",
      "source": [
        "### Analyzing the results"
      ],
      "metadata": {
        "id": "ozc9BbcPYIN8"
      }
    },
    {
      "cell_type": "code",
      "source": [
        "las_mse = mean_squared_error(ytest2_untrans, ypred2_las_untrans)\n",
        "las_rmse = np.sqrt(las_mse)\n",
        "las_mae = mean_absolute_error(ytest2_untrans, ypred2_las_untrans)\n",
        "\n",
        "plt.scatter(ypred2_las_untrans, ytest2_untrans)\n",
        "print('Mean Squared Error is', '{:,.2f}'.format(las_mse))\n",
        "print('Root Mean Squared Error is', '{:,.2f}'.format(las_rmse))\n",
        "print('Mean Absolute Error is', '{:,.2f}'.format(las_mae))"
      ],
      "metadata": {
        "colab": {
          "base_uri": "https://localhost:8080/",
          "height": 317
        },
        "id": "xtTsnnxHf3z9",
        "outputId": "f1f5c216-8f75-43d9-803e-f194b8dc60a9"
      },
      "execution_count": 910,
      "outputs": [
        {
          "output_type": "stream",
          "name": "stdout",
          "text": [
            "Mean Squared Error is 513,992,381.47\n",
            "Root Mean Squared Error is 22,671.40\n",
            "Mean Absolute Error is 14,427.27\n"
          ]
        },
        {
          "output_type": "display_data",
          "data": {
            "text/plain": [
              "<Figure size 432x288 with 1 Axes>"
            ],
            "image/png": "[encoded data removed]"
          },
          "metadata": {
            "needs_background": "light"
          }
        }
      ]
    },
    {
      "cell_type": "markdown",
      "source": [
        "### Predicting the results using Lasso"
      ],
      "metadata": {
        "id": "hMmAKvEO5zDM"
      }
    },
    {
      "cell_type": "code",
      "source": [
        "test = pd.read_csv('/content/drive/MyDrive/Colab Notebooks/Colab data/test.csv')"
      ],
      "metadata": {
        "id": "O5MSq-ND6p72"
      },
      "execution_count": 911,
      "outputs": []
    },
    {
      "cell_type": "code",
      "source": [
        "submit_pred_las = las.predict(test2)\n",
        "submit_pred_las = pd.DataFrame(submit_pred_las, columns = ['SalePrice'])\n",
        "submit_pred_untrans_las = pt.inverse_transform(submit_pred_las)"
      ],
      "metadata": {
        "id": "qHQeURXF50tw"
      },
      "execution_count": 912,
      "outputs": []
    },
    {
      "cell_type": "code",
      "source": [
        "test_to_submit_las = pd.DataFrame(test['Id'])\n",
        "test_to_submit_las['SalePrice'] = submit_pred_untrans_las\n",
        "test_to_submit_las.to_csv('/content/predictions(lasso).csv', index=False)"
      ],
      "metadata": {
        "id": "N8AxvJmV6tdH"
      },
      "execution_count": 913,
      "outputs": []
    },
    {
      "cell_type": "markdown",
      "source": [
        "## Ridge Regression"
      ],
      "metadata": {
        "id": "Kls5M7UUGjkK"
      }
    },
    {
      "cell_type": "code",
      "source": [
        "ridge = Ridge(alpha = 10).fit(xtrain2, ytrain2)\n",
        "ypred2_ridge = ridge.predict(xtest2)\n",
        "ypred2_ridge = pd.DataFrame(ypred2_ridge, columns = ['SalePrice'])\n",
        "ypred2_ridge_untrans = pt.inverse_transform(ypred2_ridge)"
      ],
      "metadata": {
        "id": "_xvKQxLWGtrM"
      },
      "execution_count": 914,
      "outputs": []
    },
    {
      "cell_type": "markdown",
      "source": [
        "### Analyzing the results for ridge regression"
      ],
      "metadata": {
        "id": "TsIWsReLHWl8"
      }
    },
    {
      "cell_type": "code",
      "source": [
        "ridge_mse = mean_squared_error(ytest2_untrans, ypred2_ridge_untrans)\n",
        "ridge_rmse = np.sqrt(ridge_mse)\n",
        "ridge_mae = mean_absolute_error(ytest2_untrans, ypred2_ridge_untrans)\n",
        "\n",
        "plt.scatter(ypred2_ridge_untrans, ytest2_untrans)\n",
        "print('Mean Squared Error is', '{:,.2f}'.format(ridge_mse))\n",
        "print('Root Mean Squared Error is', '{:,.2f}'.format(ridge_rmse))\n",
        "print('Mean Absolute Error is', '{:,.2f}'.format(ridge_mae))"
      ],
      "metadata": {
        "colab": {
          "base_uri": "https://localhost:8080/",
          "height": 317
        },
        "id": "MkpnzQCUHYIa",
        "outputId": "e4c87a68-012c-49db-fde1-a38944c48e05"
      },
      "execution_count": 915,
      "outputs": [
        {
          "output_type": "stream",
          "name": "stdout",
          "text": [
            "Mean Squared Error is 518,214,078.74\n",
            "Root Mean Squared Error is 22,764.32\n",
            "Mean Absolute Error is 14,555.11\n"
          ]
        },
        {
          "output_type": "display_data",
          "data": {
            "text/plain": [
              "<Figure size 432x288 with 1 Axes>"
            ],
            "image/png": "[encoded data removed]"
          },
          "metadata": {
            "needs_background": "light"
          }
        }
      ]
    },
    {
      "cell_type": "markdown",
      "source": [
        "### Predicting the results using Ridge"
      ],
      "metadata": {
        "id": "bn4FQikhIgNw"
      }
    },
    {
      "cell_type": "code",
      "source": [
        "submit_pred_ridge = ridge.predict(test2)\n",
        "submit_pred_ridge = pd.DataFrame(submit_pred_ridge, columns = ['SalePrice'])\n",
        "submit_pred_ridge_untrans = pt.inverse_transform(submit_pred_ridge)"
      ],
      "metadata": {
        "id": "0qwK0jesIoXW"
      },
      "execution_count": 916,
      "outputs": []
    },
    {
      "cell_type": "code",
      "source": [
        "test_to_submit_ridge = pd.DataFrame(test['Id'])\n",
        "test_to_submit_ridge['SalePrice'] = submit_pred_ridge_untrans\n",
        "test_to_submit_ridge.to_csv('/content/predictions(ridge).csv', index=False)"
      ],
      "metadata": {
        "id": "pC57DPeUIt7p"
      },
      "execution_count": 917,
      "outputs": []
    },
    {
      "cell_type": "markdown",
      "source": [
        "## XGBoost"
      ],
      "metadata": {
        "id": "wiljOSe4MFYN"
      }
    },
    {
      "cell_type": "code",
      "source": [
        "xgb = XGBRegressor(n_estimators=10000, learning_rate=0.02)\n",
        "xgb.fit(xtrain2, ytrain2, verbose=False, early_stopping_rounds=3, eval_set=[(xtrain2, ytrain2), (xtest2, ytest2)])\n",
        "ypred2_xgb = xgb.predict(xtest2)"
      ],
      "metadata": {
        "colab": {
          "base_uri": "https://localhost:8080/"
        },
        "id": "-mGH3wp6MG6D",
        "outputId": "486082fa-3a88-46ad-a444-91444fcfa12c"
      },
      "execution_count": 918,
      "outputs": [
        {
          "output_type": "stream",
          "name": "stdout",
          "text": [
            "[05:28:43] WARNING: /workspace/src/objective/regression_obj.cu:152: reg:linear is now deprecated in favor of reg:squarederror.\n"
          ]
        }
      ]
    },
    {
      "cell_type": "code",
      "source": [
        "ypred2_xgb = pd.DataFrame(ypred2_xgb, columns=['SalePrice'])\n",
        "ypred2_xgb_untrans = pt.inverse_transform(ypred2_xgb)"
      ],
      "metadata": {
        "id": "MlNLI84kGDe_"
      },
      "execution_count": 919,
      "outputs": []
    },
    {
      "cell_type": "markdown",
      "source": [
        "### Analyzing the results using XGB"
      ],
      "metadata": {
        "id": "WjKCdB3OMp14"
      }
    },
    {
      "cell_type": "code",
      "source": [
        "xgb_mse = mean_squared_error(ytest2_untrans, ypred2_xgb_untrans)\n",
        "xgb_rmse = np.sqrt(xgb_mse)\n",
        "xgb_mae = mean_absolute_error(ytest2_untrans, ypred2_xgb_untrans)\n",
        "\n",
        "plt.scatter(ypred2_xgb_untrans, ytest2_untrans)\n",
        "print('Mean Squared Error is', '{:,.2f}'.format(xgb_mse))\n",
        "print('Root Mean Squared Error is', '{:,.2f}'.format(xgb_rmse))\n",
        "print('Mean Absolute Error is', '{:,.2f}'.format(xgb_mae))"
      ],
      "metadata": {
        "colab": {
          "base_uri": "https://localhost:8080/",
          "height": 317
        },
        "id": "Y70_KrDZMrIu",
        "outputId": "86a8885a-9999-4518-bd4a-adc9e12b72e9"
      },
      "execution_count": 920,
      "outputs": [
        {
          "output_type": "stream",
          "name": "stdout",
          "text": [
            "Mean Squared Error is 633,644,472.83\n",
            "Root Mean Squared Error is 25,172.30\n",
            "Mean Absolute Error is 16,528.86\n"
          ]
        },
        {
          "output_type": "display_data",
          "data": {
            "text/plain": [
              "<Figure size 432x288 with 1 Axes>"
            ],
            "image/png": "[encoded data removed]"
          },
          "metadata": {
            "needs_background": "light"
          }
        }
      ]
    },
    {
      "cell_type": "markdown",
      "source": [
        "### Predicting the results using XGB"
      ],
      "metadata": {
        "id": "_Ad-DNdjQaGZ"
      }
    },
    {
      "cell_type": "code",
      "source": [
        "submit_pred_xgb = xgb.predict(test2)\n",
        "submit_pred_xgb = pd.DataFrame(submit_pred_xgb, columns = ['SalePrice'])\n",
        "submit_pred_untrans_xgb = pt.inverse_transform(submit_pred_xgb)"
      ],
      "metadata": {
        "id": "P7UcNtOeQd9_"
      },
      "execution_count": 921,
      "outputs": []
    },
    {
      "cell_type": "code",
      "source": [
        "test_to_submit_ridge = pd.DataFrame(test['Id'])\n",
        "test_to_submit_ridge['SalePrice'] = submit_pred_ridge_untrans\n",
        "test_to_submit_ridge.to_csv('/content/predictions(xgb).csv', index=False)"
      ],
      "metadata": {
        "id": "VGRU-ae5QnHU"
      },
      "execution_count": 922,
      "outputs": []
    },
    {
      "cell_type": "markdown",
      "source": [
        "## Try blending XGB and Lasso results"
      ],
      "metadata": {
        "id": "HAmOupX0Q3fv"
      }
    },
    {
      "cell_type": "code",
      "source": [
        "blend_las_weight = .9\n",
        "ypred2_blend = ((1 - blend_las_weight) * ypred2_xgb_untrans) + (blend_las_weight * ypred2_las_untrans)"
      ],
      "metadata": {
        "id": "jBRLQVaTe4f-"
      },
      "execution_count": 923,
      "outputs": []
    },
    {
      "cell_type": "code",
      "source": [
        "blend_mse = mean_squared_error(ytest2_untrans, ypred2_blend)\n",
        "blend_rmse = np.sqrt(blend_mse)\n",
        "blend_mae = mean_absolute_error(ytest2_untrans, ypred2_blend)\n",
        "\n",
        "plt.scatter(ypred2_blend, ytest2_untrans)\n",
        "print('Mean Squared Error is', '{:,.2f}'.format(blend_mse))\n",
        "print('Root Mean Squared Error is', '{:,.2f}'.format(blend_rmse))\n",
        "print('Mean Absolute Error is', '{:,.2f}'.format(blend_mae))"
      ],
      "metadata": {
        "colab": {
          "base_uri": "https://localhost:8080/",
          "height": 317
        },
        "id": "46En2-L0e_Bg",
        "outputId": "89e03c9d-dcc6-4af1-c46d-b9eeec76dbc3"
      },
      "execution_count": 924,
      "outputs": [
        {
          "output_type": "stream",
          "name": "stdout",
          "text": [
            "Mean Squared Error is 509,669,838.28\n",
            "Root Mean Squared Error is 22,575.87\n",
            "Mean Absolute Error is 14,376.54\n"
          ]
        },
        {
          "output_type": "display_data",
          "data": {
            "text/plain": [
              "<Figure size 432x288 with 1 Axes>"
            ],
            "image/png": "[encoded data removed]"
          },
          "metadata": {
            "needs_background": "light"
          }
        }
      ]
    },
    {
      "cell_type": "code",
      "source": [
        "submit_blend_las_xgb = (submit_pred_untrans_xgb * (1-blend_las_weight)) + (submit_pred_untrans_las * blend_las_weight)"
      ],
      "metadata": {
        "id": "trU_fL6TRWWg"
      },
      "execution_count": 925,
      "outputs": []
    },
    {
      "cell_type": "code",
      "source": [
        "test_to_submit_blend = pd.DataFrame(test['Id'])\n",
        "test_to_submit_blend['SalePrice'] = submit_blend_las_xgb\n",
        "test_to_submit_ridge.to_csv('/content/predictions(blend).csv', index=False)"
      ],
      "metadata": {
        "id": "sfu_i8pSRbcG"
      },
      "execution_count": 926,
      "outputs": []
    },
    {
      "cell_type": "markdown",
      "source": [
        "#Summarized RMSE results"
      ],
      "metadata": {
        "id": "95GkaVqVXkZi"
      }
    },
    {
      "cell_type": "code",
      "source": [
        "print('{:,.2f}'.format(las_rmse), '- Lasso RMSE')\n",
        "print('{:,.2f}'.format(ridge_rmse), '- Ridge RMSE')\n",
        "print('{:,.2f}'.format(xgb_rmse), '- XGB RMSE')\n",
        "print('{:,.2f}'.format(blend_rmse), '- Blend (Lasso/XGB) RMSE')"
      ],
      "metadata": {
        "colab": {
          "base_uri": "https://localhost:8080/"
        },
        "id": "6zbgLqzNXmR5",
        "outputId": "17cc8967-5d7f-420b-ad4b-9b7d0e122f2e"
      },
      "execution_count": 927,
      "outputs": [
        {
          "output_type": "stream",
          "name": "stdout",
          "text": [
            "22,671.40 - Lasso RMSE\n",
            "22,764.32 - Ridge RMSE\n",
            "25,172.30 - XGB RMSE\n",
            "22,575.87 - Blend (Lasso/XGB) RMSE\n"
          ]
        }
      ]
    }
  ]
}