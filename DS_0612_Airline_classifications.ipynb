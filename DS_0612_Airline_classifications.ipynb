{
  "nbformat": 4,
  "nbformat_minor": 0,
  "metadata": {
    "colab": {
      "name": "DS 0612 - Airline classifications",
      "provenance": [],
      "toc_visible": true,
      "machine_shape": "hm",
      "authorship_tag": "ABX9TyPULC8Whgp9uX8mEpJhVmoB",
      "include_colab_link": true
    },
    "kernelspec": {
      "name": "python3",
      "display_name": "Python 3"
    },
    "language_info": {
      "name": "python"
    },
    "gpuClass": "standard"
  },
  "cells": [
    {
      "cell_type": "markdown",
      "metadata": {
        "id": "view-in-github",
        "colab_type": "text"
      },
      "source": [
        "<a href=\"https://colab.research.google.com/github/zdanielshi/data_science_LFZ/blob/main/DS_0612_Airline_classifications.ipynb\" target=\"_parent\"><img src=\"https://colab.research.google.com/assets/colab-badge.svg\" alt=\"Open In Colab\"/></a>"
      ]
    },
    {
      "cell_type": "code",
      "execution_count": 1,
      "metadata": {
        "id": "GdzrERV5GzOF"
      },
      "outputs": [],
      "source": [
        "import pandas as pd\n",
        "import numpy as np\n",
        "import matplotlib.pyplot as plt\n",
        "import seaborn as sns\n",
        "from scipy import stats\n",
        "from sklearn.preprocessing import RobustScaler, StandardScaler, StandardScaler, PowerTransformer\n",
        "from sklearn.model_selection import train_test_split\n",
        "from sklearn.linear_model import LogisticRegression\n",
        "from sklearn.neighbors import KNeighborsClassifier"
      ]
    },
    {
      "cell_type": "code",
      "source": [
        "!pip install category_encoders"
      ],
      "metadata": {
        "colab": {
          "base_uri": "https://localhost:8080/"
        },
        "id": "zHsGpniGVjtu",
        "outputId": "326ad81b-c87e-4dcd-f590-c56750e47275"
      },
      "execution_count": 2,
      "outputs": [
        {
          "output_type": "stream",
          "name": "stdout",
          "text": [
            "Looking in indexes: https://pypi.org/simple, https://us-python.pkg.dev/colab-wheels/public/simple/\n",
            "Requirement already satisfied: category_encoders in /usr/local/lib/python3.7/dist-packages (2.5.0)\n",
            "Requirement already satisfied: pandas>=1.0.5 in /usr/local/lib/python3.7/dist-packages (from category_encoders) (1.3.5)\n",
            "Requirement already satisfied: statsmodels>=0.9.0 in /usr/local/lib/python3.7/dist-packages (from category_encoders) (0.10.2)\n",
            "Requirement already satisfied: patsy>=0.5.1 in /usr/local/lib/python3.7/dist-packages (from category_encoders) (0.5.2)\n",
            "Requirement already satisfied: numpy>=1.14.0 in /usr/local/lib/python3.7/dist-packages (from category_encoders) (1.21.6)\n",
            "Requirement already satisfied: scikit-learn>=0.20.0 in /usr/local/lib/python3.7/dist-packages (from category_encoders) (1.0.2)\n",
            "Requirement already satisfied: scipy>=1.0.0 in /usr/local/lib/python3.7/dist-packages (from category_encoders) (1.5.4)\n",
            "Requirement already satisfied: pytz>=2017.3 in /usr/local/lib/python3.7/dist-packages (from pandas>=1.0.5->category_encoders) (2022.1)\n",
            "Requirement already satisfied: python-dateutil>=2.7.3 in /usr/local/lib/python3.7/dist-packages (from pandas>=1.0.5->category_encoders) (2.8.2)\n",
            "Requirement already satisfied: six in /usr/local/lib/python3.7/dist-packages (from patsy>=0.5.1->category_encoders) (1.15.0)\n",
            "Requirement already satisfied: threadpoolctl>=2.0.0 in /usr/local/lib/python3.7/dist-packages (from scikit-learn>=0.20.0->category_encoders) (3.1.0)\n",
            "Requirement already satisfied: joblib>=0.11 in /usr/local/lib/python3.7/dist-packages (from scikit-learn>=0.20.0->category_encoders) (1.1.0)\n"
          ]
        }
      ]
    },
    {
      "cell_type": "code",
      "source": [
        "import category_encoders as ce"
      ],
      "metadata": {
        "colab": {
          "base_uri": "https://localhost:8080/"
        },
        "id": "WUmPJY8wVlBa",
        "outputId": "440a58a5-55d9-48e1-9a4d-d16c0762bffd"
      },
      "execution_count": 3,
      "outputs": [
        {
          "output_type": "stream",
          "name": "stderr",
          "text": [
            "/usr/local/lib/python3.7/dist-packages/statsmodels/tools/_testing.py:19: FutureWarning: pandas.util.testing is deprecated. Use the functions in the public API at pandas.testing instead.\n",
            "  import pandas.util.testing as tm\n"
          ]
        }
      ]
    },
    {
      "cell_type": "code",
      "source": [
        "from google.colab import drive\n",
        "drive.mount('/content/drive')"
      ],
      "metadata": {
        "colab": {
          "base_uri": "https://localhost:8080/"
        },
        "id": "K5Q9lqEyHAbD",
        "outputId": "74c5834d-d82e-4487-a81b-9c088c2e41c1"
      },
      "execution_count": 4,
      "outputs": [
        {
          "output_type": "stream",
          "name": "stdout",
          "text": [
            "Drive already mounted at /content/drive; to attempt to forcibly remount, call drive.mount(\"/content/drive\", force_remount=True).\n"
          ]
        }
      ]
    },
    {
      "cell_type": "code",
      "source": [
        "fly = pd.read_csv('/content/drive/MyDrive/Colab Notebooks/Colab data/Airline_on_time_west_coast.csv')"
      ],
      "metadata": {
        "id": "xTilER0_HIsX"
      },
      "execution_count": 5,
      "outputs": []
    },
    {
      "cell_type": "markdown",
      "source": [
        "# Analysis"
      ],
      "metadata": {
        "id": "8pmc9THEHRET"
      }
    },
    {
      "cell_type": "markdown",
      "source": [
        "# Clean up"
      ],
      "metadata": {
        "id": "HJoDjUZaHT3k"
      }
    },
    {
      "cell_type": "code",
      "source": [
        "fly"
      ],
      "metadata": {
        "colab": {
          "base_uri": "https://localhost:8080/",
          "height": 424
        },
        "id": "TS--1ceSHvH8",
        "outputId": "d3f4c883-5628-4e56-9910-e31f5bd92614"
      },
      "execution_count": 6,
      "outputs": [
        {
          "output_type": "execute_result",
          "data": {
            "text/plain": [
              "        DAY_OF_MONTH  DAY_OF_WEEK     FL_DATE UNIQUE_CARRIER CARRIER  FL_NUM  \\\n",
              "0                  1            1  2014-12-01             AA      AA       1   \n",
              "1                  1            1  2014-12-01             AA      AA       2   \n",
              "2                  1            1  2014-12-01             AA      AA       3   \n",
              "3                  1            1  2014-12-01             AA      AA       4   \n",
              "4                  1            1  2014-12-01             AA      AA       5   \n",
              "...              ...          ...         ...            ...     ...     ...   \n",
              "477178            31            3  2014-12-31             WN      WN    2180   \n",
              "477179            31            3  2014-12-31             WN      WN    3128   \n",
              "477180            31            3  2014-12-31             WN      WN    3317   \n",
              "477181            31            3  2014-12-31             WN      WN    4996   \n",
              "477182            31            3  2014-12-31             WN      WN     178   \n",
              "\n",
              "       ORIGIN       ORIGIN_CITY_NAME   DEST_CITY_NAME  ARR_TIME  ARR_DELAY  \\\n",
              "0         JFK           New York, NY  Los Angeles, CA    1203.0      -27.0   \n",
              "1         LAX        Los Angeles, CA     New York, NY    1649.0      -46.0   \n",
              "2         JFK           New York, NY  Los Angeles, CA    1542.0       -8.0   \n",
              "3         LAX        Los Angeles, CA     New York, NY    2144.0       54.0   \n",
              "4         DFW  Dallas/Fort Worth, TX     Honolulu, HI    2033.0      173.0   \n",
              "...       ...                    ...              ...       ...        ...   \n",
              "477178    SMF         Sacramento, CA    San Diego, CA    1600.0       10.0   \n",
              "477179    SMF         Sacramento, CA    San Diego, CA    2026.0       21.0   \n",
              "477180    SMF         Sacramento, CA    San Diego, CA    1048.0       -2.0   \n",
              "477181    SMF         Sacramento, CA    San Diego, CA    1701.0       -9.0   \n",
              "477182    SMF         Sacramento, CA      Seattle, WA    1521.0       36.0   \n",
              "\n",
              "        CARRIER_DELAY  WEATHER_DELAY  NAS_DELAY  SECURITY_DELAY  \\\n",
              "0                 NaN            NaN        NaN             NaN   \n",
              "1                 NaN            NaN        NaN             NaN   \n",
              "2                 NaN            NaN        NaN             NaN   \n",
              "3                 3.0            0.0        0.0             0.0   \n",
              "4               168.0            0.0        5.0             0.0   \n",
              "...               ...            ...        ...             ...   \n",
              "477178            NaN            NaN        NaN             NaN   \n",
              "477179            0.0            0.0        0.0             0.0   \n",
              "477180            NaN            NaN        NaN             NaN   \n",
              "477181            NaN            NaN        NaN             NaN   \n",
              "477182           36.0            0.0        0.0             0.0   \n",
              "\n",
              "        LATE_AIRCRAFT_DELAY  Unnamed: 16  \n",
              "0                       NaN          NaN  \n",
              "1                       NaN          NaN  \n",
              "2                       NaN          NaN  \n",
              "3                      51.0          NaN  \n",
              "4                       0.0          NaN  \n",
              "...                     ...          ...  \n",
              "477178                  NaN          NaN  \n",
              "477179                 21.0          NaN  \n",
              "477180                  NaN          NaN  \n",
              "477181                  NaN          NaN  \n",
              "477182                  0.0          NaN  \n",
              "\n",
              "[477183 rows x 17 columns]"
            ],
            "text/html": [
              "\n",
              "  <div id=\"df-633cd85c-b39a-4cb6-bd22-7ba28243905f\">\n",
              "    <div class=\"colab-df-container\">\n",
              "      <div>\n",
              "<style scoped>\n",
              "    .dataframe tbody tr th:only-of-type {\n",
              "        vertical-align: middle;\n",
              "    }\n",
              "\n",
              "    .dataframe tbody tr th {\n",
              "        vertical-align: top;\n",
              "    }\n",
              "\n",
              "    .dataframe thead th {\n",
              "        text-align: right;\n",
              "    }\n",
              "</style>\n",
              "<table border=\"1\" class=\"dataframe\">\n",
              "  <thead>\n",
              "    <tr style=\"text-align: right;\">\n",
              "      <th></th>\n",
              "      <th>DAY_OF_MONTH</th>\n",
              "      <th>DAY_OF_WEEK</th>\n",
              "      <th>FL_DATE</th>\n",
              "      <th>UNIQUE_CARRIER</th>\n",
              "      <th>CARRIER</th>\n",
              "      <th>FL_NUM</th>\n",
              "      <th>ORIGIN</th>\n",
              "      <th>ORIGIN_CITY_NAME</th>\n",
              "      <th>DEST_CITY_NAME</th>\n",
              "      <th>ARR_TIME</th>\n",
              "      <th>ARR_DELAY</th>\n",
              "      <th>CARRIER_DELAY</th>\n",
              "      <th>WEATHER_DELAY</th>\n",
              "      <th>NAS_DELAY</th>\n",
              "      <th>SECURITY_DELAY</th>\n",
              "      <th>LATE_AIRCRAFT_DELAY</th>\n",
              "      <th>Unnamed: 16</th>\n",
              "    </tr>\n",
              "  </thead>\n",
              "  <tbody>\n",
              "    <tr>\n",
              "      <th>0</th>\n",
              "      <td>1</td>\n",
              "      <td>1</td>\n",
              "      <td>2014-12-01</td>\n",
              "      <td>AA</td>\n",
              "      <td>AA</td>\n",
              "      <td>1</td>\n",
              "      <td>JFK</td>\n",
              "      <td>New York, NY</td>\n",
              "      <td>Los Angeles, CA</td>\n",
              "      <td>1203.0</td>\n",
              "      <td>-27.0</td>\n",
              "      <td>NaN</td>\n",
              "      <td>NaN</td>\n",
              "      <td>NaN</td>\n",
              "      <td>NaN</td>\n",
              "      <td>NaN</td>\n",
              "      <td>NaN</td>\n",
              "    </tr>\n",
              "    <tr>\n",
              "      <th>1</th>\n",
              "      <td>1</td>\n",
              "      <td>1</td>\n",
              "      <td>2014-12-01</td>\n",
              "      <td>AA</td>\n",
              "      <td>AA</td>\n",
              "      <td>2</td>\n",
              "      <td>LAX</td>\n",
              "      <td>Los Angeles, CA</td>\n",
              "      <td>New York, NY</td>\n",
              "      <td>1649.0</td>\n",
              "      <td>-46.0</td>\n",
              "      <td>NaN</td>\n",
              "      <td>NaN</td>\n",
              "      <td>NaN</td>\n",
              "      <td>NaN</td>\n",
              "      <td>NaN</td>\n",
              "      <td>NaN</td>\n",
              "    </tr>\n",
              "    <tr>\n",
              "      <th>2</th>\n",
              "      <td>1</td>\n",
              "      <td>1</td>\n",
              "      <td>2014-12-01</td>\n",
              "      <td>AA</td>\n",
              "      <td>AA</td>\n",
              "      <td>3</td>\n",
              "      <td>JFK</td>\n",
              "      <td>New York, NY</td>\n",
              "      <td>Los Angeles, CA</td>\n",
              "      <td>1542.0</td>\n",
              "      <td>-8.0</td>\n",
              "      <td>NaN</td>\n",
              "      <td>NaN</td>\n",
              "      <td>NaN</td>\n",
              "      <td>NaN</td>\n",
              "      <td>NaN</td>\n",
              "      <td>NaN</td>\n",
              "    </tr>\n",
              "    <tr>\n",
              "      <th>3</th>\n",
              "      <td>1</td>\n",
              "      <td>1</td>\n",
              "      <td>2014-12-01</td>\n",
              "      <td>AA</td>\n",
              "      <td>AA</td>\n",
              "      <td>4</td>\n",
              "      <td>LAX</td>\n",
              "      <td>Los Angeles, CA</td>\n",
              "      <td>New York, NY</td>\n",
              "      <td>2144.0</td>\n",
              "      <td>54.0</td>\n",
              "      <td>3.0</td>\n",
              "      <td>0.0</td>\n",
              "      <td>0.0</td>\n",
              "      <td>0.0</td>\n",
              "      <td>51.0</td>\n",
              "      <td>NaN</td>\n",
              "    </tr>\n",
              "    <tr>\n",
              "      <th>4</th>\n",
              "      <td>1</td>\n",
              "      <td>1</td>\n",
              "      <td>2014-12-01</td>\n",
              "      <td>AA</td>\n",
              "      <td>AA</td>\n",
              "      <td>5</td>\n",
              "      <td>DFW</td>\n",
              "      <td>Dallas/Fort Worth, TX</td>\n",
              "      <td>Honolulu, HI</td>\n",
              "      <td>2033.0</td>\n",
              "      <td>173.0</td>\n",
              "      <td>168.0</td>\n",
              "      <td>0.0</td>\n",
              "      <td>5.0</td>\n",
              "      <td>0.0</td>\n",
              "      <td>0.0</td>\n",
              "      <td>NaN</td>\n",
              "    </tr>\n",
              "    <tr>\n",
              "      <th>...</th>\n",
              "      <td>...</td>\n",
              "      <td>...</td>\n",
              "      <td>...</td>\n",
              "      <td>...</td>\n",
              "      <td>...</td>\n",
              "      <td>...</td>\n",
              "      <td>...</td>\n",
              "      <td>...</td>\n",
              "      <td>...</td>\n",
              "      <td>...</td>\n",
              "      <td>...</td>\n",
              "      <td>...</td>\n",
              "      <td>...</td>\n",
              "      <td>...</td>\n",
              "      <td>...</td>\n",
              "      <td>...</td>\n",
              "      <td>...</td>\n",
              "    </tr>\n",
              "    <tr>\n",
              "      <th>477178</th>\n",
              "      <td>31</td>\n",
              "      <td>3</td>\n",
              "      <td>2014-12-31</td>\n",
              "      <td>WN</td>\n",
              "      <td>WN</td>\n",
              "      <td>2180</td>\n",
              "      <td>SMF</td>\n",
              "      <td>Sacramento, CA</td>\n",
              "      <td>San Diego, CA</td>\n",
              "      <td>1600.0</td>\n",
              "      <td>10.0</td>\n",
              "      <td>NaN</td>\n",
              "      <td>NaN</td>\n",
              "      <td>NaN</td>\n",
              "      <td>NaN</td>\n",
              "      <td>NaN</td>\n",
              "      <td>NaN</td>\n",
              "    </tr>\n",
              "    <tr>\n",
              "      <th>477179</th>\n",
              "      <td>31</td>\n",
              "      <td>3</td>\n",
              "      <td>2014-12-31</td>\n",
              "      <td>WN</td>\n",
              "      <td>WN</td>\n",
              "      <td>3128</td>\n",
              "      <td>SMF</td>\n",
              "      <td>Sacramento, CA</td>\n",
              "      <td>San Diego, CA</td>\n",
              "      <td>2026.0</td>\n",
              "      <td>21.0</td>\n",
              "      <td>0.0</td>\n",
              "      <td>0.0</td>\n",
              "      <td>0.0</td>\n",
              "      <td>0.0</td>\n",
              "      <td>21.0</td>\n",
              "      <td>NaN</td>\n",
              "    </tr>\n",
              "    <tr>\n",
              "      <th>477180</th>\n",
              "      <td>31</td>\n",
              "      <td>3</td>\n",
              "      <td>2014-12-31</td>\n",
              "      <td>WN</td>\n",
              "      <td>WN</td>\n",
              "      <td>3317</td>\n",
              "      <td>SMF</td>\n",
              "      <td>Sacramento, CA</td>\n",
              "      <td>San Diego, CA</td>\n",
              "      <td>1048.0</td>\n",
              "      <td>-2.0</td>\n",
              "      <td>NaN</td>\n",
              "      <td>NaN</td>\n",
              "      <td>NaN</td>\n",
              "      <td>NaN</td>\n",
              "      <td>NaN</td>\n",
              "      <td>NaN</td>\n",
              "    </tr>\n",
              "    <tr>\n",
              "      <th>477181</th>\n",
              "      <td>31</td>\n",
              "      <td>3</td>\n",
              "      <td>2014-12-31</td>\n",
              "      <td>WN</td>\n",
              "      <td>WN</td>\n",
              "      <td>4996</td>\n",
              "      <td>SMF</td>\n",
              "      <td>Sacramento, CA</td>\n",
              "      <td>San Diego, CA</td>\n",
              "      <td>1701.0</td>\n",
              "      <td>-9.0</td>\n",
              "      <td>NaN</td>\n",
              "      <td>NaN</td>\n",
              "      <td>NaN</td>\n",
              "      <td>NaN</td>\n",
              "      <td>NaN</td>\n",
              "      <td>NaN</td>\n",
              "    </tr>\n",
              "    <tr>\n",
              "      <th>477182</th>\n",
              "      <td>31</td>\n",
              "      <td>3</td>\n",
              "      <td>2014-12-31</td>\n",
              "      <td>WN</td>\n",
              "      <td>WN</td>\n",
              "      <td>178</td>\n",
              "      <td>SMF</td>\n",
              "      <td>Sacramento, CA</td>\n",
              "      <td>Seattle, WA</td>\n",
              "      <td>1521.0</td>\n",
              "      <td>36.0</td>\n",
              "      <td>36.0</td>\n",
              "      <td>0.0</td>\n",
              "      <td>0.0</td>\n",
              "      <td>0.0</td>\n",
              "      <td>0.0</td>\n",
              "      <td>NaN</td>\n",
              "    </tr>\n",
              "  </tbody>\n",
              "</table>\n",
              "<p>477183 rows × 17 columns</p>\n",
              "</div>\n",
              "      <button class=\"colab-df-convert\" onclick=\"convertToInteractive('df-633cd85c-b39a-4cb6-bd22-7ba28243905f')\"\n",
              "              title=\"Convert this dataframe to an interactive table.\"\n",
              "              style=\"display:none;\">\n",
              "        \n",
              "  <svg xmlns=\"http://www.w3.org/2000/svg\" height=\"24px\"viewBox=\"0 0 24 24\"\n",
              "       width=\"24px\">\n",
              "    <path d=\"M0 0h24v24H0V0z\" fill=\"none\"/>\n",
              "    <path d=\"M18.56 5.44l.94 2.06.94-2.06 2.06-.94-2.06-.94-.94-2.06-.94 2.06-2.06.94zm-11 1L8.5 8.5l.94-2.06 2.06-.94-2.06-.94L8.5 2.5l-.94 2.06-2.06.94zm10 10l.94 2.06.94-2.06 2.06-.94-2.06-.94-.94-2.06-.94 2.06-2.06.94z\"/><path d=\"M17.41 7.96l-1.37-1.37c-.4-.4-.92-.59-1.43-.59-.52 0-1.04.2-1.43.59L10.3 9.45l-7.72 7.72c-.78.78-.78 2.05 0 2.83L4 21.41c.39.39.9.59 1.41.59.51 0 1.02-.2 1.41-.59l7.78-7.78 2.81-2.81c.8-.78.8-2.07 0-2.86zM5.41 20L4 18.59l7.72-7.72 1.47 1.35L5.41 20z\"/>\n",
              "  </svg>\n",
              "      </button>\n",
              "      \n",
              "  <style>\n",
              "    .colab-df-container {\n",
              "      display:flex;\n",
              "      flex-wrap:wrap;\n",
              "      gap: 12px;\n",
              "    }\n",
              "\n",
              "    .colab-df-convert {\n",
              "      background-color: #E8F0FE;\n",
              "      border: none;\n",
              "      border-radius: 50%;\n",
              "      cursor: pointer;\n",
              "      display: none;\n",
              "      fill: #1967D2;\n",
              "      height: 32px;\n",
              "      padding: 0 0 0 0;\n",
              "      width: 32px;\n",
              "    }\n",
              "\n",
              "    .colab-df-convert:hover {\n",
              "      background-color: #E2EBFA;\n",
              "      box-shadow: 0px 1px 2px rgba(60, 64, 67, 0.3), 0px 1px 3px 1px rgba(60, 64, 67, 0.15);\n",
              "      fill: #174EA6;\n",
              "    }\n",
              "\n",
              "    [theme=dark] .colab-df-convert {\n",
              "      background-color: #3B4455;\n",
              "      fill: #D2E3FC;\n",
              "    }\n",
              "\n",
              "    [theme=dark] .colab-df-convert:hover {\n",
              "      background-color: #434B5C;\n",
              "      box-shadow: 0px 1px 3px 1px rgba(0, 0, 0, 0.15);\n",
              "      filter: drop-shadow(0px 1px 2px rgba(0, 0, 0, 0.3));\n",
              "      fill: #FFFFFF;\n",
              "    }\n",
              "  </style>\n",
              "\n",
              "      <script>\n",
              "        const buttonEl =\n",
              "          document.querySelector('#df-633cd85c-b39a-4cb6-bd22-7ba28243905f button.colab-df-convert');\n",
              "        buttonEl.style.display =\n",
              "          google.colab.kernel.accessAllowed ? 'block' : 'none';\n",
              "\n",
              "        async function convertToInteractive(key) {\n",
              "          const element = document.querySelector('#df-633cd85c-b39a-4cb6-bd22-7ba28243905f');\n",
              "          const dataTable =\n",
              "            await google.colab.kernel.invokeFunction('convertToInteractive',\n",
              "                                                     [key], {});\n",
              "          if (!dataTable) return;\n",
              "\n",
              "          const docLinkHtml = 'Like what you see? Visit the ' +\n",
              "            '<a target=\"_blank\" href=https://colab.research.google.com/notebooks/data_table.ipynb>data table notebook</a>'\n",
              "            + ' to learn more about interactive tables.';\n",
              "          element.innerHTML = '';\n",
              "          dataTable['output_type'] = 'display_data';\n",
              "          await google.colab.output.renderOutput(dataTable, element);\n",
              "          const docLink = document.createElement('div');\n",
              "          docLink.innerHTML = docLinkHtml;\n",
              "          element.appendChild(docLink);\n",
              "        }\n",
              "      </script>\n",
              "    </div>\n",
              "  </div>\n",
              "  "
            ]
          },
          "metadata": {},
          "execution_count": 6
        }
      ]
    },
    {
      "cell_type": "code",
      "source": [
        "fly.info()"
      ],
      "metadata": {
        "colab": {
          "base_uri": "https://localhost:8080/"
        },
        "id": "D4q7guYtICdX",
        "outputId": "427d4ca0-949b-44a6-9426-8cb8df1ab4cd"
      },
      "execution_count": 7,
      "outputs": [
        {
          "output_type": "stream",
          "name": "stdout",
          "text": [
            "<class 'pandas.core.frame.DataFrame'>\n",
            "RangeIndex: 477183 entries, 0 to 477182\n",
            "Data columns (total 17 columns):\n",
            " #   Column               Non-Null Count   Dtype  \n",
            "---  ------               --------------   -----  \n",
            " 0   DAY_OF_MONTH         477183 non-null  int64  \n",
            " 1   DAY_OF_WEEK          477183 non-null  int64  \n",
            " 2   FL_DATE              477183 non-null  object \n",
            " 3   UNIQUE_CARRIER       477183 non-null  object \n",
            " 4   CARRIER              477183 non-null  object \n",
            " 5   FL_NUM               477183 non-null  int64  \n",
            " 6   ORIGIN               477183 non-null  object \n",
            " 7   ORIGIN_CITY_NAME     477183 non-null  object \n",
            " 8   DEST_CITY_NAME       477183 non-null  object \n",
            " 9   ARR_TIME             470175 non-null  float64\n",
            " 10  ARR_DELAY            469400 non-null  float64\n",
            " 11  CARRIER_DELAY        110163 non-null  float64\n",
            " 12  WEATHER_DELAY        110163 non-null  float64\n",
            " 13  NAS_DELAY            110163 non-null  float64\n",
            " 14  SECURITY_DELAY       110163 non-null  float64\n",
            " 15  LATE_AIRCRAFT_DELAY  110163 non-null  float64\n",
            " 16  Unnamed: 16          0 non-null       float64\n",
            "dtypes: float64(8), int64(3), object(6)\n",
            "memory usage: 61.9+ MB\n"
          ]
        }
      ]
    },
    {
      "cell_type": "code",
      "source": [
        "fly.ARR_DELAY.describe()"
      ],
      "metadata": {
        "colab": {
          "base_uri": "https://localhost:8080/"
        },
        "id": "JLDJ0C3mIzVp",
        "outputId": "891cbabd-1c1e-4a13-d664-ab5f8f24343c"
      },
      "execution_count": 8,
      "outputs": [
        {
          "output_type": "execute_result",
          "data": {
            "text/plain": [
              "count    469400.000000\n",
              "mean          7.429830\n",
              "std          39.600015\n",
              "min         -84.000000\n",
              "25%         -11.000000\n",
              "50%          -2.000000\n",
              "75%          13.000000\n",
              "max        1940.000000\n",
              "Name: ARR_DELAY, dtype: float64"
            ]
          },
          "metadata": {},
          "execution_count": 8
        }
      ]
    },
    {
      "cell_type": "code",
      "source": [
        "fly.ARR_DELAY.hist(bins = 50)"
      ],
      "metadata": {
        "colab": {
          "base_uri": "https://localhost:8080/",
          "height": 282
        },
        "id": "eakTmIzGI8cb",
        "outputId": "1af1d816-9832-464a-d8e6-408658027a69"
      },
      "execution_count": 9,
      "outputs": [
        {
          "output_type": "execute_result",
          "data": {
            "text/plain": [
              "<matplotlib.axes._subplots.AxesSubplot at 0x7fa88b73ee50>"
            ]
          },
          "metadata": {},
          "execution_count": 9
        },
        {
          "output_type": "display_data",
          "data": {
            "text/plain": [
              "<Figure size 432x288 with 1 Axes>"
            ],
            "image/png": "[encoded data removed]"
          },
          "metadata": {
            "needs_background": "light"
          }
        }
      ]
    },
    {
      "cell_type": "markdown",
      "source": [
        "## Create a column for \"on time status\" to indicate if it's on time - True / False.\n",
        "\n",
        "Also, create a column where there are 3 states (on-time, delayed, and early) so that we can play with that later."
      ],
      "metadata": {
        "id": "i2-TEmwZKEJw"
      }
    },
    {
      "cell_type": "code",
      "source": [
        "fly['ON_TIME'] = fly['ARR_DELAY']\n",
        "fly['ON_TIME'] = fly['ON_TIME'].apply(lambda x: 1 if x <= 1 else 0)"
      ],
      "metadata": {
        "id": "n72rwG3QKSVF"
      },
      "execution_count": 10,
      "outputs": []
    },
    {
      "cell_type": "code",
      "source": [
        "# fly['STATUS'] = fly['ARR_DELAY']\n",
        "# fly['STATUS'] = fly['STATUS'].apply(lambda x: 'EARLY' if x < 0 else ('ONTIME' if x == 0 else 'DELAYED'))"
      ],
      "metadata": {
        "id": "QPnz0ebCLAVm"
      },
      "execution_count": 11,
      "outputs": []
    },
    {
      "cell_type": "markdown",
      "source": [
        "## Initially drop some columns\n",
        "* Drop all of the delay reason columns. Because they already tell you what it is."
      ],
      "metadata": {
        "id": "PLfYXYo-J2H-"
      }
    },
    {
      "cell_type": "code",
      "source": [
        "fly.info()"
      ],
      "metadata": {
        "colab": {
          "base_uri": "https://localhost:8080/"
        },
        "id": "4YrYlg2NJ6vl",
        "outputId": "ae143fa5-934e-44b4-e367-2738149308ac"
      },
      "execution_count": 12,
      "outputs": [
        {
          "output_type": "stream",
          "name": "stdout",
          "text": [
            "<class 'pandas.core.frame.DataFrame'>\n",
            "RangeIndex: 477183 entries, 0 to 477182\n",
            "Data columns (total 18 columns):\n",
            " #   Column               Non-Null Count   Dtype  \n",
            "---  ------               --------------   -----  \n",
            " 0   DAY_OF_MONTH         477183 non-null  int64  \n",
            " 1   DAY_OF_WEEK          477183 non-null  int64  \n",
            " 2   FL_DATE              477183 non-null  object \n",
            " 3   UNIQUE_CARRIER       477183 non-null  object \n",
            " 4   CARRIER              477183 non-null  object \n",
            " 5   FL_NUM               477183 non-null  int64  \n",
            " 6   ORIGIN               477183 non-null  object \n",
            " 7   ORIGIN_CITY_NAME     477183 non-null  object \n",
            " 8   DEST_CITY_NAME       477183 non-null  object \n",
            " 9   ARR_TIME             470175 non-null  float64\n",
            " 10  ARR_DELAY            469400 non-null  float64\n",
            " 11  CARRIER_DELAY        110163 non-null  float64\n",
            " 12  WEATHER_DELAY        110163 non-null  float64\n",
            " 13  NAS_DELAY            110163 non-null  float64\n",
            " 14  SECURITY_DELAY       110163 non-null  float64\n",
            " 15  LATE_AIRCRAFT_DELAY  110163 non-null  float64\n",
            " 16  Unnamed: 16          0 non-null       float64\n",
            " 17  ON_TIME              477183 non-null  int64  \n",
            "dtypes: float64(8), int64(4), object(6)\n",
            "memory usage: 65.5+ MB\n"
          ]
        }
      ]
    },
    {
      "cell_type": "code",
      "source": [
        "fly.drop(columns = ['ARR_DELAY', 'Unnamed: 16'], inplace=True)"
      ],
      "metadata": {
        "id": "7R25ttYzJ_5-"
      },
      "execution_count": 13,
      "outputs": []
    },
    {
      "cell_type": "markdown",
      "source": [
        "## Fill nulls"
      ],
      "metadata": {
        "id": "PM_H5bM-HT1G"
      }
    },
    {
      "cell_type": "code",
      "source": [
        "fly.isnull().sum()"
      ],
      "metadata": {
        "colab": {
          "base_uri": "https://localhost:8080/"
        },
        "id": "FoSGVod0MfXi",
        "outputId": "0f51883f-0e09-4b7b-aff8-3106b58d2f37"
      },
      "execution_count": 14,
      "outputs": [
        {
          "output_type": "execute_result",
          "data": {
            "text/plain": [
              "DAY_OF_MONTH                0\n",
              "DAY_OF_WEEK                 0\n",
              "FL_DATE                     0\n",
              "UNIQUE_CARRIER              0\n",
              "CARRIER                     0\n",
              "FL_NUM                      0\n",
              "ORIGIN                      0\n",
              "ORIGIN_CITY_NAME            0\n",
              "DEST_CITY_NAME              0\n",
              "ARR_TIME                 7008\n",
              "CARRIER_DELAY          367020\n",
              "WEATHER_DELAY          367020\n",
              "NAS_DELAY              367020\n",
              "SECURITY_DELAY         367020\n",
              "LATE_AIRCRAFT_DELAY    367020\n",
              "ON_TIME                     0\n",
              "dtype: int64"
            ]
          },
          "metadata": {},
          "execution_count": 14
        }
      ]
    },
    {
      "cell_type": "code",
      "source": [
        "fly.dropna(inplace=True)"
      ],
      "metadata": {
        "id": "4g9cSQiiZqo_"
      },
      "execution_count": 15,
      "outputs": []
    },
    {
      "cell_type": "markdown",
      "source": [
        "# Preprocessing"
      ],
      "metadata": {
        "id": "yyvdSDh5HTy4"
      }
    },
    {
      "cell_type": "code",
      "source": [
        "fly.info()"
      ],
      "metadata": {
        "colab": {
          "base_uri": "https://localhost:8080/"
        },
        "id": "c0I2FxqLMP-f",
        "outputId": "51cb708c-efe1-450a-cf67-e250789a8f37"
      },
      "execution_count": 16,
      "outputs": [
        {
          "output_type": "stream",
          "name": "stdout",
          "text": [
            "<class 'pandas.core.frame.DataFrame'>\n",
            "Int64Index: 110163 entries, 3 to 477182\n",
            "Data columns (total 16 columns):\n",
            " #   Column               Non-Null Count   Dtype  \n",
            "---  ------               --------------   -----  \n",
            " 0   DAY_OF_MONTH         110163 non-null  int64  \n",
            " 1   DAY_OF_WEEK          110163 non-null  int64  \n",
            " 2   FL_DATE              110163 non-null  object \n",
            " 3   UNIQUE_CARRIER       110163 non-null  object \n",
            " 4   CARRIER              110163 non-null  object \n",
            " 5   FL_NUM               110163 non-null  int64  \n",
            " 6   ORIGIN               110163 non-null  object \n",
            " 7   ORIGIN_CITY_NAME     110163 non-null  object \n",
            " 8   DEST_CITY_NAME       110163 non-null  object \n",
            " 9   ARR_TIME             110163 non-null  float64\n",
            " 10  CARRIER_DELAY        110163 non-null  float64\n",
            " 11  WEATHER_DELAY        110163 non-null  float64\n",
            " 12  NAS_DELAY            110163 non-null  float64\n",
            " 13  SECURITY_DELAY       110163 non-null  float64\n",
            " 14  LATE_AIRCRAFT_DELAY  110163 non-null  float64\n",
            " 15  ON_TIME              110163 non-null  int64  \n",
            "dtypes: float64(6), int64(4), object(6)\n",
            "memory usage: 14.3+ MB\n"
          ]
        }
      ]
    },
    {
      "cell_type": "markdown",
      "source": [
        "## Checking if datatypes are logically assigned\n",
        "* Day of month, Day of week should be categorical. They don't need to be ordered.\n",
        "* Carrier and unique carrier are probably duplicates, same with origin and origin city name\n",
        "* Add a column for status of on-time and delayed\n",
        "* Flight number is also an object"
      ],
      "metadata": {
        "id": "nLtevE3nHTwK"
      }
    },
    {
      "cell_type": "code",
      "source": [
        "fly.head()"
      ],
      "metadata": {
        "colab": {
          "base_uri": "https://localhost:8080/",
          "height": 206
        },
        "id": "0f4OdGjTMpRM",
        "outputId": "e226af8e-8aa4-43bc-f7d3-88df9a1f8057"
      },
      "execution_count": 17,
      "outputs": [
        {
          "output_type": "execute_result",
          "data": {
            "text/plain": [
              "    DAY_OF_MONTH  DAY_OF_WEEK     FL_DATE UNIQUE_CARRIER CARRIER  FL_NUM  \\\n",
              "3              1            1  2014-12-01             AA      AA       4   \n",
              "4              1            1  2014-12-01             AA      AA       5   \n",
              "5              1            1  2014-12-01             AA      AA       6   \n",
              "6              1            1  2014-12-01             AA      AA       7   \n",
              "16             1            1  2014-12-01             AA      AA      19   \n",
              "\n",
              "   ORIGIN       ORIGIN_CITY_NAME         DEST_CITY_NAME  ARR_TIME  \\\n",
              "3     LAX        Los Angeles, CA           New York, NY    2144.0   \n",
              "4     DFW  Dallas/Fort Worth, TX           Honolulu, HI    2033.0   \n",
              "5     OGG            Kahului, HI  Dallas/Fort Worth, TX     541.0   \n",
              "6     DFW  Dallas/Fort Worth, TX            Kahului, HI    1742.0   \n",
              "16    JFK           New York, NY        Los Angeles, CA    1441.0   \n",
              "\n",
              "    CARRIER_DELAY  WEATHER_DELAY  NAS_DELAY  SECURITY_DELAY  \\\n",
              "3             3.0            0.0        0.0             0.0   \n",
              "4           168.0            0.0        5.0             0.0   \n",
              "5             1.0            0.0        0.0             0.0   \n",
              "6            29.0            0.0        9.0             0.0   \n",
              "16            0.0            0.0       21.0             0.0   \n",
              "\n",
              "    LATE_AIRCRAFT_DELAY  ON_TIME  \n",
              "3                  51.0        0  \n",
              "4                   0.0        0  \n",
              "5                  30.0        0  \n",
              "6                  29.0        0  \n",
              "16                  0.0        0  "
            ],
            "text/html": [
              "\n",
              "  <div id=\"df-77cd21ca-1a25-4aef-93d1-499f0ee93826\">\n",
              "    <div class=\"colab-df-container\">\n",
              "      <div>\n",
              "<style scoped>\n",
              "    .dataframe tbody tr th:only-of-type {\n",
              "        vertical-align: middle;\n",
              "    }\n",
              "\n",
              "    .dataframe tbody tr th {\n",
              "        vertical-align: top;\n",
              "    }\n",
              "\n",
              "    .dataframe thead th {\n",
              "        text-align: right;\n",
              "    }\n",
              "</style>\n",
              "<table border=\"1\" class=\"dataframe\">\n",
              "  <thead>\n",
              "    <tr style=\"text-align: right;\">\n",
              "      <th></th>\n",
              "      <th>DAY_OF_MONTH</th>\n",
              "      <th>DAY_OF_WEEK</th>\n",
              "      <th>FL_DATE</th>\n",
              "      <th>UNIQUE_CARRIER</th>\n",
              "      <th>CARRIER</th>\n",
              "      <th>FL_NUM</th>\n",
              "      <th>ORIGIN</th>\n",
              "      <th>ORIGIN_CITY_NAME</th>\n",
              "      <th>DEST_CITY_NAME</th>\n",
              "      <th>ARR_TIME</th>\n",
              "      <th>CARRIER_DELAY</th>\n",
              "      <th>WEATHER_DELAY</th>\n",
              "      <th>NAS_DELAY</th>\n",
              "      <th>SECURITY_DELAY</th>\n",
              "      <th>LATE_AIRCRAFT_DELAY</th>\n",
              "      <th>ON_TIME</th>\n",
              "    </tr>\n",
              "  </thead>\n",
              "  <tbody>\n",
              "    <tr>\n",
              "      <th>3</th>\n",
              "      <td>1</td>\n",
              "      <td>1</td>\n",
              "      <td>2014-12-01</td>\n",
              "      <td>AA</td>\n",
              "      <td>AA</td>\n",
              "      <td>4</td>\n",
              "      <td>LAX</td>\n",
              "      <td>Los Angeles, CA</td>\n",
              "      <td>New York, NY</td>\n",
              "      <td>2144.0</td>\n",
              "      <td>3.0</td>\n",
              "      <td>0.0</td>\n",
              "      <td>0.0</td>\n",
              "      <td>0.0</td>\n",
              "      <td>51.0</td>\n",
              "      <td>0</td>\n",
              "    </tr>\n",
              "    <tr>\n",
              "      <th>4</th>\n",
              "      <td>1</td>\n",
              "      <td>1</td>\n",
              "      <td>2014-12-01</td>\n",
              "      <td>AA</td>\n",
              "      <td>AA</td>\n",
              "      <td>5</td>\n",
              "      <td>DFW</td>\n",
              "      <td>Dallas/Fort Worth, TX</td>\n",
              "      <td>Honolulu, HI</td>\n",
              "      <td>2033.0</td>\n",
              "      <td>168.0</td>\n",
              "      <td>0.0</td>\n",
              "      <td>5.0</td>\n",
              "      <td>0.0</td>\n",
              "      <td>0.0</td>\n",
              "      <td>0</td>\n",
              "    </tr>\n",
              "    <tr>\n",
              "      <th>5</th>\n",
              "      <td>1</td>\n",
              "      <td>1</td>\n",
              "      <td>2014-12-01</td>\n",
              "      <td>AA</td>\n",
              "      <td>AA</td>\n",
              "      <td>6</td>\n",
              "      <td>OGG</td>\n",
              "      <td>Kahului, HI</td>\n",
              "      <td>Dallas/Fort Worth, TX</td>\n",
              "      <td>541.0</td>\n",
              "      <td>1.0</td>\n",
              "      <td>0.0</td>\n",
              "      <td>0.0</td>\n",
              "      <td>0.0</td>\n",
              "      <td>30.0</td>\n",
              "      <td>0</td>\n",
              "    </tr>\n",
              "    <tr>\n",
              "      <th>6</th>\n",
              "      <td>1</td>\n",
              "      <td>1</td>\n",
              "      <td>2014-12-01</td>\n",
              "      <td>AA</td>\n",
              "      <td>AA</td>\n",
              "      <td>7</td>\n",
              "      <td>DFW</td>\n",
              "      <td>Dallas/Fort Worth, TX</td>\n",
              "      <td>Kahului, HI</td>\n",
              "      <td>1742.0</td>\n",
              "      <td>29.0</td>\n",
              "      <td>0.0</td>\n",
              "      <td>9.0</td>\n",
              "      <td>0.0</td>\n",
              "      <td>29.0</td>\n",
              "      <td>0</td>\n",
              "    </tr>\n",
              "    <tr>\n",
              "      <th>16</th>\n",
              "      <td>1</td>\n",
              "      <td>1</td>\n",
              "      <td>2014-12-01</td>\n",
              "      <td>AA</td>\n",
              "      <td>AA</td>\n",
              "      <td>19</td>\n",
              "      <td>JFK</td>\n",
              "      <td>New York, NY</td>\n",
              "      <td>Los Angeles, CA</td>\n",
              "      <td>1441.0</td>\n",
              "      <td>0.0</td>\n",
              "      <td>0.0</td>\n",
              "      <td>21.0</td>\n",
              "      <td>0.0</td>\n",
              "      <td>0.0</td>\n",
              "      <td>0</td>\n",
              "    </tr>\n",
              "  </tbody>\n",
              "</table>\n",
              "</div>\n",
              "      <button class=\"colab-df-convert\" onclick=\"convertToInteractive('df-77cd21ca-1a25-4aef-93d1-499f0ee93826')\"\n",
              "              title=\"Convert this dataframe to an interactive table.\"\n",
              "              style=\"display:none;\">\n",
              "        \n",
              "  <svg xmlns=\"http://www.w3.org/2000/svg\" height=\"24px\"viewBox=\"0 0 24 24\"\n",
              "       width=\"24px\">\n",
              "    <path d=\"M0 0h24v24H0V0z\" fill=\"none\"/>\n",
              "    <path d=\"M18.56 5.44l.94 2.06.94-2.06 2.06-.94-2.06-.94-.94-2.06-.94 2.06-2.06.94zm-11 1L8.5 8.5l.94-2.06 2.06-.94-2.06-.94L8.5 2.5l-.94 2.06-2.06.94zm10 10l.94 2.06.94-2.06 2.06-.94-2.06-.94-.94-2.06-.94 2.06-2.06.94z\"/><path d=\"M17.41 7.96l-1.37-1.37c-.4-.4-.92-.59-1.43-.59-.52 0-1.04.2-1.43.59L10.3 9.45l-7.72 7.72c-.78.78-.78 2.05 0 2.83L4 21.41c.39.39.9.59 1.41.59.51 0 1.02-.2 1.41-.59l7.78-7.78 2.81-2.81c.8-.78.8-2.07 0-2.86zM5.41 20L4 18.59l7.72-7.72 1.47 1.35L5.41 20z\"/>\n",
              "  </svg>\n",
              "      </button>\n",
              "      \n",
              "  <style>\n",
              "    .colab-df-container {\n",
              "      display:flex;\n",
              "      flex-wrap:wrap;\n",
              "      gap: 12px;\n",
              "    }\n",
              "\n",
              "    .colab-df-convert {\n",
              "      background-color: #E8F0FE;\n",
              "      border: none;\n",
              "      border-radius: 50%;\n",
              "      cursor: pointer;\n",
              "      display: none;\n",
              "      fill: #1967D2;\n",
              "      height: 32px;\n",
              "      padding: 0 0 0 0;\n",
              "      width: 32px;\n",
              "    }\n",
              "\n",
              "    .colab-df-convert:hover {\n",
              "      background-color: #E2EBFA;\n",
              "      box-shadow: 0px 1px 2px rgba(60, 64, 67, 0.3), 0px 1px 3px 1px rgba(60, 64, 67, 0.15);\n",
              "      fill: #174EA6;\n",
              "    }\n",
              "\n",
              "    [theme=dark] .colab-df-convert {\n",
              "      background-color: #3B4455;\n",
              "      fill: #D2E3FC;\n",
              "    }\n",
              "\n",
              "    [theme=dark] .colab-df-convert:hover {\n",
              "      background-color: #434B5C;\n",
              "      box-shadow: 0px 1px 3px 1px rgba(0, 0, 0, 0.15);\n",
              "      filter: drop-shadow(0px 1px 2px rgba(0, 0, 0, 0.3));\n",
              "      fill: #FFFFFF;\n",
              "    }\n",
              "  </style>\n",
              "\n",
              "      <script>\n",
              "        const buttonEl =\n",
              "          document.querySelector('#df-77cd21ca-1a25-4aef-93d1-499f0ee93826 button.colab-df-convert');\n",
              "        buttonEl.style.display =\n",
              "          google.colab.kernel.accessAllowed ? 'block' : 'none';\n",
              "\n",
              "        async function convertToInteractive(key) {\n",
              "          const element = document.querySelector('#df-77cd21ca-1a25-4aef-93d1-499f0ee93826');\n",
              "          const dataTable =\n",
              "            await google.colab.kernel.invokeFunction('convertToInteractive',\n",
              "                                                     [key], {});\n",
              "          if (!dataTable) return;\n",
              "\n",
              "          const docLinkHtml = 'Like what you see? Visit the ' +\n",
              "            '<a target=\"_blank\" href=https://colab.research.google.com/notebooks/data_table.ipynb>data table notebook</a>'\n",
              "            + ' to learn more about interactive tables.';\n",
              "          element.innerHTML = '';\n",
              "          dataTable['output_type'] = 'display_data';\n",
              "          await google.colab.output.renderOutput(dataTable, element);\n",
              "          const docLink = document.createElement('div');\n",
              "          docLink.innerHTML = docLinkHtml;\n",
              "          element.appendChild(docLink);\n",
              "        }\n",
              "      </script>\n",
              "    </div>\n",
              "  </div>\n",
              "  "
            ]
          },
          "metadata": {},
          "execution_count": 17
        }
      ]
    },
    {
      "cell_type": "code",
      "source": [
        "fly['DAY_OF_MONTH'] = fly['DAY_OF_MONTH'].astype('object')\n",
        "fly['DAY_OF_WEEK'] = fly['DAY_OF_WEEK'].astype('object')\n",
        "fly['FL_DATE'] = fly['FL_DATE'].astype('object')\n",
        "fly['FL_NUM'] = fly['FL_NUM'].astype('object')"
      ],
      "metadata": {
        "id": "5Td0rAKFNss0"
      },
      "execution_count": 18,
      "outputs": []
    },
    {
      "cell_type": "code",
      "source": [
        "fly.info()"
      ],
      "metadata": {
        "colab": {
          "base_uri": "https://localhost:8080/"
        },
        "id": "TuQKWyhTN5Ea",
        "outputId": "5c68d322-c984-471d-cc6f-a722fedea4f9"
      },
      "execution_count": 19,
      "outputs": [
        {
          "output_type": "stream",
          "name": "stdout",
          "text": [
            "<class 'pandas.core.frame.DataFrame'>\n",
            "Int64Index: 110163 entries, 3 to 477182\n",
            "Data columns (total 16 columns):\n",
            " #   Column               Non-Null Count   Dtype  \n",
            "---  ------               --------------   -----  \n",
            " 0   DAY_OF_MONTH         110163 non-null  object \n",
            " 1   DAY_OF_WEEK          110163 non-null  object \n",
            " 2   FL_DATE              110163 non-null  object \n",
            " 3   UNIQUE_CARRIER       110163 non-null  object \n",
            " 4   CARRIER              110163 non-null  object \n",
            " 5   FL_NUM               110163 non-null  object \n",
            " 6   ORIGIN               110163 non-null  object \n",
            " 7   ORIGIN_CITY_NAME     110163 non-null  object \n",
            " 8   DEST_CITY_NAME       110163 non-null  object \n",
            " 9   ARR_TIME             110163 non-null  float64\n",
            " 10  CARRIER_DELAY        110163 non-null  float64\n",
            " 11  WEATHER_DELAY        110163 non-null  float64\n",
            " 12  NAS_DELAY            110163 non-null  float64\n",
            " 13  SECURITY_DELAY       110163 non-null  float64\n",
            " 14  LATE_AIRCRAFT_DELAY  110163 non-null  float64\n",
            " 15  ON_TIME              110163 non-null  int64  \n",
            "dtypes: float64(6), int64(1), object(9)\n",
            "memory usage: 14.3+ MB\n"
          ]
        }
      ]
    },
    {
      "cell_type": "markdown",
      "source": [
        "## Transforming"
      ],
      "metadata": {
        "id": "FqlSHjIiHTt6"
      }
    },
    {
      "cell_type": "code",
      "source": [
        "fly.ARR_TIME.skew()"
      ],
      "metadata": {
        "colab": {
          "base_uri": "https://localhost:8080/"
        },
        "id": "1Q5tr9-aStYH",
        "outputId": "61cb71d8-6950-499d-d4ac-42996d09dbe9"
      },
      "execution_count": 20,
      "outputs": [
        {
          "output_type": "execute_result",
          "data": {
            "text/plain": [
              "-1.0788984688866163"
            ]
          },
          "metadata": {},
          "execution_count": 20
        }
      ]
    },
    {
      "cell_type": "code",
      "source": [
        "#fly.ARR_DELAY.hist(bins = 30)"
      ],
      "metadata": {
        "id": "guz1csoadWJX"
      },
      "execution_count": 21,
      "outputs": []
    },
    {
      "cell_type": "code",
      "source": [
        "#fly['ARR_DELAY'] = list(stats.yeojohnson(fly.ARR_DELAY)[0])"
      ],
      "metadata": {
        "id": "_UczQd48dgLn"
      },
      "execution_count": 22,
      "outputs": []
    },
    {
      "cell_type": "markdown",
      "source": [
        "## Dropping columns\n"
      ],
      "metadata": {
        "id": "gOJS7Z-5HTrc"
      }
    },
    {
      "cell_type": "markdown",
      "source": [
        "Drop Carrier and origin city name since they are repeats, so is flight date"
      ],
      "metadata": {
        "id": "76CUzzxLNd0J"
      }
    },
    {
      "cell_type": "code",
      "source": [
        "fly.drop(columns = ['UNIQUE_CARRIER', 'ORIGIN_CITY_NAME', 'FL_DATE'], inplace=True)"
      ],
      "metadata": {
        "id": "MkUBVH2jNjCL"
      },
      "execution_count": 23,
      "outputs": []
    },
    {
      "cell_type": "markdown",
      "source": [
        "## Scaling"
      ],
      "metadata": {
        "id": "KpkCPYFFHTpU"
      }
    },
    {
      "cell_type": "code",
      "source": [
        "bool_list = [] # initiate a list\n",
        "for (xcolname, xcol) in fly.iteritems(): # iterate through columns that\n",
        "  bool_test = xcol.value_counts().index.tolist() # find the number of unique values per column\n",
        "  if 1 and 0 in bool_test and len(bool_test) == 2: # if there are only 2 unique values, add them to the list\n",
        "    bool_list.append(xcolname)\n",
        "\n",
        "print(bool_list)# print the list"
      ],
      "metadata": {
        "colab": {
          "base_uri": "https://localhost:8080/"
        },
        "id": "OxaLpu2dWy47",
        "outputId": "9c58366b-67f1-4cb5-d51a-b73a399e641b"
      },
      "execution_count": 24,
      "outputs": [
        {
          "output_type": "stream",
          "name": "stdout",
          "text": [
            "[]\n"
          ]
        }
      ]
    },
    {
      "cell_type": "code",
      "source": [
        "for i in bool_list:\n",
        "  fly[i] = fly[i].astype('bool')"
      ],
      "metadata": {
        "id": "8s_HeXspW1Q_"
      },
      "execution_count": 25,
      "outputs": []
    },
    {
      "cell_type": "code",
      "source": [
        "num_cols_to_scale = fly.select_dtypes(exclude = ['object', 'bool']).columns.values.tolist()\n",
        "num_cols_to_scale"
      ],
      "metadata": {
        "colab": {
          "base_uri": "https://localhost:8080/"
        },
        "id": "MSkegpIdW8Ly",
        "outputId": "0c2be5c2-4ca7-4e7c-9bc5-7dd048daefaf"
      },
      "execution_count": 26,
      "outputs": [
        {
          "output_type": "execute_result",
          "data": {
            "text/plain": [
              "['ARR_TIME',\n",
              " 'CARRIER_DELAY',\n",
              " 'WEATHER_DELAY',\n",
              " 'NAS_DELAY',\n",
              " 'SECURITY_DELAY',\n",
              " 'LATE_AIRCRAFT_DELAY',\n",
              " 'ON_TIME']"
            ]
          },
          "metadata": {},
          "execution_count": 26
        }
      ]
    },
    {
      "cell_type": "markdown",
      "source": [
        "### Robust scaler"
      ],
      "metadata": {
        "id": "9FtEBqcCHTmt"
      }
    },
    {
      "cell_type": "code",
      "source": [
        "robust_scaler = RobustScaler().fit(fly[num_cols_to_scale])\n",
        "fly[num_cols_to_scale] = robust_scaler.transform(fly[num_cols_to_scale])"
      ],
      "metadata": {
        "id": "u_yX4jYzWhih"
      },
      "execution_count": 27,
      "outputs": []
    },
    {
      "cell_type": "markdown",
      "source": [
        "### Standard scaler"
      ],
      "metadata": {
        "id": "AqFEIYU4HTkb"
      }
    },
    {
      "cell_type": "code",
      "source": [
        "# standard_scaler = StandardScaler().fit(fly[num_cols_to_scale])\n",
        "# fly[num_cols_to_scale] = standard_scaler.transform(fly[num_cols_to_scale])"
      ],
      "metadata": {
        "id": "q67wQreDWgD_"
      },
      "execution_count": 28,
      "outputs": []
    },
    {
      "cell_type": "markdown",
      "source": [
        "## Encoding"
      ],
      "metadata": {
        "id": "MJ-CTHjMHjM-"
      }
    },
    {
      "cell_type": "code",
      "source": [
        "fly.info()"
      ],
      "metadata": {
        "colab": {
          "base_uri": "https://localhost:8080/"
        },
        "id": "kv22h85TWVNc",
        "outputId": "41865706-10e4-4afc-c599-f61ce586de24"
      },
      "execution_count": 29,
      "outputs": [
        {
          "output_type": "stream",
          "name": "stdout",
          "text": [
            "<class 'pandas.core.frame.DataFrame'>\n",
            "Int64Index: 110163 entries, 3 to 477182\n",
            "Data columns (total 13 columns):\n",
            " #   Column               Non-Null Count   Dtype  \n",
            "---  ------               --------------   -----  \n",
            " 0   DAY_OF_MONTH         110163 non-null  object \n",
            " 1   DAY_OF_WEEK          110163 non-null  object \n",
            " 2   CARRIER              110163 non-null  object \n",
            " 3   FL_NUM               110163 non-null  object \n",
            " 4   ORIGIN               110163 non-null  object \n",
            " 5   DEST_CITY_NAME       110163 non-null  object \n",
            " 6   ARR_TIME             110163 non-null  float64\n",
            " 7   CARRIER_DELAY        110163 non-null  float64\n",
            " 8   WEATHER_DELAY        110163 non-null  float64\n",
            " 9   NAS_DELAY            110163 non-null  float64\n",
            " 10  SECURITY_DELAY       110163 non-null  float64\n",
            " 11  LATE_AIRCRAFT_DELAY  110163 non-null  float64\n",
            " 12  ON_TIME              110163 non-null  float64\n",
            "dtypes: float64(7), object(6)\n",
            "memory usage: 11.8+ MB\n"
          ]
        }
      ]
    },
    {
      "cell_type": "code",
      "source": [
        "x = fly.loc[:,fly.columns != 'ON_TIME']\n",
        "y = fly.ON_TIME"
      ],
      "metadata": {
        "id": "iksCyW4aYXAP"
      },
      "execution_count": 30,
      "outputs": []
    },
    {
      "cell_type": "code",
      "source": [
        "x, y"
      ],
      "metadata": {
        "colab": {
          "base_uri": "https://localhost:8080/"
        },
        "id": "-Y6JD9b5YsVM",
        "outputId": "22fb8493-fb4f-406a-cb3c-7562d5e9813f"
      },
      "execution_count": 31,
      "outputs": [
        {
          "output_type": "execute_result",
          "data": {
            "text/plain": [
              "(       DAY_OF_MONTH DAY_OF_WEEK CARRIER FL_NUM ORIGIN         DEST_CITY_NAME  \\\n",
              " 3                 1           1      AA      4    LAX           New York, NY   \n",
              " 4                 1           1      AA      5    DFW           Honolulu, HI   \n",
              " 5                 1           1      AA      6    OGG  Dallas/Fort Worth, TX   \n",
              " 6                 1           1      AA      7    DFW            Kahului, HI   \n",
              " 16                1           1      AA     19    JFK        Los Angeles, CA   \n",
              " ...             ...         ...     ...    ...    ...                    ...   \n",
              " 477168           31           3      WN    477    SMF            Ontario, CA   \n",
              " 477173           31           3      WN   2088    SMF            Phoenix, AZ   \n",
              " 477175           31           3      WN   4839    SMF            Phoenix, AZ   \n",
              " 477179           31           3      WN   3128    SMF          San Diego, CA   \n",
              " 477182           31           3      WN    178    SMF            Seattle, WA   \n",
              " \n",
              "         ARR_TIME  CARRIER_DELAY  WEATHER_DELAY  NAS_DELAY  SECURITY_DELAY  \\\n",
              " 3       0.584254       0.000000            0.0  -0.176471             0.0   \n",
              " 4       0.430939       9.705882            0.0   0.117647             0.0   \n",
              " 5      -1.629834      -0.117647            0.0  -0.176471             0.0   \n",
              " 6       0.029006       1.529412            0.0   0.352941             0.0   \n",
              " 16     -0.386740      -0.176471            0.0   1.058824             0.0   \n",
              " ...          ...            ...            ...        ...             ...   \n",
              " 477168 -0.305249       0.352941            0.0  -0.176471             0.0   \n",
              " 477173 -0.165746       0.235294            0.0   0.176471             0.0   \n",
              " 477175 -0.570442       0.294118            0.0   0.705882             0.0   \n",
              " 477179  0.421271      -0.176471            0.0  -0.176471             0.0   \n",
              " 477182 -0.276243       1.941176            0.0  -0.176471             0.0   \n",
              " \n",
              "         LATE_AIRCRAFT_DELAY  \n",
              " 3                  1.433333  \n",
              " 4                 -0.266667  \n",
              " 5                  0.733333  \n",
              " 6                  0.700000  \n",
              " 16                -0.266667  \n",
              " ...                     ...  \n",
              " 477168             0.933333  \n",
              " 477173             0.500000  \n",
              " 477175            -0.266667  \n",
              " 477179             0.433333  \n",
              " 477182            -0.266667  \n",
              " \n",
              " [110163 rows x 12 columns], 3         0.0\n",
              " 4         0.0\n",
              " 5         0.0\n",
              " 6         0.0\n",
              " 16        0.0\n",
              "          ... \n",
              " 477168    0.0\n",
              " 477173    0.0\n",
              " 477175    0.0\n",
              " 477179    0.0\n",
              " 477182    0.0\n",
              " Name: ON_TIME, Length: 110163, dtype: float64)"
            ]
          },
          "metadata": {},
          "execution_count": 31
        }
      ]
    },
    {
      "cell_type": "code",
      "source": [
        "encoder = ce.LeaveOneOutEncoder(return_df=True)"
      ],
      "metadata": {
        "id": "b-igFPmZOMJH"
      },
      "execution_count": 32,
      "outputs": []
    },
    {
      "cell_type": "code",
      "source": [
        "encoded_fly = encoder.fit_transform(x, y)"
      ],
      "metadata": {
        "id": "8M6XliZTYlZ1"
      },
      "execution_count": 33,
      "outputs": []
    },
    {
      "cell_type": "code",
      "source": [
        "encoded_fly"
      ],
      "metadata": {
        "colab": {
          "base_uri": "https://localhost:8080/",
          "height": 424
        },
        "id": "D0IpD_qdYzCg",
        "outputId": "616899df-144a-4706-fa0f-18bb88628868"
      },
      "execution_count": 34,
      "outputs": [
        {
          "output_type": "execute_result",
          "data": {
            "text/plain": [
              "        DAY_OF_MONTH  DAY_OF_WEEK  CARRIER  FL_NUM  ORIGIN  DEST_CITY_NAME  \\\n",
              "3                0.0          0.0      0.0     0.0     0.0             0.0   \n",
              "4                0.0          0.0      0.0     0.0     0.0             0.0   \n",
              "5                0.0          0.0      0.0     0.0     0.0             0.0   \n",
              "6                0.0          0.0      0.0     0.0     0.0             0.0   \n",
              "16               0.0          0.0      0.0     0.0     0.0             0.0   \n",
              "...              ...          ...      ...     ...     ...             ...   \n",
              "477168           0.0          0.0      0.0     0.0     0.0             0.0   \n",
              "477173           0.0          0.0      0.0     0.0     0.0             0.0   \n",
              "477175           0.0          0.0      0.0     0.0     0.0             0.0   \n",
              "477179           0.0          0.0      0.0     0.0     0.0             0.0   \n",
              "477182           0.0          0.0      0.0     0.0     0.0             0.0   \n",
              "\n",
              "        ARR_TIME  CARRIER_DELAY  WEATHER_DELAY  NAS_DELAY  SECURITY_DELAY  \\\n",
              "3       0.584254       0.000000            0.0  -0.176471             0.0   \n",
              "4       0.430939       9.705882            0.0   0.117647             0.0   \n",
              "5      -1.629834      -0.117647            0.0  -0.176471             0.0   \n",
              "6       0.029006       1.529412            0.0   0.352941             0.0   \n",
              "16     -0.386740      -0.176471            0.0   1.058824             0.0   \n",
              "...          ...            ...            ...        ...             ...   \n",
              "477168 -0.305249       0.352941            0.0  -0.176471             0.0   \n",
              "477173 -0.165746       0.235294            0.0   0.176471             0.0   \n",
              "477175 -0.570442       0.294118            0.0   0.705882             0.0   \n",
              "477179  0.421271      -0.176471            0.0  -0.176471             0.0   \n",
              "477182 -0.276243       1.941176            0.0  -0.176471             0.0   \n",
              "\n",
              "        LATE_AIRCRAFT_DELAY  \n",
              "3                  1.433333  \n",
              "4                 -0.266667  \n",
              "5                  0.733333  \n",
              "6                  0.700000  \n",
              "16                -0.266667  \n",
              "...                     ...  \n",
              "477168             0.933333  \n",
              "477173             0.500000  \n",
              "477175            -0.266667  \n",
              "477179             0.433333  \n",
              "477182            -0.266667  \n",
              "\n",
              "[110163 rows x 12 columns]"
            ],
            "text/html": [
              "\n",
              "  <div id=\"df-95c8bc6f-52d1-4456-8f54-7f3e2edd4be3\">\n",
              "    <div class=\"colab-df-container\">\n",
              "      <div>\n",
              "<style scoped>\n",
              "    .dataframe tbody tr th:only-of-type {\n",
              "        vertical-align: middle;\n",
              "    }\n",
              "\n",
              "    .dataframe tbody tr th {\n",
              "        vertical-align: top;\n",
              "    }\n",
              "\n",
              "    .dataframe thead th {\n",
              "        text-align: right;\n",
              "    }\n",
              "</style>\n",
              "<table border=\"1\" class=\"dataframe\">\n",
              "  <thead>\n",
              "    <tr style=\"text-align: right;\">\n",
              "      <th></th>\n",
              "      <th>DAY_OF_MONTH</th>\n",
              "      <th>DAY_OF_WEEK</th>\n",
              "      <th>CARRIER</th>\n",
              "      <th>FL_NUM</th>\n",
              "      <th>ORIGIN</th>\n",
              "      <th>DEST_CITY_NAME</th>\n",
              "      <th>ARR_TIME</th>\n",
              "      <th>CARRIER_DELAY</th>\n",
              "      <th>WEATHER_DELAY</th>\n",
              "      <th>NAS_DELAY</th>\n",
              "      <th>SECURITY_DELAY</th>\n",
              "      <th>LATE_AIRCRAFT_DELAY</th>\n",
              "    </tr>\n",
              "  </thead>\n",
              "  <tbody>\n",
              "    <tr>\n",
              "      <th>3</th>\n",
              "      <td>0.0</td>\n",
              "      <td>0.0</td>\n",
              "      <td>0.0</td>\n",
              "      <td>0.0</td>\n",
              "      <td>0.0</td>\n",
              "      <td>0.0</td>\n",
              "      <td>0.584254</td>\n",
              "      <td>0.000000</td>\n",
              "      <td>0.0</td>\n",
              "      <td>-0.176471</td>\n",
              "      <td>0.0</td>\n",
              "      <td>1.433333</td>\n",
              "    </tr>\n",
              "    <tr>\n",
              "      <th>4</th>\n",
              "      <td>0.0</td>\n",
              "      <td>0.0</td>\n",
              "      <td>0.0</td>\n",
              "      <td>0.0</td>\n",
              "      <td>0.0</td>\n",
              "      <td>0.0</td>\n",
              "      <td>0.430939</td>\n",
              "      <td>9.705882</td>\n",
              "      <td>0.0</td>\n",
              "      <td>0.117647</td>\n",
              "      <td>0.0</td>\n",
              "      <td>-0.266667</td>\n",
              "    </tr>\n",
              "    <tr>\n",
              "      <th>5</th>\n",
              "      <td>0.0</td>\n",
              "      <td>0.0</td>\n",
              "      <td>0.0</td>\n",
              "      <td>0.0</td>\n",
              "      <td>0.0</td>\n",
              "      <td>0.0</td>\n",
              "      <td>-1.629834</td>\n",
              "      <td>-0.117647</td>\n",
              "      <td>0.0</td>\n",
              "      <td>-0.176471</td>\n",
              "      <td>0.0</td>\n",
              "      <td>0.733333</td>\n",
              "    </tr>\n",
              "    <tr>\n",
              "      <th>6</th>\n",
              "      <td>0.0</td>\n",
              "      <td>0.0</td>\n",
              "      <td>0.0</td>\n",
              "      <td>0.0</td>\n",
              "      <td>0.0</td>\n",
              "      <td>0.0</td>\n",
              "      <td>0.029006</td>\n",
              "      <td>1.529412</td>\n",
              "      <td>0.0</td>\n",
              "      <td>0.352941</td>\n",
              "      <td>0.0</td>\n",
              "      <td>0.700000</td>\n",
              "    </tr>\n",
              "    <tr>\n",
              "      <th>16</th>\n",
              "      <td>0.0</td>\n",
              "      <td>0.0</td>\n",
              "      <td>0.0</td>\n",
              "      <td>0.0</td>\n",
              "      <td>0.0</td>\n",
              "      <td>0.0</td>\n",
              "      <td>-0.386740</td>\n",
              "      <td>-0.176471</td>\n",
              "      <td>0.0</td>\n",
              "      <td>1.058824</td>\n",
              "      <td>0.0</td>\n",
              "      <td>-0.266667</td>\n",
              "    </tr>\n",
              "    <tr>\n",
              "      <th>...</th>\n",
              "      <td>...</td>\n",
              "      <td>...</td>\n",
              "      <td>...</td>\n",
              "      <td>...</td>\n",
              "      <td>...</td>\n",
              "      <td>...</td>\n",
              "      <td>...</td>\n",
              "      <td>...</td>\n",
              "      <td>...</td>\n",
              "      <td>...</td>\n",
              "      <td>...</td>\n",
              "      <td>...</td>\n",
              "    </tr>\n",
              "    <tr>\n",
              "      <th>477168</th>\n",
              "      <td>0.0</td>\n",
              "      <td>0.0</td>\n",
              "      <td>0.0</td>\n",
              "      <td>0.0</td>\n",
              "      <td>0.0</td>\n",
              "      <td>0.0</td>\n",
              "      <td>-0.305249</td>\n",
              "      <td>0.352941</td>\n",
              "      <td>0.0</td>\n",
              "      <td>-0.176471</td>\n",
              "      <td>0.0</td>\n",
              "      <td>0.933333</td>\n",
              "    </tr>\n",
              "    <tr>\n",
              "      <th>477173</th>\n",
              "      <td>0.0</td>\n",
              "      <td>0.0</td>\n",
              "      <td>0.0</td>\n",
              "      <td>0.0</td>\n",
              "      <td>0.0</td>\n",
              "      <td>0.0</td>\n",
              "      <td>-0.165746</td>\n",
              "      <td>0.235294</td>\n",
              "      <td>0.0</td>\n",
              "      <td>0.176471</td>\n",
              "      <td>0.0</td>\n",
              "      <td>0.500000</td>\n",
              "    </tr>\n",
              "    <tr>\n",
              "      <th>477175</th>\n",
              "      <td>0.0</td>\n",
              "      <td>0.0</td>\n",
              "      <td>0.0</td>\n",
              "      <td>0.0</td>\n",
              "      <td>0.0</td>\n",
              "      <td>0.0</td>\n",
              "      <td>-0.570442</td>\n",
              "      <td>0.294118</td>\n",
              "      <td>0.0</td>\n",
              "      <td>0.705882</td>\n",
              "      <td>0.0</td>\n",
              "      <td>-0.266667</td>\n",
              "    </tr>\n",
              "    <tr>\n",
              "      <th>477179</th>\n",
              "      <td>0.0</td>\n",
              "      <td>0.0</td>\n",
              "      <td>0.0</td>\n",
              "      <td>0.0</td>\n",
              "      <td>0.0</td>\n",
              "      <td>0.0</td>\n",
              "      <td>0.421271</td>\n",
              "      <td>-0.176471</td>\n",
              "      <td>0.0</td>\n",
              "      <td>-0.176471</td>\n",
              "      <td>0.0</td>\n",
              "      <td>0.433333</td>\n",
              "    </tr>\n",
              "    <tr>\n",
              "      <th>477182</th>\n",
              "      <td>0.0</td>\n",
              "      <td>0.0</td>\n",
              "      <td>0.0</td>\n",
              "      <td>0.0</td>\n",
              "      <td>0.0</td>\n",
              "      <td>0.0</td>\n",
              "      <td>-0.276243</td>\n",
              "      <td>1.941176</td>\n",
              "      <td>0.0</td>\n",
              "      <td>-0.176471</td>\n",
              "      <td>0.0</td>\n",
              "      <td>-0.266667</td>\n",
              "    </tr>\n",
              "  </tbody>\n",
              "</table>\n",
              "<p>110163 rows × 12 columns</p>\n",
              "</div>\n",
              "      <button class=\"colab-df-convert\" onclick=\"convertToInteractive('df-95c8bc6f-52d1-4456-8f54-7f3e2edd4be3')\"\n",
              "              title=\"Convert this dataframe to an interactive table.\"\n",
              "              style=\"display:none;\">\n",
              "        \n",
              "  <svg xmlns=\"http://www.w3.org/2000/svg\" height=\"24px\"viewBox=\"0 0 24 24\"\n",
              "       width=\"24px\">\n",
              "    <path d=\"M0 0h24v24H0V0z\" fill=\"none\"/>\n",
              "    <path d=\"M18.56 5.44l.94 2.06.94-2.06 2.06-.94-2.06-.94-.94-2.06-.94 2.06-2.06.94zm-11 1L8.5 8.5l.94-2.06 2.06-.94-2.06-.94L8.5 2.5l-.94 2.06-2.06.94zm10 10l.94 2.06.94-2.06 2.06-.94-2.06-.94-.94-2.06-.94 2.06-2.06.94z\"/><path d=\"M17.41 7.96l-1.37-1.37c-.4-.4-.92-.59-1.43-.59-.52 0-1.04.2-1.43.59L10.3 9.45l-7.72 7.72c-.78.78-.78 2.05 0 2.83L4 21.41c.39.39.9.59 1.41.59.51 0 1.02-.2 1.41-.59l7.78-7.78 2.81-2.81c.8-.78.8-2.07 0-2.86zM5.41 20L4 18.59l7.72-7.72 1.47 1.35L5.41 20z\"/>\n",
              "  </svg>\n",
              "      </button>\n",
              "      \n",
              "  <style>\n",
              "    .colab-df-container {\n",
              "      display:flex;\n",
              "      flex-wrap:wrap;\n",
              "      gap: 12px;\n",
              "    }\n",
              "\n",
              "    .colab-df-convert {\n",
              "      background-color: #E8F0FE;\n",
              "      border: none;\n",
              "      border-radius: 50%;\n",
              "      cursor: pointer;\n",
              "      display: none;\n",
              "      fill: #1967D2;\n",
              "      height: 32px;\n",
              "      padding: 0 0 0 0;\n",
              "      width: 32px;\n",
              "    }\n",
              "\n",
              "    .colab-df-convert:hover {\n",
              "      background-color: #E2EBFA;\n",
              "      box-shadow: 0px 1px 2px rgba(60, 64, 67, 0.3), 0px 1px 3px 1px rgba(60, 64, 67, 0.15);\n",
              "      fill: #174EA6;\n",
              "    }\n",
              "\n",
              "    [theme=dark] .colab-df-convert {\n",
              "      background-color: #3B4455;\n",
              "      fill: #D2E3FC;\n",
              "    }\n",
              "\n",
              "    [theme=dark] .colab-df-convert:hover {\n",
              "      background-color: #434B5C;\n",
              "      box-shadow: 0px 1px 3px 1px rgba(0, 0, 0, 0.15);\n",
              "      filter: drop-shadow(0px 1px 2px rgba(0, 0, 0, 0.3));\n",
              "      fill: #FFFFFF;\n",
              "    }\n",
              "  </style>\n",
              "\n",
              "      <script>\n",
              "        const buttonEl =\n",
              "          document.querySelector('#df-95c8bc6f-52d1-4456-8f54-7f3e2edd4be3 button.colab-df-convert');\n",
              "        buttonEl.style.display =\n",
              "          google.colab.kernel.accessAllowed ? 'block' : 'none';\n",
              "\n",
              "        async function convertToInteractive(key) {\n",
              "          const element = document.querySelector('#df-95c8bc6f-52d1-4456-8f54-7f3e2edd4be3');\n",
              "          const dataTable =\n",
              "            await google.colab.kernel.invokeFunction('convertToInteractive',\n",
              "                                                     [key], {});\n",
              "          if (!dataTable) return;\n",
              "\n",
              "          const docLinkHtml = 'Like what you see? Visit the ' +\n",
              "            '<a target=\"_blank\" href=https://colab.research.google.com/notebooks/data_table.ipynb>data table notebook</a>'\n",
              "            + ' to learn more about interactive tables.';\n",
              "          element.innerHTML = '';\n",
              "          dataTable['output_type'] = 'display_data';\n",
              "          await google.colab.output.renderOutput(dataTable, element);\n",
              "          const docLink = document.createElement('div');\n",
              "          docLink.innerHTML = docLinkHtml;\n",
              "          element.appendChild(docLink);\n",
              "        }\n",
              "      </script>\n",
              "    </div>\n",
              "  </div>\n",
              "  "
            ]
          },
          "metadata": {},
          "execution_count": 34
        }
      ]
    },
    {
      "cell_type": "code",
      "source": [
        "encoded_fly.describe()"
      ],
      "metadata": {
        "colab": {
          "base_uri": "https://localhost:8080/",
          "height": 300
        },
        "id": "AIU7SBmyZNO4",
        "outputId": "26f8591b-652a-48b9-86b0-28598ac4d673"
      },
      "execution_count": 35,
      "outputs": [
        {
          "output_type": "execute_result",
          "data": {
            "text/plain": [
              "       DAY_OF_MONTH  DAY_OF_WEEK   CARRIER    FL_NUM    ORIGIN  \\\n",
              "count      110163.0     110163.0  110163.0  110163.0  110163.0   \n",
              "mean            0.0          0.0       0.0       0.0       0.0   \n",
              "std             0.0          0.0       0.0       0.0       0.0   \n",
              "min             0.0          0.0       0.0       0.0       0.0   \n",
              "25%             0.0          0.0       0.0       0.0       0.0   \n",
              "50%             0.0          0.0       0.0       0.0       0.0   \n",
              "75%             0.0          0.0       0.0       0.0       0.0   \n",
              "max             0.0          0.0       0.0       0.0       0.0   \n",
              "\n",
              "       DEST_CITY_NAME       ARR_TIME  CARRIER_DELAY  WEATHER_DELAY  \\\n",
              "count        110163.0  110163.000000  110163.000000  110163.000000   \n",
              "mean              0.0      -0.159655       0.820031       1.286866   \n",
              "std               0.0       0.785653       2.613967      13.769430   \n",
              "min               0.0      -2.375691      -0.176471       0.000000   \n",
              "25%               0.0      -0.563536      -0.176471       0.000000   \n",
              "50%               0.0       0.000000       0.000000       0.000000   \n",
              "75%               0.0       0.436464       0.823529       0.000000   \n",
              "max               0.0       0.937845     113.764706     966.000000   \n",
              "\n",
              "           NAS_DELAY  SECURITY_DELAY  LATE_AIRCRAFT_DELAY  \n",
              "count  110163.000000   110163.000000        110163.000000  \n",
              "mean        0.580050        0.064722             0.495634  \n",
              "std         1.507272        1.638324             1.327661  \n",
              "min        -0.176471        0.000000            -0.266667  \n",
              "25%        -0.176471        0.000000            -0.266667  \n",
              "50%         0.000000        0.000000             0.000000  \n",
              "75%         0.823529        0.000000             0.733333  \n",
              "max        58.235294      180.000000            42.733333  "
            ],
            "text/html": [
              "\n",
              "  <div id=\"df-ffaff003-bc1f-4c3e-a81a-d5d1a14415b5\">\n",
              "    <div class=\"colab-df-container\">\n",
              "      <div>\n",
              "<style scoped>\n",
              "    .dataframe tbody tr th:only-of-type {\n",
              "        vertical-align: middle;\n",
              "    }\n",
              "\n",
              "    .dataframe tbody tr th {\n",
              "        vertical-align: top;\n",
              "    }\n",
              "\n",
              "    .dataframe thead th {\n",
              "        text-align: right;\n",
              "    }\n",
              "</style>\n",
              "<table border=\"1\" class=\"dataframe\">\n",
              "  <thead>\n",
              "    <tr style=\"text-align: right;\">\n",
              "      <th></th>\n",
              "      <th>DAY_OF_MONTH</th>\n",
              "      <th>DAY_OF_WEEK</th>\n",
              "      <th>CARRIER</th>\n",
              "      <th>FL_NUM</th>\n",
              "      <th>ORIGIN</th>\n",
              "      <th>DEST_CITY_NAME</th>\n",
              "      <th>ARR_TIME</th>\n",
              "      <th>CARRIER_DELAY</th>\n",
              "      <th>WEATHER_DELAY</th>\n",
              "      <th>NAS_DELAY</th>\n",
              "      <th>SECURITY_DELAY</th>\n",
              "      <th>LATE_AIRCRAFT_DELAY</th>\n",
              "    </tr>\n",
              "  </thead>\n",
              "  <tbody>\n",
              "    <tr>\n",
              "      <th>count</th>\n",
              "      <td>110163.0</td>\n",
              "      <td>110163.0</td>\n",
              "      <td>110163.0</td>\n",
              "      <td>110163.0</td>\n",
              "      <td>110163.0</td>\n",
              "      <td>110163.0</td>\n",
              "      <td>110163.000000</td>\n",
              "      <td>110163.000000</td>\n",
              "      <td>110163.000000</td>\n",
              "      <td>110163.000000</td>\n",
              "      <td>110163.000000</td>\n",
              "      <td>110163.000000</td>\n",
              "    </tr>\n",
              "    <tr>\n",
              "      <th>mean</th>\n",
              "      <td>0.0</td>\n",
              "      <td>0.0</td>\n",
              "      <td>0.0</td>\n",
              "      <td>0.0</td>\n",
              "      <td>0.0</td>\n",
              "      <td>0.0</td>\n",
              "      <td>-0.159655</td>\n",
              "      <td>0.820031</td>\n",
              "      <td>1.286866</td>\n",
              "      <td>0.580050</td>\n",
              "      <td>0.064722</td>\n",
              "      <td>0.495634</td>\n",
              "    </tr>\n",
              "    <tr>\n",
              "      <th>std</th>\n",
              "      <td>0.0</td>\n",
              "      <td>0.0</td>\n",
              "      <td>0.0</td>\n",
              "      <td>0.0</td>\n",
              "      <td>0.0</td>\n",
              "      <td>0.0</td>\n",
              "      <td>0.785653</td>\n",
              "      <td>2.613967</td>\n",
              "      <td>13.769430</td>\n",
              "      <td>1.507272</td>\n",
              "      <td>1.638324</td>\n",
              "      <td>1.327661</td>\n",
              "    </tr>\n",
              "    <tr>\n",
              "      <th>min</th>\n",
              "      <td>0.0</td>\n",
              "      <td>0.0</td>\n",
              "      <td>0.0</td>\n",
              "      <td>0.0</td>\n",
              "      <td>0.0</td>\n",
              "      <td>0.0</td>\n",
              "      <td>-2.375691</td>\n",
              "      <td>-0.176471</td>\n",
              "      <td>0.000000</td>\n",
              "      <td>-0.176471</td>\n",
              "      <td>0.000000</td>\n",
              "      <td>-0.266667</td>\n",
              "    </tr>\n",
              "    <tr>\n",
              "      <th>25%</th>\n",
              "      <td>0.0</td>\n",
              "      <td>0.0</td>\n",
              "      <td>0.0</td>\n",
              "      <td>0.0</td>\n",
              "      <td>0.0</td>\n",
              "      <td>0.0</td>\n",
              "      <td>-0.563536</td>\n",
              "      <td>-0.176471</td>\n",
              "      <td>0.000000</td>\n",
              "      <td>-0.176471</td>\n",
              "      <td>0.000000</td>\n",
              "      <td>-0.266667</td>\n",
              "    </tr>\n",
              "    <tr>\n",
              "      <th>50%</th>\n",
              "      <td>0.0</td>\n",
              "      <td>0.0</td>\n",
              "      <td>0.0</td>\n",
              "      <td>0.0</td>\n",
              "      <td>0.0</td>\n",
              "      <td>0.0</td>\n",
              "      <td>0.000000</td>\n",
              "      <td>0.000000</td>\n",
              "      <td>0.000000</td>\n",
              "      <td>0.000000</td>\n",
              "      <td>0.000000</td>\n",
              "      <td>0.000000</td>\n",
              "    </tr>\n",
              "    <tr>\n",
              "      <th>75%</th>\n",
              "      <td>0.0</td>\n",
              "      <td>0.0</td>\n",
              "      <td>0.0</td>\n",
              "      <td>0.0</td>\n",
              "      <td>0.0</td>\n",
              "      <td>0.0</td>\n",
              "      <td>0.436464</td>\n",
              "      <td>0.823529</td>\n",
              "      <td>0.000000</td>\n",
              "      <td>0.823529</td>\n",
              "      <td>0.000000</td>\n",
              "      <td>0.733333</td>\n",
              "    </tr>\n",
              "    <tr>\n",
              "      <th>max</th>\n",
              "      <td>0.0</td>\n",
              "      <td>0.0</td>\n",
              "      <td>0.0</td>\n",
              "      <td>0.0</td>\n",
              "      <td>0.0</td>\n",
              "      <td>0.0</td>\n",
              "      <td>0.937845</td>\n",
              "      <td>113.764706</td>\n",
              "      <td>966.000000</td>\n",
              "      <td>58.235294</td>\n",
              "      <td>180.000000</td>\n",
              "      <td>42.733333</td>\n",
              "    </tr>\n",
              "  </tbody>\n",
              "</table>\n",
              "</div>\n",
              "      <button class=\"colab-df-convert\" onclick=\"convertToInteractive('df-ffaff003-bc1f-4c3e-a81a-d5d1a14415b5')\"\n",
              "              title=\"Convert this dataframe to an interactive table.\"\n",
              "              style=\"display:none;\">\n",
              "        \n",
              "  <svg xmlns=\"http://www.w3.org/2000/svg\" height=\"24px\"viewBox=\"0 0 24 24\"\n",
              "       width=\"24px\">\n",
              "    <path d=\"M0 0h24v24H0V0z\" fill=\"none\"/>\n",
              "    <path d=\"M18.56 5.44l.94 2.06.94-2.06 2.06-.94-2.06-.94-.94-2.06-.94 2.06-2.06.94zm-11 1L8.5 8.5l.94-2.06 2.06-.94-2.06-.94L8.5 2.5l-.94 2.06-2.06.94zm10 10l.94 2.06.94-2.06 2.06-.94-2.06-.94-.94-2.06-.94 2.06-2.06.94z\"/><path d=\"M17.41 7.96l-1.37-1.37c-.4-.4-.92-.59-1.43-.59-.52 0-1.04.2-1.43.59L10.3 9.45l-7.72 7.72c-.78.78-.78 2.05 0 2.83L4 21.41c.39.39.9.59 1.41.59.51 0 1.02-.2 1.41-.59l7.78-7.78 2.81-2.81c.8-.78.8-2.07 0-2.86zM5.41 20L4 18.59l7.72-7.72 1.47 1.35L5.41 20z\"/>\n",
              "  </svg>\n",
              "      </button>\n",
              "      \n",
              "  <style>\n",
              "    .colab-df-container {\n",
              "      display:flex;\n",
              "      flex-wrap:wrap;\n",
              "      gap: 12px;\n",
              "    }\n",
              "\n",
              "    .colab-df-convert {\n",
              "      background-color: #E8F0FE;\n",
              "      border: none;\n",
              "      border-radius: 50%;\n",
              "      cursor: pointer;\n",
              "      display: none;\n",
              "      fill: #1967D2;\n",
              "      height: 32px;\n",
              "      padding: 0 0 0 0;\n",
              "      width: 32px;\n",
              "    }\n",
              "\n",
              "    .colab-df-convert:hover {\n",
              "      background-color: #E2EBFA;\n",
              "      box-shadow: 0px 1px 2px rgba(60, 64, 67, 0.3), 0px 1px 3px 1px rgba(60, 64, 67, 0.15);\n",
              "      fill: #174EA6;\n",
              "    }\n",
              "\n",
              "    [theme=dark] .colab-df-convert {\n",
              "      background-color: #3B4455;\n",
              "      fill: #D2E3FC;\n",
              "    }\n",
              "\n",
              "    [theme=dark] .colab-df-convert:hover {\n",
              "      background-color: #434B5C;\n",
              "      box-shadow: 0px 1px 3px 1px rgba(0, 0, 0, 0.15);\n",
              "      filter: drop-shadow(0px 1px 2px rgba(0, 0, 0, 0.3));\n",
              "      fill: #FFFFFF;\n",
              "    }\n",
              "  </style>\n",
              "\n",
              "      <script>\n",
              "        const buttonEl =\n",
              "          document.querySelector('#df-ffaff003-bc1f-4c3e-a81a-d5d1a14415b5 button.colab-df-convert');\n",
              "        buttonEl.style.display =\n",
              "          google.colab.kernel.accessAllowed ? 'block' : 'none';\n",
              "\n",
              "        async function convertToInteractive(key) {\n",
              "          const element = document.querySelector('#df-ffaff003-bc1f-4c3e-a81a-d5d1a14415b5');\n",
              "          const dataTable =\n",
              "            await google.colab.kernel.invokeFunction('convertToInteractive',\n",
              "                                                     [key], {});\n",
              "          if (!dataTable) return;\n",
              "\n",
              "          const docLinkHtml = 'Like what you see? Visit the ' +\n",
              "            '<a target=\"_blank\" href=https://colab.research.google.com/notebooks/data_table.ipynb>data table notebook</a>'\n",
              "            + ' to learn more about interactive tables.';\n",
              "          element.innerHTML = '';\n",
              "          dataTable['output_type'] = 'display_data';\n",
              "          await google.colab.output.renderOutput(dataTable, element);\n",
              "          const docLink = document.createElement('div');\n",
              "          docLink.innerHTML = docLinkHtml;\n",
              "          element.appendChild(docLink);\n",
              "        }\n",
              "      </script>\n",
              "    </div>\n",
              "  </div>\n",
              "  "
            ]
          },
          "metadata": {},
          "execution_count": 35
        }
      ]
    },
    {
      "cell_type": "markdown",
      "source": [
        "# Training and predicting"
      ],
      "metadata": {
        "id": "vCijbK-uHjKf"
      }
    },
    {
      "cell_type": "markdown",
      "source": [
        "## Splitting training and test data"
      ],
      "metadata": {
        "id": "a-1z9iqMHjIN"
      }
    },
    {
      "cell_type": "code",
      "source": [
        "xtrain, xtest, ytrain, ytest = train_test_split(encoded_fly, y, test_size = .3, random_state = 7)"
      ],
      "metadata": {
        "id": "o3zVjBLNO03z"
      },
      "execution_count": 36,
      "outputs": []
    },
    {
      "cell_type": "markdown",
      "source": [
        "## Logistic regression"
      ],
      "metadata": {
        "id": "gRemqJ5IHjGG"
      }
    },
    {
      "cell_type": "code",
      "source": [
        "lr = LogisticRegression().fit(xtrain, ytrain)"
      ],
      "metadata": {
        "colab": {
          "base_uri": "https://localhost:8080/",
          "height": 288
        },
        "id": "r-POaaFOPXii",
        "outputId": "e1c2d492-3fb9-447f-f67f-30bcc4aff88b"
      },
      "execution_count": 37,
      "outputs": [
        {
          "output_type": "error",
          "ename": "ValueError",
          "evalue": "ignored",
          "traceback": [
            "\u001b[0;31m---------------------------------------------------------------------------\u001b[0m",
            "\u001b[0;31mValueError\u001b[0m                                Traceback (most recent call last)",
            "\u001b[0;32m<ipython-input-37-f5eb9d0673d3>\u001b[0m in \u001b[0;36m<module>\u001b[0;34m()\u001b[0m\n\u001b[0;32m----> 1\u001b[0;31m \u001b[0mlr\u001b[0m \u001b[0;34m=\u001b[0m \u001b[0mLogisticRegression\u001b[0m\u001b[0;34m(\u001b[0m\u001b[0;34m)\u001b[0m\u001b[0;34m.\u001b[0m\u001b[0mfit\u001b[0m\u001b[0;34m(\u001b[0m\u001b[0mxtrain\u001b[0m\u001b[0;34m,\u001b[0m \u001b[0mytrain\u001b[0m\u001b[0;34m)\u001b[0m\u001b[0;34m\u001b[0m\u001b[0;34m\u001b[0m\u001b[0m\n\u001b[0m",
            "\u001b[0;32m/usr/local/lib/python3.7/dist-packages/sklearn/linear_model/_logistic.py\u001b[0m in \u001b[0;36mfit\u001b[0;34m(self, X, y, sample_weight)\u001b[0m\n\u001b[1;32m   1556\u001b[0m                 \u001b[0;34m\" in the data, but the data contains only one\"\u001b[0m\u001b[0;34m\u001b[0m\u001b[0;34m\u001b[0m\u001b[0m\n\u001b[1;32m   1557\u001b[0m                 \u001b[0;34m\" class: %r\"\u001b[0m\u001b[0;34m\u001b[0m\u001b[0;34m\u001b[0m\u001b[0m\n\u001b[0;32m-> 1558\u001b[0;31m                 \u001b[0;34m%\u001b[0m \u001b[0mclasses_\u001b[0m\u001b[0;34m[\u001b[0m\u001b[0;36m0\u001b[0m\u001b[0;34m]\u001b[0m\u001b[0;34m\u001b[0m\u001b[0;34m\u001b[0m\u001b[0m\n\u001b[0m\u001b[1;32m   1559\u001b[0m             )\n\u001b[1;32m   1560\u001b[0m \u001b[0;34m\u001b[0m\u001b[0m\n",
            "\u001b[0;31mValueError\u001b[0m: This solver needs samples of at least 2 classes in the data, but the data contains only one class: 0.0"
          ]
        }
      ]
    },
    {
      "cell_type": "code",
      "source": [
        "lr_score = lr.score(xtest, ytest)"
      ],
      "metadata": {
        "id": "9eKqs5PNZ_IK"
      },
      "execution_count": null,
      "outputs": []
    },
    {
      "cell_type": "markdown",
      "source": [
        "## KNN Classifier"
      ],
      "metadata": {
        "id": "Ucy4KR4uHjDt"
      }
    },
    {
      "cell_type": "code",
      "source": [
        "n = 7\n",
        "knn = KNeighborsClassifier(n_neighbors = n).fit(xtrain, ytrain)"
      ],
      "metadata": {
        "id": "Isn96yq8QVWX"
      },
      "execution_count": 38,
      "outputs": []
    },
    {
      "cell_type": "code",
      "source": [
        "knn_score = knn.score(xtest, ytest)"
      ],
      "metadata": {
        "id": "wvMqpXhOaCHE"
      },
      "execution_count": 39,
      "outputs": []
    },
    {
      "cell_type": "markdown",
      "source": [
        "# Classification Score Results"
      ],
      "metadata": {
        "id": "7kazHOzSaNED"
      }
    },
    {
      "cell_type": "code",
      "source": [
        "# print('{:.2f}'.format(lr_score), '- Logistic Score')\n",
        "print('{:.2f}'.format(knn_score), '- KNN score with', n, 'neighbors')"
      ],
      "metadata": {
        "colab": {
          "base_uri": "https://localhost:8080/"
        },
        "id": "Tr_MUV8Negvk",
        "outputId": "7ff37d9a-c90c-4b2d-c0fc-fbe21921dd94"
      },
      "execution_count": 40,
      "outputs": [
        {
          "output_type": "stream",
          "name": "stdout",
          "text": [
            "1.00 - KNN score with 7 neighbors\n"
          ]
        }
      ]
    }
  ]
}