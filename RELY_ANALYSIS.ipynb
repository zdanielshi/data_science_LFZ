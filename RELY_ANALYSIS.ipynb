{
  "nbformat": 4,
  "nbformat_minor": 0,
  "metadata": {
    "colab": {
      "name": "RELY ANALYSIS.ipynb",
      "provenance": [],
      "authorship_tag": "ABX9TyM9xZcycrW229Uz7FV7Zqq7",
      "include_colab_link": true
    },
    "kernelspec": {
      "name": "python3",
      "display_name": "Python 3"
    },
    "language_info": {
      "name": "python"
    }
  },
  "cells": [
    {
      "cell_type": "markdown",
      "metadata": {
        "id": "view-in-github",
        "colab_type": "text"
      },
      "source": [
        "<a href=\"https://colab.research.google.com/github/zdanielshi/personal_projects/blob/main/RELY_ANALYSIS.ipynb\" target=\"_parent\"><img src=\"https://colab.research.google.com/assets/colab-badge.svg\" alt=\"Open In Colab\"/></a>"
      ]
    },
    {
      "cell_type": "markdown",
      "source": [
        "Install yfinance"
      ],
      "metadata": {
        "id": "ILR5FEEIobI3"
      }
    },
    {
      "cell_type": "code",
      "source": [
        "pip install yfinance"
      ],
      "metadata": {
        "id": "mDmP2Y3LWTfy"
      },
      "execution_count": null,
      "outputs": []
    },
    {
      "cell_type": "markdown",
      "source": [
        "Import libraries"
      ],
      "metadata": {
        "id": "a6xXW729WU9v"
      }
    },
    {
      "cell_type": "code",
      "source": [
        "import yfinance as yf\n",
        "import pandas as pd\n",
        "import datetime as dt\n",
        "import matplotlib.pyplot as plt"
      ],
      "metadata": {
        "id": "jM__L4ZFmZfZ"
      },
      "execution_count": 35,
      "outputs": []
    },
    {
      "cell_type": "markdown",
      "source": [
        "Define the list and import the tickers to a dataframe.\n",
        "\n",
        "You can add additional tickers."
      ],
      "metadata": {
        "id": "La_edSs1qhEI"
      }
    },
    {
      "cell_type": "code",
      "execution_count": 36,
      "metadata": {
        "colab": {
          "base_uri": "https://localhost:8080/"
        },
        "id": "AhTtsgy8ilFH",
        "outputId": "d4f7350e-99a3-4956-99ed-8305680625e5"
      },
      "outputs": [
        {
          "output_type": "stream",
          "name": "stdout",
          "text": [
            "[*********************100%***********************]  17 of 17 completed\n"
          ]
        }
      ],
      "source": [
        "start_date = '2022-03-22'\n",
        "end_date = '2022-05-17'\n",
        "tickers_list = [\n",
        "                'RELY',   #Remitly\n",
        "                'PYPL',   #Paypal\n",
        "                'SQ',     #Square\n",
        "                'COIN',   #Coinbase\n",
        "                'ML',     #Monyelion\n",
        "                'DAVE',   #Dave\n",
        "                'NU',     #Nubank\n",
        "                'FLYW',   #Flywire\n",
        "                'PAYO',   #Payoneer\n",
        "                'TOST',   #Toast\n",
        "                'SOFI',   #Sofi\n",
        "                'DLO',    #dLocal\n",
        "                'HOOD',   #Robinhood\n",
        "                'UPST',   #Upstart        \n",
        "                'GDOT',   #Green Dot\n",
        "                'SPY',    #SP500\n",
        "                '^NDXT'   #NASDAQ 100 Technology\n",
        "                ]\n",
        "\n",
        "data_download = yf.download(tickers_list, start = start_date, end = end_date)"
      ]
    },
    {
      "cell_type": "markdown",
      "source": [
        "Extract just the adjusted close columns."
      ],
      "metadata": {
        "id": "aBRYPXd2NT7Q"
      }
    },
    {
      "cell_type": "code",
      "source": [
        "adj_close_data = data_download['Adj Close']"
      ],
      "metadata": {
        "id": "L9z7eMs9Mqwd"
      },
      "execution_count": 37,
      "outputs": []
    },
    {
      "cell_type": "markdown",
      "source": [
        "* Create a new table, preferably isolating just the adjusted close\n",
        "* Index it to the 2022-03-22 value\n",
        "* Plot the values to a chart\n",
        "* Format chart to highlight RELY, SPY, NDXT\n",
        "* Figure out a way to plot the live price, when markets are open, as the final row\n"
      ],
      "metadata": {
        "id": "WALAGknBqyPR"
      }
    }
  ]
}