{
  "nbformat": 4,
  "nbformat_minor": 0,
  "metadata": {
    "colab": {
      "name": "RELY ANALYSIS.ipynb",
      "provenance": [],
      "toc_visible": true,
      "authorship_tag": "ABX9TyOPi9IcVkHgylRIRqJKs8EA",
      "include_colab_link": true
    },
    "kernelspec": {
      "name": "python3",
      "display_name": "Python 3"
    },
    "language_info": {
      "name": "python"
    }
  },
  "cells": [
    {
      "cell_type": "markdown",
      "metadata": {
        "id": "view-in-github",
        "colab_type": "text"
      },
      "source": [
        "<a href=\"https://colab.research.google.com/github/zdanielshi/personal_projects/blob/main/RELY_ANALYSIS.ipynb\" target=\"_parent\"><img src=\"https://colab.research.google.com/assets/colab-badge.svg\" alt=\"Open In Colab\"/></a>"
      ]
    },
    {
      "cell_type": "markdown",
      "source": [
        "Install yfinance"
      ],
      "metadata": {
        "id": "ILR5FEEIobI3"
      }
    },
    {
      "cell_type": "code",
      "source": [
        "pip install yfinance"
      ],
      "metadata": {
        "id": "mDmP2Y3LWTfy"
      },
      "execution_count": null,
      "outputs": []
    },
    {
      "cell_type": "markdown",
      "source": [
        "Import libraries"
      ],
      "metadata": {
        "id": "a6xXW729WU9v"
      }
    },
    {
      "cell_type": "code",
      "source": [
        "import yfinance as yf\n",
        "import pandas as pd\n",
        "import datetime as dt\n",
        "import matplotlib.pyplot as plt"
      ],
      "metadata": {
        "id": "jM__L4ZFmZfZ"
      },
      "execution_count": 4,
      "outputs": []
    },
    {
      "cell_type": "markdown",
      "source": [
        "Define the start and end times. Start time is March 22, 2022, the end of the RELY lockup. End date is coded to today."
      ],
      "metadata": {
        "id": "Uljns8ajnj7l"
      }
    },
    {
      "cell_type": "code",
      "source": [
        "start_date = '2022-03-22'\n",
        "end_date = dt.date.today().strftime('%Y-%m-%d')"
      ],
      "metadata": {
        "id": "CJ-gNnz8njji"
      },
      "execution_count": 71,
      "outputs": []
    },
    {
      "cell_type": "code",
      "source": [
        "rely = yf.Ticker('rely')\n",
        "rely_close = rely.history(interval='1d', start=start_date, end=end_date)['Close']\n",
        "rely_close = rely_close.tolist()\n",
        "\n",
        "rely_returns = [] # initialize a returns list\n",
        "for i in rely_close: # iterate through the close list\n",
        "  rely_returns.append((i / rely_close[0]) - 1)# calculate each value against the 0 index value, append to the returns list\n"
      ],
      "metadata": {
        "id": "o0PSWZDup5Qx"
      },
      "execution_count": 72,
      "outputs": []
    },
    {
      "cell_type": "code",
      "source": [
        "pypl = yf.Ticker('pypl')\n",
        "pypl_close = pypl.history(interval='1d', start=start_date, end=end_date)['Close']\n",
        "pypl_close = pypl_close.tolist()\n",
        "\n",
        "pypl_returns = [] # initialize a returns list\n",
        "for i in pypl_close: # iterate through the close list\n",
        "  pypl_returns.append((i / pypl_close[0]) - 1)# calculate each value against the 0 index value, append to the returns list\n"
      ],
      "metadata": {
        "id": "zoht5d_TxNu7"
      },
      "execution_count": 73,
      "outputs": []
    },
    {
      "cell_type": "code",
      "source": [
        "sq = yf.Ticker('sq')\n",
        "sq_close = sq.history(interval='1d', start=start_date, end=end_date)['Close']\n",
        "sq_close = sq_close.tolist()\n",
        "\n",
        "sq_returns = [] # initialize a returns list\n",
        "for i in sq_close: # iterate through the close list\n",
        "  sq_returns.append((i / sq_close[0]) - 1)# calculate each value against the 0 index value, append to the returns list\n"
      ],
      "metadata": {
        "id": "2AX9RbyV5lZn"
      },
      "execution_count": 74,
      "outputs": []
    },
    {
      "cell_type": "code",
      "source": [
        "plt.plot(rely_returns, lw=5)\n",
        "plt.plot(pypl_returns)\n",
        "plt.plot(sq_returns)\n",
        "\n",
        "plt.ylabel(\"% return\")\n",
        "plt.xlabel(\"days since RELY lockup end\")\n",
        "plt.axhline(y=0, color = 'gray')\n",
        "plt.show"
      ],
      "metadata": {
        "colab": {
          "base_uri": "https://localhost:8080/",
          "height": 296
        },
        "id": "PGC9M0U5w0GL",
        "outputId": "bb034677-af74-44ba-cf7c-48d4779a6cea"
      },
      "execution_count": 75,
      "outputs": [
        {
          "output_type": "execute_result",
          "data": {
            "text/plain": [
              "<function matplotlib.pyplot.show>"
            ]
          },
          "metadata": {},
          "execution_count": 75
        },
        {
          "output_type": "display_data",
          "data": {
            "text/plain": [
              "<Figure size 432x288 with 1 Axes>"
            ],
            "image/png": "[encoded data removed]"
          },
          "metadata": {
            "needs_background": "light"
          }
        }
      ]
    },
    {
      "cell_type": "code",
      "execution_count": 12,
      "metadata": {
        "colab": {
          "base_uri": "https://localhost:8080/"
        },
        "id": "AhTtsgy8ilFH",
        "outputId": "00c9c415-869c-456d-fd4b-cc8c41179f35"
      },
      "outputs": [
        {
          "output_type": "stream",
          "name": "stdout",
          "text": [
            "[*********************100%***********************]  17 of 17 completed\n"
          ]
        }
      ],
      "source": [
        "# hold the old tickers list\n",
        "\n",
        "\n",
        "# tickers_list = [\n",
        "#                 'RELY',   #Remitly\n",
        "#                 'PYPL',   #Paypal\n",
        "#                 'SQ',     #Square\n",
        "#                 'COIN',   #Coinbase\n",
        "#                 'ML',     #Monyelion\n",
        "#                 'DAVE',   #Dave\n",
        "#                 'NU',     #Nubank\n",
        "#                 'FLYW',   #Flywire\n",
        "#                 'PAYO',   #Payoneer\n",
        "#                 'TOST',   #Toast\n",
        "#                 'SOFI',   #Sofi\n",
        "#                 'DLO',    #dLocal\n",
        "#                 'HOOD',   #Robinhood\n",
        "#                 'UPST',   #Upstart        \n",
        "#                 'GDOT',   #Green Dot\n",
        "#                 'SPY',    #SP500\n",
        "#                 '^NDXT'   #NASDAQ 100 Technology\n",
        "#                 ]\n",
        "\n",
        "# data_download = yf.download(tickers_list, start = start_date, end = end_date)"
      ]
    }
  ]
}