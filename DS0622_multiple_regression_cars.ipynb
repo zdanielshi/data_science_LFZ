{
  "nbformat": 4,
  "nbformat_minor": 0,
  "metadata": {
    "colab": {
      "name": "DS0622 multiple regression cars.ipynb",
      "provenance": [],
      "authorship_tag": "ABX9TyNVEXy+XI3bWAhOXd5h2igR",
      "include_colab_link": true
    },
    "kernelspec": {
      "name": "python3",
      "display_name": "Python 3"
    },
    "language_info": {
      "name": "python"
    }
  },
  "cells": [
    {
      "cell_type": "markdown",
      "metadata": {
        "id": "view-in-github",
        "colab_type": "text"
      },
      "source": [
        "<a href=\"https://colab.research.google.com/github/zdanielshi/data_science_LFZ/blob/main/DS0622_multiple_regression_cars.ipynb\" target=\"_parent\"><img src=\"https://colab.research.google.com/assets/colab-badge.svg\" alt=\"Open In Colab\"/></a>"
      ]
    },
    {
      "cell_type": "markdown",
      "source": [
        "# Setup"
      ],
      "metadata": {
        "id": "VfmadalzlnnW"
      }
    },
    {
      "cell_type": "code",
      "execution_count": 410,
      "metadata": {
        "id": "7AYvh031Okgr"
      },
      "outputs": [],
      "source": [
        "import pandas as pd\n",
        "import numpy as np\n",
        "from scipy import stats\n",
        "import matplotlib.pyplot as plt\n",
        "import seaborn as sns\n",
        "from sklearn.metrics import mean_squared_error, mean_absolute_error\n",
        "from sklearn.preprocessing import RobustScaler, MinMaxScaler, MaxAbsScaler, StandardScaler\n",
        "from sklearn.model_selection import train_test_split\n",
        "from sklearn.linear_model import LinearRegression"
      ]
    },
    {
      "cell_type": "code",
      "source": [
        "cars = pd.read_csv('/content/imports-85.data', header=None)"
      ],
      "metadata": {
        "id": "-8BwXQ0SO1pp"
      },
      "execution_count": 411,
      "outputs": []
    },
    {
      "cell_type": "code",
      "source": [
        "cars.rename(columns={25:'price'}, inplace=True)\n",
        "cars"
      ],
      "metadata": {
        "colab": {
          "base_uri": "https://localhost:8080/",
          "height": 424
        },
        "id": "nxH4sFvkO5c7",
        "outputId": "630eced2-4091-41bb-a427-9d0e35650146"
      },
      "execution_count": 412,
      "outputs": [
        {
          "output_type": "execute_result",
          "data": {
            "text/plain": [
              "     0    1            2       3      4     5            6    7      8      9  \\\n",
              "0    3    ?  alfa-romero     gas    std   two  convertible  rwd  front   88.6   \n",
              "1    3    ?  alfa-romero     gas    std   two  convertible  rwd  front   88.6   \n",
              "2    1    ?  alfa-romero     gas    std   two    hatchback  rwd  front   94.5   \n",
              "3    2  164         audi     gas    std  four        sedan  fwd  front   99.8   \n",
              "4    2  164         audi     gas    std  four        sedan  4wd  front   99.4   \n",
              "..  ..  ...          ...     ...    ...   ...          ...  ...    ...    ...   \n",
              "200 -1   95        volvo     gas    std  four        sedan  rwd  front  109.1   \n",
              "201 -1   95        volvo     gas  turbo  four        sedan  rwd  front  109.1   \n",
              "202 -1   95        volvo     gas    std  four        sedan  rwd  front  109.1   \n",
              "203 -1   95        volvo  diesel  turbo  four        sedan  rwd  front  109.1   \n",
              "204 -1   95        volvo     gas  turbo  four        sedan  rwd  front  109.1   \n",
              "\n",
              "     ...   16    17    18    19    20   21    22  23  24  price  \n",
              "0    ...  130  mpfi  3.47  2.68   9.0  111  5000  21  27  13495  \n",
              "1    ...  130  mpfi  3.47  2.68   9.0  111  5000  21  27  16500  \n",
              "2    ...  152  mpfi  2.68  3.47   9.0  154  5000  19  26  16500  \n",
              "3    ...  109  mpfi  3.19  3.40  10.0  102  5500  24  30  13950  \n",
              "4    ...  136  mpfi  3.19  3.40   8.0  115  5500  18  22  17450  \n",
              "..   ...  ...   ...   ...   ...   ...  ...   ...  ..  ..    ...  \n",
              "200  ...  141  mpfi  3.78  3.15   9.5  114  5400  23  28  16845  \n",
              "201  ...  141  mpfi  3.78  3.15   8.7  160  5300  19  25  19045  \n",
              "202  ...  173  mpfi  3.58  2.87   8.8  134  5500  18  23  21485  \n",
              "203  ...  145   idi  3.01  3.40  23.0  106  4800  26  27  22470  \n",
              "204  ...  141  mpfi  3.78  3.15   9.5  114  5400  19  25  22625  \n",
              "\n",
              "[205 rows x 26 columns]"
            ],
            "text/html": [
              "\n",
              "  <div id=\"df-dcfcba4b-8297-4d3b-a8e0-b0734cae6a3e\">\n",
              "    <div class=\"colab-df-container\">\n",
              "      <div>\n",
              "<style scoped>\n",
              "    .dataframe tbody tr th:only-of-type {\n",
              "        vertical-align: middle;\n",
              "    }\n",
              "\n",
              "    .dataframe tbody tr th {\n",
              "        vertical-align: top;\n",
              "    }\n",
              "\n",
              "    .dataframe thead th {\n",
              "        text-align: right;\n",
              "    }\n",
              "</style>\n",
              "<table border=\"1\" class=\"dataframe\">\n",
              "  <thead>\n",
              "    <tr style=\"text-align: right;\">\n",
              "      <th></th>\n",
              "      <th>0</th>\n",
              "      <th>1</th>\n",
              "      <th>2</th>\n",
              "      <th>3</th>\n",
              "      <th>4</th>\n",
              "      <th>5</th>\n",
              "      <th>6</th>\n",
              "      <th>7</th>\n",
              "      <th>8</th>\n",
              "      <th>9</th>\n",
              "      <th>...</th>\n",
              "      <th>16</th>\n",
              "      <th>17</th>\n",
              "      <th>18</th>\n",
              "      <th>19</th>\n",
              "      <th>20</th>\n",
              "      <th>21</th>\n",
              "      <th>22</th>\n",
              "      <th>23</th>\n",
              "      <th>24</th>\n",
              "      <th>price</th>\n",
              "    </tr>\n",
              "  </thead>\n",
              "  <tbody>\n",
              "    <tr>\n",
              "      <th>0</th>\n",
              "      <td>3</td>\n",
              "      <td>?</td>\n",
              "      <td>alfa-romero</td>\n",
              "      <td>gas</td>\n",
              "      <td>std</td>\n",
              "      <td>two</td>\n",
              "      <td>convertible</td>\n",
              "      <td>rwd</td>\n",
              "      <td>front</td>\n",
              "      <td>88.6</td>\n",
              "      <td>...</td>\n",
              "      <td>130</td>\n",
              "      <td>mpfi</td>\n",
              "      <td>3.47</td>\n",
              "      <td>2.68</td>\n",
              "      <td>9.0</td>\n",
              "      <td>111</td>\n",
              "      <td>5000</td>\n",
              "      <td>21</td>\n",
              "      <td>27</td>\n",
              "      <td>13495</td>\n",
              "    </tr>\n",
              "    <tr>\n",
              "      <th>1</th>\n",
              "      <td>3</td>\n",
              "      <td>?</td>\n",
              "      <td>alfa-romero</td>\n",
              "      <td>gas</td>\n",
              "      <td>std</td>\n",
              "      <td>two</td>\n",
              "      <td>convertible</td>\n",
              "      <td>rwd</td>\n",
              "      <td>front</td>\n",
              "      <td>88.6</td>\n",
              "      <td>...</td>\n",
              "      <td>130</td>\n",
              "      <td>mpfi</td>\n",
              "      <td>3.47</td>\n",
              "      <td>2.68</td>\n",
              "      <td>9.0</td>\n",
              "      <td>111</td>\n",
              "      <td>5000</td>\n",
              "      <td>21</td>\n",
              "      <td>27</td>\n",
              "      <td>16500</td>\n",
              "    </tr>\n",
              "    <tr>\n",
              "      <th>2</th>\n",
              "      <td>1</td>\n",
              "      <td>?</td>\n",
              "      <td>alfa-romero</td>\n",
              "      <td>gas</td>\n",
              "      <td>std</td>\n",
              "      <td>two</td>\n",
              "      <td>hatchback</td>\n",
              "      <td>rwd</td>\n",
              "      <td>front</td>\n",
              "      <td>94.5</td>\n",
              "      <td>...</td>\n",
              "      <td>152</td>\n",
              "      <td>mpfi</td>\n",
              "      <td>2.68</td>\n",
              "      <td>3.47</td>\n",
              "      <td>9.0</td>\n",
              "      <td>154</td>\n",
              "      <td>5000</td>\n",
              "      <td>19</td>\n",
              "      <td>26</td>\n",
              "      <td>16500</td>\n",
              "    </tr>\n",
              "    <tr>\n",
              "      <th>3</th>\n",
              "      <td>2</td>\n",
              "      <td>164</td>\n",
              "      <td>audi</td>\n",
              "      <td>gas</td>\n",
              "      <td>std</td>\n",
              "      <td>four</td>\n",
              "      <td>sedan</td>\n",
              "      <td>fwd</td>\n",
              "      <td>front</td>\n",
              "      <td>99.8</td>\n",
              "      <td>...</td>\n",
              "      <td>109</td>\n",
              "      <td>mpfi</td>\n",
              "      <td>3.19</td>\n",
              "      <td>3.40</td>\n",
              "      <td>10.0</td>\n",
              "      <td>102</td>\n",
              "      <td>5500</td>\n",
              "      <td>24</td>\n",
              "      <td>30</td>\n",
              "      <td>13950</td>\n",
              "    </tr>\n",
              "    <tr>\n",
              "      <th>4</th>\n",
              "      <td>2</td>\n",
              "      <td>164</td>\n",
              "      <td>audi</td>\n",
              "      <td>gas</td>\n",
              "      <td>std</td>\n",
              "      <td>four</td>\n",
              "      <td>sedan</td>\n",
              "      <td>4wd</td>\n",
              "      <td>front</td>\n",
              "      <td>99.4</td>\n",
              "      <td>...</td>\n",
              "      <td>136</td>\n",
              "      <td>mpfi</td>\n",
              "      <td>3.19</td>\n",
              "      <td>3.40</td>\n",
              "      <td>8.0</td>\n",
              "      <td>115</td>\n",
              "      <td>5500</td>\n",
              "      <td>18</td>\n",
              "      <td>22</td>\n",
              "      <td>17450</td>\n",
              "    </tr>\n",
              "    <tr>\n",
              "      <th>...</th>\n",
              "      <td>...</td>\n",
              "      <td>...</td>\n",
              "      <td>...</td>\n",
              "      <td>...</td>\n",
              "      <td>...</td>\n",
              "      <td>...</td>\n",
              "      <td>...</td>\n",
              "      <td>...</td>\n",
              "      <td>...</td>\n",
              "      <td>...</td>\n",
              "      <td>...</td>\n",
              "      <td>...</td>\n",
              "      <td>...</td>\n",
              "      <td>...</td>\n",
              "      <td>...</td>\n",
              "      <td>...</td>\n",
              "      <td>...</td>\n",
              "      <td>...</td>\n",
              "      <td>...</td>\n",
              "      <td>...</td>\n",
              "      <td>...</td>\n",
              "    </tr>\n",
              "    <tr>\n",
              "      <th>200</th>\n",
              "      <td>-1</td>\n",
              "      <td>95</td>\n",
              "      <td>volvo</td>\n",
              "      <td>gas</td>\n",
              "      <td>std</td>\n",
              "      <td>four</td>\n",
              "      <td>sedan</td>\n",
              "      <td>rwd</td>\n",
              "      <td>front</td>\n",
              "      <td>109.1</td>\n",
              "      <td>...</td>\n",
              "      <td>141</td>\n",
              "      <td>mpfi</td>\n",
              "      <td>3.78</td>\n",
              "      <td>3.15</td>\n",
              "      <td>9.5</td>\n",
              "      <td>114</td>\n",
              "      <td>5400</td>\n",
              "      <td>23</td>\n",
              "      <td>28</td>\n",
              "      <td>16845</td>\n",
              "    </tr>\n",
              "    <tr>\n",
              "      <th>201</th>\n",
              "      <td>-1</td>\n",
              "      <td>95</td>\n",
              "      <td>volvo</td>\n",
              "      <td>gas</td>\n",
              "      <td>turbo</td>\n",
              "      <td>four</td>\n",
              "      <td>sedan</td>\n",
              "      <td>rwd</td>\n",
              "      <td>front</td>\n",
              "      <td>109.1</td>\n",
              "      <td>...</td>\n",
              "      <td>141</td>\n",
              "      <td>mpfi</td>\n",
              "      <td>3.78</td>\n",
              "      <td>3.15</td>\n",
              "      <td>8.7</td>\n",
              "      <td>160</td>\n",
              "      <td>5300</td>\n",
              "      <td>19</td>\n",
              "      <td>25</td>\n",
              "      <td>19045</td>\n",
              "    </tr>\n",
              "    <tr>\n",
              "      <th>202</th>\n",
              "      <td>-1</td>\n",
              "      <td>95</td>\n",
              "      <td>volvo</td>\n",
              "      <td>gas</td>\n",
              "      <td>std</td>\n",
              "      <td>four</td>\n",
              "      <td>sedan</td>\n",
              "      <td>rwd</td>\n",
              "      <td>front</td>\n",
              "      <td>109.1</td>\n",
              "      <td>...</td>\n",
              "      <td>173</td>\n",
              "      <td>mpfi</td>\n",
              "      <td>3.58</td>\n",
              "      <td>2.87</td>\n",
              "      <td>8.8</td>\n",
              "      <td>134</td>\n",
              "      <td>5500</td>\n",
              "      <td>18</td>\n",
              "      <td>23</td>\n",
              "      <td>21485</td>\n",
              "    </tr>\n",
              "    <tr>\n",
              "      <th>203</th>\n",
              "      <td>-1</td>\n",
              "      <td>95</td>\n",
              "      <td>volvo</td>\n",
              "      <td>diesel</td>\n",
              "      <td>turbo</td>\n",
              "      <td>four</td>\n",
              "      <td>sedan</td>\n",
              "      <td>rwd</td>\n",
              "      <td>front</td>\n",
              "      <td>109.1</td>\n",
              "      <td>...</td>\n",
              "      <td>145</td>\n",
              "      <td>idi</td>\n",
              "      <td>3.01</td>\n",
              "      <td>3.40</td>\n",
              "      <td>23.0</td>\n",
              "      <td>106</td>\n",
              "      <td>4800</td>\n",
              "      <td>26</td>\n",
              "      <td>27</td>\n",
              "      <td>22470</td>\n",
              "    </tr>\n",
              "    <tr>\n",
              "      <th>204</th>\n",
              "      <td>-1</td>\n",
              "      <td>95</td>\n",
              "      <td>volvo</td>\n",
              "      <td>gas</td>\n",
              "      <td>turbo</td>\n",
              "      <td>four</td>\n",
              "      <td>sedan</td>\n",
              "      <td>rwd</td>\n",
              "      <td>front</td>\n",
              "      <td>109.1</td>\n",
              "      <td>...</td>\n",
              "      <td>141</td>\n",
              "      <td>mpfi</td>\n",
              "      <td>3.78</td>\n",
              "      <td>3.15</td>\n",
              "      <td>9.5</td>\n",
              "      <td>114</td>\n",
              "      <td>5400</td>\n",
              "      <td>19</td>\n",
              "      <td>25</td>\n",
              "      <td>22625</td>\n",
              "    </tr>\n",
              "  </tbody>\n",
              "</table>\n",
              "<p>205 rows × 26 columns</p>\n",
              "</div>\n",
              "      <button class=\"colab-df-convert\" onclick=\"convertToInteractive('df-dcfcba4b-8297-4d3b-a8e0-b0734cae6a3e')\"\n",
              "              title=\"Convert this dataframe to an interactive table.\"\n",
              "              style=\"display:none;\">\n",
              "        \n",
              "  <svg xmlns=\"http://www.w3.org/2000/svg\" height=\"24px\"viewBox=\"0 0 24 24\"\n",
              "       width=\"24px\">\n",
              "    <path d=\"M0 0h24v24H0V0z\" fill=\"none\"/>\n",
              "    <path d=\"M18.56 5.44l.94 2.06.94-2.06 2.06-.94-2.06-.94-.94-2.06-.94 2.06-2.06.94zm-11 1L8.5 8.5l.94-2.06 2.06-.94-2.06-.94L8.5 2.5l-.94 2.06-2.06.94zm10 10l.94 2.06.94-2.06 2.06-.94-2.06-.94-.94-2.06-.94 2.06-2.06.94z\"/><path d=\"M17.41 7.96l-1.37-1.37c-.4-.4-.92-.59-1.43-.59-.52 0-1.04.2-1.43.59L10.3 9.45l-7.72 7.72c-.78.78-.78 2.05 0 2.83L4 21.41c.39.39.9.59 1.41.59.51 0 1.02-.2 1.41-.59l7.78-7.78 2.81-2.81c.8-.78.8-2.07 0-2.86zM5.41 20L4 18.59l7.72-7.72 1.47 1.35L5.41 20z\"/>\n",
              "  </svg>\n",
              "      </button>\n",
              "      \n",
              "  <style>\n",
              "    .colab-df-container {\n",
              "      display:flex;\n",
              "      flex-wrap:wrap;\n",
              "      gap: 12px;\n",
              "    }\n",
              "\n",
              "    .colab-df-convert {\n",
              "      background-color: #E8F0FE;\n",
              "      border: none;\n",
              "      border-radius: 50%;\n",
              "      cursor: pointer;\n",
              "      display: none;\n",
              "      fill: #1967D2;\n",
              "      height: 32px;\n",
              "      padding: 0 0 0 0;\n",
              "      width: 32px;\n",
              "    }\n",
              "\n",
              "    .colab-df-convert:hover {\n",
              "      background-color: #E2EBFA;\n",
              "      box-shadow: 0px 1px 2px rgba(60, 64, 67, 0.3), 0px 1px 3px 1px rgba(60, 64, 67, 0.15);\n",
              "      fill: #174EA6;\n",
              "    }\n",
              "\n",
              "    [theme=dark] .colab-df-convert {\n",
              "      background-color: #3B4455;\n",
              "      fill: #D2E3FC;\n",
              "    }\n",
              "\n",
              "    [theme=dark] .colab-df-convert:hover {\n",
              "      background-color: #434B5C;\n",
              "      box-shadow: 0px 1px 3px 1px rgba(0, 0, 0, 0.15);\n",
              "      filter: drop-shadow(0px 1px 2px rgba(0, 0, 0, 0.3));\n",
              "      fill: #FFFFFF;\n",
              "    }\n",
              "  </style>\n",
              "\n",
              "      <script>\n",
              "        const buttonEl =\n",
              "          document.querySelector('#df-dcfcba4b-8297-4d3b-a8e0-b0734cae6a3e button.colab-df-convert');\n",
              "        buttonEl.style.display =\n",
              "          google.colab.kernel.accessAllowed ? 'block' : 'none';\n",
              "\n",
              "        async function convertToInteractive(key) {\n",
              "          const element = document.querySelector('#df-dcfcba4b-8297-4d3b-a8e0-b0734cae6a3e');\n",
              "          const dataTable =\n",
              "            await google.colab.kernel.invokeFunction('convertToInteractive',\n",
              "                                                     [key], {});\n",
              "          if (!dataTable) return;\n",
              "\n",
              "          const docLinkHtml = 'Like what you see? Visit the ' +\n",
              "            '<a target=\"_blank\" href=https://colab.research.google.com/notebooks/data_table.ipynb>data table notebook</a>'\n",
              "            + ' to learn more about interactive tables.';\n",
              "          element.innerHTML = '';\n",
              "          dataTable['output_type'] = 'display_data';\n",
              "          await google.colab.output.renderOutput(dataTable, element);\n",
              "          const docLink = document.createElement('div');\n",
              "          docLink.innerHTML = docLinkHtml;\n",
              "          element.appendChild(docLink);\n",
              "        }\n",
              "      </script>\n",
              "    </div>\n",
              "  </div>\n",
              "  "
            ]
          },
          "metadata": {},
          "execution_count": 412
        }
      ]
    },
    {
      "cell_type": "code",
      "source": [
        "cars.isnull().sum()"
      ],
      "metadata": {
        "colab": {
          "base_uri": "https://localhost:8080/"
        },
        "id": "sqc4CdkkPBWn",
        "outputId": "4c649159-4f82-42d3-8bc5-e9c55f84ad10"
      },
      "execution_count": 413,
      "outputs": [
        {
          "output_type": "execute_result",
          "data": {
            "text/plain": [
              "0        0\n",
              "1        0\n",
              "2        0\n",
              "3        0\n",
              "4        0\n",
              "5        0\n",
              "6        0\n",
              "7        0\n",
              "8        0\n",
              "9        0\n",
              "10       0\n",
              "11       0\n",
              "12       0\n",
              "13       0\n",
              "14       0\n",
              "15       0\n",
              "16       0\n",
              "17       0\n",
              "18       0\n",
              "19       0\n",
              "20       0\n",
              "21       0\n",
              "22       0\n",
              "23       0\n",
              "24       0\n",
              "price    0\n",
              "dtype: int64"
            ]
          },
          "metadata": {},
          "execution_count": 413
        }
      ]
    },
    {
      "cell_type": "code",
      "source": [
        "cars.price.value_counts()"
      ],
      "metadata": {
        "colab": {
          "base_uri": "https://localhost:8080/"
        },
        "id": "AlT49omyPIY2",
        "outputId": "69fd6472-8493-4412-f278-c6b236c3d0e4"
      },
      "execution_count": 414,
      "outputs": [
        {
          "output_type": "execute_result",
          "data": {
            "text/plain": [
              "?        4\n",
              "8921     2\n",
              "18150    2\n",
              "8845     2\n",
              "8495     2\n",
              "        ..\n",
              "45400    1\n",
              "16503    1\n",
              "5389     1\n",
              "6189     1\n",
              "22625    1\n",
              "Name: price, Length: 187, dtype: int64"
            ]
          },
          "metadata": {},
          "execution_count": 414
        }
      ]
    },
    {
      "cell_type": "code",
      "source": [
        "cars = cars[cars.price != '?']\n",
        "cars['price'] = cars['price'].astype(float)"
      ],
      "metadata": {
        "colab": {
          "base_uri": "https://localhost:8080/"
        },
        "id": "2VEfUe_qPLRV",
        "outputId": "ce304530-332e-4d86-db1a-9b3d159a3483"
      },
      "execution_count": 415,
      "outputs": [
        {
          "output_type": "stream",
          "name": "stderr",
          "text": [
            "/usr/local/lib/python3.7/dist-packages/ipykernel_launcher.py:2: SettingWithCopyWarning: \n",
            "A value is trying to be set on a copy of a slice from a DataFrame.\n",
            "Try using .loc[row_indexer,col_indexer] = value instead\n",
            "\n",
            "See the caveats in the documentation: https://pandas.pydata.org/pandas-docs/stable/user_guide/indexing.html#returning-a-view-versus-a-copy\n",
            "  \n"
          ]
        }
      ]
    },
    {
      "cell_type": "code",
      "source": [
        "cars.price.value_counts()"
      ],
      "metadata": {
        "colab": {
          "base_uri": "https://localhost:8080/"
        },
        "id": "jH6_XoGXPPI1",
        "outputId": "13b8ab8f-c2d5-4660-df10-5932594ca7b7"
      },
      "execution_count": 416,
      "outputs": [
        {
          "output_type": "execute_result",
          "data": {
            "text/plain": [
              "8921.0     2\n",
              "18150.0    2\n",
              "8845.0     2\n",
              "8495.0     2\n",
              "7609.0     2\n",
              "          ..\n",
              "45400.0    1\n",
              "16503.0    1\n",
              "5389.0     1\n",
              "6189.0     1\n",
              "22625.0    1\n",
              "Name: price, Length: 186, dtype: int64"
            ]
          },
          "metadata": {},
          "execution_count": 416
        }
      ]
    },
    {
      "cell_type": "markdown",
      "source": [
        "* Nulls\n",
        "* Cleaning\n",
        "* Categoricals vs numerical\n",
        "* Encoding categoricals\n",
        "* Transforming numericals\n",
        "* Scaling numericals"
      ],
      "metadata": {
        "id": "1f4CH9fRPV7A"
      }
    },
    {
      "cell_type": "markdown",
      "source": [
        "# Cleaning\n"
      ],
      "metadata": {
        "id": "uE-HVtYlP1Ie"
      }
    },
    {
      "cell_type": "code",
      "source": [
        "cars.head()"
      ],
      "metadata": {
        "colab": {
          "base_uri": "https://localhost:8080/",
          "height": 236
        },
        "id": "UosU7qLrP_M1",
        "outputId": "eff7b2d3-5181-407c-8666-39e024bc7b18"
      },
      "execution_count": 417,
      "outputs": [
        {
          "output_type": "execute_result",
          "data": {
            "text/plain": [
              "   0    1            2    3    4     5            6    7      8     9  ...  \\\n",
              "0  3    ?  alfa-romero  gas  std   two  convertible  rwd  front  88.6  ...   \n",
              "1  3    ?  alfa-romero  gas  std   two  convertible  rwd  front  88.6  ...   \n",
              "2  1    ?  alfa-romero  gas  std   two    hatchback  rwd  front  94.5  ...   \n",
              "3  2  164         audi  gas  std  four        sedan  fwd  front  99.8  ...   \n",
              "4  2  164         audi  gas  std  four        sedan  4wd  front  99.4  ...   \n",
              "\n",
              "    16    17    18    19    20   21    22  23  24    price  \n",
              "0  130  mpfi  3.47  2.68   9.0  111  5000  21  27  13495.0  \n",
              "1  130  mpfi  3.47  2.68   9.0  111  5000  21  27  16500.0  \n",
              "2  152  mpfi  2.68  3.47   9.0  154  5000  19  26  16500.0  \n",
              "3  109  mpfi  3.19  3.40  10.0  102  5500  24  30  13950.0  \n",
              "4  136  mpfi  3.19  3.40   8.0  115  5500  18  22  17450.0  \n",
              "\n",
              "[5 rows x 26 columns]"
            ],
            "text/html": [
              "\n",
              "  <div id=\"df-f5853d8c-a13c-4ff3-b564-ed544d07bf29\">\n",
              "    <div class=\"colab-df-container\">\n",
              "      <div>\n",
              "<style scoped>\n",
              "    .dataframe tbody tr th:only-of-type {\n",
              "        vertical-align: middle;\n",
              "    }\n",
              "\n",
              "    .dataframe tbody tr th {\n",
              "        vertical-align: top;\n",
              "    }\n",
              "\n",
              "    .dataframe thead th {\n",
              "        text-align: right;\n",
              "    }\n",
              "</style>\n",
              "<table border=\"1\" class=\"dataframe\">\n",
              "  <thead>\n",
              "    <tr style=\"text-align: right;\">\n",
              "      <th></th>\n",
              "      <th>0</th>\n",
              "      <th>1</th>\n",
              "      <th>2</th>\n",
              "      <th>3</th>\n",
              "      <th>4</th>\n",
              "      <th>5</th>\n",
              "      <th>6</th>\n",
              "      <th>7</th>\n",
              "      <th>8</th>\n",
              "      <th>9</th>\n",
              "      <th>...</th>\n",
              "      <th>16</th>\n",
              "      <th>17</th>\n",
              "      <th>18</th>\n",
              "      <th>19</th>\n",
              "      <th>20</th>\n",
              "      <th>21</th>\n",
              "      <th>22</th>\n",
              "      <th>23</th>\n",
              "      <th>24</th>\n",
              "      <th>price</th>\n",
              "    </tr>\n",
              "  </thead>\n",
              "  <tbody>\n",
              "    <tr>\n",
              "      <th>0</th>\n",
              "      <td>3</td>\n",
              "      <td>?</td>\n",
              "      <td>alfa-romero</td>\n",
              "      <td>gas</td>\n",
              "      <td>std</td>\n",
              "      <td>two</td>\n",
              "      <td>convertible</td>\n",
              "      <td>rwd</td>\n",
              "      <td>front</td>\n",
              "      <td>88.6</td>\n",
              "      <td>...</td>\n",
              "      <td>130</td>\n",
              "      <td>mpfi</td>\n",
              "      <td>3.47</td>\n",
              "      <td>2.68</td>\n",
              "      <td>9.0</td>\n",
              "      <td>111</td>\n",
              "      <td>5000</td>\n",
              "      <td>21</td>\n",
              "      <td>27</td>\n",
              "      <td>13495.0</td>\n",
              "    </tr>\n",
              "    <tr>\n",
              "      <th>1</th>\n",
              "      <td>3</td>\n",
              "      <td>?</td>\n",
              "      <td>alfa-romero</td>\n",
              "      <td>gas</td>\n",
              "      <td>std</td>\n",
              "      <td>two</td>\n",
              "      <td>convertible</td>\n",
              "      <td>rwd</td>\n",
              "      <td>front</td>\n",
              "      <td>88.6</td>\n",
              "      <td>...</td>\n",
              "      <td>130</td>\n",
              "      <td>mpfi</td>\n",
              "      <td>3.47</td>\n",
              "      <td>2.68</td>\n",
              "      <td>9.0</td>\n",
              "      <td>111</td>\n",
              "      <td>5000</td>\n",
              "      <td>21</td>\n",
              "      <td>27</td>\n",
              "      <td>16500.0</td>\n",
              "    </tr>\n",
              "    <tr>\n",
              "      <th>2</th>\n",
              "      <td>1</td>\n",
              "      <td>?</td>\n",
              "      <td>alfa-romero</td>\n",
              "      <td>gas</td>\n",
              "      <td>std</td>\n",
              "      <td>two</td>\n",
              "      <td>hatchback</td>\n",
              "      <td>rwd</td>\n",
              "      <td>front</td>\n",
              "      <td>94.5</td>\n",
              "      <td>...</td>\n",
              "      <td>152</td>\n",
              "      <td>mpfi</td>\n",
              "      <td>2.68</td>\n",
              "      <td>3.47</td>\n",
              "      <td>9.0</td>\n",
              "      <td>154</td>\n",
              "      <td>5000</td>\n",
              "      <td>19</td>\n",
              "      <td>26</td>\n",
              "      <td>16500.0</td>\n",
              "    </tr>\n",
              "    <tr>\n",
              "      <th>3</th>\n",
              "      <td>2</td>\n",
              "      <td>164</td>\n",
              "      <td>audi</td>\n",
              "      <td>gas</td>\n",
              "      <td>std</td>\n",
              "      <td>four</td>\n",
              "      <td>sedan</td>\n",
              "      <td>fwd</td>\n",
              "      <td>front</td>\n",
              "      <td>99.8</td>\n",
              "      <td>...</td>\n",
              "      <td>109</td>\n",
              "      <td>mpfi</td>\n",
              "      <td>3.19</td>\n",
              "      <td>3.40</td>\n",
              "      <td>10.0</td>\n",
              "      <td>102</td>\n",
              "      <td>5500</td>\n",
              "      <td>24</td>\n",
              "      <td>30</td>\n",
              "      <td>13950.0</td>\n",
              "    </tr>\n",
              "    <tr>\n",
              "      <th>4</th>\n",
              "      <td>2</td>\n",
              "      <td>164</td>\n",
              "      <td>audi</td>\n",
              "      <td>gas</td>\n",
              "      <td>std</td>\n",
              "      <td>four</td>\n",
              "      <td>sedan</td>\n",
              "      <td>4wd</td>\n",
              "      <td>front</td>\n",
              "      <td>99.4</td>\n",
              "      <td>...</td>\n",
              "      <td>136</td>\n",
              "      <td>mpfi</td>\n",
              "      <td>3.19</td>\n",
              "      <td>3.40</td>\n",
              "      <td>8.0</td>\n",
              "      <td>115</td>\n",
              "      <td>5500</td>\n",
              "      <td>18</td>\n",
              "      <td>22</td>\n",
              "      <td>17450.0</td>\n",
              "    </tr>\n",
              "  </tbody>\n",
              "</table>\n",
              "<p>5 rows × 26 columns</p>\n",
              "</div>\n",
              "      <button class=\"colab-df-convert\" onclick=\"convertToInteractive('df-f5853d8c-a13c-4ff3-b564-ed544d07bf29')\"\n",
              "              title=\"Convert this dataframe to an interactive table.\"\n",
              "              style=\"display:none;\">\n",
              "        \n",
              "  <svg xmlns=\"http://www.w3.org/2000/svg\" height=\"24px\"viewBox=\"0 0 24 24\"\n",
              "       width=\"24px\">\n",
              "    <path d=\"M0 0h24v24H0V0z\" fill=\"none\"/>\n",
              "    <path d=\"M18.56 5.44l.94 2.06.94-2.06 2.06-.94-2.06-.94-.94-2.06-.94 2.06-2.06.94zm-11 1L8.5 8.5l.94-2.06 2.06-.94-2.06-.94L8.5 2.5l-.94 2.06-2.06.94zm10 10l.94 2.06.94-2.06 2.06-.94-2.06-.94-.94-2.06-.94 2.06-2.06.94z\"/><path d=\"M17.41 7.96l-1.37-1.37c-.4-.4-.92-.59-1.43-.59-.52 0-1.04.2-1.43.59L10.3 9.45l-7.72 7.72c-.78.78-.78 2.05 0 2.83L4 21.41c.39.39.9.59 1.41.59.51 0 1.02-.2 1.41-.59l7.78-7.78 2.81-2.81c.8-.78.8-2.07 0-2.86zM5.41 20L4 18.59l7.72-7.72 1.47 1.35L5.41 20z\"/>\n",
              "  </svg>\n",
              "      </button>\n",
              "      \n",
              "  <style>\n",
              "    .colab-df-container {\n",
              "      display:flex;\n",
              "      flex-wrap:wrap;\n",
              "      gap: 12px;\n",
              "    }\n",
              "\n",
              "    .colab-df-convert {\n",
              "      background-color: #E8F0FE;\n",
              "      border: none;\n",
              "      border-radius: 50%;\n",
              "      cursor: pointer;\n",
              "      display: none;\n",
              "      fill: #1967D2;\n",
              "      height: 32px;\n",
              "      padding: 0 0 0 0;\n",
              "      width: 32px;\n",
              "    }\n",
              "\n",
              "    .colab-df-convert:hover {\n",
              "      background-color: #E2EBFA;\n",
              "      box-shadow: 0px 1px 2px rgba(60, 64, 67, 0.3), 0px 1px 3px 1px rgba(60, 64, 67, 0.15);\n",
              "      fill: #174EA6;\n",
              "    }\n",
              "\n",
              "    [theme=dark] .colab-df-convert {\n",
              "      background-color: #3B4455;\n",
              "      fill: #D2E3FC;\n",
              "    }\n",
              "\n",
              "    [theme=dark] .colab-df-convert:hover {\n",
              "      background-color: #434B5C;\n",
              "      box-shadow: 0px 1px 3px 1px rgba(0, 0, 0, 0.15);\n",
              "      filter: drop-shadow(0px 1px 2px rgba(0, 0, 0, 0.3));\n",
              "      fill: #FFFFFF;\n",
              "    }\n",
              "  </style>\n",
              "\n",
              "      <script>\n",
              "        const buttonEl =\n",
              "          document.querySelector('#df-f5853d8c-a13c-4ff3-b564-ed544d07bf29 button.colab-df-convert');\n",
              "        buttonEl.style.display =\n",
              "          google.colab.kernel.accessAllowed ? 'block' : 'none';\n",
              "\n",
              "        async function convertToInteractive(key) {\n",
              "          const element = document.querySelector('#df-f5853d8c-a13c-4ff3-b564-ed544d07bf29');\n",
              "          const dataTable =\n",
              "            await google.colab.kernel.invokeFunction('convertToInteractive',\n",
              "                                                     [key], {});\n",
              "          if (!dataTable) return;\n",
              "\n",
              "          const docLinkHtml = 'Like what you see? Visit the ' +\n",
              "            '<a target=\"_blank\" href=https://colab.research.google.com/notebooks/data_table.ipynb>data table notebook</a>'\n",
              "            + ' to learn more about interactive tables.';\n",
              "          element.innerHTML = '';\n",
              "          dataTable['output_type'] = 'display_data';\n",
              "          await google.colab.output.renderOutput(dataTable, element);\n",
              "          const docLink = document.createElement('div');\n",
              "          docLink.innerHTML = docLinkHtml;\n",
              "          element.appendChild(docLink);\n",
              "        }\n",
              "      </script>\n",
              "    </div>\n",
              "  </div>\n",
              "  "
            ]
          },
          "metadata": {},
          "execution_count": 417
        }
      ]
    },
    {
      "cell_type": "code",
      "source": [
        "cars.info()"
      ],
      "metadata": {
        "colab": {
          "base_uri": "https://localhost:8080/"
        },
        "id": "gb7tHcEbP9EG",
        "outputId": "e3e35ed7-b098-40d0-b099-b92d39d3247f"
      },
      "execution_count": 418,
      "outputs": [
        {
          "output_type": "stream",
          "name": "stdout",
          "text": [
            "<class 'pandas.core.frame.DataFrame'>\n",
            "Int64Index: 201 entries, 0 to 204\n",
            "Data columns (total 26 columns):\n",
            " #   Column  Non-Null Count  Dtype  \n",
            "---  ------  --------------  -----  \n",
            " 0   0       201 non-null    int64  \n",
            " 1   1       201 non-null    object \n",
            " 2   2       201 non-null    object \n",
            " 3   3       201 non-null    object \n",
            " 4   4       201 non-null    object \n",
            " 5   5       201 non-null    object \n",
            " 6   6       201 non-null    object \n",
            " 7   7       201 non-null    object \n",
            " 8   8       201 non-null    object \n",
            " 9   9       201 non-null    float64\n",
            " 10  10      201 non-null    float64\n",
            " 11  11      201 non-null    float64\n",
            " 12  12      201 non-null    float64\n",
            " 13  13      201 non-null    int64  \n",
            " 14  14      201 non-null    object \n",
            " 15  15      201 non-null    object \n",
            " 16  16      201 non-null    int64  \n",
            " 17  17      201 non-null    object \n",
            " 18  18      201 non-null    object \n",
            " 19  19      201 non-null    object \n",
            " 20  20      201 non-null    float64\n",
            " 21  21      201 non-null    object \n",
            " 22  22      201 non-null    object \n",
            " 23  23      201 non-null    int64  \n",
            " 24  24      201 non-null    int64  \n",
            " 25  price   201 non-null    float64\n",
            "dtypes: float64(6), int64(5), object(15)\n",
            "memory usage: 42.4+ KB\n"
          ]
        }
      ]
    },
    {
      "cell_type": "markdown",
      "source": [
        "# Categoricals vs numericals"
      ],
      "metadata": {
        "id": "HmLXbR-lP1F2"
      }
    },
    {
      "cell_type": "code",
      "source": [
        "# 1, 19, 18 from objects to floats / ints"
      ],
      "metadata": {
        "id": "CytW2wHGQt27"
      },
      "execution_count": 419,
      "outputs": []
    },
    {
      "cell_type": "markdown",
      "source": [
        "## Cleaning up col 1"
      ],
      "metadata": {
        "id": "lcbeqszBTpoP"
      }
    },
    {
      "cell_type": "code",
      "source": [
        "col1 = cars[cars[1] != '?']\n",
        "col1[1] = col1[1].astype(float)\n",
        "col1.corr()"
      ],
      "metadata": {
        "colab": {
          "base_uri": "https://localhost:8080/",
          "height": 530
        },
        "id": "9YkMsM_nQxrG",
        "outputId": "b921ea74-5532-49a1-d911-de19a1cafa34"
      },
      "execution_count": 420,
      "outputs": [
        {
          "output_type": "stream",
          "name": "stderr",
          "text": [
            "/usr/local/lib/python3.7/dist-packages/ipykernel_launcher.py:2: SettingWithCopyWarning: \n",
            "A value is trying to be set on a copy of a slice from a DataFrame.\n",
            "Try using .loc[row_indexer,col_indexer] = value instead\n",
            "\n",
            "See the caveats in the documentation: https://pandas.pydata.org/pandas-docs/stable/user_guide/indexing.html#returning-a-view-versus-a-copy\n",
            "  \n"
          ]
        },
        {
          "output_type": "execute_result",
          "data": {
            "text/plain": [
              "              0         1         9        10        11        12        13  \\\n",
              "0      1.000000  0.528667 -0.522159 -0.334736 -0.208303 -0.516420 -0.246281   \n",
              "1      0.528667  1.000000 -0.074362  0.023220  0.105073 -0.432335  0.119893   \n",
              "9     -0.522159 -0.074362  1.000000  0.871641  0.811949  0.558956  0.808489   \n",
              "10    -0.334736  0.023220  0.871641  1.000000  0.837930  0.496802  0.869949   \n",
              "11    -0.208303  0.105073  0.811949  0.837930  1.000000  0.283885  0.870256   \n",
              "12    -0.516420 -0.432335  0.558956  0.496802  0.283885  1.000000  0.358663   \n",
              "13    -0.246281  0.119893  0.808489  0.869949  0.870256  0.358663  1.000000   \n",
              "16    -0.169342  0.167365  0.650577  0.716208  0.756317  0.174557  0.867894   \n",
              "20    -0.141755 -0.132654  0.295342  0.190043  0.261152  0.236149  0.226822   \n",
              "23     0.013028 -0.258502 -0.535380 -0.683543 -0.644124 -0.112150 -0.732746   \n",
              "24     0.078220 -0.210768 -0.572540 -0.690581 -0.674959 -0.146788 -0.765103   \n",
              "price -0.144078  0.203254  0.726600  0.756060  0.841883  0.224936  0.891750   \n",
              "\n",
              "             16        20        23        24     price  \n",
              "0     -0.169342 -0.141755  0.013028  0.078220 -0.144078  \n",
              "1      0.167365 -0.132654 -0.258502 -0.210768  0.203254  \n",
              "9      0.650577  0.295342 -0.535380 -0.572540  0.726600  \n",
              "10     0.716208  0.190043 -0.683543 -0.690581  0.756060  \n",
              "11     0.756317  0.261152 -0.644124 -0.674959  0.841883  \n",
              "12     0.174557  0.236149 -0.112150 -0.146788  0.224936  \n",
              "13     0.867894  0.226822 -0.732746 -0.765103  0.891750  \n",
              "16     1.000000  0.146519 -0.599425 -0.625054  0.807566  \n",
              "20     0.146519  1.000000  0.278269  0.223595  0.209138  \n",
              "23    -0.599425  0.278269  1.000000  0.972996 -0.678644  \n",
              "24    -0.625054  0.223595  0.972996  1.000000 -0.709135  \n",
              "price  0.807566  0.209138 -0.678644 -0.709135  1.000000  "
            ],
            "text/html": [
              "\n",
              "  <div id=\"df-ae92518a-abf1-415b-a156-23aa90d05204\">\n",
              "    <div class=\"colab-df-container\">\n",
              "      <div>\n",
              "<style scoped>\n",
              "    .dataframe tbody tr th:only-of-type {\n",
              "        vertical-align: middle;\n",
              "    }\n",
              "\n",
              "    .dataframe tbody tr th {\n",
              "        vertical-align: top;\n",
              "    }\n",
              "\n",
              "    .dataframe thead th {\n",
              "        text-align: right;\n",
              "    }\n",
              "</style>\n",
              "<table border=\"1\" class=\"dataframe\">\n",
              "  <thead>\n",
              "    <tr style=\"text-align: right;\">\n",
              "      <th></th>\n",
              "      <th>0</th>\n",
              "      <th>1</th>\n",
              "      <th>9</th>\n",
              "      <th>10</th>\n",
              "      <th>11</th>\n",
              "      <th>12</th>\n",
              "      <th>13</th>\n",
              "      <th>16</th>\n",
              "      <th>20</th>\n",
              "      <th>23</th>\n",
              "      <th>24</th>\n",
              "      <th>price</th>\n",
              "    </tr>\n",
              "  </thead>\n",
              "  <tbody>\n",
              "    <tr>\n",
              "      <th>0</th>\n",
              "      <td>1.000000</td>\n",
              "      <td>0.528667</td>\n",
              "      <td>-0.522159</td>\n",
              "      <td>-0.334736</td>\n",
              "      <td>-0.208303</td>\n",
              "      <td>-0.516420</td>\n",
              "      <td>-0.246281</td>\n",
              "      <td>-0.169342</td>\n",
              "      <td>-0.141755</td>\n",
              "      <td>0.013028</td>\n",
              "      <td>0.078220</td>\n",
              "      <td>-0.144078</td>\n",
              "    </tr>\n",
              "    <tr>\n",
              "      <th>1</th>\n",
              "      <td>0.528667</td>\n",
              "      <td>1.000000</td>\n",
              "      <td>-0.074362</td>\n",
              "      <td>0.023220</td>\n",
              "      <td>0.105073</td>\n",
              "      <td>-0.432335</td>\n",
              "      <td>0.119893</td>\n",
              "      <td>0.167365</td>\n",
              "      <td>-0.132654</td>\n",
              "      <td>-0.258502</td>\n",
              "      <td>-0.210768</td>\n",
              "      <td>0.203254</td>\n",
              "    </tr>\n",
              "    <tr>\n",
              "      <th>9</th>\n",
              "      <td>-0.522159</td>\n",
              "      <td>-0.074362</td>\n",
              "      <td>1.000000</td>\n",
              "      <td>0.871641</td>\n",
              "      <td>0.811949</td>\n",
              "      <td>0.558956</td>\n",
              "      <td>0.808489</td>\n",
              "      <td>0.650577</td>\n",
              "      <td>0.295342</td>\n",
              "      <td>-0.535380</td>\n",
              "      <td>-0.572540</td>\n",
              "      <td>0.726600</td>\n",
              "    </tr>\n",
              "    <tr>\n",
              "      <th>10</th>\n",
              "      <td>-0.334736</td>\n",
              "      <td>0.023220</td>\n",
              "      <td>0.871641</td>\n",
              "      <td>1.000000</td>\n",
              "      <td>0.837930</td>\n",
              "      <td>0.496802</td>\n",
              "      <td>0.869949</td>\n",
              "      <td>0.716208</td>\n",
              "      <td>0.190043</td>\n",
              "      <td>-0.683543</td>\n",
              "      <td>-0.690581</td>\n",
              "      <td>0.756060</td>\n",
              "    </tr>\n",
              "    <tr>\n",
              "      <th>11</th>\n",
              "      <td>-0.208303</td>\n",
              "      <td>0.105073</td>\n",
              "      <td>0.811949</td>\n",
              "      <td>0.837930</td>\n",
              "      <td>1.000000</td>\n",
              "      <td>0.283885</td>\n",
              "      <td>0.870256</td>\n",
              "      <td>0.756317</td>\n",
              "      <td>0.261152</td>\n",
              "      <td>-0.644124</td>\n",
              "      <td>-0.674959</td>\n",
              "      <td>0.841883</td>\n",
              "    </tr>\n",
              "    <tr>\n",
              "      <th>12</th>\n",
              "      <td>-0.516420</td>\n",
              "      <td>-0.432335</td>\n",
              "      <td>0.558956</td>\n",
              "      <td>0.496802</td>\n",
              "      <td>0.283885</td>\n",
              "      <td>1.000000</td>\n",
              "      <td>0.358663</td>\n",
              "      <td>0.174557</td>\n",
              "      <td>0.236149</td>\n",
              "      <td>-0.112150</td>\n",
              "      <td>-0.146788</td>\n",
              "      <td>0.224936</td>\n",
              "    </tr>\n",
              "    <tr>\n",
              "      <th>13</th>\n",
              "      <td>-0.246281</td>\n",
              "      <td>0.119893</td>\n",
              "      <td>0.808489</td>\n",
              "      <td>0.869949</td>\n",
              "      <td>0.870256</td>\n",
              "      <td>0.358663</td>\n",
              "      <td>1.000000</td>\n",
              "      <td>0.867894</td>\n",
              "      <td>0.226822</td>\n",
              "      <td>-0.732746</td>\n",
              "      <td>-0.765103</td>\n",
              "      <td>0.891750</td>\n",
              "    </tr>\n",
              "    <tr>\n",
              "      <th>16</th>\n",
              "      <td>-0.169342</td>\n",
              "      <td>0.167365</td>\n",
              "      <td>0.650577</td>\n",
              "      <td>0.716208</td>\n",
              "      <td>0.756317</td>\n",
              "      <td>0.174557</td>\n",
              "      <td>0.867894</td>\n",
              "      <td>1.000000</td>\n",
              "      <td>0.146519</td>\n",
              "      <td>-0.599425</td>\n",
              "      <td>-0.625054</td>\n",
              "      <td>0.807566</td>\n",
              "    </tr>\n",
              "    <tr>\n",
              "      <th>20</th>\n",
              "      <td>-0.141755</td>\n",
              "      <td>-0.132654</td>\n",
              "      <td>0.295342</td>\n",
              "      <td>0.190043</td>\n",
              "      <td>0.261152</td>\n",
              "      <td>0.236149</td>\n",
              "      <td>0.226822</td>\n",
              "      <td>0.146519</td>\n",
              "      <td>1.000000</td>\n",
              "      <td>0.278269</td>\n",
              "      <td>0.223595</td>\n",
              "      <td>0.209138</td>\n",
              "    </tr>\n",
              "    <tr>\n",
              "      <th>23</th>\n",
              "      <td>0.013028</td>\n",
              "      <td>-0.258502</td>\n",
              "      <td>-0.535380</td>\n",
              "      <td>-0.683543</td>\n",
              "      <td>-0.644124</td>\n",
              "      <td>-0.112150</td>\n",
              "      <td>-0.732746</td>\n",
              "      <td>-0.599425</td>\n",
              "      <td>0.278269</td>\n",
              "      <td>1.000000</td>\n",
              "      <td>0.972996</td>\n",
              "      <td>-0.678644</td>\n",
              "    </tr>\n",
              "    <tr>\n",
              "      <th>24</th>\n",
              "      <td>0.078220</td>\n",
              "      <td>-0.210768</td>\n",
              "      <td>-0.572540</td>\n",
              "      <td>-0.690581</td>\n",
              "      <td>-0.674959</td>\n",
              "      <td>-0.146788</td>\n",
              "      <td>-0.765103</td>\n",
              "      <td>-0.625054</td>\n",
              "      <td>0.223595</td>\n",
              "      <td>0.972996</td>\n",
              "      <td>1.000000</td>\n",
              "      <td>-0.709135</td>\n",
              "    </tr>\n",
              "    <tr>\n",
              "      <th>price</th>\n",
              "      <td>-0.144078</td>\n",
              "      <td>0.203254</td>\n",
              "      <td>0.726600</td>\n",
              "      <td>0.756060</td>\n",
              "      <td>0.841883</td>\n",
              "      <td>0.224936</td>\n",
              "      <td>0.891750</td>\n",
              "      <td>0.807566</td>\n",
              "      <td>0.209138</td>\n",
              "      <td>-0.678644</td>\n",
              "      <td>-0.709135</td>\n",
              "      <td>1.000000</td>\n",
              "    </tr>\n",
              "  </tbody>\n",
              "</table>\n",
              "</div>\n",
              "      <button class=\"colab-df-convert\" onclick=\"convertToInteractive('df-ae92518a-abf1-415b-a156-23aa90d05204')\"\n",
              "              title=\"Convert this dataframe to an interactive table.\"\n",
              "              style=\"display:none;\">\n",
              "        \n",
              "  <svg xmlns=\"http://www.w3.org/2000/svg\" height=\"24px\"viewBox=\"0 0 24 24\"\n",
              "       width=\"24px\">\n",
              "    <path d=\"M0 0h24v24H0V0z\" fill=\"none\"/>\n",
              "    <path d=\"M18.56 5.44l.94 2.06.94-2.06 2.06-.94-2.06-.94-.94-2.06-.94 2.06-2.06.94zm-11 1L8.5 8.5l.94-2.06 2.06-.94-2.06-.94L8.5 2.5l-.94 2.06-2.06.94zm10 10l.94 2.06.94-2.06 2.06-.94-2.06-.94-.94-2.06-.94 2.06-2.06.94z\"/><path d=\"M17.41 7.96l-1.37-1.37c-.4-.4-.92-.59-1.43-.59-.52 0-1.04.2-1.43.59L10.3 9.45l-7.72 7.72c-.78.78-.78 2.05 0 2.83L4 21.41c.39.39.9.59 1.41.59.51 0 1.02-.2 1.41-.59l7.78-7.78 2.81-2.81c.8-.78.8-2.07 0-2.86zM5.41 20L4 18.59l7.72-7.72 1.47 1.35L5.41 20z\"/>\n",
              "  </svg>\n",
              "      </button>\n",
              "      \n",
              "  <style>\n",
              "    .colab-df-container {\n",
              "      display:flex;\n",
              "      flex-wrap:wrap;\n",
              "      gap: 12px;\n",
              "    }\n",
              "\n",
              "    .colab-df-convert {\n",
              "      background-color: #E8F0FE;\n",
              "      border: none;\n",
              "      border-radius: 50%;\n",
              "      cursor: pointer;\n",
              "      display: none;\n",
              "      fill: #1967D2;\n",
              "      height: 32px;\n",
              "      padding: 0 0 0 0;\n",
              "      width: 32px;\n",
              "    }\n",
              "\n",
              "    .colab-df-convert:hover {\n",
              "      background-color: #E2EBFA;\n",
              "      box-shadow: 0px 1px 2px rgba(60, 64, 67, 0.3), 0px 1px 3px 1px rgba(60, 64, 67, 0.15);\n",
              "      fill: #174EA6;\n",
              "    }\n",
              "\n",
              "    [theme=dark] .colab-df-convert {\n",
              "      background-color: #3B4455;\n",
              "      fill: #D2E3FC;\n",
              "    }\n",
              "\n",
              "    [theme=dark] .colab-df-convert:hover {\n",
              "      background-color: #434B5C;\n",
              "      box-shadow: 0px 1px 3px 1px rgba(0, 0, 0, 0.15);\n",
              "      filter: drop-shadow(0px 1px 2px rgba(0, 0, 0, 0.3));\n",
              "      fill: #FFFFFF;\n",
              "    }\n",
              "  </style>\n",
              "\n",
              "      <script>\n",
              "        const buttonEl =\n",
              "          document.querySelector('#df-ae92518a-abf1-415b-a156-23aa90d05204 button.colab-df-convert');\n",
              "        buttonEl.style.display =\n",
              "          google.colab.kernel.accessAllowed ? 'block' : 'none';\n",
              "\n",
              "        async function convertToInteractive(key) {\n",
              "          const element = document.querySelector('#df-ae92518a-abf1-415b-a156-23aa90d05204');\n",
              "          const dataTable =\n",
              "            await google.colab.kernel.invokeFunction('convertToInteractive',\n",
              "                                                     [key], {});\n",
              "          if (!dataTable) return;\n",
              "\n",
              "          const docLinkHtml = 'Like what you see? Visit the ' +\n",
              "            '<a target=\"_blank\" href=https://colab.research.google.com/notebooks/data_table.ipynb>data table notebook</a>'\n",
              "            + ' to learn more about interactive tables.';\n",
              "          element.innerHTML = '';\n",
              "          dataTable['output_type'] = 'display_data';\n",
              "          await google.colab.output.renderOutput(dataTable, element);\n",
              "          const docLink = document.createElement('div');\n",
              "          docLink.innerHTML = docLinkHtml;\n",
              "          element.appendChild(docLink);\n",
              "        }\n",
              "      </script>\n",
              "    </div>\n",
              "  </div>\n",
              "  "
            ]
          },
          "metadata": {},
          "execution_count": 420
        }
      ]
    },
    {
      "cell_type": "code",
      "source": [
        "plt.scatter(col1[12],col1[1])"
      ],
      "metadata": {
        "colab": {
          "base_uri": "https://localhost:8080/",
          "height": 282
        },
        "id": "GD-eljVtR4ah",
        "outputId": "db048614-432c-4c56-8687-b00628102bea"
      },
      "execution_count": 421,
      "outputs": [
        {
          "output_type": "execute_result",
          "data": {
            "text/plain": [
              "<matplotlib.collections.PathCollection at 0x7f9bf76dea50>"
            ]
          },
          "metadata": {},
          "execution_count": 421
        },
        {
          "output_type": "display_data",
          "data": {
            "text/plain": [
              "<Figure size 432x288 with 1 Axes>"
            ],
            "image/png": "[encoded data removed]"
          },
          "metadata": {
            "needs_background": "light"
          }
        }
      ]
    },
    {
      "cell_type": "code",
      "source": [
        "col1.info()"
      ],
      "metadata": {
        "colab": {
          "base_uri": "https://localhost:8080/"
        },
        "id": "yehoW19dRxvq",
        "outputId": "f43ffe07-a809-401d-fdc9-79e906743a90"
      },
      "execution_count": 422,
      "outputs": [
        {
          "output_type": "stream",
          "name": "stdout",
          "text": [
            "<class 'pandas.core.frame.DataFrame'>\n",
            "Int64Index: 164 entries, 3 to 204\n",
            "Data columns (total 26 columns):\n",
            " #   Column  Non-Null Count  Dtype  \n",
            "---  ------  --------------  -----  \n",
            " 0   0       164 non-null    int64  \n",
            " 1   1       164 non-null    float64\n",
            " 2   2       164 non-null    object \n",
            " 3   3       164 non-null    object \n",
            " 4   4       164 non-null    object \n",
            " 5   5       164 non-null    object \n",
            " 6   6       164 non-null    object \n",
            " 7   7       164 non-null    object \n",
            " 8   8       164 non-null    object \n",
            " 9   9       164 non-null    float64\n",
            " 10  10      164 non-null    float64\n",
            " 11  11      164 non-null    float64\n",
            " 12  12      164 non-null    float64\n",
            " 13  13      164 non-null    int64  \n",
            " 14  14      164 non-null    object \n",
            " 15  15      164 non-null    object \n",
            " 16  16      164 non-null    int64  \n",
            " 17  17      164 non-null    object \n",
            " 18  18      164 non-null    object \n",
            " 19  19      164 non-null    object \n",
            " 20  20      164 non-null    float64\n",
            " 21  21      164 non-null    object \n",
            " 22  22      164 non-null    object \n",
            " 23  23      164 non-null    int64  \n",
            " 24  24      164 non-null    int64  \n",
            " 25  price   164 non-null    float64\n",
            "dtypes: float64(7), int64(5), object(14)\n",
            "memory usage: 34.6+ KB\n"
          ]
        }
      ]
    },
    {
      "cell_type": "code",
      "source": [
        "col1.groupby(2)[1].median().plot(kind='bar', rot = 0, figsize = (15,10))"
      ],
      "metadata": {
        "colab": {
          "base_uri": "https://localhost:8080/",
          "height": 623
        },
        "id": "ax9m_QKQRziG",
        "outputId": "ff01c395-a4cf-46d3-af3d-d157db05d051"
      },
      "execution_count": 423,
      "outputs": [
        {
          "output_type": "execute_result",
          "data": {
            "text/plain": [
              "<matplotlib.axes._subplots.AxesSubplot at 0x7f9bf8680d10>"
            ]
          },
          "metadata": {},
          "execution_count": 423
        },
        {
          "output_type": "display_data",
          "data": {
            "text/plain": [
              "<Figure size 1080x720 with 1 Axes>"
            ],
            "image/png": "[encoded data removed]"
          },
          "metadata": {
            "needs_background": "light"
          }
        }
      ]
    },
    {
      "cell_type": "code",
      "source": [
        "col1.groupby(6)[1].std().plot(kind='bar', rot = 0, figsize = (15,10))"
      ],
      "metadata": {
        "colab": {
          "base_uri": "https://localhost:8080/",
          "height": 623
        },
        "id": "9lAeOpsTSkZW",
        "outputId": "367b04aa-1d3f-49af-d17b-3f1448866032"
      },
      "execution_count": 424,
      "outputs": [
        {
          "output_type": "execute_result",
          "data": {
            "text/plain": [
              "<matplotlib.axes._subplots.AxesSubplot at 0x7f9bf767bd10>"
            ]
          },
          "metadata": {},
          "execution_count": 424
        },
        {
          "output_type": "display_data",
          "data": {
            "text/plain": [
              "<Figure size 1080x720 with 1 Axes>"
            ],
            "image/png": "[encoded data removed]"
          },
          "metadata": {
            "needs_background": "light"
          }
        }
      ]
    },
    {
      "cell_type": "code",
      "source": [
        "cars[1].replace('?', np.nan, inplace=True)\n",
        "cars[1].fillna(cars.groupby(6)[1].transform('median'),inplace=True)\n",
        "cars.isnull().sum()"
      ],
      "metadata": {
        "colab": {
          "base_uri": "https://localhost:8080/"
        },
        "id": "1pS5JLG1S8PQ",
        "outputId": "36d411bf-f0b7-470a-f245-fc8242d0c69f"
      },
      "execution_count": 425,
      "outputs": [
        {
          "output_type": "stream",
          "name": "stderr",
          "text": [
            "/usr/local/lib/python3.7/dist-packages/pandas/core/generic.py:6619: SettingWithCopyWarning: \n",
            "A value is trying to be set on a copy of a slice from a DataFrame\n",
            "\n",
            "See the caveats in the documentation: https://pandas.pydata.org/pandas-docs/stable/user_guide/indexing.html#returning-a-view-versus-a-copy\n",
            "  return self._update_inplace(result)\n",
            "/usr/local/lib/python3.7/dist-packages/pandas/core/generic.py:6392: SettingWithCopyWarning: \n",
            "A value is trying to be set on a copy of a slice from a DataFrame\n",
            "\n",
            "See the caveats in the documentation: https://pandas.pydata.org/pandas-docs/stable/user_guide/indexing.html#returning-a-view-versus-a-copy\n",
            "  return self._update_inplace(result)\n"
          ]
        },
        {
          "output_type": "execute_result",
          "data": {
            "text/plain": [
              "0        0\n",
              "1        0\n",
              "2        0\n",
              "3        0\n",
              "4        0\n",
              "5        0\n",
              "6        0\n",
              "7        0\n",
              "8        0\n",
              "9        0\n",
              "10       0\n",
              "11       0\n",
              "12       0\n",
              "13       0\n",
              "14       0\n",
              "15       0\n",
              "16       0\n",
              "17       0\n",
              "18       0\n",
              "19       0\n",
              "20       0\n",
              "21       0\n",
              "22       0\n",
              "23       0\n",
              "24       0\n",
              "price    0\n",
              "dtype: int64"
            ]
          },
          "metadata": {},
          "execution_count": 425
        }
      ]
    },
    {
      "cell_type": "code",
      "source": [
        "cars[1] = cars[1].astype(float)\n",
        "cars.info()"
      ],
      "metadata": {
        "colab": {
          "base_uri": "https://localhost:8080/"
        },
        "id": "baZFY8lEUx9c",
        "outputId": "2fafed4d-0892-48f1-fb3b-53f172f1a266"
      },
      "execution_count": 426,
      "outputs": [
        {
          "output_type": "stream",
          "name": "stdout",
          "text": [
            "<class 'pandas.core.frame.DataFrame'>\n",
            "Int64Index: 201 entries, 0 to 204\n",
            "Data columns (total 26 columns):\n",
            " #   Column  Non-Null Count  Dtype  \n",
            "---  ------  --------------  -----  \n",
            " 0   0       201 non-null    int64  \n",
            " 1   1       201 non-null    float64\n",
            " 2   2       201 non-null    object \n",
            " 3   3       201 non-null    object \n",
            " 4   4       201 non-null    object \n",
            " 5   5       201 non-null    object \n",
            " 6   6       201 non-null    object \n",
            " 7   7       201 non-null    object \n",
            " 8   8       201 non-null    object \n",
            " 9   9       201 non-null    float64\n",
            " 10  10      201 non-null    float64\n",
            " 11  11      201 non-null    float64\n",
            " 12  12      201 non-null    float64\n",
            " 13  13      201 non-null    int64  \n",
            " 14  14      201 non-null    object \n",
            " 15  15      201 non-null    object \n",
            " 16  16      201 non-null    int64  \n",
            " 17  17      201 non-null    object \n",
            " 18  18      201 non-null    object \n",
            " 19  19      201 non-null    object \n",
            " 20  20      201 non-null    float64\n",
            " 21  21      201 non-null    object \n",
            " 22  22      201 non-null    object \n",
            " 23  23      201 non-null    int64  \n",
            " 24  24      201 non-null    int64  \n",
            " 25  price   201 non-null    float64\n",
            "dtypes: float64(7), int64(5), object(14)\n",
            "memory usage: 42.4+ KB\n"
          ]
        },
        {
          "output_type": "stream",
          "name": "stderr",
          "text": [
            "/usr/local/lib/python3.7/dist-packages/ipykernel_launcher.py:1: SettingWithCopyWarning: \n",
            "A value is trying to be set on a copy of a slice from a DataFrame.\n",
            "Try using .loc[row_indexer,col_indexer] = value instead\n",
            "\n",
            "See the caveats in the documentation: https://pandas.pydata.org/pandas-docs/stable/user_guide/indexing.html#returning-a-view-versus-a-copy\n",
            "  \"\"\"Entry point for launching an IPython kernel.\n"
          ]
        }
      ]
    },
    {
      "cell_type": "markdown",
      "source": [
        "## Cleaning up Col 18 and 19"
      ],
      "metadata": {
        "id": "FCF2z2jvTsu3"
      }
    },
    {
      "cell_type": "code",
      "source": [
        "cars[cars[18] == \"?\"]"
      ],
      "metadata": {
        "colab": {
          "base_uri": "https://localhost:8080/",
          "height": 204
        },
        "id": "OUiyjKNETxZQ",
        "outputId": "2c961b6a-f893-4db7-cfc6-733e351148cc"
      },
      "execution_count": 427,
      "outputs": [
        {
          "output_type": "execute_result",
          "data": {
            "text/plain": [
              "    0      1      2    3    4    5          6    7      8     9  ...  16  \\\n",
              "55  3  150.0  mazda  gas  std  two  hatchback  rwd  front  95.3  ...  70   \n",
              "56  3  150.0  mazda  gas  std  two  hatchback  rwd  front  95.3  ...  70   \n",
              "57  3  150.0  mazda  gas  std  two  hatchback  rwd  front  95.3  ...  70   \n",
              "58  3  150.0  mazda  gas  std  two  hatchback  rwd  front  95.3  ...  80   \n",
              "\n",
              "      17  18  19   20   21    22  23  24    price  \n",
              "55  4bbl   ?   ?  9.4  101  6000  17  23  10945.0  \n",
              "56  4bbl   ?   ?  9.4  101  6000  17  23  11845.0  \n",
              "57  4bbl   ?   ?  9.4  101  6000  17  23  13645.0  \n",
              "58  mpfi   ?   ?  9.4  135  6000  16  23  15645.0  \n",
              "\n",
              "[4 rows x 26 columns]"
            ],
            "text/html": [
              "\n",
              "  <div id=\"df-c4bb2f6e-b7dc-410f-833f-aa9e9cd96a42\">\n",
              "    <div class=\"colab-df-container\">\n",
              "      <div>\n",
              "<style scoped>\n",
              "    .dataframe tbody tr th:only-of-type {\n",
              "        vertical-align: middle;\n",
              "    }\n",
              "\n",
              "    .dataframe tbody tr th {\n",
              "        vertical-align: top;\n",
              "    }\n",
              "\n",
              "    .dataframe thead th {\n",
              "        text-align: right;\n",
              "    }\n",
              "</style>\n",
              "<table border=\"1\" class=\"dataframe\">\n",
              "  <thead>\n",
              "    <tr style=\"text-align: right;\">\n",
              "      <th></th>\n",
              "      <th>0</th>\n",
              "      <th>1</th>\n",
              "      <th>2</th>\n",
              "      <th>3</th>\n",
              "      <th>4</th>\n",
              "      <th>5</th>\n",
              "      <th>6</th>\n",
              "      <th>7</th>\n",
              "      <th>8</th>\n",
              "      <th>9</th>\n",
              "      <th>...</th>\n",
              "      <th>16</th>\n",
              "      <th>17</th>\n",
              "      <th>18</th>\n",
              "      <th>19</th>\n",
              "      <th>20</th>\n",
              "      <th>21</th>\n",
              "      <th>22</th>\n",
              "      <th>23</th>\n",
              "      <th>24</th>\n",
              "      <th>price</th>\n",
              "    </tr>\n",
              "  </thead>\n",
              "  <tbody>\n",
              "    <tr>\n",
              "      <th>55</th>\n",
              "      <td>3</td>\n",
              "      <td>150.0</td>\n",
              "      <td>mazda</td>\n",
              "      <td>gas</td>\n",
              "      <td>std</td>\n",
              "      <td>two</td>\n",
              "      <td>hatchback</td>\n",
              "      <td>rwd</td>\n",
              "      <td>front</td>\n",
              "      <td>95.3</td>\n",
              "      <td>...</td>\n",
              "      <td>70</td>\n",
              "      <td>4bbl</td>\n",
              "      <td>?</td>\n",
              "      <td>?</td>\n",
              "      <td>9.4</td>\n",
              "      <td>101</td>\n",
              "      <td>6000</td>\n",
              "      <td>17</td>\n",
              "      <td>23</td>\n",
              "      <td>10945.0</td>\n",
              "    </tr>\n",
              "    <tr>\n",
              "      <th>56</th>\n",
              "      <td>3</td>\n",
              "      <td>150.0</td>\n",
              "      <td>mazda</td>\n",
              "      <td>gas</td>\n",
              "      <td>std</td>\n",
              "      <td>two</td>\n",
              "      <td>hatchback</td>\n",
              "      <td>rwd</td>\n",
              "      <td>front</td>\n",
              "      <td>95.3</td>\n",
              "      <td>...</td>\n",
              "      <td>70</td>\n",
              "      <td>4bbl</td>\n",
              "      <td>?</td>\n",
              "      <td>?</td>\n",
              "      <td>9.4</td>\n",
              "      <td>101</td>\n",
              "      <td>6000</td>\n",
              "      <td>17</td>\n",
              "      <td>23</td>\n",
              "      <td>11845.0</td>\n",
              "    </tr>\n",
              "    <tr>\n",
              "      <th>57</th>\n",
              "      <td>3</td>\n",
              "      <td>150.0</td>\n",
              "      <td>mazda</td>\n",
              "      <td>gas</td>\n",
              "      <td>std</td>\n",
              "      <td>two</td>\n",
              "      <td>hatchback</td>\n",
              "      <td>rwd</td>\n",
              "      <td>front</td>\n",
              "      <td>95.3</td>\n",
              "      <td>...</td>\n",
              "      <td>70</td>\n",
              "      <td>4bbl</td>\n",
              "      <td>?</td>\n",
              "      <td>?</td>\n",
              "      <td>9.4</td>\n",
              "      <td>101</td>\n",
              "      <td>6000</td>\n",
              "      <td>17</td>\n",
              "      <td>23</td>\n",
              "      <td>13645.0</td>\n",
              "    </tr>\n",
              "    <tr>\n",
              "      <th>58</th>\n",
              "      <td>3</td>\n",
              "      <td>150.0</td>\n",
              "      <td>mazda</td>\n",
              "      <td>gas</td>\n",
              "      <td>std</td>\n",
              "      <td>two</td>\n",
              "      <td>hatchback</td>\n",
              "      <td>rwd</td>\n",
              "      <td>front</td>\n",
              "      <td>95.3</td>\n",
              "      <td>...</td>\n",
              "      <td>80</td>\n",
              "      <td>mpfi</td>\n",
              "      <td>?</td>\n",
              "      <td>?</td>\n",
              "      <td>9.4</td>\n",
              "      <td>135</td>\n",
              "      <td>6000</td>\n",
              "      <td>16</td>\n",
              "      <td>23</td>\n",
              "      <td>15645.0</td>\n",
              "    </tr>\n",
              "  </tbody>\n",
              "</table>\n",
              "<p>4 rows × 26 columns</p>\n",
              "</div>\n",
              "      <button class=\"colab-df-convert\" onclick=\"convertToInteractive('df-c4bb2f6e-b7dc-410f-833f-aa9e9cd96a42')\"\n",
              "              title=\"Convert this dataframe to an interactive table.\"\n",
              "              style=\"display:none;\">\n",
              "        \n",
              "  <svg xmlns=\"http://www.w3.org/2000/svg\" height=\"24px\"viewBox=\"0 0 24 24\"\n",
              "       width=\"24px\">\n",
              "    <path d=\"M0 0h24v24H0V0z\" fill=\"none\"/>\n",
              "    <path d=\"M18.56 5.44l.94 2.06.94-2.06 2.06-.94-2.06-.94-.94-2.06-.94 2.06-2.06.94zm-11 1L8.5 8.5l.94-2.06 2.06-.94-2.06-.94L8.5 2.5l-.94 2.06-2.06.94zm10 10l.94 2.06.94-2.06 2.06-.94-2.06-.94-.94-2.06-.94 2.06-2.06.94z\"/><path d=\"M17.41 7.96l-1.37-1.37c-.4-.4-.92-.59-1.43-.59-.52 0-1.04.2-1.43.59L10.3 9.45l-7.72 7.72c-.78.78-.78 2.05 0 2.83L4 21.41c.39.39.9.59 1.41.59.51 0 1.02-.2 1.41-.59l7.78-7.78 2.81-2.81c.8-.78.8-2.07 0-2.86zM5.41 20L4 18.59l7.72-7.72 1.47 1.35L5.41 20z\"/>\n",
              "  </svg>\n",
              "      </button>\n",
              "      \n",
              "  <style>\n",
              "    .colab-df-container {\n",
              "      display:flex;\n",
              "      flex-wrap:wrap;\n",
              "      gap: 12px;\n",
              "    }\n",
              "\n",
              "    .colab-df-convert {\n",
              "      background-color: #E8F0FE;\n",
              "      border: none;\n",
              "      border-radius: 50%;\n",
              "      cursor: pointer;\n",
              "      display: none;\n",
              "      fill: #1967D2;\n",
              "      height: 32px;\n",
              "      padding: 0 0 0 0;\n",
              "      width: 32px;\n",
              "    }\n",
              "\n",
              "    .colab-df-convert:hover {\n",
              "      background-color: #E2EBFA;\n",
              "      box-shadow: 0px 1px 2px rgba(60, 64, 67, 0.3), 0px 1px 3px 1px rgba(60, 64, 67, 0.15);\n",
              "      fill: #174EA6;\n",
              "    }\n",
              "\n",
              "    [theme=dark] .colab-df-convert {\n",
              "      background-color: #3B4455;\n",
              "      fill: #D2E3FC;\n",
              "    }\n",
              "\n",
              "    [theme=dark] .colab-df-convert:hover {\n",
              "      background-color: #434B5C;\n",
              "      box-shadow: 0px 1px 3px 1px rgba(0, 0, 0, 0.15);\n",
              "      filter: drop-shadow(0px 1px 2px rgba(0, 0, 0, 0.3));\n",
              "      fill: #FFFFFF;\n",
              "    }\n",
              "  </style>\n",
              "\n",
              "      <script>\n",
              "        const buttonEl =\n",
              "          document.querySelector('#df-c4bb2f6e-b7dc-410f-833f-aa9e9cd96a42 button.colab-df-convert');\n",
              "        buttonEl.style.display =\n",
              "          google.colab.kernel.accessAllowed ? 'block' : 'none';\n",
              "\n",
              "        async function convertToInteractive(key) {\n",
              "          const element = document.querySelector('#df-c4bb2f6e-b7dc-410f-833f-aa9e9cd96a42');\n",
              "          const dataTable =\n",
              "            await google.colab.kernel.invokeFunction('convertToInteractive',\n",
              "                                                     [key], {});\n",
              "          if (!dataTable) return;\n",
              "\n",
              "          const docLinkHtml = 'Like what you see? Visit the ' +\n",
              "            '<a target=\"_blank\" href=https://colab.research.google.com/notebooks/data_table.ipynb>data table notebook</a>'\n",
              "            + ' to learn more about interactive tables.';\n",
              "          element.innerHTML = '';\n",
              "          dataTable['output_type'] = 'display_data';\n",
              "          await google.colab.output.renderOutput(dataTable, element);\n",
              "          const docLink = document.createElement('div');\n",
              "          docLink.innerHTML = docLinkHtml;\n",
              "          element.appendChild(docLink);\n",
              "        }\n",
              "      </script>\n",
              "    </div>\n",
              "  </div>\n",
              "  "
            ]
          },
          "metadata": {},
          "execution_count": 427
        }
      ]
    },
    {
      "cell_type": "code",
      "source": [
        "cars[cars[2] == 'mazda']"
      ],
      "metadata": {
        "colab": {
          "base_uri": "https://localhost:8080/",
          "height": 612
        },
        "id": "7-olB_1KT8vC",
        "outputId": "d68386e7-fbab-460b-f7fd-85f994432cd3"
      },
      "execution_count": 428,
      "outputs": [
        {
          "output_type": "execute_result",
          "data": {
            "text/plain": [
              "    0      1      2       3    4     5          6    7      8      9  ...  \\\n",
              "50  1  104.0  mazda     gas  std   two  hatchback  fwd  front   93.1  ...   \n",
              "51  1  104.0  mazda     gas  std   two  hatchback  fwd  front   93.1  ...   \n",
              "52  1  104.0  mazda     gas  std   two  hatchback  fwd  front   93.1  ...   \n",
              "53  1  113.0  mazda     gas  std  four      sedan  fwd  front   93.1  ...   \n",
              "54  1  113.0  mazda     gas  std  four      sedan  fwd  front   93.1  ...   \n",
              "55  3  150.0  mazda     gas  std   two  hatchback  rwd  front   95.3  ...   \n",
              "56  3  150.0  mazda     gas  std   two  hatchback  rwd  front   95.3  ...   \n",
              "57  3  150.0  mazda     gas  std   two  hatchback  rwd  front   95.3  ...   \n",
              "58  3  150.0  mazda     gas  std   two  hatchback  rwd  front   95.3  ...   \n",
              "59  1  129.0  mazda     gas  std   two  hatchback  fwd  front   98.8  ...   \n",
              "60  0  115.0  mazda     gas  std  four      sedan  fwd  front   98.8  ...   \n",
              "61  1  129.0  mazda     gas  std   two  hatchback  fwd  front   98.8  ...   \n",
              "62  0  115.0  mazda     gas  std  four      sedan  fwd  front   98.8  ...   \n",
              "63  0  113.0  mazda  diesel  std     ?      sedan  fwd  front   98.8  ...   \n",
              "64  0  115.0  mazda     gas  std  four  hatchback  fwd  front   98.8  ...   \n",
              "65  0  118.0  mazda     gas  std  four      sedan  rwd  front  104.9  ...   \n",
              "66  0  113.0  mazda  diesel  std  four      sedan  rwd  front  104.9  ...   \n",
              "\n",
              "     16    17    18    19    20   21    22  23  24    price  \n",
              "50   91  2bbl  3.03  3.15   9.0   68  5000  30  31   5195.0  \n",
              "51   91  2bbl  3.03  3.15   9.0   68  5000  31  38   6095.0  \n",
              "52   91  2bbl  3.03  3.15   9.0   68  5000  31  38   6795.0  \n",
              "53   91  2bbl  3.03  3.15   9.0   68  5000  31  38   6695.0  \n",
              "54   91  2bbl  3.08  3.15   9.0   68  5000  31  38   7395.0  \n",
              "55   70  4bbl     ?     ?   9.4  101  6000  17  23  10945.0  \n",
              "56   70  4bbl     ?     ?   9.4  101  6000  17  23  11845.0  \n",
              "57   70  4bbl     ?     ?   9.4  101  6000  17  23  13645.0  \n",
              "58   80  mpfi     ?     ?   9.4  135  6000  16  23  15645.0  \n",
              "59  122  2bbl  3.39  3.39   8.6   84  4800  26  32   8845.0  \n",
              "60  122  2bbl  3.39  3.39   8.6   84  4800  26  32   8495.0  \n",
              "61  122  2bbl  3.39  3.39   8.6   84  4800  26  32  10595.0  \n",
              "62  122  2bbl  3.39  3.39   8.6   84  4800  26  32  10245.0  \n",
              "63  122   idi  3.39  3.39  22.7   64  4650  36  42  10795.0  \n",
              "64  122  2bbl  3.39  3.39   8.6   84  4800  26  32  11245.0  \n",
              "65  140  mpfi  3.76  3.16   8.0  120  5000  19  27  18280.0  \n",
              "66  134   idi  3.43  3.64  22.0   72  4200  31  39  18344.0  \n",
              "\n",
              "[17 rows x 26 columns]"
            ],
            "text/html": [
              "\n",
              "  <div id=\"df-7f51f1a8-c33a-4eca-946d-b51c7b5cb668\">\n",
              "    <div class=\"colab-df-container\">\n",
              "      <div>\n",
              "<style scoped>\n",
              "    .dataframe tbody tr th:only-of-type {\n",
              "        vertical-align: middle;\n",
              "    }\n",
              "\n",
              "    .dataframe tbody tr th {\n",
              "        vertical-align: top;\n",
              "    }\n",
              "\n",
              "    .dataframe thead th {\n",
              "        text-align: right;\n",
              "    }\n",
              "</style>\n",
              "<table border=\"1\" class=\"dataframe\">\n",
              "  <thead>\n",
              "    <tr style=\"text-align: right;\">\n",
              "      <th></th>\n",
              "      <th>0</th>\n",
              "      <th>1</th>\n",
              "      <th>2</th>\n",
              "      <th>3</th>\n",
              "      <th>4</th>\n",
              "      <th>5</th>\n",
              "      <th>6</th>\n",
              "      <th>7</th>\n",
              "      <th>8</th>\n",
              "      <th>9</th>\n",
              "      <th>...</th>\n",
              "      <th>16</th>\n",
              "      <th>17</th>\n",
              "      <th>18</th>\n",
              "      <th>19</th>\n",
              "      <th>20</th>\n",
              "      <th>21</th>\n",
              "      <th>22</th>\n",
              "      <th>23</th>\n",
              "      <th>24</th>\n",
              "      <th>price</th>\n",
              "    </tr>\n",
              "  </thead>\n",
              "  <tbody>\n",
              "    <tr>\n",
              "      <th>50</th>\n",
              "      <td>1</td>\n",
              "      <td>104.0</td>\n",
              "      <td>mazda</td>\n",
              "      <td>gas</td>\n",
              "      <td>std</td>\n",
              "      <td>two</td>\n",
              "      <td>hatchback</td>\n",
              "      <td>fwd</td>\n",
              "      <td>front</td>\n",
              "      <td>93.1</td>\n",
              "      <td>...</td>\n",
              "      <td>91</td>\n",
              "      <td>2bbl</td>\n",
              "      <td>3.03</td>\n",
              "      <td>3.15</td>\n",
              "      <td>9.0</td>\n",
              "      <td>68</td>\n",
              "      <td>5000</td>\n",
              "      <td>30</td>\n",
              "      <td>31</td>\n",
              "      <td>5195.0</td>\n",
              "    </tr>\n",
              "    <tr>\n",
              "      <th>51</th>\n",
              "      <td>1</td>\n",
              "      <td>104.0</td>\n",
              "      <td>mazda</td>\n",
              "      <td>gas</td>\n",
              "      <td>std</td>\n",
              "      <td>two</td>\n",
              "      <td>hatchback</td>\n",
              "      <td>fwd</td>\n",
              "      <td>front</td>\n",
              "      <td>93.1</td>\n",
              "      <td>...</td>\n",
              "      <td>91</td>\n",
              "      <td>2bbl</td>\n",
              "      <td>3.03</td>\n",
              "      <td>3.15</td>\n",
              "      <td>9.0</td>\n",
              "      <td>68</td>\n",
              "      <td>5000</td>\n",
              "      <td>31</td>\n",
              "      <td>38</td>\n",
              "      <td>6095.0</td>\n",
              "    </tr>\n",
              "    <tr>\n",
              "      <th>52</th>\n",
              "      <td>1</td>\n",
              "      <td>104.0</td>\n",
              "      <td>mazda</td>\n",
              "      <td>gas</td>\n",
              "      <td>std</td>\n",
              "      <td>two</td>\n",
              "      <td>hatchback</td>\n",
              "      <td>fwd</td>\n",
              "      <td>front</td>\n",
              "      <td>93.1</td>\n",
              "      <td>...</td>\n",
              "      <td>91</td>\n",
              "      <td>2bbl</td>\n",
              "      <td>3.03</td>\n",
              "      <td>3.15</td>\n",
              "      <td>9.0</td>\n",
              "      <td>68</td>\n",
              "      <td>5000</td>\n",
              "      <td>31</td>\n",
              "      <td>38</td>\n",
              "      <td>6795.0</td>\n",
              "    </tr>\n",
              "    <tr>\n",
              "      <th>53</th>\n",
              "      <td>1</td>\n",
              "      <td>113.0</td>\n",
              "      <td>mazda</td>\n",
              "      <td>gas</td>\n",
              "      <td>std</td>\n",
              "      <td>four</td>\n",
              "      <td>sedan</td>\n",
              "      <td>fwd</td>\n",
              "      <td>front</td>\n",
              "      <td>93.1</td>\n",
              "      <td>...</td>\n",
              "      <td>91</td>\n",
              "      <td>2bbl</td>\n",
              "      <td>3.03</td>\n",
              "      <td>3.15</td>\n",
              "      <td>9.0</td>\n",
              "      <td>68</td>\n",
              "      <td>5000</td>\n",
              "      <td>31</td>\n",
              "      <td>38</td>\n",
              "      <td>6695.0</td>\n",
              "    </tr>\n",
              "    <tr>\n",
              "      <th>54</th>\n",
              "      <td>1</td>\n",
              "      <td>113.0</td>\n",
              "      <td>mazda</td>\n",
              "      <td>gas</td>\n",
              "      <td>std</td>\n",
              "      <td>four</td>\n",
              "      <td>sedan</td>\n",
              "      <td>fwd</td>\n",
              "      <td>front</td>\n",
              "      <td>93.1</td>\n",
              "      <td>...</td>\n",
              "      <td>91</td>\n",
              "      <td>2bbl</td>\n",
              "      <td>3.08</td>\n",
              "      <td>3.15</td>\n",
              "      <td>9.0</td>\n",
              "      <td>68</td>\n",
              "      <td>5000</td>\n",
              "      <td>31</td>\n",
              "      <td>38</td>\n",
              "      <td>7395.0</td>\n",
              "    </tr>\n",
              "    <tr>\n",
              "      <th>55</th>\n",
              "      <td>3</td>\n",
              "      <td>150.0</td>\n",
              "      <td>mazda</td>\n",
              "      <td>gas</td>\n",
              "      <td>std</td>\n",
              "      <td>two</td>\n",
              "      <td>hatchback</td>\n",
              "      <td>rwd</td>\n",
              "      <td>front</td>\n",
              "      <td>95.3</td>\n",
              "      <td>...</td>\n",
              "      <td>70</td>\n",
              "      <td>4bbl</td>\n",
              "      <td>?</td>\n",
              "      <td>?</td>\n",
              "      <td>9.4</td>\n",
              "      <td>101</td>\n",
              "      <td>6000</td>\n",
              "      <td>17</td>\n",
              "      <td>23</td>\n",
              "      <td>10945.0</td>\n",
              "    </tr>\n",
              "    <tr>\n",
              "      <th>56</th>\n",
              "      <td>3</td>\n",
              "      <td>150.0</td>\n",
              "      <td>mazda</td>\n",
              "      <td>gas</td>\n",
              "      <td>std</td>\n",
              "      <td>two</td>\n",
              "      <td>hatchback</td>\n",
              "      <td>rwd</td>\n",
              "      <td>front</td>\n",
              "      <td>95.3</td>\n",
              "      <td>...</td>\n",
              "      <td>70</td>\n",
              "      <td>4bbl</td>\n",
              "      <td>?</td>\n",
              "      <td>?</td>\n",
              "      <td>9.4</td>\n",
              "      <td>101</td>\n",
              "      <td>6000</td>\n",
              "      <td>17</td>\n",
              "      <td>23</td>\n",
              "      <td>11845.0</td>\n",
              "    </tr>\n",
              "    <tr>\n",
              "      <th>57</th>\n",
              "      <td>3</td>\n",
              "      <td>150.0</td>\n",
              "      <td>mazda</td>\n",
              "      <td>gas</td>\n",
              "      <td>std</td>\n",
              "      <td>two</td>\n",
              "      <td>hatchback</td>\n",
              "      <td>rwd</td>\n",
              "      <td>front</td>\n",
              "      <td>95.3</td>\n",
              "      <td>...</td>\n",
              "      <td>70</td>\n",
              "      <td>4bbl</td>\n",
              "      <td>?</td>\n",
              "      <td>?</td>\n",
              "      <td>9.4</td>\n",
              "      <td>101</td>\n",
              "      <td>6000</td>\n",
              "      <td>17</td>\n",
              "      <td>23</td>\n",
              "      <td>13645.0</td>\n",
              "    </tr>\n",
              "    <tr>\n",
              "      <th>58</th>\n",
              "      <td>3</td>\n",
              "      <td>150.0</td>\n",
              "      <td>mazda</td>\n",
              "      <td>gas</td>\n",
              "      <td>std</td>\n",
              "      <td>two</td>\n",
              "      <td>hatchback</td>\n",
              "      <td>rwd</td>\n",
              "      <td>front</td>\n",
              "      <td>95.3</td>\n",
              "      <td>...</td>\n",
              "      <td>80</td>\n",
              "      <td>mpfi</td>\n",
              "      <td>?</td>\n",
              "      <td>?</td>\n",
              "      <td>9.4</td>\n",
              "      <td>135</td>\n",
              "      <td>6000</td>\n",
              "      <td>16</td>\n",
              "      <td>23</td>\n",
              "      <td>15645.0</td>\n",
              "    </tr>\n",
              "    <tr>\n",
              "      <th>59</th>\n",
              "      <td>1</td>\n",
              "      <td>129.0</td>\n",
              "      <td>mazda</td>\n",
              "      <td>gas</td>\n",
              "      <td>std</td>\n",
              "      <td>two</td>\n",
              "      <td>hatchback</td>\n",
              "      <td>fwd</td>\n",
              "      <td>front</td>\n",
              "      <td>98.8</td>\n",
              "      <td>...</td>\n",
              "      <td>122</td>\n",
              "      <td>2bbl</td>\n",
              "      <td>3.39</td>\n",
              "      <td>3.39</td>\n",
              "      <td>8.6</td>\n",
              "      <td>84</td>\n",
              "      <td>4800</td>\n",
              "      <td>26</td>\n",
              "      <td>32</td>\n",
              "      <td>8845.0</td>\n",
              "    </tr>\n",
              "    <tr>\n",
              "      <th>60</th>\n",
              "      <td>0</td>\n",
              "      <td>115.0</td>\n",
              "      <td>mazda</td>\n",
              "      <td>gas</td>\n",
              "      <td>std</td>\n",
              "      <td>four</td>\n",
              "      <td>sedan</td>\n",
              "      <td>fwd</td>\n",
              "      <td>front</td>\n",
              "      <td>98.8</td>\n",
              "      <td>...</td>\n",
              "      <td>122</td>\n",
              "      <td>2bbl</td>\n",
              "      <td>3.39</td>\n",
              "      <td>3.39</td>\n",
              "      <td>8.6</td>\n",
              "      <td>84</td>\n",
              "      <td>4800</td>\n",
              "      <td>26</td>\n",
              "      <td>32</td>\n",
              "      <td>8495.0</td>\n",
              "    </tr>\n",
              "    <tr>\n",
              "      <th>61</th>\n",
              "      <td>1</td>\n",
              "      <td>129.0</td>\n",
              "      <td>mazda</td>\n",
              "      <td>gas</td>\n",
              "      <td>std</td>\n",
              "      <td>two</td>\n",
              "      <td>hatchback</td>\n",
              "      <td>fwd</td>\n",
              "      <td>front</td>\n",
              "      <td>98.8</td>\n",
              "      <td>...</td>\n",
              "      <td>122</td>\n",
              "      <td>2bbl</td>\n",
              "      <td>3.39</td>\n",
              "      <td>3.39</td>\n",
              "      <td>8.6</td>\n",
              "      <td>84</td>\n",
              "      <td>4800</td>\n",
              "      <td>26</td>\n",
              "      <td>32</td>\n",
              "      <td>10595.0</td>\n",
              "    </tr>\n",
              "    <tr>\n",
              "      <th>62</th>\n",
              "      <td>0</td>\n",
              "      <td>115.0</td>\n",
              "      <td>mazda</td>\n",
              "      <td>gas</td>\n",
              "      <td>std</td>\n",
              "      <td>four</td>\n",
              "      <td>sedan</td>\n",
              "      <td>fwd</td>\n",
              "      <td>front</td>\n",
              "      <td>98.8</td>\n",
              "      <td>...</td>\n",
              "      <td>122</td>\n",
              "      <td>2bbl</td>\n",
              "      <td>3.39</td>\n",
              "      <td>3.39</td>\n",
              "      <td>8.6</td>\n",
              "      <td>84</td>\n",
              "      <td>4800</td>\n",
              "      <td>26</td>\n",
              "      <td>32</td>\n",
              "      <td>10245.0</td>\n",
              "    </tr>\n",
              "    <tr>\n",
              "      <th>63</th>\n",
              "      <td>0</td>\n",
              "      <td>113.0</td>\n",
              "      <td>mazda</td>\n",
              "      <td>diesel</td>\n",
              "      <td>std</td>\n",
              "      <td>?</td>\n",
              "      <td>sedan</td>\n",
              "      <td>fwd</td>\n",
              "      <td>front</td>\n",
              "      <td>98.8</td>\n",
              "      <td>...</td>\n",
              "      <td>122</td>\n",
              "      <td>idi</td>\n",
              "      <td>3.39</td>\n",
              "      <td>3.39</td>\n",
              "      <td>22.7</td>\n",
              "      <td>64</td>\n",
              "      <td>4650</td>\n",
              "      <td>36</td>\n",
              "      <td>42</td>\n",
              "      <td>10795.0</td>\n",
              "    </tr>\n",
              "    <tr>\n",
              "      <th>64</th>\n",
              "      <td>0</td>\n",
              "      <td>115.0</td>\n",
              "      <td>mazda</td>\n",
              "      <td>gas</td>\n",
              "      <td>std</td>\n",
              "      <td>four</td>\n",
              "      <td>hatchback</td>\n",
              "      <td>fwd</td>\n",
              "      <td>front</td>\n",
              "      <td>98.8</td>\n",
              "      <td>...</td>\n",
              "      <td>122</td>\n",
              "      <td>2bbl</td>\n",
              "      <td>3.39</td>\n",
              "      <td>3.39</td>\n",
              "      <td>8.6</td>\n",
              "      <td>84</td>\n",
              "      <td>4800</td>\n",
              "      <td>26</td>\n",
              "      <td>32</td>\n",
              "      <td>11245.0</td>\n",
              "    </tr>\n",
              "    <tr>\n",
              "      <th>65</th>\n",
              "      <td>0</td>\n",
              "      <td>118.0</td>\n",
              "      <td>mazda</td>\n",
              "      <td>gas</td>\n",
              "      <td>std</td>\n",
              "      <td>four</td>\n",
              "      <td>sedan</td>\n",
              "      <td>rwd</td>\n",
              "      <td>front</td>\n",
              "      <td>104.9</td>\n",
              "      <td>...</td>\n",
              "      <td>140</td>\n",
              "      <td>mpfi</td>\n",
              "      <td>3.76</td>\n",
              "      <td>3.16</td>\n",
              "      <td>8.0</td>\n",
              "      <td>120</td>\n",
              "      <td>5000</td>\n",
              "      <td>19</td>\n",
              "      <td>27</td>\n",
              "      <td>18280.0</td>\n",
              "    </tr>\n",
              "    <tr>\n",
              "      <th>66</th>\n",
              "      <td>0</td>\n",
              "      <td>113.0</td>\n",
              "      <td>mazda</td>\n",
              "      <td>diesel</td>\n",
              "      <td>std</td>\n",
              "      <td>four</td>\n",
              "      <td>sedan</td>\n",
              "      <td>rwd</td>\n",
              "      <td>front</td>\n",
              "      <td>104.9</td>\n",
              "      <td>...</td>\n",
              "      <td>134</td>\n",
              "      <td>idi</td>\n",
              "      <td>3.43</td>\n",
              "      <td>3.64</td>\n",
              "      <td>22.0</td>\n",
              "      <td>72</td>\n",
              "      <td>4200</td>\n",
              "      <td>31</td>\n",
              "      <td>39</td>\n",
              "      <td>18344.0</td>\n",
              "    </tr>\n",
              "  </tbody>\n",
              "</table>\n",
              "<p>17 rows × 26 columns</p>\n",
              "</div>\n",
              "      <button class=\"colab-df-convert\" onclick=\"convertToInteractive('df-7f51f1a8-c33a-4eca-946d-b51c7b5cb668')\"\n",
              "              title=\"Convert this dataframe to an interactive table.\"\n",
              "              style=\"display:none;\">\n",
              "        \n",
              "  <svg xmlns=\"http://www.w3.org/2000/svg\" height=\"24px\"viewBox=\"0 0 24 24\"\n",
              "       width=\"24px\">\n",
              "    <path d=\"M0 0h24v24H0V0z\" fill=\"none\"/>\n",
              "    <path d=\"M18.56 5.44l.94 2.06.94-2.06 2.06-.94-2.06-.94-.94-2.06-.94 2.06-2.06.94zm-11 1L8.5 8.5l.94-2.06 2.06-.94-2.06-.94L8.5 2.5l-.94 2.06-2.06.94zm10 10l.94 2.06.94-2.06 2.06-.94-2.06-.94-.94-2.06-.94 2.06-2.06.94z\"/><path d=\"M17.41 7.96l-1.37-1.37c-.4-.4-.92-.59-1.43-.59-.52 0-1.04.2-1.43.59L10.3 9.45l-7.72 7.72c-.78.78-.78 2.05 0 2.83L4 21.41c.39.39.9.59 1.41.59.51 0 1.02-.2 1.41-.59l7.78-7.78 2.81-2.81c.8-.78.8-2.07 0-2.86zM5.41 20L4 18.59l7.72-7.72 1.47 1.35L5.41 20z\"/>\n",
              "  </svg>\n",
              "      </button>\n",
              "      \n",
              "  <style>\n",
              "    .colab-df-container {\n",
              "      display:flex;\n",
              "      flex-wrap:wrap;\n",
              "      gap: 12px;\n",
              "    }\n",
              "\n",
              "    .colab-df-convert {\n",
              "      background-color: #E8F0FE;\n",
              "      border: none;\n",
              "      border-radius: 50%;\n",
              "      cursor: pointer;\n",
              "      display: none;\n",
              "      fill: #1967D2;\n",
              "      height: 32px;\n",
              "      padding: 0 0 0 0;\n",
              "      width: 32px;\n",
              "    }\n",
              "\n",
              "    .colab-df-convert:hover {\n",
              "      background-color: #E2EBFA;\n",
              "      box-shadow: 0px 1px 2px rgba(60, 64, 67, 0.3), 0px 1px 3px 1px rgba(60, 64, 67, 0.15);\n",
              "      fill: #174EA6;\n",
              "    }\n",
              "\n",
              "    [theme=dark] .colab-df-convert {\n",
              "      background-color: #3B4455;\n",
              "      fill: #D2E3FC;\n",
              "    }\n",
              "\n",
              "    [theme=dark] .colab-df-convert:hover {\n",
              "      background-color: #434B5C;\n",
              "      box-shadow: 0px 1px 3px 1px rgba(0, 0, 0, 0.15);\n",
              "      filter: drop-shadow(0px 1px 2px rgba(0, 0, 0, 0.3));\n",
              "      fill: #FFFFFF;\n",
              "    }\n",
              "  </style>\n",
              "\n",
              "      <script>\n",
              "        const buttonEl =\n",
              "          document.querySelector('#df-7f51f1a8-c33a-4eca-946d-b51c7b5cb668 button.colab-df-convert');\n",
              "        buttonEl.style.display =\n",
              "          google.colab.kernel.accessAllowed ? 'block' : 'none';\n",
              "\n",
              "        async function convertToInteractive(key) {\n",
              "          const element = document.querySelector('#df-7f51f1a8-c33a-4eca-946d-b51c7b5cb668');\n",
              "          const dataTable =\n",
              "            await google.colab.kernel.invokeFunction('convertToInteractive',\n",
              "                                                     [key], {});\n",
              "          if (!dataTable) return;\n",
              "\n",
              "          const docLinkHtml = 'Like what you see? Visit the ' +\n",
              "            '<a target=\"_blank\" href=https://colab.research.google.com/notebooks/data_table.ipynb>data table notebook</a>'\n",
              "            + ' to learn more about interactive tables.';\n",
              "          element.innerHTML = '';\n",
              "          dataTable['output_type'] = 'display_data';\n",
              "          await google.colab.output.renderOutput(dataTable, element);\n",
              "          const docLink = document.createElement('div');\n",
              "          docLink.innerHTML = docLinkHtml;\n",
              "          element.appendChild(docLink);\n",
              "        }\n",
              "      </script>\n",
              "    </div>\n",
              "  </div>\n",
              "  "
            ]
          },
          "metadata": {},
          "execution_count": 428
        }
      ]
    },
    {
      "cell_type": "code",
      "source": [
        "cars[18].replace('?', np.nan, inplace=True)\n",
        "cars[19].replace('?', np.nan, inplace=True)\n",
        "cars[18].fillna(cars[cars[2] == 'mazda'][18].median(), inplace=True)\n",
        "cars[19].fillna(cars[cars[2] == 'mazda'][19].median(), inplace=True)\n",
        "cars.isnull().sum()"
      ],
      "metadata": {
        "colab": {
          "base_uri": "https://localhost:8080/"
        },
        "id": "Uww_xsUBUIbp",
        "outputId": "70961a52-9d74-4c6e-c8de-3c1494b8b0f7"
      },
      "execution_count": 429,
      "outputs": [
        {
          "output_type": "stream",
          "name": "stderr",
          "text": [
            "/usr/local/lib/python3.7/dist-packages/pandas/core/generic.py:6619: SettingWithCopyWarning: \n",
            "A value is trying to be set on a copy of a slice from a DataFrame\n",
            "\n",
            "See the caveats in the documentation: https://pandas.pydata.org/pandas-docs/stable/user_guide/indexing.html#returning-a-view-versus-a-copy\n",
            "  return self._update_inplace(result)\n",
            "/usr/local/lib/python3.7/dist-packages/pandas/core/generic.py:6392: SettingWithCopyWarning: \n",
            "A value is trying to be set on a copy of a slice from a DataFrame\n",
            "\n",
            "See the caveats in the documentation: https://pandas.pydata.org/pandas-docs/stable/user_guide/indexing.html#returning-a-view-versus-a-copy\n",
            "  return self._update_inplace(result)\n",
            "/usr/local/lib/python3.7/dist-packages/pandas/core/generic.py:6392: SettingWithCopyWarning: \n",
            "A value is trying to be set on a copy of a slice from a DataFrame\n",
            "\n",
            "See the caveats in the documentation: https://pandas.pydata.org/pandas-docs/stable/user_guide/indexing.html#returning-a-view-versus-a-copy\n",
            "  return self._update_inplace(result)\n"
          ]
        },
        {
          "output_type": "execute_result",
          "data": {
            "text/plain": [
              "0        0\n",
              "1        0\n",
              "2        0\n",
              "3        0\n",
              "4        0\n",
              "5        0\n",
              "6        0\n",
              "7        0\n",
              "8        0\n",
              "9        0\n",
              "10       0\n",
              "11       0\n",
              "12       0\n",
              "13       0\n",
              "14       0\n",
              "15       0\n",
              "16       0\n",
              "17       0\n",
              "18       0\n",
              "19       0\n",
              "20       0\n",
              "21       0\n",
              "22       0\n",
              "23       0\n",
              "24       0\n",
              "price    0\n",
              "dtype: int64"
            ]
          },
          "metadata": {},
          "execution_count": 429
        }
      ]
    },
    {
      "cell_type": "code",
      "source": [
        "cars[18] = cars[18].astype(float)\n",
        "cars[19] = cars[19].astype(float)"
      ],
      "metadata": {
        "colab": {
          "base_uri": "https://localhost:8080/"
        },
        "id": "AsQVpUeBU5F-",
        "outputId": "953a445f-1f41-46ab-9391-de34ebe1d5cc"
      },
      "execution_count": 430,
      "outputs": [
        {
          "output_type": "stream",
          "name": "stderr",
          "text": [
            "/usr/local/lib/python3.7/dist-packages/ipykernel_launcher.py:1: SettingWithCopyWarning: \n",
            "A value is trying to be set on a copy of a slice from a DataFrame.\n",
            "Try using .loc[row_indexer,col_indexer] = value instead\n",
            "\n",
            "See the caveats in the documentation: https://pandas.pydata.org/pandas-docs/stable/user_guide/indexing.html#returning-a-view-versus-a-copy\n",
            "  \"\"\"Entry point for launching an IPython kernel.\n",
            "/usr/local/lib/python3.7/dist-packages/ipykernel_launcher.py:2: SettingWithCopyWarning: \n",
            "A value is trying to be set on a copy of a slice from a DataFrame.\n",
            "Try using .loc[row_indexer,col_indexer] = value instead\n",
            "\n",
            "See the caveats in the documentation: https://pandas.pydata.org/pandas-docs/stable/user_guide/indexing.html#returning-a-view-versus-a-copy\n",
            "  \n"
          ]
        }
      ]
    },
    {
      "cell_type": "code",
      "source": [
        "cars.info()"
      ],
      "metadata": {
        "colab": {
          "base_uri": "https://localhost:8080/"
        },
        "id": "lsuzGwBhU44O",
        "outputId": "0cea5cf5-57bd-4abf-c101-2b1b6377a615"
      },
      "execution_count": 431,
      "outputs": [
        {
          "output_type": "stream",
          "name": "stdout",
          "text": [
            "<class 'pandas.core.frame.DataFrame'>\n",
            "Int64Index: 201 entries, 0 to 204\n",
            "Data columns (total 26 columns):\n",
            " #   Column  Non-Null Count  Dtype  \n",
            "---  ------  --------------  -----  \n",
            " 0   0       201 non-null    int64  \n",
            " 1   1       201 non-null    float64\n",
            " 2   2       201 non-null    object \n",
            " 3   3       201 non-null    object \n",
            " 4   4       201 non-null    object \n",
            " 5   5       201 non-null    object \n",
            " 6   6       201 non-null    object \n",
            " 7   7       201 non-null    object \n",
            " 8   8       201 non-null    object \n",
            " 9   9       201 non-null    float64\n",
            " 10  10      201 non-null    float64\n",
            " 11  11      201 non-null    float64\n",
            " 12  12      201 non-null    float64\n",
            " 13  13      201 non-null    int64  \n",
            " 14  14      201 non-null    object \n",
            " 15  15      201 non-null    object \n",
            " 16  16      201 non-null    int64  \n",
            " 17  17      201 non-null    object \n",
            " 18  18      201 non-null    float64\n",
            " 19  19      201 non-null    float64\n",
            " 20  20      201 non-null    float64\n",
            " 21  21      201 non-null    object \n",
            " 22  22      201 non-null    object \n",
            " 23  23      201 non-null    int64  \n",
            " 24  24      201 non-null    int64  \n",
            " 25  price   201 non-null    float64\n",
            "dtypes: float64(9), int64(5), object(12)\n",
            "memory usage: 42.4+ KB\n"
          ]
        }
      ]
    },
    {
      "cell_type": "markdown",
      "source": [
        "## Clean up 21, 22"
      ],
      "metadata": {
        "id": "Vxg4Vy4jVcNM"
      }
    },
    {
      "cell_type": "code",
      "source": [
        "cars[cars[21] == '?']"
      ],
      "metadata": {
        "colab": {
          "base_uri": "https://localhost:8080/",
          "height": 141
        },
        "id": "_mFEGfXFVd71",
        "outputId": "89e2681d-7d59-49b4-8d7e-64e13ac5a078"
      },
      "execution_count": 432,
      "outputs": [
        {
          "output_type": "execute_result",
          "data": {
            "text/plain": [
              "     0      1        2    3    4     5          6    7      8     9  ...   16  \\\n",
              "130  0   85.0  renault  gas  std  four      wagon  fwd  front  96.1  ...  132   \n",
              "131  2  129.0  renault  gas  std   two  hatchback  fwd  front  96.1  ...  132   \n",
              "\n",
              "       17    18   19   20 21  22  23  24   price  \n",
              "130  mpfi  3.46  3.9  8.7  ?   ?  23  31  9295.0  \n",
              "131  mpfi  3.46  3.9  8.7  ?   ?  23  31  9895.0  \n",
              "\n",
              "[2 rows x 26 columns]"
            ],
            "text/html": [
              "\n",
              "  <div id=\"df-f4e5b889-31c5-4359-9b0c-cb7e40297d7e\">\n",
              "    <div class=\"colab-df-container\">\n",
              "      <div>\n",
              "<style scoped>\n",
              "    .dataframe tbody tr th:only-of-type {\n",
              "        vertical-align: middle;\n",
              "    }\n",
              "\n",
              "    .dataframe tbody tr th {\n",
              "        vertical-align: top;\n",
              "    }\n",
              "\n",
              "    .dataframe thead th {\n",
              "        text-align: right;\n",
              "    }\n",
              "</style>\n",
              "<table border=\"1\" class=\"dataframe\">\n",
              "  <thead>\n",
              "    <tr style=\"text-align: right;\">\n",
              "      <th></th>\n",
              "      <th>0</th>\n",
              "      <th>1</th>\n",
              "      <th>2</th>\n",
              "      <th>3</th>\n",
              "      <th>4</th>\n",
              "      <th>5</th>\n",
              "      <th>6</th>\n",
              "      <th>7</th>\n",
              "      <th>8</th>\n",
              "      <th>9</th>\n",
              "      <th>...</th>\n",
              "      <th>16</th>\n",
              "      <th>17</th>\n",
              "      <th>18</th>\n",
              "      <th>19</th>\n",
              "      <th>20</th>\n",
              "      <th>21</th>\n",
              "      <th>22</th>\n",
              "      <th>23</th>\n",
              "      <th>24</th>\n",
              "      <th>price</th>\n",
              "    </tr>\n",
              "  </thead>\n",
              "  <tbody>\n",
              "    <tr>\n",
              "      <th>130</th>\n",
              "      <td>0</td>\n",
              "      <td>85.0</td>\n",
              "      <td>renault</td>\n",
              "      <td>gas</td>\n",
              "      <td>std</td>\n",
              "      <td>four</td>\n",
              "      <td>wagon</td>\n",
              "      <td>fwd</td>\n",
              "      <td>front</td>\n",
              "      <td>96.1</td>\n",
              "      <td>...</td>\n",
              "      <td>132</td>\n",
              "      <td>mpfi</td>\n",
              "      <td>3.46</td>\n",
              "      <td>3.9</td>\n",
              "      <td>8.7</td>\n",
              "      <td>?</td>\n",
              "      <td>?</td>\n",
              "      <td>23</td>\n",
              "      <td>31</td>\n",
              "      <td>9295.0</td>\n",
              "    </tr>\n",
              "    <tr>\n",
              "      <th>131</th>\n",
              "      <td>2</td>\n",
              "      <td>129.0</td>\n",
              "      <td>renault</td>\n",
              "      <td>gas</td>\n",
              "      <td>std</td>\n",
              "      <td>two</td>\n",
              "      <td>hatchback</td>\n",
              "      <td>fwd</td>\n",
              "      <td>front</td>\n",
              "      <td>96.1</td>\n",
              "      <td>...</td>\n",
              "      <td>132</td>\n",
              "      <td>mpfi</td>\n",
              "      <td>3.46</td>\n",
              "      <td>3.9</td>\n",
              "      <td>8.7</td>\n",
              "      <td>?</td>\n",
              "      <td>?</td>\n",
              "      <td>23</td>\n",
              "      <td>31</td>\n",
              "      <td>9895.0</td>\n",
              "    </tr>\n",
              "  </tbody>\n",
              "</table>\n",
              "<p>2 rows × 26 columns</p>\n",
              "</div>\n",
              "      <button class=\"colab-df-convert\" onclick=\"convertToInteractive('df-f4e5b889-31c5-4359-9b0c-cb7e40297d7e')\"\n",
              "              title=\"Convert this dataframe to an interactive table.\"\n",
              "              style=\"display:none;\">\n",
              "        \n",
              "  <svg xmlns=\"http://www.w3.org/2000/svg\" height=\"24px\"viewBox=\"0 0 24 24\"\n",
              "       width=\"24px\">\n",
              "    <path d=\"M0 0h24v24H0V0z\" fill=\"none\"/>\n",
              "    <path d=\"M18.56 5.44l.94 2.06.94-2.06 2.06-.94-2.06-.94-.94-2.06-.94 2.06-2.06.94zm-11 1L8.5 8.5l.94-2.06 2.06-.94-2.06-.94L8.5 2.5l-.94 2.06-2.06.94zm10 10l.94 2.06.94-2.06 2.06-.94-2.06-.94-.94-2.06-.94 2.06-2.06.94z\"/><path d=\"M17.41 7.96l-1.37-1.37c-.4-.4-.92-.59-1.43-.59-.52 0-1.04.2-1.43.59L10.3 9.45l-7.72 7.72c-.78.78-.78 2.05 0 2.83L4 21.41c.39.39.9.59 1.41.59.51 0 1.02-.2 1.41-.59l7.78-7.78 2.81-2.81c.8-.78.8-2.07 0-2.86zM5.41 20L4 18.59l7.72-7.72 1.47 1.35L5.41 20z\"/>\n",
              "  </svg>\n",
              "      </button>\n",
              "      \n",
              "  <style>\n",
              "    .colab-df-container {\n",
              "      display:flex;\n",
              "      flex-wrap:wrap;\n",
              "      gap: 12px;\n",
              "    }\n",
              "\n",
              "    .colab-df-convert {\n",
              "      background-color: #E8F0FE;\n",
              "      border: none;\n",
              "      border-radius: 50%;\n",
              "      cursor: pointer;\n",
              "      display: none;\n",
              "      fill: #1967D2;\n",
              "      height: 32px;\n",
              "      padding: 0 0 0 0;\n",
              "      width: 32px;\n",
              "    }\n",
              "\n",
              "    .colab-df-convert:hover {\n",
              "      background-color: #E2EBFA;\n",
              "      box-shadow: 0px 1px 2px rgba(60, 64, 67, 0.3), 0px 1px 3px 1px rgba(60, 64, 67, 0.15);\n",
              "      fill: #174EA6;\n",
              "    }\n",
              "\n",
              "    [theme=dark] .colab-df-convert {\n",
              "      background-color: #3B4455;\n",
              "      fill: #D2E3FC;\n",
              "    }\n",
              "\n",
              "    [theme=dark] .colab-df-convert:hover {\n",
              "      background-color: #434B5C;\n",
              "      box-shadow: 0px 1px 3px 1px rgba(0, 0, 0, 0.15);\n",
              "      filter: drop-shadow(0px 1px 2px rgba(0, 0, 0, 0.3));\n",
              "      fill: #FFFFFF;\n",
              "    }\n",
              "  </style>\n",
              "\n",
              "      <script>\n",
              "        const buttonEl =\n",
              "          document.querySelector('#df-f4e5b889-31c5-4359-9b0c-cb7e40297d7e button.colab-df-convert');\n",
              "        buttonEl.style.display =\n",
              "          google.colab.kernel.accessAllowed ? 'block' : 'none';\n",
              "\n",
              "        async function convertToInteractive(key) {\n",
              "          const element = document.querySelector('#df-f4e5b889-31c5-4359-9b0c-cb7e40297d7e');\n",
              "          const dataTable =\n",
              "            await google.colab.kernel.invokeFunction('convertToInteractive',\n",
              "                                                     [key], {});\n",
              "          if (!dataTable) return;\n",
              "\n",
              "          const docLinkHtml = 'Like what you see? Visit the ' +\n",
              "            '<a target=\"_blank\" href=https://colab.research.google.com/notebooks/data_table.ipynb>data table notebook</a>'\n",
              "            + ' to learn more about interactive tables.';\n",
              "          element.innerHTML = '';\n",
              "          dataTable['output_type'] = 'display_data';\n",
              "          await google.colab.output.renderOutput(dataTable, element);\n",
              "          const docLink = document.createElement('div');\n",
              "          docLink.innerHTML = docLinkHtml;\n",
              "          element.appendChild(docLink);\n",
              "        }\n",
              "      </script>\n",
              "    </div>\n",
              "  </div>\n",
              "  "
            ]
          },
          "metadata": {},
          "execution_count": 432
        }
      ]
    },
    {
      "cell_type": "code",
      "source": [
        "cars[cars[22] == '?']"
      ],
      "metadata": {
        "colab": {
          "base_uri": "https://localhost:8080/",
          "height": 141
        },
        "id": "iASKGhYCVsxN",
        "outputId": "56d44b96-f683-490b-974a-1c3397ffce5f"
      },
      "execution_count": 433,
      "outputs": [
        {
          "output_type": "execute_result",
          "data": {
            "text/plain": [
              "     0      1        2    3    4     5          6    7      8     9  ...   16  \\\n",
              "130  0   85.0  renault  gas  std  four      wagon  fwd  front  96.1  ...  132   \n",
              "131  2  129.0  renault  gas  std   two  hatchback  fwd  front  96.1  ...  132   \n",
              "\n",
              "       17    18   19   20 21  22  23  24   price  \n",
              "130  mpfi  3.46  3.9  8.7  ?   ?  23  31  9295.0  \n",
              "131  mpfi  3.46  3.9  8.7  ?   ?  23  31  9895.0  \n",
              "\n",
              "[2 rows x 26 columns]"
            ],
            "text/html": [
              "\n",
              "  <div id=\"df-7c4b72de-dd1d-4e25-bdfc-979a19ce002a\">\n",
              "    <div class=\"colab-df-container\">\n",
              "      <div>\n",
              "<style scoped>\n",
              "    .dataframe tbody tr th:only-of-type {\n",
              "        vertical-align: middle;\n",
              "    }\n",
              "\n",
              "    .dataframe tbody tr th {\n",
              "        vertical-align: top;\n",
              "    }\n",
              "\n",
              "    .dataframe thead th {\n",
              "        text-align: right;\n",
              "    }\n",
              "</style>\n",
              "<table border=\"1\" class=\"dataframe\">\n",
              "  <thead>\n",
              "    <tr style=\"text-align: right;\">\n",
              "      <th></th>\n",
              "      <th>0</th>\n",
              "      <th>1</th>\n",
              "      <th>2</th>\n",
              "      <th>3</th>\n",
              "      <th>4</th>\n",
              "      <th>5</th>\n",
              "      <th>6</th>\n",
              "      <th>7</th>\n",
              "      <th>8</th>\n",
              "      <th>9</th>\n",
              "      <th>...</th>\n",
              "      <th>16</th>\n",
              "      <th>17</th>\n",
              "      <th>18</th>\n",
              "      <th>19</th>\n",
              "      <th>20</th>\n",
              "      <th>21</th>\n",
              "      <th>22</th>\n",
              "      <th>23</th>\n",
              "      <th>24</th>\n",
              "      <th>price</th>\n",
              "    </tr>\n",
              "  </thead>\n",
              "  <tbody>\n",
              "    <tr>\n",
              "      <th>130</th>\n",
              "      <td>0</td>\n",
              "      <td>85.0</td>\n",
              "      <td>renault</td>\n",
              "      <td>gas</td>\n",
              "      <td>std</td>\n",
              "      <td>four</td>\n",
              "      <td>wagon</td>\n",
              "      <td>fwd</td>\n",
              "      <td>front</td>\n",
              "      <td>96.1</td>\n",
              "      <td>...</td>\n",
              "      <td>132</td>\n",
              "      <td>mpfi</td>\n",
              "      <td>3.46</td>\n",
              "      <td>3.9</td>\n",
              "      <td>8.7</td>\n",
              "      <td>?</td>\n",
              "      <td>?</td>\n",
              "      <td>23</td>\n",
              "      <td>31</td>\n",
              "      <td>9295.0</td>\n",
              "    </tr>\n",
              "    <tr>\n",
              "      <th>131</th>\n",
              "      <td>2</td>\n",
              "      <td>129.0</td>\n",
              "      <td>renault</td>\n",
              "      <td>gas</td>\n",
              "      <td>std</td>\n",
              "      <td>two</td>\n",
              "      <td>hatchback</td>\n",
              "      <td>fwd</td>\n",
              "      <td>front</td>\n",
              "      <td>96.1</td>\n",
              "      <td>...</td>\n",
              "      <td>132</td>\n",
              "      <td>mpfi</td>\n",
              "      <td>3.46</td>\n",
              "      <td>3.9</td>\n",
              "      <td>8.7</td>\n",
              "      <td>?</td>\n",
              "      <td>?</td>\n",
              "      <td>23</td>\n",
              "      <td>31</td>\n",
              "      <td>9895.0</td>\n",
              "    </tr>\n",
              "  </tbody>\n",
              "</table>\n",
              "<p>2 rows × 26 columns</p>\n",
              "</div>\n",
              "      <button class=\"colab-df-convert\" onclick=\"convertToInteractive('df-7c4b72de-dd1d-4e25-bdfc-979a19ce002a')\"\n",
              "              title=\"Convert this dataframe to an interactive table.\"\n",
              "              style=\"display:none;\">\n",
              "        \n",
              "  <svg xmlns=\"http://www.w3.org/2000/svg\" height=\"24px\"viewBox=\"0 0 24 24\"\n",
              "       width=\"24px\">\n",
              "    <path d=\"M0 0h24v24H0V0z\" fill=\"none\"/>\n",
              "    <path d=\"M18.56 5.44l.94 2.06.94-2.06 2.06-.94-2.06-.94-.94-2.06-.94 2.06-2.06.94zm-11 1L8.5 8.5l.94-2.06 2.06-.94-2.06-.94L8.5 2.5l-.94 2.06-2.06.94zm10 10l.94 2.06.94-2.06 2.06-.94-2.06-.94-.94-2.06-.94 2.06-2.06.94z\"/><path d=\"M17.41 7.96l-1.37-1.37c-.4-.4-.92-.59-1.43-.59-.52 0-1.04.2-1.43.59L10.3 9.45l-7.72 7.72c-.78.78-.78 2.05 0 2.83L4 21.41c.39.39.9.59 1.41.59.51 0 1.02-.2 1.41-.59l7.78-7.78 2.81-2.81c.8-.78.8-2.07 0-2.86zM5.41 20L4 18.59l7.72-7.72 1.47 1.35L5.41 20z\"/>\n",
              "  </svg>\n",
              "      </button>\n",
              "      \n",
              "  <style>\n",
              "    .colab-df-container {\n",
              "      display:flex;\n",
              "      flex-wrap:wrap;\n",
              "      gap: 12px;\n",
              "    }\n",
              "\n",
              "    .colab-df-convert {\n",
              "      background-color: #E8F0FE;\n",
              "      border: none;\n",
              "      border-radius: 50%;\n",
              "      cursor: pointer;\n",
              "      display: none;\n",
              "      fill: #1967D2;\n",
              "      height: 32px;\n",
              "      padding: 0 0 0 0;\n",
              "      width: 32px;\n",
              "    }\n",
              "\n",
              "    .colab-df-convert:hover {\n",
              "      background-color: #E2EBFA;\n",
              "      box-shadow: 0px 1px 2px rgba(60, 64, 67, 0.3), 0px 1px 3px 1px rgba(60, 64, 67, 0.15);\n",
              "      fill: #174EA6;\n",
              "    }\n",
              "\n",
              "    [theme=dark] .colab-df-convert {\n",
              "      background-color: #3B4455;\n",
              "      fill: #D2E3FC;\n",
              "    }\n",
              "\n",
              "    [theme=dark] .colab-df-convert:hover {\n",
              "      background-color: #434B5C;\n",
              "      box-shadow: 0px 1px 3px 1px rgba(0, 0, 0, 0.15);\n",
              "      filter: drop-shadow(0px 1px 2px rgba(0, 0, 0, 0.3));\n",
              "      fill: #FFFFFF;\n",
              "    }\n",
              "  </style>\n",
              "\n",
              "      <script>\n",
              "        const buttonEl =\n",
              "          document.querySelector('#df-7c4b72de-dd1d-4e25-bdfc-979a19ce002a button.colab-df-convert');\n",
              "        buttonEl.style.display =\n",
              "          google.colab.kernel.accessAllowed ? 'block' : 'none';\n",
              "\n",
              "        async function convertToInteractive(key) {\n",
              "          const element = document.querySelector('#df-7c4b72de-dd1d-4e25-bdfc-979a19ce002a');\n",
              "          const dataTable =\n",
              "            await google.colab.kernel.invokeFunction('convertToInteractive',\n",
              "                                                     [key], {});\n",
              "          if (!dataTable) return;\n",
              "\n",
              "          const docLinkHtml = 'Like what you see? Visit the ' +\n",
              "            '<a target=\"_blank\" href=https://colab.research.google.com/notebooks/data_table.ipynb>data table notebook</a>'\n",
              "            + ' to learn more about interactive tables.';\n",
              "          element.innerHTML = '';\n",
              "          dataTable['output_type'] = 'display_data';\n",
              "          await google.colab.output.renderOutput(dataTable, element);\n",
              "          const docLink = document.createElement('div');\n",
              "          docLink.innerHTML = docLinkHtml;\n",
              "          element.appendChild(docLink);\n",
              "        }\n",
              "      </script>\n",
              "    </div>\n",
              "  </div>\n",
              "  "
            ]
          },
          "metadata": {},
          "execution_count": 433
        }
      ]
    },
    {
      "cell_type": "code",
      "source": [
        "cars[21].replace('?', np.nan, inplace=True)\n",
        "cars[22].replace('?', np.nan, inplace=True)\n",
        "cars.dropna(inplace=True)\n",
        "cars.isnull().sum().sum()"
      ],
      "metadata": {
        "colab": {
          "base_uri": "https://localhost:8080/"
        },
        "id": "aLbjJcNbVyEW",
        "outputId": "1b22a357-ef54-46b6-a343-8dde3bf49496"
      },
      "execution_count": 447,
      "outputs": [
        {
          "output_type": "stream",
          "name": "stderr",
          "text": [
            "/usr/local/lib/python3.7/dist-packages/pandas/core/generic.py:6619: SettingWithCopyWarning: \n",
            "A value is trying to be set on a copy of a slice from a DataFrame\n",
            "\n",
            "See the caveats in the documentation: https://pandas.pydata.org/pandas-docs/stable/user_guide/indexing.html#returning-a-view-versus-a-copy\n",
            "  return self._update_inplace(result)\n",
            "/usr/local/lib/python3.7/dist-packages/pandas/util/_decorators.py:311: SettingWithCopyWarning: \n",
            "A value is trying to be set on a copy of a slice from a DataFrame\n",
            "\n",
            "See the caveats in the documentation: https://pandas.pydata.org/pandas-docs/stable/user_guide/indexing.html#returning-a-view-versus-a-copy\n",
            "  return func(*args, **kwargs)\n"
          ]
        },
        {
          "output_type": "execute_result",
          "data": {
            "text/plain": [
              "0"
            ]
          },
          "metadata": {},
          "execution_count": 447
        }
      ]
    },
    {
      "cell_type": "code",
      "source": [
        "cars[21] = cars[21].astype(float)\n",
        "cars[22] = cars[22].astype(float)"
      ],
      "metadata": {
        "colab": {
          "base_uri": "https://localhost:8080/"
        },
        "id": "-3XbiN78Wg2I",
        "outputId": "9212563a-db1a-4317-a9ff-fd1dd417256b"
      },
      "execution_count": 448,
      "outputs": [
        {
          "output_type": "stream",
          "name": "stderr",
          "text": [
            "/usr/local/lib/python3.7/dist-packages/ipykernel_launcher.py:1: SettingWithCopyWarning: \n",
            "A value is trying to be set on a copy of a slice from a DataFrame.\n",
            "Try using .loc[row_indexer,col_indexer] = value instead\n",
            "\n",
            "See the caveats in the documentation: https://pandas.pydata.org/pandas-docs/stable/user_guide/indexing.html#returning-a-view-versus-a-copy\n",
            "  \"\"\"Entry point for launching an IPython kernel.\n",
            "/usr/local/lib/python3.7/dist-packages/ipykernel_launcher.py:2: SettingWithCopyWarning: \n",
            "A value is trying to be set on a copy of a slice from a DataFrame.\n",
            "Try using .loc[row_indexer,col_indexer] = value instead\n",
            "\n",
            "See the caveats in the documentation: https://pandas.pydata.org/pandas-docs/stable/user_guide/indexing.html#returning-a-view-versus-a-copy\n",
            "  \n"
          ]
        }
      ]
    },
    {
      "cell_type": "code",
      "source": [
        "cars.info()"
      ],
      "metadata": {
        "colab": {
          "base_uri": "https://localhost:8080/"
        },
        "id": "K13Pt9xJWJM8",
        "outputId": "1e594e8b-c9b4-47c0-b8f7-cc2027463ff5"
      },
      "execution_count": 449,
      "outputs": [
        {
          "output_type": "stream",
          "name": "stdout",
          "text": [
            "<class 'pandas.core.frame.DataFrame'>\n",
            "Int64Index: 199 entries, 0 to 204\n",
            "Data columns (total 26 columns):\n",
            " #   Column  Non-Null Count  Dtype  \n",
            "---  ------  --------------  -----  \n",
            " 0   0       199 non-null    object \n",
            " 1   1       199 non-null    float64\n",
            " 2   2       199 non-null    object \n",
            " 3   3       199 non-null    object \n",
            " 4   4       199 non-null    object \n",
            " 5   5       199 non-null    object \n",
            " 6   6       199 non-null    object \n",
            " 7   7       199 non-null    object \n",
            " 8   8       199 non-null    object \n",
            " 9   9       199 non-null    float64\n",
            " 10  10      199 non-null    float64\n",
            " 11  11      199 non-null    float64\n",
            " 12  12      199 non-null    float64\n",
            " 13  13      199 non-null    int64  \n",
            " 14  14      199 non-null    object \n",
            " 15  15      199 non-null    object \n",
            " 16  16      199 non-null    int64  \n",
            " 17  17      199 non-null    object \n",
            " 18  18      199 non-null    float64\n",
            " 19  19      199 non-null    float64\n",
            " 20  20      199 non-null    float64\n",
            " 21  21      199 non-null    float64\n",
            " 22  22      199 non-null    float64\n",
            " 23  23      199 non-null    int64  \n",
            " 24  24      199 non-null    int64  \n",
            " 25  price   199 non-null    float64\n",
            "dtypes: float64(11), int64(4), object(11)\n",
            "memory usage: 42.0+ KB\n"
          ]
        }
      ]
    },
    {
      "cell_type": "markdown",
      "source": [
        "# Encoding categoricals"
      ],
      "metadata": {
        "id": "eOKvfrRMP1Db"
      }
    },
    {
      "cell_type": "markdown",
      "source": [
        "Categoricals to encode:\n",
        "* 0\n",
        "* 2\n",
        "* 3\n",
        "* 4\n",
        "* 5\n",
        "* 6\n",
        "* 7\n",
        "* 8\n",
        "* 14\n",
        "* 15\n",
        "* 17\n",
        "\n",
        "Numericals\n",
        "* 1\n",
        "* 9\n",
        "* 10\n",
        "* 11\n",
        "* 12\n",
        "* 13\n",
        "* 16\n",
        "* 18\n",
        "* 19\n",
        "* 20\n",
        "* 21\n",
        "* 22\n",
        "* 23\n",
        "* 24\n",
        "\n",
        "Target\n",
        "* price"
      ],
      "metadata": {
        "id": "tBwZVkZvVHDu"
      }
    },
    {
      "cell_type": "code",
      "source": [
        "cars.head()"
      ],
      "metadata": {
        "colab": {
          "base_uri": "https://localhost:8080/",
          "height": 236
        },
        "id": "-k2XsUeAVI1L",
        "outputId": "c932d2da-e193-4bae-ba9a-517672dd8e5d"
      },
      "execution_count": 450,
      "outputs": [
        {
          "output_type": "execute_result",
          "data": {
            "text/plain": [
              "   0      1            2    3    4     5            6    7      8     9  ...  \\\n",
              "0  3  138.0  alfa-romero  gas  std   two  convertible  rwd  front  88.6  ...   \n",
              "1  3  138.0  alfa-romero  gas  std   two  convertible  rwd  front  88.6  ...   \n",
              "2  1  129.0  alfa-romero  gas  std   two    hatchback  rwd  front  94.5  ...   \n",
              "3  2  164.0         audi  gas  std  four        sedan  fwd  front  99.8  ...   \n",
              "4  2  164.0         audi  gas  std  four        sedan  4wd  front  99.4  ...   \n",
              "\n",
              "    16    17    18    19    20     21      22  23  24    price  \n",
              "0  130  mpfi  3.47  2.68   9.0  111.0  5000.0  21  27  13495.0  \n",
              "1  130  mpfi  3.47  2.68   9.0  111.0  5000.0  21  27  16500.0  \n",
              "2  152  mpfi  2.68  3.47   9.0  154.0  5000.0  19  26  16500.0  \n",
              "3  109  mpfi  3.19  3.40  10.0  102.0  5500.0  24  30  13950.0  \n",
              "4  136  mpfi  3.19  3.40   8.0  115.0  5500.0  18  22  17450.0  \n",
              "\n",
              "[5 rows x 26 columns]"
            ],
            "text/html": [
              "\n",
              "  <div id=\"df-7d341c16-3bde-418c-a72f-5e9126a18a88\">\n",
              "    <div class=\"colab-df-container\">\n",
              "      <div>\n",
              "<style scoped>\n",
              "    .dataframe tbody tr th:only-of-type {\n",
              "        vertical-align: middle;\n",
              "    }\n",
              "\n",
              "    .dataframe tbody tr th {\n",
              "        vertical-align: top;\n",
              "    }\n",
              "\n",
              "    .dataframe thead th {\n",
              "        text-align: right;\n",
              "    }\n",
              "</style>\n",
              "<table border=\"1\" class=\"dataframe\">\n",
              "  <thead>\n",
              "    <tr style=\"text-align: right;\">\n",
              "      <th></th>\n",
              "      <th>0</th>\n",
              "      <th>1</th>\n",
              "      <th>2</th>\n",
              "      <th>3</th>\n",
              "      <th>4</th>\n",
              "      <th>5</th>\n",
              "      <th>6</th>\n",
              "      <th>7</th>\n",
              "      <th>8</th>\n",
              "      <th>9</th>\n",
              "      <th>...</th>\n",
              "      <th>16</th>\n",
              "      <th>17</th>\n",
              "      <th>18</th>\n",
              "      <th>19</th>\n",
              "      <th>20</th>\n",
              "      <th>21</th>\n",
              "      <th>22</th>\n",
              "      <th>23</th>\n",
              "      <th>24</th>\n",
              "      <th>price</th>\n",
              "    </tr>\n",
              "  </thead>\n",
              "  <tbody>\n",
              "    <tr>\n",
              "      <th>0</th>\n",
              "      <td>3</td>\n",
              "      <td>138.0</td>\n",
              "      <td>alfa-romero</td>\n",
              "      <td>gas</td>\n",
              "      <td>std</td>\n",
              "      <td>two</td>\n",
              "      <td>convertible</td>\n",
              "      <td>rwd</td>\n",
              "      <td>front</td>\n",
              "      <td>88.6</td>\n",
              "      <td>...</td>\n",
              "      <td>130</td>\n",
              "      <td>mpfi</td>\n",
              "      <td>3.47</td>\n",
              "      <td>2.68</td>\n",
              "      <td>9.0</td>\n",
              "      <td>111.0</td>\n",
              "      <td>5000.0</td>\n",
              "      <td>21</td>\n",
              "      <td>27</td>\n",
              "      <td>13495.0</td>\n",
              "    </tr>\n",
              "    <tr>\n",
              "      <th>1</th>\n",
              "      <td>3</td>\n",
              "      <td>138.0</td>\n",
              "      <td>alfa-romero</td>\n",
              "      <td>gas</td>\n",
              "      <td>std</td>\n",
              "      <td>two</td>\n",
              "      <td>convertible</td>\n",
              "      <td>rwd</td>\n",
              "      <td>front</td>\n",
              "      <td>88.6</td>\n",
              "      <td>...</td>\n",
              "      <td>130</td>\n",
              "      <td>mpfi</td>\n",
              "      <td>3.47</td>\n",
              "      <td>2.68</td>\n",
              "      <td>9.0</td>\n",
              "      <td>111.0</td>\n",
              "      <td>5000.0</td>\n",
              "      <td>21</td>\n",
              "      <td>27</td>\n",
              "      <td>16500.0</td>\n",
              "    </tr>\n",
              "    <tr>\n",
              "      <th>2</th>\n",
              "      <td>1</td>\n",
              "      <td>129.0</td>\n",
              "      <td>alfa-romero</td>\n",
              "      <td>gas</td>\n",
              "      <td>std</td>\n",
              "      <td>two</td>\n",
              "      <td>hatchback</td>\n",
              "      <td>rwd</td>\n",
              "      <td>front</td>\n",
              "      <td>94.5</td>\n",
              "      <td>...</td>\n",
              "      <td>152</td>\n",
              "      <td>mpfi</td>\n",
              "      <td>2.68</td>\n",
              "      <td>3.47</td>\n",
              "      <td>9.0</td>\n",
              "      <td>154.0</td>\n",
              "      <td>5000.0</td>\n",
              "      <td>19</td>\n",
              "      <td>26</td>\n",
              "      <td>16500.0</td>\n",
              "    </tr>\n",
              "    <tr>\n",
              "      <th>3</th>\n",
              "      <td>2</td>\n",
              "      <td>164.0</td>\n",
              "      <td>audi</td>\n",
              "      <td>gas</td>\n",
              "      <td>std</td>\n",
              "      <td>four</td>\n",
              "      <td>sedan</td>\n",
              "      <td>fwd</td>\n",
              "      <td>front</td>\n",
              "      <td>99.8</td>\n",
              "      <td>...</td>\n",
              "      <td>109</td>\n",
              "      <td>mpfi</td>\n",
              "      <td>3.19</td>\n",
              "      <td>3.40</td>\n",
              "      <td>10.0</td>\n",
              "      <td>102.0</td>\n",
              "      <td>5500.0</td>\n",
              "      <td>24</td>\n",
              "      <td>30</td>\n",
              "      <td>13950.0</td>\n",
              "    </tr>\n",
              "    <tr>\n",
              "      <th>4</th>\n",
              "      <td>2</td>\n",
              "      <td>164.0</td>\n",
              "      <td>audi</td>\n",
              "      <td>gas</td>\n",
              "      <td>std</td>\n",
              "      <td>four</td>\n",
              "      <td>sedan</td>\n",
              "      <td>4wd</td>\n",
              "      <td>front</td>\n",
              "      <td>99.4</td>\n",
              "      <td>...</td>\n",
              "      <td>136</td>\n",
              "      <td>mpfi</td>\n",
              "      <td>3.19</td>\n",
              "      <td>3.40</td>\n",
              "      <td>8.0</td>\n",
              "      <td>115.0</td>\n",
              "      <td>5500.0</td>\n",
              "      <td>18</td>\n",
              "      <td>22</td>\n",
              "      <td>17450.0</td>\n",
              "    </tr>\n",
              "  </tbody>\n",
              "</table>\n",
              "<p>5 rows × 26 columns</p>\n",
              "</div>\n",
              "      <button class=\"colab-df-convert\" onclick=\"convertToInteractive('df-7d341c16-3bde-418c-a72f-5e9126a18a88')\"\n",
              "              title=\"Convert this dataframe to an interactive table.\"\n",
              "              style=\"display:none;\">\n",
              "        \n",
              "  <svg xmlns=\"http://www.w3.org/2000/svg\" height=\"24px\"viewBox=\"0 0 24 24\"\n",
              "       width=\"24px\">\n",
              "    <path d=\"M0 0h24v24H0V0z\" fill=\"none\"/>\n",
              "    <path d=\"M18.56 5.44l.94 2.06.94-2.06 2.06-.94-2.06-.94-.94-2.06-.94 2.06-2.06.94zm-11 1L8.5 8.5l.94-2.06 2.06-.94-2.06-.94L8.5 2.5l-.94 2.06-2.06.94zm10 10l.94 2.06.94-2.06 2.06-.94-2.06-.94-.94-2.06-.94 2.06-2.06.94z\"/><path d=\"M17.41 7.96l-1.37-1.37c-.4-.4-.92-.59-1.43-.59-.52 0-1.04.2-1.43.59L10.3 9.45l-7.72 7.72c-.78.78-.78 2.05 0 2.83L4 21.41c.39.39.9.59 1.41.59.51 0 1.02-.2 1.41-.59l7.78-7.78 2.81-2.81c.8-.78.8-2.07 0-2.86zM5.41 20L4 18.59l7.72-7.72 1.47 1.35L5.41 20z\"/>\n",
              "  </svg>\n",
              "      </button>\n",
              "      \n",
              "  <style>\n",
              "    .colab-df-container {\n",
              "      display:flex;\n",
              "      flex-wrap:wrap;\n",
              "      gap: 12px;\n",
              "    }\n",
              "\n",
              "    .colab-df-convert {\n",
              "      background-color: #E8F0FE;\n",
              "      border: none;\n",
              "      border-radius: 50%;\n",
              "      cursor: pointer;\n",
              "      display: none;\n",
              "      fill: #1967D2;\n",
              "      height: 32px;\n",
              "      padding: 0 0 0 0;\n",
              "      width: 32px;\n",
              "    }\n",
              "\n",
              "    .colab-df-convert:hover {\n",
              "      background-color: #E2EBFA;\n",
              "      box-shadow: 0px 1px 2px rgba(60, 64, 67, 0.3), 0px 1px 3px 1px rgba(60, 64, 67, 0.15);\n",
              "      fill: #174EA6;\n",
              "    }\n",
              "\n",
              "    [theme=dark] .colab-df-convert {\n",
              "      background-color: #3B4455;\n",
              "      fill: #D2E3FC;\n",
              "    }\n",
              "\n",
              "    [theme=dark] .colab-df-convert:hover {\n",
              "      background-color: #434B5C;\n",
              "      box-shadow: 0px 1px 3px 1px rgba(0, 0, 0, 0.15);\n",
              "      filter: drop-shadow(0px 1px 2px rgba(0, 0, 0, 0.3));\n",
              "      fill: #FFFFFF;\n",
              "    }\n",
              "  </style>\n",
              "\n",
              "      <script>\n",
              "        const buttonEl =\n",
              "          document.querySelector('#df-7d341c16-3bde-418c-a72f-5e9126a18a88 button.colab-df-convert');\n",
              "        buttonEl.style.display =\n",
              "          google.colab.kernel.accessAllowed ? 'block' : 'none';\n",
              "\n",
              "        async function convertToInteractive(key) {\n",
              "          const element = document.querySelector('#df-7d341c16-3bde-418c-a72f-5e9126a18a88');\n",
              "          const dataTable =\n",
              "            await google.colab.kernel.invokeFunction('convertToInteractive',\n",
              "                                                     [key], {});\n",
              "          if (!dataTable) return;\n",
              "\n",
              "          const docLinkHtml = 'Like what you see? Visit the ' +\n",
              "            '<a target=\"_blank\" href=https://colab.research.google.com/notebooks/data_table.ipynb>data table notebook</a>'\n",
              "            + ' to learn more about interactive tables.';\n",
              "          element.innerHTML = '';\n",
              "          dataTable['output_type'] = 'display_data';\n",
              "          await google.colab.output.renderOutput(dataTable, element);\n",
              "          const docLink = document.createElement('div');\n",
              "          docLink.innerHTML = docLinkHtml;\n",
              "          element.appendChild(docLink);\n",
              "        }\n",
              "      </script>\n",
              "    </div>\n",
              "  </div>\n",
              "  "
            ]
          },
          "metadata": {},
          "execution_count": 450
        }
      ]
    },
    {
      "cell_type": "code",
      "source": [
        "cars.hist(figsize = (20,15), bins = 20);"
      ],
      "metadata": {
        "colab": {
          "base_uri": "https://localhost:8080/",
          "height": 879
        },
        "id": "Nnv3rLo0XNIy",
        "outputId": "d3ef747b-fab6-45cc-f06b-e65f5fb8d618"
      },
      "execution_count": 451,
      "outputs": [
        {
          "output_type": "display_data",
          "data": {
            "text/plain": [
              "<Figure size 1440x1080 with 16 Axes>"
            ],
            "image/png": "[encoded data removed]"
          },
          "metadata": {
            "needs_background": "light"
          }
        }
      ]
    },
    {
      "cell_type": "markdown",
      "source": [
        "## Converting 0 to an object"
      ],
      "metadata": {
        "id": "81yKDVzrXlKp"
      }
    },
    {
      "cell_type": "code",
      "source": [
        "cars[0] = cars[0].astype(str)"
      ],
      "metadata": {
        "colab": {
          "base_uri": "https://localhost:8080/"
        },
        "id": "6bXj2OLhXoDs",
        "outputId": "10b25b55-149a-44c7-c370-a6505b633af7"
      },
      "execution_count": 452,
      "outputs": [
        {
          "output_type": "stream",
          "name": "stderr",
          "text": [
            "/usr/local/lib/python3.7/dist-packages/ipykernel_launcher.py:1: SettingWithCopyWarning: \n",
            "A value is trying to be set on a copy of a slice from a DataFrame.\n",
            "Try using .loc[row_indexer,col_indexer] = value instead\n",
            "\n",
            "See the caveats in the documentation: https://pandas.pydata.org/pandas-docs/stable/user_guide/indexing.html#returning-a-view-versus-a-copy\n",
            "  \"\"\"Entry point for launching an IPython kernel.\n"
          ]
        }
      ]
    },
    {
      "cell_type": "code",
      "source": [
        "cars.info()"
      ],
      "metadata": {
        "colab": {
          "base_uri": "https://localhost:8080/"
        },
        "id": "KL7S3CVRpvyM",
        "outputId": "8c7282a4-08a8-4d73-8bfd-f2f0944a2a62"
      },
      "execution_count": 453,
      "outputs": [
        {
          "output_type": "stream",
          "name": "stdout",
          "text": [
            "<class 'pandas.core.frame.DataFrame'>\n",
            "Int64Index: 199 entries, 0 to 204\n",
            "Data columns (total 26 columns):\n",
            " #   Column  Non-Null Count  Dtype  \n",
            "---  ------  --------------  -----  \n",
            " 0   0       199 non-null    object \n",
            " 1   1       199 non-null    float64\n",
            " 2   2       199 non-null    object \n",
            " 3   3       199 non-null    object \n",
            " 4   4       199 non-null    object \n",
            " 5   5       199 non-null    object \n",
            " 6   6       199 non-null    object \n",
            " 7   7       199 non-null    object \n",
            " 8   8       199 non-null    object \n",
            " 9   9       199 non-null    float64\n",
            " 10  10      199 non-null    float64\n",
            " 11  11      199 non-null    float64\n",
            " 12  12      199 non-null    float64\n",
            " 13  13      199 non-null    int64  \n",
            " 14  14      199 non-null    object \n",
            " 15  15      199 non-null    object \n",
            " 16  16      199 non-null    int64  \n",
            " 17  17      199 non-null    object \n",
            " 18  18      199 non-null    float64\n",
            " 19  19      199 non-null    float64\n",
            " 20  20      199 non-null    float64\n",
            " 21  21      199 non-null    float64\n",
            " 22  22      199 non-null    float64\n",
            " 23  23      199 non-null    int64  \n",
            " 24  24      199 non-null    int64  \n",
            " 25  price   199 non-null    float64\n",
            "dtypes: float64(11), int64(4), object(11)\n",
            "memory usage: 42.0+ KB\n"
          ]
        }
      ]
    },
    {
      "cell_type": "code",
      "source": [
        "cars_encoded = pd.get_dummies(cars)"
      ],
      "metadata": {
        "id": "h5qQdM9_Xuuw"
      },
      "execution_count": 454,
      "outputs": []
    },
    {
      "cell_type": "code",
      "source": [
        "cars_encoded.keys()"
      ],
      "metadata": {
        "colab": {
          "base_uri": "https://localhost:8080/"
        },
        "id": "mTw4ksT7XyfM",
        "outputId": "585d8871-bcdc-4424-c560-d7224701d1f6"
      },
      "execution_count": 455,
      "outputs": [
        {
          "output_type": "execute_result",
          "data": {
            "text/plain": [
              "Index([                1,                 9,                10,\n",
              "                      11,                12,                13,\n",
              "                      16,                18,                19,\n",
              "                      20,                21,                22,\n",
              "                      23,                24,           'price',\n",
              "                  '0_-1',            '0_-2',             '0_0',\n",
              "                   '0_1',             '0_2',             '0_3',\n",
              "         '2_alfa-romero',          '2_audi',           '2_bmw',\n",
              "           '2_chevrolet',         '2_dodge',         '2_honda',\n",
              "               '2_isuzu',        '2_jaguar',         '2_mazda',\n",
              "       '2_mercedes-benz',       '2_mercury',    '2_mitsubishi',\n",
              "              '2_nissan',        '2_peugot',      '2_plymouth',\n",
              "             '2_porsche',          '2_saab',        '2_subaru',\n",
              "              '2_toyota',    '2_volkswagen',         '2_volvo',\n",
              "              '3_diesel',           '3_gas',           '4_std',\n",
              "               '4_turbo',             '5_?',          '5_four',\n",
              "                 '5_two',   '6_convertible',       '6_hardtop',\n",
              "           '6_hatchback',         '6_sedan',         '6_wagon',\n",
              "                 '7_4wd',           '7_fwd',           '7_rwd',\n",
              "               '8_front',          '8_rear',         '14_dohc',\n",
              "                  '14_l',          '14_ohc',         '14_ohcf',\n",
              "               '14_ohcv',        '14_rotor',        '15_eight',\n",
              "               '15_five',         '15_four',          '15_six',\n",
              "              '15_three',       '15_twelve',          '15_two',\n",
              "               '17_1bbl',         '17_2bbl',         '17_4bbl',\n",
              "                '17_idi',          '17_mfi',         '17_mpfi',\n",
              "               '17_spdi',         '17_spfi'],\n",
              "      dtype='object')"
            ]
          },
          "metadata": {},
          "execution_count": 455
        }
      ]
    },
    {
      "cell_type": "code",
      "source": [
        ""
      ],
      "metadata": {
        "id": "98Fhlz1gpcgW"
      },
      "execution_count": 455,
      "outputs": []
    },
    {
      "cell_type": "markdown",
      "source": [
        "# Transforming numericals"
      ],
      "metadata": {
        "id": "dd8qfZnWP30Q"
      }
    },
    {
      "cell_type": "code",
      "source": [
        "cars.hist(figsize = (20,10), bins = 20);"
      ],
      "metadata": {
        "colab": {
          "base_uri": "https://localhost:8080/",
          "height": 607
        },
        "id": "-XJaYO9cYhAm",
        "outputId": "e4228e52-c5e4-493e-a5e3-134a89dc2b9b"
      },
      "execution_count": 456,
      "outputs": [
        {
          "output_type": "display_data",
          "data": {
            "text/plain": [
              "<Figure size 1440x720 with 16 Axes>"
            ],
            "image/png": "[encoded data removed]"
          },
          "metadata": {
            "needs_background": "light"
          }
        }
      ]
    },
    {
      "cell_type": "markdown",
      "source": [
        ""
      ],
      "metadata": {
        "id": "8INaOn_-Yq3-"
      }
    },
    {
      "cell_type": "code",
      "source": [
        "print('1 skew - ' + str(cars[1].skew())) # transform\n",
        "print('9 skew - ' + str(cars[9].skew())) # transform\n",
        "print('10 skew - ' + str(cars[10].skew()))\n",
        "print('11 skew - ' + str(cars[11].skew())) # transform\n",
        "print('12 skew - ' + str(cars[12].skew())) \n",
        "print('13 skew - ' + str(cars[13].skew()))\n",
        "print('16 skew - ' + str(cars[16].skew())) # transform\n",
        "print('18 skew - ' + str(cars[18].skew()))\n",
        "print('19 skew - ' + str(cars[19].skew()))\n",
        "print('20 skew - ' + str(cars[20].skew())) # transform\n",
        "print('21 skew - ' + str(cars[21].skew())) # transform\n",
        "print('22 skew - ' + str(cars[22].skew())) \n",
        "print('23 skew - ' + str(cars[23].skew()))\n",
        "print('24 skew - ' + str(cars[24].skew()))"
      ],
      "metadata": {
        "colab": {
          "base_uri": "https://localhost:8080/"
        },
        "id": "BrWS-ROiY4J1",
        "outputId": "a9d5e214-f164-4f4e-da09-119fdff77d37"
      },
      "execution_count": 457,
      "outputs": [
        {
          "output_type": "stream",
          "name": "stdout",
          "text": [
            "1 skew - 0.8328310859404592\n",
            "9 skew - 1.016676128870266\n",
            "10 skew - 0.16523679664100577\n",
            "11 skew - 0.8812622850762944\n",
            "12 skew - 0.02920176828569172\n",
            "13 skew - 0.7004405093366182\n",
            "16 skew - 1.9735956839887074\n",
            "18 skew - -0.03255104209169718\n",
            "19 skew - -0.790261832078022\n",
            "20 skew - 2.5663897565066693\n",
            "21 skew - 1.141584284163145\n",
            "22 skew - 0.10772928657030856\n",
            "23 skew - 0.668379832171857\n",
            "24 skew - 0.5482182068751039\n"
          ]
        }
      ]
    },
    {
      "cell_type": "markdown",
      "source": [
        "## Transform: 1, 9, 11, 16, 20, 21"
      ],
      "metadata": {
        "id": "Y7MxKgxiZqIs"
      }
    },
    {
      "cell_type": "code",
      "source": [
        "# 1\n",
        "np.log(cars[1]).skew()"
      ],
      "metadata": {
        "colab": {
          "base_uri": "https://localhost:8080/"
        },
        "id": "62_FKeV0Ztpc",
        "outputId": "54b5fd4b-3894-4d55-c462-ec28ed33cf39"
      },
      "execution_count": 458,
      "outputs": [
        {
          "output_type": "execute_result",
          "data": {
            "text/plain": [
              "0.11771841053559345"
            ]
          },
          "metadata": {},
          "execution_count": 458
        }
      ]
    },
    {
      "cell_type": "code",
      "source": [
        "cars_encoded[1] = np.log(cars[1])\n",
        "cars_encoded[1].hist();"
      ],
      "metadata": {
        "colab": {
          "base_uri": "https://localhost:8080/",
          "height": 265
        },
        "id": "a1d73sUkadze",
        "outputId": "01e80c0d-9c24-4c26-cb60-192665e7019f"
      },
      "execution_count": 459,
      "outputs": [
        {
          "output_type": "display_data",
          "data": {
            "text/plain": [
              "<Figure size 432x288 with 1 Axes>"
            ],
            "image/png": "[encoded data removed]"
          },
          "metadata": {
            "needs_background": "light"
          }
        }
      ]
    },
    {
      "cell_type": "code",
      "source": [
        "# 9\n",
        "(1/cars[9]).skew()"
      ],
      "metadata": {
        "colab": {
          "base_uri": "https://localhost:8080/"
        },
        "id": "J5Knv4QeZ8Dg",
        "outputId": "3ef5f251-8132-45d6-db6d-8222881bffaa"
      },
      "execution_count": 460,
      "outputs": [
        {
          "output_type": "execute_result",
          "data": {
            "text/plain": [
              "-0.6860514065535738"
            ]
          },
          "metadata": {},
          "execution_count": 460
        }
      ]
    },
    {
      "cell_type": "code",
      "source": [
        "cars_encoded[9] = (1/cars[9])\n",
        "cars_encoded[9].hist();"
      ],
      "metadata": {
        "colab": {
          "base_uri": "https://localhost:8080/",
          "height": 265
        },
        "id": "JsFRM6hseuFv",
        "outputId": "79bd8209-8f97-4405-aaca-352214fdcb9d"
      },
      "execution_count": 461,
      "outputs": [
        {
          "output_type": "display_data",
          "data": {
            "text/plain": [
              "<Figure size 432x288 with 1 Axes>"
            ],
            "image/png": "[encoded data removed]"
          },
          "metadata": {
            "needs_background": "light"
          }
        }
      ]
    },
    {
      "cell_type": "code",
      "source": [
        "#11\n",
        "np.sqrt(cars[11]).skew()"
      ],
      "metadata": {
        "colab": {
          "base_uri": "https://localhost:8080/"
        },
        "id": "ibi03Rr0Z9rD",
        "outputId": "0a8817a9-2c4a-47a4-ea91-8e279f555682"
      },
      "execution_count": 462,
      "outputs": [
        {
          "output_type": "execute_result",
          "data": {
            "text/plain": [
              "0.8370124036858365"
            ]
          },
          "metadata": {},
          "execution_count": 462
        }
      ]
    },
    {
      "cell_type": "code",
      "source": [
        "np.log(cars[11]).skew()"
      ],
      "metadata": {
        "colab": {
          "base_uri": "https://localhost:8080/"
        },
        "id": "5dg_xO8gfIv2",
        "outputId": "0c12cb4b-55a4-46b4-a78a-d0a3a7e048a2"
      },
      "execution_count": 463,
      "outputs": [
        {
          "output_type": "execute_result",
          "data": {
            "text/plain": [
              "0.7925275841119028"
            ]
          },
          "metadata": {},
          "execution_count": 463
        }
      ]
    },
    {
      "cell_type": "code",
      "source": [
        "(1/cars[11]).skew()"
      ],
      "metadata": {
        "colab": {
          "base_uri": "https://localhost:8080/"
        },
        "id": "UMFl8bz-fLUZ",
        "outputId": "3233eb1b-ef31-4faf-c665-cb61a5d91c63"
      },
      "execution_count": 464,
      "outputs": [
        {
          "output_type": "execute_result",
          "data": {
            "text/plain": [
              "-0.7027253745118853"
            ]
          },
          "metadata": {},
          "execution_count": 464
        }
      ]
    },
    {
      "cell_type": "code",
      "source": [
        "cars_encoded[11] = (1/cars[11])\n",
        "cars_encoded[11].hist();"
      ],
      "metadata": {
        "colab": {
          "base_uri": "https://localhost:8080/",
          "height": 265
        },
        "id": "bA9D3N6UfstK",
        "outputId": "c0b50967-41bc-42a2-bac2-696fe12bfbc7"
      },
      "execution_count": 465,
      "outputs": [
        {
          "output_type": "display_data",
          "data": {
            "text/plain": [
              "<Figure size 432x288 with 1 Axes>"
            ],
            "image/png": "[encoded data removed]"
          },
          "metadata": {
            "needs_background": "light"
          }
        }
      ]
    },
    {
      "cell_type": "code",
      "source": [
        "# 16\n",
        "cars[16].hist();"
      ],
      "metadata": {
        "colab": {
          "base_uri": "https://localhost:8080/",
          "height": 265
        },
        "id": "Q6fAZSOUZ9xF",
        "outputId": "c517e048-cb52-4cd6-9c7e-76f774328a26"
      },
      "execution_count": 466,
      "outputs": [
        {
          "output_type": "display_data",
          "data": {
            "text/plain": [
              "<Figure size 432x288 with 1 Axes>"
            ],
            "image/png": "[encoded data removed]"
          },
          "metadata": {
            "needs_background": "light"
          }
        }
      ]
    },
    {
      "cell_type": "code",
      "source": [
        "np.log(cars[16]).skew()"
      ],
      "metadata": {
        "colab": {
          "base_uri": "https://localhost:8080/"
        },
        "id": "UfRplDEgfYHe",
        "outputId": "d3a118a3-0fc9-41db-a8c5-999e7f79ee62"
      },
      "execution_count": 467,
      "outputs": [
        {
          "output_type": "execute_result",
          "data": {
            "text/plain": [
              "0.8723196475475801"
            ]
          },
          "metadata": {},
          "execution_count": 467
        }
      ]
    },
    {
      "cell_type": "code",
      "source": [
        "np.sqrt(cars[16]).skew()"
      ],
      "metadata": {
        "colab": {
          "base_uri": "https://localhost:8080/"
        },
        "id": "pTL5ASg7fdpM",
        "outputId": "c5624742-3b87-4903-bc82-ef764b1ffab1"
      },
      "execution_count": 468,
      "outputs": [
        {
          "output_type": "execute_result",
          "data": {
            "text/plain": [
              "1.38512732811498"
            ]
          },
          "metadata": {},
          "execution_count": 468
        }
      ]
    },
    {
      "cell_type": "code",
      "source": [
        "(1/cars[16]).skew()"
      ],
      "metadata": {
        "colab": {
          "base_uri": "https://localhost:8080/"
        },
        "id": "NI7tZ0vRflxC",
        "outputId": "12ea1f36-650a-4dfd-bf41-9180cc3dff8c"
      },
      "execution_count": 469,
      "outputs": [
        {
          "output_type": "execute_result",
          "data": {
            "text/plain": [
              "0.036687243829763884"
            ]
          },
          "metadata": {},
          "execution_count": 469
        }
      ]
    },
    {
      "cell_type": "code",
      "source": [
        "cars_encoded[16] = (1/cars[16])\n",
        "cars_encoded[16].hist();"
      ],
      "metadata": {
        "colab": {
          "base_uri": "https://localhost:8080/",
          "height": 265
        },
        "id": "DVjqp2z2Z90l",
        "outputId": "ad1eaeb4-ffe9-40c4-ecd3-dd97ac49fae2"
      },
      "execution_count": 470,
      "outputs": [
        {
          "output_type": "display_data",
          "data": {
            "text/plain": [
              "<Figure size 432x288 with 1 Axes>"
            ],
            "image/png": "[encoded data removed]"
          },
          "metadata": {
            "needs_background": "light"
          }
        }
      ]
    },
    {
      "cell_type": "code",
      "source": [
        "# 20"
      ],
      "metadata": {
        "id": "EP3QEB0GZ93F"
      },
      "execution_count": 471,
      "outputs": []
    },
    {
      "cell_type": "code",
      "source": [
        "cars[20].hist()"
      ],
      "metadata": {
        "colab": {
          "base_uri": "https://localhost:8080/",
          "height": 282
        },
        "id": "_hrW6P7raA0g",
        "outputId": "c9ac154e-1f32-42e2-d415-ac87ef1ca5a4"
      },
      "execution_count": 472,
      "outputs": [
        {
          "output_type": "execute_result",
          "data": {
            "text/plain": [
              "<matplotlib.axes._subplots.AxesSubplot at 0x7f9bf8914c90>"
            ]
          },
          "metadata": {},
          "execution_count": 472
        },
        {
          "output_type": "display_data",
          "data": {
            "text/plain": [
              "<Figure size 432x288 with 1 Axes>"
            ],
            "image/png": "[encoded data removed]"
          },
          "metadata": {
            "needs_background": "light"
          }
        }
      ]
    },
    {
      "cell_type": "code",
      "source": [
        "np.log(cars[20]).skew()"
      ],
      "metadata": {
        "colab": {
          "base_uri": "https://localhost:8080/"
        },
        "id": "lm8xGdfyf7wR",
        "outputId": "ebc3a8ec-c338-42a5-9319-4a2461c6dda1"
      },
      "execution_count": 473,
      "outputs": [
        {
          "output_type": "execute_result",
          "data": {
            "text/plain": [
              "2.3239283401177273"
            ]
          },
          "metadata": {},
          "execution_count": 473
        }
      ]
    },
    {
      "cell_type": "code",
      "source": [
        "np.sqrt(cars[20]).skew()"
      ],
      "metadata": {
        "colab": {
          "base_uri": "https://localhost:8080/"
        },
        "id": "hg21AisvgAxB",
        "outputId": "89b03c83-1182-4fd3-b44e-d47d416ec46a"
      },
      "execution_count": 474,
      "outputs": [
        {
          "output_type": "execute_result",
          "data": {
            "text/plain": [
              "2.4688457633763043"
            ]
          },
          "metadata": {},
          "execution_count": 474
        }
      ]
    },
    {
      "cell_type": "code",
      "source": [
        "(1/cars[20]).skew()"
      ],
      "metadata": {
        "colab": {
          "base_uri": "https://localhost:8080/"
        },
        "id": "IwZJ9GR6gEVK",
        "outputId": "a81de0d1-e20e-4e94-bb0c-baaa6965b7ce"
      },
      "execution_count": 475,
      "outputs": [
        {
          "output_type": "execute_result",
          "data": {
            "text/plain": [
              "-1.8368572207280782"
            ]
          },
          "metadata": {},
          "execution_count": 475
        }
      ]
    },
    {
      "cell_type": "code",
      "source": [
        "trans20 = list(stats.boxcox(cars[20])[0])\n",
        "plt.hist(trans20)"
      ],
      "metadata": {
        "colab": {
          "base_uri": "https://localhost:8080/",
          "height": 352
        },
        "id": "UKFj2lC3gIz6",
        "outputId": "ac7e1890-24d0-4997-813e-0edaa06f0cef"
      },
      "execution_count": 476,
      "outputs": [
        {
          "output_type": "execute_result",
          "data": {
            "text/plain": [
              "(array([ 6.,  5.,  7., 10., 27., 65., 58.,  0.,  1., 20.]),\n",
              " array([0.31900589, 0.31907684, 0.3191478 , 0.31921876, 0.31928972,\n",
              "        0.31936068, 0.31943164, 0.31950259, 0.31957355, 0.31964451,\n",
              "        0.31971547]),\n",
              " <a list of 10 Patch objects>)"
            ]
          },
          "metadata": {},
          "execution_count": 476
        },
        {
          "output_type": "display_data",
          "data": {
            "text/plain": [
              "<Figure size 432x288 with 1 Axes>"
            ],
            "image/png": "[encoded data removed]"
          },
          "metadata": {
            "needs_background": "light"
          }
        }
      ]
    },
    {
      "cell_type": "code",
      "source": [
        "pd.DataFrame(trans20).skew()"
      ],
      "metadata": {
        "colab": {
          "base_uri": "https://localhost:8080/"
        },
        "id": "Qa6UgtZmgRnh",
        "outputId": "982ef42b-0981-48a0-fa01-58da6aa2aed6"
      },
      "execution_count": 477,
      "outputs": [
        {
          "output_type": "execute_result",
          "data": {
            "text/plain": [
              "0    0.031527\n",
              "dtype: float64"
            ]
          },
          "metadata": {},
          "execution_count": 477
        }
      ]
    },
    {
      "cell_type": "code",
      "source": [
        "cars_encoded[16] = trans20\n",
        "cars_encoded[16].hist();"
      ],
      "metadata": {
        "colab": {
          "base_uri": "https://localhost:8080/",
          "height": 265
        },
        "id": "RqZQiXNegZIr",
        "outputId": "318173a7-1785-43a7-bba7-014d0e4fd0c0"
      },
      "execution_count": 478,
      "outputs": [
        {
          "output_type": "display_data",
          "data": {
            "text/plain": [
              "<Figure size 432x288 with 1 Axes>"
            ],
            "image/png": "[encoded data removed]"
          },
          "metadata": {
            "needs_background": "light"
          }
        }
      ]
    },
    {
      "cell_type": "code",
      "source": [
        "# 21"
      ],
      "metadata": {
        "id": "f24l4L66aA4d"
      },
      "execution_count": 479,
      "outputs": []
    },
    {
      "cell_type": "code",
      "source": [
        "cars[21].hist()"
      ],
      "metadata": {
        "colab": {
          "base_uri": "https://localhost:8080/",
          "height": 282
        },
        "id": "YWEaESPHaA8t",
        "outputId": "c65fae45-997c-4d2d-e089-3ae74da565a6"
      },
      "execution_count": 480,
      "outputs": [
        {
          "output_type": "execute_result",
          "data": {
            "text/plain": [
              "<matplotlib.axes._subplots.AxesSubplot at 0x7f9bf8846f90>"
            ]
          },
          "metadata": {},
          "execution_count": 480
        },
        {
          "output_type": "display_data",
          "data": {
            "text/plain": [
              "<Figure size 432x288 with 1 Axes>"
            ],
            "image/png": "[encoded data removed]"
          },
          "metadata": {
            "needs_background": "light"
          }
        }
      ]
    },
    {
      "cell_type": "code",
      "source": [
        "np.log(cars[21]).skew()"
      ],
      "metadata": {
        "colab": {
          "base_uri": "https://localhost:8080/"
        },
        "id": "bnM83ke7gh5m",
        "outputId": "91443797-6615-4758-d040-bee4d3e1d7ba"
      },
      "execution_count": 481,
      "outputs": [
        {
          "output_type": "execute_result",
          "data": {
            "text/plain": [
              "0.38993684894241953"
            ]
          },
          "metadata": {},
          "execution_count": 481
        }
      ]
    },
    {
      "cell_type": "code",
      "source": [
        "cars_encoded[21] = np.log(cars[21])\n",
        "cars_encoded[21].hist()"
      ],
      "metadata": {
        "colab": {
          "base_uri": "https://localhost:8080/",
          "height": 285
        },
        "id": "GH8eNTdRgo6A",
        "outputId": "1e19dec0-a3f0-48a1-c57c-8b01a7f358b6"
      },
      "execution_count": 482,
      "outputs": [
        {
          "output_type": "execute_result",
          "data": {
            "text/plain": [
              "<matplotlib.axes._subplots.AxesSubplot at 0x7f9bf8747cd0>"
            ]
          },
          "metadata": {},
          "execution_count": 482
        },
        {
          "output_type": "display_data",
          "data": {
            "text/plain": [
              "<Figure size 432x288 with 1 Axes>"
            ],
            "image/png": "[encoded data removed]"
          },
          "metadata": {
            "needs_background": "light"
          }
        }
      ]
    },
    {
      "cell_type": "code",
      "source": [
        "print('1 skew - ' + str(cars_encoded[1].skew())) # transform\n",
        "print('9 skew - ' + str(cars_encoded[9].skew())) # transform\n",
        "print('10 skew - ' + str(cars_encoded[10].skew()))\n",
        "print('11 skew - ' + str(cars_encoded[11].skew())) # transform\n",
        "print('12 skew - ' + str(cars_encoded[12].skew())) \n",
        "print('13 skew - ' + str(cars_encoded[13].skew()))\n",
        "print('16 skew - ' + str(cars_encoded[16].skew())) # transform\n",
        "print('18 skew - ' + str(cars_encoded[18].skew()))\n",
        "print('19 skew - ' + str(cars_encoded[19].skew()))\n",
        "print('20 skew - ' + str(cars_encoded[20].skew())) # transform\n",
        "print('21 skew - ' + str(cars_encoded[21].skew())) # transform\n",
        "print('22 skew - ' + str(cars_encoded[22].skew())) \n",
        "print('23 skew - ' + str(cars_encoded[23].skew()))\n",
        "print('24 skew - ' + str(cars_encoded[24].skew()))"
      ],
      "metadata": {
        "colab": {
          "base_uri": "https://localhost:8080/"
        },
        "id": "By0ESiYOhJnw",
        "outputId": "1ca39635-0913-4e37-ccef-8cfe3c0ba9cd"
      },
      "execution_count": 483,
      "outputs": [
        {
          "output_type": "stream",
          "name": "stdout",
          "text": [
            "1 skew - 0.11771841053559345\n",
            "9 skew - -0.6860514065535738\n",
            "10 skew - 0.16523679664100577\n",
            "11 skew - -0.7027253745118853\n",
            "12 skew - 0.02920176828569172\n",
            "13 skew - 0.7004405093366182\n",
            "16 skew - 0.031527425374100505\n",
            "18 skew - -0.03255104209169718\n",
            "19 skew - -0.790261832078022\n",
            "20 skew - 2.5663897565066693\n",
            "21 skew - 0.38993684894241953\n",
            "22 skew - 0.10772928657030856\n",
            "23 skew - 0.668379832171857\n",
            "24 skew - 0.5482182068751039\n"
          ]
        }
      ]
    },
    {
      "cell_type": "markdown",
      "source": [
        "# Scaling numericals"
      ],
      "metadata": {
        "id": "dPuiG4aDP04A"
      }
    },
    {
      "cell_type": "code",
      "source": [
        "cars_encoded.info()"
      ],
      "metadata": {
        "colab": {
          "base_uri": "https://localhost:8080/"
        },
        "id": "shDYHv7Rheoz",
        "outputId": "ce8e18c3-6e31-4013-e0e2-9b3cbcc26eb6"
      },
      "execution_count": 776,
      "outputs": [
        {
          "output_type": "stream",
          "name": "stdout",
          "text": [
            "<class 'pandas.core.frame.DataFrame'>\n",
            "Int64Index: 199 entries, 0 to 204\n",
            "Data columns (total 80 columns):\n",
            " #   Column           Non-Null Count  Dtype  \n",
            "---  ------           --------------  -----  \n",
            " 0   1                199 non-null    float64\n",
            " 1   9                199 non-null    float64\n",
            " 2   10               199 non-null    float64\n",
            " 3   11               199 non-null    float64\n",
            " 4   12               199 non-null    float64\n",
            " 5   13               199 non-null    int64  \n",
            " 6   16               199 non-null    float64\n",
            " 7   18               199 non-null    float64\n",
            " 8   19               199 non-null    float64\n",
            " 9   20               199 non-null    float64\n",
            " 10  21               199 non-null    float64\n",
            " 11  22               199 non-null    float64\n",
            " 12  23               199 non-null    int64  \n",
            " 13  24               199 non-null    int64  \n",
            " 14  price            199 non-null    float64\n",
            " 15  0_-1             199 non-null    uint8  \n",
            " 16  0_-2             199 non-null    uint8  \n",
            " 17  0_0              199 non-null    uint8  \n",
            " 18  0_1              199 non-null    uint8  \n",
            " 19  0_2              199 non-null    uint8  \n",
            " 20  0_3              199 non-null    uint8  \n",
            " 21  2_alfa-romero    199 non-null    uint8  \n",
            " 22  2_audi           199 non-null    uint8  \n",
            " 23  2_bmw            199 non-null    uint8  \n",
            " 24  2_chevrolet      199 non-null    uint8  \n",
            " 25  2_dodge          199 non-null    uint8  \n",
            " 26  2_honda          199 non-null    uint8  \n",
            " 27  2_isuzu          199 non-null    uint8  \n",
            " 28  2_jaguar         199 non-null    uint8  \n",
            " 29  2_mazda          199 non-null    uint8  \n",
            " 30  2_mercedes-benz  199 non-null    uint8  \n",
            " 31  2_mercury        199 non-null    uint8  \n",
            " 32  2_mitsubishi     199 non-null    uint8  \n",
            " 33  2_nissan         199 non-null    uint8  \n",
            " 34  2_peugot         199 non-null    uint8  \n",
            " 35  2_plymouth       199 non-null    uint8  \n",
            " 36  2_porsche        199 non-null    uint8  \n",
            " 37  2_saab           199 non-null    uint8  \n",
            " 38  2_subaru         199 non-null    uint8  \n",
            " 39  2_toyota         199 non-null    uint8  \n",
            " 40  2_volkswagen     199 non-null    uint8  \n",
            " 41  2_volvo          199 non-null    uint8  \n",
            " 42  3_diesel         199 non-null    uint8  \n",
            " 43  3_gas            199 non-null    uint8  \n",
            " 44  4_std            199 non-null    uint8  \n",
            " 45  4_turbo          199 non-null    uint8  \n",
            " 46  5_?              199 non-null    uint8  \n",
            " 47  5_four           199 non-null    uint8  \n",
            " 48  5_two            199 non-null    uint8  \n",
            " 49  6_convertible    199 non-null    uint8  \n",
            " 50  6_hardtop        199 non-null    uint8  \n",
            " 51  6_hatchback      199 non-null    uint8  \n",
            " 52  6_sedan          199 non-null    uint8  \n",
            " 53  6_wagon          199 non-null    uint8  \n",
            " 54  7_4wd            199 non-null    uint8  \n",
            " 55  7_fwd            199 non-null    uint8  \n",
            " 56  7_rwd            199 non-null    uint8  \n",
            " 57  8_front          199 non-null    uint8  \n",
            " 58  8_rear           199 non-null    uint8  \n",
            " 59  14_dohc          199 non-null    uint8  \n",
            " 60  14_l             199 non-null    uint8  \n",
            " 61  14_ohc           199 non-null    uint8  \n",
            " 62  14_ohcf          199 non-null    uint8  \n",
            " 63  14_ohcv          199 non-null    uint8  \n",
            " 64  14_rotor         199 non-null    uint8  \n",
            " 65  15_eight         199 non-null    uint8  \n",
            " 66  15_five          199 non-null    uint8  \n",
            " 67  15_four          199 non-null    uint8  \n",
            " 68  15_six           199 non-null    uint8  \n",
            " 69  15_three         199 non-null    uint8  \n",
            " 70  15_twelve        199 non-null    uint8  \n",
            " 71  15_two           199 non-null    uint8  \n",
            " 72  17_1bbl          199 non-null    uint8  \n",
            " 73  17_2bbl          199 non-null    uint8  \n",
            " 74  17_4bbl          199 non-null    uint8  \n",
            " 75  17_idi           199 non-null    uint8  \n",
            " 76  17_mfi           199 non-null    uint8  \n",
            " 77  17_mpfi          199 non-null    uint8  \n",
            " 78  17_spdi          199 non-null    uint8  \n",
            " 79  17_spfi          199 non-null    uint8  \n",
            "dtypes: float64(12), int64(3), uint8(65)\n",
            "memory usage: 37.5 KB\n"
          ]
        }
      ]
    },
    {
      "cell_type": "code",
      "source": [
        "cars_encoded_scaled = cars_encoded.copy()"
      ],
      "metadata": {
        "id": "qNoFzTqajhdt"
      },
      "execution_count": 778,
      "outputs": []
    },
    {
      "cell_type": "markdown",
      "source": [
        "## Robust Scaler"
      ],
      "metadata": {
        "id": "HzvUPQ_gw4zO"
      }
    },
    {
      "cell_type": "code",
      "source": [
        "robust_scaler = RobustScaler().fit(cars[[1, 9, 10, 11, 12, 13, 16, 18, 19, 20, 21, 22, 23, 24]])"
      ],
      "metadata": {
        "id": "KxW3nkVMjn_e"
      },
      "execution_count": 779,
      "outputs": []
    },
    {
      "cell_type": "code",
      "source": [
        "cars_encoded_scaled[[1, 9, 10, 11, 12, 13, 16, 18, 19, 20, 21, 22, 23, 24]] = robust_scaler.transform(cars_encoded_scaled[[1, 9, 10, 11, 12, 13, 16, 18, 19, 20, 21, 22, 23, 24]])"
      ],
      "metadata": {
        "id": "fZfGsq0jxlgt"
      },
      "execution_count": 780,
      "outputs": []
    },
    {
      "cell_type": "markdown",
      "source": [
        "## Standard Scaler"
      ],
      "metadata": {
        "id": "sBPvMs3ew6Xn"
      }
    },
    {
      "cell_type": "code",
      "source": [
        "# standard_scaler = StandardScaler().fit(cars[[1, 9, 10, 11, 12, 13, 16, 18, 19, 20, 21, 22, 23, 24]])"
      ],
      "metadata": {
        "id": "8GWrSiULww4q"
      },
      "execution_count": 781,
      "outputs": []
    },
    {
      "cell_type": "code",
      "source": [
        "# cars_encoded_scaled[[1, 9, 10, 11, 12, 13, 16, 18, 19, 20, 21, 22, 23, 24]] = standard_scaler.transform(cars_encoded_scaled[[1, 9, 10, 11, 12, 13, 16, 18, 19, 20, 21, 22, 23, 24]])"
      ],
      "metadata": {
        "id": "7aR-zWSXj0E0"
      },
      "execution_count": 782,
      "outputs": []
    },
    {
      "cell_type": "markdown",
      "source": [
        "## Min Max Scaler"
      ],
      "metadata": {
        "id": "CaYO4EFcxgZg"
      }
    },
    {
      "cell_type": "code",
      "source": [
        "# minmax_scaler = MinMaxScaler().fit(cars[[1, 9, 10, 11, 12, 13, 16, 18, 19, 20, 21, 22, 23, 24]])"
      ],
      "metadata": {
        "id": "PU_F27MZxha1"
      },
      "execution_count": 783,
      "outputs": []
    },
    {
      "cell_type": "code",
      "source": [
        "# cars_encoded_scaled[[1, 9, 10, 11, 12, 13, 16, 18, 19, 20, 21, 22, 23, 24]] = minmax_scaler.transform(cars_encoded_scaled[[1, 9, 10, 11, 12, 13, 16, 18, 19, 20, 21, 22, 23, 24]])"
      ],
      "metadata": {
        "id": "Qkx8VM0exs6F"
      },
      "execution_count": 784,
      "outputs": []
    },
    {
      "cell_type": "markdown",
      "source": [
        "## MaxAbs Scaler"
      ],
      "metadata": {
        "id": "-95YtrZxx5rG"
      }
    },
    {
      "cell_type": "code",
      "source": [
        "# maxabs_scaler = MaxAbsScaler().fit(cars[[1, 9, 10, 11, 12, 13, 16, 18, 19, 20, 21, 22, 23, 24]])"
      ],
      "metadata": {
        "id": "m-7KZ_PTx7Qt"
      },
      "execution_count": 785,
      "outputs": []
    },
    {
      "cell_type": "code",
      "source": [
        "# cars_encoded_scaled[[1, 9, 10, 11, 12, 13, 16, 18, 19, 20, 21, 22, 23, 24]] = maxabs_scaler.transform(cars_encoded_scaled[[1, 9, 10, 11, 12, 13, 16, 18, 19, 20, 21, 22, 23, 24]])"
      ],
      "metadata": {
        "id": "_xU3_KynyAZH"
      },
      "execution_count": 786,
      "outputs": []
    },
    {
      "cell_type": "code",
      "source": [
        "cars_encoded_scaled"
      ],
      "metadata": {
        "colab": {
          "base_uri": "https://localhost:8080/",
          "height": 424
        },
        "id": "ENYgIBaNj_1a",
        "outputId": "1b08dbad-30b0-46ed-815a-d4ea75538a83"
      },
      "execution_count": 787,
      "outputs": [
        {
          "output_type": "execute_result",
          "data": {
            "text/plain": [
              "            1          9        10         11        12        13        16  \\\n",
              "0   -2.349408 -12.277052 -0.259587 -25.186307 -1.492958  0.173239 -2.608365   \n",
              "1   -2.349408 -12.277052 -0.259587 -25.186307 -1.492958  0.173239 -2.608365   \n",
              "2   -2.350874 -12.277142 -0.117994 -25.186436 -0.478873  0.528765 -2.608365   \n",
              "3   -2.345655 -12.277213  0.200590 -25.186498  0.056338 -0.099548 -2.608363   \n",
              "4   -2.345655 -12.277208  0.200590 -25.186515  0.056338  0.530058 -2.608368   \n",
              "..        ...        ...       ...        ...       ...       ...       ...   \n",
              "200 -2.357524 -12.277321  0.920354 -25.186725  0.394366  0.695540 -2.608364   \n",
              "201 -2.357524 -12.277321  0.920354 -25.186717  0.394366  0.820944 -2.608366   \n",
              "202 -2.357524 -12.277321  0.920354 -25.186725  0.394366  0.773109 -2.608365   \n",
              "203 -2.357524 -12.277321  0.920354 -25.186725  0.394366  1.038138 -2.608358   \n",
              "204 -2.357524 -12.277321  0.920354 -25.186725  0.394366  0.837750 -2.608364   \n",
              "\n",
              "           18        19         20  ...  15_twelve  15_two  17_1bbl  17_2bbl  \\\n",
              "0    0.367816 -2.033333   0.000000  ...          0       0        0        0   \n",
              "1    0.367816 -2.033333   0.000000  ...          0       0        0        0   \n",
              "2   -1.448276  0.600000   0.000000  ...          0       0        0        0   \n",
              "3   -0.275862  0.366667   1.176471  ...          0       0        0        0   \n",
              "4   -0.275862  0.366667  -1.176471  ...          0       0        0        0   \n",
              "..        ...       ...        ...  ...        ...     ...      ...      ...   \n",
              "200  1.080460 -0.466667   0.588235  ...          0       0        0        0   \n",
              "201  1.080460 -0.466667  -0.352941  ...          0       0        0        0   \n",
              "202  0.620690 -1.400000  -0.235294  ...          0       0        0        0   \n",
              "203 -0.689655  0.366667  16.470588  ...          0       0        0        0   \n",
              "204  1.080460 -0.466667   0.588235  ...          0       0        0        0   \n",
              "\n",
              "     17_4bbl  17_idi  17_mfi  17_mpfi  17_spdi  17_spfi  \n",
              "0          0       0       0        1        0        0  \n",
              "1          0       0       0        1        0        0  \n",
              "2          0       0       0        1        0        0  \n",
              "3          0       0       0        1        0        0  \n",
              "4          0       0       0        1        0        0  \n",
              "..       ...     ...     ...      ...      ...      ...  \n",
              "200        0       0       0        1        0        0  \n",
              "201        0       0       0        1        0        0  \n",
              "202        0       0       0        1        0        0  \n",
              "203        0       1       0        0        0        0  \n",
              "204        0       0       0        1        0        0  \n",
              "\n",
              "[199 rows x 80 columns]"
            ],
            "text/html": [
              "\n",
              "  <div id=\"df-68ae7304-ca89-40dd-9ecb-98c0da97bfd4\">\n",
              "    <div class=\"colab-df-container\">\n",
              "      <div>\n",
              "<style scoped>\n",
              "    .dataframe tbody tr th:only-of-type {\n",
              "        vertical-align: middle;\n",
              "    }\n",
              "\n",
              "    .dataframe tbody tr th {\n",
              "        vertical-align: top;\n",
              "    }\n",
              "\n",
              "    .dataframe thead th {\n",
              "        text-align: right;\n",
              "    }\n",
              "</style>\n",
              "<table border=\"1\" class=\"dataframe\">\n",
              "  <thead>\n",
              "    <tr style=\"text-align: right;\">\n",
              "      <th></th>\n",
              "      <th>1</th>\n",
              "      <th>9</th>\n",
              "      <th>10</th>\n",
              "      <th>11</th>\n",
              "      <th>12</th>\n",
              "      <th>13</th>\n",
              "      <th>16</th>\n",
              "      <th>18</th>\n",
              "      <th>19</th>\n",
              "      <th>20</th>\n",
              "      <th>...</th>\n",
              "      <th>15_twelve</th>\n",
              "      <th>15_two</th>\n",
              "      <th>17_1bbl</th>\n",
              "      <th>17_2bbl</th>\n",
              "      <th>17_4bbl</th>\n",
              "      <th>17_idi</th>\n",
              "      <th>17_mfi</th>\n",
              "      <th>17_mpfi</th>\n",
              "      <th>17_spdi</th>\n",
              "      <th>17_spfi</th>\n",
              "    </tr>\n",
              "  </thead>\n",
              "  <tbody>\n",
              "    <tr>\n",
              "      <th>0</th>\n",
              "      <td>-2.349408</td>\n",
              "      <td>-12.277052</td>\n",
              "      <td>-0.259587</td>\n",
              "      <td>-25.186307</td>\n",
              "      <td>-1.492958</td>\n",
              "      <td>0.173239</td>\n",
              "      <td>-2.608365</td>\n",
              "      <td>0.367816</td>\n",
              "      <td>-2.033333</td>\n",
              "      <td>0.000000</td>\n",
              "      <td>...</td>\n",
              "      <td>0</td>\n",
              "      <td>0</td>\n",
              "      <td>0</td>\n",
              "      <td>0</td>\n",
              "      <td>0</td>\n",
              "      <td>0</td>\n",
              "      <td>0</td>\n",
              "      <td>1</td>\n",
              "      <td>0</td>\n",
              "      <td>0</td>\n",
              "    </tr>\n",
              "    <tr>\n",
              "      <th>1</th>\n",
              "      <td>-2.349408</td>\n",
              "      <td>-12.277052</td>\n",
              "      <td>-0.259587</td>\n",
              "      <td>-25.186307</td>\n",
              "      <td>-1.492958</td>\n",
              "      <td>0.173239</td>\n",
              "      <td>-2.608365</td>\n",
              "      <td>0.367816</td>\n",
              "      <td>-2.033333</td>\n",
              "      <td>0.000000</td>\n",
              "      <td>...</td>\n",
              "      <td>0</td>\n",
              "      <td>0</td>\n",
              "      <td>0</td>\n",
              "      <td>0</td>\n",
              "      <td>0</td>\n",
              "      <td>0</td>\n",
              "      <td>0</td>\n",
              "      <td>1</td>\n",
              "      <td>0</td>\n",
              "      <td>0</td>\n",
              "    </tr>\n",
              "    <tr>\n",
              "      <th>2</th>\n",
              "      <td>-2.350874</td>\n",
              "      <td>-12.277142</td>\n",
              "      <td>-0.117994</td>\n",
              "      <td>-25.186436</td>\n",
              "      <td>-0.478873</td>\n",
              "      <td>0.528765</td>\n",
              "      <td>-2.608365</td>\n",
              "      <td>-1.448276</td>\n",
              "      <td>0.600000</td>\n",
              "      <td>0.000000</td>\n",
              "      <td>...</td>\n",
              "      <td>0</td>\n",
              "      <td>0</td>\n",
              "      <td>0</td>\n",
              "      <td>0</td>\n",
              "      <td>0</td>\n",
              "      <td>0</td>\n",
              "      <td>0</td>\n",
              "      <td>1</td>\n",
              "      <td>0</td>\n",
              "      <td>0</td>\n",
              "    </tr>\n",
              "    <tr>\n",
              "      <th>3</th>\n",
              "      <td>-2.345655</td>\n",
              "      <td>-12.277213</td>\n",
              "      <td>0.200590</td>\n",
              "      <td>-25.186498</td>\n",
              "      <td>0.056338</td>\n",
              "      <td>-0.099548</td>\n",
              "      <td>-2.608363</td>\n",
              "      <td>-0.275862</td>\n",
              "      <td>0.366667</td>\n",
              "      <td>1.176471</td>\n",
              "      <td>...</td>\n",
              "      <td>0</td>\n",
              "      <td>0</td>\n",
              "      <td>0</td>\n",
              "      <td>0</td>\n",
              "      <td>0</td>\n",
              "      <td>0</td>\n",
              "      <td>0</td>\n",
              "      <td>1</td>\n",
              "      <td>0</td>\n",
              "      <td>0</td>\n",
              "    </tr>\n",
              "    <tr>\n",
              "      <th>4</th>\n",
              "      <td>-2.345655</td>\n",
              "      <td>-12.277208</td>\n",
              "      <td>0.200590</td>\n",
              "      <td>-25.186515</td>\n",
              "      <td>0.056338</td>\n",
              "      <td>0.530058</td>\n",
              "      <td>-2.608368</td>\n",
              "      <td>-0.275862</td>\n",
              "      <td>0.366667</td>\n",
              "      <td>-1.176471</td>\n",
              "      <td>...</td>\n",
              "      <td>0</td>\n",
              "      <td>0</td>\n",
              "      <td>0</td>\n",
              "      <td>0</td>\n",
              "      <td>0</td>\n",
              "      <td>0</td>\n",
              "      <td>0</td>\n",
              "      <td>1</td>\n",
              "      <td>0</td>\n",
              "      <td>0</td>\n",
              "    </tr>\n",
              "    <tr>\n",
              "      <th>...</th>\n",
              "      <td>...</td>\n",
              "      <td>...</td>\n",
              "      <td>...</td>\n",
              "      <td>...</td>\n",
              "      <td>...</td>\n",
              "      <td>...</td>\n",
              "      <td>...</td>\n",
              "      <td>...</td>\n",
              "      <td>...</td>\n",
              "      <td>...</td>\n",
              "      <td>...</td>\n",
              "      <td>...</td>\n",
              "      <td>...</td>\n",
              "      <td>...</td>\n",
              "      <td>...</td>\n",
              "      <td>...</td>\n",
              "      <td>...</td>\n",
              "      <td>...</td>\n",
              "      <td>...</td>\n",
              "      <td>...</td>\n",
              "      <td>...</td>\n",
              "    </tr>\n",
              "    <tr>\n",
              "      <th>200</th>\n",
              "      <td>-2.357524</td>\n",
              "      <td>-12.277321</td>\n",
              "      <td>0.920354</td>\n",
              "      <td>-25.186725</td>\n",
              "      <td>0.394366</td>\n",
              "      <td>0.695540</td>\n",
              "      <td>-2.608364</td>\n",
              "      <td>1.080460</td>\n",
              "      <td>-0.466667</td>\n",
              "      <td>0.588235</td>\n",
              "      <td>...</td>\n",
              "      <td>0</td>\n",
              "      <td>0</td>\n",
              "      <td>0</td>\n",
              "      <td>0</td>\n",
              "      <td>0</td>\n",
              "      <td>0</td>\n",
              "      <td>0</td>\n",
              "      <td>1</td>\n",
              "      <td>0</td>\n",
              "      <td>0</td>\n",
              "    </tr>\n",
              "    <tr>\n",
              "      <th>201</th>\n",
              "      <td>-2.357524</td>\n",
              "      <td>-12.277321</td>\n",
              "      <td>0.920354</td>\n",
              "      <td>-25.186717</td>\n",
              "      <td>0.394366</td>\n",
              "      <td>0.820944</td>\n",
              "      <td>-2.608366</td>\n",
              "      <td>1.080460</td>\n",
              "      <td>-0.466667</td>\n",
              "      <td>-0.352941</td>\n",
              "      <td>...</td>\n",
              "      <td>0</td>\n",
              "      <td>0</td>\n",
              "      <td>0</td>\n",
              "      <td>0</td>\n",
              "      <td>0</td>\n",
              "      <td>0</td>\n",
              "      <td>0</td>\n",
              "      <td>1</td>\n",
              "      <td>0</td>\n",
              "      <td>0</td>\n",
              "    </tr>\n",
              "    <tr>\n",
              "      <th>202</th>\n",
              "      <td>-2.357524</td>\n",
              "      <td>-12.277321</td>\n",
              "      <td>0.920354</td>\n",
              "      <td>-25.186725</td>\n",
              "      <td>0.394366</td>\n",
              "      <td>0.773109</td>\n",
              "      <td>-2.608365</td>\n",
              "      <td>0.620690</td>\n",
              "      <td>-1.400000</td>\n",
              "      <td>-0.235294</td>\n",
              "      <td>...</td>\n",
              "      <td>0</td>\n",
              "      <td>0</td>\n",
              "      <td>0</td>\n",
              "      <td>0</td>\n",
              "      <td>0</td>\n",
              "      <td>0</td>\n",
              "      <td>0</td>\n",
              "      <td>1</td>\n",
              "      <td>0</td>\n",
              "      <td>0</td>\n",
              "    </tr>\n",
              "    <tr>\n",
              "      <th>203</th>\n",
              "      <td>-2.357524</td>\n",
              "      <td>-12.277321</td>\n",
              "      <td>0.920354</td>\n",
              "      <td>-25.186725</td>\n",
              "      <td>0.394366</td>\n",
              "      <td>1.038138</td>\n",
              "      <td>-2.608358</td>\n",
              "      <td>-0.689655</td>\n",
              "      <td>0.366667</td>\n",
              "      <td>16.470588</td>\n",
              "      <td>...</td>\n",
              "      <td>0</td>\n",
              "      <td>0</td>\n",
              "      <td>0</td>\n",
              "      <td>0</td>\n",
              "      <td>0</td>\n",
              "      <td>1</td>\n",
              "      <td>0</td>\n",
              "      <td>0</td>\n",
              "      <td>0</td>\n",
              "      <td>0</td>\n",
              "    </tr>\n",
              "    <tr>\n",
              "      <th>204</th>\n",
              "      <td>-2.357524</td>\n",
              "      <td>-12.277321</td>\n",
              "      <td>0.920354</td>\n",
              "      <td>-25.186725</td>\n",
              "      <td>0.394366</td>\n",
              "      <td>0.837750</td>\n",
              "      <td>-2.608364</td>\n",
              "      <td>1.080460</td>\n",
              "      <td>-0.466667</td>\n",
              "      <td>0.588235</td>\n",
              "      <td>...</td>\n",
              "      <td>0</td>\n",
              "      <td>0</td>\n",
              "      <td>0</td>\n",
              "      <td>0</td>\n",
              "      <td>0</td>\n",
              "      <td>0</td>\n",
              "      <td>0</td>\n",
              "      <td>1</td>\n",
              "      <td>0</td>\n",
              "      <td>0</td>\n",
              "    </tr>\n",
              "  </tbody>\n",
              "</table>\n",
              "<p>199 rows × 80 columns</p>\n",
              "</div>\n",
              "      <button class=\"colab-df-convert\" onclick=\"convertToInteractive('df-68ae7304-ca89-40dd-9ecb-98c0da97bfd4')\"\n",
              "              title=\"Convert this dataframe to an interactive table.\"\n",
              "              style=\"display:none;\">\n",
              "        \n",
              "  <svg xmlns=\"http://www.w3.org/2000/svg\" height=\"24px\"viewBox=\"0 0 24 24\"\n",
              "       width=\"24px\">\n",
              "    <path d=\"M0 0h24v24H0V0z\" fill=\"none\"/>\n",
              "    <path d=\"M18.56 5.44l.94 2.06.94-2.06 2.06-.94-2.06-.94-.94-2.06-.94 2.06-2.06.94zm-11 1L8.5 8.5l.94-2.06 2.06-.94-2.06-.94L8.5 2.5l-.94 2.06-2.06.94zm10 10l.94 2.06.94-2.06 2.06-.94-2.06-.94-.94-2.06-.94 2.06-2.06.94z\"/><path d=\"M17.41 7.96l-1.37-1.37c-.4-.4-.92-.59-1.43-.59-.52 0-1.04.2-1.43.59L10.3 9.45l-7.72 7.72c-.78.78-.78 2.05 0 2.83L4 21.41c.39.39.9.59 1.41.59.51 0 1.02-.2 1.41-.59l7.78-7.78 2.81-2.81c.8-.78.8-2.07 0-2.86zM5.41 20L4 18.59l7.72-7.72 1.47 1.35L5.41 20z\"/>\n",
              "  </svg>\n",
              "      </button>\n",
              "      \n",
              "  <style>\n",
              "    .colab-df-container {\n",
              "      display:flex;\n",
              "      flex-wrap:wrap;\n",
              "      gap: 12px;\n",
              "    }\n",
              "\n",
              "    .colab-df-convert {\n",
              "      background-color: #E8F0FE;\n",
              "      border: none;\n",
              "      border-radius: 50%;\n",
              "      cursor: pointer;\n",
              "      display: none;\n",
              "      fill: #1967D2;\n",
              "      height: 32px;\n",
              "      padding: 0 0 0 0;\n",
              "      width: 32px;\n",
              "    }\n",
              "\n",
              "    .colab-df-convert:hover {\n",
              "      background-color: #E2EBFA;\n",
              "      box-shadow: 0px 1px 2px rgba(60, 64, 67, 0.3), 0px 1px 3px 1px rgba(60, 64, 67, 0.15);\n",
              "      fill: #174EA6;\n",
              "    }\n",
              "\n",
              "    [theme=dark] .colab-df-convert {\n",
              "      background-color: #3B4455;\n",
              "      fill: #D2E3FC;\n",
              "    }\n",
              "\n",
              "    [theme=dark] .colab-df-convert:hover {\n",
              "      background-color: #434B5C;\n",
              "      box-shadow: 0px 1px 3px 1px rgba(0, 0, 0, 0.15);\n",
              "      filter: drop-shadow(0px 1px 2px rgba(0, 0, 0, 0.3));\n",
              "      fill: #FFFFFF;\n",
              "    }\n",
              "  </style>\n",
              "\n",
              "      <script>\n",
              "        const buttonEl =\n",
              "          document.querySelector('#df-68ae7304-ca89-40dd-9ecb-98c0da97bfd4 button.colab-df-convert');\n",
              "        buttonEl.style.display =\n",
              "          google.colab.kernel.accessAllowed ? 'block' : 'none';\n",
              "\n",
              "        async function convertToInteractive(key) {\n",
              "          const element = document.querySelector('#df-68ae7304-ca89-40dd-9ecb-98c0da97bfd4');\n",
              "          const dataTable =\n",
              "            await google.colab.kernel.invokeFunction('convertToInteractive',\n",
              "                                                     [key], {});\n",
              "          if (!dataTable) return;\n",
              "\n",
              "          const docLinkHtml = 'Like what you see? Visit the ' +\n",
              "            '<a target=\"_blank\" href=https://colab.research.google.com/notebooks/data_table.ipynb>data table notebook</a>'\n",
              "            + ' to learn more about interactive tables.';\n",
              "          element.innerHTML = '';\n",
              "          dataTable['output_type'] = 'display_data';\n",
              "          await google.colab.output.renderOutput(dataTable, element);\n",
              "          const docLink = document.createElement('div');\n",
              "          docLink.innerHTML = docLinkHtml;\n",
              "          element.appendChild(docLink);\n",
              "        }\n",
              "      </script>\n",
              "    </div>\n",
              "  </div>\n",
              "  "
            ]
          },
          "metadata": {},
          "execution_count": 787
        }
      ]
    },
    {
      "cell_type": "code",
      "source": [
        "cars_encoded_scaled.info()"
      ],
      "metadata": {
        "colab": {
          "base_uri": "https://localhost:8080/"
        },
        "id": "Z2afUKOrkMhE",
        "outputId": "169d4b39-8dcc-4944-d2cb-e01522844a8e"
      },
      "execution_count": 788,
      "outputs": [
        {
          "output_type": "stream",
          "name": "stdout",
          "text": [
            "<class 'pandas.core.frame.DataFrame'>\n",
            "Int64Index: 199 entries, 0 to 204\n",
            "Data columns (total 80 columns):\n",
            " #   Column           Non-Null Count  Dtype  \n",
            "---  ------           --------------  -----  \n",
            " 0   1                199 non-null    float64\n",
            " 1   9                199 non-null    float64\n",
            " 2   10               199 non-null    float64\n",
            " 3   11               199 non-null    float64\n",
            " 4   12               199 non-null    float64\n",
            " 5   13               199 non-null    float64\n",
            " 6   16               199 non-null    float64\n",
            " 7   18               199 non-null    float64\n",
            " 8   19               199 non-null    float64\n",
            " 9   20               199 non-null    float64\n",
            " 10  21               199 non-null    float64\n",
            " 11  22               199 non-null    float64\n",
            " 12  23               199 non-null    float64\n",
            " 13  24               199 non-null    float64\n",
            " 14  price            199 non-null    float64\n",
            " 15  0_-1             199 non-null    uint8  \n",
            " 16  0_-2             199 non-null    uint8  \n",
            " 17  0_0              199 non-null    uint8  \n",
            " 18  0_1              199 non-null    uint8  \n",
            " 19  0_2              199 non-null    uint8  \n",
            " 20  0_3              199 non-null    uint8  \n",
            " 21  2_alfa-romero    199 non-null    uint8  \n",
            " 22  2_audi           199 non-null    uint8  \n",
            " 23  2_bmw            199 non-null    uint8  \n",
            " 24  2_chevrolet      199 non-null    uint8  \n",
            " 25  2_dodge          199 non-null    uint8  \n",
            " 26  2_honda          199 non-null    uint8  \n",
            " 27  2_isuzu          199 non-null    uint8  \n",
            " 28  2_jaguar         199 non-null    uint8  \n",
            " 29  2_mazda          199 non-null    uint8  \n",
            " 30  2_mercedes-benz  199 non-null    uint8  \n",
            " 31  2_mercury        199 non-null    uint8  \n",
            " 32  2_mitsubishi     199 non-null    uint8  \n",
            " 33  2_nissan         199 non-null    uint8  \n",
            " 34  2_peugot         199 non-null    uint8  \n",
            " 35  2_plymouth       199 non-null    uint8  \n",
            " 36  2_porsche        199 non-null    uint8  \n",
            " 37  2_saab           199 non-null    uint8  \n",
            " 38  2_subaru         199 non-null    uint8  \n",
            " 39  2_toyota         199 non-null    uint8  \n",
            " 40  2_volkswagen     199 non-null    uint8  \n",
            " 41  2_volvo          199 non-null    uint8  \n",
            " 42  3_diesel         199 non-null    uint8  \n",
            " 43  3_gas            199 non-null    uint8  \n",
            " 44  4_std            199 non-null    uint8  \n",
            " 45  4_turbo          199 non-null    uint8  \n",
            " 46  5_?              199 non-null    uint8  \n",
            " 47  5_four           199 non-null    uint8  \n",
            " 48  5_two            199 non-null    uint8  \n",
            " 49  6_convertible    199 non-null    uint8  \n",
            " 50  6_hardtop        199 non-null    uint8  \n",
            " 51  6_hatchback      199 non-null    uint8  \n",
            " 52  6_sedan          199 non-null    uint8  \n",
            " 53  6_wagon          199 non-null    uint8  \n",
            " 54  7_4wd            199 non-null    uint8  \n",
            " 55  7_fwd            199 non-null    uint8  \n",
            " 56  7_rwd            199 non-null    uint8  \n",
            " 57  8_front          199 non-null    uint8  \n",
            " 58  8_rear           199 non-null    uint8  \n",
            " 59  14_dohc          199 non-null    uint8  \n",
            " 60  14_l             199 non-null    uint8  \n",
            " 61  14_ohc           199 non-null    uint8  \n",
            " 62  14_ohcf          199 non-null    uint8  \n",
            " 63  14_ohcv          199 non-null    uint8  \n",
            " 64  14_rotor         199 non-null    uint8  \n",
            " 65  15_eight         199 non-null    uint8  \n",
            " 66  15_five          199 non-null    uint8  \n",
            " 67  15_four          199 non-null    uint8  \n",
            " 68  15_six           199 non-null    uint8  \n",
            " 69  15_three         199 non-null    uint8  \n",
            " 70  15_twelve        199 non-null    uint8  \n",
            " 71  15_two           199 non-null    uint8  \n",
            " 72  17_1bbl          199 non-null    uint8  \n",
            " 73  17_2bbl          199 non-null    uint8  \n",
            " 74  17_4bbl          199 non-null    uint8  \n",
            " 75  17_idi           199 non-null    uint8  \n",
            " 76  17_mfi           199 non-null    uint8  \n",
            " 77  17_mpfi          199 non-null    uint8  \n",
            " 78  17_spdi          199 non-null    uint8  \n",
            " 79  17_spfi          199 non-null    uint8  \n",
            "dtypes: float64(15), uint8(65)\n",
            "memory usage: 37.5 KB\n"
          ]
        }
      ]
    },
    {
      "cell_type": "code",
      "source": [
        ""
      ],
      "metadata": {
        "id": "xf3SfcTNob3y"
      },
      "execution_count": 788,
      "outputs": []
    },
    {
      "cell_type": "markdown",
      "source": [
        "# Performing the Multiple Regression"
      ],
      "metadata": {
        "id": "U6EfJTcQkTZo"
      }
    },
    {
      "cell_type": "markdown",
      "source": [
        "## Splitting up into test and training sets\n"
      ],
      "metadata": {
        "id": "DN911UC2lWWG"
      }
    },
    {
      "cell_type": "code",
      "source": [
        "xtrain, xtest, ytrain, ytest = train_test_split(cars_encoded_scaled.loc[:,cars_encoded_scaled.columns != 'price'], cars_encoded_scaled.price, test_size = .33, random_state = 7)"
      ],
      "metadata": {
        "id": "v-nV5Dpuly5s"
      },
      "execution_count": 789,
      "outputs": []
    },
    {
      "cell_type": "code",
      "source": [
        "xtrain.head(n=5)"
      ],
      "metadata": {
        "colab": {
          "base_uri": "https://localhost:8080/",
          "height": 236
        },
        "id": "QSRoJJuumgxh",
        "outputId": "85f78cc4-b350-4bc2-d16c-48a99b349a2b"
      },
      "execution_count": 790,
      "outputs": [
        {
          "output_type": "execute_result",
          "data": {
            "text/plain": [
              "            1          9        10         11        12        13        16  \\\n",
              "54  -2.353752 -12.277121 -0.377581 -25.186317  0.000000 -0.599871 -2.608365   \n",
              "172 -2.350047 -12.277195  0.176991 -25.186445 -0.309859  0.725275 -2.608364   \n",
              "145 -2.355979 -12.277176 -0.070796 -25.186427  0.056338  0.124111 -2.608369   \n",
              "114 -2.359942 -12.277373  1.516224 -25.186685  1.295775  1.384615 -2.608358   \n",
              "117 -2.346056 -12.277309  0.796460 -25.186676  0.535211  0.925663 -2.608373   \n",
              "\n",
              "           18        19         20  ...  15_twelve  15_two  17_1bbl  17_2bbl  \\\n",
              "54  -0.528736 -0.466667   0.000000  ...          0       0        0        1   \n",
              "172  0.712644  0.700000   0.352941  ...          0       0        0        0   \n",
              "145  0.712644 -2.166667  -1.529412  ...          0       0        0        0   \n",
              "114  0.896552  0.766667  14.117647  ...          0       0        0        0   \n",
              "117  0.689655 -0.266667  -2.352941  ...          0       0        0        0   \n",
              "\n",
              "     17_4bbl  17_idi  17_mfi  17_mpfi  17_spdi  17_spfi  \n",
              "54         0       0       0        0        0        0  \n",
              "172        0       0       0        1        0        0  \n",
              "145        0       0       0        1        0        0  \n",
              "114        0       1       0        0        0        0  \n",
              "117        0       0       0        1        0        0  \n",
              "\n",
              "[5 rows x 79 columns]"
            ],
            "text/html": [
              "\n",
              "  <div id=\"df-86127e0d-804f-434e-be5e-84d6ce462487\">\n",
              "    <div class=\"colab-df-container\">\n",
              "      <div>\n",
              "<style scoped>\n",
              "    .dataframe tbody tr th:only-of-type {\n",
              "        vertical-align: middle;\n",
              "    }\n",
              "\n",
              "    .dataframe tbody tr th {\n",
              "        vertical-align: top;\n",
              "    }\n",
              "\n",
              "    .dataframe thead th {\n",
              "        text-align: right;\n",
              "    }\n",
              "</style>\n",
              "<table border=\"1\" class=\"dataframe\">\n",
              "  <thead>\n",
              "    <tr style=\"text-align: right;\">\n",
              "      <th></th>\n",
              "      <th>1</th>\n",
              "      <th>9</th>\n",
              "      <th>10</th>\n",
              "      <th>11</th>\n",
              "      <th>12</th>\n",
              "      <th>13</th>\n",
              "      <th>16</th>\n",
              "      <th>18</th>\n",
              "      <th>19</th>\n",
              "      <th>20</th>\n",
              "      <th>...</th>\n",
              "      <th>15_twelve</th>\n",
              "      <th>15_two</th>\n",
              "      <th>17_1bbl</th>\n",
              "      <th>17_2bbl</th>\n",
              "      <th>17_4bbl</th>\n",
              "      <th>17_idi</th>\n",
              "      <th>17_mfi</th>\n",
              "      <th>17_mpfi</th>\n",
              "      <th>17_spdi</th>\n",
              "      <th>17_spfi</th>\n",
              "    </tr>\n",
              "  </thead>\n",
              "  <tbody>\n",
              "    <tr>\n",
              "      <th>54</th>\n",
              "      <td>-2.353752</td>\n",
              "      <td>-12.277121</td>\n",
              "      <td>-0.377581</td>\n",
              "      <td>-25.186317</td>\n",
              "      <td>0.000000</td>\n",
              "      <td>-0.599871</td>\n",
              "      <td>-2.608365</td>\n",
              "      <td>-0.528736</td>\n",
              "      <td>-0.466667</td>\n",
              "      <td>0.000000</td>\n",
              "      <td>...</td>\n",
              "      <td>0</td>\n",
              "      <td>0</td>\n",
              "      <td>0</td>\n",
              "      <td>1</td>\n",
              "      <td>0</td>\n",
              "      <td>0</td>\n",
              "      <td>0</td>\n",
              "      <td>0</td>\n",
              "      <td>0</td>\n",
              "      <td>0</td>\n",
              "    </tr>\n",
              "    <tr>\n",
              "      <th>172</th>\n",
              "      <td>-2.350047</td>\n",
              "      <td>-12.277195</td>\n",
              "      <td>0.176991</td>\n",
              "      <td>-25.186445</td>\n",
              "      <td>-0.309859</td>\n",
              "      <td>0.725275</td>\n",
              "      <td>-2.608364</td>\n",
              "      <td>0.712644</td>\n",
              "      <td>0.700000</td>\n",
              "      <td>0.352941</td>\n",
              "      <td>...</td>\n",
              "      <td>0</td>\n",
              "      <td>0</td>\n",
              "      <td>0</td>\n",
              "      <td>0</td>\n",
              "      <td>0</td>\n",
              "      <td>0</td>\n",
              "      <td>0</td>\n",
              "      <td>1</td>\n",
              "      <td>0</td>\n",
              "      <td>0</td>\n",
              "    </tr>\n",
              "    <tr>\n",
              "      <th>145</th>\n",
              "      <td>-2.355979</td>\n",
              "      <td>-12.277176</td>\n",
              "      <td>-0.070796</td>\n",
              "      <td>-25.186427</td>\n",
              "      <td>0.056338</td>\n",
              "      <td>0.124111</td>\n",
              "      <td>-2.608369</td>\n",
              "      <td>0.712644</td>\n",
              "      <td>-2.166667</td>\n",
              "      <td>-1.529412</td>\n",
              "      <td>...</td>\n",
              "      <td>0</td>\n",
              "      <td>0</td>\n",
              "      <td>0</td>\n",
              "      <td>0</td>\n",
              "      <td>0</td>\n",
              "      <td>0</td>\n",
              "      <td>0</td>\n",
              "      <td>1</td>\n",
              "      <td>0</td>\n",
              "      <td>0</td>\n",
              "    </tr>\n",
              "    <tr>\n",
              "      <th>114</th>\n",
              "      <td>-2.359942</td>\n",
              "      <td>-12.277373</td>\n",
              "      <td>1.516224</td>\n",
              "      <td>-25.186685</td>\n",
              "      <td>1.295775</td>\n",
              "      <td>1.384615</td>\n",
              "      <td>-2.608358</td>\n",
              "      <td>0.896552</td>\n",
              "      <td>0.766667</td>\n",
              "      <td>14.117647</td>\n",
              "      <td>...</td>\n",
              "      <td>0</td>\n",
              "      <td>0</td>\n",
              "      <td>0</td>\n",
              "      <td>0</td>\n",
              "      <td>0</td>\n",
              "      <td>1</td>\n",
              "      <td>0</td>\n",
              "      <td>0</td>\n",
              "      <td>0</td>\n",
              "      <td>0</td>\n",
              "    </tr>\n",
              "    <tr>\n",
              "      <th>117</th>\n",
              "      <td>-2.346056</td>\n",
              "      <td>-12.277309</td>\n",
              "      <td>0.796460</td>\n",
              "      <td>-25.186676</td>\n",
              "      <td>0.535211</td>\n",
              "      <td>0.925663</td>\n",
              "      <td>-2.608373</td>\n",
              "      <td>0.689655</td>\n",
              "      <td>-0.266667</td>\n",
              "      <td>-2.352941</td>\n",
              "      <td>...</td>\n",
              "      <td>0</td>\n",
              "      <td>0</td>\n",
              "      <td>0</td>\n",
              "      <td>0</td>\n",
              "      <td>0</td>\n",
              "      <td>0</td>\n",
              "      <td>0</td>\n",
              "      <td>1</td>\n",
              "      <td>0</td>\n",
              "      <td>0</td>\n",
              "    </tr>\n",
              "  </tbody>\n",
              "</table>\n",
              "<p>5 rows × 79 columns</p>\n",
              "</div>\n",
              "      <button class=\"colab-df-convert\" onclick=\"convertToInteractive('df-86127e0d-804f-434e-be5e-84d6ce462487')\"\n",
              "              title=\"Convert this dataframe to an interactive table.\"\n",
              "              style=\"display:none;\">\n",
              "        \n",
              "  <svg xmlns=\"http://www.w3.org/2000/svg\" height=\"24px\"viewBox=\"0 0 24 24\"\n",
              "       width=\"24px\">\n",
              "    <path d=\"M0 0h24v24H0V0z\" fill=\"none\"/>\n",
              "    <path d=\"M18.56 5.44l.94 2.06.94-2.06 2.06-.94-2.06-.94-.94-2.06-.94 2.06-2.06.94zm-11 1L8.5 8.5l.94-2.06 2.06-.94-2.06-.94L8.5 2.5l-.94 2.06-2.06.94zm10 10l.94 2.06.94-2.06 2.06-.94-2.06-.94-.94-2.06-.94 2.06-2.06.94z\"/><path d=\"M17.41 7.96l-1.37-1.37c-.4-.4-.92-.59-1.43-.59-.52 0-1.04.2-1.43.59L10.3 9.45l-7.72 7.72c-.78.78-.78 2.05 0 2.83L4 21.41c.39.39.9.59 1.41.59.51 0 1.02-.2 1.41-.59l7.78-7.78 2.81-2.81c.8-.78.8-2.07 0-2.86zM5.41 20L4 18.59l7.72-7.72 1.47 1.35L5.41 20z\"/>\n",
              "  </svg>\n",
              "      </button>\n",
              "      \n",
              "  <style>\n",
              "    .colab-df-container {\n",
              "      display:flex;\n",
              "      flex-wrap:wrap;\n",
              "      gap: 12px;\n",
              "    }\n",
              "\n",
              "    .colab-df-convert {\n",
              "      background-color: #E8F0FE;\n",
              "      border: none;\n",
              "      border-radius: 50%;\n",
              "      cursor: pointer;\n",
              "      display: none;\n",
              "      fill: #1967D2;\n",
              "      height: 32px;\n",
              "      padding: 0 0 0 0;\n",
              "      width: 32px;\n",
              "    }\n",
              "\n",
              "    .colab-df-convert:hover {\n",
              "      background-color: #E2EBFA;\n",
              "      box-shadow: 0px 1px 2px rgba(60, 64, 67, 0.3), 0px 1px 3px 1px rgba(60, 64, 67, 0.15);\n",
              "      fill: #174EA6;\n",
              "    }\n",
              "\n",
              "    [theme=dark] .colab-df-convert {\n",
              "      background-color: #3B4455;\n",
              "      fill: #D2E3FC;\n",
              "    }\n",
              "\n",
              "    [theme=dark] .colab-df-convert:hover {\n",
              "      background-color: #434B5C;\n",
              "      box-shadow: 0px 1px 3px 1px rgba(0, 0, 0, 0.15);\n",
              "      filter: drop-shadow(0px 1px 2px rgba(0, 0, 0, 0.3));\n",
              "      fill: #FFFFFF;\n",
              "    }\n",
              "  </style>\n",
              "\n",
              "      <script>\n",
              "        const buttonEl =\n",
              "          document.querySelector('#df-86127e0d-804f-434e-be5e-84d6ce462487 button.colab-df-convert');\n",
              "        buttonEl.style.display =\n",
              "          google.colab.kernel.accessAllowed ? 'block' : 'none';\n",
              "\n",
              "        async function convertToInteractive(key) {\n",
              "          const element = document.querySelector('#df-86127e0d-804f-434e-be5e-84d6ce462487');\n",
              "          const dataTable =\n",
              "            await google.colab.kernel.invokeFunction('convertToInteractive',\n",
              "                                                     [key], {});\n",
              "          if (!dataTable) return;\n",
              "\n",
              "          const docLinkHtml = 'Like what you see? Visit the ' +\n",
              "            '<a target=\"_blank\" href=https://colab.research.google.com/notebooks/data_table.ipynb>data table notebook</a>'\n",
              "            + ' to learn more about interactive tables.';\n",
              "          element.innerHTML = '';\n",
              "          dataTable['output_type'] = 'display_data';\n",
              "          await google.colab.output.renderOutput(dataTable, element);\n",
              "          const docLink = document.createElement('div');\n",
              "          docLink.innerHTML = docLinkHtml;\n",
              "          element.appendChild(docLink);\n",
              "        }\n",
              "      </script>\n",
              "    </div>\n",
              "  </div>\n",
              "  "
            ]
          },
          "metadata": {},
          "execution_count": 790
        }
      ]
    },
    {
      "cell_type": "code",
      "source": [
        "xtest.head(n=5)"
      ],
      "metadata": {
        "colab": {
          "base_uri": "https://localhost:8080/",
          "height": 236
        },
        "id": "1NDpg8Ccmxd3",
        "outputId": "7fdc1b03-d23b-438b-c255-25b6d3ec5e38"
      },
      "execution_count": 791,
      "outputs": [
        {
          "output_type": "execute_result",
          "data": {
            "text/plain": [
              "            1          9        10         11        12        13        16  \\\n",
              "88  -2.349566 -12.277167 -0.047198 -25.186427 -0.704225 -0.014221 -2.608370   \n",
              "109 -2.359942 -12.277373  1.516224 -25.186685  1.295775  1.054945 -2.608367   \n",
              "23  -2.352811 -12.277130 -0.938053 -25.186279 -0.929577 -0.369748 -2.608370   \n",
              "12  -2.342686 -12.277230  0.212389 -25.186372  0.056338  0.382676 -2.608365   \n",
              "68  -2.357987 -12.277330  1.044248 -25.186837  1.295775  1.727214 -2.608358   \n",
              "\n",
              "           18        19         20  ...  15_twelve  15_two  17_1bbl  17_2bbl  \\\n",
              "88  -0.321839  0.566667  -1.764706  ...          0       0        0        0   \n",
              "109  0.344828 -0.333333  -0.705882  ...          0       0        0        0   \n",
              "23  -0.643678  0.333333  -1.647059  ...          0       0        0        0   \n",
              "12   0.000000 -0.333333   0.000000  ...          0       0        0        0   \n",
              "68   0.620690  1.166667  14.705882  ...          0       0        0        0   \n",
              "\n",
              "     17_4bbl  17_idi  17_mfi  17_mpfi  17_spdi  17_spfi  \n",
              "88         0       0       0        0        1        0  \n",
              "109        0       0       0        1        0        0  \n",
              "23         0       0       0        1        0        0  \n",
              "12         0       0       0        1        0        0  \n",
              "68         0       1       0        0        0        0  \n",
              "\n",
              "[5 rows x 79 columns]"
            ],
            "text/html": [
              "\n",
              "  <div id=\"df-9c7a8819-f786-48d1-846a-9848d86cf5ef\">\n",
              "    <div class=\"colab-df-container\">\n",
              "      <div>\n",
              "<style scoped>\n",
              "    .dataframe tbody tr th:only-of-type {\n",
              "        vertical-align: middle;\n",
              "    }\n",
              "\n",
              "    .dataframe tbody tr th {\n",
              "        vertical-align: top;\n",
              "    }\n",
              "\n",
              "    .dataframe thead th {\n",
              "        text-align: right;\n",
              "    }\n",
              "</style>\n",
              "<table border=\"1\" class=\"dataframe\">\n",
              "  <thead>\n",
              "    <tr style=\"text-align: right;\">\n",
              "      <th></th>\n",
              "      <th>1</th>\n",
              "      <th>9</th>\n",
              "      <th>10</th>\n",
              "      <th>11</th>\n",
              "      <th>12</th>\n",
              "      <th>13</th>\n",
              "      <th>16</th>\n",
              "      <th>18</th>\n",
              "      <th>19</th>\n",
              "      <th>20</th>\n",
              "      <th>...</th>\n",
              "      <th>15_twelve</th>\n",
              "      <th>15_two</th>\n",
              "      <th>17_1bbl</th>\n",
              "      <th>17_2bbl</th>\n",
              "      <th>17_4bbl</th>\n",
              "      <th>17_idi</th>\n",
              "      <th>17_mfi</th>\n",
              "      <th>17_mpfi</th>\n",
              "      <th>17_spdi</th>\n",
              "      <th>17_spfi</th>\n",
              "    </tr>\n",
              "  </thead>\n",
              "  <tbody>\n",
              "    <tr>\n",
              "      <th>88</th>\n",
              "      <td>-2.349566</td>\n",
              "      <td>-12.277167</td>\n",
              "      <td>-0.047198</td>\n",
              "      <td>-25.186427</td>\n",
              "      <td>-0.704225</td>\n",
              "      <td>-0.014221</td>\n",
              "      <td>-2.608370</td>\n",
              "      <td>-0.321839</td>\n",
              "      <td>0.566667</td>\n",
              "      <td>-1.764706</td>\n",
              "      <td>...</td>\n",
              "      <td>0</td>\n",
              "      <td>0</td>\n",
              "      <td>0</td>\n",
              "      <td>0</td>\n",
              "      <td>0</td>\n",
              "      <td>0</td>\n",
              "      <td>0</td>\n",
              "      <td>0</td>\n",
              "      <td>1</td>\n",
              "      <td>0</td>\n",
              "    </tr>\n",
              "    <tr>\n",
              "      <th>109</th>\n",
              "      <td>-2.359942</td>\n",
              "      <td>-12.277373</td>\n",
              "      <td>1.516224</td>\n",
              "      <td>-25.186685</td>\n",
              "      <td>1.295775</td>\n",
              "      <td>1.054945</td>\n",
              "      <td>-2.608367</td>\n",
              "      <td>0.344828</td>\n",
              "      <td>-0.333333</td>\n",
              "      <td>-0.705882</td>\n",
              "      <td>...</td>\n",
              "      <td>0</td>\n",
              "      <td>0</td>\n",
              "      <td>0</td>\n",
              "      <td>0</td>\n",
              "      <td>0</td>\n",
              "      <td>0</td>\n",
              "      <td>0</td>\n",
              "      <td>1</td>\n",
              "      <td>0</td>\n",
              "      <td>0</td>\n",
              "    </tr>\n",
              "    <tr>\n",
              "      <th>23</th>\n",
              "      <td>-2.352811</td>\n",
              "      <td>-12.277130</td>\n",
              "      <td>-0.938053</td>\n",
              "      <td>-25.186279</td>\n",
              "      <td>-0.929577</td>\n",
              "      <td>-0.369748</td>\n",
              "      <td>-2.608370</td>\n",
              "      <td>-0.643678</td>\n",
              "      <td>0.333333</td>\n",
              "      <td>-1.647059</td>\n",
              "      <td>...</td>\n",
              "      <td>0</td>\n",
              "      <td>0</td>\n",
              "      <td>0</td>\n",
              "      <td>0</td>\n",
              "      <td>0</td>\n",
              "      <td>0</td>\n",
              "      <td>0</td>\n",
              "      <td>1</td>\n",
              "      <td>0</td>\n",
              "      <td>0</td>\n",
              "    </tr>\n",
              "    <tr>\n",
              "      <th>12</th>\n",
              "      <td>-2.342686</td>\n",
              "      <td>-12.277230</td>\n",
              "      <td>0.212389</td>\n",
              "      <td>-25.186372</td>\n",
              "      <td>0.056338</td>\n",
              "      <td>0.382676</td>\n",
              "      <td>-2.608365</td>\n",
              "      <td>0.000000</td>\n",
              "      <td>-0.333333</td>\n",
              "      <td>0.000000</td>\n",
              "      <td>...</td>\n",
              "      <td>0</td>\n",
              "      <td>0</td>\n",
              "      <td>0</td>\n",
              "      <td>0</td>\n",
              "      <td>0</td>\n",
              "      <td>0</td>\n",
              "      <td>0</td>\n",
              "      <td>1</td>\n",
              "      <td>0</td>\n",
              "      <td>0</td>\n",
              "    </tr>\n",
              "    <tr>\n",
              "      <th>68</th>\n",
              "      <td>-2.357987</td>\n",
              "      <td>-12.277330</td>\n",
              "      <td>1.044248</td>\n",
              "      <td>-25.186837</td>\n",
              "      <td>1.295775</td>\n",
              "      <td>1.727214</td>\n",
              "      <td>-2.608358</td>\n",
              "      <td>0.620690</td>\n",
              "      <td>1.166667</td>\n",
              "      <td>14.705882</td>\n",
              "      <td>...</td>\n",
              "      <td>0</td>\n",
              "      <td>0</td>\n",
              "      <td>0</td>\n",
              "      <td>0</td>\n",
              "      <td>0</td>\n",
              "      <td>1</td>\n",
              "      <td>0</td>\n",
              "      <td>0</td>\n",
              "      <td>0</td>\n",
              "      <td>0</td>\n",
              "    </tr>\n",
              "  </tbody>\n",
              "</table>\n",
              "<p>5 rows × 79 columns</p>\n",
              "</div>\n",
              "      <button class=\"colab-df-convert\" onclick=\"convertToInteractive('df-9c7a8819-f786-48d1-846a-9848d86cf5ef')\"\n",
              "              title=\"Convert this dataframe to an interactive table.\"\n",
              "              style=\"display:none;\">\n",
              "        \n",
              "  <svg xmlns=\"http://www.w3.org/2000/svg\" height=\"24px\"viewBox=\"0 0 24 24\"\n",
              "       width=\"24px\">\n",
              "    <path d=\"M0 0h24v24H0V0z\" fill=\"none\"/>\n",
              "    <path d=\"M18.56 5.44l.94 2.06.94-2.06 2.06-.94-2.06-.94-.94-2.06-.94 2.06-2.06.94zm-11 1L8.5 8.5l.94-2.06 2.06-.94-2.06-.94L8.5 2.5l-.94 2.06-2.06.94zm10 10l.94 2.06.94-2.06 2.06-.94-2.06-.94-.94-2.06-.94 2.06-2.06.94z\"/><path d=\"M17.41 7.96l-1.37-1.37c-.4-.4-.92-.59-1.43-.59-.52 0-1.04.2-1.43.59L10.3 9.45l-7.72 7.72c-.78.78-.78 2.05 0 2.83L4 21.41c.39.39.9.59 1.41.59.51 0 1.02-.2 1.41-.59l7.78-7.78 2.81-2.81c.8-.78.8-2.07 0-2.86zM5.41 20L4 18.59l7.72-7.72 1.47 1.35L5.41 20z\"/>\n",
              "  </svg>\n",
              "      </button>\n",
              "      \n",
              "  <style>\n",
              "    .colab-df-container {\n",
              "      display:flex;\n",
              "      flex-wrap:wrap;\n",
              "      gap: 12px;\n",
              "    }\n",
              "\n",
              "    .colab-df-convert {\n",
              "      background-color: #E8F0FE;\n",
              "      border: none;\n",
              "      border-radius: 50%;\n",
              "      cursor: pointer;\n",
              "      display: none;\n",
              "      fill: #1967D2;\n",
              "      height: 32px;\n",
              "      padding: 0 0 0 0;\n",
              "      width: 32px;\n",
              "    }\n",
              "\n",
              "    .colab-df-convert:hover {\n",
              "      background-color: #E2EBFA;\n",
              "      box-shadow: 0px 1px 2px rgba(60, 64, 67, 0.3), 0px 1px 3px 1px rgba(60, 64, 67, 0.15);\n",
              "      fill: #174EA6;\n",
              "    }\n",
              "\n",
              "    [theme=dark] .colab-df-convert {\n",
              "      background-color: #3B4455;\n",
              "      fill: #D2E3FC;\n",
              "    }\n",
              "\n",
              "    [theme=dark] .colab-df-convert:hover {\n",
              "      background-color: #434B5C;\n",
              "      box-shadow: 0px 1px 3px 1px rgba(0, 0, 0, 0.15);\n",
              "      filter: drop-shadow(0px 1px 2px rgba(0, 0, 0, 0.3));\n",
              "      fill: #FFFFFF;\n",
              "    }\n",
              "  </style>\n",
              "\n",
              "      <script>\n",
              "        const buttonEl =\n",
              "          document.querySelector('#df-9c7a8819-f786-48d1-846a-9848d86cf5ef button.colab-df-convert');\n",
              "        buttonEl.style.display =\n",
              "          google.colab.kernel.accessAllowed ? 'block' : 'none';\n",
              "\n",
              "        async function convertToInteractive(key) {\n",
              "          const element = document.querySelector('#df-9c7a8819-f786-48d1-846a-9848d86cf5ef');\n",
              "          const dataTable =\n",
              "            await google.colab.kernel.invokeFunction('convertToInteractive',\n",
              "                                                     [key], {});\n",
              "          if (!dataTable) return;\n",
              "\n",
              "          const docLinkHtml = 'Like what you see? Visit the ' +\n",
              "            '<a target=\"_blank\" href=https://colab.research.google.com/notebooks/data_table.ipynb>data table notebook</a>'\n",
              "            + ' to learn more about interactive tables.';\n",
              "          element.innerHTML = '';\n",
              "          dataTable['output_type'] = 'display_data';\n",
              "          await google.colab.output.renderOutput(dataTable, element);\n",
              "          const docLink = document.createElement('div');\n",
              "          docLink.innerHTML = docLinkHtml;\n",
              "          element.appendChild(docLink);\n",
              "        }\n",
              "      </script>\n",
              "    </div>\n",
              "  </div>\n",
              "  "
            ]
          },
          "metadata": {},
          "execution_count": 791
        }
      ]
    },
    {
      "cell_type": "code",
      "source": [
        "ytrain[:5]"
      ],
      "metadata": {
        "colab": {
          "base_uri": "https://localhost:8080/"
        },
        "id": "ynBqBUQTmx5i",
        "outputId": "d3b29139-a285-40ec-e46c-96f0eaa66c31"
      },
      "execution_count": 792,
      "outputs": [
        {
          "output_type": "execute_result",
          "data": {
            "text/plain": [
              "54      7395.0\n",
              "172    17669.0\n",
              "145    11259.0\n",
              "114    17075.0\n",
              "117    18150.0\n",
              "Name: price, dtype: float64"
            ]
          },
          "metadata": {},
          "execution_count": 792
        }
      ]
    },
    {
      "cell_type": "code",
      "source": [
        "ytest[:5]"
      ],
      "metadata": {
        "colab": {
          "base_uri": "https://localhost:8080/"
        },
        "id": "0mE75UiImyPY",
        "outputId": "dcae3c6e-6d83-46ec-c9a3-e85636f7bb8b"
      },
      "execution_count": 793,
      "outputs": [
        {
          "output_type": "execute_result",
          "data": {
            "text/plain": [
              "88      9279.0\n",
              "109    12440.0\n",
              "23      7957.0\n",
              "12     20970.0\n",
              "68     28248.0\n",
              "Name: price, dtype: float64"
            ]
          },
          "metadata": {},
          "execution_count": 793
        }
      ]
    },
    {
      "cell_type": "code",
      "source": [
        "xtrain.info()"
      ],
      "metadata": {
        "colab": {
          "base_uri": "https://localhost:8080/"
        },
        "id": "iJ57A4IUs_TG",
        "outputId": "ed5eb7da-2c19-43f4-8001-b4358488566c"
      },
      "execution_count": 794,
      "outputs": [
        {
          "output_type": "stream",
          "name": "stdout",
          "text": [
            "<class 'pandas.core.frame.DataFrame'>\n",
            "Int64Index: 133 entries, 54 to 181\n",
            "Data columns (total 79 columns):\n",
            " #   Column           Non-Null Count  Dtype  \n",
            "---  ------           --------------  -----  \n",
            " 0   1                133 non-null    float64\n",
            " 1   9                133 non-null    float64\n",
            " 2   10               133 non-null    float64\n",
            " 3   11               133 non-null    float64\n",
            " 4   12               133 non-null    float64\n",
            " 5   13               133 non-null    float64\n",
            " 6   16               133 non-null    float64\n",
            " 7   18               133 non-null    float64\n",
            " 8   19               133 non-null    float64\n",
            " 9   20               133 non-null    float64\n",
            " 10  21               133 non-null    float64\n",
            " 11  22               133 non-null    float64\n",
            " 12  23               133 non-null    float64\n",
            " 13  24               133 non-null    float64\n",
            " 14  0_-1             133 non-null    uint8  \n",
            " 15  0_-2             133 non-null    uint8  \n",
            " 16  0_0              133 non-null    uint8  \n",
            " 17  0_1              133 non-null    uint8  \n",
            " 18  0_2              133 non-null    uint8  \n",
            " 19  0_3              133 non-null    uint8  \n",
            " 20  2_alfa-romero    133 non-null    uint8  \n",
            " 21  2_audi           133 non-null    uint8  \n",
            " 22  2_bmw            133 non-null    uint8  \n",
            " 23  2_chevrolet      133 non-null    uint8  \n",
            " 24  2_dodge          133 non-null    uint8  \n",
            " 25  2_honda          133 non-null    uint8  \n",
            " 26  2_isuzu          133 non-null    uint8  \n",
            " 27  2_jaguar         133 non-null    uint8  \n",
            " 28  2_mazda          133 non-null    uint8  \n",
            " 29  2_mercedes-benz  133 non-null    uint8  \n",
            " 30  2_mercury        133 non-null    uint8  \n",
            " 31  2_mitsubishi     133 non-null    uint8  \n",
            " 32  2_nissan         133 non-null    uint8  \n",
            " 33  2_peugot         133 non-null    uint8  \n",
            " 34  2_plymouth       133 non-null    uint8  \n",
            " 35  2_porsche        133 non-null    uint8  \n",
            " 36  2_saab           133 non-null    uint8  \n",
            " 37  2_subaru         133 non-null    uint8  \n",
            " 38  2_toyota         133 non-null    uint8  \n",
            " 39  2_volkswagen     133 non-null    uint8  \n",
            " 40  2_volvo          133 non-null    uint8  \n",
            " 41  3_diesel         133 non-null    uint8  \n",
            " 42  3_gas            133 non-null    uint8  \n",
            " 43  4_std            133 non-null    uint8  \n",
            " 44  4_turbo          133 non-null    uint8  \n",
            " 45  5_?              133 non-null    uint8  \n",
            " 46  5_four           133 non-null    uint8  \n",
            " 47  5_two            133 non-null    uint8  \n",
            " 48  6_convertible    133 non-null    uint8  \n",
            " 49  6_hardtop        133 non-null    uint8  \n",
            " 50  6_hatchback      133 non-null    uint8  \n",
            " 51  6_sedan          133 non-null    uint8  \n",
            " 52  6_wagon          133 non-null    uint8  \n",
            " 53  7_4wd            133 non-null    uint8  \n",
            " 54  7_fwd            133 non-null    uint8  \n",
            " 55  7_rwd            133 non-null    uint8  \n",
            " 56  8_front          133 non-null    uint8  \n",
            " 57  8_rear           133 non-null    uint8  \n",
            " 58  14_dohc          133 non-null    uint8  \n",
            " 59  14_l             133 non-null    uint8  \n",
            " 60  14_ohc           133 non-null    uint8  \n",
            " 61  14_ohcf          133 non-null    uint8  \n",
            " 62  14_ohcv          133 non-null    uint8  \n",
            " 63  14_rotor         133 non-null    uint8  \n",
            " 64  15_eight         133 non-null    uint8  \n",
            " 65  15_five          133 non-null    uint8  \n",
            " 66  15_four          133 non-null    uint8  \n",
            " 67  15_six           133 non-null    uint8  \n",
            " 68  15_three         133 non-null    uint8  \n",
            " 69  15_twelve        133 non-null    uint8  \n",
            " 70  15_two           133 non-null    uint8  \n",
            " 71  17_1bbl          133 non-null    uint8  \n",
            " 72  17_2bbl          133 non-null    uint8  \n",
            " 73  17_4bbl          133 non-null    uint8  \n",
            " 74  17_idi           133 non-null    uint8  \n",
            " 75  17_mfi           133 non-null    uint8  \n",
            " 76  17_mpfi          133 non-null    uint8  \n",
            " 77  17_spdi          133 non-null    uint8  \n",
            " 78  17_spfi          133 non-null    uint8  \n",
            "dtypes: float64(14), uint8(65)\n",
            "memory usage: 24.0 KB\n"
          ]
        }
      ]
    },
    {
      "cell_type": "code",
      "source": [
        "xtest.info()"
      ],
      "metadata": {
        "colab": {
          "base_uri": "https://localhost:8080/"
        },
        "id": "gUY2Hu-rtDK6",
        "outputId": "e7c03220-764a-4643-ac47-adc6a7120c86"
      },
      "execution_count": 795,
      "outputs": [
        {
          "output_type": "stream",
          "name": "stdout",
          "text": [
            "<class 'pandas.core.frame.DataFrame'>\n",
            "Int64Index: 66 entries, 88 to 204\n",
            "Data columns (total 79 columns):\n",
            " #   Column           Non-Null Count  Dtype  \n",
            "---  ------           --------------  -----  \n",
            " 0   1                66 non-null     float64\n",
            " 1   9                66 non-null     float64\n",
            " 2   10               66 non-null     float64\n",
            " 3   11               66 non-null     float64\n",
            " 4   12               66 non-null     float64\n",
            " 5   13               66 non-null     float64\n",
            " 6   16               66 non-null     float64\n",
            " 7   18               66 non-null     float64\n",
            " 8   19               66 non-null     float64\n",
            " 9   20               66 non-null     float64\n",
            " 10  21               66 non-null     float64\n",
            " 11  22               66 non-null     float64\n",
            " 12  23               66 non-null     float64\n",
            " 13  24               66 non-null     float64\n",
            " 14  0_-1             66 non-null     uint8  \n",
            " 15  0_-2             66 non-null     uint8  \n",
            " 16  0_0              66 non-null     uint8  \n",
            " 17  0_1              66 non-null     uint8  \n",
            " 18  0_2              66 non-null     uint8  \n",
            " 19  0_3              66 non-null     uint8  \n",
            " 20  2_alfa-romero    66 non-null     uint8  \n",
            " 21  2_audi           66 non-null     uint8  \n",
            " 22  2_bmw            66 non-null     uint8  \n",
            " 23  2_chevrolet      66 non-null     uint8  \n",
            " 24  2_dodge          66 non-null     uint8  \n",
            " 25  2_honda          66 non-null     uint8  \n",
            " 26  2_isuzu          66 non-null     uint8  \n",
            " 27  2_jaguar         66 non-null     uint8  \n",
            " 28  2_mazda          66 non-null     uint8  \n",
            " 29  2_mercedes-benz  66 non-null     uint8  \n",
            " 30  2_mercury        66 non-null     uint8  \n",
            " 31  2_mitsubishi     66 non-null     uint8  \n",
            " 32  2_nissan         66 non-null     uint8  \n",
            " 33  2_peugot         66 non-null     uint8  \n",
            " 34  2_plymouth       66 non-null     uint8  \n",
            " 35  2_porsche        66 non-null     uint8  \n",
            " 36  2_saab           66 non-null     uint8  \n",
            " 37  2_subaru         66 non-null     uint8  \n",
            " 38  2_toyota         66 non-null     uint8  \n",
            " 39  2_volkswagen     66 non-null     uint8  \n",
            " 40  2_volvo          66 non-null     uint8  \n",
            " 41  3_diesel         66 non-null     uint8  \n",
            " 42  3_gas            66 non-null     uint8  \n",
            " 43  4_std            66 non-null     uint8  \n",
            " 44  4_turbo          66 non-null     uint8  \n",
            " 45  5_?              66 non-null     uint8  \n",
            " 46  5_four           66 non-null     uint8  \n",
            " 47  5_two            66 non-null     uint8  \n",
            " 48  6_convertible    66 non-null     uint8  \n",
            " 49  6_hardtop        66 non-null     uint8  \n",
            " 50  6_hatchback      66 non-null     uint8  \n",
            " 51  6_sedan          66 non-null     uint8  \n",
            " 52  6_wagon          66 non-null     uint8  \n",
            " 53  7_4wd            66 non-null     uint8  \n",
            " 54  7_fwd            66 non-null     uint8  \n",
            " 55  7_rwd            66 non-null     uint8  \n",
            " 56  8_front          66 non-null     uint8  \n",
            " 57  8_rear           66 non-null     uint8  \n",
            " 58  14_dohc          66 non-null     uint8  \n",
            " 59  14_l             66 non-null     uint8  \n",
            " 60  14_ohc           66 non-null     uint8  \n",
            " 61  14_ohcf          66 non-null     uint8  \n",
            " 62  14_ohcv          66 non-null     uint8  \n",
            " 63  14_rotor         66 non-null     uint8  \n",
            " 64  15_eight         66 non-null     uint8  \n",
            " 65  15_five          66 non-null     uint8  \n",
            " 66  15_four          66 non-null     uint8  \n",
            " 67  15_six           66 non-null     uint8  \n",
            " 68  15_three         66 non-null     uint8  \n",
            " 69  15_twelve        66 non-null     uint8  \n",
            " 70  15_two           66 non-null     uint8  \n",
            " 71  17_1bbl          66 non-null     uint8  \n",
            " 72  17_2bbl          66 non-null     uint8  \n",
            " 73  17_4bbl          66 non-null     uint8  \n",
            " 74  17_idi           66 non-null     uint8  \n",
            " 75  17_mfi           66 non-null     uint8  \n",
            " 76  17_mpfi          66 non-null     uint8  \n",
            " 77  17_spdi          66 non-null     uint8  \n",
            " 78  17_spfi          66 non-null     uint8  \n",
            "dtypes: float64(14), uint8(65)\n",
            "memory usage: 11.9 KB\n"
          ]
        }
      ]
    },
    {
      "cell_type": "markdown",
      "source": [
        "## Running the regression model"
      ],
      "metadata": {
        "id": "7zVruHKsltlF"
      }
    },
    {
      "cell_type": "code",
      "source": [
        "cars_regr = LinearRegression().fit(xtrain, ytrain)"
      ],
      "metadata": {
        "colab": {
          "base_uri": "https://localhost:8080/"
        },
        "id": "2pynJmD9sr_X",
        "outputId": "4684b5c3-2205-4b6c-9b83-558a607253f4"
      },
      "execution_count": 796,
      "outputs": [
        {
          "output_type": "stream",
          "name": "stderr",
          "text": [
            "/usr/local/lib/python3.7/dist-packages/sklearn/utils/validation.py:1692: FutureWarning: Feature names only support names that are all strings. Got feature names with dtypes: ['int', 'str']. An error will be raised in 1.2.\n",
            "  FutureWarning,\n"
          ]
        }
      ]
    },
    {
      "cell_type": "code",
      "source": [
        "ypred = regression.predict(xtest)"
      ],
      "metadata": {
        "colab": {
          "base_uri": "https://localhost:8080/"
        },
        "id": "silWm7TotZwl",
        "outputId": "cbab0d4c-fe48-4c26-c4b9-0e6347440597"
      },
      "execution_count": 797,
      "outputs": [
        {
          "output_type": "stream",
          "name": "stderr",
          "text": [
            "/usr/local/lib/python3.7/dist-packages/sklearn/utils/validation.py:1692: FutureWarning: Feature names only support names that are all strings. Got feature names with dtypes: ['int', 'str']. An error will be raised in 1.2.\n",
            "  FutureWarning,\n"
          ]
        }
      ]
    },
    {
      "cell_type": "code",
      "source": [
        "ypred"
      ],
      "metadata": {
        "colab": {
          "base_uri": "https://localhost:8080/"
        },
        "id": "9LMQYjQ5rClW",
        "outputId": "c86b705f-1fc7-424c-b3eb-e4ce0d2346a7"
      },
      "execution_count": 798,
      "outputs": [
        {
          "output_type": "execute_result",
          "data": {
            "text/plain": [
              "array([ 5849.35630345, 15548.68056893, 11735.87857556, 24837.76956654,\n",
              "       26351.25221205, 17393.33871365,  6095.13474011, 14295.62373781,\n",
              "        6999.59274435,  5875.72765589, 20046.00475216, 13943.80589318,\n",
              "       14315.8240211 , 14236.22354388, 14944.90765238,  7895.64775157,\n",
              "        6551.69816637, 15127.94480586,  8840.60557771, 12282.39170098,\n",
              "        9618.11223054,  7911.45088267, 13465.59003115, 10607.88512325,\n",
              "        4731.77455306,  7819.59983087,  7728.7152257 , 22439.31508708,\n",
              "        6751.66593504, 33083.19163513, 11321.6782043 ,  7809.99294019,\n",
              "        8811.91524792,  4732.94833922,  8505.22951531,  8232.9075892 ,\n",
              "       34635.3144424 ,  5741.78147435, 11205.7937305 , 14552.92874098,\n",
              "        8677.08766747, 16494.31561494,  3809.1916976 ,  8335.04046655,\n",
              "        8334.193151  ,  7110.25321817,  7345.8306179 ,  8772.1669333 ,\n",
              "       27114.84514332, 10434.57038403,  9230.53698444,  7240.30149198,\n",
              "       16485.65014172,  5760.88063025, 15570.95336246,  7835.84774733,\n",
              "       11124.72929192, 13015.44737101, 11599.00527978,  9527.11795259,\n",
              "        4560.41235733, 11024.35689068, 33031.73468089, 10393.14297032,\n",
              "        9582.47540832, 19648.1316123 ])"
            ]
          },
          "metadata": {},
          "execution_count": 798
        }
      ]
    },
    {
      "cell_type": "markdown",
      "source": [
        "## Analyzing the results"
      ],
      "metadata": {
        "id": "qU92X2OAlxY6"
      }
    },
    {
      "cell_type": "code",
      "source": [
        "mse = mean_squared_error(ytest, ypred)\n",
        "rmse = np.sqrt(mse)\n",
        "mae = mean_absolute_error(ytest, ypred)"
      ],
      "metadata": {
        "id": "rqfIYBwrtNad"
      },
      "execution_count": 799,
      "outputs": []
    },
    {
      "cell_type": "code",
      "source": [
        "print('Mean Square Error: ' + str(mse))\n",
        "print('Root Mean Square Error: ' + str(rmse))\n",
        "print('Mean Absolute Error: ' + str(mae))"
      ],
      "metadata": {
        "colab": {
          "base_uri": "https://localhost:8080/"
        },
        "id": "igd0ep9Dtf4-",
        "outputId": "40a4db9d-7133-4409-97d6-2c11a12c3f89"
      },
      "execution_count": 800,
      "outputs": [
        {
          "output_type": "stream",
          "name": "stdout",
          "text": [
            "Mean Square Error: 9941385.84377247\n",
            "Root Mean Square Error: 3152.9963279034228\n",
            "Mean Absolute Error: 2325.4157074075756\n"
          ]
        }
      ]
    },
    {
      "cell_type": "code",
      "source": [
        "plt.scatter(ytest, ypred)"
      ],
      "metadata": {
        "colab": {
          "base_uri": "https://localhost:8080/",
          "height": 282
        },
        "id": "H1KuQ35LtzZ4",
        "outputId": "b788a459-a80d-4758-c04a-7fe348d6cb9c"
      },
      "execution_count": 801,
      "outputs": [
        {
          "output_type": "execute_result",
          "data": {
            "text/plain": [
              "<matplotlib.collections.PathCollection at 0x7f9bf801add0>"
            ]
          },
          "metadata": {},
          "execution_count": 801
        },
        {
          "output_type": "display_data",
          "data": {
            "text/plain": [
              "<Figure size 432x288 with 1 Axes>"
            ],
            "image/png": "[encoded data removed]"
          },
          "metadata": {
            "needs_background": "light"
          }
        }
      ]
    },
    {
      "cell_type": "code",
      "source": [
        "cars.price.hist()"
      ],
      "metadata": {
        "colab": {
          "base_uri": "https://localhost:8080/",
          "height": 282
        },
        "id": "17SZw3H9vTKN",
        "outputId": "33359422-d609-421a-99cb-c49caaa74cd5"
      },
      "execution_count": 802,
      "outputs": [
        {
          "output_type": "execute_result",
          "data": {
            "text/plain": [
              "<matplotlib.axes._subplots.AxesSubplot at 0x7f9bf822f2d0>"
            ]
          },
          "metadata": {},
          "execution_count": 802
        },
        {
          "output_type": "display_data",
          "data": {
            "text/plain": [
              "<Figure size 432x288 with 1 Axes>"
            ],
            "image/png": "[encoded data removed]"
          },
          "metadata": {
            "needs_background": "light"
          }
        }
      ]
    }
  ]
}