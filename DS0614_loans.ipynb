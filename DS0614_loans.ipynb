{
  "nbformat": 4,
  "nbformat_minor": 0,
  "metadata": {
    "colab": {
      "name": "DS0614-loans.ipynb",
      "provenance": [],
      "toc_visible": true,
      "authorship_tag": "ABX9TyNcHqjo4+r6gN5FLTemENqt",
      "include_colab_link": true
    },
    "kernelspec": {
      "name": "python3",
      "display_name": "Python 3"
    },
    "language_info": {
      "name": "python"
    }
  },
  "cells": [
    {
      "cell_type": "markdown",
      "metadata": {
        "id": "view-in-github",
        "colab_type": "text"
      },
      "source": [
        "<a href=\"https://colab.research.google.com/github/zdanielshi/data_science_LFZ/blob/main/DS0614_loans.ipynb\" target=\"_parent\"><img src=\"https://colab.research.google.com/assets/colab-badge.svg\" alt=\"Open In Colab\"/></a>"
      ]
    },
    {
      "cell_type": "code",
      "execution_count": null,
      "metadata": {
        "id": "j8jK-NQl5W36"
      },
      "outputs": [],
      "source": [
        "import pandas as pd\n",
        "import numpy as np\n",
        "import matplotlib.pyplot as plt\n",
        "import seaborn as sns"
      ]
    },
    {
      "cell_type": "code",
      "source": [
        "loans = pd.read_csv('/content/LoansDataset.csv')"
      ],
      "metadata": {
        "colab": {
          "base_uri": "https://localhost:8080/"
        },
        "id": "394oGsyP5lwv",
        "outputId": "009fb694-e181-44bb-bea5-cb6d102bdfe3"
      },
      "execution_count": null,
      "outputs": [
        {
          "output_type": "stream",
          "name": "stderr",
          "text": [
            "/usr/local/lib/python3.7/dist-packages/IPython/core/interactiveshell.py:2882: DtypeWarning: Columns (10,16) have mixed types.Specify dtype option on import or set low_memory=False.\n",
            "  exec(code_obj, self.user_global_ns, self.user_ns)\n"
          ]
        }
      ]
    },
    {
      "cell_type": "code",
      "source": [
        "loans"
      ],
      "metadata": {
        "colab": {
          "base_uri": "https://localhost:8080/",
          "height": 849
        },
        "id": "KLAA7fp076S-",
        "outputId": "5f560cf0-cd08-4c84-b68a-f75f4cec7a6c"
      },
      "execution_count": null,
      "outputs": [
        {
          "output_type": "execute_result",
          "data": {
            "text/plain": [
              "                                     Loan ID  \\\n",
              "0       6cf51492-02a2-423e-b93d-676f05b9ad53   \n",
              "1       552e7ade-4292-4354-9ff9-c48031697d72   \n",
              "2       9b5e32b3-8d76-4801-afc8-d729d5a2e6b9   \n",
              "3       5419b7c7-ac11-4be2-a8a7-b131fb6d6dbe   \n",
              "4       1450910f-9495-4fc9-afaf-9bdf4b9821df   \n",
              "...                                      ...   \n",
              "111102  503f01e2-c3c4-4b10-886e-f15de57b6f1a   \n",
              "111103  8af53bc0-56a4-4801-a960-52a46a90b33f   \n",
              "111104  96efd327-f965-42ae-8b2b-d2555205ce19   \n",
              "111105  ec19166c-70c5-4d49-adb6-fb3fc15024a2   \n",
              "111106  f83ae0e1-bd30-46c7-9f72-f4f9fe2f36ca   \n",
              "\n",
              "                                 Customer ID  Loan Status  \\\n",
              "0       7c202b37-2add-44e8-9aea-d5b119aea935  Charged Off   \n",
              "1       e7217b0a-07ac-47dd-b379-577b5a35b7c6  Charged Off   \n",
              "2       0a62fc41-16c8-40b5-92ff-9e4b763ce714  Charged Off   \n",
              "3       30f36c59-5182-4482-8bbb-5b736849ae43  Charged Off   \n",
              "4       70c26012-bba5-42c0-8dcb-75295ada31bb  Charged Off   \n",
              "...                                      ...          ...   \n",
              "111102  27a17610-1d8c-48a7-b0db-2d81a4fa099a   Fully Paid   \n",
              "111103  c124ca71-f42a-47cc-8ec2-236f7e9868a5   Fully Paid   \n",
              "111104  7d959a54-8eeb-4df6-b582-046f889e4cff   Fully Paid   \n",
              "111105  5723fbf2-1ce8-4752-8bee-1bebf339f278   Fully Paid   \n",
              "111106  74187e35-39c2-4010-ae0d-8bcd0544189e   Fully Paid   \n",
              "\n",
              "        Current Loan Amount        Term  Credit Score Years in current job  \\\n",
              "0                     12232  Short Term        7280.0             < 1 year   \n",
              "1                     25014   Long Term        7330.0            10+ years   \n",
              "2                     16117  Short Term        7240.0              9 years   \n",
              "3                     11716  Short Term        7400.0              3 years   \n",
              "4                      9789   Long Term        6860.0            10+ years   \n",
              "...                     ...         ...           ...                  ...   \n",
              "111102                15654   Long Term         686.0            10+ years   \n",
              "111103                15237  Short Term         706.0            10+ years   \n",
              "111104                10413  Short Term         719.0              5 years   \n",
              "111105                34447  Short Term         626.0            10+ years   \n",
              "111106                 9209   Long Term         708.0             < 1 year   \n",
              "\n",
              "       Home Ownership  Annual Income             Purpose Monthly Debt  \\\n",
              "0                Rent        46643.0  Debt Consolidation       777.39   \n",
              "1       Home Mortgage        81099.0  Debt Consolidation       892.09   \n",
              "2       Home Mortgage        60438.0   Home Improvements      1244.02   \n",
              "3                Rent        34171.0  Debt Consolidation       990.94   \n",
              "4       Home Mortgage        47003.0   Home Improvements       503.71   \n",
              "...               ...            ...                 ...          ...   \n",
              "111102           Rent        43050.0  Debt Consolidation       889.69   \n",
              "111103  Home Mortgage        60948.0  Debt Consolidation        700.9   \n",
              "111104  Home Mortgage        66945.0  Debt Consolidation      1210.59   \n",
              "111105  Home Mortgage        78736.0  Debt Consolidation       1476.3   \n",
              "111106       Own Home       123454.0  Debt Consolidation       668.71   \n",
              "\n",
              "        Years of Credit History  Months since last delinquent  \\\n",
              "0                          18.0                          10.0   \n",
              "1                          26.7                           NaN   \n",
              "2                          16.7                          32.0   \n",
              "3                          10.0                           NaN   \n",
              "4                          16.7                          25.0   \n",
              "...                         ...                           ...   \n",
              "111102                     14.1                          49.0   \n",
              "111103                     15.9                          48.0   \n",
              "111104                      8.7                           NaN   \n",
              "111105                     30.4                           9.0   \n",
              "111106                     20.1                          16.0   \n",
              "\n",
              "        Number of Open Accounts  Number of Credit Problems  \\\n",
              "0                            12                          0   \n",
              "1                            14                          0   \n",
              "2                            11                          1   \n",
              "3                            21                          0   \n",
              "4                            13                          1   \n",
              "...                         ...                        ...   \n",
              "111102                       18                          0   \n",
              "111103                       11                          0   \n",
              "111104                       11                          0   \n",
              "111105                       12                          0   \n",
              "111106                        8                          0   \n",
              "\n",
              "        Current Credit Balance Maximum Open Credit  Bankruptcies  Tax Liens  \n",
              "0                         6762                7946           0.0        0.0  \n",
              "1                        35706               77961           0.0        0.0  \n",
              "2                        11275               14815           1.0        0.0  \n",
              "3                         7009               43533           0.0        0.0  \n",
              "4                        16913               19553           1.0        0.0  \n",
              "...                        ...                 ...           ...        ...  \n",
              "111102                   14730               29757           0.0        0.0  \n",
              "111103                   17733               23060           0.0        0.0  \n",
              "111104                    5205                6348           0.0        0.0  \n",
              "111105                   32318               37580           0.0        0.0  \n",
              "111106                    6835                9261           0.0        0.0  \n",
              "\n",
              "[111107 rows x 19 columns]"
            ],
            "text/html": [
              "\n",
              "  <div id=\"df-f98f81f4-2ac1-44b2-83b9-f97b4235f7d5\">\n",
              "    <div class=\"colab-df-container\">\n",
              "      <div>\n",
              "<style scoped>\n",
              "    .dataframe tbody tr th:only-of-type {\n",
              "        vertical-align: middle;\n",
              "    }\n",
              "\n",
              "    .dataframe tbody tr th {\n",
              "        vertical-align: top;\n",
              "    }\n",
              "\n",
              "    .dataframe thead th {\n",
              "        text-align: right;\n",
              "    }\n",
              "</style>\n",
              "<table border=\"1\" class=\"dataframe\">\n",
              "  <thead>\n",
              "    <tr style=\"text-align: right;\">\n",
              "      <th></th>\n",
              "      <th>Loan ID</th>\n",
              "      <th>Customer ID</th>\n",
              "      <th>Loan Status</th>\n",
              "      <th>Current Loan Amount</th>\n",
              "      <th>Term</th>\n",
              "      <th>Credit Score</th>\n",
              "      <th>Years in current job</th>\n",
              "      <th>Home Ownership</th>\n",
              "      <th>Annual Income</th>\n",
              "      <th>Purpose</th>\n",
              "      <th>Monthly Debt</th>\n",
              "      <th>Years of Credit History</th>\n",
              "      <th>Months since last delinquent</th>\n",
              "      <th>Number of Open Accounts</th>\n",
              "      <th>Number of Credit Problems</th>\n",
              "      <th>Current Credit Balance</th>\n",
              "      <th>Maximum Open Credit</th>\n",
              "      <th>Bankruptcies</th>\n",
              "      <th>Tax Liens</th>\n",
              "    </tr>\n",
              "  </thead>\n",
              "  <tbody>\n",
              "    <tr>\n",
              "      <th>0</th>\n",
              "      <td>6cf51492-02a2-423e-b93d-676f05b9ad53</td>\n",
              "      <td>7c202b37-2add-44e8-9aea-d5b119aea935</td>\n",
              "      <td>Charged Off</td>\n",
              "      <td>12232</td>\n",
              "      <td>Short Term</td>\n",
              "      <td>7280.0</td>\n",
              "      <td>&lt; 1 year</td>\n",
              "      <td>Rent</td>\n",
              "      <td>46643.0</td>\n",
              "      <td>Debt Consolidation</td>\n",
              "      <td>777.39</td>\n",
              "      <td>18.0</td>\n",
              "      <td>10.0</td>\n",
              "      <td>12</td>\n",
              "      <td>0</td>\n",
              "      <td>6762</td>\n",
              "      <td>7946</td>\n",
              "      <td>0.0</td>\n",
              "      <td>0.0</td>\n",
              "    </tr>\n",
              "    <tr>\n",
              "      <th>1</th>\n",
              "      <td>552e7ade-4292-4354-9ff9-c48031697d72</td>\n",
              "      <td>e7217b0a-07ac-47dd-b379-577b5a35b7c6</td>\n",
              "      <td>Charged Off</td>\n",
              "      <td>25014</td>\n",
              "      <td>Long Term</td>\n",
              "      <td>7330.0</td>\n",
              "      <td>10+ years</td>\n",
              "      <td>Home Mortgage</td>\n",
              "      <td>81099.0</td>\n",
              "      <td>Debt Consolidation</td>\n",
              "      <td>892.09</td>\n",
              "      <td>26.7</td>\n",
              "      <td>NaN</td>\n",
              "      <td>14</td>\n",
              "      <td>0</td>\n",
              "      <td>35706</td>\n",
              "      <td>77961</td>\n",
              "      <td>0.0</td>\n",
              "      <td>0.0</td>\n",
              "    </tr>\n",
              "    <tr>\n",
              "      <th>2</th>\n",
              "      <td>9b5e32b3-8d76-4801-afc8-d729d5a2e6b9</td>\n",
              "      <td>0a62fc41-16c8-40b5-92ff-9e4b763ce714</td>\n",
              "      <td>Charged Off</td>\n",
              "      <td>16117</td>\n",
              "      <td>Short Term</td>\n",
              "      <td>7240.0</td>\n",
              "      <td>9 years</td>\n",
              "      <td>Home Mortgage</td>\n",
              "      <td>60438.0</td>\n",
              "      <td>Home Improvements</td>\n",
              "      <td>1244.02</td>\n",
              "      <td>16.7</td>\n",
              "      <td>32.0</td>\n",
              "      <td>11</td>\n",
              "      <td>1</td>\n",
              "      <td>11275</td>\n",
              "      <td>14815</td>\n",
              "      <td>1.0</td>\n",
              "      <td>0.0</td>\n",
              "    </tr>\n",
              "    <tr>\n",
              "      <th>3</th>\n",
              "      <td>5419b7c7-ac11-4be2-a8a7-b131fb6d6dbe</td>\n",
              "      <td>30f36c59-5182-4482-8bbb-5b736849ae43</td>\n",
              "      <td>Charged Off</td>\n",
              "      <td>11716</td>\n",
              "      <td>Short Term</td>\n",
              "      <td>7400.0</td>\n",
              "      <td>3 years</td>\n",
              "      <td>Rent</td>\n",
              "      <td>34171.0</td>\n",
              "      <td>Debt Consolidation</td>\n",
              "      <td>990.94</td>\n",
              "      <td>10.0</td>\n",
              "      <td>NaN</td>\n",
              "      <td>21</td>\n",
              "      <td>0</td>\n",
              "      <td>7009</td>\n",
              "      <td>43533</td>\n",
              "      <td>0.0</td>\n",
              "      <td>0.0</td>\n",
              "    </tr>\n",
              "    <tr>\n",
              "      <th>4</th>\n",
              "      <td>1450910f-9495-4fc9-afaf-9bdf4b9821df</td>\n",
              "      <td>70c26012-bba5-42c0-8dcb-75295ada31bb</td>\n",
              "      <td>Charged Off</td>\n",
              "      <td>9789</td>\n",
              "      <td>Long Term</td>\n",
              "      <td>6860.0</td>\n",
              "      <td>10+ years</td>\n",
              "      <td>Home Mortgage</td>\n",
              "      <td>47003.0</td>\n",
              "      <td>Home Improvements</td>\n",
              "      <td>503.71</td>\n",
              "      <td>16.7</td>\n",
              "      <td>25.0</td>\n",
              "      <td>13</td>\n",
              "      <td>1</td>\n",
              "      <td>16913</td>\n",
              "      <td>19553</td>\n",
              "      <td>1.0</td>\n",
              "      <td>0.0</td>\n",
              "    </tr>\n",
              "    <tr>\n",
              "      <th>...</th>\n",
              "      <td>...</td>\n",
              "      <td>...</td>\n",
              "      <td>...</td>\n",
              "      <td>...</td>\n",
              "      <td>...</td>\n",
              "      <td>...</td>\n",
              "      <td>...</td>\n",
              "      <td>...</td>\n",
              "      <td>...</td>\n",
              "      <td>...</td>\n",
              "      <td>...</td>\n",
              "      <td>...</td>\n",
              "      <td>...</td>\n",
              "      <td>...</td>\n",
              "      <td>...</td>\n",
              "      <td>...</td>\n",
              "      <td>...</td>\n",
              "      <td>...</td>\n",
              "      <td>...</td>\n",
              "    </tr>\n",
              "    <tr>\n",
              "      <th>111102</th>\n",
              "      <td>503f01e2-c3c4-4b10-886e-f15de57b6f1a</td>\n",
              "      <td>27a17610-1d8c-48a7-b0db-2d81a4fa099a</td>\n",
              "      <td>Fully Paid</td>\n",
              "      <td>15654</td>\n",
              "      <td>Long Term</td>\n",
              "      <td>686.0</td>\n",
              "      <td>10+ years</td>\n",
              "      <td>Rent</td>\n",
              "      <td>43050.0</td>\n",
              "      <td>Debt Consolidation</td>\n",
              "      <td>889.69</td>\n",
              "      <td>14.1</td>\n",
              "      <td>49.0</td>\n",
              "      <td>18</td>\n",
              "      <td>0</td>\n",
              "      <td>14730</td>\n",
              "      <td>29757</td>\n",
              "      <td>0.0</td>\n",
              "      <td>0.0</td>\n",
              "    </tr>\n",
              "    <tr>\n",
              "      <th>111103</th>\n",
              "      <td>8af53bc0-56a4-4801-a960-52a46a90b33f</td>\n",
              "      <td>c124ca71-f42a-47cc-8ec2-236f7e9868a5</td>\n",
              "      <td>Fully Paid</td>\n",
              "      <td>15237</td>\n",
              "      <td>Short Term</td>\n",
              "      <td>706.0</td>\n",
              "      <td>10+ years</td>\n",
              "      <td>Home Mortgage</td>\n",
              "      <td>60948.0</td>\n",
              "      <td>Debt Consolidation</td>\n",
              "      <td>700.9</td>\n",
              "      <td>15.9</td>\n",
              "      <td>48.0</td>\n",
              "      <td>11</td>\n",
              "      <td>0</td>\n",
              "      <td>17733</td>\n",
              "      <td>23060</td>\n",
              "      <td>0.0</td>\n",
              "      <td>0.0</td>\n",
              "    </tr>\n",
              "    <tr>\n",
              "      <th>111104</th>\n",
              "      <td>96efd327-f965-42ae-8b2b-d2555205ce19</td>\n",
              "      <td>7d959a54-8eeb-4df6-b582-046f889e4cff</td>\n",
              "      <td>Fully Paid</td>\n",
              "      <td>10413</td>\n",
              "      <td>Short Term</td>\n",
              "      <td>719.0</td>\n",
              "      <td>5 years</td>\n",
              "      <td>Home Mortgage</td>\n",
              "      <td>66945.0</td>\n",
              "      <td>Debt Consolidation</td>\n",
              "      <td>1210.59</td>\n",
              "      <td>8.7</td>\n",
              "      <td>NaN</td>\n",
              "      <td>11</td>\n",
              "      <td>0</td>\n",
              "      <td>5205</td>\n",
              "      <td>6348</td>\n",
              "      <td>0.0</td>\n",
              "      <td>0.0</td>\n",
              "    </tr>\n",
              "    <tr>\n",
              "      <th>111105</th>\n",
              "      <td>ec19166c-70c5-4d49-adb6-fb3fc15024a2</td>\n",
              "      <td>5723fbf2-1ce8-4752-8bee-1bebf339f278</td>\n",
              "      <td>Fully Paid</td>\n",
              "      <td>34447</td>\n",
              "      <td>Short Term</td>\n",
              "      <td>626.0</td>\n",
              "      <td>10+ years</td>\n",
              "      <td>Home Mortgage</td>\n",
              "      <td>78736.0</td>\n",
              "      <td>Debt Consolidation</td>\n",
              "      <td>1476.3</td>\n",
              "      <td>30.4</td>\n",
              "      <td>9.0</td>\n",
              "      <td>12</td>\n",
              "      <td>0</td>\n",
              "      <td>32318</td>\n",
              "      <td>37580</td>\n",
              "      <td>0.0</td>\n",
              "      <td>0.0</td>\n",
              "    </tr>\n",
              "    <tr>\n",
              "      <th>111106</th>\n",
              "      <td>f83ae0e1-bd30-46c7-9f72-f4f9fe2f36ca</td>\n",
              "      <td>74187e35-39c2-4010-ae0d-8bcd0544189e</td>\n",
              "      <td>Fully Paid</td>\n",
              "      <td>9209</td>\n",
              "      <td>Long Term</td>\n",
              "      <td>708.0</td>\n",
              "      <td>&lt; 1 year</td>\n",
              "      <td>Own Home</td>\n",
              "      <td>123454.0</td>\n",
              "      <td>Debt Consolidation</td>\n",
              "      <td>668.71</td>\n",
              "      <td>20.1</td>\n",
              "      <td>16.0</td>\n",
              "      <td>8</td>\n",
              "      <td>0</td>\n",
              "      <td>6835</td>\n",
              "      <td>9261</td>\n",
              "      <td>0.0</td>\n",
              "      <td>0.0</td>\n",
              "    </tr>\n",
              "  </tbody>\n",
              "</table>\n",
              "<p>111107 rows × 19 columns</p>\n",
              "</div>\n",
              "      <button class=\"colab-df-convert\" onclick=\"convertToInteractive('df-f98f81f4-2ac1-44b2-83b9-f97b4235f7d5')\"\n",
              "              title=\"Convert this dataframe to an interactive table.\"\n",
              "              style=\"display:none;\">\n",
              "        \n",
              "  <svg xmlns=\"http://www.w3.org/2000/svg\" height=\"24px\"viewBox=\"0 0 24 24\"\n",
              "       width=\"24px\">\n",
              "    <path d=\"M0 0h24v24H0V0z\" fill=\"none\"/>\n",
              "    <path d=\"M18.56 5.44l.94 2.06.94-2.06 2.06-.94-2.06-.94-.94-2.06-.94 2.06-2.06.94zm-11 1L8.5 8.5l.94-2.06 2.06-.94-2.06-.94L8.5 2.5l-.94 2.06-2.06.94zm10 10l.94 2.06.94-2.06 2.06-.94-2.06-.94-.94-2.06-.94 2.06-2.06.94z\"/><path d=\"M17.41 7.96l-1.37-1.37c-.4-.4-.92-.59-1.43-.59-.52 0-1.04.2-1.43.59L10.3 9.45l-7.72 7.72c-.78.78-.78 2.05 0 2.83L4 21.41c.39.39.9.59 1.41.59.51 0 1.02-.2 1.41-.59l7.78-7.78 2.81-2.81c.8-.78.8-2.07 0-2.86zM5.41 20L4 18.59l7.72-7.72 1.47 1.35L5.41 20z\"/>\n",
              "  </svg>\n",
              "      </button>\n",
              "      \n",
              "  <style>\n",
              "    .colab-df-container {\n",
              "      display:flex;\n",
              "      flex-wrap:wrap;\n",
              "      gap: 12px;\n",
              "    }\n",
              "\n",
              "    .colab-df-convert {\n",
              "      background-color: #E8F0FE;\n",
              "      border: none;\n",
              "      border-radius: 50%;\n",
              "      cursor: pointer;\n",
              "      display: none;\n",
              "      fill: #1967D2;\n",
              "      height: 32px;\n",
              "      padding: 0 0 0 0;\n",
              "      width: 32px;\n",
              "    }\n",
              "\n",
              "    .colab-df-convert:hover {\n",
              "      background-color: #E2EBFA;\n",
              "      box-shadow: 0px 1px 2px rgba(60, 64, 67, 0.3), 0px 1px 3px 1px rgba(60, 64, 67, 0.15);\n",
              "      fill: #174EA6;\n",
              "    }\n",
              "\n",
              "    [theme=dark] .colab-df-convert {\n",
              "      background-color: #3B4455;\n",
              "      fill: #D2E3FC;\n",
              "    }\n",
              "\n",
              "    [theme=dark] .colab-df-convert:hover {\n",
              "      background-color: #434B5C;\n",
              "      box-shadow: 0px 1px 3px 1px rgba(0, 0, 0, 0.15);\n",
              "      filter: drop-shadow(0px 1px 2px rgba(0, 0, 0, 0.3));\n",
              "      fill: #FFFFFF;\n",
              "    }\n",
              "  </style>\n",
              "\n",
              "      <script>\n",
              "        const buttonEl =\n",
              "          document.querySelector('#df-f98f81f4-2ac1-44b2-83b9-f97b4235f7d5 button.colab-df-convert');\n",
              "        buttonEl.style.display =\n",
              "          google.colab.kernel.accessAllowed ? 'block' : 'none';\n",
              "\n",
              "        async function convertToInteractive(key) {\n",
              "          const element = document.querySelector('#df-f98f81f4-2ac1-44b2-83b9-f97b4235f7d5');\n",
              "          const dataTable =\n",
              "            await google.colab.kernel.invokeFunction('convertToInteractive',\n",
              "                                                     [key], {});\n",
              "          if (!dataTable) return;\n",
              "\n",
              "          const docLinkHtml = 'Like what you see? Visit the ' +\n",
              "            '<a target=\"_blank\" href=https://colab.research.google.com/notebooks/data_table.ipynb>data table notebook</a>'\n",
              "            + ' to learn more about interactive tables.';\n",
              "          element.innerHTML = '';\n",
              "          dataTable['output_type'] = 'display_data';\n",
              "          await google.colab.output.renderOutput(dataTable, element);\n",
              "          const docLink = document.createElement('div');\n",
              "          docLink.innerHTML = docLinkHtml;\n",
              "          element.appendChild(docLink);\n",
              "        }\n",
              "      </script>\n",
              "    </div>\n",
              "  </div>\n",
              "  "
            ]
          },
          "metadata": {},
          "execution_count": 3
        }
      ]
    },
    {
      "cell_type": "code",
      "source": [
        "loans.info()"
      ],
      "metadata": {
        "colab": {
          "base_uri": "https://localhost:8080/"
        },
        "id": "UTGXXLAR5rfy",
        "outputId": "4d3f9eba-eab9-4f64-bb8b-4b2c01d8355c"
      },
      "execution_count": null,
      "outputs": [
        {
          "output_type": "stream",
          "name": "stdout",
          "text": [
            "<class 'pandas.core.frame.DataFrame'>\n",
            "RangeIndex: 111107 entries, 0 to 111106\n",
            "Data columns (total 19 columns):\n",
            " #   Column                        Non-Null Count   Dtype  \n",
            "---  ------                        --------------   -----  \n",
            " 0   Loan ID                       111107 non-null  object \n",
            " 1   Customer ID                   111107 non-null  object \n",
            " 2   Loan Status                   111107 non-null  object \n",
            " 3   Current Loan Amount           111107 non-null  int64  \n",
            " 4   Term                          111107 non-null  object \n",
            " 5   Credit Score                  89769 non-null   float64\n",
            " 6   Years in current job          106414 non-null  object \n",
            " 7   Home Ownership                111107 non-null  object \n",
            " 8   Annual Income                 89769 non-null   float64\n",
            " 9   Purpose                       111107 non-null  object \n",
            " 10  Monthly Debt                  111107 non-null  object \n",
            " 11  Years of Credit History       111107 non-null  float64\n",
            " 12  Months since last delinquent  52104 non-null   float64\n",
            " 13  Number of Open Accounts       111107 non-null  int64  \n",
            " 14  Number of Credit Problems     111107 non-null  int64  \n",
            " 15  Current Credit Balance        111107 non-null  int64  \n",
            " 16  Maximum Open Credit           111107 non-null  object \n",
            " 17  Bankruptcies                  110879 non-null  float64\n",
            " 18  Tax Liens                     111096 non-null  float64\n",
            "dtypes: float64(6), int64(4), object(9)\n",
            "memory usage: 16.1+ MB\n"
          ]
        }
      ]
    },
    {
      "cell_type": "markdown",
      "source": [
        "Columns with null values:\n",
        "* Credit score - same as annual income\n",
        "* Annual income - same as credit score\n",
        "* Years in current job\n",
        "* Months since last delinquent - more than 50% null, consider dropping this column\n",
        "* Bankruptcies\n",
        "* Tax liens"
      ],
      "metadata": {
        "id": "kvx64Q8o56am"
      }
    },
    {
      "cell_type": "markdown",
      "source": [
        "Objects that may be important:\n",
        "* Loan status\n",
        "* Years in current job\n",
        "* Home ownership\n",
        "* Monthly debt - should be convereted from object to float\n",
        "* Max open credit - should be converted to float"
      ],
      "metadata": {
        "id": "ydPdcW5t8LMu"
      }
    },
    {
      "cell_type": "code",
      "source": [
        "# sns.pairplot(loans)"
      ],
      "metadata": {
        "id": "b0_5qz9kl7SD"
      },
      "execution_count": null,
      "outputs": []
    },
    {
      "cell_type": "code",
      "source": [
        "loans.hist(figsize=(15,10), bins = 15);"
      ],
      "metadata": {
        "colab": {
          "base_uri": "https://localhost:8080/",
          "height": 607
        },
        "id": "2q5i5Ju1qgMq",
        "outputId": "36d667cd-cb93-43d4-de21-b863a4baf49f"
      },
      "execution_count": null,
      "outputs": [
        {
          "output_type": "display_data",
          "data": {
            "text/plain": [
              "<Figure size 1080x720 with 12 Axes>"
            ],
            "image/png": "[encoded data removed]"
          },
          "metadata": {
            "needs_background": "light"
          }
        }
      ]
    },
    {
      "cell_type": "markdown",
      "source": [
        "## Data clean up"
      ],
      "metadata": {
        "id": "4hAMXrOxlNj4"
      }
    },
    {
      "cell_type": "markdown",
      "source": [
        "### Current Loan Value has a lot of 9999999 values, which are effective NaN"
      ],
      "metadata": {
        "id": "aEPGDJDNJdeU"
      }
    },
    {
      "cell_type": "code",
      "source": [
        "loans['Current Loan Amount'].value_counts()"
      ],
      "metadata": {
        "colab": {
          "base_uri": "https://localhost:8080/"
        },
        "id": "rdBe3zcyIMhs",
        "outputId": "a2bc50ba-9ead-4adf-bc01-0c150f558fb6"
      },
      "execution_count": null,
      "outputs": [
        {
          "output_type": "execute_result",
          "data": {
            "text/plain": [
              "99999999    12738\n",
              "10166          31\n",
              "10151          31\n",
              "9827           30\n",
              "4953           29\n",
              "            ...  \n",
              "13376           1\n",
              "18136           1\n",
              "12522           1\n",
              "12348           1\n",
              "24629           1\n",
              "Name: Current Loan Amount, Length: 22541, dtype: int64"
            ]
          },
          "metadata": {},
          "execution_count": 7
        }
      ]
    },
    {
      "cell_type": "code",
      "source": [
        "x = loans['Current Loan Amount']\n",
        "y = loans['Credit Score']\n",
        "\n",
        "plt.scatter(x, y, c = 'blue')\n"
      ],
      "metadata": {
        "colab": {
          "base_uri": "https://localhost:8080/",
          "height": 296
        },
        "id": "KeNbs1ltHH2t",
        "outputId": "418146cf-bcf8-4a57-f62c-459ca065d562"
      },
      "execution_count": null,
      "outputs": [
        {
          "output_type": "execute_result",
          "data": {
            "text/plain": [
              "<matplotlib.collections.PathCollection at 0x7ff3cc461b90>"
            ]
          },
          "metadata": {},
          "execution_count": 8
        },
        {
          "output_type": "display_data",
          "data": {
            "text/plain": [
              "<Figure size 432x288 with 1 Axes>"
            ],
            "image/png": "[encoded data removed]"
          },
          "metadata": {
            "needs_background": "light"
          }
        }
      ]
    },
    {
      "cell_type": "code",
      "source": [
        "plt.hist(loans['Current Loan Amount'], bins = 50);"
      ],
      "metadata": {
        "colab": {
          "base_uri": "https://localhost:8080/",
          "height": 278
        },
        "id": "c1Lj8c0rIFAs",
        "outputId": "55374d15-ed6c-44e4-c919-edf4db7cb387"
      },
      "execution_count": null,
      "outputs": [
        {
          "output_type": "display_data",
          "data": {
            "text/plain": [
              "<Figure size 432x288 with 1 Axes>"
            ],
            "image/png": "[encoded data removed]"
          },
          "metadata": {
            "needs_background": "light"
          }
        }
      ]
    },
    {
      "cell_type": "code",
      "source": [
        "loans['Current Loan Amount'].replace(99999999.0,np.NaN,inplace=True)"
      ],
      "metadata": {
        "id": "4608xCUeJpXb"
      },
      "execution_count": null,
      "outputs": []
    },
    {
      "cell_type": "code",
      "source": [
        "loans.info()"
      ],
      "metadata": {
        "colab": {
          "base_uri": "https://localhost:8080/"
        },
        "id": "b4GZBiQCJ88v",
        "outputId": "ad96e324-2197-480c-fb8a-e731759a79c7"
      },
      "execution_count": null,
      "outputs": [
        {
          "output_type": "stream",
          "name": "stdout",
          "text": [
            "<class 'pandas.core.frame.DataFrame'>\n",
            "RangeIndex: 111107 entries, 0 to 111106\n",
            "Data columns (total 19 columns):\n",
            " #   Column                        Non-Null Count   Dtype  \n",
            "---  ------                        --------------   -----  \n",
            " 0   Loan ID                       111107 non-null  object \n",
            " 1   Customer ID                   111107 non-null  object \n",
            " 2   Loan Status                   111107 non-null  object \n",
            " 3   Current Loan Amount           98369 non-null   float64\n",
            " 4   Term                          111107 non-null  object \n",
            " 5   Credit Score                  89769 non-null   float64\n",
            " 6   Years in current job          106414 non-null  object \n",
            " 7   Home Ownership                111107 non-null  object \n",
            " 8   Annual Income                 89769 non-null   float64\n",
            " 9   Purpose                       111107 non-null  object \n",
            " 10  Monthly Debt                  111107 non-null  object \n",
            " 11  Years of Credit History       111107 non-null  float64\n",
            " 12  Months since last delinquent  52104 non-null   float64\n",
            " 13  Number of Open Accounts       111107 non-null  int64  \n",
            " 14  Number of Credit Problems     111107 non-null  int64  \n",
            " 15  Current Credit Balance        111107 non-null  int64  \n",
            " 16  Maximum Open Credit           111107 non-null  object \n",
            " 17  Bankruptcies                  110879 non-null  float64\n",
            " 18  Tax Liens                     111096 non-null  float64\n",
            "dtypes: float64(7), int64(3), object(9)\n",
            "memory usage: 16.1+ MB\n"
          ]
        }
      ]
    },
    {
      "cell_type": "markdown",
      "source": [
        "### Cleaning up credit scores data"
      ],
      "metadata": {
        "id": "-jlf78luL7On"
      }
    },
    {
      "cell_type": "markdown",
      "source": [
        "What's going on with all of the credit scores above and below 1000?"
      ],
      "metadata": {
        "id": "KD7w05cTK71x"
      }
    },
    {
      "cell_type": "code",
      "source": [
        "cs_over_1k = loans[loans['Credit Score'] > 1000]\n",
        "cs_under_1k = loans[loans['Credit Score'] < 1000]"
      ],
      "metadata": {
        "id": "qSsrJBp9K7H8"
      },
      "execution_count": null,
      "outputs": []
    },
    {
      "cell_type": "code",
      "source": [
        "plt.hist(cs_over_1k['Credit Score'], bins = 20);"
      ],
      "metadata": {
        "colab": {
          "base_uri": "https://localhost:8080/",
          "height": 265
        },
        "id": "f3sGl43qMRsP",
        "outputId": "63abd63c-44fa-43f4-9dd5-d78822910233"
      },
      "execution_count": null,
      "outputs": [
        {
          "output_type": "display_data",
          "data": {
            "text/plain": [
              "<Figure size 432x288 with 1 Axes>"
            ],
            "image/png": "[encoded data removed]"
          },
          "metadata": {
            "needs_background": "light"
          }
        }
      ]
    },
    {
      "cell_type": "code",
      "source": [
        "cs_over_1k['Credit Score'].describe()"
      ],
      "metadata": {
        "colab": {
          "base_uri": "https://localhost:8080/"
        },
        "id": "uGmtb9vnMdOY",
        "outputId": "b56ab9b9-1494-4083-f4a4-6ed6d045368d"
      },
      "execution_count": null,
      "outputs": [
        {
          "output_type": "execute_result",
          "data": {
            "text/plain": [
              "count    5044.000000\n",
              "mean     7109.046392\n",
              "std       306.062776\n",
              "min      5850.000000\n",
              "25%      6950.000000\n",
              "50%      7190.000000\n",
              "75%      7350.000000\n",
              "max      7510.000000\n",
              "Name: Credit Score, dtype: float64"
            ]
          },
          "metadata": {},
          "execution_count": 14
        }
      ]
    },
    {
      "cell_type": "code",
      "source": [
        "plt.hist(cs_under_1k['Credit Score'], bins = 20);"
      ],
      "metadata": {
        "colab": {
          "base_uri": "https://localhost:8080/",
          "height": 265
        },
        "id": "-BaMxhkYLuoZ",
        "outputId": "5767f370-1234-480b-9604-ef3a36360488"
      },
      "execution_count": null,
      "outputs": [
        {
          "output_type": "display_data",
          "data": {
            "text/plain": [
              "<Figure size 432x288 with 1 Axes>"
            ],
            "image/png": "[encoded data removed]"
          },
          "metadata": {
            "needs_background": "light"
          }
        }
      ]
    },
    {
      "cell_type": "code",
      "source": [
        "cs_under_1k['Credit Score'].describe()"
      ],
      "metadata": {
        "colab": {
          "base_uri": "https://localhost:8080/"
        },
        "id": "kiWt-o56Ml4t",
        "outputId": "5c4bf7c8-09f3-4836-e43d-691413ae4beb"
      },
      "execution_count": null,
      "outputs": [
        {
          "output_type": "execute_result",
          "data": {
            "text/plain": [
              "count    84725.000000\n",
              "mean       716.612735\n",
              "std         28.112959\n",
              "min        585.000000\n",
              "25%        704.000000\n",
              "50%        722.000000\n",
              "75%        739.000000\n",
              "max        751.000000\n",
              "Name: Credit Score, dtype: float64"
            ]
          },
          "metadata": {},
          "execution_count": 16
        }
      ]
    },
    {
      "cell_type": "markdown",
      "source": [
        "There's an error here where some credit scores have the decimal point in the wrong place. All of the scores over 1,000 need to have the decimal point moved 1 place to the left."
      ],
      "metadata": {
        "id": "GNbW1YseMo39"
      }
    },
    {
      "cell_type": "code",
      "source": [
        "loans['Credit Score'].describe()"
      ],
      "metadata": {
        "colab": {
          "base_uri": "https://localhost:8080/"
        },
        "id": "YifjlofTMxIe",
        "outputId": "bdedbfe8-680f-4147-d4e0-5623311c6507"
      },
      "execution_count": null,
      "outputs": [
        {
          "output_type": "execute_result",
          "data": {
            "text/plain": [
              "count    89769.000000\n",
              "mean      1075.795029\n",
              "std       1474.133505\n",
              "min        585.000000\n",
              "25%        705.000000\n",
              "50%        724.000000\n",
              "75%        741.000000\n",
              "max       7510.000000\n",
              "Name: Credit Score, dtype: float64"
            ]
          },
          "metadata": {},
          "execution_count": 17
        }
      ]
    },
    {
      "cell_type": "code",
      "source": [
        "loans['Credit Score'][loans['Credit Score'] > 1000] = loans['Credit Score'][loans['Credit Score'] > 1000].div(10)"
      ],
      "metadata": {
        "colab": {
          "base_uri": "https://localhost:8080/"
        },
        "id": "GdWS1TWBM0_k",
        "outputId": "ebbfb27f-88b5-4b53-ad94-686f8a3985ec"
      },
      "execution_count": null,
      "outputs": [
        {
          "output_type": "stream",
          "name": "stderr",
          "text": [
            "/usr/local/lib/python3.7/dist-packages/ipykernel_launcher.py:1: SettingWithCopyWarning: \n",
            "A value is trying to be set on a copy of a slice from a DataFrame\n",
            "\n",
            "See the caveats in the documentation: https://pandas.pydata.org/pandas-docs/stable/user_guide/indexing.html#returning-a-view-versus-a-copy\n",
            "  \"\"\"Entry point for launching an IPython kernel.\n"
          ]
        }
      ]
    },
    {
      "cell_type": "code",
      "source": [
        "loans['Credit Score'].describe()"
      ],
      "metadata": {
        "colab": {
          "base_uri": "https://localhost:8080/"
        },
        "id": "Y-sQAp_sOm8D",
        "outputId": "22797a81-489c-4801-f392-e1a6623528a8"
      },
      "execution_count": null,
      "outputs": [
        {
          "output_type": "execute_result",
          "data": {
            "text/plain": [
              "count    89769.000000\n",
              "mean       716.292005\n",
              "std         28.289263\n",
              "min        585.000000\n",
              "25%        703.000000\n",
              "50%        722.000000\n",
              "75%        738.000000\n",
              "max        751.000000\n",
              "Name: Credit Score, dtype: float64"
            ]
          },
          "metadata": {},
          "execution_count": 19
        }
      ]
    },
    {
      "cell_type": "code",
      "source": [
        "plt.hist(loans['Credit Score'],bins=20);"
      ],
      "metadata": {
        "colab": {
          "base_uri": "https://localhost:8080/",
          "height": 265
        },
        "id": "QZzx0CPYOufu",
        "outputId": "14993be1-840f-4d3b-ff79-e48bca24c39b"
      },
      "execution_count": null,
      "outputs": [
        {
          "output_type": "display_data",
          "data": {
            "text/plain": [
              "<Figure size 432x288 with 1 Axes>"
            ],
            "image/png": "[encoded data removed]"
          },
          "metadata": {
            "needs_background": "light"
          }
        }
      ]
    },
    {
      "cell_type": "markdown",
      "source": [
        "### Cleaning up mixed value columns for Monthly Debt and Max Open Credit"
      ],
      "metadata": {
        "id": "g1dEGw1cDLWn"
      }
    },
    {
      "cell_type": "code",
      "source": [
        "# check out monthly debt\n",
        "loans['Monthly Debt'].apply(type).value_counts()"
      ],
      "metadata": {
        "colab": {
          "base_uri": "https://localhost:8080/"
        },
        "id": "dohQFl3A8qws",
        "outputId": "0ab1b4b5-6349-4eb6-d15d-ade0cb646aab"
      },
      "execution_count": null,
      "outputs": [
        {
          "output_type": "execute_result",
          "data": {
            "text/plain": [
              "<class 'str'>      65536\n",
              "<class 'float'>    45571\n",
              "Name: Monthly Debt, dtype: int64"
            ]
          },
          "metadata": {},
          "execution_count": 21
        }
      ]
    },
    {
      "cell_type": "code",
      "source": [
        "# convert monthly debt to float\n",
        "loans['Monthly Debt'] = loans['Monthly Debt'].apply(lambda x: x.replace('$', '').replace(',', '')\n",
        "                                if isinstance(x, str) else x).astype(float)"
      ],
      "metadata": {
        "id": "o6ll2BLH9DbZ"
      },
      "execution_count": null,
      "outputs": []
    },
    {
      "cell_type": "code",
      "source": [
        "loans['Monthly Debt'].apply(type).value_counts()"
      ],
      "metadata": {
        "colab": {
          "base_uri": "https://localhost:8080/"
        },
        "id": "_Pt_HMUu_yA9",
        "outputId": "0773a3e5-0635-4abf-8f65-d834814d3e36"
      },
      "execution_count": null,
      "outputs": [
        {
          "output_type": "execute_result",
          "data": {
            "text/plain": [
              "<class 'float'>    111107\n",
              "Name: Monthly Debt, dtype: int64"
            ]
          },
          "metadata": {},
          "execution_count": 23
        }
      ]
    },
    {
      "cell_type": "code",
      "source": [
        "# check out maximum open credit\n",
        "loans['Maximum Open Credit'].apply(type).value_counts()"
      ],
      "metadata": {
        "colab": {
          "base_uri": "https://localhost:8080/"
        },
        "id": "fkvOH5Qj8t85",
        "outputId": "218aafab-8b3e-4b72-d025-2240e72962f8"
      },
      "execution_count": null,
      "outputs": [
        {
          "output_type": "execute_result",
          "data": {
            "text/plain": [
              "<class 'str'>    65536\n",
              "<class 'int'>    45571\n",
              "Name: Maximum Open Credit, dtype: int64"
            ]
          },
          "metadata": {},
          "execution_count": 24
        }
      ]
    },
    {
      "cell_type": "code",
      "source": [
        "# fix index 4930 #VALUE\n",
        "\n",
        "loans.loc[4930,'Maximum Open Credit'] = 0\n",
        "loans.loc[37357,'Maximum Open Credit'] = 0"
      ],
      "metadata": {
        "id": "NWmrwoHg_84D"
      },
      "execution_count": null,
      "outputs": []
    },
    {
      "cell_type": "code",
      "source": [
        "loans[loans['Maximum Open Credit'] == '#VALUE!']"
      ],
      "metadata": {
        "colab": {
          "base_uri": "https://localhost:8080/"
        },
        "id": "H3Dk1Dc6ClW-",
        "outputId": "f51a553a-4e4e-47d3-a601-97f4f469c1c9"
      },
      "execution_count": null,
      "outputs": [
        {
          "output_type": "execute_result",
          "data": {
            "text/plain": [
              "Empty DataFrame\n",
              "Columns: [Loan ID, Customer ID, Loan Status, Current Loan Amount, Term, Credit Score, Years in current job, Home Ownership, Annual Income, Purpose, Monthly Debt, Years of Credit History, Months since last delinquent, Number of Open Accounts, Number of Credit Problems, Current Credit Balance, Maximum Open Credit, Bankruptcies, Tax Liens]\n",
              "Index: []"
            ],
            "text/html": [
              "\n",
              "  <div id=\"df-ab56e713-5ef2-4fe7-9ecd-890cf09d4a87\">\n",
              "    <div class=\"colab-df-container\">\n",
              "      <div>\n",
              "<style scoped>\n",
              "    .dataframe tbody tr th:only-of-type {\n",
              "        vertical-align: middle;\n",
              "    }\n",
              "\n",
              "    .dataframe tbody tr th {\n",
              "        vertical-align: top;\n",
              "    }\n",
              "\n",
              "    .dataframe thead th {\n",
              "        text-align: right;\n",
              "    }\n",
              "</style>\n",
              "<table border=\"1\" class=\"dataframe\">\n",
              "  <thead>\n",
              "    <tr style=\"text-align: right;\">\n",
              "      <th></th>\n",
              "      <th>Loan ID</th>\n",
              "      <th>Customer ID</th>\n",
              "      <th>Loan Status</th>\n",
              "      <th>Current Loan Amount</th>\n",
              "      <th>Term</th>\n",
              "      <th>Credit Score</th>\n",
              "      <th>Years in current job</th>\n",
              "      <th>Home Ownership</th>\n",
              "      <th>Annual Income</th>\n",
              "      <th>Purpose</th>\n",
              "      <th>Monthly Debt</th>\n",
              "      <th>Years of Credit History</th>\n",
              "      <th>Months since last delinquent</th>\n",
              "      <th>Number of Open Accounts</th>\n",
              "      <th>Number of Credit Problems</th>\n",
              "      <th>Current Credit Balance</th>\n",
              "      <th>Maximum Open Credit</th>\n",
              "      <th>Bankruptcies</th>\n",
              "      <th>Tax Liens</th>\n",
              "    </tr>\n",
              "  </thead>\n",
              "  <tbody>\n",
              "  </tbody>\n",
              "</table>\n",
              "</div>\n",
              "      <button class=\"colab-df-convert\" onclick=\"convertToInteractive('df-ab56e713-5ef2-4fe7-9ecd-890cf09d4a87')\"\n",
              "              title=\"Convert this dataframe to an interactive table.\"\n",
              "              style=\"display:none;\">\n",
              "        \n",
              "  <svg xmlns=\"http://www.w3.org/2000/svg\" height=\"24px\"viewBox=\"0 0 24 24\"\n",
              "       width=\"24px\">\n",
              "    <path d=\"M0 0h24v24H0V0z\" fill=\"none\"/>\n",
              "    <path d=\"M18.56 5.44l.94 2.06.94-2.06 2.06-.94-2.06-.94-.94-2.06-.94 2.06-2.06.94zm-11 1L8.5 8.5l.94-2.06 2.06-.94-2.06-.94L8.5 2.5l-.94 2.06-2.06.94zm10 10l.94 2.06.94-2.06 2.06-.94-2.06-.94-.94-2.06-.94 2.06-2.06.94z\"/><path d=\"M17.41 7.96l-1.37-1.37c-.4-.4-.92-.59-1.43-.59-.52 0-1.04.2-1.43.59L10.3 9.45l-7.72 7.72c-.78.78-.78 2.05 0 2.83L4 21.41c.39.39.9.59 1.41.59.51 0 1.02-.2 1.41-.59l7.78-7.78 2.81-2.81c.8-.78.8-2.07 0-2.86zM5.41 20L4 18.59l7.72-7.72 1.47 1.35L5.41 20z\"/>\n",
              "  </svg>\n",
              "      </button>\n",
              "      \n",
              "  <style>\n",
              "    .colab-df-container {\n",
              "      display:flex;\n",
              "      flex-wrap:wrap;\n",
              "      gap: 12px;\n",
              "    }\n",
              "\n",
              "    .colab-df-convert {\n",
              "      background-color: #E8F0FE;\n",
              "      border: none;\n",
              "      border-radius: 50%;\n",
              "      cursor: pointer;\n",
              "      display: none;\n",
              "      fill: #1967D2;\n",
              "      height: 32px;\n",
              "      padding: 0 0 0 0;\n",
              "      width: 32px;\n",
              "    }\n",
              "\n",
              "    .colab-df-convert:hover {\n",
              "      background-color: #E2EBFA;\n",
              "      box-shadow: 0px 1px 2px rgba(60, 64, 67, 0.3), 0px 1px 3px 1px rgba(60, 64, 67, 0.15);\n",
              "      fill: #174EA6;\n",
              "    }\n",
              "\n",
              "    [theme=dark] .colab-df-convert {\n",
              "      background-color: #3B4455;\n",
              "      fill: #D2E3FC;\n",
              "    }\n",
              "\n",
              "    [theme=dark] .colab-df-convert:hover {\n",
              "      background-color: #434B5C;\n",
              "      box-shadow: 0px 1px 3px 1px rgba(0, 0, 0, 0.15);\n",
              "      filter: drop-shadow(0px 1px 2px rgba(0, 0, 0, 0.3));\n",
              "      fill: #FFFFFF;\n",
              "    }\n",
              "  </style>\n",
              "\n",
              "      <script>\n",
              "        const buttonEl =\n",
              "          document.querySelector('#df-ab56e713-5ef2-4fe7-9ecd-890cf09d4a87 button.colab-df-convert');\n",
              "        buttonEl.style.display =\n",
              "          google.colab.kernel.accessAllowed ? 'block' : 'none';\n",
              "\n",
              "        async function convertToInteractive(key) {\n",
              "          const element = document.querySelector('#df-ab56e713-5ef2-4fe7-9ecd-890cf09d4a87');\n",
              "          const dataTable =\n",
              "            await google.colab.kernel.invokeFunction('convertToInteractive',\n",
              "                                                     [key], {});\n",
              "          if (!dataTable) return;\n",
              "\n",
              "          const docLinkHtml = 'Like what you see? Visit the ' +\n",
              "            '<a target=\"_blank\" href=https://colab.research.google.com/notebooks/data_table.ipynb>data table notebook</a>'\n",
              "            + ' to learn more about interactive tables.';\n",
              "          element.innerHTML = '';\n",
              "          dataTable['output_type'] = 'display_data';\n",
              "          await google.colab.output.renderOutput(dataTable, element);\n",
              "          const docLink = document.createElement('div');\n",
              "          docLink.innerHTML = docLinkHtml;\n",
              "          element.appendChild(docLink);\n",
              "        }\n",
              "      </script>\n",
              "    </div>\n",
              "  </div>\n",
              "  "
            ]
          },
          "metadata": {},
          "execution_count": 26
        }
      ]
    },
    {
      "cell_type": "code",
      "source": [
        "# convert all other cells\n",
        "loans['Maximum Open Credit'] = loans['Maximum Open Credit'].apply(lambda x: x.replace('$', '').replace(',', '')\n",
        "                                 if isinstance(x, str) else x).astype(float)"
      ],
      "metadata": {
        "id": "DZaSIPlACULn"
      },
      "execution_count": null,
      "outputs": []
    },
    {
      "cell_type": "markdown",
      "source": [
        "### Deep dive into Years in Current Job"
      ],
      "metadata": {
        "id": "_GYxsxj_DHrw"
      }
    },
    {
      "cell_type": "code",
      "source": [
        "loans['Years in current job'].value_counts()"
      ],
      "metadata": {
        "colab": {
          "base_uri": "https://localhost:8080/"
        },
        "id": "RSAchdy0DKWo",
        "outputId": "19f41fd7-b838-425a-8663-a3dfc2b44f8e"
      },
      "execution_count": null,
      "outputs": [
        {
          "output_type": "execute_result",
          "data": {
            "text/plain": [
              "10+ years    34551\n",
              "2 years      10158\n",
              "3 years       9133\n",
              "< 1 year      9055\n",
              "5 years       7559\n",
              "1 year        7175\n",
              "4 years       6828\n",
              "6 years       6310\n",
              "7 years       6186\n",
              "8 years       5105\n",
              "9 years       4354\n",
              "Name: Years in current job, dtype: int64"
            ]
          },
          "metadata": {},
          "execution_count": 28
        }
      ]
    },
    {
      "cell_type": "code",
      "source": [
        "loans['Years in current job'].replace(['< 1 year', '1 year', '2 years', '3 years', '4 years', '5 years', '6 years', '7 years', '8 years', '9 years', '10+ years'],[0, 1, 2, 3, 4, 5, 6, 7, 8, 9, 10], inplace=True)"
      ],
      "metadata": {
        "id": "1aYeBfqUDwNc"
      },
      "execution_count": null,
      "outputs": []
    },
    {
      "cell_type": "code",
      "source": [
        "loans['Years in current job'].value_counts()"
      ],
      "metadata": {
        "colab": {
          "base_uri": "https://localhost:8080/"
        },
        "id": "PfQBA_uWErJn",
        "outputId": "046844cd-3a45-4cdd-9ef1-e854d1da49e4"
      },
      "execution_count": null,
      "outputs": [
        {
          "output_type": "execute_result",
          "data": {
            "text/plain": [
              "10.0    34551\n",
              "2.0     10158\n",
              "3.0      9133\n",
              "0.0      9055\n",
              "5.0      7559\n",
              "1.0      7175\n",
              "4.0      6828\n",
              "6.0      6310\n",
              "7.0      6186\n",
              "8.0      5105\n",
              "9.0      4354\n",
              "Name: Years in current job, dtype: int64"
            ]
          },
          "metadata": {},
          "execution_count": 30
        }
      ]
    },
    {
      "cell_type": "markdown",
      "source": [
        "### Deep dive into Annual Income"
      ],
      "metadata": {
        "id": "BMf6-ERfO8zg"
      }
    },
    {
      "cell_type": "code",
      "source": [
        "plt.hist(loans['Annual Income'], bins=100);"
      ],
      "metadata": {
        "colab": {
          "base_uri": "https://localhost:8080/"
        },
        "id": "ItThSiYyO-0O",
        "outputId": "4b34cfd1-06ea-44bb-a8c5-fb930e3eadf4"
      },
      "execution_count": null,
      "outputs": [
        {
          "output_type": "display_data",
          "data": {
            "text/plain": [
              "<Figure size 432x288 with 1 Axes>"
            ],
            "image/png": "[encoded data removed]"
          },
          "metadata": {
            "needs_background": "light"
          }
        }
      ]
    },
    {
      "cell_type": "code",
      "source": [
        "loans['Annual Income'].describe(percentiles = [.25, .50, .75, .99])"
      ],
      "metadata": {
        "colab": {
          "base_uri": "https://localhost:8080/"
        },
        "id": "mnOBwjgZPH8I",
        "outputId": "fc7a7613-422c-42ee-9a75-4e98c95f61ac"
      },
      "execution_count": null,
      "outputs": [
        {
          "output_type": "execute_result",
          "data": {
            "text/plain": [
              "count    8.976900e+04\n",
              "mean     7.248600e+04\n",
              "std      5.593094e+04\n",
              "min      4.033000e+03\n",
              "25%      4.468800e+04\n",
              "50%      6.175200e+04\n",
              "75%      8.688700e+04\n",
              "99%      2.414160e+05\n",
              "max      8.713547e+06\n",
              "Name: Annual Income, dtype: float64"
            ]
          },
          "metadata": {},
          "execution_count": 32
        }
      ]
    },
    {
      "cell_type": "code",
      "source": [
        "loans['Annual Income'].median()"
      ],
      "metadata": {
        "colab": {
          "base_uri": "https://localhost:8080/"
        },
        "id": "NIXuco5GPRYc",
        "outputId": "d1f12312-075b-4125-a19e-94cccc706916"
      },
      "execution_count": null,
      "outputs": [
        {
          "output_type": "execute_result",
          "data": {
            "text/plain": [
              "61752.0"
            ]
          },
          "metadata": {},
          "execution_count": 33
        }
      ]
    },
    {
      "cell_type": "markdown",
      "source": [
        "There are some super outlier incomes. The 99 percentile is 240K."
      ],
      "metadata": {
        "id": "EdEBJMdOQMJM"
      }
    },
    {
      "cell_type": "code",
      "source": [
        "plt.hist(loans['Annual Income'][loans['Annual Income'] < 200000])"
      ],
      "metadata": {
        "colab": {
          "base_uri": "https://localhost:8080/"
        },
        "id": "oT_trZl3PneY",
        "outputId": "0e7567a1-ec8b-4c92-fea3-76b5ecfc8b29"
      },
      "execution_count": null,
      "outputs": [
        {
          "output_type": "execute_result",
          "data": {
            "text/plain": [
              "(array([ 2374., 18319., 24960., 18650., 11213.,  5673.,  3330.,  1966.,\n",
              "         1004.,   674.]),\n",
              " array([  4033. ,  23627.7,  43222.4,  62817.1,  82411.8, 102006.5,\n",
              "        121601.2, 141195.9, 160790.6, 180385.3, 199980. ]),\n",
              " <a list of 10 Patch objects>)"
            ]
          },
          "metadata": {},
          "execution_count": 34
        },
        {
          "output_type": "display_data",
          "data": {
            "text/plain": [
              "<Figure size 432x288 with 1 Axes>"
            ],
            "image/png": "[encoded data removed]"
          },
          "metadata": {
            "needs_background": "light"
          }
        }
      ]
    },
    {
      "cell_type": "code",
      "source": [
        "loans[loans['Annual Income'] > 200000].info()"
      ],
      "metadata": {
        "colab": {
          "base_uri": "https://localhost:8080/"
        },
        "id": "Qav86NCwQXM7",
        "outputId": "39fc9d6f-7dd9-46ba-b00c-7905e8a27f07"
      },
      "execution_count": null,
      "outputs": [
        {
          "output_type": "stream",
          "name": "stdout",
          "text": [
            "<class 'pandas.core.frame.DataFrame'>\n",
            "Int64Index: 1606 entries, 182 to 111097\n",
            "Data columns (total 19 columns):\n",
            " #   Column                        Non-Null Count  Dtype  \n",
            "---  ------                        --------------  -----  \n",
            " 0   Loan ID                       1606 non-null   object \n",
            " 1   Customer ID                   1606 non-null   object \n",
            " 2   Loan Status                   1606 non-null   object \n",
            " 3   Current Loan Amount           1365 non-null   float64\n",
            " 4   Term                          1606 non-null   object \n",
            " 5   Credit Score                  1606 non-null   float64\n",
            " 6   Years in current job          1594 non-null   float64\n",
            " 7   Home Ownership                1606 non-null   object \n",
            " 8   Annual Income                 1606 non-null   float64\n",
            " 9   Purpose                       1606 non-null   object \n",
            " 10  Monthly Debt                  1606 non-null   float64\n",
            " 11  Years of Credit History       1606 non-null   float64\n",
            " 12  Months since last delinquent  856 non-null    float64\n",
            " 13  Number of Open Accounts       1606 non-null   int64  \n",
            " 14  Number of Credit Problems     1606 non-null   int64  \n",
            " 15  Current Credit Balance        1606 non-null   int64  \n",
            " 16  Maximum Open Credit           1606 non-null   float64\n",
            " 17  Bankruptcies                  1600 non-null   float64\n",
            " 18  Tax Liens                     1606 non-null   float64\n",
            "dtypes: float64(10), int64(3), object(6)\n",
            "memory usage: 250.9+ KB\n"
          ]
        }
      ]
    },
    {
      "cell_type": "code",
      "source": [
        "loans['Annual Income'][loans['Annual Income'] > 200000].count()\n",
        "corr_check = loans[loans['Annual Income'] < 100000].corr()\n",
        "corr_check[['Annual Income']]"
      ],
      "metadata": {
        "colab": {
          "base_uri": "https://localhost:8080/"
        },
        "id": "qJkS08izQS7F",
        "outputId": "bfb01472-384f-4285-a4f0-4aa9e929e2f8"
      },
      "execution_count": null,
      "outputs": [
        {
          "output_type": "execute_result",
          "data": {
            "text/plain": [
              "                              Annual Income\n",
              "Current Loan Amount                0.464115\n",
              "Credit Score                      -0.005544\n",
              "Years in current job               0.178496\n",
              "Annual Income                      1.000000\n",
              "Monthly Debt                       0.541002\n",
              "Years of Credit History            0.173280\n",
              "Months since last delinquent      -0.061603\n",
              "Number of Open Accounts            0.211070\n",
              "Number of Credit Problems         -0.011849\n",
              "Current Credit Balance             0.316751\n",
              "Maximum Open Credit                0.043804\n",
              "Bankruptcies                      -0.029128\n",
              "Tax Liens                          0.021939"
            ],
            "text/html": [
              "\n",
              "  <div id=\"df-ba3d7ff1-0384-4d48-992d-eef3720462d9\">\n",
              "    <div class=\"colab-df-container\">\n",
              "      <div>\n",
              "<style scoped>\n",
              "    .dataframe tbody tr th:only-of-type {\n",
              "        vertical-align: middle;\n",
              "    }\n",
              "\n",
              "    .dataframe tbody tr th {\n",
              "        vertical-align: top;\n",
              "    }\n",
              "\n",
              "    .dataframe thead th {\n",
              "        text-align: right;\n",
              "    }\n",
              "</style>\n",
              "<table border=\"1\" class=\"dataframe\">\n",
              "  <thead>\n",
              "    <tr style=\"text-align: right;\">\n",
              "      <th></th>\n",
              "      <th>Annual Income</th>\n",
              "    </tr>\n",
              "  </thead>\n",
              "  <tbody>\n",
              "    <tr>\n",
              "      <th>Current Loan Amount</th>\n",
              "      <td>0.464115</td>\n",
              "    </tr>\n",
              "    <tr>\n",
              "      <th>Credit Score</th>\n",
              "      <td>-0.005544</td>\n",
              "    </tr>\n",
              "    <tr>\n",
              "      <th>Years in current job</th>\n",
              "      <td>0.178496</td>\n",
              "    </tr>\n",
              "    <tr>\n",
              "      <th>Annual Income</th>\n",
              "      <td>1.000000</td>\n",
              "    </tr>\n",
              "    <tr>\n",
              "      <th>Monthly Debt</th>\n",
              "      <td>0.541002</td>\n",
              "    </tr>\n",
              "    <tr>\n",
              "      <th>Years of Credit History</th>\n",
              "      <td>0.173280</td>\n",
              "    </tr>\n",
              "    <tr>\n",
              "      <th>Months since last delinquent</th>\n",
              "      <td>-0.061603</td>\n",
              "    </tr>\n",
              "    <tr>\n",
              "      <th>Number of Open Accounts</th>\n",
              "      <td>0.211070</td>\n",
              "    </tr>\n",
              "    <tr>\n",
              "      <th>Number of Credit Problems</th>\n",
              "      <td>-0.011849</td>\n",
              "    </tr>\n",
              "    <tr>\n",
              "      <th>Current Credit Balance</th>\n",
              "      <td>0.316751</td>\n",
              "    </tr>\n",
              "    <tr>\n",
              "      <th>Maximum Open Credit</th>\n",
              "      <td>0.043804</td>\n",
              "    </tr>\n",
              "    <tr>\n",
              "      <th>Bankruptcies</th>\n",
              "      <td>-0.029128</td>\n",
              "    </tr>\n",
              "    <tr>\n",
              "      <th>Tax Liens</th>\n",
              "      <td>0.021939</td>\n",
              "    </tr>\n",
              "  </tbody>\n",
              "</table>\n",
              "</div>\n",
              "      <button class=\"colab-df-convert\" onclick=\"convertToInteractive('df-ba3d7ff1-0384-4d48-992d-eef3720462d9')\"\n",
              "              title=\"Convert this dataframe to an interactive table.\"\n",
              "              style=\"display:none;\">\n",
              "        \n",
              "  <svg xmlns=\"http://www.w3.org/2000/svg\" height=\"24px\"viewBox=\"0 0 24 24\"\n",
              "       width=\"24px\">\n",
              "    <path d=\"M0 0h24v24H0V0z\" fill=\"none\"/>\n",
              "    <path d=\"M18.56 5.44l.94 2.06.94-2.06 2.06-.94-2.06-.94-.94-2.06-.94 2.06-2.06.94zm-11 1L8.5 8.5l.94-2.06 2.06-.94-2.06-.94L8.5 2.5l-.94 2.06-2.06.94zm10 10l.94 2.06.94-2.06 2.06-.94-2.06-.94-.94-2.06-.94 2.06-2.06.94z\"/><path d=\"M17.41 7.96l-1.37-1.37c-.4-.4-.92-.59-1.43-.59-.52 0-1.04.2-1.43.59L10.3 9.45l-7.72 7.72c-.78.78-.78 2.05 0 2.83L4 21.41c.39.39.9.59 1.41.59.51 0 1.02-.2 1.41-.59l7.78-7.78 2.81-2.81c.8-.78.8-2.07 0-2.86zM5.41 20L4 18.59l7.72-7.72 1.47 1.35L5.41 20z\"/>\n",
              "  </svg>\n",
              "      </button>\n",
              "      \n",
              "  <style>\n",
              "    .colab-df-container {\n",
              "      display:flex;\n",
              "      flex-wrap:wrap;\n",
              "      gap: 12px;\n",
              "    }\n",
              "\n",
              "    .colab-df-convert {\n",
              "      background-color: #E8F0FE;\n",
              "      border: none;\n",
              "      border-radius: 50%;\n",
              "      cursor: pointer;\n",
              "      display: none;\n",
              "      fill: #1967D2;\n",
              "      height: 32px;\n",
              "      padding: 0 0 0 0;\n",
              "      width: 32px;\n",
              "    }\n",
              "\n",
              "    .colab-df-convert:hover {\n",
              "      background-color: #E2EBFA;\n",
              "      box-shadow: 0px 1px 2px rgba(60, 64, 67, 0.3), 0px 1px 3px 1px rgba(60, 64, 67, 0.15);\n",
              "      fill: #174EA6;\n",
              "    }\n",
              "\n",
              "    [theme=dark] .colab-df-convert {\n",
              "      background-color: #3B4455;\n",
              "      fill: #D2E3FC;\n",
              "    }\n",
              "\n",
              "    [theme=dark] .colab-df-convert:hover {\n",
              "      background-color: #434B5C;\n",
              "      box-shadow: 0px 1px 3px 1px rgba(0, 0, 0, 0.15);\n",
              "      filter: drop-shadow(0px 1px 2px rgba(0, 0, 0, 0.3));\n",
              "      fill: #FFFFFF;\n",
              "    }\n",
              "  </style>\n",
              "\n",
              "      <script>\n",
              "        const buttonEl =\n",
              "          document.querySelector('#df-ba3d7ff1-0384-4d48-992d-eef3720462d9 button.colab-df-convert');\n",
              "        buttonEl.style.display =\n",
              "          google.colab.kernel.accessAllowed ? 'block' : 'none';\n",
              "\n",
              "        async function convertToInteractive(key) {\n",
              "          const element = document.querySelector('#df-ba3d7ff1-0384-4d48-992d-eef3720462d9');\n",
              "          const dataTable =\n",
              "            await google.colab.kernel.invokeFunction('convertToInteractive',\n",
              "                                                     [key], {});\n",
              "          if (!dataTable) return;\n",
              "\n",
              "          const docLinkHtml = 'Like what you see? Visit the ' +\n",
              "            '<a target=\"_blank\" href=https://colab.research.google.com/notebooks/data_table.ipynb>data table notebook</a>'\n",
              "            + ' to learn more about interactive tables.';\n",
              "          element.innerHTML = '';\n",
              "          dataTable['output_type'] = 'display_data';\n",
              "          await google.colab.output.renderOutput(dataTable, element);\n",
              "          const docLink = document.createElement('div');\n",
              "          docLink.innerHTML = docLinkHtml;\n",
              "          element.appendChild(docLink);\n",
              "        }\n",
              "      </script>\n",
              "    </div>\n",
              "  </div>\n",
              "  "
            ]
          },
          "metadata": {},
          "execution_count": 36
        }
      ]
    },
    {
      "cell_type": "markdown",
      "source": [
        "# Check the heatmap for correlations"
      ],
      "metadata": {
        "id": "jYvS1Vhv7AFD"
      }
    },
    {
      "cell_type": "code",
      "source": [
        "plt.figure(figsize=(16,6))\n",
        "heatmap = sns.heatmap(loans.corr(),vmin=-1, vmax=1, annot=True, cmap = 'BrBG')"
      ],
      "metadata": {
        "colab": {
          "base_uri": "https://localhost:8080/",
          "height": 512
        },
        "id": "mvmqQyIx6aWT",
        "outputId": "e5efd403-95d5-441a-acef-d2b5ef54e23a"
      },
      "execution_count": null,
      "outputs": [
        {
          "output_type": "display_data",
          "data": {
            "text/plain": [
              "<Figure size 1152x432 with 2 Axes>"
            ],
            "image/png": "[encoded data removed]"
          },
          "metadata": {
            "needs_background": "light"
          }
        }
      ]
    },
    {
      "cell_type": "markdown",
      "source": [
        "* Credit score - same as annual income\n",
        "  * Years in current job\n",
        "  * Annual income\n",
        "  * Years of Credit History\n",
        "  * Home ownership\n",
        "* Annual income - same as credit score\n",
        "  * Monthly Debt\n",
        "  * Current credit balance\n",
        "  * Number of Open Accounts\n",
        "  * Years of Credit history\n",
        "  * Years in current job\n",
        "* Years in current job\n",
        "  * Years of credit history\n",
        "  * Monthly debt\n",
        "  * Current loan amount\n",
        "  * Current credit balance\n",
        "* Months since last delinquent - going to drop this column\n",
        "* Bankruptcies\n",
        "  * Number of credit problems - VERY high\n",
        "* Tax liens\n",
        "  * Number of Credit problems - VERY high\n",
        "* Current Loan Amounts - think about what to do here, I made a bunch of values NaN\n",
        "  * Annual income\n",
        "  * Monthly debt\n",
        "  * Current credit balance\n",
        "  * "
      ],
      "metadata": {
        "id": "0mdT54KD7c3q"
      }
    },
    {
      "cell_type": "markdown",
      "source": [
        "# Fill in the nulls"
      ],
      "metadata": {
        "id": "xxlCVmjJFlJE"
      }
    },
    {
      "cell_type": "code",
      "source": [
        "loans.isna().sum()"
      ],
      "metadata": {
        "colab": {
          "base_uri": "https://localhost:8080/"
        },
        "id": "iG5nKIzurDzI",
        "outputId": "fff8a4fc-77cd-4ecd-a92d-d0fb00cf36ed"
      },
      "execution_count": null,
      "outputs": [
        {
          "output_type": "execute_result",
          "data": {
            "text/plain": [
              "Loan ID                             0\n",
              "Customer ID                         0\n",
              "Loan Status                         0\n",
              "Current Loan Amount             12738\n",
              "Term                                0\n",
              "Credit Score                    21338\n",
              "Years in current job             4693\n",
              "Home Ownership                      0\n",
              "Annual Income                   21338\n",
              "Purpose                             0\n",
              "Monthly Debt                        0\n",
              "Years of Credit History             0\n",
              "Months since last delinquent    59003\n",
              "Number of Open Accounts             0\n",
              "Number of Credit Problems           0\n",
              "Current Credit Balance              0\n",
              "Maximum Open Credit                 0\n",
              "Bankruptcies                      228\n",
              "Tax Liens                          11\n",
              "dtype: int64"
            ]
          },
          "metadata": {},
          "execution_count": 38
        }
      ]
    },
    {
      "cell_type": "markdown",
      "source": [
        "## Current loan amount\n",
        "Look at\n",
        "  * Annual income\n",
        "  * Monthly debt\n",
        "  * Current credit balance"
      ],
      "metadata": {
        "id": "sJduDeQSsiCl"
      }
    },
    {
      "cell_type": "code",
      "source": [
        "loans['Current Loan Amount'].hist()"
      ],
      "metadata": {
        "colab": {
          "base_uri": "https://localhost:8080/",
          "height": 283
        },
        "id": "jsqLtV82vj61",
        "outputId": "b7841a98-eff1-4dd8-91f1-8018ff87fad5"
      },
      "execution_count": null,
      "outputs": [
        {
          "output_type": "execute_result",
          "data": {
            "text/plain": [
              "<matplotlib.axes._subplots.AxesSubplot at 0x7ff3cdd45b90>"
            ]
          },
          "metadata": {},
          "execution_count": 39
        },
        {
          "output_type": "display_data",
          "data": {
            "text/plain": [
              "<Figure size 432x288 with 1 Axes>"
            ],
            "image/png": "[encoded data removed]"
          },
          "metadata": {
            "needs_background": "light"
          }
        }
      ]
    },
    {
      "cell_type": "code",
      "source": [
        "loans['Current Loan Amount'].fillna(loans.groupby('Annual Income')['Current Loan Amount'].transform('median'), inplace=True)"
      ],
      "metadata": {
        "id": "KtqiIt23vacp"
      },
      "execution_count": null,
      "outputs": []
    },
    {
      "cell_type": "markdown",
      "source": [
        "There are still some null values for loans. Use monthly debt next."
      ],
      "metadata": {
        "id": "rPjbwh6wwdES"
      }
    },
    {
      "cell_type": "code",
      "source": [
        "loans['Current Loan Amount'].fillna(loans.groupby('Monthly Debt')['Current Loan Amount'].transform('median'),inplace=True)"
      ],
      "metadata": {
        "id": "WdqAy8vDwjYk"
      },
      "execution_count": null,
      "outputs": []
    },
    {
      "cell_type": "code",
      "source": [
        "loans.isna().sum()"
      ],
      "metadata": {
        "colab": {
          "base_uri": "https://localhost:8080/"
        },
        "id": "wRZcafGSwphI",
        "outputId": "ea43c0b7-952c-48cd-dd14-67e537edf61e"
      },
      "execution_count": null,
      "outputs": [
        {
          "output_type": "execute_result",
          "data": {
            "text/plain": [
              "Loan ID                             0\n",
              "Customer ID                         0\n",
              "Loan Status                         0\n",
              "Current Loan Amount              1836\n",
              "Term                                0\n",
              "Credit Score                    21338\n",
              "Years in current job             4693\n",
              "Home Ownership                      0\n",
              "Annual Income                   21338\n",
              "Purpose                             0\n",
              "Monthly Debt                        0\n",
              "Years of Credit History             0\n",
              "Months since last delinquent    59003\n",
              "Number of Open Accounts             0\n",
              "Number of Credit Problems           0\n",
              "Current Credit Balance              0\n",
              "Maximum Open Credit                 0\n",
              "Bankruptcies                      228\n",
              "Tax Liens                          11\n",
              "dtype: int64"
            ]
          },
          "metadata": {},
          "execution_count": 42
        }
      ]
    },
    {
      "cell_type": "markdown",
      "source": [
        "Try using current credit balance to fill in more"
      ],
      "metadata": {
        "id": "FMIfCZntwuVI"
      }
    },
    {
      "cell_type": "code",
      "source": [
        "loans['Current Loan Amount'].fillna(loans.groupby('Current Credit Balance')['Current Loan Amount'].transform('median'),inplace=True)"
      ],
      "metadata": {
        "id": "n7wU_VWBwrzt"
      },
      "execution_count": null,
      "outputs": []
    },
    {
      "cell_type": "code",
      "source": [
        "loans.isna().sum()"
      ],
      "metadata": {
        "colab": {
          "base_uri": "https://localhost:8080/"
        },
        "id": "pc8p2zY-wzUF",
        "outputId": "e39a3fa6-9ab0-49e3-d20d-03d5faf62bb5"
      },
      "execution_count": null,
      "outputs": [
        {
          "output_type": "execute_result",
          "data": {
            "text/plain": [
              "Loan ID                             0\n",
              "Customer ID                         0\n",
              "Loan Status                         0\n",
              "Current Loan Amount               385\n",
              "Term                                0\n",
              "Credit Score                    21338\n",
              "Years in current job             4693\n",
              "Home Ownership                      0\n",
              "Annual Income                   21338\n",
              "Purpose                             0\n",
              "Monthly Debt                        0\n",
              "Years of Credit History             0\n",
              "Months since last delinquent    59003\n",
              "Number of Open Accounts             0\n",
              "Number of Credit Problems           0\n",
              "Current Credit Balance              0\n",
              "Maximum Open Credit                 0\n",
              "Bankruptcies                      228\n",
              "Tax Liens                          11\n",
              "dtype: int64"
            ]
          },
          "metadata": {},
          "execution_count": 44
        }
      ]
    },
    {
      "cell_type": "markdown",
      "source": [
        "Fill in the remainder using the median for Current Loan Amounts"
      ],
      "metadata": {
        "id": "jWUjW6OUw5D4"
      }
    },
    {
      "cell_type": "code",
      "source": [
        "loans['Current Loan Amount'].fillna(loans['Current Loan Amount'].median(), inplace=True)"
      ],
      "metadata": {
        "id": "qReT1k3yw7UY"
      },
      "execution_count": null,
      "outputs": []
    },
    {
      "cell_type": "code",
      "source": [
        "loans.isna().sum()"
      ],
      "metadata": {
        "colab": {
          "base_uri": "https://localhost:8080/"
        },
        "id": "Wd7PsABjxKNf",
        "outputId": "323fe748-c43c-493f-c1bc-2db921f9dc96"
      },
      "execution_count": null,
      "outputs": [
        {
          "output_type": "execute_result",
          "data": {
            "text/plain": [
              "Loan ID                             0\n",
              "Customer ID                         0\n",
              "Loan Status                         0\n",
              "Current Loan Amount                 0\n",
              "Term                                0\n",
              "Credit Score                    21338\n",
              "Years in current job             4693\n",
              "Home Ownership                      0\n",
              "Annual Income                   21338\n",
              "Purpose                             0\n",
              "Monthly Debt                        0\n",
              "Years of Credit History             0\n",
              "Months since last delinquent    59003\n",
              "Number of Open Accounts             0\n",
              "Number of Credit Problems           0\n",
              "Current Credit Balance              0\n",
              "Maximum Open Credit                 0\n",
              "Bankruptcies                      228\n",
              "Tax Liens                          11\n",
              "dtype: int64"
            ]
          },
          "metadata": {},
          "execution_count": 46
        }
      ]
    },
    {
      "cell_type": "markdown",
      "source": [
        "## Annual income\n",
        "* Monthly Debt\n",
        "* Current credit balance\n",
        "* Number of Open Accounts\n",
        "* Years of Credit history\n",
        "* Years in current job"
      ],
      "metadata": {
        "id": "tc53sCZ-shzf"
      }
    },
    {
      "cell_type": "code",
      "source": [
        "# isolate out incomes over $200K, since those are above the 99th percentile, but really skew things\n",
        "loans['Annual Income'][loans['Annual Income'] < 200000].hist();"
      ],
      "metadata": {
        "colab": {
          "base_uri": "https://localhost:8080/",
          "height": 265
        },
        "id": "KphYVNhYxfbV",
        "outputId": "1f3f3d37-2be7-4086-90c6-0d8435466643"
      },
      "execution_count": null,
      "outputs": [
        {
          "output_type": "display_data",
          "data": {
            "text/plain": [
              "<Figure size 432x288 with 1 Axes>"
            ],
            "image/png": "[encoded data removed]"
          },
          "metadata": {
            "needs_background": "light"
          }
        }
      ]
    },
    {
      "cell_type": "code",
      "source": [
        "# try monthly debt\n",
        "loans['Annual Income'].fillna(loans.groupby('Monthly Debt')['Annual Income'].transform('median'), inplace=True)"
      ],
      "metadata": {
        "id": "xGN4pXvPx4ft"
      },
      "execution_count": null,
      "outputs": []
    },
    {
      "cell_type": "code",
      "source": [
        "loans.isna().sum()"
      ],
      "metadata": {
        "colab": {
          "base_uri": "https://localhost:8080/"
        },
        "id": "Xl0CHdyVyI84",
        "outputId": "51633807-d1fb-41f1-d6fb-2690e8c984a7"
      },
      "execution_count": null,
      "outputs": [
        {
          "output_type": "execute_result",
          "data": {
            "text/plain": [
              "Loan ID                             0\n",
              "Customer ID                         0\n",
              "Loan Status                         0\n",
              "Current Loan Amount                 0\n",
              "Term                                0\n",
              "Credit Score                    21338\n",
              "Years in current job             4693\n",
              "Home Ownership                      0\n",
              "Annual Income                   10741\n",
              "Purpose                             0\n",
              "Monthly Debt                        0\n",
              "Years of Credit History             0\n",
              "Months since last delinquent    59003\n",
              "Number of Open Accounts             0\n",
              "Number of Credit Problems           0\n",
              "Current Credit Balance              0\n",
              "Maximum Open Credit                 0\n",
              "Bankruptcies                      228\n",
              "Tax Liens                          11\n",
              "dtype: int64"
            ]
          },
          "metadata": {},
          "execution_count": 49
        }
      ]
    },
    {
      "cell_type": "code",
      "source": [
        "# try current credit balance\n",
        "loans['Annual Income'].fillna(loans.groupby('Current Credit Balance')['Annual Income'].transform('median'), inplace=True)"
      ],
      "metadata": {
        "id": "PGmTMv2Ix4c6"
      },
      "execution_count": null,
      "outputs": []
    },
    {
      "cell_type": "code",
      "source": [
        "loans.isna().sum()"
      ],
      "metadata": {
        "colab": {
          "base_uri": "https://localhost:8080/"
        },
        "id": "9PBZE4ZczX4I",
        "outputId": "00acb85e-f4a8-42d2-ed58-3af2644bb009"
      },
      "execution_count": null,
      "outputs": [
        {
          "output_type": "execute_result",
          "data": {
            "text/plain": [
              "Loan ID                             0\n",
              "Customer ID                         0\n",
              "Loan Status                         0\n",
              "Current Loan Amount                 0\n",
              "Term                                0\n",
              "Credit Score                    21338\n",
              "Years in current job             4693\n",
              "Home Ownership                      0\n",
              "Annual Income                    1986\n",
              "Purpose                             0\n",
              "Monthly Debt                        0\n",
              "Years of Credit History             0\n",
              "Months since last delinquent    59003\n",
              "Number of Open Accounts             0\n",
              "Number of Credit Problems           0\n",
              "Current Credit Balance              0\n",
              "Maximum Open Credit                 0\n",
              "Bankruptcies                      228\n",
              "Tax Liens                          11\n",
              "dtype: int64"
            ]
          },
          "metadata": {},
          "execution_count": 51
        }
      ]
    },
    {
      "cell_type": "code",
      "source": [
        "# try number of open accounts\n",
        "loans['Annual Income'].fillna(loans.groupby('Number of Open Accounts')['Annual Income'].transform('median'), inplace=True)"
      ],
      "metadata": {
        "id": "xEbyavB5x4Ui"
      },
      "execution_count": null,
      "outputs": []
    },
    {
      "cell_type": "code",
      "source": [
        "loans.isna().sum()"
      ],
      "metadata": {
        "colab": {
          "base_uri": "https://localhost:8080/"
        },
        "id": "JCFEl5IBzZ1A",
        "outputId": "31eecf0a-79f1-4b9a-def4-2da26d0c5d6d"
      },
      "execution_count": null,
      "outputs": [
        {
          "output_type": "execute_result",
          "data": {
            "text/plain": [
              "Loan ID                             0\n",
              "Customer ID                         0\n",
              "Loan Status                         0\n",
              "Current Loan Amount                 0\n",
              "Term                                0\n",
              "Credit Score                    21338\n",
              "Years in current job             4693\n",
              "Home Ownership                      0\n",
              "Annual Income                       0\n",
              "Purpose                             0\n",
              "Monthly Debt                        0\n",
              "Years of Credit History             0\n",
              "Months since last delinquent    59003\n",
              "Number of Open Accounts             0\n",
              "Number of Credit Problems           0\n",
              "Current Credit Balance              0\n",
              "Maximum Open Credit                 0\n",
              "Bankruptcies                      228\n",
              "Tax Liens                          11\n",
              "dtype: int64"
            ]
          },
          "metadata": {},
          "execution_count": 53
        }
      ]
    },
    {
      "cell_type": "markdown",
      "source": [
        "## Bankruptcies\n",
        "* Number of credit problems - VERY high"
      ],
      "metadata": {
        "id": "8Ay3ukAbsglO"
      }
    },
    {
      "cell_type": "code",
      "source": [
        "loans['Bankruptcies'].value_counts(normalize=True)"
      ],
      "metadata": {
        "colab": {
          "base_uri": "https://localhost:8080/"
        },
        "id": "eOSvmSPL0UcB",
        "outputId": "58005707-cbcc-4a3e-f777-e0aaa70d2a73"
      },
      "execution_count": null,
      "outputs": [
        {
          "output_type": "execute_result",
          "data": {
            "text/plain": [
              "0.0    0.889709\n",
              "1.0    0.104736\n",
              "2.0    0.004221\n",
              "3.0    0.000992\n",
              "4.0    0.000244\n",
              "5.0    0.000072\n",
              "6.0    0.000018\n",
              "7.0    0.000009\n",
              "Name: Bankruptcies, dtype: float64"
            ]
          },
          "metadata": {},
          "execution_count": 54
        }
      ]
    },
    {
      "cell_type": "code",
      "source": [
        "# try number of credit problems\n",
        "loans['Bankruptcies'].fillna(loans.groupby('Number of Credit Problems')['Bankruptcies'].transform('median'), inplace=True)"
      ],
      "metadata": {
        "id": "-ksWwwW-0iql"
      },
      "execution_count": null,
      "outputs": []
    },
    {
      "cell_type": "code",
      "source": [
        "loans.isna().sum()"
      ],
      "metadata": {
        "colab": {
          "base_uri": "https://localhost:8080/"
        },
        "id": "7txKXUGW03Hr",
        "outputId": "a1e5157f-265d-4ff2-99d8-e3a992c0ef7c"
      },
      "execution_count": null,
      "outputs": [
        {
          "output_type": "execute_result",
          "data": {
            "text/plain": [
              "Loan ID                             0\n",
              "Customer ID                         0\n",
              "Loan Status                         0\n",
              "Current Loan Amount                 0\n",
              "Term                                0\n",
              "Credit Score                    21338\n",
              "Years in current job             4693\n",
              "Home Ownership                      0\n",
              "Annual Income                       0\n",
              "Purpose                             0\n",
              "Monthly Debt                        0\n",
              "Years of Credit History             0\n",
              "Months since last delinquent    59003\n",
              "Number of Open Accounts             0\n",
              "Number of Credit Problems           0\n",
              "Current Credit Balance              0\n",
              "Maximum Open Credit                 0\n",
              "Bankruptcies                        0\n",
              "Tax Liens                          11\n",
              "dtype: int64"
            ]
          },
          "metadata": {},
          "execution_count": 56
        }
      ]
    },
    {
      "cell_type": "markdown",
      "source": [
        "## Tax Liens\n",
        "* Number of Credit problems - VERY high"
      ],
      "metadata": {
        "id": "c5XeaJSZsgjQ"
      }
    },
    {
      "cell_type": "code",
      "source": [
        "loans['Tax Liens'].value_counts()"
      ],
      "metadata": {
        "colab": {
          "base_uri": "https://localhost:8080/"
        },
        "id": "6Ow3KJ8u1F7L",
        "outputId": "1cf01ecf-b9de-41b9-f744-0e7149d4282c"
      },
      "execution_count": null,
      "outputs": [
        {
          "output_type": "execute_result",
          "data": {
            "text/plain": [
              "0.0     108964\n",
              "1.0       1485\n",
              "2.0        408\n",
              "3.0        124\n",
              "4.0         66\n",
              "5.0         19\n",
              "6.0         12\n",
              "7.0          7\n",
              "9.0          5\n",
              "8.0          2\n",
              "11.0         2\n",
              "15.0         1\n",
              "10.0         1\n",
              "Name: Tax Liens, dtype: int64"
            ]
          },
          "metadata": {},
          "execution_count": 57
        }
      ]
    },
    {
      "cell_type": "code",
      "source": [
        "# try number of credit problems\n",
        "loans['Tax Liens'].fillna(loans.groupby('Number of Credit Problems')['Tax Liens'].transform('median'), inplace=True)"
      ],
      "metadata": {
        "id": "cbubgbqr1J03"
      },
      "execution_count": null,
      "outputs": []
    },
    {
      "cell_type": "code",
      "source": [
        "loans.isna().sum()"
      ],
      "metadata": {
        "colab": {
          "base_uri": "https://localhost:8080/"
        },
        "id": "AXoUK6Mq1akJ",
        "outputId": "a6e470de-98a1-4e0c-f27b-02711f9c4077"
      },
      "execution_count": null,
      "outputs": [
        {
          "output_type": "execute_result",
          "data": {
            "text/plain": [
              "Loan ID                             0\n",
              "Customer ID                         0\n",
              "Loan Status                         0\n",
              "Current Loan Amount                 0\n",
              "Term                                0\n",
              "Credit Score                    21338\n",
              "Years in current job             4693\n",
              "Home Ownership                      0\n",
              "Annual Income                       0\n",
              "Purpose                             0\n",
              "Monthly Debt                        0\n",
              "Years of Credit History             0\n",
              "Months since last delinquent    59003\n",
              "Number of Open Accounts             0\n",
              "Number of Credit Problems           0\n",
              "Current Credit Balance              0\n",
              "Maximum Open Credit                 0\n",
              "Bankruptcies                        0\n",
              "Tax Liens                           0\n",
              "dtype: int64"
            ]
          },
          "metadata": {},
          "execution_count": 59
        }
      ]
    },
    {
      "cell_type": "markdown",
      "source": [
        "## Months since last delinquent - drop this\n",
        "\n",
        "Dropping this because there are over 50% nulls"
      ],
      "metadata": {
        "id": "VynH8aS0shsf"
      }
    },
    {
      "cell_type": "code",
      "source": [
        "loans.drop(columns = 'Months since last delinquent', inplace = True)"
      ],
      "metadata": {
        "id": "dmNKACu91lpm"
      },
      "execution_count": null,
      "outputs": []
    },
    {
      "cell_type": "code",
      "source": [
        "loans.isna().sum()"
      ],
      "metadata": {
        "colab": {
          "base_uri": "https://localhost:8080/"
        },
        "id": "cnAQTg631swt",
        "outputId": "d156f43e-9525-419f-ba74-cac0ef2e4dc6"
      },
      "execution_count": null,
      "outputs": [
        {
          "output_type": "execute_result",
          "data": {
            "text/plain": [
              "Loan ID                          0\n",
              "Customer ID                      0\n",
              "Loan Status                      0\n",
              "Current Loan Amount              0\n",
              "Term                             0\n",
              "Credit Score                 21338\n",
              "Years in current job          4693\n",
              "Home Ownership                   0\n",
              "Annual Income                    0\n",
              "Purpose                          0\n",
              "Monthly Debt                     0\n",
              "Years of Credit History          0\n",
              "Number of Open Accounts          0\n",
              "Number of Credit Problems        0\n",
              "Current Credit Balance           0\n",
              "Maximum Open Credit              0\n",
              "Bankruptcies                     0\n",
              "Tax Liens                        0\n",
              "dtype: int64"
            ]
          },
          "metadata": {},
          "execution_count": 61
        }
      ]
    },
    {
      "cell_type": "markdown",
      "source": [
        "## Years in current job\n",
        "* Years of credit history\n",
        "* Monthly debt\n",
        "* Current loan amount\n",
        "* Current credit balance"
      ],
      "metadata": {
        "id": "8kKiHJaJ1zqa"
      }
    },
    {
      "cell_type": "code",
      "source": [
        "loans['Years in current job'].hist();"
      ],
      "metadata": {
        "colab": {
          "base_uri": "https://localhost:8080/",
          "height": 265
        },
        "id": "pWidcWSp2Zp2",
        "outputId": "8bd28882-3b99-4c0d-8df3-d897193dde3b"
      },
      "execution_count": null,
      "outputs": [
        {
          "output_type": "display_data",
          "data": {
            "text/plain": [
              "<Figure size 432x288 with 1 Axes>"
            ],
            "image/png": "[encoded data removed]"
          },
          "metadata": {
            "needs_background": "light"
          }
        }
      ]
    },
    {
      "cell_type": "code",
      "source": [
        "loans['Years in current job'].median()"
      ],
      "metadata": {
        "colab": {
          "base_uri": "https://localhost:8080/"
        },
        "id": "FjArfN132fI6",
        "outputId": "c6f8ab76-66c0-4d5d-bab5-1c9bbe83055f"
      },
      "execution_count": null,
      "outputs": [
        {
          "output_type": "execute_result",
          "data": {
            "text/plain": [
              "6.0"
            ]
          },
          "metadata": {},
          "execution_count": 63
        }
      ]
    },
    {
      "cell_type": "code",
      "source": [
        "loans['Years in current job'].value_counts()"
      ],
      "metadata": {
        "colab": {
          "base_uri": "https://localhost:8080/"
        },
        "id": "GIwxnX2B2hUU",
        "outputId": "cfa8cc50-b30b-4d26-d571-90e0ce4b8b43"
      },
      "execution_count": null,
      "outputs": [
        {
          "output_type": "execute_result",
          "data": {
            "text/plain": [
              "10.0    34551\n",
              "2.0     10158\n",
              "3.0      9133\n",
              "0.0      9055\n",
              "5.0      7559\n",
              "1.0      7175\n",
              "4.0      6828\n",
              "6.0      6310\n",
              "7.0      6186\n",
              "8.0      5105\n",
              "9.0      4354\n",
              "Name: Years in current job, dtype: int64"
            ]
          },
          "metadata": {},
          "execution_count": 64
        }
      ]
    },
    {
      "cell_type": "code",
      "source": [
        "# try years of credit history\n",
        "loans['Years in current job'].fillna(loans.groupby('Years of Credit History')['Years in current job'].transform('median'), inplace=True)"
      ],
      "metadata": {
        "id": "fi04cwvu2qbK"
      },
      "execution_count": null,
      "outputs": []
    },
    {
      "cell_type": "code",
      "source": [
        "loans.isna().sum()"
      ],
      "metadata": {
        "colab": {
          "base_uri": "https://localhost:8080/"
        },
        "id": "0xibh7YF2xti",
        "outputId": "bf19c341-6391-4888-f423-ef73905a277b"
      },
      "execution_count": null,
      "outputs": [
        {
          "output_type": "execute_result",
          "data": {
            "text/plain": [
              "Loan ID                          0\n",
              "Customer ID                      0\n",
              "Loan Status                      0\n",
              "Current Loan Amount              0\n",
              "Term                             0\n",
              "Credit Score                 21338\n",
              "Years in current job            20\n",
              "Home Ownership                   0\n",
              "Annual Income                    0\n",
              "Purpose                          0\n",
              "Monthly Debt                     0\n",
              "Years of Credit History          0\n",
              "Number of Open Accounts          0\n",
              "Number of Credit Problems        0\n",
              "Current Credit Balance           0\n",
              "Maximum Open Credit              0\n",
              "Bankruptcies                     0\n",
              "Tax Liens                        0\n",
              "dtype: int64"
            ]
          },
          "metadata": {},
          "execution_count": 66
        }
      ]
    },
    {
      "cell_type": "code",
      "source": [
        "# try monthly debt\n",
        "loans['Years in current job'].fillna(loans.groupby('Monthly Debt')['Years in current job'].transform('median'), inplace=True)"
      ],
      "metadata": {
        "id": "rlT1qJ942vX4"
      },
      "execution_count": null,
      "outputs": []
    },
    {
      "cell_type": "code",
      "source": [
        "loans.isna().sum()"
      ],
      "metadata": {
        "colab": {
          "base_uri": "https://localhost:8080/"
        },
        "id": "_nG_lI752zho",
        "outputId": "c2372cbc-1041-463d-ae53-6a2300b44382"
      },
      "execution_count": null,
      "outputs": [
        {
          "output_type": "execute_result",
          "data": {
            "text/plain": [
              "Loan ID                          0\n",
              "Customer ID                      0\n",
              "Loan Status                      0\n",
              "Current Loan Amount              0\n",
              "Term                             0\n",
              "Credit Score                 21338\n",
              "Years in current job            18\n",
              "Home Ownership                   0\n",
              "Annual Income                    0\n",
              "Purpose                          0\n",
              "Monthly Debt                     0\n",
              "Years of Credit History          0\n",
              "Number of Open Accounts          0\n",
              "Number of Credit Problems        0\n",
              "Current Credit Balance           0\n",
              "Maximum Open Credit              0\n",
              "Bankruptcies                     0\n",
              "Tax Liens                        0\n",
              "dtype: int64"
            ]
          },
          "metadata": {},
          "execution_count": 68
        }
      ]
    },
    {
      "cell_type": "code",
      "source": [
        "# try current loan amount\n",
        "loans['Years in current job'].fillna(loans.groupby('Current Loan Amount')['Years in current job'].transform('median'), inplace=True)"
      ],
      "metadata": {
        "id": "NbaRiQsg2vl0"
      },
      "execution_count": null,
      "outputs": []
    },
    {
      "cell_type": "code",
      "source": [
        "loans.isna().sum()"
      ],
      "metadata": {
        "colab": {
          "base_uri": "https://localhost:8080/"
        },
        "id": "FdPGuLbr20kx",
        "outputId": "04be0731-e6b2-4066-9ffd-705c4143d32e"
      },
      "execution_count": null,
      "outputs": [
        {
          "output_type": "execute_result",
          "data": {
            "text/plain": [
              "Loan ID                          0\n",
              "Customer ID                      0\n",
              "Loan Status                      0\n",
              "Current Loan Amount              0\n",
              "Term                             0\n",
              "Credit Score                 21338\n",
              "Years in current job             1\n",
              "Home Ownership                   0\n",
              "Annual Income                    0\n",
              "Purpose                          0\n",
              "Monthly Debt                     0\n",
              "Years of Credit History          0\n",
              "Number of Open Accounts          0\n",
              "Number of Credit Problems        0\n",
              "Current Credit Balance           0\n",
              "Maximum Open Credit              0\n",
              "Bankruptcies                     0\n",
              "Tax Liens                        0\n",
              "dtype: int64"
            ]
          },
          "metadata": {},
          "execution_count": 70
        }
      ]
    },
    {
      "cell_type": "code",
      "source": [
        "# try current credit balance\n",
        "loans['Years in current job'].fillna(loans.groupby('Current Credit Balance')['Years in current job'].transform('median'), inplace=True)"
      ],
      "metadata": {
        "id": "lT61NnjN2vsx"
      },
      "execution_count": null,
      "outputs": []
    },
    {
      "cell_type": "code",
      "source": [
        "loans.isna().sum()"
      ],
      "metadata": {
        "colab": {
          "base_uri": "https://localhost:8080/"
        },
        "id": "5hminRss3QvM",
        "outputId": "699b9ec0-4bb5-45b3-e9d5-568b7f4655d4"
      },
      "execution_count": null,
      "outputs": [
        {
          "output_type": "execute_result",
          "data": {
            "text/plain": [
              "Loan ID                          0\n",
              "Customer ID                      0\n",
              "Loan Status                      0\n",
              "Current Loan Amount              0\n",
              "Term                             0\n",
              "Credit Score                 21338\n",
              "Years in current job             1\n",
              "Home Ownership                   0\n",
              "Annual Income                    0\n",
              "Purpose                          0\n",
              "Monthly Debt                     0\n",
              "Years of Credit History          0\n",
              "Number of Open Accounts          0\n",
              "Number of Credit Problems        0\n",
              "Current Credit Balance           0\n",
              "Maximum Open Credit              0\n",
              "Bankruptcies                     0\n",
              "Tax Liens                        0\n",
              "dtype: int64"
            ]
          },
          "metadata": {},
          "execution_count": 72
        }
      ]
    },
    {
      "cell_type": "code",
      "source": [
        "# fill in with the median for the remaining value\n",
        "loans['Years in current job'].fillna(loans['Years in current job'].median(), inplace=True)"
      ],
      "metadata": {
        "id": "DS62ICqo3Ubm"
      },
      "execution_count": null,
      "outputs": []
    },
    {
      "cell_type": "code",
      "source": [
        "loans.isna().sum()"
      ],
      "metadata": {
        "colab": {
          "base_uri": "https://localhost:8080/"
        },
        "id": "Haj9cUu23a3B",
        "outputId": "26528aad-9f04-4678-d515-c65ea1257a14"
      },
      "execution_count": null,
      "outputs": [
        {
          "output_type": "execute_result",
          "data": {
            "text/plain": [
              "Loan ID                          0\n",
              "Customer ID                      0\n",
              "Loan Status                      0\n",
              "Current Loan Amount              0\n",
              "Term                             0\n",
              "Credit Score                 21338\n",
              "Years in current job             0\n",
              "Home Ownership                   0\n",
              "Annual Income                    0\n",
              "Purpose                          0\n",
              "Monthly Debt                     0\n",
              "Years of Credit History          0\n",
              "Number of Open Accounts          0\n",
              "Number of Credit Problems        0\n",
              "Current Credit Balance           0\n",
              "Maximum Open Credit              0\n",
              "Bankruptcies                     0\n",
              "Tax Liens                        0\n",
              "dtype: int64"
            ]
          },
          "metadata": {},
          "execution_count": 74
        }
      ]
    },
    {
      "cell_type": "markdown",
      "source": [
        "## Credit score"
      ],
      "metadata": {
        "id": "dtBd4Htbsh5x"
      }
    },
    {
      "cell_type": "code",
      "source": [
        "loans['Credit Score'].hist(bins = 20)"
      ],
      "metadata": {
        "colab": {
          "base_uri": "https://localhost:8080/",
          "height": 283
        },
        "id": "umbp4KtW30qK",
        "outputId": "504087d1-064d-4032-911f-9f4b02f0523d"
      },
      "execution_count": null,
      "outputs": [
        {
          "output_type": "execute_result",
          "data": {
            "text/plain": [
              "<matplotlib.axes._subplots.AxesSubplot at 0x7ff3ce5a4f10>"
            ]
          },
          "metadata": {},
          "execution_count": 75
        },
        {
          "output_type": "display_data",
          "data": {
            "text/plain": [
              "<Figure size 432x288 with 1 Axes>"
            ],
            "image/png": "[encoded data removed]"
          },
          "metadata": {
            "needs_background": "light"
          }
        }
      ]
    },
    {
      "cell_type": "code",
      "source": [
        "# try years in current job\n",
        "loans['Credit Score'].fillna(loans.groupby('Years in current job')['Credit Score'].transform('median'), inplace=True)"
      ],
      "metadata": {
        "id": "IJ6dt_Xn4Izl"
      },
      "execution_count": null,
      "outputs": []
    },
    {
      "cell_type": "code",
      "source": [
        "loans.isna().sum()"
      ],
      "metadata": {
        "colab": {
          "base_uri": "https://localhost:8080/"
        },
        "id": "lmay4u8l4LQi",
        "outputId": "9fee56be-ff3d-4704-9da0-c65cd662078e"
      },
      "execution_count": null,
      "outputs": [
        {
          "output_type": "execute_result",
          "data": {
            "text/plain": [
              "Loan ID                      0\n",
              "Customer ID                  0\n",
              "Loan Status                  0\n",
              "Current Loan Amount          0\n",
              "Term                         0\n",
              "Credit Score                 0\n",
              "Years in current job         0\n",
              "Home Ownership               0\n",
              "Annual Income                0\n",
              "Purpose                      0\n",
              "Monthly Debt                 0\n",
              "Years of Credit History      0\n",
              "Number of Open Accounts      0\n",
              "Number of Credit Problems    0\n",
              "Current Credit Balance       0\n",
              "Maximum Open Credit          0\n",
              "Bankruptcies                 0\n",
              "Tax Liens                    0\n",
              "dtype: int64"
            ]
          },
          "metadata": {},
          "execution_count": 77
        }
      ]
    },
    {
      "cell_type": "code",
      "source": [
        "loans['Credit Score'].hist(bins = 20)"
      ],
      "metadata": {
        "colab": {
          "base_uri": "https://localhost:8080/",
          "height": 283
        },
        "id": "W6kDFATC4kG_",
        "outputId": "7f16bfed-3428-4898-e42b-f262c2657f09"
      },
      "execution_count": null,
      "outputs": [
        {
          "output_type": "execute_result",
          "data": {
            "text/plain": [
              "<matplotlib.axes._subplots.AxesSubplot at 0x7ff3cdeabad0>"
            ]
          },
          "metadata": {},
          "execution_count": 78
        },
        {
          "output_type": "display_data",
          "data": {
            "text/plain": [
              "<Figure size 432x288 with 1 Axes>"
            ],
            "image/png": "[encoded data removed]"
          },
          "metadata": {
            "needs_background": "light"
          }
        }
      ]
    }
  ]
}