{
  "nbformat": 4,
  "nbformat_minor": 0,
  "metadata": {
    "colab": {
      "name": "DS0614-loans.ipynb",
      "provenance": [],
      "authorship_tag": "ABX9TyPVEZu3Qwf+syYKiHKdGohm",
      "include_colab_link": true
    },
    "kernelspec": {
      "name": "python3",
      "display_name": "Python 3"
    },
    "language_info": {
      "name": "python"
    }
  },
  "cells": [
    {
      "cell_type": "markdown",
      "metadata": {
        "id": "view-in-github",
        "colab_type": "text"
      },
      "source": [
        "<a href=\"https://colab.research.google.com/github/zdanielshi/data_science_LFZ/blob/main/DS0614_loans.ipynb\" target=\"_parent\"><img src=\"https://colab.research.google.com/assets/colab-badge.svg\" alt=\"Open In Colab\"/></a>"
      ]
    },
    {
      "cell_type": "code",
      "execution_count": 31,
      "metadata": {
        "id": "j8jK-NQl5W36"
      },
      "outputs": [],
      "source": [
        "import pandas as pd\n",
        "import numpy as np\n",
        "import matplotlib.pyplot as plt\n",
        "import seaborn as sns"
      ]
    },
    {
      "cell_type": "code",
      "source": [
        "loans = pd.read_csv('/content/LoansDataset.csv')"
      ],
      "metadata": {
        "colab": {
          "base_uri": "https://localhost:8080/"
        },
        "id": "394oGsyP5lwv",
        "outputId": "20a5af96-f97d-4a67-c054-d46282db5104"
      },
      "execution_count": 32,
      "outputs": [
        {
          "output_type": "stream",
          "name": "stderr",
          "text": [
            "/usr/local/lib/python3.7/dist-packages/IPython/core/interactiveshell.py:2882: DtypeWarning: Columns (10,16) have mixed types.Specify dtype option on import or set low_memory=False.\n",
            "  exec(code_obj, self.user_global_ns, self.user_ns)\n"
          ]
        }
      ]
    },
    {
      "cell_type": "code",
      "source": [
        "loans"
      ],
      "metadata": {
        "colab": {
          "base_uri": "https://localhost:8080/",
          "height": 1000
        },
        "id": "KLAA7fp076S-",
        "outputId": "bcb095f9-7a02-423e-b306-b56a233d0a30"
      },
      "execution_count": 101,
      "outputs": [
        {
          "output_type": "execute_result",
          "data": {
            "text/plain": [
              "                                     Loan ID  \\\n",
              "0       6cf51492-02a2-423e-b93d-676f05b9ad53   \n",
              "1       552e7ade-4292-4354-9ff9-c48031697d72   \n",
              "2       9b5e32b3-8d76-4801-afc8-d729d5a2e6b9   \n",
              "3       5419b7c7-ac11-4be2-a8a7-b131fb6d6dbe   \n",
              "4       1450910f-9495-4fc9-afaf-9bdf4b9821df   \n",
              "...                                      ...   \n",
              "111102  503f01e2-c3c4-4b10-886e-f15de57b6f1a   \n",
              "111103  8af53bc0-56a4-4801-a960-52a46a90b33f   \n",
              "111104  96efd327-f965-42ae-8b2b-d2555205ce19   \n",
              "111105  ec19166c-70c5-4d49-adb6-fb3fc15024a2   \n",
              "111106  f83ae0e1-bd30-46c7-9f72-f4f9fe2f36ca   \n",
              "\n",
              "                                 Customer ID  Loan Status  \\\n",
              "0       7c202b37-2add-44e8-9aea-d5b119aea935  Charged Off   \n",
              "1       e7217b0a-07ac-47dd-b379-577b5a35b7c6  Charged Off   \n",
              "2       0a62fc41-16c8-40b5-92ff-9e4b763ce714  Charged Off   \n",
              "3       30f36c59-5182-4482-8bbb-5b736849ae43  Charged Off   \n",
              "4       70c26012-bba5-42c0-8dcb-75295ada31bb  Charged Off   \n",
              "...                                      ...          ...   \n",
              "111102  27a17610-1d8c-48a7-b0db-2d81a4fa099a   Fully Paid   \n",
              "111103  c124ca71-f42a-47cc-8ec2-236f7e9868a5   Fully Paid   \n",
              "111104  7d959a54-8eeb-4df6-b582-046f889e4cff   Fully Paid   \n",
              "111105  5723fbf2-1ce8-4752-8bee-1bebf339f278   Fully Paid   \n",
              "111106  74187e35-39c2-4010-ae0d-8bcd0544189e   Fully Paid   \n",
              "\n",
              "        Current Loan Amount        Term  Credit Score  Years in current job  \\\n",
              "0                     12232  Short Term        7280.0                   0.0   \n",
              "1                     25014   Long Term        7330.0                  10.0   \n",
              "2                     16117  Short Term        7240.0                   9.0   \n",
              "3                     11716  Short Term        7400.0                   3.0   \n",
              "4                      9789   Long Term        6860.0                  10.0   \n",
              "...                     ...         ...           ...                   ...   \n",
              "111102                15654   Long Term         686.0                  10.0   \n",
              "111103                15237  Short Term         706.0                  10.0   \n",
              "111104                10413  Short Term         719.0                   5.0   \n",
              "111105                34447  Short Term         626.0                  10.0   \n",
              "111106                 9209   Long Term         708.0                   0.0   \n",
              "\n",
              "       Home Ownership  Annual Income             Purpose  Monthly Debt  \\\n",
              "0                Rent        46643.0  Debt Consolidation        777.39   \n",
              "1       Home Mortgage        81099.0  Debt Consolidation        892.09   \n",
              "2       Home Mortgage        60438.0   Home Improvements       1244.02   \n",
              "3                Rent        34171.0  Debt Consolidation        990.94   \n",
              "4       Home Mortgage        47003.0   Home Improvements        503.71   \n",
              "...               ...            ...                 ...           ...   \n",
              "111102           Rent        43050.0  Debt Consolidation        889.69   \n",
              "111103  Home Mortgage        60948.0  Debt Consolidation        700.90   \n",
              "111104  Home Mortgage        66945.0  Debt Consolidation       1210.59   \n",
              "111105  Home Mortgage        78736.0  Debt Consolidation       1476.30   \n",
              "111106       Own Home       123454.0  Debt Consolidation        668.71   \n",
              "\n",
              "        Years of Credit History  Months since last delinquent  \\\n",
              "0                          18.0                          10.0   \n",
              "1                          26.7                           NaN   \n",
              "2                          16.7                          32.0   \n",
              "3                          10.0                           NaN   \n",
              "4                          16.7                          25.0   \n",
              "...                         ...                           ...   \n",
              "111102                     14.1                          49.0   \n",
              "111103                     15.9                          48.0   \n",
              "111104                      8.7                           NaN   \n",
              "111105                     30.4                           9.0   \n",
              "111106                     20.1                          16.0   \n",
              "\n",
              "        Number of Open Accounts  Number of Credit Problems  \\\n",
              "0                            12                          0   \n",
              "1                            14                          0   \n",
              "2                            11                          1   \n",
              "3                            21                          0   \n",
              "4                            13                          1   \n",
              "...                         ...                        ...   \n",
              "111102                       18                          0   \n",
              "111103                       11                          0   \n",
              "111104                       11                          0   \n",
              "111105                       12                          0   \n",
              "111106                        8                          0   \n",
              "\n",
              "        Current Credit Balance  Maximum Open Credit  Bankruptcies  Tax Liens  \\\n",
              "0                         6762               7946.0           0.0        0.0   \n",
              "1                        35706              77961.0           0.0        0.0   \n",
              "2                        11275              14815.0           1.0        0.0   \n",
              "3                         7009              43533.0           0.0        0.0   \n",
              "4                        16913              19553.0           1.0        0.0   \n",
              "...                        ...                  ...           ...        ...   \n",
              "111102                   14730              29757.0           0.0        0.0   \n",
              "111103                   17733              23060.0           0.0        0.0   \n",
              "111104                    5205               6348.0           0.0        0.0   \n",
              "111105                   32318              37580.0           0.0        0.0   \n",
              "111106                    6835               9261.0           0.0        0.0   \n",
              "\n",
              "        (4930, Maximum Open Credit)  \n",
              "0                                 0  \n",
              "1                                 0  \n",
              "2                                 0  \n",
              "3                                 0  \n",
              "4                                 0  \n",
              "...                             ...  \n",
              "111102                            0  \n",
              "111103                            0  \n",
              "111104                            0  \n",
              "111105                            0  \n",
              "111106                            0  \n",
              "\n",
              "[111107 rows x 20 columns]"
            ],
            "text/html": [
              "\n",
              "  <div id=\"df-feac35ff-19c3-44c7-9da9-40e9e5db8015\">\n",
              "    <div class=\"colab-df-container\">\n",
              "      <div>\n",
              "<style scoped>\n",
              "    .dataframe tbody tr th:only-of-type {\n",
              "        vertical-align: middle;\n",
              "    }\n",
              "\n",
              "    .dataframe tbody tr th {\n",
              "        vertical-align: top;\n",
              "    }\n",
              "\n",
              "    .dataframe thead th {\n",
              "        text-align: right;\n",
              "    }\n",
              "</style>\n",
              "<table border=\"1\" class=\"dataframe\">\n",
              "  <thead>\n",
              "    <tr style=\"text-align: right;\">\n",
              "      <th></th>\n",
              "      <th>Loan ID</th>\n",
              "      <th>Customer ID</th>\n",
              "      <th>Loan Status</th>\n",
              "      <th>Current Loan Amount</th>\n",
              "      <th>Term</th>\n",
              "      <th>Credit Score</th>\n",
              "      <th>Years in current job</th>\n",
              "      <th>Home Ownership</th>\n",
              "      <th>Annual Income</th>\n",
              "      <th>Purpose</th>\n",
              "      <th>Monthly Debt</th>\n",
              "      <th>Years of Credit History</th>\n",
              "      <th>Months since last delinquent</th>\n",
              "      <th>Number of Open Accounts</th>\n",
              "      <th>Number of Credit Problems</th>\n",
              "      <th>Current Credit Balance</th>\n",
              "      <th>Maximum Open Credit</th>\n",
              "      <th>Bankruptcies</th>\n",
              "      <th>Tax Liens</th>\n",
              "      <th>(4930, Maximum Open Credit)</th>\n",
              "    </tr>\n",
              "  </thead>\n",
              "  <tbody>\n",
              "    <tr>\n",
              "      <th>0</th>\n",
              "      <td>6cf51492-02a2-423e-b93d-676f05b9ad53</td>\n",
              "      <td>7c202b37-2add-44e8-9aea-d5b119aea935</td>\n",
              "      <td>Charged Off</td>\n",
              "      <td>12232</td>\n",
              "      <td>Short Term</td>\n",
              "      <td>7280.0</td>\n",
              "      <td>0.0</td>\n",
              "      <td>Rent</td>\n",
              "      <td>46643.0</td>\n",
              "      <td>Debt Consolidation</td>\n",
              "      <td>777.39</td>\n",
              "      <td>18.0</td>\n",
              "      <td>10.0</td>\n",
              "      <td>12</td>\n",
              "      <td>0</td>\n",
              "      <td>6762</td>\n",
              "      <td>7946.0</td>\n",
              "      <td>0.0</td>\n",
              "      <td>0.0</td>\n",
              "      <td>0</td>\n",
              "    </tr>\n",
              "    <tr>\n",
              "      <th>1</th>\n",
              "      <td>552e7ade-4292-4354-9ff9-c48031697d72</td>\n",
              "      <td>e7217b0a-07ac-47dd-b379-577b5a35b7c6</td>\n",
              "      <td>Charged Off</td>\n",
              "      <td>25014</td>\n",
              "      <td>Long Term</td>\n",
              "      <td>7330.0</td>\n",
              "      <td>10.0</td>\n",
              "      <td>Home Mortgage</td>\n",
              "      <td>81099.0</td>\n",
              "      <td>Debt Consolidation</td>\n",
              "      <td>892.09</td>\n",
              "      <td>26.7</td>\n",
              "      <td>NaN</td>\n",
              "      <td>14</td>\n",
              "      <td>0</td>\n",
              "      <td>35706</td>\n",
              "      <td>77961.0</td>\n",
              "      <td>0.0</td>\n",
              "      <td>0.0</td>\n",
              "      <td>0</td>\n",
              "    </tr>\n",
              "    <tr>\n",
              "      <th>2</th>\n",
              "      <td>9b5e32b3-8d76-4801-afc8-d729d5a2e6b9</td>\n",
              "      <td>0a62fc41-16c8-40b5-92ff-9e4b763ce714</td>\n",
              "      <td>Charged Off</td>\n",
              "      <td>16117</td>\n",
              "      <td>Short Term</td>\n",
              "      <td>7240.0</td>\n",
              "      <td>9.0</td>\n",
              "      <td>Home Mortgage</td>\n",
              "      <td>60438.0</td>\n",
              "      <td>Home Improvements</td>\n",
              "      <td>1244.02</td>\n",
              "      <td>16.7</td>\n",
              "      <td>32.0</td>\n",
              "      <td>11</td>\n",
              "      <td>1</td>\n",
              "      <td>11275</td>\n",
              "      <td>14815.0</td>\n",
              "      <td>1.0</td>\n",
              "      <td>0.0</td>\n",
              "      <td>0</td>\n",
              "    </tr>\n",
              "    <tr>\n",
              "      <th>3</th>\n",
              "      <td>5419b7c7-ac11-4be2-a8a7-b131fb6d6dbe</td>\n",
              "      <td>30f36c59-5182-4482-8bbb-5b736849ae43</td>\n",
              "      <td>Charged Off</td>\n",
              "      <td>11716</td>\n",
              "      <td>Short Term</td>\n",
              "      <td>7400.0</td>\n",
              "      <td>3.0</td>\n",
              "      <td>Rent</td>\n",
              "      <td>34171.0</td>\n",
              "      <td>Debt Consolidation</td>\n",
              "      <td>990.94</td>\n",
              "      <td>10.0</td>\n",
              "      <td>NaN</td>\n",
              "      <td>21</td>\n",
              "      <td>0</td>\n",
              "      <td>7009</td>\n",
              "      <td>43533.0</td>\n",
              "      <td>0.0</td>\n",
              "      <td>0.0</td>\n",
              "      <td>0</td>\n",
              "    </tr>\n",
              "    <tr>\n",
              "      <th>4</th>\n",
              "      <td>1450910f-9495-4fc9-afaf-9bdf4b9821df</td>\n",
              "      <td>70c26012-bba5-42c0-8dcb-75295ada31bb</td>\n",
              "      <td>Charged Off</td>\n",
              "      <td>9789</td>\n",
              "      <td>Long Term</td>\n",
              "      <td>6860.0</td>\n",
              "      <td>10.0</td>\n",
              "      <td>Home Mortgage</td>\n",
              "      <td>47003.0</td>\n",
              "      <td>Home Improvements</td>\n",
              "      <td>503.71</td>\n",
              "      <td>16.7</td>\n",
              "      <td>25.0</td>\n",
              "      <td>13</td>\n",
              "      <td>1</td>\n",
              "      <td>16913</td>\n",
              "      <td>19553.0</td>\n",
              "      <td>1.0</td>\n",
              "      <td>0.0</td>\n",
              "      <td>0</td>\n",
              "    </tr>\n",
              "    <tr>\n",
              "      <th>...</th>\n",
              "      <td>...</td>\n",
              "      <td>...</td>\n",
              "      <td>...</td>\n",
              "      <td>...</td>\n",
              "      <td>...</td>\n",
              "      <td>...</td>\n",
              "      <td>...</td>\n",
              "      <td>...</td>\n",
              "      <td>...</td>\n",
              "      <td>...</td>\n",
              "      <td>...</td>\n",
              "      <td>...</td>\n",
              "      <td>...</td>\n",
              "      <td>...</td>\n",
              "      <td>...</td>\n",
              "      <td>...</td>\n",
              "      <td>...</td>\n",
              "      <td>...</td>\n",
              "      <td>...</td>\n",
              "      <td>...</td>\n",
              "    </tr>\n",
              "    <tr>\n",
              "      <th>111102</th>\n",
              "      <td>503f01e2-c3c4-4b10-886e-f15de57b6f1a</td>\n",
              "      <td>27a17610-1d8c-48a7-b0db-2d81a4fa099a</td>\n",
              "      <td>Fully Paid</td>\n",
              "      <td>15654</td>\n",
              "      <td>Long Term</td>\n",
              "      <td>686.0</td>\n",
              "      <td>10.0</td>\n",
              "      <td>Rent</td>\n",
              "      <td>43050.0</td>\n",
              "      <td>Debt Consolidation</td>\n",
              "      <td>889.69</td>\n",
              "      <td>14.1</td>\n",
              "      <td>49.0</td>\n",
              "      <td>18</td>\n",
              "      <td>0</td>\n",
              "      <td>14730</td>\n",
              "      <td>29757.0</td>\n",
              "      <td>0.0</td>\n",
              "      <td>0.0</td>\n",
              "      <td>0</td>\n",
              "    </tr>\n",
              "    <tr>\n",
              "      <th>111103</th>\n",
              "      <td>8af53bc0-56a4-4801-a960-52a46a90b33f</td>\n",
              "      <td>c124ca71-f42a-47cc-8ec2-236f7e9868a5</td>\n",
              "      <td>Fully Paid</td>\n",
              "      <td>15237</td>\n",
              "      <td>Short Term</td>\n",
              "      <td>706.0</td>\n",
              "      <td>10.0</td>\n",
              "      <td>Home Mortgage</td>\n",
              "      <td>60948.0</td>\n",
              "      <td>Debt Consolidation</td>\n",
              "      <td>700.90</td>\n",
              "      <td>15.9</td>\n",
              "      <td>48.0</td>\n",
              "      <td>11</td>\n",
              "      <td>0</td>\n",
              "      <td>17733</td>\n",
              "      <td>23060.0</td>\n",
              "      <td>0.0</td>\n",
              "      <td>0.0</td>\n",
              "      <td>0</td>\n",
              "    </tr>\n",
              "    <tr>\n",
              "      <th>111104</th>\n",
              "      <td>96efd327-f965-42ae-8b2b-d2555205ce19</td>\n",
              "      <td>7d959a54-8eeb-4df6-b582-046f889e4cff</td>\n",
              "      <td>Fully Paid</td>\n",
              "      <td>10413</td>\n",
              "      <td>Short Term</td>\n",
              "      <td>719.0</td>\n",
              "      <td>5.0</td>\n",
              "      <td>Home Mortgage</td>\n",
              "      <td>66945.0</td>\n",
              "      <td>Debt Consolidation</td>\n",
              "      <td>1210.59</td>\n",
              "      <td>8.7</td>\n",
              "      <td>NaN</td>\n",
              "      <td>11</td>\n",
              "      <td>0</td>\n",
              "      <td>5205</td>\n",
              "      <td>6348.0</td>\n",
              "      <td>0.0</td>\n",
              "      <td>0.0</td>\n",
              "      <td>0</td>\n",
              "    </tr>\n",
              "    <tr>\n",
              "      <th>111105</th>\n",
              "      <td>ec19166c-70c5-4d49-adb6-fb3fc15024a2</td>\n",
              "      <td>5723fbf2-1ce8-4752-8bee-1bebf339f278</td>\n",
              "      <td>Fully Paid</td>\n",
              "      <td>34447</td>\n",
              "      <td>Short Term</td>\n",
              "      <td>626.0</td>\n",
              "      <td>10.0</td>\n",
              "      <td>Home Mortgage</td>\n",
              "      <td>78736.0</td>\n",
              "      <td>Debt Consolidation</td>\n",
              "      <td>1476.30</td>\n",
              "      <td>30.4</td>\n",
              "      <td>9.0</td>\n",
              "      <td>12</td>\n",
              "      <td>0</td>\n",
              "      <td>32318</td>\n",
              "      <td>37580.0</td>\n",
              "      <td>0.0</td>\n",
              "      <td>0.0</td>\n",
              "      <td>0</td>\n",
              "    </tr>\n",
              "    <tr>\n",
              "      <th>111106</th>\n",
              "      <td>f83ae0e1-bd30-46c7-9f72-f4f9fe2f36ca</td>\n",
              "      <td>74187e35-39c2-4010-ae0d-8bcd0544189e</td>\n",
              "      <td>Fully Paid</td>\n",
              "      <td>9209</td>\n",
              "      <td>Long Term</td>\n",
              "      <td>708.0</td>\n",
              "      <td>0.0</td>\n",
              "      <td>Own Home</td>\n",
              "      <td>123454.0</td>\n",
              "      <td>Debt Consolidation</td>\n",
              "      <td>668.71</td>\n",
              "      <td>20.1</td>\n",
              "      <td>16.0</td>\n",
              "      <td>8</td>\n",
              "      <td>0</td>\n",
              "      <td>6835</td>\n",
              "      <td>9261.0</td>\n",
              "      <td>0.0</td>\n",
              "      <td>0.0</td>\n",
              "      <td>0</td>\n",
              "    </tr>\n",
              "  </tbody>\n",
              "</table>\n",
              "<p>111107 rows × 20 columns</p>\n",
              "</div>\n",
              "      <button class=\"colab-df-convert\" onclick=\"convertToInteractive('df-feac35ff-19c3-44c7-9da9-40e9e5db8015')\"\n",
              "              title=\"Convert this dataframe to an interactive table.\"\n",
              "              style=\"display:none;\">\n",
              "        \n",
              "  <svg xmlns=\"http://www.w3.org/2000/svg\" height=\"24px\"viewBox=\"0 0 24 24\"\n",
              "       width=\"24px\">\n",
              "    <path d=\"M0 0h24v24H0V0z\" fill=\"none\"/>\n",
              "    <path d=\"M18.56 5.44l.94 2.06.94-2.06 2.06-.94-2.06-.94-.94-2.06-.94 2.06-2.06.94zm-11 1L8.5 8.5l.94-2.06 2.06-.94-2.06-.94L8.5 2.5l-.94 2.06-2.06.94zm10 10l.94 2.06.94-2.06 2.06-.94-2.06-.94-.94-2.06-.94 2.06-2.06.94z\"/><path d=\"M17.41 7.96l-1.37-1.37c-.4-.4-.92-.59-1.43-.59-.52 0-1.04.2-1.43.59L10.3 9.45l-7.72 7.72c-.78.78-.78 2.05 0 2.83L4 21.41c.39.39.9.59 1.41.59.51 0 1.02-.2 1.41-.59l7.78-7.78 2.81-2.81c.8-.78.8-2.07 0-2.86zM5.41 20L4 18.59l7.72-7.72 1.47 1.35L5.41 20z\"/>\n",
              "  </svg>\n",
              "      </button>\n",
              "      \n",
              "  <style>\n",
              "    .colab-df-container {\n",
              "      display:flex;\n",
              "      flex-wrap:wrap;\n",
              "      gap: 12px;\n",
              "    }\n",
              "\n",
              "    .colab-df-convert {\n",
              "      background-color: #E8F0FE;\n",
              "      border: none;\n",
              "      border-radius: 50%;\n",
              "      cursor: pointer;\n",
              "      display: none;\n",
              "      fill: #1967D2;\n",
              "      height: 32px;\n",
              "      padding: 0 0 0 0;\n",
              "      width: 32px;\n",
              "    }\n",
              "\n",
              "    .colab-df-convert:hover {\n",
              "      background-color: #E2EBFA;\n",
              "      box-shadow: 0px 1px 2px rgba(60, 64, 67, 0.3), 0px 1px 3px 1px rgba(60, 64, 67, 0.15);\n",
              "      fill: #174EA6;\n",
              "    }\n",
              "\n",
              "    [theme=dark] .colab-df-convert {\n",
              "      background-color: #3B4455;\n",
              "      fill: #D2E3FC;\n",
              "    }\n",
              "\n",
              "    [theme=dark] .colab-df-convert:hover {\n",
              "      background-color: #434B5C;\n",
              "      box-shadow: 0px 1px 3px 1px rgba(0, 0, 0, 0.15);\n",
              "      filter: drop-shadow(0px 1px 2px rgba(0, 0, 0, 0.3));\n",
              "      fill: #FFFFFF;\n",
              "    }\n",
              "  </style>\n",
              "\n",
              "      <script>\n",
              "        const buttonEl =\n",
              "          document.querySelector('#df-feac35ff-19c3-44c7-9da9-40e9e5db8015 button.colab-df-convert');\n",
              "        buttonEl.style.display =\n",
              "          google.colab.kernel.accessAllowed ? 'block' : 'none';\n",
              "\n",
              "        async function convertToInteractive(key) {\n",
              "          const element = document.querySelector('#df-feac35ff-19c3-44c7-9da9-40e9e5db8015');\n",
              "          const dataTable =\n",
              "            await google.colab.kernel.invokeFunction('convertToInteractive',\n",
              "                                                     [key], {});\n",
              "          if (!dataTable) return;\n",
              "\n",
              "          const docLinkHtml = 'Like what you see? Visit the ' +\n",
              "            '<a target=\"_blank\" href=https://colab.research.google.com/notebooks/data_table.ipynb>data table notebook</a>'\n",
              "            + ' to learn more about interactive tables.';\n",
              "          element.innerHTML = '';\n",
              "          dataTable['output_type'] = 'display_data';\n",
              "          await google.colab.output.renderOutput(dataTable, element);\n",
              "          const docLink = document.createElement('div');\n",
              "          docLink.innerHTML = docLinkHtml;\n",
              "          element.appendChild(docLink);\n",
              "        }\n",
              "      </script>\n",
              "    </div>\n",
              "  </div>\n",
              "  "
            ]
          },
          "metadata": {},
          "execution_count": 101
        }
      ]
    },
    {
      "cell_type": "code",
      "source": [
        "loans.info()"
      ],
      "metadata": {
        "colab": {
          "base_uri": "https://localhost:8080/"
        },
        "id": "UTGXXLAR5rfy",
        "outputId": "a9ca2fe6-9935-4d0b-e74d-a1c947d90c71"
      },
      "execution_count": 69,
      "outputs": [
        {
          "output_type": "stream",
          "name": "stdout",
          "text": [
            "<class 'pandas.core.frame.DataFrame'>\n",
            "RangeIndex: 111107 entries, 0 to 111106\n",
            "Data columns (total 20 columns):\n",
            " #   Column                        Non-Null Count   Dtype  \n",
            "---  ------                        --------------   -----  \n",
            " 0   Loan ID                       111107 non-null  object \n",
            " 1   Customer ID                   111107 non-null  object \n",
            " 2   Loan Status                   111107 non-null  object \n",
            " 3   Current Loan Amount           111107 non-null  int64  \n",
            " 4   Term                          111107 non-null  object \n",
            " 5   Credit Score                  89769 non-null   float64\n",
            " 6   Years in current job          106414 non-null  object \n",
            " 7   Home Ownership                111107 non-null  object \n",
            " 8   Annual Income                 89769 non-null   float64\n",
            " 9   Purpose                       111107 non-null  object \n",
            " 10  Monthly Debt                  111107 non-null  float64\n",
            " 11  Years of Credit History       111107 non-null  float64\n",
            " 12  Months since last delinquent  52104 non-null   float64\n",
            " 13  Number of Open Accounts       111107 non-null  int64  \n",
            " 14  Number of Credit Problems     111107 non-null  int64  \n",
            " 15  Current Credit Balance        111107 non-null  int64  \n",
            " 16  Maximum Open Credit           111107 non-null  float64\n",
            " 17  Bankruptcies                  110879 non-null  float64\n",
            " 18  Tax Liens                     111096 non-null  float64\n",
            " 19  (4930, Maximum Open Credit)   111107 non-null  int64  \n",
            "dtypes: float64(8), int64(5), object(7)\n",
            "memory usage: 17.0+ MB\n"
          ]
        }
      ]
    },
    {
      "cell_type": "markdown",
      "source": [
        "Columns with null values:\n",
        "* Credit score - same as annual income\n",
        "* Annual income - same as credit score\n",
        "* Years in current job\n",
        "* Months since last delinquent - more than 50% null, consider dropping this column\n",
        "* Bankruptcies\n",
        "* Tax liens"
      ],
      "metadata": {
        "id": "kvx64Q8o56am"
      }
    },
    {
      "cell_type": "markdown",
      "source": [
        "Objects that may be important:\n",
        "* Loan status\n",
        "* Years in current job\n",
        "* Home ownership\n",
        "* Monthly debt - should be convereted from object to float\n",
        "* Max open credit - should be converted to float"
      ],
      "metadata": {
        "id": "ydPdcW5t8LMu"
      }
    },
    {
      "cell_type": "markdown",
      "source": [
        "## Current Loan Value has a lot of 9999999 values, which are effective NaN"
      ],
      "metadata": {
        "id": "aEPGDJDNJdeU"
      }
    },
    {
      "cell_type": "code",
      "source": [
        "loans['Current Loan Amount'].value_counts()"
      ],
      "metadata": {
        "colab": {
          "base_uri": "https://localhost:8080/"
        },
        "id": "rdBe3zcyIMhs",
        "outputId": "e39af3d1-3525-4c2b-af77-0e5072b0b0b5"
      },
      "execution_count": 102,
      "outputs": [
        {
          "output_type": "execute_result",
          "data": {
            "text/plain": [
              "99999999    12738\n",
              "10166          31\n",
              "10151          31\n",
              "9827           30\n",
              "4953           29\n",
              "            ...  \n",
              "13376           1\n",
              "18136           1\n",
              "12522           1\n",
              "12348           1\n",
              "24629           1\n",
              "Name: Current Loan Amount, Length: 22541, dtype: int64"
            ]
          },
          "metadata": {},
          "execution_count": 102
        }
      ]
    },
    {
      "cell_type": "code",
      "source": [
        "x = loans['Current Loan Amount']\n",
        "y = loans['Credit Score']\n",
        "\n",
        "plt.scatter(x, y, c = 'blue')\n"
      ],
      "metadata": {
        "colab": {
          "base_uri": "https://localhost:8080/",
          "height": 295
        },
        "id": "KeNbs1ltHH2t",
        "outputId": "3dced6b9-d5ab-4c3d-ea43-52adca9976f6"
      },
      "execution_count": 96,
      "outputs": [
        {
          "output_type": "execute_result",
          "data": {
            "text/plain": [
              "<matplotlib.collections.PathCollection at 0x7f545475c810>"
            ]
          },
          "metadata": {},
          "execution_count": 96
        },
        {
          "output_type": "display_data",
          "data": {
            "text/plain": [
              "<Figure size 432x288 with 1 Axes>"
            ],
            "image/png": "[encoded data removed]"
          },
          "metadata": {
            "needs_background": "light"
          }
        }
      ]
    },
    {
      "cell_type": "code",
      "source": [
        "plt.hist(loans['Current Loan Amount'], bins = 50);"
      ],
      "metadata": {
        "colab": {
          "base_uri": "https://localhost:8080/",
          "height": 278
        },
        "id": "c1Lj8c0rIFAs",
        "outputId": "cd084a46-8245-4fc3-aa33-b0a773953c7a"
      },
      "execution_count": 99,
      "outputs": [
        {
          "output_type": "display_data",
          "data": {
            "text/plain": [
              "<Figure size 432x288 with 1 Axes>"
            ],
            "image/png": "[encoded data removed]"
          },
          "metadata": {
            "needs_background": "light"
          }
        }
      ]
    },
    {
      "cell_type": "code",
      "source": [
        "loans['Current Loan Amount'].replace(99999999.0,np.NaN,inplace=True)"
      ],
      "metadata": {
        "id": "4608xCUeJpXb"
      },
      "execution_count": 109,
      "outputs": []
    },
    {
      "cell_type": "code",
      "source": [
        "loans.info()"
      ],
      "metadata": {
        "colab": {
          "base_uri": "https://localhost:8080/"
        },
        "id": "b4GZBiQCJ88v",
        "outputId": "4d2acc16-4bb6-4103-fe8c-f72af1395c7e"
      },
      "execution_count": 110,
      "outputs": [
        {
          "output_type": "stream",
          "name": "stdout",
          "text": [
            "<class 'pandas.core.frame.DataFrame'>\n",
            "RangeIndex: 111107 entries, 0 to 111106\n",
            "Data columns (total 20 columns):\n",
            " #   Column                        Non-Null Count   Dtype  \n",
            "---  ------                        --------------   -----  \n",
            " 0   Loan ID                       111107 non-null  object \n",
            " 1   Customer ID                   111107 non-null  object \n",
            " 2   Loan Status                   111107 non-null  object \n",
            " 3   Current Loan Amount           98369 non-null   float64\n",
            " 4   Term                          111107 non-null  object \n",
            " 5   Credit Score                  89769 non-null   float64\n",
            " 6   Years in current job          106414 non-null  float64\n",
            " 7   Home Ownership                111107 non-null  object \n",
            " 8   Annual Income                 89769 non-null   float64\n",
            " 9   Purpose                       111107 non-null  object \n",
            " 10  Monthly Debt                  111107 non-null  float64\n",
            " 11  Years of Credit History       111107 non-null  float64\n",
            " 12  Months since last delinquent  52104 non-null   float64\n",
            " 13  Number of Open Accounts       111107 non-null  int64  \n",
            " 14  Number of Credit Problems     111107 non-null  int64  \n",
            " 15  Current Credit Balance        111107 non-null  int64  \n",
            " 16  Maximum Open Credit           111107 non-null  float64\n",
            " 17  Bankruptcies                  110879 non-null  float64\n",
            " 18  Tax Liens                     111096 non-null  float64\n",
            " 19  (4930, Maximum Open Credit)   111107 non-null  int64  \n",
            "dtypes: float64(10), int64(4), object(6)\n",
            "memory usage: 17.0+ MB\n"
          ]
        }
      ]
    },
    {
      "cell_type": "markdown",
      "source": [
        "## Cleaning up credit scores data"
      ],
      "metadata": {
        "id": "-jlf78luL7On"
      }
    },
    {
      "cell_type": "markdown",
      "source": [
        "What's going on with all of the credit scores above and below 1000?"
      ],
      "metadata": {
        "id": "KD7w05cTK71x"
      }
    },
    {
      "cell_type": "code",
      "source": [
        "cs_over_1k = loans[loans['Credit Score'] > 1000]\n",
        "cs_under_1k = loans[loans['Credit Score'] < 1000]"
      ],
      "metadata": {
        "id": "qSsrJBp9K7H8"
      },
      "execution_count": null,
      "outputs": []
    },
    {
      "cell_type": "code",
      "source": [
        "plt.hist(cs_over_1k['Credit Score'], bins = 20);"
      ],
      "metadata": {
        "colab": {
          "base_uri": "https://localhost:8080/",
          "height": 265
        },
        "id": "f3sGl43qMRsP",
        "outputId": "45715431-b10b-48af-ca78-fdfc9f2fdb18"
      },
      "execution_count": 132,
      "outputs": [
        {
          "output_type": "display_data",
          "data": {
            "text/plain": [
              "<Figure size 432x288 with 1 Axes>"
            ],
            "image/png": "[encoded data removed]"
          },
          "metadata": {
            "needs_background": "light"
          }
        }
      ]
    },
    {
      "cell_type": "code",
      "source": [
        "cs_over_1k['Credit Score'].describe()"
      ],
      "metadata": {
        "colab": {
          "base_uri": "https://localhost:8080/"
        },
        "id": "uGmtb9vnMdOY",
        "outputId": "876b010e-6760-43f1-b4ef-ba25efbad360"
      },
      "execution_count": 133,
      "outputs": [
        {
          "output_type": "execute_result",
          "data": {
            "text/plain": [
              "count    5044.000000\n",
              "mean     7109.046392\n",
              "std       306.062776\n",
              "min      5850.000000\n",
              "25%      6950.000000\n",
              "50%      7190.000000\n",
              "75%      7350.000000\n",
              "max      7510.000000\n",
              "Name: Credit Score, dtype: float64"
            ]
          },
          "metadata": {},
          "execution_count": 133
        }
      ]
    },
    {
      "cell_type": "code",
      "source": [
        "plt.hist(cs_under_1k['Credit Score'], bins = 20);"
      ],
      "metadata": {
        "colab": {
          "base_uri": "https://localhost:8080/",
          "height": 265
        },
        "id": "-BaMxhkYLuoZ",
        "outputId": "153208f8-54b5-49c0-ae70-8670b0ed4156"
      },
      "execution_count": 131,
      "outputs": [
        {
          "output_type": "display_data",
          "data": {
            "text/plain": [
              "<Figure size 432x288 with 1 Axes>"
            ],
            "image/png": "[encoded data removed]"
          },
          "metadata": {
            "needs_background": "light"
          }
        }
      ]
    },
    {
      "cell_type": "code",
      "source": [
        "cs_under_1k['Credit Score'].describe()"
      ],
      "metadata": {
        "colab": {
          "base_uri": "https://localhost:8080/"
        },
        "id": "kiWt-o56Ml4t",
        "outputId": "8d2e0775-5754-4178-fe19-12f4edd8d0a8"
      },
      "execution_count": 134,
      "outputs": [
        {
          "output_type": "execute_result",
          "data": {
            "text/plain": [
              "count    84725.000000\n",
              "mean       716.612735\n",
              "std         28.112959\n",
              "min        585.000000\n",
              "25%        704.000000\n",
              "50%        722.000000\n",
              "75%        739.000000\n",
              "max        751.000000\n",
              "Name: Credit Score, dtype: float64"
            ]
          },
          "metadata": {},
          "execution_count": 134
        }
      ]
    },
    {
      "cell_type": "markdown",
      "source": [
        "There's an error here where some credit scores have the decimal point in the wrong place. All of the scores over 1,000 need to have the decimal point moved 1 place to the left."
      ],
      "metadata": {
        "id": "GNbW1YseMo39"
      }
    },
    {
      "cell_type": "code",
      "source": [
        "loans['Credit Score'].describe()"
      ],
      "metadata": {
        "colab": {
          "base_uri": "https://localhost:8080/"
        },
        "id": "YifjlofTMxIe",
        "outputId": "5c022721-68cb-4127-84a7-584db0719892"
      },
      "execution_count": 135,
      "outputs": [
        {
          "output_type": "execute_result",
          "data": {
            "text/plain": [
              "count    89769.000000\n",
              "mean      1075.795029\n",
              "std       1474.133505\n",
              "min        585.000000\n",
              "25%        705.000000\n",
              "50%        724.000000\n",
              "75%        741.000000\n",
              "max       7510.000000\n",
              "Name: Credit Score, dtype: float64"
            ]
          },
          "metadata": {},
          "execution_count": 135
        }
      ]
    },
    {
      "cell_type": "code",
      "source": [
        "loans['Credit Score'][loans['Credit Score'] > 1000] = loans['Credit Score'][loans['Credit Score'] > 1000].div(10)"
      ],
      "metadata": {
        "colab": {
          "base_uri": "https://localhost:8080/"
        },
        "id": "GdWS1TWBM0_k",
        "outputId": "82c4edcc-00e3-469c-ca5a-e6cde4a00825"
      },
      "execution_count": 137,
      "outputs": [
        {
          "output_type": "stream",
          "name": "stderr",
          "text": [
            "/usr/local/lib/python3.7/dist-packages/ipykernel_launcher.py:1: SettingWithCopyWarning: \n",
            "A value is trying to be set on a copy of a slice from a DataFrame\n",
            "\n",
            "See the caveats in the documentation: https://pandas.pydata.org/pandas-docs/stable/user_guide/indexing.html#returning-a-view-versus-a-copy\n",
            "  \"\"\"Entry point for launching an IPython kernel.\n"
          ]
        }
      ]
    },
    {
      "cell_type": "code",
      "source": [
        "loans['Credit Score'].describe()"
      ],
      "metadata": {
        "colab": {
          "base_uri": "https://localhost:8080/"
        },
        "id": "Y-sQAp_sOm8D",
        "outputId": "94ef10fe-fe66-4a4c-d9e8-dbaabe6d08a7"
      },
      "execution_count": 140,
      "outputs": [
        {
          "output_type": "execute_result",
          "data": {
            "text/plain": [
              "count    89769.000000\n",
              "mean       716.292005\n",
              "std         28.289263\n",
              "min        585.000000\n",
              "25%        703.000000\n",
              "50%        722.000000\n",
              "75%        738.000000\n",
              "max        751.000000\n",
              "Name: Credit Score, dtype: float64"
            ]
          },
          "metadata": {},
          "execution_count": 140
        }
      ]
    },
    {
      "cell_type": "code",
      "source": [
        "plt.hist(loans['Credit Score'],bins=20);"
      ],
      "metadata": {
        "colab": {
          "base_uri": "https://localhost:8080/",
          "height": 265
        },
        "id": "QZzx0CPYOufu",
        "outputId": "61d709b9-bd8f-4df2-c67c-690e3537bd07"
      },
      "execution_count": 144,
      "outputs": [
        {
          "output_type": "display_data",
          "data": {
            "text/plain": [
              "<Figure size 432x288 with 1 Axes>"
            ],
            "image/png": "[encoded data removed]"
          },
          "metadata": {
            "needs_background": "light"
          }
        }
      ]
    },
    {
      "cell_type": "markdown",
      "source": [
        "## Cleaning up mixed value columns for Monthly Debt and Max Open Credit"
      ],
      "metadata": {
        "id": "g1dEGw1cDLWn"
      }
    },
    {
      "cell_type": "code",
      "source": [
        "# check out monthly debt\n",
        "loans['Monthly Debt'].apply(type).value_counts()"
      ],
      "metadata": {
        "colab": {
          "base_uri": "https://localhost:8080/"
        },
        "id": "dohQFl3A8qws",
        "outputId": "12d2bd3d-d1db-4a81-f097-7fb837d66bff"
      },
      "execution_count": 35,
      "outputs": [
        {
          "output_type": "execute_result",
          "data": {
            "text/plain": [
              "<class 'str'>      65536\n",
              "<class 'float'>    45571\n",
              "Name: Monthly Debt, dtype: int64"
            ]
          },
          "metadata": {},
          "execution_count": 35
        }
      ]
    },
    {
      "cell_type": "code",
      "source": [
        "# convert monthly debt to float\n",
        "loans['Monthly Debt'] = loans['Monthly Debt'].apply(lambda x: x.replace('$', '').replace(',', '')\n",
        "                                if isinstance(x, str) else x).astype(float)"
      ],
      "metadata": {
        "id": "o6ll2BLH9DbZ"
      },
      "execution_count": 36,
      "outputs": []
    },
    {
      "cell_type": "code",
      "source": [
        "loans['Monthly Debt'].apply(type).value_counts()"
      ],
      "metadata": {
        "colab": {
          "base_uri": "https://localhost:8080/"
        },
        "id": "_Pt_HMUu_yA9",
        "outputId": "074db4fb-f64e-42be-e017-9b220cdbf5e6"
      },
      "execution_count": 37,
      "outputs": [
        {
          "output_type": "execute_result",
          "data": {
            "text/plain": [
              "<class 'float'>    111107\n",
              "Name: Monthly Debt, dtype: int64"
            ]
          },
          "metadata": {},
          "execution_count": 37
        }
      ]
    },
    {
      "cell_type": "code",
      "source": [
        "# check out maximum open credit\n",
        "loans['Maximum Open Credit'].apply(type).value_counts()"
      ],
      "metadata": {
        "colab": {
          "base_uri": "https://localhost:8080/"
        },
        "id": "fkvOH5Qj8t85",
        "outputId": "7f50405f-fac7-4039-cc8f-88c7a78f7583"
      },
      "execution_count": 38,
      "outputs": [
        {
          "output_type": "execute_result",
          "data": {
            "text/plain": [
              "<class 'str'>    65536\n",
              "<class 'int'>    45571\n",
              "Name: Maximum Open Credit, dtype: int64"
            ]
          },
          "metadata": {},
          "execution_count": 38
        }
      ]
    },
    {
      "cell_type": "code",
      "source": [
        "# fix index 4930 #VALUE\n",
        "\n",
        "loans.loc[4930,'Maximum Open Credit'] = 0\n",
        "loans.loc[37357,'Maximum Open Credit'] = 0"
      ],
      "metadata": {
        "id": "NWmrwoHg_84D"
      },
      "execution_count": 65,
      "outputs": []
    },
    {
      "cell_type": "code",
      "source": [
        "loans[loans['Maximum Open Credit'] == '#VALUE!']"
      ],
      "metadata": {
        "colab": {
          "base_uri": "https://localhost:8080/",
          "height": 165
        },
        "id": "H3Dk1Dc6ClW-",
        "outputId": "d16d2056-408f-4447-e597-75dbce78b821"
      },
      "execution_count": 66,
      "outputs": [
        {
          "output_type": "execute_result",
          "data": {
            "text/plain": [
              "Empty DataFrame\n",
              "Columns: [Loan ID, Customer ID, Loan Status, Current Loan Amount, Term, Credit Score, Years in current job, Home Ownership, Annual Income, Purpose, Monthly Debt, Years of Credit History, Months since last delinquent, Number of Open Accounts, Number of Credit Problems, Current Credit Balance, Maximum Open Credit, Bankruptcies, Tax Liens, (4930, Maximum Open Credit)]\n",
              "Index: []"
            ],
            "text/html": [
              "\n",
              "  <div id=\"df-244c1323-db5e-496d-8019-503b71678c3e\">\n",
              "    <div class=\"colab-df-container\">\n",
              "      <div>\n",
              "<style scoped>\n",
              "    .dataframe tbody tr th:only-of-type {\n",
              "        vertical-align: middle;\n",
              "    }\n",
              "\n",
              "    .dataframe tbody tr th {\n",
              "        vertical-align: top;\n",
              "    }\n",
              "\n",
              "    .dataframe thead th {\n",
              "        text-align: right;\n",
              "    }\n",
              "</style>\n",
              "<table border=\"1\" class=\"dataframe\">\n",
              "  <thead>\n",
              "    <tr style=\"text-align: right;\">\n",
              "      <th></th>\n",
              "      <th>Loan ID</th>\n",
              "      <th>Customer ID</th>\n",
              "      <th>Loan Status</th>\n",
              "      <th>Current Loan Amount</th>\n",
              "      <th>Term</th>\n",
              "      <th>Credit Score</th>\n",
              "      <th>Years in current job</th>\n",
              "      <th>Home Ownership</th>\n",
              "      <th>Annual Income</th>\n",
              "      <th>Purpose</th>\n",
              "      <th>Monthly Debt</th>\n",
              "      <th>Years of Credit History</th>\n",
              "      <th>Months since last delinquent</th>\n",
              "      <th>Number of Open Accounts</th>\n",
              "      <th>Number of Credit Problems</th>\n",
              "      <th>Current Credit Balance</th>\n",
              "      <th>Maximum Open Credit</th>\n",
              "      <th>Bankruptcies</th>\n",
              "      <th>Tax Liens</th>\n",
              "      <th>(4930, Maximum Open Credit)</th>\n",
              "    </tr>\n",
              "  </thead>\n",
              "  <tbody>\n",
              "  </tbody>\n",
              "</table>\n",
              "</div>\n",
              "      <button class=\"colab-df-convert\" onclick=\"convertToInteractive('df-244c1323-db5e-496d-8019-503b71678c3e')\"\n",
              "              title=\"Convert this dataframe to an interactive table.\"\n",
              "              style=\"display:none;\">\n",
              "        \n",
              "  <svg xmlns=\"http://www.w3.org/2000/svg\" height=\"24px\"viewBox=\"0 0 24 24\"\n",
              "       width=\"24px\">\n",
              "    <path d=\"M0 0h24v24H0V0z\" fill=\"none\"/>\n",
              "    <path d=\"M18.56 5.44l.94 2.06.94-2.06 2.06-.94-2.06-.94-.94-2.06-.94 2.06-2.06.94zm-11 1L8.5 8.5l.94-2.06 2.06-.94-2.06-.94L8.5 2.5l-.94 2.06-2.06.94zm10 10l.94 2.06.94-2.06 2.06-.94-2.06-.94-.94-2.06-.94 2.06-2.06.94z\"/><path d=\"M17.41 7.96l-1.37-1.37c-.4-.4-.92-.59-1.43-.59-.52 0-1.04.2-1.43.59L10.3 9.45l-7.72 7.72c-.78.78-.78 2.05 0 2.83L4 21.41c.39.39.9.59 1.41.59.51 0 1.02-.2 1.41-.59l7.78-7.78 2.81-2.81c.8-.78.8-2.07 0-2.86zM5.41 20L4 18.59l7.72-7.72 1.47 1.35L5.41 20z\"/>\n",
              "  </svg>\n",
              "      </button>\n",
              "      \n",
              "  <style>\n",
              "    .colab-df-container {\n",
              "      display:flex;\n",
              "      flex-wrap:wrap;\n",
              "      gap: 12px;\n",
              "    }\n",
              "\n",
              "    .colab-df-convert {\n",
              "      background-color: #E8F0FE;\n",
              "      border: none;\n",
              "      border-radius: 50%;\n",
              "      cursor: pointer;\n",
              "      display: none;\n",
              "      fill: #1967D2;\n",
              "      height: 32px;\n",
              "      padding: 0 0 0 0;\n",
              "      width: 32px;\n",
              "    }\n",
              "\n",
              "    .colab-df-convert:hover {\n",
              "      background-color: #E2EBFA;\n",
              "      box-shadow: 0px 1px 2px rgba(60, 64, 67, 0.3), 0px 1px 3px 1px rgba(60, 64, 67, 0.15);\n",
              "      fill: #174EA6;\n",
              "    }\n",
              "\n",
              "    [theme=dark] .colab-df-convert {\n",
              "      background-color: #3B4455;\n",
              "      fill: #D2E3FC;\n",
              "    }\n",
              "\n",
              "    [theme=dark] .colab-df-convert:hover {\n",
              "      background-color: #434B5C;\n",
              "      box-shadow: 0px 1px 3px 1px rgba(0, 0, 0, 0.15);\n",
              "      filter: drop-shadow(0px 1px 2px rgba(0, 0, 0, 0.3));\n",
              "      fill: #FFFFFF;\n",
              "    }\n",
              "  </style>\n",
              "\n",
              "      <script>\n",
              "        const buttonEl =\n",
              "          document.querySelector('#df-244c1323-db5e-496d-8019-503b71678c3e button.colab-df-convert');\n",
              "        buttonEl.style.display =\n",
              "          google.colab.kernel.accessAllowed ? 'block' : 'none';\n",
              "\n",
              "        async function convertToInteractive(key) {\n",
              "          const element = document.querySelector('#df-244c1323-db5e-496d-8019-503b71678c3e');\n",
              "          const dataTable =\n",
              "            await google.colab.kernel.invokeFunction('convertToInteractive',\n",
              "                                                     [key], {});\n",
              "          if (!dataTable) return;\n",
              "\n",
              "          const docLinkHtml = 'Like what you see? Visit the ' +\n",
              "            '<a target=\"_blank\" href=https://colab.research.google.com/notebooks/data_table.ipynb>data table notebook</a>'\n",
              "            + ' to learn more about interactive tables.';\n",
              "          element.innerHTML = '';\n",
              "          dataTable['output_type'] = 'display_data';\n",
              "          await google.colab.output.renderOutput(dataTable, element);\n",
              "          const docLink = document.createElement('div');\n",
              "          docLink.innerHTML = docLinkHtml;\n",
              "          element.appendChild(docLink);\n",
              "        }\n",
              "      </script>\n",
              "    </div>\n",
              "  </div>\n",
              "  "
            ]
          },
          "metadata": {},
          "execution_count": 66
        }
      ]
    },
    {
      "cell_type": "code",
      "source": [
        "# convert all other cells\n",
        "loans['Maximum Open Credit'] = loans['Maximum Open Credit'].apply(lambda x: x.replace('$', '').replace(',', '')\n",
        "                                 if isinstance(x, str) else x).astype(float)"
      ],
      "metadata": {
        "id": "DZaSIPlACULn"
      },
      "execution_count": 67,
      "outputs": []
    },
    {
      "cell_type": "markdown",
      "source": [
        "## Deep dive into Years in Current Job"
      ],
      "metadata": {
        "id": "_GYxsxj_DHrw"
      }
    },
    {
      "cell_type": "code",
      "source": [
        "loans['Years in current job'].value_counts()"
      ],
      "metadata": {
        "colab": {
          "base_uri": "https://localhost:8080/"
        },
        "id": "RSAchdy0DKWo",
        "outputId": "7d739054-afe2-4f69-bca4-e5fbaba41629"
      },
      "execution_count": 73,
      "outputs": [
        {
          "output_type": "execute_result",
          "data": {
            "text/plain": [
              "10+ years    34551\n",
              "2 years      10158\n",
              "3 years       9133\n",
              "< 1 year      9055\n",
              "5 years       7559\n",
              "1 year        7175\n",
              "4 years       6828\n",
              "6 years       6310\n",
              "7 years       6186\n",
              "8 years       5105\n",
              "9 years       4354\n",
              "Name: Years in current job, dtype: int64"
            ]
          },
          "metadata": {},
          "execution_count": 73
        }
      ]
    },
    {
      "cell_type": "code",
      "source": [
        "loans['Years in current job'].replace(['< 1 year', '1 year', '2 years', '3 years', '4 years', '5 years', '6 years', '7 years', '8 years', '9 years', '10+ years'],[0, 1, 2, 3, 4, 5, 6, 7, 8, 9, 10], inplace=True)"
      ],
      "metadata": {
        "id": "1aYeBfqUDwNc"
      },
      "execution_count": 76,
      "outputs": []
    },
    {
      "cell_type": "code",
      "source": [
        "loans['Years in current job'].value_counts()"
      ],
      "metadata": {
        "colab": {
          "base_uri": "https://localhost:8080/"
        },
        "id": "PfQBA_uWErJn",
        "outputId": "258b81e8-52a3-47f0-e477-dbf19315845a"
      },
      "execution_count": 77,
      "outputs": [
        {
          "output_type": "execute_result",
          "data": {
            "text/plain": [
              "10.0    34551\n",
              "2.0     10158\n",
              "3.0      9133\n",
              "0.0      9055\n",
              "5.0      7559\n",
              "1.0      7175\n",
              "4.0      6828\n",
              "6.0      6310\n",
              "7.0      6186\n",
              "8.0      5105\n",
              "9.0      4354\n",
              "Name: Years in current job, dtype: int64"
            ]
          },
          "metadata": {},
          "execution_count": 77
        }
      ]
    },
    {
      "cell_type": "markdown",
      "source": [
        "### Deep dive into Annual Income"
      ],
      "metadata": {
        "id": "BMf6-ERfO8zg"
      }
    },
    {
      "cell_type": "code",
      "source": [
        "plt.hist(loans['Annual Income'], bins=100);"
      ],
      "metadata": {
        "colab": {
          "base_uri": "https://localhost:8080/",
          "height": 278
        },
        "id": "ItThSiYyO-0O",
        "outputId": "754c21c2-18ee-495b-9f30-2043b4778d7e"
      },
      "execution_count": 150,
      "outputs": [
        {
          "output_type": "display_data",
          "data": {
            "text/plain": [
              "<Figure size 432x288 with 1 Axes>"
            ],
            "image/png": "[encoded data removed]"
          },
          "metadata": {
            "needs_background": "light"
          }
        }
      ]
    },
    {
      "cell_type": "code",
      "source": [
        "loans['Annual Income'].describe(percentiles = [.25, .50, .75, .99])"
      ],
      "metadata": {
        "colab": {
          "base_uri": "https://localhost:8080/"
        },
        "id": "mnOBwjgZPH8I",
        "outputId": "f4d0aab8-4f74-4e50-b1ab-cbbfe043601c"
      },
      "execution_count": 156,
      "outputs": [
        {
          "output_type": "execute_result",
          "data": {
            "text/plain": [
              "count    8.976900e+04\n",
              "mean     7.248600e+04\n",
              "std      5.593094e+04\n",
              "min      4.033000e+03\n",
              "25%      4.468800e+04\n",
              "50%      6.175200e+04\n",
              "75%      8.688700e+04\n",
              "99%      2.414160e+05\n",
              "max      8.713547e+06\n",
              "Name: Annual Income, dtype: float64"
            ]
          },
          "metadata": {},
          "execution_count": 156
        }
      ]
    },
    {
      "cell_type": "code",
      "source": [
        "loans['Annual Income'].median()"
      ],
      "metadata": {
        "colab": {
          "base_uri": "https://localhost:8080/"
        },
        "id": "NIXuco5GPRYc",
        "outputId": "8e5eca8f-541b-4954-9a1f-e6724c4d829e"
      },
      "execution_count": 151,
      "outputs": [
        {
          "output_type": "execute_result",
          "data": {
            "text/plain": [
              "61752.0"
            ]
          },
          "metadata": {},
          "execution_count": 151
        }
      ]
    },
    {
      "cell_type": "markdown",
      "source": [
        "There are some super outlier incomes. The 99 percentile is 240K."
      ],
      "metadata": {
        "id": "EdEBJMdOQMJM"
      }
    },
    {
      "cell_type": "code",
      "source": [
        "plt.hist(loans['Annual Income'][loans['Annual Income'] < 200000])"
      ],
      "metadata": {
        "colab": {
          "base_uri": "https://localhost:8080/",
          "height": 352
        },
        "id": "oT_trZl3PneY",
        "outputId": "c652e71c-737e-40e9-ef9f-ed654a152a5f"
      },
      "execution_count": 155,
      "outputs": [
        {
          "output_type": "execute_result",
          "data": {
            "text/plain": [
              "(array([ 2374., 18319., 24960., 18650., 11213.,  5673.,  3330.,  1966.,\n",
              "         1004.,   674.]),\n",
              " array([  4033. ,  23627.7,  43222.4,  62817.1,  82411.8, 102006.5,\n",
              "        121601.2, 141195.9, 160790.6, 180385.3, 199980. ]),\n",
              " <a list of 10 Patch objects>)"
            ]
          },
          "metadata": {},
          "execution_count": 155
        },
        {
          "output_type": "display_data",
          "data": {
            "text/plain": [
              "<Figure size 432x288 with 1 Axes>"
            ],
            "image/png": "[encoded data removed]"
          },
          "metadata": {
            "needs_background": "light"
          }
        }
      ]
    },
    {
      "cell_type": "code",
      "source": [
        "loans[loans['Annual Income'] > 200000].info()"
      ],
      "metadata": {
        "colab": {
          "base_uri": "https://localhost:8080/"
        },
        "id": "Qav86NCwQXM7",
        "outputId": "bb1c4341-083f-4fec-e1ba-f78066a680e5"
      },
      "execution_count": 159,
      "outputs": [
        {
          "output_type": "stream",
          "name": "stdout",
          "text": [
            "<class 'pandas.core.frame.DataFrame'>\n",
            "Int64Index: 1606 entries, 182 to 111097\n",
            "Data columns (total 20 columns):\n",
            " #   Column                        Non-Null Count  Dtype  \n",
            "---  ------                        --------------  -----  \n",
            " 0   Loan ID                       1606 non-null   object \n",
            " 1   Customer ID                   1606 non-null   object \n",
            " 2   Loan Status                   1606 non-null   object \n",
            " 3   Current Loan Amount           1365 non-null   float64\n",
            " 4   Term                          1606 non-null   object \n",
            " 5   Credit Score                  1606 non-null   float64\n",
            " 6   Years in current job          1594 non-null   float64\n",
            " 7   Home Ownership                1606 non-null   object \n",
            " 8   Annual Income                 1606 non-null   float64\n",
            " 9   Purpose                       1606 non-null   object \n",
            " 10  Monthly Debt                  1606 non-null   float64\n",
            " 11  Years of Credit History       1606 non-null   float64\n",
            " 12  Months since last delinquent  856 non-null    float64\n",
            " 13  Number of Open Accounts       1606 non-null   int64  \n",
            " 14  Number of Credit Problems     1606 non-null   int64  \n",
            " 15  Current Credit Balance        1606 non-null   int64  \n",
            " 16  Maximum Open Credit           1606 non-null   float64\n",
            " 17  Bankruptcies                  1600 non-null   float64\n",
            " 18  Tax Liens                     1606 non-null   float64\n",
            " 19  (4930, Maximum Open Credit)   1606 non-null   int64  \n",
            "dtypes: float64(10), int64(4), object(6)\n",
            "memory usage: 263.5+ KB\n"
          ]
        }
      ]
    },
    {
      "cell_type": "code",
      "source": [
        "plt.hist(loans['Annual Income'][loans['Annual Income'] > 200000]);"
      ],
      "metadata": {
        "colab": {
          "base_uri": "https://localhost:8080/",
          "height": 278
        },
        "id": "qJkS08izQS7F",
        "outputId": "e98bbe88-c84b-48e2-c52a-9f2cf2fc22a4"
      },
      "execution_count": 158,
      "outputs": [
        {
          "output_type": "display_data",
          "data": {
            "text/plain": [
              "<Figure size 432x288 with 1 Axes>"
            ],
            "image/png": "[encoded data removed]"
          },
          "metadata": {
            "needs_background": "light"
          }
        }
      ]
    },
    {
      "cell_type": "markdown",
      "source": [
        "# Check the heatmap for correlations"
      ],
      "metadata": {
        "id": "jYvS1Vhv7AFD"
      }
    },
    {
      "cell_type": "code",
      "source": [
        "plt.figure(figsize=(16,6))\n",
        "heatmap = sns.heatmap(loans.corr(),vmin=-1, vmax=1, annot=True, cmap = 'BrBG')"
      ],
      "metadata": {
        "colab": {
          "base_uri": "https://localhost:8080/",
          "height": 515
        },
        "id": "mvmqQyIx6aWT",
        "outputId": "29bbd72a-aa8c-4fda-d69f-84f1a230cefc"
      },
      "execution_count": 162,
      "outputs": [
        {
          "output_type": "display_data",
          "data": {
            "text/plain": [
              "<Figure size 1152x432 with 2 Axes>"
            ],
            "image/png": "[encoded data removed]"
          },
          "metadata": {
            "needs_background": "light"
          }
        }
      ]
    },
    {
      "cell_type": "markdown",
      "source": [
        "* Credit score - same as annual income\n",
        "  * Not a lot of correlations, which is surprising, given credit score is supposed to be a predictor for all of these things...\n",
        "* Annual income - same as credit score\n",
        "  * Monthly Debt\n",
        "  * Current credit balance\n",
        "  * Number of Open Accounts\n",
        "  * Years of Credit history\n",
        "  * Years in current job\n",
        "* Years in current job\n",
        "  * Annual income\n",
        "  * Years of credit history\n",
        "  * Monthly debt\n",
        "  * Number of open accounts - very high\n",
        "  * Current credit balance - very high\n",
        "* Months since last delinquent - going to drop this column\n",
        "* Bankruptcies\n",
        "  * Number of credit problems - VERY high\n",
        "* Tax liens\n",
        "  * Number of Credit problems - VERY high"
      ],
      "metadata": {
        "id": "0mdT54KD7c3q"
      }
    },
    {
      "cell_type": "markdown",
      "source": [
        "## Deep Dives"
      ],
      "metadata": {
        "id": "xxlCVmjJFlJE"
      }
    },
    {
      "cell_type": "markdown",
      "source": [
        "### Credit Score"
      ],
      "metadata": {
        "id": "WZqX3y8-FoCw"
      }
    },
    {
      "cell_type": "code",
      "source": [
        "plt.hist(loans['Credit Score'], bins = 20);"
      ],
      "metadata": {
        "colab": {
          "base_uri": "https://localhost:8080/",
          "height": 265
        },
        "id": "WgeJQTZeF7dG",
        "outputId": "f3ed6fd2-62de-4506-ecbe-04225a9d135c"
      },
      "execution_count": 161,
      "outputs": [
        {
          "output_type": "display_data",
          "data": {
            "text/plain": [
              "<Figure size 432x288 with 1 Axes>"
            ],
            "image/png": "[encoded data removed]"
          },
          "metadata": {
            "needs_background": "light"
          }
        }
      ]
    },
    {
      "cell_type": "code",
      "source": [
        "loans['Credit Score'].sort_values(ascending=True)"
      ],
      "metadata": {
        "colab": {
          "base_uri": "https://localhost:8080/"
        },
        "id": "kFORRFGrGNrK",
        "outputId": "477d29ba-08d5-4453-b60e-42675481be90"
      },
      "execution_count": 88,
      "outputs": [
        {
          "output_type": "execute_result",
          "data": {
            "text/plain": [
              "66254     585.0\n",
              "68521     585.0\n",
              "56489     585.0\n",
              "81421     585.0\n",
              "104770    585.0\n",
              "          ...  \n",
              "39115       NaN\n",
              "39116       NaN\n",
              "39117       NaN\n",
              "39118       NaN\n",
              "39119       NaN\n",
              "Name: Credit Score, Length: 111107, dtype: float64"
            ]
          },
          "metadata": {},
          "execution_count": 88
        }
      ]
    },
    {
      "cell_type": "markdown",
      "source": [
        "## Deep Dive into Credit Scores"
      ],
      "metadata": {
        "id": "GZNk5ZniMCcO"
      }
    },
    {
      "cell_type": "code",
      "source": [
        "plt.scatter(loans['Current Loan Amount'],loans['Credit Score'])"
      ],
      "metadata": {
        "colab": {
          "base_uri": "https://localhost:8080/",
          "height": 282
        },
        "id": "dkiUIct5Kgy5",
        "outputId": "04194fe3-8a78-496d-a6f8-e03509814c15"
      },
      "execution_count": 112,
      "outputs": [
        {
          "output_type": "execute_result",
          "data": {
            "text/plain": [
              "<matplotlib.collections.PathCollection at 0x7f54547abf90>"
            ]
          },
          "metadata": {},
          "execution_count": 112
        },
        {
          "output_type": "display_data",
          "data": {
            "text/plain": [
              "<Figure size 432x288 with 1 Axes>"
            ],
            "image/png": "[encoded data removed]"
          },
          "metadata": {
            "needs_background": "light"
          }
        }
      ]
    },
    {
      "cell_type": "markdown",
      "source": [
        "There's 12,000 values where the loan amount is 99999999, this is probably nonsense, and effectively a NaN"
      ],
      "metadata": {
        "id": "0OkNVp3cImyV"
      }
    },
    {
      "cell_type": "markdown",
      "source": [
        "### Annual income"
      ],
      "metadata": {
        "id": "ZkLy_oNNFrKg"
      }
    },
    {
      "cell_type": "markdown",
      "source": [
        "### Years in current job"
      ],
      "metadata": {
        "id": "1tXQpIc0FrIa"
      }
    },
    {
      "cell_type": "markdown",
      "source": [
        "### Annual income"
      ],
      "metadata": {
        "id": "VrWJIxTKFrGG"
      }
    },
    {
      "cell_type": "markdown",
      "source": [
        "### Months since last delinquent - drop this"
      ],
      "metadata": {
        "id": "G3MmZBdkFrDt"
      }
    },
    {
      "cell_type": "markdown",
      "source": [
        "### Bankruptcies"
      ],
      "metadata": {
        "id": "spoC6rqJFp9B"
      }
    },
    {
      "cell_type": "markdown",
      "source": [
        "### Tax liens"
      ],
      "metadata": {
        "id": "LwSx5IAQFp27"
      }
    }
  ]
}