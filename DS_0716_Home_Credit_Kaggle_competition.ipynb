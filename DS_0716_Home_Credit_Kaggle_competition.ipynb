{
  "nbformat": 4,
  "nbformat_minor": 0,
  "metadata": {
    "colab": {
      "name": "DS 0716 - Home Credit Kaggle competition.ipynb",
      "provenance": [],
      "collapsed_sections": [],
      "authorship_tag": "ABX9TyPXE2DGilaX4wWBNSditiOb",
      "include_colab_link": true
    },
    "kernelspec": {
      "name": "python3",
      "display_name": "Python 3"
    },
    "language_info": {
      "name": "python"
    },
    "accelerator": "GPU",
    "gpuClass": "standard"
  },
  "cells": [
    {
      "cell_type": "markdown",
      "metadata": {
        "id": "view-in-github",
        "colab_type": "text"
      },
      "source": [
        "<a href=\"https://colab.research.google.com/github/zdanielshi/data_science_LFZ/blob/main/DS_0716_Home_Credit_Kaggle_competition.ipynb\" target=\"_parent\"><img src=\"https://colab.research.google.com/assets/colab-badge.svg\" alt=\"Open In Colab\"/></a>"
      ]
    },
    {
      "cell_type": "code",
      "execution_count": 210,
      "metadata": {
        "id": "tE6T5J05U1Be"
      },
      "outputs": [],
      "source": [
        "import pandas as pd\n",
        "import numpy as np\n",
        "import matplotlib.pyplot as plt\n",
        "import seaborn as sns\n",
        "import scipy as stats\n",
        "from sklearn.experimental import enable_iterative_imputer\n",
        "from sklearn.impute import KNNImputer, IterativeImputer\n",
        "from sklearn.preprocessing import RobustScaler, MinMaxScaler, MaxAbsScaler, StandardScaler\n",
        "from sklearn.model_selection import train_test_split\n",
        "from imblearn.over_sampling import SMOTE\n",
        "from sklearn.metrics import confusion_matrix, precision_score, recall_score, roc_auc_score\n",
        "\n",
        "from sklearn.linear_model import LogisticRegression\n",
        "from sklearn.neighbors import KNeighborsClassifier\n",
        "from xgboost import XGBClassifier\n",
        "from lightgbm import LGBMClassifier"
      ]
    },
    {
      "cell_type": "code",
      "source": [
        "train = pd.read_csv('/content/application_train.csv')\n",
        "test = pd.read_csv('/content/application_test.csv')"
      ],
      "metadata": {
        "id": "h7D_3C6CYc2v"
      },
      "execution_count": 140,
      "outputs": []
    },
    {
      "cell_type": "markdown",
      "source": [
        "# Analysis"
      ],
      "metadata": {
        "id": "wtc_9SHFVAXY"
      }
    },
    {
      "cell_type": "code",
      "source": [
        "train.keys()"
      ],
      "metadata": {
        "colab": {
          "base_uri": "https://localhost:8080/"
        },
        "id": "gqgG201cYrs6",
        "outputId": "63123bcc-012c-4e3f-c7c1-529be12e0250"
      },
      "execution_count": 141,
      "outputs": [
        {
          "output_type": "execute_result",
          "data": {
            "text/plain": [
              "Index(['SK_ID_CURR', 'TARGET', 'NAME_CONTRACT_TYPE', 'CODE_GENDER',\n",
              "       'FLAG_OWN_CAR', 'FLAG_OWN_REALTY', 'CNT_CHILDREN', 'AMT_INCOME_TOTAL',\n",
              "       'AMT_CREDIT', 'AMT_ANNUITY',\n",
              "       ...\n",
              "       'FLAG_DOCUMENT_18', 'FLAG_DOCUMENT_19', 'FLAG_DOCUMENT_20',\n",
              "       'FLAG_DOCUMENT_21', 'AMT_REQ_CREDIT_BUREAU_HOUR',\n",
              "       'AMT_REQ_CREDIT_BUREAU_DAY', 'AMT_REQ_CREDIT_BUREAU_WEEK',\n",
              "       'AMT_REQ_CREDIT_BUREAU_MON', 'AMT_REQ_CREDIT_BUREAU_QRT',\n",
              "       'AMT_REQ_CREDIT_BUREAU_YEAR'],\n",
              "      dtype='object', length=122)"
            ]
          },
          "metadata": {},
          "execution_count": 141
        }
      ]
    },
    {
      "cell_type": "code",
      "source": [
        "corr_rank = train.corr()['TARGET'].sort_values()"
      ],
      "metadata": {
        "id": "DTo4qd-oYrqU"
      },
      "execution_count": 142,
      "outputs": []
    },
    {
      "cell_type": "code",
      "source": [
        "corr_rank.head(n=15)"
      ],
      "metadata": {
        "colab": {
          "base_uri": "https://localhost:8080/"
        },
        "id": "ZCxplTnIYrnL",
        "outputId": "071e1573-05bf-45ae-fafd-decc5115829e"
      },
      "execution_count": 143,
      "outputs": [
        {
          "output_type": "execute_result",
          "data": {
            "text/plain": [
              "EXT_SOURCE_3                 -0.178919\n",
              "EXT_SOURCE_2                 -0.160472\n",
              "EXT_SOURCE_1                 -0.155317\n",
              "DAYS_EMPLOYED                -0.044932\n",
              "FLOORSMAX_AVG                -0.044003\n",
              "FLOORSMAX_MEDI               -0.043768\n",
              "FLOORSMAX_MODE               -0.043226\n",
              "AMT_GOODS_PRICE              -0.039645\n",
              "REGION_POPULATION_RELATIVE   -0.037227\n",
              "ELEVATORS_AVG                -0.034199\n",
              "ELEVATORS_MEDI               -0.033863\n",
              "FLOORSMIN_AVG                -0.033614\n",
              "FLOORSMIN_MEDI               -0.033394\n",
              "LIVINGAREA_AVG               -0.032997\n",
              "LIVINGAREA_MEDI              -0.032739\n",
              "Name: TARGET, dtype: float64"
            ]
          },
          "metadata": {},
          "execution_count": 143
        }
      ]
    },
    {
      "cell_type": "code",
      "source": [
        "corr_rank.tail(n=15)"
      ],
      "metadata": {
        "colab": {
          "base_uri": "https://localhost:8080/"
        },
        "id": "hRUAwU95ZaBF",
        "outputId": "0a1ec7a3-33f2-4617-c4c7-9451d175c2c8"
      },
      "execution_count": 144,
      "outputs": [
        {
          "output_type": "execute_result",
          "data": {
            "text/plain": [
              "DEF_60_CNT_SOCIAL_CIRCLE       0.031276\n",
              "DEF_30_CNT_SOCIAL_CIRCLE       0.032248\n",
              "LIVE_CITY_NOT_WORK_CITY        0.032518\n",
              "OWN_CAR_AGE                    0.037612\n",
              "DAYS_REGISTRATION              0.041975\n",
              "FLAG_DOCUMENT_3                0.044346\n",
              "REG_CITY_NOT_LIVE_CITY         0.044395\n",
              "FLAG_EMP_PHONE                 0.045982\n",
              "REG_CITY_NOT_WORK_CITY         0.050994\n",
              "DAYS_ID_PUBLISH                0.051457\n",
              "DAYS_LAST_PHONE_CHANGE         0.055218\n",
              "REGION_RATING_CLIENT           0.058899\n",
              "REGION_RATING_CLIENT_W_CITY    0.060893\n",
              "DAYS_BIRTH                     0.078239\n",
              "TARGET                         1.000000\n",
              "Name: TARGET, dtype: float64"
            ]
          },
          "metadata": {},
          "execution_count": 144
        }
      ]
    },
    {
      "cell_type": "markdown",
      "source": [
        "# Feature Selection\n",
        "* Make life simple on myself, just select the most features."
      ],
      "metadata": {
        "id": "1S7jQrMfVAOi"
      }
    },
    {
      "cell_type": "code",
      "source": [
        "train = train[['TARGET', 'EXT_SOURCE_3', 'EXT_SOURCE_1', 'EXT_SOURCE_2', 'DAYS_EMPLOYED', 'DAYS_BIRTH', 'REGION_RATING_CLIENT_W_CITY', 'REGION_RATING_CLIENT', 'DAYS_LAST_PHONE_CHANGE', 'DAYS_ID_PUBLISH', 'DEF_30_CNT_SOCIAL_CIRCLE']]"
      ],
      "metadata": {
        "id": "CnSSMsNbZ6PA"
      },
      "execution_count": 145,
      "outputs": []
    },
    {
      "cell_type": "code",
      "source": [
        "train"
      ],
      "metadata": {
        "colab": {
          "base_uri": "https://localhost:8080/",
          "height": 488
        },
        "id": "zk-SZoQLa3S2",
        "outputId": "c086a628-f1ec-4cce-d64e-abc09165824b"
      },
      "execution_count": 146,
      "outputs": [
        {
          "output_type": "execute_result",
          "data": {
            "text/plain": [
              "        TARGET  EXT_SOURCE_3  EXT_SOURCE_1  EXT_SOURCE_2  DAYS_EMPLOYED  \\\n",
              "0            1      0.139376      0.083037      0.262949           -637   \n",
              "1            0           NaN      0.311267      0.622246          -1188   \n",
              "2            0      0.729567           NaN      0.555912           -225   \n",
              "3            0           NaN           NaN      0.650442          -3039   \n",
              "4            0           NaN           NaN      0.322738          -3038   \n",
              "...        ...           ...           ...           ...            ...   \n",
              "307506       0           NaN      0.145570      0.681632           -236   \n",
              "307507       0           NaN           NaN      0.115992         365243   \n",
              "307508       0      0.218859      0.744026      0.535722          -7921   \n",
              "307509       1      0.661024           NaN      0.514163          -4786   \n",
              "307510       0      0.113922      0.734460      0.708569          -1262   \n",
              "\n",
              "        DAYS_BIRTH  REGION_RATING_CLIENT_W_CITY  REGION_RATING_CLIENT  \\\n",
              "0            -9461                            2                     2   \n",
              "1           -16765                            1                     1   \n",
              "2           -19046                            2                     2   \n",
              "3           -19005                            2                     2   \n",
              "4           -19932                            2                     2   \n",
              "...            ...                          ...                   ...   \n",
              "307506       -9327                            1                     1   \n",
              "307507      -20775                            2                     2   \n",
              "307508      -14966                            3                     3   \n",
              "307509      -11961                            2                     2   \n",
              "307510      -16856                            1                     1   \n",
              "\n",
              "        DAYS_LAST_PHONE_CHANGE  DAYS_ID_PUBLISH  DEF_30_CNT_SOCIAL_CIRCLE  \n",
              "0                      -1134.0            -2120                       2.0  \n",
              "1                       -828.0             -291                       0.0  \n",
              "2                       -815.0            -2531                       0.0  \n",
              "3                       -617.0            -2437                       0.0  \n",
              "4                      -1106.0            -3458                       0.0  \n",
              "...                        ...              ...                       ...  \n",
              "307506                  -273.0            -1982                       0.0  \n",
              "307507                     0.0            -4090                       0.0  \n",
              "307508                 -1909.0            -5150                       0.0  \n",
              "307509                  -322.0             -931                       0.0  \n",
              "307510                  -787.0             -410                       0.0  \n",
              "\n",
              "[307511 rows x 11 columns]"
            ],
            "text/html": [
              "\n",
              "  <div id=\"df-e3768577-b27b-49c8-bff1-feea9d7245b8\">\n",
              "    <div class=\"colab-df-container\">\n",
              "      <div>\n",
              "<style scoped>\n",
              "    .dataframe tbody tr th:only-of-type {\n",
              "        vertical-align: middle;\n",
              "    }\n",
              "\n",
              "    .dataframe tbody tr th {\n",
              "        vertical-align: top;\n",
              "    }\n",
              "\n",
              "    .dataframe thead th {\n",
              "        text-align: right;\n",
              "    }\n",
              "</style>\n",
              "<table border=\"1\" class=\"dataframe\">\n",
              "  <thead>\n",
              "    <tr style=\"text-align: right;\">\n",
              "      <th></th>\n",
              "      <th>TARGET</th>\n",
              "      <th>EXT_SOURCE_3</th>\n",
              "      <th>EXT_SOURCE_1</th>\n",
              "      <th>EXT_SOURCE_2</th>\n",
              "      <th>DAYS_EMPLOYED</th>\n",
              "      <th>DAYS_BIRTH</th>\n",
              "      <th>REGION_RATING_CLIENT_W_CITY</th>\n",
              "      <th>REGION_RATING_CLIENT</th>\n",
              "      <th>DAYS_LAST_PHONE_CHANGE</th>\n",
              "      <th>DAYS_ID_PUBLISH</th>\n",
              "      <th>DEF_30_CNT_SOCIAL_CIRCLE</th>\n",
              "    </tr>\n",
              "  </thead>\n",
              "  <tbody>\n",
              "    <tr>\n",
              "      <th>0</th>\n",
              "      <td>1</td>\n",
              "      <td>0.139376</td>\n",
              "      <td>0.083037</td>\n",
              "      <td>0.262949</td>\n",
              "      <td>-637</td>\n",
              "      <td>-9461</td>\n",
              "      <td>2</td>\n",
              "      <td>2</td>\n",
              "      <td>-1134.0</td>\n",
              "      <td>-2120</td>\n",
              "      <td>2.0</td>\n",
              "    </tr>\n",
              "    <tr>\n",
              "      <th>1</th>\n",
              "      <td>0</td>\n",
              "      <td>NaN</td>\n",
              "      <td>0.311267</td>\n",
              "      <td>0.622246</td>\n",
              "      <td>-1188</td>\n",
              "      <td>-16765</td>\n",
              "      <td>1</td>\n",
              "      <td>1</td>\n",
              "      <td>-828.0</td>\n",
              "      <td>-291</td>\n",
              "      <td>0.0</td>\n",
              "    </tr>\n",
              "    <tr>\n",
              "      <th>2</th>\n",
              "      <td>0</td>\n",
              "      <td>0.729567</td>\n",
              "      <td>NaN</td>\n",
              "      <td>0.555912</td>\n",
              "      <td>-225</td>\n",
              "      <td>-19046</td>\n",
              "      <td>2</td>\n",
              "      <td>2</td>\n",
              "      <td>-815.0</td>\n",
              "      <td>-2531</td>\n",
              "      <td>0.0</td>\n",
              "    </tr>\n",
              "    <tr>\n",
              "      <th>3</th>\n",
              "      <td>0</td>\n",
              "      <td>NaN</td>\n",
              "      <td>NaN</td>\n",
              "      <td>0.650442</td>\n",
              "      <td>-3039</td>\n",
              "      <td>-19005</td>\n",
              "      <td>2</td>\n",
              "      <td>2</td>\n",
              "      <td>-617.0</td>\n",
              "      <td>-2437</td>\n",
              "      <td>0.0</td>\n",
              "    </tr>\n",
              "    <tr>\n",
              "      <th>4</th>\n",
              "      <td>0</td>\n",
              "      <td>NaN</td>\n",
              "      <td>NaN</td>\n",
              "      <td>0.322738</td>\n",
              "      <td>-3038</td>\n",
              "      <td>-19932</td>\n",
              "      <td>2</td>\n",
              "      <td>2</td>\n",
              "      <td>-1106.0</td>\n",
              "      <td>-3458</td>\n",
              "      <td>0.0</td>\n",
              "    </tr>\n",
              "    <tr>\n",
              "      <th>...</th>\n",
              "      <td>...</td>\n",
              "      <td>...</td>\n",
              "      <td>...</td>\n",
              "      <td>...</td>\n",
              "      <td>...</td>\n",
              "      <td>...</td>\n",
              "      <td>...</td>\n",
              "      <td>...</td>\n",
              "      <td>...</td>\n",
              "      <td>...</td>\n",
              "      <td>...</td>\n",
              "    </tr>\n",
              "    <tr>\n",
              "      <th>307506</th>\n",
              "      <td>0</td>\n",
              "      <td>NaN</td>\n",
              "      <td>0.145570</td>\n",
              "      <td>0.681632</td>\n",
              "      <td>-236</td>\n",
              "      <td>-9327</td>\n",
              "      <td>1</td>\n",
              "      <td>1</td>\n",
              "      <td>-273.0</td>\n",
              "      <td>-1982</td>\n",
              "      <td>0.0</td>\n",
              "    </tr>\n",
              "    <tr>\n",
              "      <th>307507</th>\n",
              "      <td>0</td>\n",
              "      <td>NaN</td>\n",
              "      <td>NaN</td>\n",
              "      <td>0.115992</td>\n",
              "      <td>365243</td>\n",
              "      <td>-20775</td>\n",
              "      <td>2</td>\n",
              "      <td>2</td>\n",
              "      <td>0.0</td>\n",
              "      <td>-4090</td>\n",
              "      <td>0.0</td>\n",
              "    </tr>\n",
              "    <tr>\n",
              "      <th>307508</th>\n",
              "      <td>0</td>\n",
              "      <td>0.218859</td>\n",
              "      <td>0.744026</td>\n",
              "      <td>0.535722</td>\n",
              "      <td>-7921</td>\n",
              "      <td>-14966</td>\n",
              "      <td>3</td>\n",
              "      <td>3</td>\n",
              "      <td>-1909.0</td>\n",
              "      <td>-5150</td>\n",
              "      <td>0.0</td>\n",
              "    </tr>\n",
              "    <tr>\n",
              "      <th>307509</th>\n",
              "      <td>1</td>\n",
              "      <td>0.661024</td>\n",
              "      <td>NaN</td>\n",
              "      <td>0.514163</td>\n",
              "      <td>-4786</td>\n",
              "      <td>-11961</td>\n",
              "      <td>2</td>\n",
              "      <td>2</td>\n",
              "      <td>-322.0</td>\n",
              "      <td>-931</td>\n",
              "      <td>0.0</td>\n",
              "    </tr>\n",
              "    <tr>\n",
              "      <th>307510</th>\n",
              "      <td>0</td>\n",
              "      <td>0.113922</td>\n",
              "      <td>0.734460</td>\n",
              "      <td>0.708569</td>\n",
              "      <td>-1262</td>\n",
              "      <td>-16856</td>\n",
              "      <td>1</td>\n",
              "      <td>1</td>\n",
              "      <td>-787.0</td>\n",
              "      <td>-410</td>\n",
              "      <td>0.0</td>\n",
              "    </tr>\n",
              "  </tbody>\n",
              "</table>\n",
              "<p>307511 rows × 11 columns</p>\n",
              "</div>\n",
              "      <button class=\"colab-df-convert\" onclick=\"convertToInteractive('df-e3768577-b27b-49c8-bff1-feea9d7245b8')\"\n",
              "              title=\"Convert this dataframe to an interactive table.\"\n",
              "              style=\"display:none;\">\n",
              "        \n",
              "  <svg xmlns=\"http://www.w3.org/2000/svg\" height=\"24px\"viewBox=\"0 0 24 24\"\n",
              "       width=\"24px\">\n",
              "    <path d=\"M0 0h24v24H0V0z\" fill=\"none\"/>\n",
              "    <path d=\"M18.56 5.44l.94 2.06.94-2.06 2.06-.94-2.06-.94-.94-2.06-.94 2.06-2.06.94zm-11 1L8.5 8.5l.94-2.06 2.06-.94-2.06-.94L8.5 2.5l-.94 2.06-2.06.94zm10 10l.94 2.06.94-2.06 2.06-.94-2.06-.94-.94-2.06-.94 2.06-2.06.94z\"/><path d=\"M17.41 7.96l-1.37-1.37c-.4-.4-.92-.59-1.43-.59-.52 0-1.04.2-1.43.59L10.3 9.45l-7.72 7.72c-.78.78-.78 2.05 0 2.83L4 21.41c.39.39.9.59 1.41.59.51 0 1.02-.2 1.41-.59l7.78-7.78 2.81-2.81c.8-.78.8-2.07 0-2.86zM5.41 20L4 18.59l7.72-7.72 1.47 1.35L5.41 20z\"/>\n",
              "  </svg>\n",
              "      </button>\n",
              "      \n",
              "  <style>\n",
              "    .colab-df-container {\n",
              "      display:flex;\n",
              "      flex-wrap:wrap;\n",
              "      gap: 12px;\n",
              "    }\n",
              "\n",
              "    .colab-df-convert {\n",
              "      background-color: #E8F0FE;\n",
              "      border: none;\n",
              "      border-radius: 50%;\n",
              "      cursor: pointer;\n",
              "      display: none;\n",
              "      fill: #1967D2;\n",
              "      height: 32px;\n",
              "      padding: 0 0 0 0;\n",
              "      width: 32px;\n",
              "    }\n",
              "\n",
              "    .colab-df-convert:hover {\n",
              "      background-color: #E2EBFA;\n",
              "      box-shadow: 0px 1px 2px rgba(60, 64, 67, 0.3), 0px 1px 3px 1px rgba(60, 64, 67, 0.15);\n",
              "      fill: #174EA6;\n",
              "    }\n",
              "\n",
              "    [theme=dark] .colab-df-convert {\n",
              "      background-color: #3B4455;\n",
              "      fill: #D2E3FC;\n",
              "    }\n",
              "\n",
              "    [theme=dark] .colab-df-convert:hover {\n",
              "      background-color: #434B5C;\n",
              "      box-shadow: 0px 1px 3px 1px rgba(0, 0, 0, 0.15);\n",
              "      filter: drop-shadow(0px 1px 2px rgba(0, 0, 0, 0.3));\n",
              "      fill: #FFFFFF;\n",
              "    }\n",
              "  </style>\n",
              "\n",
              "      <script>\n",
              "        const buttonEl =\n",
              "          document.querySelector('#df-e3768577-b27b-49c8-bff1-feea9d7245b8 button.colab-df-convert');\n",
              "        buttonEl.style.display =\n",
              "          google.colab.kernel.accessAllowed ? 'block' : 'none';\n",
              "\n",
              "        async function convertToInteractive(key) {\n",
              "          const element = document.querySelector('#df-e3768577-b27b-49c8-bff1-feea9d7245b8');\n",
              "          const dataTable =\n",
              "            await google.colab.kernel.invokeFunction('convertToInteractive',\n",
              "                                                     [key], {});\n",
              "          if (!dataTable) return;\n",
              "\n",
              "          const docLinkHtml = 'Like what you see? Visit the ' +\n",
              "            '<a target=\"_blank\" href=https://colab.research.google.com/notebooks/data_table.ipynb>data table notebook</a>'\n",
              "            + ' to learn more about interactive tables.';\n",
              "          element.innerHTML = '';\n",
              "          dataTable['output_type'] = 'display_data';\n",
              "          await google.colab.output.renderOutput(dataTable, element);\n",
              "          const docLink = document.createElement('div');\n",
              "          docLink.innerHTML = docLinkHtml;\n",
              "          element.appendChild(docLink);\n",
              "        }\n",
              "      </script>\n",
              "    </div>\n",
              "  </div>\n",
              "  "
            ]
          },
          "metadata": {},
          "execution_count": 146
        }
      ]
    },
    {
      "cell_type": "code",
      "source": [
        "test = test[['EXT_SOURCE_3', 'EXT_SOURCE_1', 'EXT_SOURCE_2', 'DAYS_EMPLOYED', 'DAYS_BIRTH', 'REGION_RATING_CLIENT_W_CITY', 'REGION_RATING_CLIENT', 'DAYS_LAST_PHONE_CHANGE', 'DAYS_ID_PUBLISH', 'DEF_30_CNT_SOCIAL_CIRCLE']]"
      ],
      "metadata": {
        "id": "70pQo3ukbWiW"
      },
      "execution_count": 147,
      "outputs": []
    },
    {
      "cell_type": "code",
      "source": [
        "test"
      ],
      "metadata": {
        "colab": {
          "base_uri": "https://localhost:8080/",
          "height": 488
        },
        "id": "sfHi3E2RbjJi",
        "outputId": "71dbd48e-408d-4fe1-9f15-21ac17f3b6f6"
      },
      "execution_count": 148,
      "outputs": [
        {
          "output_type": "execute_result",
          "data": {
            "text/plain": [
              "       EXT_SOURCE_3  EXT_SOURCE_1  EXT_SOURCE_2  DAYS_EMPLOYED  DAYS_BIRTH  \\\n",
              "0          0.159520      0.752614      0.789654          -2329      -19241   \n",
              "1          0.432962      0.564990      0.291656          -4469      -18064   \n",
              "2          0.610991           NaN      0.699787          -4458      -20038   \n",
              "3          0.612704      0.525734      0.509677          -1866      -13976   \n",
              "4               NaN      0.202145      0.425687          -2191      -13040   \n",
              "...             ...           ...           ...            ...         ...   \n",
              "48739      0.643026           NaN      0.648575          -5169      -19970   \n",
              "48740           NaN           NaN      0.684596          -1149      -11186   \n",
              "48741      0.283712      0.733503      0.632770          -3037      -15922   \n",
              "48742      0.595456      0.373090      0.445701          -2731      -13968   \n",
              "48743      0.272134           NaN      0.456541           -633      -13962   \n",
              "\n",
              "       REGION_RATING_CLIENT_W_CITY  REGION_RATING_CLIENT  \\\n",
              "0                                2                     2   \n",
              "1                                2                     2   \n",
              "2                                2                     2   \n",
              "3                                2                     2   \n",
              "4                                2                     2   \n",
              "...                            ...                   ...   \n",
              "48739                            3                     3   \n",
              "48740                            2                     2   \n",
              "48741                            2                     2   \n",
              "48742                            2                     2   \n",
              "48743                            2                     2   \n",
              "\n",
              "       DAYS_LAST_PHONE_CHANGE  DAYS_ID_PUBLISH  DEF_30_CNT_SOCIAL_CIRCLE  \n",
              "0                     -1740.0             -812                       0.0  \n",
              "1                         0.0            -1623                       0.0  \n",
              "2                      -856.0            -3503                       0.0  \n",
              "3                     -1805.0            -4208                       0.0  \n",
              "4                      -821.0            -4262                       0.0  \n",
              "...                       ...              ...                       ...  \n",
              "48739                  -684.0            -3399                       0.0  \n",
              "48740                     0.0            -3003                       0.0  \n",
              "48741                  -838.0            -1504                       0.0  \n",
              "48742                 -2308.0            -1364                       0.0  \n",
              "48743                  -327.0            -4220                       0.0  \n",
              "\n",
              "[48744 rows x 10 columns]"
            ],
            "text/html": [
              "\n",
              "  <div id=\"df-26bafd39-a8a6-4214-a9a8-5c085c5674c6\">\n",
              "    <div class=\"colab-df-container\">\n",
              "      <div>\n",
              "<style scoped>\n",
              "    .dataframe tbody tr th:only-of-type {\n",
              "        vertical-align: middle;\n",
              "    }\n",
              "\n",
              "    .dataframe tbody tr th {\n",
              "        vertical-align: top;\n",
              "    }\n",
              "\n",
              "    .dataframe thead th {\n",
              "        text-align: right;\n",
              "    }\n",
              "</style>\n",
              "<table border=\"1\" class=\"dataframe\">\n",
              "  <thead>\n",
              "    <tr style=\"text-align: right;\">\n",
              "      <th></th>\n",
              "      <th>EXT_SOURCE_3</th>\n",
              "      <th>EXT_SOURCE_1</th>\n",
              "      <th>EXT_SOURCE_2</th>\n",
              "      <th>DAYS_EMPLOYED</th>\n",
              "      <th>DAYS_BIRTH</th>\n",
              "      <th>REGION_RATING_CLIENT_W_CITY</th>\n",
              "      <th>REGION_RATING_CLIENT</th>\n",
              "      <th>DAYS_LAST_PHONE_CHANGE</th>\n",
              "      <th>DAYS_ID_PUBLISH</th>\n",
              "      <th>DEF_30_CNT_SOCIAL_CIRCLE</th>\n",
              "    </tr>\n",
              "  </thead>\n",
              "  <tbody>\n",
              "    <tr>\n",
              "      <th>0</th>\n",
              "      <td>0.159520</td>\n",
              "      <td>0.752614</td>\n",
              "      <td>0.789654</td>\n",
              "      <td>-2329</td>\n",
              "      <td>-19241</td>\n",
              "      <td>2</td>\n",
              "      <td>2</td>\n",
              "      <td>-1740.0</td>\n",
              "      <td>-812</td>\n",
              "      <td>0.0</td>\n",
              "    </tr>\n",
              "    <tr>\n",
              "      <th>1</th>\n",
              "      <td>0.432962</td>\n",
              "      <td>0.564990</td>\n",
              "      <td>0.291656</td>\n",
              "      <td>-4469</td>\n",
              "      <td>-18064</td>\n",
              "      <td>2</td>\n",
              "      <td>2</td>\n",
              "      <td>0.0</td>\n",
              "      <td>-1623</td>\n",
              "      <td>0.0</td>\n",
              "    </tr>\n",
              "    <tr>\n",
              "      <th>2</th>\n",
              "      <td>0.610991</td>\n",
              "      <td>NaN</td>\n",
              "      <td>0.699787</td>\n",
              "      <td>-4458</td>\n",
              "      <td>-20038</td>\n",
              "      <td>2</td>\n",
              "      <td>2</td>\n",
              "      <td>-856.0</td>\n",
              "      <td>-3503</td>\n",
              "      <td>0.0</td>\n",
              "    </tr>\n",
              "    <tr>\n",
              "      <th>3</th>\n",
              "      <td>0.612704</td>\n",
              "      <td>0.525734</td>\n",
              "      <td>0.509677</td>\n",
              "      <td>-1866</td>\n",
              "      <td>-13976</td>\n",
              "      <td>2</td>\n",
              "      <td>2</td>\n",
              "      <td>-1805.0</td>\n",
              "      <td>-4208</td>\n",
              "      <td>0.0</td>\n",
              "    </tr>\n",
              "    <tr>\n",
              "      <th>4</th>\n",
              "      <td>NaN</td>\n",
              "      <td>0.202145</td>\n",
              "      <td>0.425687</td>\n",
              "      <td>-2191</td>\n",
              "      <td>-13040</td>\n",
              "      <td>2</td>\n",
              "      <td>2</td>\n",
              "      <td>-821.0</td>\n",
              "      <td>-4262</td>\n",
              "      <td>0.0</td>\n",
              "    </tr>\n",
              "    <tr>\n",
              "      <th>...</th>\n",
              "      <td>...</td>\n",
              "      <td>...</td>\n",
              "      <td>...</td>\n",
              "      <td>...</td>\n",
              "      <td>...</td>\n",
              "      <td>...</td>\n",
              "      <td>...</td>\n",
              "      <td>...</td>\n",
              "      <td>...</td>\n",
              "      <td>...</td>\n",
              "    </tr>\n",
              "    <tr>\n",
              "      <th>48739</th>\n",
              "      <td>0.643026</td>\n",
              "      <td>NaN</td>\n",
              "      <td>0.648575</td>\n",
              "      <td>-5169</td>\n",
              "      <td>-19970</td>\n",
              "      <td>3</td>\n",
              "      <td>3</td>\n",
              "      <td>-684.0</td>\n",
              "      <td>-3399</td>\n",
              "      <td>0.0</td>\n",
              "    </tr>\n",
              "    <tr>\n",
              "      <th>48740</th>\n",
              "      <td>NaN</td>\n",
              "      <td>NaN</td>\n",
              "      <td>0.684596</td>\n",
              "      <td>-1149</td>\n",
              "      <td>-11186</td>\n",
              "      <td>2</td>\n",
              "      <td>2</td>\n",
              "      <td>0.0</td>\n",
              "      <td>-3003</td>\n",
              "      <td>0.0</td>\n",
              "    </tr>\n",
              "    <tr>\n",
              "      <th>48741</th>\n",
              "      <td>0.283712</td>\n",
              "      <td>0.733503</td>\n",
              "      <td>0.632770</td>\n",
              "      <td>-3037</td>\n",
              "      <td>-15922</td>\n",
              "      <td>2</td>\n",
              "      <td>2</td>\n",
              "      <td>-838.0</td>\n",
              "      <td>-1504</td>\n",
              "      <td>0.0</td>\n",
              "    </tr>\n",
              "    <tr>\n",
              "      <th>48742</th>\n",
              "      <td>0.595456</td>\n",
              "      <td>0.373090</td>\n",
              "      <td>0.445701</td>\n",
              "      <td>-2731</td>\n",
              "      <td>-13968</td>\n",
              "      <td>2</td>\n",
              "      <td>2</td>\n",
              "      <td>-2308.0</td>\n",
              "      <td>-1364</td>\n",
              "      <td>0.0</td>\n",
              "    </tr>\n",
              "    <tr>\n",
              "      <th>48743</th>\n",
              "      <td>0.272134</td>\n",
              "      <td>NaN</td>\n",
              "      <td>0.456541</td>\n",
              "      <td>-633</td>\n",
              "      <td>-13962</td>\n",
              "      <td>2</td>\n",
              "      <td>2</td>\n",
              "      <td>-327.0</td>\n",
              "      <td>-4220</td>\n",
              "      <td>0.0</td>\n",
              "    </tr>\n",
              "  </tbody>\n",
              "</table>\n",
              "<p>48744 rows × 10 columns</p>\n",
              "</div>\n",
              "      <button class=\"colab-df-convert\" onclick=\"convertToInteractive('df-26bafd39-a8a6-4214-a9a8-5c085c5674c6')\"\n",
              "              title=\"Convert this dataframe to an interactive table.\"\n",
              "              style=\"display:none;\">\n",
              "        \n",
              "  <svg xmlns=\"http://www.w3.org/2000/svg\" height=\"24px\"viewBox=\"0 0 24 24\"\n",
              "       width=\"24px\">\n",
              "    <path d=\"M0 0h24v24H0V0z\" fill=\"none\"/>\n",
              "    <path d=\"M18.56 5.44l.94 2.06.94-2.06 2.06-.94-2.06-.94-.94-2.06-.94 2.06-2.06.94zm-11 1L8.5 8.5l.94-2.06 2.06-.94-2.06-.94L8.5 2.5l-.94 2.06-2.06.94zm10 10l.94 2.06.94-2.06 2.06-.94-2.06-.94-.94-2.06-.94 2.06-2.06.94z\"/><path d=\"M17.41 7.96l-1.37-1.37c-.4-.4-.92-.59-1.43-.59-.52 0-1.04.2-1.43.59L10.3 9.45l-7.72 7.72c-.78.78-.78 2.05 0 2.83L4 21.41c.39.39.9.59 1.41.59.51 0 1.02-.2 1.41-.59l7.78-7.78 2.81-2.81c.8-.78.8-2.07 0-2.86zM5.41 20L4 18.59l7.72-7.72 1.47 1.35L5.41 20z\"/>\n",
              "  </svg>\n",
              "      </button>\n",
              "      \n",
              "  <style>\n",
              "    .colab-df-container {\n",
              "      display:flex;\n",
              "      flex-wrap:wrap;\n",
              "      gap: 12px;\n",
              "    }\n",
              "\n",
              "    .colab-df-convert {\n",
              "      background-color: #E8F0FE;\n",
              "      border: none;\n",
              "      border-radius: 50%;\n",
              "      cursor: pointer;\n",
              "      display: none;\n",
              "      fill: #1967D2;\n",
              "      height: 32px;\n",
              "      padding: 0 0 0 0;\n",
              "      width: 32px;\n",
              "    }\n",
              "\n",
              "    .colab-df-convert:hover {\n",
              "      background-color: #E2EBFA;\n",
              "      box-shadow: 0px 1px 2px rgba(60, 64, 67, 0.3), 0px 1px 3px 1px rgba(60, 64, 67, 0.15);\n",
              "      fill: #174EA6;\n",
              "    }\n",
              "\n",
              "    [theme=dark] .colab-df-convert {\n",
              "      background-color: #3B4455;\n",
              "      fill: #D2E3FC;\n",
              "    }\n",
              "\n",
              "    [theme=dark] .colab-df-convert:hover {\n",
              "      background-color: #434B5C;\n",
              "      box-shadow: 0px 1px 3px 1px rgba(0, 0, 0, 0.15);\n",
              "      filter: drop-shadow(0px 1px 2px rgba(0, 0, 0, 0.3));\n",
              "      fill: #FFFFFF;\n",
              "    }\n",
              "  </style>\n",
              "\n",
              "      <script>\n",
              "        const buttonEl =\n",
              "          document.querySelector('#df-26bafd39-a8a6-4214-a9a8-5c085c5674c6 button.colab-df-convert');\n",
              "        buttonEl.style.display =\n",
              "          google.colab.kernel.accessAllowed ? 'block' : 'none';\n",
              "\n",
              "        async function convertToInteractive(key) {\n",
              "          const element = document.querySelector('#df-26bafd39-a8a6-4214-a9a8-5c085c5674c6');\n",
              "          const dataTable =\n",
              "            await google.colab.kernel.invokeFunction('convertToInteractive',\n",
              "                                                     [key], {});\n",
              "          if (!dataTable) return;\n",
              "\n",
              "          const docLinkHtml = 'Like what you see? Visit the ' +\n",
              "            '<a target=\"_blank\" href=https://colab.research.google.com/notebooks/data_table.ipynb>data table notebook</a>'\n",
              "            + ' to learn more about interactive tables.';\n",
              "          element.innerHTML = '';\n",
              "          dataTable['output_type'] = 'display_data';\n",
              "          await google.colab.output.renderOutput(dataTable, element);\n",
              "          const docLink = document.createElement('div');\n",
              "          docLink.innerHTML = docLinkHtml;\n",
              "          element.appendChild(docLink);\n",
              "        }\n",
              "      </script>\n",
              "    </div>\n",
              "  </div>\n",
              "  "
            ]
          },
          "metadata": {},
          "execution_count": 148
        }
      ]
    },
    {
      "cell_type": "markdown",
      "source": [
        "# Stacking the notebooks"
      ],
      "metadata": {
        "id": "woOtXxQOYn8E"
      }
    },
    {
      "cell_type": "code",
      "source": [
        "train['TRAINING'] = True\n",
        "test['TRAINING'] = False"
      ],
      "metadata": {
        "id": "v4J9HcuXYrAH"
      },
      "execution_count": 149,
      "outputs": []
    },
    {
      "cell_type": "code",
      "source": [
        "y = train.TARGET"
      ],
      "metadata": {
        "id": "y9sGbHWNYnNl"
      },
      "execution_count": 150,
      "outputs": []
    },
    {
      "cell_type": "code",
      "source": [
        "y"
      ],
      "metadata": {
        "colab": {
          "base_uri": "https://localhost:8080/"
        },
        "id": "UNafXabscZ0T",
        "outputId": "62d43507-8316-4854-edcb-c87b5947a052"
      },
      "execution_count": 151,
      "outputs": [
        {
          "output_type": "execute_result",
          "data": {
            "text/plain": [
              "0         1\n",
              "1         0\n",
              "2         0\n",
              "3         0\n",
              "4         0\n",
              "         ..\n",
              "307506    0\n",
              "307507    0\n",
              "307508    0\n",
              "307509    1\n",
              "307510    0\n",
              "Name: TARGET, Length: 307511, dtype: int64"
            ]
          },
          "metadata": {},
          "execution_count": 151
        }
      ]
    },
    {
      "cell_type": "code",
      "source": [
        "train.drop(columns = 'TARGET', inplace=True)"
      ],
      "metadata": {
        "id": "o04Aw5kEeQrJ"
      },
      "execution_count": 152,
      "outputs": []
    },
    {
      "cell_type": "code",
      "source": [
        "x = pd.concat([train, test], axis = 0)"
      ],
      "metadata": {
        "id": "sdOFA3uSeW8K"
      },
      "execution_count": 153,
      "outputs": []
    },
    {
      "cell_type": "markdown",
      "source": [
        "# Transformations"
      ],
      "metadata": {
        "id": "Jh0cHMgerskm"
      }
    },
    {
      "cell_type": "code",
      "source": [
        "x.skew()"
      ],
      "metadata": {
        "colab": {
          "base_uri": "https://localhost:8080/"
        },
        "id": "IKMbZcBssC3R",
        "outputId": "3bd3076b-5c35-4934-fba0-5483192aea18"
      },
      "execution_count": 154,
      "outputs": [
        {
          "output_type": "execute_result",
          "data": {
            "text/plain": [
              "EXT_SOURCE_3                  -0.398628\n",
              "EXT_SOURCE_1                  -0.077242\n",
              "EXT_SOURCE_2                  -0.793076\n",
              "DAYS_EMPLOYED                  1.652128\n",
              "DAYS_BIRTH                    -0.115918\n",
              "REGION_RATING_CLIENT_W_CITY    0.052475\n",
              "REGION_RATING_CLIENT           0.081122\n",
              "DAYS_LAST_PHONE_CHANGE        -0.711807\n",
              "DAYS_ID_PUBLISH                0.338329\n",
              "DEF_30_CNT_SOCIAL_CIRCLE       8.111785\n",
              "TRAINING                      -2.113585\n",
              "dtype: float64"
            ]
          },
          "metadata": {},
          "execution_count": 154
        }
      ]
    },
    {
      "cell_type": "code",
      "source": [
        ""
      ],
      "metadata": {
        "id": "MCIi-lvJsEt7"
      },
      "execution_count": 154,
      "outputs": []
    },
    {
      "cell_type": "markdown",
      "source": [
        "# Scaling"
      ],
      "metadata": {
        "id": "3dtuhMJZU_9U"
      }
    },
    {
      "cell_type": "code",
      "source": [
        "cols_to_scale = x.select_dtypes(exclude = ['object', 'bool']).columns.values.tolist()\n",
        "cols_to_scale"
      ],
      "metadata": {
        "colab": {
          "base_uri": "https://localhost:8080/"
        },
        "id": "r64A9fPdhWhg",
        "outputId": "74f69297-9129-44d4-f135-4028371a334b"
      },
      "execution_count": 155,
      "outputs": [
        {
          "output_type": "execute_result",
          "data": {
            "text/plain": [
              "['EXT_SOURCE_3',\n",
              " 'EXT_SOURCE_1',\n",
              " 'EXT_SOURCE_2',\n",
              " 'DAYS_EMPLOYED',\n",
              " 'DAYS_BIRTH',\n",
              " 'REGION_RATING_CLIENT_W_CITY',\n",
              " 'REGION_RATING_CLIENT',\n",
              " 'DAYS_LAST_PHONE_CHANGE',\n",
              " 'DAYS_ID_PUBLISH',\n",
              " 'DEF_30_CNT_SOCIAL_CIRCLE']"
            ]
          },
          "metadata": {},
          "execution_count": 155
        }
      ]
    },
    {
      "cell_type": "code",
      "source": [
        "robust_scaler = RobustScaler().fit(x[cols_to_scale])\n",
        "standard_scaler = StandardScaler().fit(x[cols_to_scale])\n",
        "minmax_scaler = MinMaxScaler().fit(x[cols_to_scale])"
      ],
      "metadata": {
        "id": "2X5QCeHJgxlH"
      },
      "execution_count": 156,
      "outputs": []
    },
    {
      "cell_type": "code",
      "source": [
        "x[cols_to_scale] = robust_scaler.transform(x[cols_to_scale])"
      ],
      "metadata": {
        "id": "456dT_JLhHPb"
      },
      "execution_count": 157,
      "outputs": []
    },
    {
      "cell_type": "code",
      "source": [
        "x"
      ],
      "metadata": {
        "colab": {
          "base_uri": "https://localhost:8080/",
          "height": 488
        },
        "id": "j-A9p071f7Oq",
        "outputId": "22fc5807-c360-4577-cdb2-3b79de517e3f"
      },
      "execution_count": 158,
      "outputs": [
        {
          "output_type": "execute_result",
          "data": {
            "text/plain": [
              "       EXT_SOURCE_3  EXT_SOURCE_1  EXT_SOURCE_2  DAYS_EMPLOYED  DAYS_BIRTH  \\\n",
              "0         -1.327464     -1.252419     -1.126607       0.235648    0.868018   \n",
              "1               NaN     -0.576862      0.214188       0.014452   -0.139291   \n",
              "2          0.660472           NaN     -0.033351       0.401044   -0.453868   \n",
              "3               NaN           NaN      0.319407      -0.728623   -0.448214   \n",
              "4               NaN           NaN     -0.903489      -0.728222   -0.576058   \n",
              "...             ...           ...           ...            ...         ...   \n",
              "48739      0.368976           NaN      0.312441      -1.583701   -0.581299   \n",
              "48740           NaN           NaN      0.446860       0.030108    0.630120   \n",
              "48741     -0.841298      0.672947      0.253460      -0.727820   -0.023031   \n",
              "48742      0.208749     -0.393868     -0.444627      -0.604978    0.246449   \n",
              "48743     -0.880297           NaN     -0.404176       0.237254    0.247276   \n",
              "\n",
              "       REGION_RATING_CLIENT_W_CITY  REGION_RATING_CLIENT  \\\n",
              "0                              0.0                   0.0   \n",
              "1                             -1.0                  -1.0   \n",
              "2                              0.0                   0.0   \n",
              "3                              0.0                   0.0   \n",
              "4                              0.0                   0.0   \n",
              "...                            ...                   ...   \n",
              "48739                          1.0                   1.0   \n",
              "48740                          0.0                   0.0   \n",
              "48741                          0.0                   0.0   \n",
              "48742                          0.0                   0.0   \n",
              "48743                          0.0                   0.0   \n",
              "\n",
              "       DAYS_LAST_PHONE_CHANGE  DAYS_ID_PUBLISH  DEF_30_CNT_SOCIAL_CIRCLE  \\\n",
              "0                   -0.277948         0.435217                       2.0   \n",
              "1                   -0.043645         1.138408                       0.0   \n",
              "2                   -0.033691         0.277201                       0.0   \n",
              "3                    0.117917         0.313341                       0.0   \n",
              "4                   -0.256508        -0.079200                       0.0   \n",
              "...                       ...              ...                       ...   \n",
              "48739                0.066616        -0.056517                       0.0   \n",
              "48740                0.590352         0.095732                       0.0   \n",
              "48741               -0.051302         0.672049                       0.0   \n",
              "48742               -1.176876         0.725875                       0.0   \n",
              "48743                0.339969        -0.372165                       0.0   \n",
              "\n",
              "       TRAINING  \n",
              "0          True  \n",
              "1          True  \n",
              "2          True  \n",
              "3          True  \n",
              "4          True  \n",
              "...         ...  \n",
              "48739     False  \n",
              "48740     False  \n",
              "48741     False  \n",
              "48742     False  \n",
              "48743     False  \n",
              "\n",
              "[356255 rows x 11 columns]"
            ],
            "text/html": [
              "\n",
              "  <div id=\"df-a990367e-38b2-4e3f-a167-7e57fab880fb\">\n",
              "    <div class=\"colab-df-container\">\n",
              "      <div>\n",
              "<style scoped>\n",
              "    .dataframe tbody tr th:only-of-type {\n",
              "        vertical-align: middle;\n",
              "    }\n",
              "\n",
              "    .dataframe tbody tr th {\n",
              "        vertical-align: top;\n",
              "    }\n",
              "\n",
              "    .dataframe thead th {\n",
              "        text-align: right;\n",
              "    }\n",
              "</style>\n",
              "<table border=\"1\" class=\"dataframe\">\n",
              "  <thead>\n",
              "    <tr style=\"text-align: right;\">\n",
              "      <th></th>\n",
              "      <th>EXT_SOURCE_3</th>\n",
              "      <th>EXT_SOURCE_1</th>\n",
              "      <th>EXT_SOURCE_2</th>\n",
              "      <th>DAYS_EMPLOYED</th>\n",
              "      <th>DAYS_BIRTH</th>\n",
              "      <th>REGION_RATING_CLIENT_W_CITY</th>\n",
              "      <th>REGION_RATING_CLIENT</th>\n",
              "      <th>DAYS_LAST_PHONE_CHANGE</th>\n",
              "      <th>DAYS_ID_PUBLISH</th>\n",
              "      <th>DEF_30_CNT_SOCIAL_CIRCLE</th>\n",
              "      <th>TRAINING</th>\n",
              "    </tr>\n",
              "  </thead>\n",
              "  <tbody>\n",
              "    <tr>\n",
              "      <th>0</th>\n",
              "      <td>-1.327464</td>\n",
              "      <td>-1.252419</td>\n",
              "      <td>-1.126607</td>\n",
              "      <td>0.235648</td>\n",
              "      <td>0.868018</td>\n",
              "      <td>0.0</td>\n",
              "      <td>0.0</td>\n",
              "      <td>-0.277948</td>\n",
              "      <td>0.435217</td>\n",
              "      <td>2.0</td>\n",
              "      <td>True</td>\n",
              "    </tr>\n",
              "    <tr>\n",
              "      <th>1</th>\n",
              "      <td>NaN</td>\n",
              "      <td>-0.576862</td>\n",
              "      <td>0.214188</td>\n",
              "      <td>0.014452</td>\n",
              "      <td>-0.139291</td>\n",
              "      <td>-1.0</td>\n",
              "      <td>-1.0</td>\n",
              "      <td>-0.043645</td>\n",
              "      <td>1.138408</td>\n",
              "      <td>0.0</td>\n",
              "      <td>True</td>\n",
              "    </tr>\n",
              "    <tr>\n",
              "      <th>2</th>\n",
              "      <td>0.660472</td>\n",
              "      <td>NaN</td>\n",
              "      <td>-0.033351</td>\n",
              "      <td>0.401044</td>\n",
              "      <td>-0.453868</td>\n",
              "      <td>0.0</td>\n",
              "      <td>0.0</td>\n",
              "      <td>-0.033691</td>\n",
              "      <td>0.277201</td>\n",
              "      <td>0.0</td>\n",
              "      <td>True</td>\n",
              "    </tr>\n",
              "    <tr>\n",
              "      <th>3</th>\n",
              "      <td>NaN</td>\n",
              "      <td>NaN</td>\n",
              "      <td>0.319407</td>\n",
              "      <td>-0.728623</td>\n",
              "      <td>-0.448214</td>\n",
              "      <td>0.0</td>\n",
              "      <td>0.0</td>\n",
              "      <td>0.117917</td>\n",
              "      <td>0.313341</td>\n",
              "      <td>0.0</td>\n",
              "      <td>True</td>\n",
              "    </tr>\n",
              "    <tr>\n",
              "      <th>4</th>\n",
              "      <td>NaN</td>\n",
              "      <td>NaN</td>\n",
              "      <td>-0.903489</td>\n",
              "      <td>-0.728222</td>\n",
              "      <td>-0.576058</td>\n",
              "      <td>0.0</td>\n",
              "      <td>0.0</td>\n",
              "      <td>-0.256508</td>\n",
              "      <td>-0.079200</td>\n",
              "      <td>0.0</td>\n",
              "      <td>True</td>\n",
              "    </tr>\n",
              "    <tr>\n",
              "      <th>...</th>\n",
              "      <td>...</td>\n",
              "      <td>...</td>\n",
              "      <td>...</td>\n",
              "      <td>...</td>\n",
              "      <td>...</td>\n",
              "      <td>...</td>\n",
              "      <td>...</td>\n",
              "      <td>...</td>\n",
              "      <td>...</td>\n",
              "      <td>...</td>\n",
              "      <td>...</td>\n",
              "    </tr>\n",
              "    <tr>\n",
              "      <th>48739</th>\n",
              "      <td>0.368976</td>\n",
              "      <td>NaN</td>\n",
              "      <td>0.312441</td>\n",
              "      <td>-1.583701</td>\n",
              "      <td>-0.581299</td>\n",
              "      <td>1.0</td>\n",
              "      <td>1.0</td>\n",
              "      <td>0.066616</td>\n",
              "      <td>-0.056517</td>\n",
              "      <td>0.0</td>\n",
              "      <td>False</td>\n",
              "    </tr>\n",
              "    <tr>\n",
              "      <th>48740</th>\n",
              "      <td>NaN</td>\n",
              "      <td>NaN</td>\n",
              "      <td>0.446860</td>\n",
              "      <td>0.030108</td>\n",
              "      <td>0.630120</td>\n",
              "      <td>0.0</td>\n",
              "      <td>0.0</td>\n",
              "      <td>0.590352</td>\n",
              "      <td>0.095732</td>\n",
              "      <td>0.0</td>\n",
              "      <td>False</td>\n",
              "    </tr>\n",
              "    <tr>\n",
              "      <th>48741</th>\n",
              "      <td>-0.841298</td>\n",
              "      <td>0.672947</td>\n",
              "      <td>0.253460</td>\n",
              "      <td>-0.727820</td>\n",
              "      <td>-0.023031</td>\n",
              "      <td>0.0</td>\n",
              "      <td>0.0</td>\n",
              "      <td>-0.051302</td>\n",
              "      <td>0.672049</td>\n",
              "      <td>0.0</td>\n",
              "      <td>False</td>\n",
              "    </tr>\n",
              "    <tr>\n",
              "      <th>48742</th>\n",
              "      <td>0.208749</td>\n",
              "      <td>-0.393868</td>\n",
              "      <td>-0.444627</td>\n",
              "      <td>-0.604978</td>\n",
              "      <td>0.246449</td>\n",
              "      <td>0.0</td>\n",
              "      <td>0.0</td>\n",
              "      <td>-1.176876</td>\n",
              "      <td>0.725875</td>\n",
              "      <td>0.0</td>\n",
              "      <td>False</td>\n",
              "    </tr>\n",
              "    <tr>\n",
              "      <th>48743</th>\n",
              "      <td>-0.880297</td>\n",
              "      <td>NaN</td>\n",
              "      <td>-0.404176</td>\n",
              "      <td>0.237254</td>\n",
              "      <td>0.247276</td>\n",
              "      <td>0.0</td>\n",
              "      <td>0.0</td>\n",
              "      <td>0.339969</td>\n",
              "      <td>-0.372165</td>\n",
              "      <td>0.0</td>\n",
              "      <td>False</td>\n",
              "    </tr>\n",
              "  </tbody>\n",
              "</table>\n",
              "<p>356255 rows × 11 columns</p>\n",
              "</div>\n",
              "      <button class=\"colab-df-convert\" onclick=\"convertToInteractive('df-a990367e-38b2-4e3f-a167-7e57fab880fb')\"\n",
              "              title=\"Convert this dataframe to an interactive table.\"\n",
              "              style=\"display:none;\">\n",
              "        \n",
              "  <svg xmlns=\"http://www.w3.org/2000/svg\" height=\"24px\"viewBox=\"0 0 24 24\"\n",
              "       width=\"24px\">\n",
              "    <path d=\"M0 0h24v24H0V0z\" fill=\"none\"/>\n",
              "    <path d=\"M18.56 5.44l.94 2.06.94-2.06 2.06-.94-2.06-.94-.94-2.06-.94 2.06-2.06.94zm-11 1L8.5 8.5l.94-2.06 2.06-.94-2.06-.94L8.5 2.5l-.94 2.06-2.06.94zm10 10l.94 2.06.94-2.06 2.06-.94-2.06-.94-.94-2.06-.94 2.06-2.06.94z\"/><path d=\"M17.41 7.96l-1.37-1.37c-.4-.4-.92-.59-1.43-.59-.52 0-1.04.2-1.43.59L10.3 9.45l-7.72 7.72c-.78.78-.78 2.05 0 2.83L4 21.41c.39.39.9.59 1.41.59.51 0 1.02-.2 1.41-.59l7.78-7.78 2.81-2.81c.8-.78.8-2.07 0-2.86zM5.41 20L4 18.59l7.72-7.72 1.47 1.35L5.41 20z\"/>\n",
              "  </svg>\n",
              "      </button>\n",
              "      \n",
              "  <style>\n",
              "    .colab-df-container {\n",
              "      display:flex;\n",
              "      flex-wrap:wrap;\n",
              "      gap: 12px;\n",
              "    }\n",
              "\n",
              "    .colab-df-convert {\n",
              "      background-color: #E8F0FE;\n",
              "      border: none;\n",
              "      border-radius: 50%;\n",
              "      cursor: pointer;\n",
              "      display: none;\n",
              "      fill: #1967D2;\n",
              "      height: 32px;\n",
              "      padding: 0 0 0 0;\n",
              "      width: 32px;\n",
              "    }\n",
              "\n",
              "    .colab-df-convert:hover {\n",
              "      background-color: #E2EBFA;\n",
              "      box-shadow: 0px 1px 2px rgba(60, 64, 67, 0.3), 0px 1px 3px 1px rgba(60, 64, 67, 0.15);\n",
              "      fill: #174EA6;\n",
              "    }\n",
              "\n",
              "    [theme=dark] .colab-df-convert {\n",
              "      background-color: #3B4455;\n",
              "      fill: #D2E3FC;\n",
              "    }\n",
              "\n",
              "    [theme=dark] .colab-df-convert:hover {\n",
              "      background-color: #434B5C;\n",
              "      box-shadow: 0px 1px 3px 1px rgba(0, 0, 0, 0.15);\n",
              "      filter: drop-shadow(0px 1px 2px rgba(0, 0, 0, 0.3));\n",
              "      fill: #FFFFFF;\n",
              "    }\n",
              "  </style>\n",
              "\n",
              "      <script>\n",
              "        const buttonEl =\n",
              "          document.querySelector('#df-a990367e-38b2-4e3f-a167-7e57fab880fb button.colab-df-convert');\n",
              "        buttonEl.style.display =\n",
              "          google.colab.kernel.accessAllowed ? 'block' : 'none';\n",
              "\n",
              "        async function convertToInteractive(key) {\n",
              "          const element = document.querySelector('#df-a990367e-38b2-4e3f-a167-7e57fab880fb');\n",
              "          const dataTable =\n",
              "            await google.colab.kernel.invokeFunction('convertToInteractive',\n",
              "                                                     [key], {});\n",
              "          if (!dataTable) return;\n",
              "\n",
              "          const docLinkHtml = 'Like what you see? Visit the ' +\n",
              "            '<a target=\"_blank\" href=https://colab.research.google.com/notebooks/data_table.ipynb>data table notebook</a>'\n",
              "            + ' to learn more about interactive tables.';\n",
              "          element.innerHTML = '';\n",
              "          dataTable['output_type'] = 'display_data';\n",
              "          await google.colab.output.renderOutput(dataTable, element);\n",
              "          const docLink = document.createElement('div');\n",
              "          docLink.innerHTML = docLinkHtml;\n",
              "          element.appendChild(docLink);\n",
              "        }\n",
              "      </script>\n",
              "    </div>\n",
              "  </div>\n",
              "  "
            ]
          },
          "metadata": {},
          "execution_count": 158
        }
      ]
    },
    {
      "cell_type": "markdown",
      "source": [
        "# Encoding"
      ],
      "metadata": {
        "id": "vP1wZ8ZLVAFN"
      }
    },
    {
      "cell_type": "code",
      "source": [
        "x = pd.get_dummies(x)"
      ],
      "metadata": {
        "id": "bnN54ey3ftBV"
      },
      "execution_count": 159,
      "outputs": []
    },
    {
      "cell_type": "markdown",
      "source": [
        "# Imputing Nulls"
      ],
      "metadata": {
        "id": "Zj0kylJnU_xF"
      }
    },
    {
      "cell_type": "code",
      "source": [
        "# impute_n = 3\n",
        "# imputer = KNNImputer(n_neighbors = impute_n)"
      ],
      "metadata": {
        "id": "TgBTdJWgiA7n"
      },
      "execution_count": 160,
      "outputs": []
    },
    {
      "cell_type": "code",
      "source": [
        "imputer = IterativeImputer()"
      ],
      "metadata": {
        "id": "7ullGr8duPvf"
      },
      "execution_count": 161,
      "outputs": []
    },
    {
      "cell_type": "code",
      "source": [
        "x.isna().sum()"
      ],
      "metadata": {
        "colab": {
          "base_uri": "https://localhost:8080/"
        },
        "id": "G8jx5blIiW70",
        "outputId": "bfc72c66-e5f5-4c33-fa8a-5399541b34bb"
      },
      "execution_count": 162,
      "outputs": [
        {
          "output_type": "execute_result",
          "data": {
            "text/plain": [
              "EXT_SOURCE_3                    69633\n",
              "EXT_SOURCE_1                   193910\n",
              "EXT_SOURCE_2                      668\n",
              "DAYS_EMPLOYED                       0\n",
              "DAYS_BIRTH                          0\n",
              "REGION_RATING_CLIENT_W_CITY         0\n",
              "REGION_RATING_CLIENT                0\n",
              "DAYS_LAST_PHONE_CHANGE              1\n",
              "DAYS_ID_PUBLISH                     0\n",
              "DEF_30_CNT_SOCIAL_CIRCLE         1050\n",
              "TRAINING                            0\n",
              "dtype: int64"
            ]
          },
          "metadata": {},
          "execution_count": 162
        }
      ]
    },
    {
      "cell_type": "code",
      "source": [
        "x = pd.DataFrame(imputer.fit_transform(x), columns = x.columns)"
      ],
      "metadata": {
        "id": "FTPbcBDUuXcP"
      },
      "execution_count": 163,
      "outputs": []
    },
    {
      "cell_type": "code",
      "source": [
        "x"
      ],
      "metadata": {
        "colab": {
          "base_uri": "https://localhost:8080/",
          "height": 488
        },
        "id": "pw_mKEPuuj7_",
        "outputId": "91609fa8-6f40-4d14-ed55-3e889e25ccc1"
      },
      "execution_count": 164,
      "outputs": [
        {
          "output_type": "execute_result",
          "data": {
            "text/plain": [
              "        EXT_SOURCE_3  EXT_SOURCE_1  EXT_SOURCE_2  DAYS_EMPLOYED  DAYS_BIRTH  \\\n",
              "0          -1.327464     -1.252419     -1.126607       0.235648    0.868018   \n",
              "1          -0.381782     -0.576862      0.214188       0.014452   -0.139291   \n",
              "2           0.660472      0.475703     -0.033351       0.401044   -0.453868   \n",
              "3           0.021491      0.438632      0.319407      -0.728623   -0.448214   \n",
              "4           0.003271      0.414266     -0.903489      -0.728222   -0.576058   \n",
              "...              ...           ...           ...            ...         ...   \n",
              "356250      0.368976      0.438520      0.312441      -1.583701   -0.581299   \n",
              "356251     -0.229323     -0.324650      0.446860       0.030108    0.630120   \n",
              "356252     -0.841298      0.672947      0.253460      -0.727820   -0.023031   \n",
              "356253      0.208749     -0.393868     -0.444627      -0.604978    0.246449   \n",
              "356254     -0.880297     -0.215072     -0.404176       0.237254    0.247276   \n",
              "\n",
              "        REGION_RATING_CLIENT_W_CITY  REGION_RATING_CLIENT  \\\n",
              "0                               0.0                   0.0   \n",
              "1                              -1.0                  -1.0   \n",
              "2                               0.0                   0.0   \n",
              "3                               0.0                   0.0   \n",
              "4                               0.0                   0.0   \n",
              "...                             ...                   ...   \n",
              "356250                          1.0                   1.0   \n",
              "356251                          0.0                   0.0   \n",
              "356252                          0.0                   0.0   \n",
              "356253                          0.0                   0.0   \n",
              "356254                          0.0                   0.0   \n",
              "\n",
              "        DAYS_LAST_PHONE_CHANGE  DAYS_ID_PUBLISH  DEF_30_CNT_SOCIAL_CIRCLE  \\\n",
              "0                    -0.277948         0.435217                       2.0   \n",
              "1                    -0.043645         1.138408                       0.0   \n",
              "2                    -0.033691         0.277201                       0.0   \n",
              "3                     0.117917         0.313341                       0.0   \n",
              "4                    -0.256508        -0.079200                       0.0   \n",
              "...                        ...              ...                       ...   \n",
              "356250                0.066616        -0.056517                       0.0   \n",
              "356251                0.590352         0.095732                       0.0   \n",
              "356252               -0.051302         0.672049                       0.0   \n",
              "356253               -1.176876         0.725875                       0.0   \n",
              "356254                0.339969        -0.372165                       0.0   \n",
              "\n",
              "        TRAINING  \n",
              "0            1.0  \n",
              "1            1.0  \n",
              "2            1.0  \n",
              "3            1.0  \n",
              "4            1.0  \n",
              "...          ...  \n",
              "356250       0.0  \n",
              "356251       0.0  \n",
              "356252       0.0  \n",
              "356253       0.0  \n",
              "356254       0.0  \n",
              "\n",
              "[356255 rows x 11 columns]"
            ],
            "text/html": [
              "\n",
              "  <div id=\"df-791ac675-3caf-434b-b4c9-7c00712fad72\">\n",
              "    <div class=\"colab-df-container\">\n",
              "      <div>\n",
              "<style scoped>\n",
              "    .dataframe tbody tr th:only-of-type {\n",
              "        vertical-align: middle;\n",
              "    }\n",
              "\n",
              "    .dataframe tbody tr th {\n",
              "        vertical-align: top;\n",
              "    }\n",
              "\n",
              "    .dataframe thead th {\n",
              "        text-align: right;\n",
              "    }\n",
              "</style>\n",
              "<table border=\"1\" class=\"dataframe\">\n",
              "  <thead>\n",
              "    <tr style=\"text-align: right;\">\n",
              "      <th></th>\n",
              "      <th>EXT_SOURCE_3</th>\n",
              "      <th>EXT_SOURCE_1</th>\n",
              "      <th>EXT_SOURCE_2</th>\n",
              "      <th>DAYS_EMPLOYED</th>\n",
              "      <th>DAYS_BIRTH</th>\n",
              "      <th>REGION_RATING_CLIENT_W_CITY</th>\n",
              "      <th>REGION_RATING_CLIENT</th>\n",
              "      <th>DAYS_LAST_PHONE_CHANGE</th>\n",
              "      <th>DAYS_ID_PUBLISH</th>\n",
              "      <th>DEF_30_CNT_SOCIAL_CIRCLE</th>\n",
              "      <th>TRAINING</th>\n",
              "    </tr>\n",
              "  </thead>\n",
              "  <tbody>\n",
              "    <tr>\n",
              "      <th>0</th>\n",
              "      <td>-1.327464</td>\n",
              "      <td>-1.252419</td>\n",
              "      <td>-1.126607</td>\n",
              "      <td>0.235648</td>\n",
              "      <td>0.868018</td>\n",
              "      <td>0.0</td>\n",
              "      <td>0.0</td>\n",
              "      <td>-0.277948</td>\n",
              "      <td>0.435217</td>\n",
              "      <td>2.0</td>\n",
              "      <td>1.0</td>\n",
              "    </tr>\n",
              "    <tr>\n",
              "      <th>1</th>\n",
              "      <td>-0.381782</td>\n",
              "      <td>-0.576862</td>\n",
              "      <td>0.214188</td>\n",
              "      <td>0.014452</td>\n",
              "      <td>-0.139291</td>\n",
              "      <td>-1.0</td>\n",
              "      <td>-1.0</td>\n",
              "      <td>-0.043645</td>\n",
              "      <td>1.138408</td>\n",
              "      <td>0.0</td>\n",
              "      <td>1.0</td>\n",
              "    </tr>\n",
              "    <tr>\n",
              "      <th>2</th>\n",
              "      <td>0.660472</td>\n",
              "      <td>0.475703</td>\n",
              "      <td>-0.033351</td>\n",
              "      <td>0.401044</td>\n",
              "      <td>-0.453868</td>\n",
              "      <td>0.0</td>\n",
              "      <td>0.0</td>\n",
              "      <td>-0.033691</td>\n",
              "      <td>0.277201</td>\n",
              "      <td>0.0</td>\n",
              "      <td>1.0</td>\n",
              "    </tr>\n",
              "    <tr>\n",
              "      <th>3</th>\n",
              "      <td>0.021491</td>\n",
              "      <td>0.438632</td>\n",
              "      <td>0.319407</td>\n",
              "      <td>-0.728623</td>\n",
              "      <td>-0.448214</td>\n",
              "      <td>0.0</td>\n",
              "      <td>0.0</td>\n",
              "      <td>0.117917</td>\n",
              "      <td>0.313341</td>\n",
              "      <td>0.0</td>\n",
              "      <td>1.0</td>\n",
              "    </tr>\n",
              "    <tr>\n",
              "      <th>4</th>\n",
              "      <td>0.003271</td>\n",
              "      <td>0.414266</td>\n",
              "      <td>-0.903489</td>\n",
              "      <td>-0.728222</td>\n",
              "      <td>-0.576058</td>\n",
              "      <td>0.0</td>\n",
              "      <td>0.0</td>\n",
              "      <td>-0.256508</td>\n",
              "      <td>-0.079200</td>\n",
              "      <td>0.0</td>\n",
              "      <td>1.0</td>\n",
              "    </tr>\n",
              "    <tr>\n",
              "      <th>...</th>\n",
              "      <td>...</td>\n",
              "      <td>...</td>\n",
              "      <td>...</td>\n",
              "      <td>...</td>\n",
              "      <td>...</td>\n",
              "      <td>...</td>\n",
              "      <td>...</td>\n",
              "      <td>...</td>\n",
              "      <td>...</td>\n",
              "      <td>...</td>\n",
              "      <td>...</td>\n",
              "    </tr>\n",
              "    <tr>\n",
              "      <th>356250</th>\n",
              "      <td>0.368976</td>\n",
              "      <td>0.438520</td>\n",
              "      <td>0.312441</td>\n",
              "      <td>-1.583701</td>\n",
              "      <td>-0.581299</td>\n",
              "      <td>1.0</td>\n",
              "      <td>1.0</td>\n",
              "      <td>0.066616</td>\n",
              "      <td>-0.056517</td>\n",
              "      <td>0.0</td>\n",
              "      <td>0.0</td>\n",
              "    </tr>\n",
              "    <tr>\n",
              "      <th>356251</th>\n",
              "      <td>-0.229323</td>\n",
              "      <td>-0.324650</td>\n",
              "      <td>0.446860</td>\n",
              "      <td>0.030108</td>\n",
              "      <td>0.630120</td>\n",
              "      <td>0.0</td>\n",
              "      <td>0.0</td>\n",
              "      <td>0.590352</td>\n",
              "      <td>0.095732</td>\n",
              "      <td>0.0</td>\n",
              "      <td>0.0</td>\n",
              "    </tr>\n",
              "    <tr>\n",
              "      <th>356252</th>\n",
              "      <td>-0.841298</td>\n",
              "      <td>0.672947</td>\n",
              "      <td>0.253460</td>\n",
              "      <td>-0.727820</td>\n",
              "      <td>-0.023031</td>\n",
              "      <td>0.0</td>\n",
              "      <td>0.0</td>\n",
              "      <td>-0.051302</td>\n",
              "      <td>0.672049</td>\n",
              "      <td>0.0</td>\n",
              "      <td>0.0</td>\n",
              "    </tr>\n",
              "    <tr>\n",
              "      <th>356253</th>\n",
              "      <td>0.208749</td>\n",
              "      <td>-0.393868</td>\n",
              "      <td>-0.444627</td>\n",
              "      <td>-0.604978</td>\n",
              "      <td>0.246449</td>\n",
              "      <td>0.0</td>\n",
              "      <td>0.0</td>\n",
              "      <td>-1.176876</td>\n",
              "      <td>0.725875</td>\n",
              "      <td>0.0</td>\n",
              "      <td>0.0</td>\n",
              "    </tr>\n",
              "    <tr>\n",
              "      <th>356254</th>\n",
              "      <td>-0.880297</td>\n",
              "      <td>-0.215072</td>\n",
              "      <td>-0.404176</td>\n",
              "      <td>0.237254</td>\n",
              "      <td>0.247276</td>\n",
              "      <td>0.0</td>\n",
              "      <td>0.0</td>\n",
              "      <td>0.339969</td>\n",
              "      <td>-0.372165</td>\n",
              "      <td>0.0</td>\n",
              "      <td>0.0</td>\n",
              "    </tr>\n",
              "  </tbody>\n",
              "</table>\n",
              "<p>356255 rows × 11 columns</p>\n",
              "</div>\n",
              "      <button class=\"colab-df-convert\" onclick=\"convertToInteractive('df-791ac675-3caf-434b-b4c9-7c00712fad72')\"\n",
              "              title=\"Convert this dataframe to an interactive table.\"\n",
              "              style=\"display:none;\">\n",
              "        \n",
              "  <svg xmlns=\"http://www.w3.org/2000/svg\" height=\"24px\"viewBox=\"0 0 24 24\"\n",
              "       width=\"24px\">\n",
              "    <path d=\"M0 0h24v24H0V0z\" fill=\"none\"/>\n",
              "    <path d=\"M18.56 5.44l.94 2.06.94-2.06 2.06-.94-2.06-.94-.94-2.06-.94 2.06-2.06.94zm-11 1L8.5 8.5l.94-2.06 2.06-.94-2.06-.94L8.5 2.5l-.94 2.06-2.06.94zm10 10l.94 2.06.94-2.06 2.06-.94-2.06-.94-.94-2.06-.94 2.06-2.06.94z\"/><path d=\"M17.41 7.96l-1.37-1.37c-.4-.4-.92-.59-1.43-.59-.52 0-1.04.2-1.43.59L10.3 9.45l-7.72 7.72c-.78.78-.78 2.05 0 2.83L4 21.41c.39.39.9.59 1.41.59.51 0 1.02-.2 1.41-.59l7.78-7.78 2.81-2.81c.8-.78.8-2.07 0-2.86zM5.41 20L4 18.59l7.72-7.72 1.47 1.35L5.41 20z\"/>\n",
              "  </svg>\n",
              "      </button>\n",
              "      \n",
              "  <style>\n",
              "    .colab-df-container {\n",
              "      display:flex;\n",
              "      flex-wrap:wrap;\n",
              "      gap: 12px;\n",
              "    }\n",
              "\n",
              "    .colab-df-convert {\n",
              "      background-color: #E8F0FE;\n",
              "      border: none;\n",
              "      border-radius: 50%;\n",
              "      cursor: pointer;\n",
              "      display: none;\n",
              "      fill: #1967D2;\n",
              "      height: 32px;\n",
              "      padding: 0 0 0 0;\n",
              "      width: 32px;\n",
              "    }\n",
              "\n",
              "    .colab-df-convert:hover {\n",
              "      background-color: #E2EBFA;\n",
              "      box-shadow: 0px 1px 2px rgba(60, 64, 67, 0.3), 0px 1px 3px 1px rgba(60, 64, 67, 0.15);\n",
              "      fill: #174EA6;\n",
              "    }\n",
              "\n",
              "    [theme=dark] .colab-df-convert {\n",
              "      background-color: #3B4455;\n",
              "      fill: #D2E3FC;\n",
              "    }\n",
              "\n",
              "    [theme=dark] .colab-df-convert:hover {\n",
              "      background-color: #434B5C;\n",
              "      box-shadow: 0px 1px 3px 1px rgba(0, 0, 0, 0.15);\n",
              "      filter: drop-shadow(0px 1px 2px rgba(0, 0, 0, 0.3));\n",
              "      fill: #FFFFFF;\n",
              "    }\n",
              "  </style>\n",
              "\n",
              "      <script>\n",
              "        const buttonEl =\n",
              "          document.querySelector('#df-791ac675-3caf-434b-b4c9-7c00712fad72 button.colab-df-convert');\n",
              "        buttonEl.style.display =\n",
              "          google.colab.kernel.accessAllowed ? 'block' : 'none';\n",
              "\n",
              "        async function convertToInteractive(key) {\n",
              "          const element = document.querySelector('#df-791ac675-3caf-434b-b4c9-7c00712fad72');\n",
              "          const dataTable =\n",
              "            await google.colab.kernel.invokeFunction('convertToInteractive',\n",
              "                                                     [key], {});\n",
              "          if (!dataTable) return;\n",
              "\n",
              "          const docLinkHtml = 'Like what you see? Visit the ' +\n",
              "            '<a target=\"_blank\" href=https://colab.research.google.com/notebooks/data_table.ipynb>data table notebook</a>'\n",
              "            + ' to learn more about interactive tables.';\n",
              "          element.innerHTML = '';\n",
              "          dataTable['output_type'] = 'display_data';\n",
              "          await google.colab.output.renderOutput(dataTable, element);\n",
              "          const docLink = document.createElement('div');\n",
              "          docLink.innerHTML = docLinkHtml;\n",
              "          element.appendChild(docLink);\n",
              "        }\n",
              "      </script>\n",
              "    </div>\n",
              "  </div>\n",
              "  "
            ]
          },
          "metadata": {},
          "execution_count": 164
        }
      ]
    },
    {
      "cell_type": "code",
      "source": [
        "x.isna().sum().sum()"
      ],
      "metadata": {
        "id": "z3uHtWmupvKT",
        "outputId": "47e0f2e5-2288-4d7c-a5ba-b24dd5afaebf",
        "colab": {
          "base_uri": "https://localhost:8080/"
        }
      },
      "execution_count": 166,
      "outputs": [
        {
          "output_type": "execute_result",
          "data": {
            "text/plain": [
              "0"
            ]
          },
          "metadata": {},
          "execution_count": 166
        }
      ]
    },
    {
      "cell_type": "markdown",
      "source": [
        "# Unstacking the train and test sets"
      ],
      "metadata": {
        "id": "8hwgp4S7u-Z9"
      }
    },
    {
      "cell_type": "code",
      "source": [
        "train = x[x['TRAINING'] == True]"
      ],
      "metadata": {
        "id": "SElgEw8lu-HV"
      },
      "execution_count": 167,
      "outputs": []
    },
    {
      "cell_type": "code",
      "source": [
        "test = x[x['TRAINING'] == False]"
      ],
      "metadata": {
        "id": "o_IAKEQsvOZv"
      },
      "execution_count": 168,
      "outputs": []
    },
    {
      "cell_type": "code",
      "source": [
        "train.drop(columns = 'TRAINING', inplace=True)\n",
        "test.drop(columns = 'TRAINING', inplace=True)"
      ],
      "metadata": {
        "colab": {
          "base_uri": "https://localhost:8080/",
          "height": 346
        },
        "id": "TVyAcba11J3H",
        "outputId": "8b9e951f-ecd6-4ee9-c20c-d76d0a4326ee"
      },
      "execution_count": 171,
      "outputs": [
        {
          "output_type": "error",
          "ename": "KeyError",
          "evalue": "ignored",
          "traceback": [
            "\u001b[0;31m---------------------------------------------------------------------------\u001b[0m",
            "\u001b[0;31mKeyError\u001b[0m                                  Traceback (most recent call last)",
            "\u001b[0;32m<ipython-input-171-97a5734d0d50>\u001b[0m in \u001b[0;36m<module>\u001b[0;34m()\u001b[0m\n\u001b[0;32m----> 1\u001b[0;31m \u001b[0mtrain\u001b[0m\u001b[0;34m.\u001b[0m\u001b[0mdrop\u001b[0m\u001b[0;34m(\u001b[0m\u001b[0mcolumns\u001b[0m \u001b[0;34m=\u001b[0m \u001b[0;34m'TRAINING'\u001b[0m\u001b[0;34m,\u001b[0m \u001b[0minplace\u001b[0m\u001b[0;34m=\u001b[0m\u001b[0;32mTrue\u001b[0m\u001b[0;34m)\u001b[0m\u001b[0;34m\u001b[0m\u001b[0;34m\u001b[0m\u001b[0m\n\u001b[0m\u001b[1;32m      2\u001b[0m \u001b[0mtest\u001b[0m\u001b[0;34m.\u001b[0m\u001b[0mdrop\u001b[0m\u001b[0;34m(\u001b[0m\u001b[0mcolumns\u001b[0m \u001b[0;34m=\u001b[0m \u001b[0;34m'TRAINING'\u001b[0m\u001b[0;34m,\u001b[0m \u001b[0minplace\u001b[0m\u001b[0;34m=\u001b[0m\u001b[0;32mTrue\u001b[0m\u001b[0;34m)\u001b[0m\u001b[0;34m\u001b[0m\u001b[0;34m\u001b[0m\u001b[0m\n",
            "\u001b[0;32m/usr/local/lib/python3.7/dist-packages/pandas/util/_decorators.py\u001b[0m in \u001b[0;36mwrapper\u001b[0;34m(*args, **kwargs)\u001b[0m\n\u001b[1;32m    309\u001b[0m                     \u001b[0mstacklevel\u001b[0m\u001b[0;34m=\u001b[0m\u001b[0mstacklevel\u001b[0m\u001b[0;34m,\u001b[0m\u001b[0;34m\u001b[0m\u001b[0;34m\u001b[0m\u001b[0m\n\u001b[1;32m    310\u001b[0m                 )\n\u001b[0;32m--> 311\u001b[0;31m             \u001b[0;32mreturn\u001b[0m \u001b[0mfunc\u001b[0m\u001b[0;34m(\u001b[0m\u001b[0;34m*\u001b[0m\u001b[0margs\u001b[0m\u001b[0;34m,\u001b[0m \u001b[0;34m**\u001b[0m\u001b[0mkwargs\u001b[0m\u001b[0;34m)\u001b[0m\u001b[0;34m\u001b[0m\u001b[0;34m\u001b[0m\u001b[0m\n\u001b[0m\u001b[1;32m    312\u001b[0m \u001b[0;34m\u001b[0m\u001b[0m\n\u001b[1;32m    313\u001b[0m         \u001b[0;32mreturn\u001b[0m \u001b[0mwrapper\u001b[0m\u001b[0;34m\u001b[0m\u001b[0;34m\u001b[0m\u001b[0m\n",
            "\u001b[0;32m/usr/local/lib/python3.7/dist-packages/pandas/core/frame.py\u001b[0m in \u001b[0;36mdrop\u001b[0;34m(self, labels, axis, index, columns, level, inplace, errors)\u001b[0m\n\u001b[1;32m   4911\u001b[0m             \u001b[0mlevel\u001b[0m\u001b[0;34m=\u001b[0m\u001b[0mlevel\u001b[0m\u001b[0;34m,\u001b[0m\u001b[0;34m\u001b[0m\u001b[0;34m\u001b[0m\u001b[0m\n\u001b[1;32m   4912\u001b[0m             \u001b[0minplace\u001b[0m\u001b[0;34m=\u001b[0m\u001b[0minplace\u001b[0m\u001b[0;34m,\u001b[0m\u001b[0;34m\u001b[0m\u001b[0;34m\u001b[0m\u001b[0m\n\u001b[0;32m-> 4913\u001b[0;31m             \u001b[0merrors\u001b[0m\u001b[0;34m=\u001b[0m\u001b[0merrors\u001b[0m\u001b[0;34m,\u001b[0m\u001b[0;34m\u001b[0m\u001b[0;34m\u001b[0m\u001b[0m\n\u001b[0m\u001b[1;32m   4914\u001b[0m         )\n\u001b[1;32m   4915\u001b[0m \u001b[0;34m\u001b[0m\u001b[0m\n",
            "\u001b[0;32m/usr/local/lib/python3.7/dist-packages/pandas/core/generic.py\u001b[0m in \u001b[0;36mdrop\u001b[0;34m(self, labels, axis, index, columns, level, inplace, errors)\u001b[0m\n\u001b[1;32m   4148\u001b[0m         \u001b[0;32mfor\u001b[0m \u001b[0maxis\u001b[0m\u001b[0;34m,\u001b[0m \u001b[0mlabels\u001b[0m \u001b[0;32min\u001b[0m \u001b[0maxes\u001b[0m\u001b[0;34m.\u001b[0m\u001b[0mitems\u001b[0m\u001b[0;34m(\u001b[0m\u001b[0;34m)\u001b[0m\u001b[0;34m:\u001b[0m\u001b[0;34m\u001b[0m\u001b[0;34m\u001b[0m\u001b[0m\n\u001b[1;32m   4149\u001b[0m             \u001b[0;32mif\u001b[0m \u001b[0mlabels\u001b[0m \u001b[0;32mis\u001b[0m \u001b[0;32mnot\u001b[0m \u001b[0;32mNone\u001b[0m\u001b[0;34m:\u001b[0m\u001b[0;34m\u001b[0m\u001b[0;34m\u001b[0m\u001b[0m\n\u001b[0;32m-> 4150\u001b[0;31m                 \u001b[0mobj\u001b[0m \u001b[0;34m=\u001b[0m \u001b[0mobj\u001b[0m\u001b[0;34m.\u001b[0m\u001b[0m_drop_axis\u001b[0m\u001b[0;34m(\u001b[0m\u001b[0mlabels\u001b[0m\u001b[0;34m,\u001b[0m \u001b[0maxis\u001b[0m\u001b[0;34m,\u001b[0m \u001b[0mlevel\u001b[0m\u001b[0;34m=\u001b[0m\u001b[0mlevel\u001b[0m\u001b[0;34m,\u001b[0m \u001b[0merrors\u001b[0m\u001b[0;34m=\u001b[0m\u001b[0merrors\u001b[0m\u001b[0;34m)\u001b[0m\u001b[0;34m\u001b[0m\u001b[0;34m\u001b[0m\u001b[0m\n\u001b[0m\u001b[1;32m   4151\u001b[0m \u001b[0;34m\u001b[0m\u001b[0m\n\u001b[1;32m   4152\u001b[0m         \u001b[0;32mif\u001b[0m \u001b[0minplace\u001b[0m\u001b[0;34m:\u001b[0m\u001b[0;34m\u001b[0m\u001b[0;34m\u001b[0m\u001b[0m\n",
            "\u001b[0;32m/usr/local/lib/python3.7/dist-packages/pandas/core/generic.py\u001b[0m in \u001b[0;36m_drop_axis\u001b[0;34m(self, labels, axis, level, errors)\u001b[0m\n\u001b[1;32m   4183\u001b[0m                 \u001b[0mnew_axis\u001b[0m \u001b[0;34m=\u001b[0m \u001b[0maxis\u001b[0m\u001b[0;34m.\u001b[0m\u001b[0mdrop\u001b[0m\u001b[0;34m(\u001b[0m\u001b[0mlabels\u001b[0m\u001b[0;34m,\u001b[0m \u001b[0mlevel\u001b[0m\u001b[0;34m=\u001b[0m\u001b[0mlevel\u001b[0m\u001b[0;34m,\u001b[0m \u001b[0merrors\u001b[0m\u001b[0;34m=\u001b[0m\u001b[0merrors\u001b[0m\u001b[0;34m)\u001b[0m\u001b[0;34m\u001b[0m\u001b[0;34m\u001b[0m\u001b[0m\n\u001b[1;32m   4184\u001b[0m             \u001b[0;32melse\u001b[0m\u001b[0;34m:\u001b[0m\u001b[0;34m\u001b[0m\u001b[0;34m\u001b[0m\u001b[0m\n\u001b[0;32m-> 4185\u001b[0;31m                 \u001b[0mnew_axis\u001b[0m \u001b[0;34m=\u001b[0m \u001b[0maxis\u001b[0m\u001b[0;34m.\u001b[0m\u001b[0mdrop\u001b[0m\u001b[0;34m(\u001b[0m\u001b[0mlabels\u001b[0m\u001b[0;34m,\u001b[0m \u001b[0merrors\u001b[0m\u001b[0;34m=\u001b[0m\u001b[0merrors\u001b[0m\u001b[0;34m)\u001b[0m\u001b[0;34m\u001b[0m\u001b[0;34m\u001b[0m\u001b[0m\n\u001b[0m\u001b[1;32m   4186\u001b[0m             \u001b[0mresult\u001b[0m \u001b[0;34m=\u001b[0m \u001b[0mself\u001b[0m\u001b[0;34m.\u001b[0m\u001b[0mreindex\u001b[0m\u001b[0;34m(\u001b[0m\u001b[0;34m**\u001b[0m\u001b[0;34m{\u001b[0m\u001b[0maxis_name\u001b[0m\u001b[0;34m:\u001b[0m \u001b[0mnew_axis\u001b[0m\u001b[0;34m}\u001b[0m\u001b[0;34m)\u001b[0m\u001b[0;34m\u001b[0m\u001b[0;34m\u001b[0m\u001b[0m\n\u001b[1;32m   4187\u001b[0m \u001b[0;34m\u001b[0m\u001b[0m\n",
            "\u001b[0;32m/usr/local/lib/python3.7/dist-packages/pandas/core/indexes/base.py\u001b[0m in \u001b[0;36mdrop\u001b[0;34m(self, labels, errors)\u001b[0m\n\u001b[1;32m   6015\u001b[0m         \u001b[0;32mif\u001b[0m \u001b[0mmask\u001b[0m\u001b[0;34m.\u001b[0m\u001b[0many\u001b[0m\u001b[0;34m(\u001b[0m\u001b[0;34m)\u001b[0m\u001b[0;34m:\u001b[0m\u001b[0;34m\u001b[0m\u001b[0;34m\u001b[0m\u001b[0m\n\u001b[1;32m   6016\u001b[0m             \u001b[0;32mif\u001b[0m \u001b[0merrors\u001b[0m \u001b[0;34m!=\u001b[0m \u001b[0;34m\"ignore\"\u001b[0m\u001b[0;34m:\u001b[0m\u001b[0;34m\u001b[0m\u001b[0;34m\u001b[0m\u001b[0m\n\u001b[0;32m-> 6017\u001b[0;31m                 \u001b[0;32mraise\u001b[0m \u001b[0mKeyError\u001b[0m\u001b[0;34m(\u001b[0m\u001b[0;34mf\"{labels[mask]} not found in axis\"\u001b[0m\u001b[0;34m)\u001b[0m\u001b[0;34m\u001b[0m\u001b[0;34m\u001b[0m\u001b[0m\n\u001b[0m\u001b[1;32m   6018\u001b[0m             \u001b[0mindexer\u001b[0m \u001b[0;34m=\u001b[0m \u001b[0mindexer\u001b[0m\u001b[0;34m[\u001b[0m\u001b[0;34m~\u001b[0m\u001b[0mmask\u001b[0m\u001b[0;34m]\u001b[0m\u001b[0;34m\u001b[0m\u001b[0;34m\u001b[0m\u001b[0m\n\u001b[1;32m   6019\u001b[0m         \u001b[0;32mreturn\u001b[0m \u001b[0mself\u001b[0m\u001b[0;34m.\u001b[0m\u001b[0mdelete\u001b[0m\u001b[0;34m(\u001b[0m\u001b[0mindexer\u001b[0m\u001b[0;34m)\u001b[0m\u001b[0;34m\u001b[0m\u001b[0;34m\u001b[0m\u001b[0m\n",
            "\u001b[0;31mKeyError\u001b[0m: \"['TRAINING'] not found in axis\""
          ]
        }
      ]
    },
    {
      "cell_type": "markdown",
      "source": [
        "# SMOTE"
      ],
      "metadata": {
        "id": "40_73lmIiEh9"
      }
    },
    {
      "cell_type": "code",
      "source": [
        "smote = SMOTE()"
      ],
      "metadata": {
        "id": "xt5QO8n0tpac"
      },
      "execution_count": 172,
      "outputs": []
    },
    {
      "cell_type": "code",
      "source": [
        "x_smote, y_smote = smote.fit_resample(train, y)"
      ],
      "metadata": {
        "id": "FZET9fnavWNW"
      },
      "execution_count": 173,
      "outputs": []
    },
    {
      "cell_type": "markdown",
      "source": [
        "# Training Data"
      ],
      "metadata": {
        "id": "BaKowKDvXAHE"
      }
    },
    {
      "cell_type": "code",
      "source": [
        "xtrain, xtest, ytrain, ytest = train_test_split(x_smote, y_smote, test_size = .3, random_state = 7)"
      ],
      "metadata": {
        "id": "Kn9vvJZwvgmn"
      },
      "execution_count": 174,
      "outputs": []
    },
    {
      "cell_type": "markdown",
      "source": [
        "# KNN Classifier"
      ],
      "metadata": {
        "id": "i_-nAlgivxab"
      }
    },
    {
      "cell_type": "code",
      "source": [
        "n = 7\n",
        "knn = KNeighborsClassifier(n_neighbors = n).fit(xtrain, ytrain)"
      ],
      "metadata": {
        "id": "nHJ8n9HZvzuU"
      },
      "execution_count": 175,
      "outputs": []
    },
    {
      "cell_type": "code",
      "source": [
        "knn_predict = knn.predict(xtest)"
      ],
      "metadata": {
        "id": "h3wvmuwtwzdc"
      },
      "execution_count": 176,
      "outputs": []
    },
    {
      "cell_type": "code",
      "source": [
        "knn_score = knn.score(xtest, ytest)\n",
        "knn_score"
      ],
      "metadata": {
        "colab": {
          "base_uri": "https://localhost:8080/"
        },
        "id": "SfVpDZIiwG00",
        "outputId": "086229e2-2984-4b42-d116-0eba4b8f907d"
      },
      "execution_count": 177,
      "outputs": [
        {
          "output_type": "execute_result",
          "data": {
            "text/plain": [
              "0.8347109874301346"
            ]
          },
          "metadata": {},
          "execution_count": 177
        }
      ]
    },
    {
      "cell_type": "code",
      "source": [
        "knn_recall = recall_score(ytest, knn_predict)\n",
        "knn_precision = precision_score(ytest, knn_predict)"
      ],
      "metadata": {
        "id": "ZcczwjIOwsw0"
      },
      "execution_count": 178,
      "outputs": []
    },
    {
      "cell_type": "code",
      "source": [
        "knn_score, knn_recall, knn_precision"
      ],
      "metadata": {
        "colab": {
          "base_uri": "https://localhost:8080/"
        },
        "id": "3HZAyNfkxUDF",
        "outputId": "c6559058-004e-4631-e6c4-2c90761d5791"
      },
      "execution_count": 179,
      "outputs": [
        {
          "output_type": "execute_result",
          "data": {
            "text/plain": [
              "(0.8347109874301346, 0.9873756109050227, 0.7566648015450427)"
            ]
          },
          "metadata": {},
          "execution_count": 179
        }
      ]
    },
    {
      "cell_type": "code",
      "source": [
        "knn_rocauc = roc_auc_score(ytest, knn.predict_proba(xtest)[:,1])"
      ],
      "metadata": {
        "id": "cwgyh-pK4QMG"
      },
      "execution_count": 215,
      "outputs": []
    },
    {
      "cell_type": "code",
      "source": [
        "knn_rocauc"
      ],
      "metadata": {
        "colab": {
          "base_uri": "https://localhost:8080/"
        },
        "id": "tekSWp3A5Nad",
        "outputId": "42d3529e-5e1d-459c-db63-12eb9fb54ec6"
      },
      "execution_count": 216,
      "outputs": [
        {
          "output_type": "execute_result",
          "data": {
            "text/plain": [
              "0.9418990271704688"
            ]
          },
          "metadata": {},
          "execution_count": 216
        }
      ]
    },
    {
      "cell_type": "markdown",
      "source": [
        "# Logistic Regression"
      ],
      "metadata": {
        "id": "ly05RtOBxW8U"
      }
    },
    {
      "cell_type": "code",
      "source": [
        "log = LogisticRegression().fit(xtrain, ytrain)"
      ],
      "metadata": {
        "colab": {
          "base_uri": "https://localhost:8080/"
        },
        "id": "ggOR7AaQxYvQ",
        "outputId": "33c86b46-487c-4f78-e9a1-b61b113607a6"
      },
      "execution_count": 180,
      "outputs": [
        {
          "output_type": "stream",
          "name": "stderr",
          "text": [
            "/usr/local/lib/python3.7/dist-packages/sklearn/linear_model/_logistic.py:818: ConvergenceWarning: lbfgs failed to converge (status=1):\n",
            "STOP: TOTAL NO. of ITERATIONS REACHED LIMIT.\n",
            "\n",
            "Increase the number of iterations (max_iter) or scale the data as shown in:\n",
            "    https://scikit-learn.org/stable/modules/preprocessing.html\n",
            "Please also refer to the documentation for alternative solver options:\n",
            "    https://scikit-learn.org/stable/modules/linear_model.html#logistic-regression\n",
            "  extra_warning_msg=_LOGISTIC_SOLVER_CONVERGENCE_MSG,\n"
          ]
        }
      ]
    },
    {
      "cell_type": "code",
      "source": [
        "log_predict = log.predict(xtest)"
      ],
      "metadata": {
        "id": "07jDKpkvxdDG"
      },
      "execution_count": 181,
      "outputs": []
    },
    {
      "cell_type": "code",
      "source": [
        "log_score = log.score(xtest, ytest)\n",
        "log_recall = recall_score(ytest, log_predict)\n",
        "log_precision = precision_score(ytest, log_predict)"
      ],
      "metadata": {
        "id": "FIw2qpBcxiIO"
      },
      "execution_count": 182,
      "outputs": []
    },
    {
      "cell_type": "code",
      "source": [
        "log_score, log_recall, log_precision"
      ],
      "metadata": {
        "colab": {
          "base_uri": "https://localhost:8080/"
        },
        "id": "WITb1OevxtuZ",
        "outputId": "3939c19f-8b9e-4b0a-8edd-e7ac83875bcc"
      },
      "execution_count": 183,
      "outputs": [
        {
          "output_type": "execute_result",
          "data": {
            "text/plain": [
              "(0.6680364596844562, 0.6581522699169758, 0.6720095233514501)"
            ]
          },
          "metadata": {},
          "execution_count": 183
        }
      ]
    },
    {
      "cell_type": "code",
      "source": [
        "log_rocauc = roc_auc_score(ytest, log.predict_proba(xtest)[:,1])"
      ],
      "metadata": {
        "id": "Ubs-GhHW43E5"
      },
      "execution_count": 213,
      "outputs": []
    },
    {
      "cell_type": "code",
      "source": [
        "log_rocauc"
      ],
      "metadata": {
        "colab": {
          "base_uri": "https://localhost:8080/"
        },
        "id": "83JdFJIb46hS",
        "outputId": "51b0d446-a0ec-4f89-e7a1-c328d882267a"
      },
      "execution_count": 214,
      "outputs": [
        {
          "output_type": "execute_result",
          "data": {
            "text/plain": [
              "0.7294299082222677"
            ]
          },
          "metadata": {},
          "execution_count": 214
        }
      ]
    },
    {
      "cell_type": "markdown",
      "source": [
        "# LGBM Classifier"
      ],
      "metadata": {
        "id": "aHfRWKpfx-_r"
      }
    },
    {
      "cell_type": "code",
      "source": [
        "lgbm = LGBMClassifier()\n",
        "lgbm.fit(xtrain, ytrain)"
      ],
      "metadata": {
        "colab": {
          "base_uri": "https://localhost:8080/"
        },
        "id": "QrzhqTlDx-uH",
        "outputId": "220ee092-0cc9-491e-debf-8bf8e58a73f1"
      },
      "execution_count": 184,
      "outputs": [
        {
          "output_type": "execute_result",
          "data": {
            "text/plain": [
              "LGBMClassifier()"
            ]
          },
          "metadata": {},
          "execution_count": 184
        }
      ]
    },
    {
      "cell_type": "code",
      "source": [
        "lgbm_predict = lgbm.predict(xtest)"
      ],
      "metadata": {
        "id": "A_pukqlZyK9S"
      },
      "execution_count": 185,
      "outputs": []
    },
    {
      "cell_type": "code",
      "source": [
        "lgbm_score = lgbm.score(xtest, ytest)\n",
        "lgbm_recall = recall_score(ytest, lgbm_predict)\n",
        "lgbm_precision = precision_score(ytest, lgbm_predict)"
      ],
      "metadata": {
        "id": "NwrEM65fyde_"
      },
      "execution_count": 186,
      "outputs": []
    },
    {
      "cell_type": "code",
      "source": [
        "lgbm_score, lgbm_recall, lgbm_precision"
      ],
      "metadata": {
        "colab": {
          "base_uri": "https://localhost:8080/"
        },
        "id": "SdwW28MVymon",
        "outputId": "66398b63-91ad-4a67-c9b9-455bf98e9273"
      },
      "execution_count": 187,
      "outputs": [
        {
          "output_type": "execute_result",
          "data": {
            "text/plain": [
              "(0.7064948234794708, 0.706612494847789, 0.7069788266899176)"
            ]
          },
          "metadata": {},
          "execution_count": 187
        }
      ]
    },
    {
      "cell_type": "code",
      "source": [
        "lgbm_rocauc = roc_auc_score(ytest, lgbm.predict_proba(xtest)[:,1])"
      ],
      "metadata": {
        "id": "H--hpL1c5XRk"
      },
      "execution_count": 218,
      "outputs": []
    },
    {
      "cell_type": "code",
      "source": [
        "lgbm_rocauc"
      ],
      "metadata": {
        "colab": {
          "base_uri": "https://localhost:8080/"
        },
        "id": "X-BKbNcW5cXD",
        "outputId": "9f7d28fe-81af-44ee-d1ae-f6af0bad9838"
      },
      "execution_count": 219,
      "outputs": [
        {
          "output_type": "execute_result",
          "data": {
            "text/plain": [
              "0.7822789449147491"
            ]
          },
          "metadata": {},
          "execution_count": 219
        }
      ]
    },
    {
      "cell_type": "markdown",
      "source": [
        "# Summarized results"
      ],
      "metadata": {
        "id": "gfHcPXCFyuUD"
      }
    },
    {
      "cell_type": "code",
      "source": [
        "print('{:.4f}'.format(knn_score), '- KNN Accuracy w/', n, 'neighbors')\n",
        "print('{:.4f}'.format(knn_recall), '- KNN Recall w/', n, 'neighbors')\n",
        "print('{:.4f}'.format(knn_precision), '- KNN Precision w/', n, 'neighbors')\n",
        "print('{:.4f}'.format(knn_rocauc), '- KNN ROC AUC w/', n, 'neighbors')\n",
        "print()\n",
        "print('{:.4f}'.format(log_score), '- Log Accuracy')\n",
        "print('{:.4f}'.format(log_recall), '- Log Recall')\n",
        "print('{:.4f}'.format(log_precision), '- Log Precision')\n",
        "print('{:.4f}'.format(log_rocauc), '- Log ROC AUC')\n",
        "print()\n",
        "print('{:.4f}'.format(lgbm_score), '- LGBM Accuracy')\n",
        "print('{:.4f}'.format(lgbm_recall), '- LGBM Recall')\n",
        "print('{:.4f}'.format(lgbm_precision), '- LGBM Precision')\n",
        "print('{:.4f}'.format(lgbm_rocauc), '- LGBM ROC AUC')"
      ],
      "metadata": {
        "colab": {
          "base_uri": "https://localhost:8080/"
        },
        "id": "Rq6Sqz7cyvZC",
        "outputId": "0e141977-bac1-4414-c8a1-d58764d28dc3"
      },
      "execution_count": 220,
      "outputs": [
        {
          "output_type": "stream",
          "name": "stdout",
          "text": [
            "0.8347 - KNN Accuracy w/ 7 neighbors\n",
            "0.9874 - KNN Recall w/ 7 neighbors\n",
            "0.7567 - KNN Precision w/ 7 neighbors\n",
            "0.9419 - KNN ROC AUC w/ 7 neighbors\n",
            "\n",
            "0.6680 - Log Accuracy\n",
            "0.6582 - Log Recall\n",
            "0.6720 - Log Precision\n",
            "0.7294 - Log ROC AUC\n",
            "\n",
            "0.7065 - LGBM Accuracy\n",
            "0.7066 - LGBM Recall\n",
            "0.7070 - LGBM Precision\n",
            "0.7823 - LGBM ROC AUC\n"
          ]
        }
      ]
    },
    {
      "cell_type": "markdown",
      "source": [
        "# Predicting"
      ],
      "metadata": {
        "id": "h_Rp7wes01Nh"
      }
    },
    {
      "cell_type": "code",
      "source": [
        "submit = knn.predict(test)"
      ],
      "metadata": {
        "id": "N3I_Qc9o2Kek"
      },
      "execution_count": 193,
      "outputs": []
    },
    {
      "cell_type": "code",
      "source": [
        "submission = pd.read_csv('/content/application_test.csv')"
      ],
      "metadata": {
        "id": "ufmy3oM12iMl"
      },
      "execution_count": 201,
      "outputs": []
    },
    {
      "cell_type": "code",
      "source": [
        "submission = submission[['SK_ID_CURR']]"
      ],
      "metadata": {
        "id": "6xuJmPLm2oOx"
      },
      "execution_count": 203,
      "outputs": []
    },
    {
      "cell_type": "code",
      "source": [
        "submission['TARGET'] = submit"
      ],
      "metadata": {
        "colab": {
          "base_uri": "https://localhost:8080/"
        },
        "id": "iedn81BU2q3p",
        "outputId": "d15a391a-ea5a-40ab-e985-2c18b4d63c2e"
      },
      "execution_count": 205,
      "outputs": [
        {
          "output_type": "stream",
          "name": "stderr",
          "text": [
            "/usr/local/lib/python3.7/dist-packages/ipykernel_launcher.py:1: SettingWithCopyWarning: \n",
            "A value is trying to be set on a copy of a slice from a DataFrame.\n",
            "Try using .loc[row_indexer,col_indexer] = value instead\n",
            "\n",
            "See the caveats in the documentation: https://pandas.pydata.org/pandas-docs/stable/user_guide/indexing.html#returning-a-view-versus-a-copy\n",
            "  \"\"\"Entry point for launching an IPython kernel.\n"
          ]
        }
      ]
    },
    {
      "cell_type": "code",
      "source": [
        "submission"
      ],
      "metadata": {
        "colab": {
          "base_uri": "https://localhost:8080/",
          "height": 424
        },
        "id": "Ps_cm0TW24rI",
        "outputId": "a055f60e-60aa-4343-e43d-40c13b0f1417"
      },
      "execution_count": 206,
      "outputs": [
        {
          "output_type": "execute_result",
          "data": {
            "text/plain": [
              "       SK_ID_CURR  TARGET\n",
              "0          100001       0\n",
              "1          100005       0\n",
              "2          100013       0\n",
              "3          100028       1\n",
              "4          100038       1\n",
              "...           ...     ...\n",
              "48739      456221       0\n",
              "48740      456222       0\n",
              "48741      456223       0\n",
              "48742      456224       0\n",
              "48743      456250       1\n",
              "\n",
              "[48744 rows x 2 columns]"
            ],
            "text/html": [
              "\n",
              "  <div id=\"df-88c2267a-2c6f-4ff9-a9b7-b48747fced28\">\n",
              "    <div class=\"colab-df-container\">\n",
              "      <div>\n",
              "<style scoped>\n",
              "    .dataframe tbody tr th:only-of-type {\n",
              "        vertical-align: middle;\n",
              "    }\n",
              "\n",
              "    .dataframe tbody tr th {\n",
              "        vertical-align: top;\n",
              "    }\n",
              "\n",
              "    .dataframe thead th {\n",
              "        text-align: right;\n",
              "    }\n",
              "</style>\n",
              "<table border=\"1\" class=\"dataframe\">\n",
              "  <thead>\n",
              "    <tr style=\"text-align: right;\">\n",
              "      <th></th>\n",
              "      <th>SK_ID_CURR</th>\n",
              "      <th>TARGET</th>\n",
              "    </tr>\n",
              "  </thead>\n",
              "  <tbody>\n",
              "    <tr>\n",
              "      <th>0</th>\n",
              "      <td>100001</td>\n",
              "      <td>0</td>\n",
              "    </tr>\n",
              "    <tr>\n",
              "      <th>1</th>\n",
              "      <td>100005</td>\n",
              "      <td>0</td>\n",
              "    </tr>\n",
              "    <tr>\n",
              "      <th>2</th>\n",
              "      <td>100013</td>\n",
              "      <td>0</td>\n",
              "    </tr>\n",
              "    <tr>\n",
              "      <th>3</th>\n",
              "      <td>100028</td>\n",
              "      <td>1</td>\n",
              "    </tr>\n",
              "    <tr>\n",
              "      <th>4</th>\n",
              "      <td>100038</td>\n",
              "      <td>1</td>\n",
              "    </tr>\n",
              "    <tr>\n",
              "      <th>...</th>\n",
              "      <td>...</td>\n",
              "      <td>...</td>\n",
              "    </tr>\n",
              "    <tr>\n",
              "      <th>48739</th>\n",
              "      <td>456221</td>\n",
              "      <td>0</td>\n",
              "    </tr>\n",
              "    <tr>\n",
              "      <th>48740</th>\n",
              "      <td>456222</td>\n",
              "      <td>0</td>\n",
              "    </tr>\n",
              "    <tr>\n",
              "      <th>48741</th>\n",
              "      <td>456223</td>\n",
              "      <td>0</td>\n",
              "    </tr>\n",
              "    <tr>\n",
              "      <th>48742</th>\n",
              "      <td>456224</td>\n",
              "      <td>0</td>\n",
              "    </tr>\n",
              "    <tr>\n",
              "      <th>48743</th>\n",
              "      <td>456250</td>\n",
              "      <td>1</td>\n",
              "    </tr>\n",
              "  </tbody>\n",
              "</table>\n",
              "<p>48744 rows × 2 columns</p>\n",
              "</div>\n",
              "      <button class=\"colab-df-convert\" onclick=\"convertToInteractive('df-88c2267a-2c6f-4ff9-a9b7-b48747fced28')\"\n",
              "              title=\"Convert this dataframe to an interactive table.\"\n",
              "              style=\"display:none;\">\n",
              "        \n",
              "  <svg xmlns=\"http://www.w3.org/2000/svg\" height=\"24px\"viewBox=\"0 0 24 24\"\n",
              "       width=\"24px\">\n",
              "    <path d=\"M0 0h24v24H0V0z\" fill=\"none\"/>\n",
              "    <path d=\"M18.56 5.44l.94 2.06.94-2.06 2.06-.94-2.06-.94-.94-2.06-.94 2.06-2.06.94zm-11 1L8.5 8.5l.94-2.06 2.06-.94-2.06-.94L8.5 2.5l-.94 2.06-2.06.94zm10 10l.94 2.06.94-2.06 2.06-.94-2.06-.94-.94-2.06-.94 2.06-2.06.94z\"/><path d=\"M17.41 7.96l-1.37-1.37c-.4-.4-.92-.59-1.43-.59-.52 0-1.04.2-1.43.59L10.3 9.45l-7.72 7.72c-.78.78-.78 2.05 0 2.83L4 21.41c.39.39.9.59 1.41.59.51 0 1.02-.2 1.41-.59l7.78-7.78 2.81-2.81c.8-.78.8-2.07 0-2.86zM5.41 20L4 18.59l7.72-7.72 1.47 1.35L5.41 20z\"/>\n",
              "  </svg>\n",
              "      </button>\n",
              "      \n",
              "  <style>\n",
              "    .colab-df-container {\n",
              "      display:flex;\n",
              "      flex-wrap:wrap;\n",
              "      gap: 12px;\n",
              "    }\n",
              "\n",
              "    .colab-df-convert {\n",
              "      background-color: #E8F0FE;\n",
              "      border: none;\n",
              "      border-radius: 50%;\n",
              "      cursor: pointer;\n",
              "      display: none;\n",
              "      fill: #1967D2;\n",
              "      height: 32px;\n",
              "      padding: 0 0 0 0;\n",
              "      width: 32px;\n",
              "    }\n",
              "\n",
              "    .colab-df-convert:hover {\n",
              "      background-color: #E2EBFA;\n",
              "      box-shadow: 0px 1px 2px rgba(60, 64, 67, 0.3), 0px 1px 3px 1px rgba(60, 64, 67, 0.15);\n",
              "      fill: #174EA6;\n",
              "    }\n",
              "\n",
              "    [theme=dark] .colab-df-convert {\n",
              "      background-color: #3B4455;\n",
              "      fill: #D2E3FC;\n",
              "    }\n",
              "\n",
              "    [theme=dark] .colab-df-convert:hover {\n",
              "      background-color: #434B5C;\n",
              "      box-shadow: 0px 1px 3px 1px rgba(0, 0, 0, 0.15);\n",
              "      filter: drop-shadow(0px 1px 2px rgba(0, 0, 0, 0.3));\n",
              "      fill: #FFFFFF;\n",
              "    }\n",
              "  </style>\n",
              "\n",
              "      <script>\n",
              "        const buttonEl =\n",
              "          document.querySelector('#df-88c2267a-2c6f-4ff9-a9b7-b48747fced28 button.colab-df-convert');\n",
              "        buttonEl.style.display =\n",
              "          google.colab.kernel.accessAllowed ? 'block' : 'none';\n",
              "\n",
              "        async function convertToInteractive(key) {\n",
              "          const element = document.querySelector('#df-88c2267a-2c6f-4ff9-a9b7-b48747fced28');\n",
              "          const dataTable =\n",
              "            await google.colab.kernel.invokeFunction('convertToInteractive',\n",
              "                                                     [key], {});\n",
              "          if (!dataTable) return;\n",
              "\n",
              "          const docLinkHtml = 'Like what you see? Visit the ' +\n",
              "            '<a target=\"_blank\" href=https://colab.research.google.com/notebooks/data_table.ipynb>data table notebook</a>'\n",
              "            + ' to learn more about interactive tables.';\n",
              "          element.innerHTML = '';\n",
              "          dataTable['output_type'] = 'display_data';\n",
              "          await google.colab.output.renderOutput(dataTable, element);\n",
              "          const docLink = document.createElement('div');\n",
              "          docLink.innerHTML = docLinkHtml;\n",
              "          element.appendChild(docLink);\n",
              "        }\n",
              "      </script>\n",
              "    </div>\n",
              "  </div>\n",
              "  "
            ]
          },
          "metadata": {},
          "execution_count": 206
        }
      ]
    },
    {
      "cell_type": "code",
      "source": [
        "submission.to_csv('submission (KNN)', index=False)"
      ],
      "metadata": {
        "id": "eWl_sRfr270R"
      },
      "execution_count": 209,
      "outputs": []
    }
  ]
}