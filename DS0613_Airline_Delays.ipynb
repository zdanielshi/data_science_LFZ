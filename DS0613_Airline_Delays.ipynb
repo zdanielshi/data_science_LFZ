{
  "nbformat": 4,
  "nbformat_minor": 0,
  "metadata": {
    "colab": {
      "name": "DS0613-Airline Delays.ipynb",
      "provenance": [],
      "toc_visible": true,
      "authorship_tag": "ABX9TyNub98O85/gCgV0eMVctzpu",
      "include_colab_link": true
    },
    "kernelspec": {
      "name": "python3",
      "display_name": "Python 3"
    },
    "language_info": {
      "name": "python"
    }
  },
  "cells": [
    {
      "cell_type": "markdown",
      "metadata": {
        "id": "view-in-github",
        "colab_type": "text"
      },
      "source": [
        "<a href=\"https://colab.research.google.com/github/zdanielshi/data_science_LFZ/blob/main/DS0613_Airline_Delays.ipynb\" target=\"_parent\"><img src=\"https://colab.research.google.com/assets/colab-badge.svg\" alt=\"Open In Colab\"/></a>"
      ]
    },
    {
      "cell_type": "markdown",
      "source": [
        "# Importing libraries and reading the CSV"
      ],
      "metadata": {
        "id": "9XbeeDg7BOG5"
      }
    },
    {
      "cell_type": "code",
      "execution_count": 97,
      "metadata": {
        "id": "hb8qATemGi0O"
      },
      "outputs": [],
      "source": [
        "import pandas as pd\n",
        "import matplotlib.pyplot as plt\n",
        "import seaborn as sns\n",
        "import numpy as np"
      ]
    },
    {
      "cell_type": "code",
      "source": [
        "airline = pd.read_csv('/content/Airline_on_time_west_coast.csv')"
      ],
      "metadata": {
        "id": "lvGq1iLtHUJD"
      },
      "execution_count": 98,
      "outputs": []
    },
    {
      "cell_type": "markdown",
      "source": [
        "# Analysis of the data"
      ],
      "metadata": {
        "id": "A38Iz6bhBVXJ"
      }
    },
    {
      "cell_type": "code",
      "source": [
        "airline"
      ],
      "metadata": {
        "colab": {
          "base_uri": "https://localhost:8080/",
          "height": 467
        },
        "id": "osw1OMGdHY98",
        "outputId": "50ddb239-8bac-40d1-ab46-113007ad5183"
      },
      "execution_count": 99,
      "outputs": [
        {
          "output_type": "execute_result",
          "data": {
            "text/plain": [
              "        DAY_OF_MONTH  DAY_OF_WEEK     FL_DATE UNIQUE_CARRIER CARRIER  FL_NUM  \\\n",
              "0                  1            1  2014-12-01             AA      AA       1   \n",
              "1                  1            1  2014-12-01             AA      AA       2   \n",
              "2                  1            1  2014-12-01             AA      AA       3   \n",
              "3                  1            1  2014-12-01             AA      AA       4   \n",
              "4                  1            1  2014-12-01             AA      AA       5   \n",
              "...              ...          ...         ...            ...     ...     ...   \n",
              "477178            31            3  2014-12-31             WN      WN    2180   \n",
              "477179            31            3  2014-12-31             WN      WN    3128   \n",
              "477180            31            3  2014-12-31             WN      WN    3317   \n",
              "477181            31            3  2014-12-31             WN      WN    4996   \n",
              "477182            31            3  2014-12-31             WN      WN     178   \n",
              "\n",
              "       ORIGIN       ORIGIN_CITY_NAME   DEST_CITY_NAME  ARR_TIME  ARR_DELAY  \\\n",
              "0         JFK           New York, NY  Los Angeles, CA    1203.0      -27.0   \n",
              "1         LAX        Los Angeles, CA     New York, NY    1649.0      -46.0   \n",
              "2         JFK           New York, NY  Los Angeles, CA    1542.0       -8.0   \n",
              "3         LAX        Los Angeles, CA     New York, NY    2144.0       54.0   \n",
              "4         DFW  Dallas/Fort Worth, TX     Honolulu, HI    2033.0      173.0   \n",
              "...       ...                    ...              ...       ...        ...   \n",
              "477178    SMF         Sacramento, CA    San Diego, CA    1600.0       10.0   \n",
              "477179    SMF         Sacramento, CA    San Diego, CA    2026.0       21.0   \n",
              "477180    SMF         Sacramento, CA    San Diego, CA    1048.0       -2.0   \n",
              "477181    SMF         Sacramento, CA    San Diego, CA    1701.0       -9.0   \n",
              "477182    SMF         Sacramento, CA      Seattle, WA    1521.0       36.0   \n",
              "\n",
              "        CARRIER_DELAY  WEATHER_DELAY  NAS_DELAY  SECURITY_DELAY  \\\n",
              "0                 NaN            NaN        NaN             NaN   \n",
              "1                 NaN            NaN        NaN             NaN   \n",
              "2                 NaN            NaN        NaN             NaN   \n",
              "3                 3.0            0.0        0.0             0.0   \n",
              "4               168.0            0.0        5.0             0.0   \n",
              "...               ...            ...        ...             ...   \n",
              "477178            NaN            NaN        NaN             NaN   \n",
              "477179            0.0            0.0        0.0             0.0   \n",
              "477180            NaN            NaN        NaN             NaN   \n",
              "477181            NaN            NaN        NaN             NaN   \n",
              "477182           36.0            0.0        0.0             0.0   \n",
              "\n",
              "        LATE_AIRCRAFT_DELAY  Unnamed: 16  \n",
              "0                       NaN          NaN  \n",
              "1                       NaN          NaN  \n",
              "2                       NaN          NaN  \n",
              "3                      51.0          NaN  \n",
              "4                       0.0          NaN  \n",
              "...                     ...          ...  \n",
              "477178                  NaN          NaN  \n",
              "477179                 21.0          NaN  \n",
              "477180                  NaN          NaN  \n",
              "477181                  NaN          NaN  \n",
              "477182                  0.0          NaN  \n",
              "\n",
              "[477183 rows x 17 columns]"
            ],
            "text/html": [
              "\n",
              "  <div id=\"df-21a11fb9-1445-451f-8275-1c06cdc836d0\">\n",
              "    <div class=\"colab-df-container\">\n",
              "      <div>\n",
              "<style scoped>\n",
              "    .dataframe tbody tr th:only-of-type {\n",
              "        vertical-align: middle;\n",
              "    }\n",
              "\n",
              "    .dataframe tbody tr th {\n",
              "        vertical-align: top;\n",
              "    }\n",
              "\n",
              "    .dataframe thead th {\n",
              "        text-align: right;\n",
              "    }\n",
              "</style>\n",
              "<table border=\"1\" class=\"dataframe\">\n",
              "  <thead>\n",
              "    <tr style=\"text-align: right;\">\n",
              "      <th></th>\n",
              "      <th>DAY_OF_MONTH</th>\n",
              "      <th>DAY_OF_WEEK</th>\n",
              "      <th>FL_DATE</th>\n",
              "      <th>UNIQUE_CARRIER</th>\n",
              "      <th>CARRIER</th>\n",
              "      <th>FL_NUM</th>\n",
              "      <th>ORIGIN</th>\n",
              "      <th>ORIGIN_CITY_NAME</th>\n",
              "      <th>DEST_CITY_NAME</th>\n",
              "      <th>ARR_TIME</th>\n",
              "      <th>ARR_DELAY</th>\n",
              "      <th>CARRIER_DELAY</th>\n",
              "      <th>WEATHER_DELAY</th>\n",
              "      <th>NAS_DELAY</th>\n",
              "      <th>SECURITY_DELAY</th>\n",
              "      <th>LATE_AIRCRAFT_DELAY</th>\n",
              "      <th>Unnamed: 16</th>\n",
              "    </tr>\n",
              "  </thead>\n",
              "  <tbody>\n",
              "    <tr>\n",
              "      <th>0</th>\n",
              "      <td>1</td>\n",
              "      <td>1</td>\n",
              "      <td>2014-12-01</td>\n",
              "      <td>AA</td>\n",
              "      <td>AA</td>\n",
              "      <td>1</td>\n",
              "      <td>JFK</td>\n",
              "      <td>New York, NY</td>\n",
              "      <td>Los Angeles, CA</td>\n",
              "      <td>1203.0</td>\n",
              "      <td>-27.0</td>\n",
              "      <td>NaN</td>\n",
              "      <td>NaN</td>\n",
              "      <td>NaN</td>\n",
              "      <td>NaN</td>\n",
              "      <td>NaN</td>\n",
              "      <td>NaN</td>\n",
              "    </tr>\n",
              "    <tr>\n",
              "      <th>1</th>\n",
              "      <td>1</td>\n",
              "      <td>1</td>\n",
              "      <td>2014-12-01</td>\n",
              "      <td>AA</td>\n",
              "      <td>AA</td>\n",
              "      <td>2</td>\n",
              "      <td>LAX</td>\n",
              "      <td>Los Angeles, CA</td>\n",
              "      <td>New York, NY</td>\n",
              "      <td>1649.0</td>\n",
              "      <td>-46.0</td>\n",
              "      <td>NaN</td>\n",
              "      <td>NaN</td>\n",
              "      <td>NaN</td>\n",
              "      <td>NaN</td>\n",
              "      <td>NaN</td>\n",
              "      <td>NaN</td>\n",
              "    </tr>\n",
              "    <tr>\n",
              "      <th>2</th>\n",
              "      <td>1</td>\n",
              "      <td>1</td>\n",
              "      <td>2014-12-01</td>\n",
              "      <td>AA</td>\n",
              "      <td>AA</td>\n",
              "      <td>3</td>\n",
              "      <td>JFK</td>\n",
              "      <td>New York, NY</td>\n",
              "      <td>Los Angeles, CA</td>\n",
              "      <td>1542.0</td>\n",
              "      <td>-8.0</td>\n",
              "      <td>NaN</td>\n",
              "      <td>NaN</td>\n",
              "      <td>NaN</td>\n",
              "      <td>NaN</td>\n",
              "      <td>NaN</td>\n",
              "      <td>NaN</td>\n",
              "    </tr>\n",
              "    <tr>\n",
              "      <th>3</th>\n",
              "      <td>1</td>\n",
              "      <td>1</td>\n",
              "      <td>2014-12-01</td>\n",
              "      <td>AA</td>\n",
              "      <td>AA</td>\n",
              "      <td>4</td>\n",
              "      <td>LAX</td>\n",
              "      <td>Los Angeles, CA</td>\n",
              "      <td>New York, NY</td>\n",
              "      <td>2144.0</td>\n",
              "      <td>54.0</td>\n",
              "      <td>3.0</td>\n",
              "      <td>0.0</td>\n",
              "      <td>0.0</td>\n",
              "      <td>0.0</td>\n",
              "      <td>51.0</td>\n",
              "      <td>NaN</td>\n",
              "    </tr>\n",
              "    <tr>\n",
              "      <th>4</th>\n",
              "      <td>1</td>\n",
              "      <td>1</td>\n",
              "      <td>2014-12-01</td>\n",
              "      <td>AA</td>\n",
              "      <td>AA</td>\n",
              "      <td>5</td>\n",
              "      <td>DFW</td>\n",
              "      <td>Dallas/Fort Worth, TX</td>\n",
              "      <td>Honolulu, HI</td>\n",
              "      <td>2033.0</td>\n",
              "      <td>173.0</td>\n",
              "      <td>168.0</td>\n",
              "      <td>0.0</td>\n",
              "      <td>5.0</td>\n",
              "      <td>0.0</td>\n",
              "      <td>0.0</td>\n",
              "      <td>NaN</td>\n",
              "    </tr>\n",
              "    <tr>\n",
              "      <th>...</th>\n",
              "      <td>...</td>\n",
              "      <td>...</td>\n",
              "      <td>...</td>\n",
              "      <td>...</td>\n",
              "      <td>...</td>\n",
              "      <td>...</td>\n",
              "      <td>...</td>\n",
              "      <td>...</td>\n",
              "      <td>...</td>\n",
              "      <td>...</td>\n",
              "      <td>...</td>\n",
              "      <td>...</td>\n",
              "      <td>...</td>\n",
              "      <td>...</td>\n",
              "      <td>...</td>\n",
              "      <td>...</td>\n",
              "      <td>...</td>\n",
              "    </tr>\n",
              "    <tr>\n",
              "      <th>477178</th>\n",
              "      <td>31</td>\n",
              "      <td>3</td>\n",
              "      <td>2014-12-31</td>\n",
              "      <td>WN</td>\n",
              "      <td>WN</td>\n",
              "      <td>2180</td>\n",
              "      <td>SMF</td>\n",
              "      <td>Sacramento, CA</td>\n",
              "      <td>San Diego, CA</td>\n",
              "      <td>1600.0</td>\n",
              "      <td>10.0</td>\n",
              "      <td>NaN</td>\n",
              "      <td>NaN</td>\n",
              "      <td>NaN</td>\n",
              "      <td>NaN</td>\n",
              "      <td>NaN</td>\n",
              "      <td>NaN</td>\n",
              "    </tr>\n",
              "    <tr>\n",
              "      <th>477179</th>\n",
              "      <td>31</td>\n",
              "      <td>3</td>\n",
              "      <td>2014-12-31</td>\n",
              "      <td>WN</td>\n",
              "      <td>WN</td>\n",
              "      <td>3128</td>\n",
              "      <td>SMF</td>\n",
              "      <td>Sacramento, CA</td>\n",
              "      <td>San Diego, CA</td>\n",
              "      <td>2026.0</td>\n",
              "      <td>21.0</td>\n",
              "      <td>0.0</td>\n",
              "      <td>0.0</td>\n",
              "      <td>0.0</td>\n",
              "      <td>0.0</td>\n",
              "      <td>21.0</td>\n",
              "      <td>NaN</td>\n",
              "    </tr>\n",
              "    <tr>\n",
              "      <th>477180</th>\n",
              "      <td>31</td>\n",
              "      <td>3</td>\n",
              "      <td>2014-12-31</td>\n",
              "      <td>WN</td>\n",
              "      <td>WN</td>\n",
              "      <td>3317</td>\n",
              "      <td>SMF</td>\n",
              "      <td>Sacramento, CA</td>\n",
              "      <td>San Diego, CA</td>\n",
              "      <td>1048.0</td>\n",
              "      <td>-2.0</td>\n",
              "      <td>NaN</td>\n",
              "      <td>NaN</td>\n",
              "      <td>NaN</td>\n",
              "      <td>NaN</td>\n",
              "      <td>NaN</td>\n",
              "      <td>NaN</td>\n",
              "    </tr>\n",
              "    <tr>\n",
              "      <th>477181</th>\n",
              "      <td>31</td>\n",
              "      <td>3</td>\n",
              "      <td>2014-12-31</td>\n",
              "      <td>WN</td>\n",
              "      <td>WN</td>\n",
              "      <td>4996</td>\n",
              "      <td>SMF</td>\n",
              "      <td>Sacramento, CA</td>\n",
              "      <td>San Diego, CA</td>\n",
              "      <td>1701.0</td>\n",
              "      <td>-9.0</td>\n",
              "      <td>NaN</td>\n",
              "      <td>NaN</td>\n",
              "      <td>NaN</td>\n",
              "      <td>NaN</td>\n",
              "      <td>NaN</td>\n",
              "      <td>NaN</td>\n",
              "    </tr>\n",
              "    <tr>\n",
              "      <th>477182</th>\n",
              "      <td>31</td>\n",
              "      <td>3</td>\n",
              "      <td>2014-12-31</td>\n",
              "      <td>WN</td>\n",
              "      <td>WN</td>\n",
              "      <td>178</td>\n",
              "      <td>SMF</td>\n",
              "      <td>Sacramento, CA</td>\n",
              "      <td>Seattle, WA</td>\n",
              "      <td>1521.0</td>\n",
              "      <td>36.0</td>\n",
              "      <td>36.0</td>\n",
              "      <td>0.0</td>\n",
              "      <td>0.0</td>\n",
              "      <td>0.0</td>\n",
              "      <td>0.0</td>\n",
              "      <td>NaN</td>\n",
              "    </tr>\n",
              "  </tbody>\n",
              "</table>\n",
              "<p>477183 rows × 17 columns</p>\n",
              "</div>\n",
              "      <button class=\"colab-df-convert\" onclick=\"convertToInteractive('df-21a11fb9-1445-451f-8275-1c06cdc836d0')\"\n",
              "              title=\"Convert this dataframe to an interactive table.\"\n",
              "              style=\"display:none;\">\n",
              "        \n",
              "  <svg xmlns=\"http://www.w3.org/2000/svg\" height=\"24px\"viewBox=\"0 0 24 24\"\n",
              "       width=\"24px\">\n",
              "    <path d=\"M0 0h24v24H0V0z\" fill=\"none\"/>\n",
              "    <path d=\"M18.56 5.44l.94 2.06.94-2.06 2.06-.94-2.06-.94-.94-2.06-.94 2.06-2.06.94zm-11 1L8.5 8.5l.94-2.06 2.06-.94-2.06-.94L8.5 2.5l-.94 2.06-2.06.94zm10 10l.94 2.06.94-2.06 2.06-.94-2.06-.94-.94-2.06-.94 2.06-2.06.94z\"/><path d=\"M17.41 7.96l-1.37-1.37c-.4-.4-.92-.59-1.43-.59-.52 0-1.04.2-1.43.59L10.3 9.45l-7.72 7.72c-.78.78-.78 2.05 0 2.83L4 21.41c.39.39.9.59 1.41.59.51 0 1.02-.2 1.41-.59l7.78-7.78 2.81-2.81c.8-.78.8-2.07 0-2.86zM5.41 20L4 18.59l7.72-7.72 1.47 1.35L5.41 20z\"/>\n",
              "  </svg>\n",
              "      </button>\n",
              "      \n",
              "  <style>\n",
              "    .colab-df-container {\n",
              "      display:flex;\n",
              "      flex-wrap:wrap;\n",
              "      gap: 12px;\n",
              "    }\n",
              "\n",
              "    .colab-df-convert {\n",
              "      background-color: #E8F0FE;\n",
              "      border: none;\n",
              "      border-radius: 50%;\n",
              "      cursor: pointer;\n",
              "      display: none;\n",
              "      fill: #1967D2;\n",
              "      height: 32px;\n",
              "      padding: 0 0 0 0;\n",
              "      width: 32px;\n",
              "    }\n",
              "\n",
              "    .colab-df-convert:hover {\n",
              "      background-color: #E2EBFA;\n",
              "      box-shadow: 0px 1px 2px rgba(60, 64, 67, 0.3), 0px 1px 3px 1px rgba(60, 64, 67, 0.15);\n",
              "      fill: #174EA6;\n",
              "    }\n",
              "\n",
              "    [theme=dark] .colab-df-convert {\n",
              "      background-color: #3B4455;\n",
              "      fill: #D2E3FC;\n",
              "    }\n",
              "\n",
              "    [theme=dark] .colab-df-convert:hover {\n",
              "      background-color: #434B5C;\n",
              "      box-shadow: 0px 1px 3px 1px rgba(0, 0, 0, 0.15);\n",
              "      filter: drop-shadow(0px 1px 2px rgba(0, 0, 0, 0.3));\n",
              "      fill: #FFFFFF;\n",
              "    }\n",
              "  </style>\n",
              "\n",
              "      <script>\n",
              "        const buttonEl =\n",
              "          document.querySelector('#df-21a11fb9-1445-451f-8275-1c06cdc836d0 button.colab-df-convert');\n",
              "        buttonEl.style.display =\n",
              "          google.colab.kernel.accessAllowed ? 'block' : 'none';\n",
              "\n",
              "        async function convertToInteractive(key) {\n",
              "          const element = document.querySelector('#df-21a11fb9-1445-451f-8275-1c06cdc836d0');\n",
              "          const dataTable =\n",
              "            await google.colab.kernel.invokeFunction('convertToInteractive',\n",
              "                                                     [key], {});\n",
              "          if (!dataTable) return;\n",
              "\n",
              "          const docLinkHtml = 'Like what you see? Visit the ' +\n",
              "            '<a target=\"_blank\" href=https://colab.research.google.com/notebooks/data_table.ipynb>data table notebook</a>'\n",
              "            + ' to learn more about interactive tables.';\n",
              "          element.innerHTML = '';\n",
              "          dataTable['output_type'] = 'display_data';\n",
              "          await google.colab.output.renderOutput(dataTable, element);\n",
              "          const docLink = document.createElement('div');\n",
              "          docLink.innerHTML = docLinkHtml;\n",
              "          element.appendChild(docLink);\n",
              "        }\n",
              "      </script>\n",
              "    </div>\n",
              "  </div>\n",
              "  "
            ]
          },
          "metadata": {},
          "execution_count": 99
        }
      ]
    },
    {
      "cell_type": "code",
      "source": [
        "airline.info()"
      ],
      "metadata": {
        "colab": {
          "base_uri": "https://localhost:8080/"
        },
        "id": "nx-bntiWHdzf",
        "outputId": "bcd6d7f8-5da8-410d-88f6-40d279c36722"
      },
      "execution_count": 100,
      "outputs": [
        {
          "output_type": "stream",
          "name": "stdout",
          "text": [
            "<class 'pandas.core.frame.DataFrame'>\n",
            "RangeIndex: 477183 entries, 0 to 477182\n",
            "Data columns (total 17 columns):\n",
            " #   Column               Non-Null Count   Dtype  \n",
            "---  ------               --------------   -----  \n",
            " 0   DAY_OF_MONTH         477183 non-null  int64  \n",
            " 1   DAY_OF_WEEK          477183 non-null  int64  \n",
            " 2   FL_DATE              477183 non-null  object \n",
            " 3   UNIQUE_CARRIER       477183 non-null  object \n",
            " 4   CARRIER              477183 non-null  object \n",
            " 5   FL_NUM               477183 non-null  int64  \n",
            " 6   ORIGIN               477183 non-null  object \n",
            " 7   ORIGIN_CITY_NAME     477183 non-null  object \n",
            " 8   DEST_CITY_NAME       477183 non-null  object \n",
            " 9   ARR_TIME             470175 non-null  float64\n",
            " 10  ARR_DELAY            469400 non-null  float64\n",
            " 11  CARRIER_DELAY        110163 non-null  float64\n",
            " 12  WEATHER_DELAY        110163 non-null  float64\n",
            " 13  NAS_DELAY            110163 non-null  float64\n",
            " 14  SECURITY_DELAY       110163 non-null  float64\n",
            " 15  LATE_AIRCRAFT_DELAY  110163 non-null  float64\n",
            " 16  Unnamed: 16          0 non-null       float64\n",
            "dtypes: float64(8), int64(3), object(6)\n",
            "memory usage: 61.9+ MB\n"
          ]
        }
      ]
    },
    {
      "cell_type": "markdown",
      "source": [
        "* The columns with null values are:\n",
        "  * Arrival Time\n",
        "  * Arrival Delay\n",
        "  * Carrier Delay\n",
        "  * Weather Delay\n",
        "  * NAS Delay (Google Search: this is a form of \"less severe\" weather delay)\n",
        "  * Security Delay\n",
        "  * Late Aircraft Delay\n",
        "* Arrival Time has some Null values.\n",
        "* Arrival Delay appears to be the sum of the other delay reasons.\n",
        "* There are some values of Arrival delay that are not NAN, but the sub reasons are NAN.\n",
        "* The sub delay reasons are all NAN if one is NAN."
      ],
      "metadata": {
        "id": "h4nLJsz4IoH5"
      }
    },
    {
      "cell_type": "code",
      "source": [
        "airline.describe()"
      ],
      "metadata": {
        "colab": {
          "base_uri": "https://localhost:8080/",
          "height": 300
        },
        "id": "jIh3OVzaIO04",
        "outputId": "fd0b9787-1d0e-44af-bbda-cab992916628"
      },
      "execution_count": 101,
      "outputs": [
        {
          "output_type": "execute_result",
          "data": {
            "text/plain": [
              "        DAY_OF_MONTH    DAY_OF_WEEK         FL_NUM       ARR_TIME  \\\n",
              "count  477183.000000  477183.000000  477183.000000  470175.000000   \n",
              "mean       15.896903       3.755490    2269.709954    1487.164705   \n",
              "std         8.948916       2.012361    1832.906810     510.566568   \n",
              "min         1.000000       1.000000       1.000000       1.000000   \n",
              "25%         8.000000       2.000000     744.000000    1111.000000   \n",
              "50%        16.000000       4.000000    1722.000000    1517.000000   \n",
              "75%        23.000000       5.000000    3482.000000    1915.000000   \n",
              "max        31.000000       7.000000    9320.000000    2400.000000   \n",
              "\n",
              "           ARR_DELAY  CARRIER_DELAY  WEATHER_DELAY      NAS_DELAY  \\\n",
              "count  469400.000000  110163.000000  110163.000000  110163.000000   \n",
              "mean        7.429830      16.940534       1.286866      12.860852   \n",
              "std        39.600015      44.437438      13.769430      25.623630   \n",
              "min       -84.000000       0.000000       0.000000       0.000000   \n",
              "25%       -11.000000       0.000000       0.000000       0.000000   \n",
              "50%        -2.000000       3.000000       0.000000       3.000000   \n",
              "75%        13.000000      17.000000       0.000000      17.000000   \n",
              "max      1940.000000    1937.000000     966.000000     993.000000   \n",
              "\n",
              "       SECURITY_DELAY  LATE_AIRCRAFT_DELAY  Unnamed: 16  \n",
              "count   110163.000000        110163.000000          0.0  \n",
              "mean         0.064722            22.869021          NaN  \n",
              "std          1.638324            39.829825          NaN  \n",
              "min          0.000000             0.000000          NaN  \n",
              "25%          0.000000             0.000000          NaN  \n",
              "50%          0.000000             8.000000          NaN  \n",
              "75%          0.000000            30.000000          NaN  \n",
              "max        180.000000          1290.000000          NaN  "
            ],
            "text/html": [
              "\n",
              "  <div id=\"df-ef249bc6-a497-4cd8-b25f-886afd8f361a\">\n",
              "    <div class=\"colab-df-container\">\n",
              "      <div>\n",
              "<style scoped>\n",
              "    .dataframe tbody tr th:only-of-type {\n",
              "        vertical-align: middle;\n",
              "    }\n",
              "\n",
              "    .dataframe tbody tr th {\n",
              "        vertical-align: top;\n",
              "    }\n",
              "\n",
              "    .dataframe thead th {\n",
              "        text-align: right;\n",
              "    }\n",
              "</style>\n",
              "<table border=\"1\" class=\"dataframe\">\n",
              "  <thead>\n",
              "    <tr style=\"text-align: right;\">\n",
              "      <th></th>\n",
              "      <th>DAY_OF_MONTH</th>\n",
              "      <th>DAY_OF_WEEK</th>\n",
              "      <th>FL_NUM</th>\n",
              "      <th>ARR_TIME</th>\n",
              "      <th>ARR_DELAY</th>\n",
              "      <th>CARRIER_DELAY</th>\n",
              "      <th>WEATHER_DELAY</th>\n",
              "      <th>NAS_DELAY</th>\n",
              "      <th>SECURITY_DELAY</th>\n",
              "      <th>LATE_AIRCRAFT_DELAY</th>\n",
              "      <th>Unnamed: 16</th>\n",
              "    </tr>\n",
              "  </thead>\n",
              "  <tbody>\n",
              "    <tr>\n",
              "      <th>count</th>\n",
              "      <td>477183.000000</td>\n",
              "      <td>477183.000000</td>\n",
              "      <td>477183.000000</td>\n",
              "      <td>470175.000000</td>\n",
              "      <td>469400.000000</td>\n",
              "      <td>110163.000000</td>\n",
              "      <td>110163.000000</td>\n",
              "      <td>110163.000000</td>\n",
              "      <td>110163.000000</td>\n",
              "      <td>110163.000000</td>\n",
              "      <td>0.0</td>\n",
              "    </tr>\n",
              "    <tr>\n",
              "      <th>mean</th>\n",
              "      <td>15.896903</td>\n",
              "      <td>3.755490</td>\n",
              "      <td>2269.709954</td>\n",
              "      <td>1487.164705</td>\n",
              "      <td>7.429830</td>\n",
              "      <td>16.940534</td>\n",
              "      <td>1.286866</td>\n",
              "      <td>12.860852</td>\n",
              "      <td>0.064722</td>\n",
              "      <td>22.869021</td>\n",
              "      <td>NaN</td>\n",
              "    </tr>\n",
              "    <tr>\n",
              "      <th>std</th>\n",
              "      <td>8.948916</td>\n",
              "      <td>2.012361</td>\n",
              "      <td>1832.906810</td>\n",
              "      <td>510.566568</td>\n",
              "      <td>39.600015</td>\n",
              "      <td>44.437438</td>\n",
              "      <td>13.769430</td>\n",
              "      <td>25.623630</td>\n",
              "      <td>1.638324</td>\n",
              "      <td>39.829825</td>\n",
              "      <td>NaN</td>\n",
              "    </tr>\n",
              "    <tr>\n",
              "      <th>min</th>\n",
              "      <td>1.000000</td>\n",
              "      <td>1.000000</td>\n",
              "      <td>1.000000</td>\n",
              "      <td>1.000000</td>\n",
              "      <td>-84.000000</td>\n",
              "      <td>0.000000</td>\n",
              "      <td>0.000000</td>\n",
              "      <td>0.000000</td>\n",
              "      <td>0.000000</td>\n",
              "      <td>0.000000</td>\n",
              "      <td>NaN</td>\n",
              "    </tr>\n",
              "    <tr>\n",
              "      <th>25%</th>\n",
              "      <td>8.000000</td>\n",
              "      <td>2.000000</td>\n",
              "      <td>744.000000</td>\n",
              "      <td>1111.000000</td>\n",
              "      <td>-11.000000</td>\n",
              "      <td>0.000000</td>\n",
              "      <td>0.000000</td>\n",
              "      <td>0.000000</td>\n",
              "      <td>0.000000</td>\n",
              "      <td>0.000000</td>\n",
              "      <td>NaN</td>\n",
              "    </tr>\n",
              "    <tr>\n",
              "      <th>50%</th>\n",
              "      <td>16.000000</td>\n",
              "      <td>4.000000</td>\n",
              "      <td>1722.000000</td>\n",
              "      <td>1517.000000</td>\n",
              "      <td>-2.000000</td>\n",
              "      <td>3.000000</td>\n",
              "      <td>0.000000</td>\n",
              "      <td>3.000000</td>\n",
              "      <td>0.000000</td>\n",
              "      <td>8.000000</td>\n",
              "      <td>NaN</td>\n",
              "    </tr>\n",
              "    <tr>\n",
              "      <th>75%</th>\n",
              "      <td>23.000000</td>\n",
              "      <td>5.000000</td>\n",
              "      <td>3482.000000</td>\n",
              "      <td>1915.000000</td>\n",
              "      <td>13.000000</td>\n",
              "      <td>17.000000</td>\n",
              "      <td>0.000000</td>\n",
              "      <td>17.000000</td>\n",
              "      <td>0.000000</td>\n",
              "      <td>30.000000</td>\n",
              "      <td>NaN</td>\n",
              "    </tr>\n",
              "    <tr>\n",
              "      <th>max</th>\n",
              "      <td>31.000000</td>\n",
              "      <td>7.000000</td>\n",
              "      <td>9320.000000</td>\n",
              "      <td>2400.000000</td>\n",
              "      <td>1940.000000</td>\n",
              "      <td>1937.000000</td>\n",
              "      <td>966.000000</td>\n",
              "      <td>993.000000</td>\n",
              "      <td>180.000000</td>\n",
              "      <td>1290.000000</td>\n",
              "      <td>NaN</td>\n",
              "    </tr>\n",
              "  </tbody>\n",
              "</table>\n",
              "</div>\n",
              "      <button class=\"colab-df-convert\" onclick=\"convertToInteractive('df-ef249bc6-a497-4cd8-b25f-886afd8f361a')\"\n",
              "              title=\"Convert this dataframe to an interactive table.\"\n",
              "              style=\"display:none;\">\n",
              "        \n",
              "  <svg xmlns=\"http://www.w3.org/2000/svg\" height=\"24px\"viewBox=\"0 0 24 24\"\n",
              "       width=\"24px\">\n",
              "    <path d=\"M0 0h24v24H0V0z\" fill=\"none\"/>\n",
              "    <path d=\"M18.56 5.44l.94 2.06.94-2.06 2.06-.94-2.06-.94-.94-2.06-.94 2.06-2.06.94zm-11 1L8.5 8.5l.94-2.06 2.06-.94-2.06-.94L8.5 2.5l-.94 2.06-2.06.94zm10 10l.94 2.06.94-2.06 2.06-.94-2.06-.94-.94-2.06-.94 2.06-2.06.94z\"/><path d=\"M17.41 7.96l-1.37-1.37c-.4-.4-.92-.59-1.43-.59-.52 0-1.04.2-1.43.59L10.3 9.45l-7.72 7.72c-.78.78-.78 2.05 0 2.83L4 21.41c.39.39.9.59 1.41.59.51 0 1.02-.2 1.41-.59l7.78-7.78 2.81-2.81c.8-.78.8-2.07 0-2.86zM5.41 20L4 18.59l7.72-7.72 1.47 1.35L5.41 20z\"/>\n",
              "  </svg>\n",
              "      </button>\n",
              "      \n",
              "  <style>\n",
              "    .colab-df-container {\n",
              "      display:flex;\n",
              "      flex-wrap:wrap;\n",
              "      gap: 12px;\n",
              "    }\n",
              "\n",
              "    .colab-df-convert {\n",
              "      background-color: #E8F0FE;\n",
              "      border: none;\n",
              "      border-radius: 50%;\n",
              "      cursor: pointer;\n",
              "      display: none;\n",
              "      fill: #1967D2;\n",
              "      height: 32px;\n",
              "      padding: 0 0 0 0;\n",
              "      width: 32px;\n",
              "    }\n",
              "\n",
              "    .colab-df-convert:hover {\n",
              "      background-color: #E2EBFA;\n",
              "      box-shadow: 0px 1px 2px rgba(60, 64, 67, 0.3), 0px 1px 3px 1px rgba(60, 64, 67, 0.15);\n",
              "      fill: #174EA6;\n",
              "    }\n",
              "\n",
              "    [theme=dark] .colab-df-convert {\n",
              "      background-color: #3B4455;\n",
              "      fill: #D2E3FC;\n",
              "    }\n",
              "\n",
              "    [theme=dark] .colab-df-convert:hover {\n",
              "      background-color: #434B5C;\n",
              "      box-shadow: 0px 1px 3px 1px rgba(0, 0, 0, 0.15);\n",
              "      filter: drop-shadow(0px 1px 2px rgba(0, 0, 0, 0.3));\n",
              "      fill: #FFFFFF;\n",
              "    }\n",
              "  </style>\n",
              "\n",
              "      <script>\n",
              "        const buttonEl =\n",
              "          document.querySelector('#df-ef249bc6-a497-4cd8-b25f-886afd8f361a button.colab-df-convert');\n",
              "        buttonEl.style.display =\n",
              "          google.colab.kernel.accessAllowed ? 'block' : 'none';\n",
              "\n",
              "        async function convertToInteractive(key) {\n",
              "          const element = document.querySelector('#df-ef249bc6-a497-4cd8-b25f-886afd8f361a');\n",
              "          const dataTable =\n",
              "            await google.colab.kernel.invokeFunction('convertToInteractive',\n",
              "                                                     [key], {});\n",
              "          if (!dataTable) return;\n",
              "\n",
              "          const docLinkHtml = 'Like what you see? Visit the ' +\n",
              "            '<a target=\"_blank\" href=https://colab.research.google.com/notebooks/data_table.ipynb>data table notebook</a>'\n",
              "            + ' to learn more about interactive tables.';\n",
              "          element.innerHTML = '';\n",
              "          dataTable['output_type'] = 'display_data';\n",
              "          await google.colab.output.renderOutput(dataTable, element);\n",
              "          const docLink = document.createElement('div');\n",
              "          docLink.innerHTML = docLinkHtml;\n",
              "          element.appendChild(docLink);\n",
              "        }\n",
              "      </script>\n",
              "    </div>\n",
              "  </div>\n",
              "  "
            ]
          },
          "metadata": {},
          "execution_count": 101
        }
      ]
    },
    {
      "cell_type": "markdown",
      "source": [
        "## Looking at the histogram of the delay reasons. First the arrival times on it's own, and then the sub reasons.\n",
        "\n",
        "They do appear to be very skewed by some large delay values on the right hand side. Therefore we should opt to use the median over the mean where necessary."
      ],
      "metadata": {
        "id": "lpOaDsrmCDAX"
      }
    },
    {
      "cell_type": "code",
      "source": [
        "plt.hist(airline.ARR_DELAY, bins=30);"
      ],
      "metadata": {
        "colab": {
          "base_uri": "https://localhost:8080/",
          "height": 265
        },
        "id": "_COk7AXwC-Yv",
        "outputId": "294f4e4a-85c2-412b-aa96-1475b9173b64"
      },
      "execution_count": 102,
      "outputs": [
        {
          "output_type": "display_data",
          "data": {
            "text/plain": [
              "<Figure size 432x288 with 1 Axes>"
            ],
            "image/png": "[encoded data removed]"
          },
          "metadata": {
            "needs_background": "light"
          }
        }
      ]
    },
    {
      "cell_type": "code",
      "source": [
        "delay_bins = 50\n",
        "delay_alpha = .5\n",
        "plt.hist(airline.ARR_DELAY, bins = delay_bins, alpha = 1);\n",
        "plt.hist(airline.CARRIER_DELAY, bins = delay_bins, alpha = delay_alpha);\n",
        "plt.hist(airline.WEATHER_DELAY, bins = delay_bins, alpha = delay_alpha);\n",
        "plt.hist(airline.NAS_DELAY, bins = delay_bins, alpha = delay_alpha);\n",
        "plt.hist(airline.SECURITY_DELAY, bins = delay_bins, alpha = delay_alpha);\n",
        "plt.hist(airline.LATE_AIRCRAFT_DELAY, bins = delay_bins, alpha = delay_alpha);"
      ],
      "metadata": {
        "colab": {
          "base_uri": "https://localhost:8080/",
          "height": 265
        },
        "id": "K5tZ33eYDWqc",
        "outputId": "ae9b25be-9240-45a5-ea60-f325ed141903"
      },
      "execution_count": 103,
      "outputs": [
        {
          "output_type": "display_data",
          "data": {
            "text/plain": [
              "<Figure size 432x288 with 1 Axes>"
            ],
            "image/png": "[encoded data removed]"
          },
          "metadata": {
            "needs_background": "light"
          }
        }
      ]
    },
    {
      "cell_type": "markdown",
      "source": [
        "## Analysis to show all of the NAN values are the same.\n",
        "\n",
        "The analysis below is to ensure that the 110163 NAN rows for the sub reasons are all of the same. They appear to be."
      ],
      "metadata": {
        "id": "n5F9oTx4MJHQ"
      }
    },
    {
      "cell_type": "code",
      "source": [
        "airline[airline['ARR_DELAY'].notnull() & airline['CARRIER_DELAY'].notnull()].info()"
      ],
      "metadata": {
        "colab": {
          "base_uri": "https://localhost:8080/"
        },
        "id": "FCk5JQZ7ZPZc",
        "outputId": "30636234-d11c-48ed-f00a-35ad77f92d98"
      },
      "execution_count": 104,
      "outputs": [
        {
          "output_type": "stream",
          "name": "stdout",
          "text": [
            "<class 'pandas.core.frame.DataFrame'>\n",
            "Int64Index: 110163 entries, 3 to 477182\n",
            "Data columns (total 17 columns):\n",
            " #   Column               Non-Null Count   Dtype  \n",
            "---  ------               --------------   -----  \n",
            " 0   DAY_OF_MONTH         110163 non-null  int64  \n",
            " 1   DAY_OF_WEEK          110163 non-null  int64  \n",
            " 2   FL_DATE              110163 non-null  object \n",
            " 3   UNIQUE_CARRIER       110163 non-null  object \n",
            " 4   CARRIER              110163 non-null  object \n",
            " 5   FL_NUM               110163 non-null  int64  \n",
            " 6   ORIGIN               110163 non-null  object \n",
            " 7   ORIGIN_CITY_NAME     110163 non-null  object \n",
            " 8   DEST_CITY_NAME       110163 non-null  object \n",
            " 9   ARR_TIME             110163 non-null  float64\n",
            " 10  ARR_DELAY            110163 non-null  float64\n",
            " 11  CARRIER_DELAY        110163 non-null  float64\n",
            " 12  WEATHER_DELAY        110163 non-null  float64\n",
            " 13  NAS_DELAY            110163 non-null  float64\n",
            " 14  SECURITY_DELAY       110163 non-null  float64\n",
            " 15  LATE_AIRCRAFT_DELAY  110163 non-null  float64\n",
            " 16  Unnamed: 16          0 non-null       float64\n",
            "dtypes: float64(8), int64(3), object(6)\n",
            "memory usage: 15.1+ MB\n"
          ]
        }
      ]
    },
    {
      "cell_type": "code",
      "source": [
        "airline[airline['ARR_DELAY'].notnull() & airline['CARRIER_DELAY'].notnull()].describe()"
      ],
      "metadata": {
        "colab": {
          "base_uri": "https://localhost:8080/",
          "height": 300
        },
        "id": "Xlx57aeVE90r",
        "outputId": "15d710ee-64c1-44f9-898a-a5dd4a47781d"
      },
      "execution_count": 105,
      "outputs": [
        {
          "output_type": "execute_result",
          "data": {
            "text/plain": [
              "        DAY_OF_MONTH   DAY_OF_WEEK         FL_NUM       ARR_TIME  \\\n",
              "count  110163.000000  110163.00000  110163.000000  110163.000000   \n",
              "mean       16.932663       3.61606    2380.392537    1605.409693   \n",
              "std         9.108650       1.97540    1878.304917     568.812686   \n",
              "min         1.000000       1.00000       1.000000       1.000000   \n",
              "25%         9.000000       2.00000     749.000000    1313.000000   \n",
              "50%        18.000000       3.00000    1829.000000    1721.000000   \n",
              "75%        24.000000       5.00000    3661.000000    2037.000000   \n",
              "max        31.000000       7.00000    9320.000000    2400.000000   \n",
              "\n",
              "           ARR_DELAY  CARRIER_DELAY  WEATHER_DELAY      NAS_DELAY  \\\n",
              "count  110163.000000  110163.000000  110163.000000  110163.000000   \n",
              "mean       54.021995      16.940534       1.286866      12.860852   \n",
              "std        58.585190      44.437438      13.769430      25.623630   \n",
              "min        15.000000       0.000000       0.000000       0.000000   \n",
              "25%        22.000000       0.000000       0.000000       0.000000   \n",
              "50%        35.000000       3.000000       0.000000       3.000000   \n",
              "75%        63.000000      17.000000       0.000000      17.000000   \n",
              "max      1940.000000    1937.000000     966.000000     993.000000   \n",
              "\n",
              "       SECURITY_DELAY  LATE_AIRCRAFT_DELAY  Unnamed: 16  \n",
              "count   110163.000000        110163.000000          0.0  \n",
              "mean         0.064722            22.869021          NaN  \n",
              "std          1.638324            39.829825          NaN  \n",
              "min          0.000000             0.000000          NaN  \n",
              "25%          0.000000             0.000000          NaN  \n",
              "50%          0.000000             8.000000          NaN  \n",
              "75%          0.000000            30.000000          NaN  \n",
              "max        180.000000          1290.000000          NaN  "
            ],
            "text/html": [
              "\n",
              "  <div id=\"df-acd7d562-f492-489f-9b08-7d6bfb41a1ea\">\n",
              "    <div class=\"colab-df-container\">\n",
              "      <div>\n",
              "<style scoped>\n",
              "    .dataframe tbody tr th:only-of-type {\n",
              "        vertical-align: middle;\n",
              "    }\n",
              "\n",
              "    .dataframe tbody tr th {\n",
              "        vertical-align: top;\n",
              "    }\n",
              "\n",
              "    .dataframe thead th {\n",
              "        text-align: right;\n",
              "    }\n",
              "</style>\n",
              "<table border=\"1\" class=\"dataframe\">\n",
              "  <thead>\n",
              "    <tr style=\"text-align: right;\">\n",
              "      <th></th>\n",
              "      <th>DAY_OF_MONTH</th>\n",
              "      <th>DAY_OF_WEEK</th>\n",
              "      <th>FL_NUM</th>\n",
              "      <th>ARR_TIME</th>\n",
              "      <th>ARR_DELAY</th>\n",
              "      <th>CARRIER_DELAY</th>\n",
              "      <th>WEATHER_DELAY</th>\n",
              "      <th>NAS_DELAY</th>\n",
              "      <th>SECURITY_DELAY</th>\n",
              "      <th>LATE_AIRCRAFT_DELAY</th>\n",
              "      <th>Unnamed: 16</th>\n",
              "    </tr>\n",
              "  </thead>\n",
              "  <tbody>\n",
              "    <tr>\n",
              "      <th>count</th>\n",
              "      <td>110163.000000</td>\n",
              "      <td>110163.00000</td>\n",
              "      <td>110163.000000</td>\n",
              "      <td>110163.000000</td>\n",
              "      <td>110163.000000</td>\n",
              "      <td>110163.000000</td>\n",
              "      <td>110163.000000</td>\n",
              "      <td>110163.000000</td>\n",
              "      <td>110163.000000</td>\n",
              "      <td>110163.000000</td>\n",
              "      <td>0.0</td>\n",
              "    </tr>\n",
              "    <tr>\n",
              "      <th>mean</th>\n",
              "      <td>16.932663</td>\n",
              "      <td>3.61606</td>\n",
              "      <td>2380.392537</td>\n",
              "      <td>1605.409693</td>\n",
              "      <td>54.021995</td>\n",
              "      <td>16.940534</td>\n",
              "      <td>1.286866</td>\n",
              "      <td>12.860852</td>\n",
              "      <td>0.064722</td>\n",
              "      <td>22.869021</td>\n",
              "      <td>NaN</td>\n",
              "    </tr>\n",
              "    <tr>\n",
              "      <th>std</th>\n",
              "      <td>9.108650</td>\n",
              "      <td>1.97540</td>\n",
              "      <td>1878.304917</td>\n",
              "      <td>568.812686</td>\n",
              "      <td>58.585190</td>\n",
              "      <td>44.437438</td>\n",
              "      <td>13.769430</td>\n",
              "      <td>25.623630</td>\n",
              "      <td>1.638324</td>\n",
              "      <td>39.829825</td>\n",
              "      <td>NaN</td>\n",
              "    </tr>\n",
              "    <tr>\n",
              "      <th>min</th>\n",
              "      <td>1.000000</td>\n",
              "      <td>1.00000</td>\n",
              "      <td>1.000000</td>\n",
              "      <td>1.000000</td>\n",
              "      <td>15.000000</td>\n",
              "      <td>0.000000</td>\n",
              "      <td>0.000000</td>\n",
              "      <td>0.000000</td>\n",
              "      <td>0.000000</td>\n",
              "      <td>0.000000</td>\n",
              "      <td>NaN</td>\n",
              "    </tr>\n",
              "    <tr>\n",
              "      <th>25%</th>\n",
              "      <td>9.000000</td>\n",
              "      <td>2.00000</td>\n",
              "      <td>749.000000</td>\n",
              "      <td>1313.000000</td>\n",
              "      <td>22.000000</td>\n",
              "      <td>0.000000</td>\n",
              "      <td>0.000000</td>\n",
              "      <td>0.000000</td>\n",
              "      <td>0.000000</td>\n",
              "      <td>0.000000</td>\n",
              "      <td>NaN</td>\n",
              "    </tr>\n",
              "    <tr>\n",
              "      <th>50%</th>\n",
              "      <td>18.000000</td>\n",
              "      <td>3.00000</td>\n",
              "      <td>1829.000000</td>\n",
              "      <td>1721.000000</td>\n",
              "      <td>35.000000</td>\n",
              "      <td>3.000000</td>\n",
              "      <td>0.000000</td>\n",
              "      <td>3.000000</td>\n",
              "      <td>0.000000</td>\n",
              "      <td>8.000000</td>\n",
              "      <td>NaN</td>\n",
              "    </tr>\n",
              "    <tr>\n",
              "      <th>75%</th>\n",
              "      <td>24.000000</td>\n",
              "      <td>5.00000</td>\n",
              "      <td>3661.000000</td>\n",
              "      <td>2037.000000</td>\n",
              "      <td>63.000000</td>\n",
              "      <td>17.000000</td>\n",
              "      <td>0.000000</td>\n",
              "      <td>17.000000</td>\n",
              "      <td>0.000000</td>\n",
              "      <td>30.000000</td>\n",
              "      <td>NaN</td>\n",
              "    </tr>\n",
              "    <tr>\n",
              "      <th>max</th>\n",
              "      <td>31.000000</td>\n",
              "      <td>7.00000</td>\n",
              "      <td>9320.000000</td>\n",
              "      <td>2400.000000</td>\n",
              "      <td>1940.000000</td>\n",
              "      <td>1937.000000</td>\n",
              "      <td>966.000000</td>\n",
              "      <td>993.000000</td>\n",
              "      <td>180.000000</td>\n",
              "      <td>1290.000000</td>\n",
              "      <td>NaN</td>\n",
              "    </tr>\n",
              "  </tbody>\n",
              "</table>\n",
              "</div>\n",
              "      <button class=\"colab-df-convert\" onclick=\"convertToInteractive('df-acd7d562-f492-489f-9b08-7d6bfb41a1ea')\"\n",
              "              title=\"Convert this dataframe to an interactive table.\"\n",
              "              style=\"display:none;\">\n",
              "        \n",
              "  <svg xmlns=\"http://www.w3.org/2000/svg\" height=\"24px\"viewBox=\"0 0 24 24\"\n",
              "       width=\"24px\">\n",
              "    <path d=\"M0 0h24v24H0V0z\" fill=\"none\"/>\n",
              "    <path d=\"M18.56 5.44l.94 2.06.94-2.06 2.06-.94-2.06-.94-.94-2.06-.94 2.06-2.06.94zm-11 1L8.5 8.5l.94-2.06 2.06-.94-2.06-.94L8.5 2.5l-.94 2.06-2.06.94zm10 10l.94 2.06.94-2.06 2.06-.94-2.06-.94-.94-2.06-.94 2.06-2.06.94z\"/><path d=\"M17.41 7.96l-1.37-1.37c-.4-.4-.92-.59-1.43-.59-.52 0-1.04.2-1.43.59L10.3 9.45l-7.72 7.72c-.78.78-.78 2.05 0 2.83L4 21.41c.39.39.9.59 1.41.59.51 0 1.02-.2 1.41-.59l7.78-7.78 2.81-2.81c.8-.78.8-2.07 0-2.86zM5.41 20L4 18.59l7.72-7.72 1.47 1.35L5.41 20z\"/>\n",
              "  </svg>\n",
              "      </button>\n",
              "      \n",
              "  <style>\n",
              "    .colab-df-container {\n",
              "      display:flex;\n",
              "      flex-wrap:wrap;\n",
              "      gap: 12px;\n",
              "    }\n",
              "\n",
              "    .colab-df-convert {\n",
              "      background-color: #E8F0FE;\n",
              "      border: none;\n",
              "      border-radius: 50%;\n",
              "      cursor: pointer;\n",
              "      display: none;\n",
              "      fill: #1967D2;\n",
              "      height: 32px;\n",
              "      padding: 0 0 0 0;\n",
              "      width: 32px;\n",
              "    }\n",
              "\n",
              "    .colab-df-convert:hover {\n",
              "      background-color: #E2EBFA;\n",
              "      box-shadow: 0px 1px 2px rgba(60, 64, 67, 0.3), 0px 1px 3px 1px rgba(60, 64, 67, 0.15);\n",
              "      fill: #174EA6;\n",
              "    }\n",
              "\n",
              "    [theme=dark] .colab-df-convert {\n",
              "      background-color: #3B4455;\n",
              "      fill: #D2E3FC;\n",
              "    }\n",
              "\n",
              "    [theme=dark] .colab-df-convert:hover {\n",
              "      background-color: #434B5C;\n",
              "      box-shadow: 0px 1px 3px 1px rgba(0, 0, 0, 0.15);\n",
              "      filter: drop-shadow(0px 1px 2px rgba(0, 0, 0, 0.3));\n",
              "      fill: #FFFFFF;\n",
              "    }\n",
              "  </style>\n",
              "\n",
              "      <script>\n",
              "        const buttonEl =\n",
              "          document.querySelector('#df-acd7d562-f492-489f-9b08-7d6bfb41a1ea button.colab-df-convert');\n",
              "        buttonEl.style.display =\n",
              "          google.colab.kernel.accessAllowed ? 'block' : 'none';\n",
              "\n",
              "        async function convertToInteractive(key) {\n",
              "          const element = document.querySelector('#df-acd7d562-f492-489f-9b08-7d6bfb41a1ea');\n",
              "          const dataTable =\n",
              "            await google.colab.kernel.invokeFunction('convertToInteractive',\n",
              "                                                     [key], {});\n",
              "          if (!dataTable) return;\n",
              "\n",
              "          const docLinkHtml = 'Like what you see? Visit the ' +\n",
              "            '<a target=\"_blank\" href=https://colab.research.google.com/notebooks/data_table.ipynb>data table notebook</a>'\n",
              "            + ' to learn more about interactive tables.';\n",
              "          element.innerHTML = '';\n",
              "          dataTable['output_type'] = 'display_data';\n",
              "          await google.colab.output.renderOutput(dataTable, element);\n",
              "          const docLink = document.createElement('div');\n",
              "          docLink.innerHTML = docLinkHtml;\n",
              "          element.appendChild(docLink);\n",
              "        }\n",
              "      </script>\n",
              "    </div>\n",
              "  </div>\n",
              "  "
            ]
          },
          "metadata": {},
          "execution_count": 105
        }
      ]
    },
    {
      "cell_type": "code",
      "source": [
        "airline[airline['ARR_DELAY'].notnull() & airline['CARRIER_DELAY'].notnull()]"
      ],
      "metadata": {
        "colab": {
          "base_uri": "https://localhost:8080/",
          "height": 658
        },
        "id": "aNYClhJHFe2Z",
        "outputId": "dcf83660-7b34-4bfb-cd9a-3bf283543a92"
      },
      "execution_count": 106,
      "outputs": [
        {
          "output_type": "execute_result",
          "data": {
            "text/plain": [
              "        DAY_OF_MONTH  DAY_OF_WEEK     FL_DATE UNIQUE_CARRIER CARRIER  FL_NUM  \\\n",
              "3                  1            1  2014-12-01             AA      AA       4   \n",
              "4                  1            1  2014-12-01             AA      AA       5   \n",
              "5                  1            1  2014-12-01             AA      AA       6   \n",
              "6                  1            1  2014-12-01             AA      AA       7   \n",
              "16                 1            1  2014-12-01             AA      AA      19   \n",
              "...              ...          ...         ...            ...     ...     ...   \n",
              "477168            31            3  2014-12-31             WN      WN     477   \n",
              "477173            31            3  2014-12-31             WN      WN    2088   \n",
              "477175            31            3  2014-12-31             WN      WN    4839   \n",
              "477179            31            3  2014-12-31             WN      WN    3128   \n",
              "477182            31            3  2014-12-31             WN      WN     178   \n",
              "\n",
              "       ORIGIN       ORIGIN_CITY_NAME         DEST_CITY_NAME  ARR_TIME  \\\n",
              "3         LAX        Los Angeles, CA           New York, NY    2144.0   \n",
              "4         DFW  Dallas/Fort Worth, TX           Honolulu, HI    2033.0   \n",
              "5         OGG            Kahului, HI  Dallas/Fort Worth, TX     541.0   \n",
              "6         DFW  Dallas/Fort Worth, TX            Kahului, HI    1742.0   \n",
              "16        JFK           New York, NY        Los Angeles, CA    1441.0   \n",
              "...       ...                    ...                    ...       ...   \n",
              "477168    SMF         Sacramento, CA            Ontario, CA    1500.0   \n",
              "477173    SMF         Sacramento, CA            Phoenix, AZ    1601.0   \n",
              "477175    SMF         Sacramento, CA            Phoenix, AZ    1308.0   \n",
              "477179    SMF         Sacramento, CA          San Diego, CA    2026.0   \n",
              "477182    SMF         Sacramento, CA            Seattle, WA    1521.0   \n",
              "\n",
              "        ARR_DELAY  CARRIER_DELAY  WEATHER_DELAY  NAS_DELAY  SECURITY_DELAY  \\\n",
              "3            54.0            3.0            0.0        0.0             0.0   \n",
              "4           173.0          168.0            0.0        5.0             0.0   \n",
              "5            31.0            1.0            0.0        0.0             0.0   \n",
              "6            67.0           29.0            0.0        9.0             0.0   \n",
              "16           21.0            0.0            0.0       21.0             0.0   \n",
              "...           ...            ...            ...        ...             ...   \n",
              "477168       45.0            9.0            0.0        0.0             0.0   \n",
              "477173       36.0            7.0            0.0        6.0             0.0   \n",
              "477175       23.0            8.0            0.0       15.0             0.0   \n",
              "477179       21.0            0.0            0.0        0.0             0.0   \n",
              "477182       36.0           36.0            0.0        0.0             0.0   \n",
              "\n",
              "        LATE_AIRCRAFT_DELAY  Unnamed: 16  \n",
              "3                      51.0          NaN  \n",
              "4                       0.0          NaN  \n",
              "5                      30.0          NaN  \n",
              "6                      29.0          NaN  \n",
              "16                      0.0          NaN  \n",
              "...                     ...          ...  \n",
              "477168                 36.0          NaN  \n",
              "477173                 23.0          NaN  \n",
              "477175                  0.0          NaN  \n",
              "477179                 21.0          NaN  \n",
              "477182                  0.0          NaN  \n",
              "\n",
              "[110163 rows x 17 columns]"
            ],
            "text/html": [
              "\n",
              "  <div id=\"df-9c42ebbc-74d4-4d67-9ae9-366fcb66f8ac\">\n",
              "    <div class=\"colab-df-container\">\n",
              "      <div>\n",
              "<style scoped>\n",
              "    .dataframe tbody tr th:only-of-type {\n",
              "        vertical-align: middle;\n",
              "    }\n",
              "\n",
              "    .dataframe tbody tr th {\n",
              "        vertical-align: top;\n",
              "    }\n",
              "\n",
              "    .dataframe thead th {\n",
              "        text-align: right;\n",
              "    }\n",
              "</style>\n",
              "<table border=\"1\" class=\"dataframe\">\n",
              "  <thead>\n",
              "    <tr style=\"text-align: right;\">\n",
              "      <th></th>\n",
              "      <th>DAY_OF_MONTH</th>\n",
              "      <th>DAY_OF_WEEK</th>\n",
              "      <th>FL_DATE</th>\n",
              "      <th>UNIQUE_CARRIER</th>\n",
              "      <th>CARRIER</th>\n",
              "      <th>FL_NUM</th>\n",
              "      <th>ORIGIN</th>\n",
              "      <th>ORIGIN_CITY_NAME</th>\n",
              "      <th>DEST_CITY_NAME</th>\n",
              "      <th>ARR_TIME</th>\n",
              "      <th>ARR_DELAY</th>\n",
              "      <th>CARRIER_DELAY</th>\n",
              "      <th>WEATHER_DELAY</th>\n",
              "      <th>NAS_DELAY</th>\n",
              "      <th>SECURITY_DELAY</th>\n",
              "      <th>LATE_AIRCRAFT_DELAY</th>\n",
              "      <th>Unnamed: 16</th>\n",
              "    </tr>\n",
              "  </thead>\n",
              "  <tbody>\n",
              "    <tr>\n",
              "      <th>3</th>\n",
              "      <td>1</td>\n",
              "      <td>1</td>\n",
              "      <td>2014-12-01</td>\n",
              "      <td>AA</td>\n",
              "      <td>AA</td>\n",
              "      <td>4</td>\n",
              "      <td>LAX</td>\n",
              "      <td>Los Angeles, CA</td>\n",
              "      <td>New York, NY</td>\n",
              "      <td>2144.0</td>\n",
              "      <td>54.0</td>\n",
              "      <td>3.0</td>\n",
              "      <td>0.0</td>\n",
              "      <td>0.0</td>\n",
              "      <td>0.0</td>\n",
              "      <td>51.0</td>\n",
              "      <td>NaN</td>\n",
              "    </tr>\n",
              "    <tr>\n",
              "      <th>4</th>\n",
              "      <td>1</td>\n",
              "      <td>1</td>\n",
              "      <td>2014-12-01</td>\n",
              "      <td>AA</td>\n",
              "      <td>AA</td>\n",
              "      <td>5</td>\n",
              "      <td>DFW</td>\n",
              "      <td>Dallas/Fort Worth, TX</td>\n",
              "      <td>Honolulu, HI</td>\n",
              "      <td>2033.0</td>\n",
              "      <td>173.0</td>\n",
              "      <td>168.0</td>\n",
              "      <td>0.0</td>\n",
              "      <td>5.0</td>\n",
              "      <td>0.0</td>\n",
              "      <td>0.0</td>\n",
              "      <td>NaN</td>\n",
              "    </tr>\n",
              "    <tr>\n",
              "      <th>5</th>\n",
              "      <td>1</td>\n",
              "      <td>1</td>\n",
              "      <td>2014-12-01</td>\n",
              "      <td>AA</td>\n",
              "      <td>AA</td>\n",
              "      <td>6</td>\n",
              "      <td>OGG</td>\n",
              "      <td>Kahului, HI</td>\n",
              "      <td>Dallas/Fort Worth, TX</td>\n",
              "      <td>541.0</td>\n",
              "      <td>31.0</td>\n",
              "      <td>1.0</td>\n",
              "      <td>0.0</td>\n",
              "      <td>0.0</td>\n",
              "      <td>0.0</td>\n",
              "      <td>30.0</td>\n",
              "      <td>NaN</td>\n",
              "    </tr>\n",
              "    <tr>\n",
              "      <th>6</th>\n",
              "      <td>1</td>\n",
              "      <td>1</td>\n",
              "      <td>2014-12-01</td>\n",
              "      <td>AA</td>\n",
              "      <td>AA</td>\n",
              "      <td>7</td>\n",
              "      <td>DFW</td>\n",
              "      <td>Dallas/Fort Worth, TX</td>\n",
              "      <td>Kahului, HI</td>\n",
              "      <td>1742.0</td>\n",
              "      <td>67.0</td>\n",
              "      <td>29.0</td>\n",
              "      <td>0.0</td>\n",
              "      <td>9.0</td>\n",
              "      <td>0.0</td>\n",
              "      <td>29.0</td>\n",
              "      <td>NaN</td>\n",
              "    </tr>\n",
              "    <tr>\n",
              "      <th>16</th>\n",
              "      <td>1</td>\n",
              "      <td>1</td>\n",
              "      <td>2014-12-01</td>\n",
              "      <td>AA</td>\n",
              "      <td>AA</td>\n",
              "      <td>19</td>\n",
              "      <td>JFK</td>\n",
              "      <td>New York, NY</td>\n",
              "      <td>Los Angeles, CA</td>\n",
              "      <td>1441.0</td>\n",
              "      <td>21.0</td>\n",
              "      <td>0.0</td>\n",
              "      <td>0.0</td>\n",
              "      <td>21.0</td>\n",
              "      <td>0.0</td>\n",
              "      <td>0.0</td>\n",
              "      <td>NaN</td>\n",
              "    </tr>\n",
              "    <tr>\n",
              "      <th>...</th>\n",
              "      <td>...</td>\n",
              "      <td>...</td>\n",
              "      <td>...</td>\n",
              "      <td>...</td>\n",
              "      <td>...</td>\n",
              "      <td>...</td>\n",
              "      <td>...</td>\n",
              "      <td>...</td>\n",
              "      <td>...</td>\n",
              "      <td>...</td>\n",
              "      <td>...</td>\n",
              "      <td>...</td>\n",
              "      <td>...</td>\n",
              "      <td>...</td>\n",
              "      <td>...</td>\n",
              "      <td>...</td>\n",
              "      <td>...</td>\n",
              "    </tr>\n",
              "    <tr>\n",
              "      <th>477168</th>\n",
              "      <td>31</td>\n",
              "      <td>3</td>\n",
              "      <td>2014-12-31</td>\n",
              "      <td>WN</td>\n",
              "      <td>WN</td>\n",
              "      <td>477</td>\n",
              "      <td>SMF</td>\n",
              "      <td>Sacramento, CA</td>\n",
              "      <td>Ontario, CA</td>\n",
              "      <td>1500.0</td>\n",
              "      <td>45.0</td>\n",
              "      <td>9.0</td>\n",
              "      <td>0.0</td>\n",
              "      <td>0.0</td>\n",
              "      <td>0.0</td>\n",
              "      <td>36.0</td>\n",
              "      <td>NaN</td>\n",
              "    </tr>\n",
              "    <tr>\n",
              "      <th>477173</th>\n",
              "      <td>31</td>\n",
              "      <td>3</td>\n",
              "      <td>2014-12-31</td>\n",
              "      <td>WN</td>\n",
              "      <td>WN</td>\n",
              "      <td>2088</td>\n",
              "      <td>SMF</td>\n",
              "      <td>Sacramento, CA</td>\n",
              "      <td>Phoenix, AZ</td>\n",
              "      <td>1601.0</td>\n",
              "      <td>36.0</td>\n",
              "      <td>7.0</td>\n",
              "      <td>0.0</td>\n",
              "      <td>6.0</td>\n",
              "      <td>0.0</td>\n",
              "      <td>23.0</td>\n",
              "      <td>NaN</td>\n",
              "    </tr>\n",
              "    <tr>\n",
              "      <th>477175</th>\n",
              "      <td>31</td>\n",
              "      <td>3</td>\n",
              "      <td>2014-12-31</td>\n",
              "      <td>WN</td>\n",
              "      <td>WN</td>\n",
              "      <td>4839</td>\n",
              "      <td>SMF</td>\n",
              "      <td>Sacramento, CA</td>\n",
              "      <td>Phoenix, AZ</td>\n",
              "      <td>1308.0</td>\n",
              "      <td>23.0</td>\n",
              "      <td>8.0</td>\n",
              "      <td>0.0</td>\n",
              "      <td>15.0</td>\n",
              "      <td>0.0</td>\n",
              "      <td>0.0</td>\n",
              "      <td>NaN</td>\n",
              "    </tr>\n",
              "    <tr>\n",
              "      <th>477179</th>\n",
              "      <td>31</td>\n",
              "      <td>3</td>\n",
              "      <td>2014-12-31</td>\n",
              "      <td>WN</td>\n",
              "      <td>WN</td>\n",
              "      <td>3128</td>\n",
              "      <td>SMF</td>\n",
              "      <td>Sacramento, CA</td>\n",
              "      <td>San Diego, CA</td>\n",
              "      <td>2026.0</td>\n",
              "      <td>21.0</td>\n",
              "      <td>0.0</td>\n",
              "      <td>0.0</td>\n",
              "      <td>0.0</td>\n",
              "      <td>0.0</td>\n",
              "      <td>21.0</td>\n",
              "      <td>NaN</td>\n",
              "    </tr>\n",
              "    <tr>\n",
              "      <th>477182</th>\n",
              "      <td>31</td>\n",
              "      <td>3</td>\n",
              "      <td>2014-12-31</td>\n",
              "      <td>WN</td>\n",
              "      <td>WN</td>\n",
              "      <td>178</td>\n",
              "      <td>SMF</td>\n",
              "      <td>Sacramento, CA</td>\n",
              "      <td>Seattle, WA</td>\n",
              "      <td>1521.0</td>\n",
              "      <td>36.0</td>\n",
              "      <td>36.0</td>\n",
              "      <td>0.0</td>\n",
              "      <td>0.0</td>\n",
              "      <td>0.0</td>\n",
              "      <td>0.0</td>\n",
              "      <td>NaN</td>\n",
              "    </tr>\n",
              "  </tbody>\n",
              "</table>\n",
              "<p>110163 rows × 17 columns</p>\n",
              "</div>\n",
              "      <button class=\"colab-df-convert\" onclick=\"convertToInteractive('df-9c42ebbc-74d4-4d67-9ae9-366fcb66f8ac')\"\n",
              "              title=\"Convert this dataframe to an interactive table.\"\n",
              "              style=\"display:none;\">\n",
              "        \n",
              "  <svg xmlns=\"http://www.w3.org/2000/svg\" height=\"24px\"viewBox=\"0 0 24 24\"\n",
              "       width=\"24px\">\n",
              "    <path d=\"M0 0h24v24H0V0z\" fill=\"none\"/>\n",
              "    <path d=\"M18.56 5.44l.94 2.06.94-2.06 2.06-.94-2.06-.94-.94-2.06-.94 2.06-2.06.94zm-11 1L8.5 8.5l.94-2.06 2.06-.94-2.06-.94L8.5 2.5l-.94 2.06-2.06.94zm10 10l.94 2.06.94-2.06 2.06-.94-2.06-.94-.94-2.06-.94 2.06-2.06.94z\"/><path d=\"M17.41 7.96l-1.37-1.37c-.4-.4-.92-.59-1.43-.59-.52 0-1.04.2-1.43.59L10.3 9.45l-7.72 7.72c-.78.78-.78 2.05 0 2.83L4 21.41c.39.39.9.59 1.41.59.51 0 1.02-.2 1.41-.59l7.78-7.78 2.81-2.81c.8-.78.8-2.07 0-2.86zM5.41 20L4 18.59l7.72-7.72 1.47 1.35L5.41 20z\"/>\n",
              "  </svg>\n",
              "      </button>\n",
              "      \n",
              "  <style>\n",
              "    .colab-df-container {\n",
              "      display:flex;\n",
              "      flex-wrap:wrap;\n",
              "      gap: 12px;\n",
              "    }\n",
              "\n",
              "    .colab-df-convert {\n",
              "      background-color: #E8F0FE;\n",
              "      border: none;\n",
              "      border-radius: 50%;\n",
              "      cursor: pointer;\n",
              "      display: none;\n",
              "      fill: #1967D2;\n",
              "      height: 32px;\n",
              "      padding: 0 0 0 0;\n",
              "      width: 32px;\n",
              "    }\n",
              "\n",
              "    .colab-df-convert:hover {\n",
              "      background-color: #E2EBFA;\n",
              "      box-shadow: 0px 1px 2px rgba(60, 64, 67, 0.3), 0px 1px 3px 1px rgba(60, 64, 67, 0.15);\n",
              "      fill: #174EA6;\n",
              "    }\n",
              "\n",
              "    [theme=dark] .colab-df-convert {\n",
              "      background-color: #3B4455;\n",
              "      fill: #D2E3FC;\n",
              "    }\n",
              "\n",
              "    [theme=dark] .colab-df-convert:hover {\n",
              "      background-color: #434B5C;\n",
              "      box-shadow: 0px 1px 3px 1px rgba(0, 0, 0, 0.15);\n",
              "      filter: drop-shadow(0px 1px 2px rgba(0, 0, 0, 0.3));\n",
              "      fill: #FFFFFF;\n",
              "    }\n",
              "  </style>\n",
              "\n",
              "      <script>\n",
              "        const buttonEl =\n",
              "          document.querySelector('#df-9c42ebbc-74d4-4d67-9ae9-366fcb66f8ac button.colab-df-convert');\n",
              "        buttonEl.style.display =\n",
              "          google.colab.kernel.accessAllowed ? 'block' : 'none';\n",
              "\n",
              "        async function convertToInteractive(key) {\n",
              "          const element = document.querySelector('#df-9c42ebbc-74d4-4d67-9ae9-366fcb66f8ac');\n",
              "          const dataTable =\n",
              "            await google.colab.kernel.invokeFunction('convertToInteractive',\n",
              "                                                     [key], {});\n",
              "          if (!dataTable) return;\n",
              "\n",
              "          const docLinkHtml = 'Like what you see? Visit the ' +\n",
              "            '<a target=\"_blank\" href=https://colab.research.google.com/notebooks/data_table.ipynb>data table notebook</a>'\n",
              "            + ' to learn more about interactive tables.';\n",
              "          element.innerHTML = '';\n",
              "          dataTable['output_type'] = 'display_data';\n",
              "          await google.colab.output.renderOutput(dataTable, element);\n",
              "          const docLink = document.createElement('div');\n",
              "          docLink.innerHTML = docLinkHtml;\n",
              "          element.appendChild(docLink);\n",
              "        }\n",
              "      </script>\n",
              "    </div>\n",
              "  </div>\n",
              "  "
            ]
          },
          "metadata": {},
          "execution_count": 106
        }
      ]
    },
    {
      "cell_type": "markdown",
      "source": [
        "Nothing conclusive about the above."
      ],
      "metadata": {
        "id": "S_IgucTLFsNt"
      }
    },
    {
      "cell_type": "markdown",
      "source": [
        "If we look at the NAN values for the sub reasons, if one is NAN, they are all NAN."
      ],
      "metadata": {
        "id": "beMH722YEv6v"
      }
    },
    {
      "cell_type": "code",
      "source": [
        "airline_nan = airline[['CARRIER_DELAY','WEATHER_DELAY', 'NAS_DELAY','SECURITY_DELAY', 'LATE_AIRCRAFT_DELAY']]"
      ],
      "metadata": {
        "id": "2169Gjq4LbqV"
      },
      "execution_count": 107,
      "outputs": []
    },
    {
      "cell_type": "code",
      "source": [
        "airline_nan['ALL_NAN'] = pd.notnull(airline_nan).any(axis=1);"
      ],
      "metadata": {
        "colab": {
          "base_uri": "https://localhost:8080/"
        },
        "id": "RCTZ-SrnMnYO",
        "outputId": "1588a00d-e52f-4c61-9f2e-5998f698576d"
      },
      "execution_count": 108,
      "outputs": [
        {
          "output_type": "stream",
          "name": "stderr",
          "text": [
            "/usr/local/lib/python3.7/dist-packages/ipykernel_launcher.py:1: SettingWithCopyWarning: \n",
            "A value is trying to be set on a copy of a slice from a DataFrame.\n",
            "Try using .loc[row_indexer,col_indexer] = value instead\n",
            "\n",
            "See the caveats in the documentation: https://pandas.pydata.org/pandas-docs/stable/user_guide/indexing.html#returning-a-view-versus-a-copy\n",
            "  \"\"\"Entry point for launching an IPython kernel.\n"
          ]
        }
      ]
    },
    {
      "cell_type": "code",
      "source": [
        "airline_nan[airline_nan['ALL_NAN'] == False].info()"
      ],
      "metadata": {
        "colab": {
          "base_uri": "https://localhost:8080/"
        },
        "id": "kXLG-9YIMzJ8",
        "outputId": "458f2703-43b8-406f-fdae-8ce8dd7a2229"
      },
      "execution_count": 109,
      "outputs": [
        {
          "output_type": "stream",
          "name": "stdout",
          "text": [
            "<class 'pandas.core.frame.DataFrame'>\n",
            "Int64Index: 367020 entries, 0 to 477181\n",
            "Data columns (total 6 columns):\n",
            " #   Column               Non-Null Count   Dtype  \n",
            "---  ------               --------------   -----  \n",
            " 0   CARRIER_DELAY        0 non-null       float64\n",
            " 1   WEATHER_DELAY        0 non-null       float64\n",
            " 2   NAS_DELAY            0 non-null       float64\n",
            " 3   SECURITY_DELAY       0 non-null       float64\n",
            " 4   LATE_AIRCRAFT_DELAY  0 non-null       float64\n",
            " 5   ALL_NAN              367020 non-null  bool   \n",
            "dtypes: bool(1), float64(5)\n",
            "memory usage: 17.2 MB\n"
          ]
        }
      ]
    },
    {
      "cell_type": "markdown",
      "source": [
        "## Deep dive into Arrival Time"
      ],
      "metadata": {
        "id": "CyJlPCRT81S2"
      }
    },
    {
      "cell_type": "code",
      "source": [
        "plt.hist(airline.ARR_TIME, bins = 200);"
      ],
      "metadata": {
        "colab": {
          "base_uri": "https://localhost:8080/",
          "height": 265
        },
        "id": "HKgwjAP_-aQs",
        "outputId": "d56603e4-6076-4b00-bc48-8ee5a53e2a42"
      },
      "execution_count": 110,
      "outputs": [
        {
          "output_type": "display_data",
          "data": {
            "text/plain": [
              "<Figure size 432x288 with 1 Axes>"
            ],
            "image/png": "[encoded data removed]"
          },
          "metadata": {
            "needs_background": "light"
          }
        }
      ]
    },
    {
      "cell_type": "code",
      "source": [
        "# median arrival time by flight number\n",
        "arr_time_dist = airline.groupby('FL_NUM')['ARR_TIME'].count()"
      ],
      "metadata": {
        "id": "nQ3Suoyl84mv"
      },
      "execution_count": 111,
      "outputs": []
    },
    {
      "cell_type": "code",
      "source": [
        "arr_time_dist"
      ],
      "metadata": {
        "colab": {
          "base_uri": "https://localhost:8080/"
        },
        "id": "-CW0_6pe9NQP",
        "outputId": "a35ee7c6-d285-40d4-b737-e40901c7cfc6"
      },
      "execution_count": 112,
      "outputs": [
        {
          "output_type": "execute_result",
          "data": {
            "text/plain": [
              "FL_NUM\n",
              "1       174\n",
              "2       196\n",
              "3       221\n",
              "4       172\n",
              "5       200\n",
              "       ... \n",
              "7432     58\n",
              "7433      2\n",
              "7438     40\n",
              "7439      2\n",
              "9320      1\n",
              "Name: ARR_TIME, Length: 6336, dtype: int64"
            ]
          },
          "metadata": {},
          "execution_count": 112
        }
      ]
    },
    {
      "cell_type": "markdown",
      "source": [
        "## Deep dive into some of the column values"
      ],
      "metadata": {
        "id": "mBipW0JpQ2Wc"
      }
    },
    {
      "cell_type": "markdown",
      "source": [
        "## It appears the Unique Carrier and Carrier columns are the same"
      ],
      "metadata": {
        "id": "kLtHuky3RTfz"
      }
    },
    {
      "cell_type": "code",
      "source": [
        "airline.UNIQUE_CARRIER.value_counts().plot(kind = 'bar');"
      ],
      "metadata": {
        "colab": {
          "base_uri": "https://localhost:8080/",
          "height": 273
        },
        "id": "PUwBG0xPQ4p3",
        "outputId": "0ff0902d-b400-4cd6-c834-559e809df470"
      },
      "execution_count": 113,
      "outputs": [
        {
          "output_type": "display_data",
          "data": {
            "text/plain": [
              "<Figure size 432x288 with 1 Axes>"
            ],
            "image/png": "[encoded data removed]"
          },
          "metadata": {
            "needs_background": "light"
          }
        }
      ]
    },
    {
      "cell_type": "code",
      "source": [
        "airline.CARRIER.value_counts().plot(kind = 'bar');"
      ],
      "metadata": {
        "colab": {
          "base_uri": "https://localhost:8080/",
          "height": 273
        },
        "id": "EJzMs4AyRLJa",
        "outputId": "8ac48590-9dda-4057-e6b4-55d5e443f78e"
      },
      "execution_count": 114,
      "outputs": [
        {
          "output_type": "display_data",
          "data": {
            "text/plain": [
              "<Figure size 432x288 with 1 Axes>"
            ],
            "image/png": "[encoded data removed]"
          },
          "metadata": {
            "needs_background": "light"
          }
        }
      ]
    },
    {
      "cell_type": "markdown",
      "source": [
        "## Look at origin and destinations\n",
        "\n",
        "The destination data is too dense to make good sense out of. Also, for the outlier origin data, they tend to be in very small airports, so hard to measure total impact."
      ],
      "metadata": {
        "id": "GWNt3oncF4wr"
      }
    },
    {
      "cell_type": "code",
      "source": [
        "airline.ORIGIN_CITY_NAME.value_counts().plot(kind = 'barh');"
      ],
      "metadata": {
        "colab": {
          "base_uri": "https://localhost:8080/",
          "height": 269
        },
        "id": "rEe6J3u3F9OF",
        "outputId": "b5d5c6d5-119c-4955-b8d6-5628756d584c"
      },
      "execution_count": 115,
      "outputs": [
        {
          "output_type": "display_data",
          "data": {
            "text/plain": [
              "<Figure size 432x288 with 1 Axes>"
            ],
            "image/png": "[encoded data removed]"
          },
          "metadata": {
            "needs_background": "light"
          }
        }
      ]
    },
    {
      "cell_type": "markdown",
      "source": [
        "This doesn't tell us very much. We should look at average delays"
      ],
      "metadata": {
        "id": "HVTjGEmsGe0B"
      }
    },
    {
      "cell_type": "code",
      "source": [
        "airline.groupby('ORIGIN_CITY_NAME')['ARR_DELAY'].agg({'mean','count'})\n",
        "# orig_city_mean.sort_values('mean',ascending=False).plot(kind='barh');"
      ],
      "metadata": {
        "colab": {
          "base_uri": "https://localhost:8080/",
          "height": 455
        },
        "id": "lhkoOrpPGinT",
        "outputId": "ac9fb0fa-f98f-4d10-dfd6-f4a0ac8e4909"
      },
      "execution_count": 116,
      "outputs": [
        {
          "output_type": "execute_result",
          "data": {
            "text/plain": [
              "                       mean  count\n",
              "ORIGIN_CITY_NAME                  \n",
              "Aberdeen, SD      11.737705     61\n",
              "Abilene, TX       22.004464    224\n",
              "Adak Island, AK   10.714286      7\n",
              "Aguadilla, PR      0.931298    131\n",
              "Akron, OH         -3.612416    596\n",
              "...                     ...    ...\n",
              "Wilmington, NC     0.830065    153\n",
              "Worcester, MA     -7.482759     58\n",
              "Wrangell, AK      11.133333     60\n",
              "Yakutat, AK        1.338983     59\n",
              "Yuma, AZ           5.427778    180\n",
              "\n",
              "[308 rows x 2 columns]"
            ],
            "text/html": [
              "\n",
              "  <div id=\"df-8a1a4c86-77ec-490b-bd45-09a00ba38a00\">\n",
              "    <div class=\"colab-df-container\">\n",
              "      <div>\n",
              "<style scoped>\n",
              "    .dataframe tbody tr th:only-of-type {\n",
              "        vertical-align: middle;\n",
              "    }\n",
              "\n",
              "    .dataframe tbody tr th {\n",
              "        vertical-align: top;\n",
              "    }\n",
              "\n",
              "    .dataframe thead th {\n",
              "        text-align: right;\n",
              "    }\n",
              "</style>\n",
              "<table border=\"1\" class=\"dataframe\">\n",
              "  <thead>\n",
              "    <tr style=\"text-align: right;\">\n",
              "      <th></th>\n",
              "      <th>mean</th>\n",
              "      <th>count</th>\n",
              "    </tr>\n",
              "    <tr>\n",
              "      <th>ORIGIN_CITY_NAME</th>\n",
              "      <th></th>\n",
              "      <th></th>\n",
              "    </tr>\n",
              "  </thead>\n",
              "  <tbody>\n",
              "    <tr>\n",
              "      <th>Aberdeen, SD</th>\n",
              "      <td>11.737705</td>\n",
              "      <td>61</td>\n",
              "    </tr>\n",
              "    <tr>\n",
              "      <th>Abilene, TX</th>\n",
              "      <td>22.004464</td>\n",
              "      <td>224</td>\n",
              "    </tr>\n",
              "    <tr>\n",
              "      <th>Adak Island, AK</th>\n",
              "      <td>10.714286</td>\n",
              "      <td>7</td>\n",
              "    </tr>\n",
              "    <tr>\n",
              "      <th>Aguadilla, PR</th>\n",
              "      <td>0.931298</td>\n",
              "      <td>131</td>\n",
              "    </tr>\n",
              "    <tr>\n",
              "      <th>Akron, OH</th>\n",
              "      <td>-3.612416</td>\n",
              "      <td>596</td>\n",
              "    </tr>\n",
              "    <tr>\n",
              "      <th>...</th>\n",
              "      <td>...</td>\n",
              "      <td>...</td>\n",
              "    </tr>\n",
              "    <tr>\n",
              "      <th>Wilmington, NC</th>\n",
              "      <td>0.830065</td>\n",
              "      <td>153</td>\n",
              "    </tr>\n",
              "    <tr>\n",
              "      <th>Worcester, MA</th>\n",
              "      <td>-7.482759</td>\n",
              "      <td>58</td>\n",
              "    </tr>\n",
              "    <tr>\n",
              "      <th>Wrangell, AK</th>\n",
              "      <td>11.133333</td>\n",
              "      <td>60</td>\n",
              "    </tr>\n",
              "    <tr>\n",
              "      <th>Yakutat, AK</th>\n",
              "      <td>1.338983</td>\n",
              "      <td>59</td>\n",
              "    </tr>\n",
              "    <tr>\n",
              "      <th>Yuma, AZ</th>\n",
              "      <td>5.427778</td>\n",
              "      <td>180</td>\n",
              "    </tr>\n",
              "  </tbody>\n",
              "</table>\n",
              "<p>308 rows × 2 columns</p>\n",
              "</div>\n",
              "      <button class=\"colab-df-convert\" onclick=\"convertToInteractive('df-8a1a4c86-77ec-490b-bd45-09a00ba38a00')\"\n",
              "              title=\"Convert this dataframe to an interactive table.\"\n",
              "              style=\"display:none;\">\n",
              "        \n",
              "  <svg xmlns=\"http://www.w3.org/2000/svg\" height=\"24px\"viewBox=\"0 0 24 24\"\n",
              "       width=\"24px\">\n",
              "    <path d=\"M0 0h24v24H0V0z\" fill=\"none\"/>\n",
              "    <path d=\"M18.56 5.44l.94 2.06.94-2.06 2.06-.94-2.06-.94-.94-2.06-.94 2.06-2.06.94zm-11 1L8.5 8.5l.94-2.06 2.06-.94-2.06-.94L8.5 2.5l-.94 2.06-2.06.94zm10 10l.94 2.06.94-2.06 2.06-.94-2.06-.94-.94-2.06-.94 2.06-2.06.94z\"/><path d=\"M17.41 7.96l-1.37-1.37c-.4-.4-.92-.59-1.43-.59-.52 0-1.04.2-1.43.59L10.3 9.45l-7.72 7.72c-.78.78-.78 2.05 0 2.83L4 21.41c.39.39.9.59 1.41.59.51 0 1.02-.2 1.41-.59l7.78-7.78 2.81-2.81c.8-.78.8-2.07 0-2.86zM5.41 20L4 18.59l7.72-7.72 1.47 1.35L5.41 20z\"/>\n",
              "  </svg>\n",
              "      </button>\n",
              "      \n",
              "  <style>\n",
              "    .colab-df-container {\n",
              "      display:flex;\n",
              "      flex-wrap:wrap;\n",
              "      gap: 12px;\n",
              "    }\n",
              "\n",
              "    .colab-df-convert {\n",
              "      background-color: #E8F0FE;\n",
              "      border: none;\n",
              "      border-radius: 50%;\n",
              "      cursor: pointer;\n",
              "      display: none;\n",
              "      fill: #1967D2;\n",
              "      height: 32px;\n",
              "      padding: 0 0 0 0;\n",
              "      width: 32px;\n",
              "    }\n",
              "\n",
              "    .colab-df-convert:hover {\n",
              "      background-color: #E2EBFA;\n",
              "      box-shadow: 0px 1px 2px rgba(60, 64, 67, 0.3), 0px 1px 3px 1px rgba(60, 64, 67, 0.15);\n",
              "      fill: #174EA6;\n",
              "    }\n",
              "\n",
              "    [theme=dark] .colab-df-convert {\n",
              "      background-color: #3B4455;\n",
              "      fill: #D2E3FC;\n",
              "    }\n",
              "\n",
              "    [theme=dark] .colab-df-convert:hover {\n",
              "      background-color: #434B5C;\n",
              "      box-shadow: 0px 1px 3px 1px rgba(0, 0, 0, 0.15);\n",
              "      filter: drop-shadow(0px 1px 2px rgba(0, 0, 0, 0.3));\n",
              "      fill: #FFFFFF;\n",
              "    }\n",
              "  </style>\n",
              "\n",
              "      <script>\n",
              "        const buttonEl =\n",
              "          document.querySelector('#df-8a1a4c86-77ec-490b-bd45-09a00ba38a00 button.colab-df-convert');\n",
              "        buttonEl.style.display =\n",
              "          google.colab.kernel.accessAllowed ? 'block' : 'none';\n",
              "\n",
              "        async function convertToInteractive(key) {\n",
              "          const element = document.querySelector('#df-8a1a4c86-77ec-490b-bd45-09a00ba38a00');\n",
              "          const dataTable =\n",
              "            await google.colab.kernel.invokeFunction('convertToInteractive',\n",
              "                                                     [key], {});\n",
              "          if (!dataTable) return;\n",
              "\n",
              "          const docLinkHtml = 'Like what you see? Visit the ' +\n",
              "            '<a target=\"_blank\" href=https://colab.research.google.com/notebooks/data_table.ipynb>data table notebook</a>'\n",
              "            + ' to learn more about interactive tables.';\n",
              "          element.innerHTML = '';\n",
              "          dataTable['output_type'] = 'display_data';\n",
              "          await google.colab.output.renderOutput(dataTable, element);\n",
              "          const docLink = document.createElement('div');\n",
              "          docLink.innerHTML = docLinkHtml;\n",
              "          element.appendChild(docLink);\n",
              "        }\n",
              "      </script>\n",
              "    </div>\n",
              "  </div>\n",
              "  "
            ]
          },
          "metadata": {},
          "execution_count": 116
        }
      ]
    },
    {
      "cell_type": "markdown",
      "source": [
        "This also doesn't seem to tell us much."
      ],
      "metadata": {
        "id": "d1DF9yg_LKqP"
      }
    },
    {
      "cell_type": "markdown",
      "source": [
        "# Hypotheses on the distribution of the Delay Values.\n",
        "* Carrier Delay may be due to which carrier it is.\n",
        "* Weather Delay may be either related to either the destination or arrival city. NAS Delay is also a form of weather delay, so may be similar.\n",
        "* Security Delay may be due to origin airport.\n",
        "* Late aircraft may be due to origin airport.\n",
        "* Certain delays may have more delays than others."
      ],
      "metadata": {
        "id": "4YRjOkDnNrgw"
      }
    },
    {
      "cell_type": "markdown",
      "source": [
        "### See if Carrier has any impact on delays"
      ],
      "metadata": {
        "id": "19gW7SLvVevd"
      }
    },
    {
      "cell_type": "code",
      "source": [
        "airline.groupby('CARRIER')['ARR_TIME'].mean().plot(kind = 'bar', rot=0);"
      ],
      "metadata": {
        "colab": {
          "base_uri": "https://localhost:8080/",
          "height": 282
        },
        "id": "tbklyjmVSr-F",
        "outputId": "609303c2-5632-4a14-a9cc-f1a9c2bd6968"
      },
      "execution_count": 117,
      "outputs": [
        {
          "output_type": "display_data",
          "data": {
            "text/plain": [
              "<Figure size 432x288 with 1 Axes>"
            ],
            "image/png": "[encoded data removed]"
          },
          "metadata": {
            "needs_background": "light"
          }
        }
      ]
    },
    {
      "cell_type": "code",
      "source": [
        "airline.groupby('CARRIER')['CARRIER_DELAY'].mean().plot(kind = 'bar', rot=0);"
      ],
      "metadata": {
        "colab": {
          "base_uri": "https://localhost:8080/",
          "height": 279
        },
        "id": "v9JCuXBeTU7x",
        "outputId": "fd6b68cb-478b-473c-8032-a910aa611328"
      },
      "execution_count": 118,
      "outputs": [
        {
          "output_type": "display_data",
          "data": {
            "text/plain": [
              "<Figure size 432x288 with 1 Axes>"
            ],
            "image/png": "[encoded data removed]"
          },
          "metadata": {
            "needs_background": "light"
          }
        }
      ]
    },
    {
      "cell_type": "code",
      "source": [
        "airline.groupby('CARRIER')['WEATHER_DELAY'].mean().plot(kind = 'bar', rot=0);"
      ],
      "metadata": {
        "colab": {
          "base_uri": "https://localhost:8080/",
          "height": 279
        },
        "id": "goOykYS0VbjM",
        "outputId": "5c92ac33-af75-4c36-aa51-3324a15f3a72"
      },
      "execution_count": 119,
      "outputs": [
        {
          "output_type": "display_data",
          "data": {
            "text/plain": [
              "<Figure size 432x288 with 1 Axes>"
            ],
            "image/png": "[encoded data removed]"
          },
          "metadata": {
            "needs_background": "light"
          }
        }
      ]
    },
    {
      "cell_type": "code",
      "source": [
        "airline.groupby('CARRIER')['SECURITY_DELAY'].mean().plot(kind = 'bar', rot=0);"
      ],
      "metadata": {
        "colab": {
          "base_uri": "https://localhost:8080/",
          "height": 279
        },
        "id": "JLLvmzegWBxA",
        "outputId": "d3e63b52-4ec7-4371-9dd7-02e9b05b57e9"
      },
      "execution_count": 120,
      "outputs": [
        {
          "output_type": "display_data",
          "data": {
            "text/plain": [
              "<Figure size 432x288 with 1 Axes>"
            ],
            "image/png": "[encoded data removed]"
          },
          "metadata": {
            "needs_background": "light"
          }
        }
      ]
    },
    {
      "cell_type": "code",
      "source": [
        "airline.groupby('CARRIER')['LATE_AIRCRAFT_DELAY'].mean().plot(kind = 'bar', rot=0);"
      ],
      "metadata": {
        "colab": {
          "base_uri": "https://localhost:8080/",
          "height": 279
        },
        "id": "Du7TSyxnWMBP",
        "outputId": "a79aa374-954e-481f-e101-66712cff5209"
      },
      "execution_count": 121,
      "outputs": [
        {
          "output_type": "display_data",
          "data": {
            "text/plain": [
              "<Figure size 432x288 with 1 Axes>"
            ],
            "image/png": "[encoded data removed]"
          },
          "metadata": {
            "needs_background": "light"
          }
        }
      ]
    },
    {
      "cell_type": "markdown",
      "source": [
        "### Let's see if date of month or week has any impact. No impact.\n"
      ],
      "metadata": {
        "id": "I5RMYn8GWbH0"
      }
    },
    {
      "cell_type": "code",
      "source": [
        "airline.groupby('DAY_OF_MONTH')['ARR_TIME'].std().plot(kind = 'bar')"
      ],
      "metadata": {
        "colab": {
          "base_uri": "https://localhost:8080/",
          "height": 300
        },
        "id": "YNl5EZ0kWhJ3",
        "outputId": "971add80-0909-4132-e744-e27e95504372"
      },
      "execution_count": 122,
      "outputs": [
        {
          "output_type": "execute_result",
          "data": {
            "text/plain": [
              "<matplotlib.axes._subplots.AxesSubplot at 0x7f6806b561d0>"
            ]
          },
          "metadata": {},
          "execution_count": 122
        },
        {
          "output_type": "display_data",
          "data": {
            "text/plain": [
              "<Figure size 432x288 with 1 Axes>"
            ],
            "image/png": "[encoded data removed]"
          },
          "metadata": {
            "needs_background": "light"
          }
        }
      ]
    },
    {
      "cell_type": "code",
      "source": [
        "airline.groupby('DAY_OF_WEEK')['ARR_TIME'].mean().plot(kind = 'bar')"
      ],
      "metadata": {
        "colab": {
          "base_uri": "https://localhost:8080/",
          "height": 294
        },
        "id": "QnTNNlRCY7re",
        "outputId": "e8526059-7898-4bb9-c2f5-55d86917adf7"
      },
      "execution_count": 123,
      "outputs": [
        {
          "output_type": "execute_result",
          "data": {
            "text/plain": [
              "<matplotlib.axes._subplots.AxesSubplot at 0x7f6806c0aa10>"
            ]
          },
          "metadata": {},
          "execution_count": 123
        },
        {
          "output_type": "display_data",
          "data": {
            "text/plain": [
              "<Figure size 432x288 with 1 Axes>"
            ],
            "image/png": "[encoded data removed]"
          },
          "metadata": {
            "needs_background": "light"
          }
        }
      ]
    },
    {
      "cell_type": "markdown",
      "source": [
        "# We're going to fill in the NANs now. 3 approaches:\n",
        "* For values where it ARR_TIME and sub reasons are NAN, we're going to go with the median value of the column. The histograms are really skewed by outlier values, so we do not want to use the mean\n",
        "* For the values where ARR_TIME has value, but sub reasons are NAN, we're going to normalize it to the other NAN column distribution.\n",
        "* For the missing values of Arrival Time, just use the median of their flight codes\n"
      ],
      "metadata": {
        "id": "Quxj8-j9LOpA"
      }
    },
    {
      "cell_type": "markdown",
      "source": [
        "### Filling in the missing arrival times based on flight number. \n",
        "Given that flights, as designated by flight numbers, tend to be scheduled for the same time, using the median flight number should be sufficient. There is some risk that there may only be one datapoint for a flight number, and that datapoint is already NaN. However, upon running the analysis, it appears that all of the flight numbers have sufficient data\n"
      ],
      "metadata": {
        "id": "tkv0T0Po-IN1"
      }
    },
    {
      "cell_type": "code",
      "source": [
        "airline.ARR_TIME.fillna(airline.groupby('FL_NUM')['ARR_TIME'].transform('mean'),inplace=True)\n",
        "airline.info()"
      ],
      "metadata": {
        "colab": {
          "base_uri": "https://localhost:8080/"
        },
        "id": "Ey0OfCM--Jax",
        "outputId": "e24fe058-8da3-4ba8-b578-a29b82579a29"
      },
      "execution_count": 124,
      "outputs": [
        {
          "output_type": "stream",
          "name": "stdout",
          "text": [
            "<class 'pandas.core.frame.DataFrame'>\n",
            "RangeIndex: 477183 entries, 0 to 477182\n",
            "Data columns (total 17 columns):\n",
            " #   Column               Non-Null Count   Dtype  \n",
            "---  ------               --------------   -----  \n",
            " 0   DAY_OF_MONTH         477183 non-null  int64  \n",
            " 1   DAY_OF_WEEK          477183 non-null  int64  \n",
            " 2   FL_DATE              477183 non-null  object \n",
            " 3   UNIQUE_CARRIER       477183 non-null  object \n",
            " 4   CARRIER              477183 non-null  object \n",
            " 5   FL_NUM               477183 non-null  int64  \n",
            " 6   ORIGIN               477183 non-null  object \n",
            " 7   ORIGIN_CITY_NAME     477183 non-null  object \n",
            " 8   DEST_CITY_NAME       477183 non-null  object \n",
            " 9   ARR_TIME             477182 non-null  float64\n",
            " 10  ARR_DELAY            469400 non-null  float64\n",
            " 11  CARRIER_DELAY        110163 non-null  float64\n",
            " 12  WEATHER_DELAY        110163 non-null  float64\n",
            " 13  NAS_DELAY            110163 non-null  float64\n",
            " 14  SECURITY_DELAY       110163 non-null  float64\n",
            " 15  LATE_AIRCRAFT_DELAY  110163 non-null  float64\n",
            " 16  Unnamed: 16          0 non-null       float64\n",
            "dtypes: float64(8), int64(3), object(6)\n",
            "memory usage: 61.9+ MB\n"
          ]
        }
      ]
    },
    {
      "cell_type": "markdown",
      "source": [
        "## Fixing the NAN values for NANs for ARR and sub reasons.\n",
        "\n",
        "In this case, we think we should use the median values based on carrier and origin."
      ],
      "metadata": {
        "id": "EhX2VwtZMo-G"
      }
    },
    {
      "cell_type": "code",
      "source": [
        "airline.ARR_DELAY.fillna(airline.groupby(['CARRIER','ORIGIN'])['ARR_DELAY'].transform('median'),inplace=True)\n",
        "airline.info()"
      ],
      "metadata": {
        "colab": {
          "base_uri": "https://localhost:8080/"
        },
        "id": "AeRmB_8yMyw-",
        "outputId": "7d2abf00-db5a-49c5-a005-2aebf9519aae"
      },
      "execution_count": 125,
      "outputs": [
        {
          "output_type": "stream",
          "name": "stdout",
          "text": [
            "<class 'pandas.core.frame.DataFrame'>\n",
            "RangeIndex: 477183 entries, 0 to 477182\n",
            "Data columns (total 17 columns):\n",
            " #   Column               Non-Null Count   Dtype  \n",
            "---  ------               --------------   -----  \n",
            " 0   DAY_OF_MONTH         477183 non-null  int64  \n",
            " 1   DAY_OF_WEEK          477183 non-null  int64  \n",
            " 2   FL_DATE              477183 non-null  object \n",
            " 3   UNIQUE_CARRIER       477183 non-null  object \n",
            " 4   CARRIER              477183 non-null  object \n",
            " 5   FL_NUM               477183 non-null  int64  \n",
            " 6   ORIGIN               477183 non-null  object \n",
            " 7   ORIGIN_CITY_NAME     477183 non-null  object \n",
            " 8   DEST_CITY_NAME       477183 non-null  object \n",
            " 9   ARR_TIME             477182 non-null  float64\n",
            " 10  ARR_DELAY            477183 non-null  float64\n",
            " 11  CARRIER_DELAY        110163 non-null  float64\n",
            " 12  WEATHER_DELAY        110163 non-null  float64\n",
            " 13  NAS_DELAY            110163 non-null  float64\n",
            " 14  SECURITY_DELAY       110163 non-null  float64\n",
            " 15  LATE_AIRCRAFT_DELAY  110163 non-null  float64\n",
            " 16  Unnamed: 16          0 non-null       float64\n",
            "dtypes: float64(8), int64(3), object(6)\n",
            "memory usage: 61.9+ MB\n"
          ]
        }
      ]
    },
    {
      "cell_type": "code",
      "source": [
        "plt.hist(airline.ARR_DELAY, bins = delay_bins);"
      ],
      "metadata": {
        "colab": {
          "base_uri": "https://localhost:8080/",
          "height": 265
        },
        "id": "HqWDv7Un939t",
        "outputId": "2b5af6a8-086b-43e9-cc27-42bcb6fe347d"
      },
      "execution_count": 126,
      "outputs": [
        {
          "output_type": "display_data",
          "data": {
            "text/plain": [
              "<Figure size 432x288 with 1 Axes>"
            ],
            "image/png": "[encoded data removed]"
          },
          "metadata": {
            "needs_background": "light"
          }
        }
      ]
    },
    {
      "cell_type": "markdown",
      "source": [
        "## Fixing the rows where there is a ARR_TIME value, but NAN values for others.\n",
        "* Look at the distribution of sub delay reasons.\n",
        "* Apply the average to NAN values."
      ],
      "metadata": {
        "id": "VPBvRKblZm4X"
      }
    },
    {
      "cell_type": "code",
      "source": [
        "# calculate the weights for the different reasons.\n",
        "carrier_delay_perc = airline[airline['CARRIER_DELAY'].notnull()].CARRIER_DELAY.sum() / airline[airline['CARRIER_DELAY'].notnull()].ARR_DELAY.sum()\n",
        "weather_delay_perc = airline[airline['CARRIER_DELAY'].notnull()].WEATHER_DELAY.sum() / airline[airline['CARRIER_DELAY'].notnull()].ARR_DELAY.sum()\n",
        "nas_delay_perc = airline[airline['CARRIER_DELAY'].notnull()].NAS_DELAY.sum() / airline[airline['CARRIER_DELAY'].notnull()].ARR_DELAY.sum()\n",
        "security_delay_perc = airline[airline['CARRIER_DELAY'].notnull()].SECURITY_DELAY.sum() / airline[airline['CARRIER_DELAY'].notnull()].ARR_DELAY.sum()\n",
        "aircraft_delay_perc = airline[airline['CARRIER_DELAY'].notnull()].LATE_AIRCRAFT_DELAY.sum() / airline[airline['CARRIER_DELAY'].notnull()].ARR_DELAY.sum()\n",
        "\n",
        "carrier_delay_perc + weather_delay_perc + nas_delay_perc + security_delay_perc + aircraft_delay_perc"
      ],
      "metadata": {
        "colab": {
          "base_uri": "https://localhost:8080/"
        },
        "id": "XCS30-0lbihg",
        "outputId": "55f3df1f-3d33-47fe-dd56-7fc3b1fa40ef"
      },
      "execution_count": 127,
      "outputs": [
        {
          "output_type": "execute_result",
          "data": {
            "text/plain": [
              "1.0"
            ]
          },
          "metadata": {},
          "execution_count": 127
        }
      ]
    },
    {
      "cell_type": "code",
      "source": [
        "airline['CARRIER_DELAY'].fillna(airline['ARR_DELAY'] * carrier_delay_perc, inplace=True)\n",
        "airline['WEATHER_DELAY'].fillna(airline['ARR_DELAY'] * weather_delay_perc, inplace=True)\n",
        "airline['NAS_DELAY'].fillna(airline['ARR_DELAY'] * nas_delay_perc, inplace=True)\n",
        "airline['SECURITY_DELAY'].fillna(airline['ARR_DELAY'] * security_delay_perc, inplace=True)\n",
        "airline['LATE_AIRCRAFT_DELAY'].fillna(airline['ARR_DELAY'] * aircraft_delay_perc, inplace=True)\n",
        "airline.info()"
      ],
      "metadata": {
        "id": "QZE3j59qeHkE",
        "colab": {
          "base_uri": "https://localhost:8080/"
        },
        "outputId": "d998d75d-1bb6-4dcc-fa8c-2bc673eb9cc7"
      },
      "execution_count": 128,
      "outputs": [
        {
          "output_type": "stream",
          "name": "stdout",
          "text": [
            "<class 'pandas.core.frame.DataFrame'>\n",
            "RangeIndex: 477183 entries, 0 to 477182\n",
            "Data columns (total 17 columns):\n",
            " #   Column               Non-Null Count   Dtype  \n",
            "---  ------               --------------   -----  \n",
            " 0   DAY_OF_MONTH         477183 non-null  int64  \n",
            " 1   DAY_OF_WEEK          477183 non-null  int64  \n",
            " 2   FL_DATE              477183 non-null  object \n",
            " 3   UNIQUE_CARRIER       477183 non-null  object \n",
            " 4   CARRIER              477183 non-null  object \n",
            " 5   FL_NUM               477183 non-null  int64  \n",
            " 6   ORIGIN               477183 non-null  object \n",
            " 7   ORIGIN_CITY_NAME     477183 non-null  object \n",
            " 8   DEST_CITY_NAME       477183 non-null  object \n",
            " 9   ARR_TIME             477182 non-null  float64\n",
            " 10  ARR_DELAY            477183 non-null  float64\n",
            " 11  CARRIER_DELAY        477183 non-null  float64\n",
            " 12  WEATHER_DELAY        477183 non-null  float64\n",
            " 13  NAS_DELAY            477183 non-null  float64\n",
            " 14  SECURITY_DELAY       477183 non-null  float64\n",
            " 15  LATE_AIRCRAFT_DELAY  477183 non-null  float64\n",
            " 16  Unnamed: 16          0 non-null       float64\n",
            "dtypes: float64(8), int64(3), object(6)\n",
            "memory usage: 61.9+ MB\n"
          ]
        }
      ]
    }
  ]
}