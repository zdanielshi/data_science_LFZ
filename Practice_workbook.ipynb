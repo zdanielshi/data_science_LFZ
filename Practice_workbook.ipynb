{
  "nbformat": 4,
  "nbformat_minor": 0,
  "metadata": {
    "colab": {
      "name": "Practice workbook.ipynb",
      "provenance": [],
      "authorship_tag": "ABX9TyMh4Lo72po6XtaVcpkZ6i27",
      "include_colab_link": true
    },
    "kernelspec": {
      "name": "python3",
      "display_name": "Python 3"
    },
    "language_info": {
      "name": "python"
    }
  },
  "cells": [
    {
      "cell_type": "markdown",
      "metadata": {
        "id": "view-in-github",
        "colab_type": "text"
      },
      "source": [
        "<a href=\"https://colab.research.google.com/github/zdanielshi/personal_projects/blob/main/Practice_workbook.ipynb\" target=\"_parent\"><img src=\"https://colab.research.google.com/assets/colab-badge.svg\" alt=\"Open In Colab\"/></a>"
      ]
    },
    {
      "cell_type": "markdown",
      "source": [
        "Given a year, determine whether it is a leap year. If it is a leap year, return the Boolean true, otherwise return False. In the Gregorian calendar, three conditions are used to identify leap years:\n",
        "\n",
        "*   The year can be evenly divided by 4, is a leap year, unless:\n",
        "*   The year can be evenly divided by 100, it is NOT a leap year, unless:\n",
        "  *   The year is also evenly divisible by 400. Then it is a leap year.\n"
      ],
      "metadata": {
        "id": "tu5Uw7TgGmX7"
      }
    },
    {
      "cell_type": "code",
      "source": [
        "def leap_year_check(value):\n",
        "  if value % 400 == 0 or value % 100 !=0 and value % 4 == 0: \n",
        "    leap_year_result = str(value) + ' is a leap year.' # True response\n",
        "  else: #False response\n",
        "    leap_year_result = str(value) + ' is NOT a leap year.' \n",
        "  return leap_year_result\n",
        "\n",
        "print(leap_year_check(1972)) # is a leap year\n",
        "print(leap_year_check(1948)) # is a leap year\n",
        "print(leap_year_check(1991))\n",
        "print(leap_year_check(1995))\n",
        "print(leap_year_check(1985))\n",
        "print(leap_year_check(2000)) # is a leap year\n",
        "print(leap_year_check(2022)) # is a leap year"
      ],
      "metadata": {
        "colab": {
          "base_uri": "https://localhost:8080/"
        },
        "id": "m70bPVpeHGCY",
        "outputId": "e2b99d74-6bac-439f-9c08-a2ca4d6fef23"
      },
      "execution_count": 1,
      "outputs": [
        {
          "output_type": "stream",
          "name": "stdout",
          "text": [
            "1972 is a leap year.\n",
            "1948 is a leap year.\n",
            "1991 is NOT a leap year.\n",
            "1995 is NOT a leap year.\n",
            "1985 is NOT a leap year.\n",
            "2000 is a leap year.\n",
            "2022 is NOT a leap year.\n"
          ]
        }
      ]
    },
    {
      "cell_type": "markdown",
      "source": [
        "Write a function that takes two inputs and adds the two numbers together and returns the result. Use Try / Except to throw an exception if users input an incorrect value."
      ],
      "metadata": {
        "id": "LqeahHECKhpS"
      }
    },
    {
      "cell_type": "code",
      "source": [
        "#start try block\n",
        "def add_two_numbers(val_1, val_2):\n",
        "  try:\n",
        "    int_x = int(x)\n",
        "    int_y = int(y)\n",
        "\n",
        "    print(\"x is\", x)\n",
        "    print(\"y is\", y)\n",
        "\n",
        "    z = int_x + int_y\n",
        "\n",
        "    print(\"x + Y =\",z)\n",
        "  except:\n",
        "    print(\"An error occured.\")\n",
        "\n",
        "# collect inputs\n",
        "x = input(\"Enter a number: \")\n",
        "y = input(\"Enter a number: \")\n",
        "\n",
        "# run the function\n",
        "add_two_numbers(x, y)"
      ],
      "metadata": {
        "colab": {
          "base_uri": "https://localhost:8080/"
        },
        "id": "h6KZ95JvKxv6",
        "outputId": "aa4238ea-33cb-4639-bd76-e210591f625b"
      },
      "execution_count": 2,
      "outputs": [
        {
          "output_type": "stream",
          "name": "stdout",
          "text": [
            "Enter a number: 1\n",
            "Enter a number: 2\n",
            "x is 1\n",
            "y is 2\n",
            "x + Y = 3\n"
          ]
        }
      ]
    },
    {
      "cell_type": "code",
      "source": [
        "# define the function\n",
        "def get_the_average(*values): \n",
        "  try: \n",
        "    return sum(values) / len(values)\n",
        "  except:\n",
        "    print(\"An error occured\")\n",
        "\n",
        "get_the_average(1, 2, 4, 65, 3, 4, 88)"
      ],
      "metadata": {
        "colab": {
          "base_uri": "https://localhost:8080/"
        },
        "id": "LuEkmHSOBGk8",
        "outputId": "35cc60a7-445c-4395-f0ae-8f942cb0109b"
      },
      "execution_count": 3,
      "outputs": [
        {
          "output_type": "execute_result",
          "data": {
            "text/plain": [
              "23.857142857142858"
            ]
          },
          "metadata": {},
          "execution_count": 3
        }
      ]
    },
    {
      "cell_type": "code",
      "source": [
        "def get_the_geo_mean(*values): \n",
        "  try: \n",
        "    result = 1\n",
        "    for x in values:\n",
        "      result = result * x\n",
        "    return result ** (1/len(values))\n",
        "  except:\n",
        "    print(\"An error occured\")\n",
        "\n",
        "get_the_geo_mean(1, 2, 4, 65, 3, 4, 88)"
      ],
      "metadata": {
        "colab": {
          "base_uri": "https://localhost:8080/"
        },
        "id": "bokOhcebFe1p",
        "outputId": "6cdec4c5-21de-4a80-ef70-a32dd6409384"
      },
      "execution_count": 4,
      "outputs": [
        {
          "output_type": "execute_result",
          "data": {
            "text/plain": [
              "6.606211383171664"
            ]
          },
          "metadata": {},
          "execution_count": 4
        }
      ]
    },
    {
      "cell_type": "markdown",
      "source": [
        "Function for weighted average"
      ],
      "metadata": {
        "id": "6CGTynUcC-t4"
      }
    },
    {
      "cell_type": "code",
      "source": [
        "def get_wtd_avg(wts, sco):\n",
        "  products = []\n",
        "  for x in range(len(wts)):\n",
        "    products.append(wts[x] * sco[x])\n",
        "  return sum(products) / sum(wts)\n",
        "\n",
        "weights = [.15, .15, .35, .35]\n",
        "scores = [78, 70, 89, 94]\n",
        "\n",
        "get_wtd_avg(weights, scores)"
      ],
      "metadata": {
        "colab": {
          "base_uri": "https://localhost:8080/"
        },
        "id": "xqlT_vhwIIfF",
        "outputId": "90e68e1c-c074-4639-f9a5-f55a93102934"
      },
      "execution_count": 5,
      "outputs": [
        {
          "output_type": "execute_result",
          "data": {
            "text/plain": [
              "86.25000000000001"
            ]
          },
          "metadata": {},
          "execution_count": 5
        }
      ]
    },
    {
      "cell_type": "markdown",
      "source": [
        "Write a function to return the median of a list"
      ],
      "metadata": {
        "id": "Aeq05iGtLTl8"
      }
    },
    {
      "cell_type": "code",
      "source": [
        "def get_median(*values):\n",
        "  list_of_values = list(values) # convert tuple to list\n",
        "  list_of_values.sort # sort list ascending\n",
        "  if len(list_of_values) % 2 != 0: # if list is odd\n",
        "    middle_index = int((len(list_of_values)) / 2) # take len + 1, divide by 2 to get the middle index\n",
        "    return list_of_values[middle_index] # return the middle index position\n",
        "  else: \n",
        "    half_index = (len(list_of_values) / 2) # get the value left of midpoint\n",
        "    half_index_plus_one = (len(list_of_values) / 2) + 1 # get the value right of midpoint\n",
        "    return (half_index + half_index_plus_one) / 2 \n",
        "\n",
        "print(get_median(1, 2, 3, 4, 5, 6, 7, 8, 9, 10))\n",
        "print(get_median(1, 2, 3, 4, 5, 6, 7, 8, 9))\n",
        "print(get_median(1, 2, 3, 4, 5, 6, 7, 8))"
      ],
      "metadata": {
        "colab": {
          "base_uri": "https://localhost:8080/"
        },
        "id": "eVlZ7wplRPLB",
        "outputId": "a19fe255-48f3-41fc-8a30-f786b3699192"
      },
      "execution_count": 6,
      "outputs": [
        {
          "output_type": "stream",
          "name": "stdout",
          "text": [
            "5.5\n",
            "5\n",
            "4.5\n"
          ]
        }
      ]
    },
    {
      "cell_type": "markdown",
      "source": [
        "Write a function to find the mode:\n",
        "1, 2, 4, 5, 5, 8, 9"
      ],
      "metadata": {
        "id": "aoyL0UTBGSJ5"
      }
    },
    {
      "cell_type": "code",
      "source": [
        "def _mode(*args):\n",
        "  d = {}\n",
        "  m = []\n",
        "  for i in args:\n",
        "    d[i] = args.count(i)\n",
        "  for k, v in d.items():\n",
        "    if v == max(d.values()):\n",
        "      m.append(k)\n",
        "  return m"
      ],
      "metadata": {
        "id": "KS4WO0tlGVST"
      },
      "execution_count": 7,
      "outputs": []
    },
    {
      "cell_type": "code",
      "source": [
        "_mode(1, 2, 4, 5, 5, 5, 8, 8, 9, 9)"
      ],
      "metadata": {
        "colab": {
          "base_uri": "https://localhost:8080/"
        },
        "id": "rbueGSAVLCeK",
        "outputId": "372e1627-93c2-42ee-d1cd-ebff9cc7fa21"
      },
      "execution_count": 8,
      "outputs": [
        {
          "output_type": "execute_result",
          "data": {
            "text/plain": [
              "[5]"
            ]
          },
          "metadata": {},
          "execution_count": 8
        }
      ]
    },
    {
      "cell_type": "markdown",
      "source": [
        "Calculating the variance of 1, 2, 3, 4, 5, 5, 8, 8, 9, 9"
      ],
      "metadata": {
        "id": "w0TSxSOONtzJ"
      }
    },
    {
      "cell_type": "code",
      "source": [
        "def _variance(*args):\n",
        "  try:\n",
        "    v = []\n",
        "    _mean = get_the_average(*args)\n",
        "    for i in args:\n",
        "      v.append((i - _mean)**2)\n",
        "    return sum(v) / (len(args) - 1)\n",
        "  except:\n",
        "    print(\"There's an error\")\n",
        "\n",
        "_variance(1, 2, 4, 5, 5, 8, 8, 9, 9)"
      ],
      "metadata": {
        "colab": {
          "base_uri": "https://localhost:8080/"
        },
        "id": "wbn9CTIrNshL",
        "outputId": "e4f54cc8-0f67-4e99-e76a-05ddeb2bc4c6"
      },
      "execution_count": 9,
      "outputs": [
        {
          "output_type": "execute_result",
          "data": {
            "text/plain": [
              "9.0"
            ]
          },
          "metadata": {},
          "execution_count": 9
        }
      ]
    },
    {
      "cell_type": "code",
      "source": [
        "def stdev(*args):\n",
        "  return _variance(*args) ** 0.5\n",
        "\n",
        "print(stdev(1, 2, 4, 5, 5, 8, 8, 9, 9))\n",
        "print(stdev(3, 4, 4.5, 3.5)) #miles\n",
        "print(stdev(4.828, 6.437, 7.242, 5.632)) #km"
      ],
      "metadata": {
        "colab": {
          "base_uri": "https://localhost:8080/"
        },
        "id": "lBXycRkBX1oG",
        "outputId": "179cd455-dc3d-43cc-fbb6-022acf69a73c"
      },
      "execution_count": 10,
      "outputs": [
        {
          "output_type": "stream",
          "name": "stdout",
          "text": [
            "3.0\n",
            "0.6454972243679028\n",
            "1.0388632810272325\n"
          ]
        }
      ]
    },
    {
      "cell_type": "code",
      "source": [
        "def coeff(*args):\n",
        "  return stdev(*args) / get_the_average(*args)\n",
        "\n",
        "print(coeff(3, 4, 4.5, 3.5)) #miles\n",
        "print(coeff(4.828, 6.437, 7.242, 5.632)) #km"
      ],
      "metadata": {
        "colab": {
          "base_uri": "https://localhost:8080/"
        },
        "id": "2APXJZZGazTy",
        "outputId": "8ad1617e-bc8c-4cc3-ceed-c74e0edc8739"
      },
      "execution_count": 11,
      "outputs": [
        {
          "output_type": "stream",
          "name": "stdout",
          "text": [
            "0.17213259316477408\n",
            "0.17214686292344047\n"
          ]
        }
      ]
    },
    {
      "cell_type": "markdown",
      "source": [
        "Covariance of:\n",
        "* Age = 18, 25, 40, 50\n",
        "* Internet use = 125, 120, 100, 70"
      ],
      "metadata": {
        "id": "7MkFczl1brPe"
      }
    },
    {
      "cell_type": "code",
      "source": [
        "def covar(args1, args2):\n",
        "  x = [] # create a list to drop x values into\n",
        "  y = [] # create a list to drop y values into \n",
        "  z = [] # createa a list to drop z values into\n",
        "  for v in args1: # iterate through x values to find difference to x mean\n",
        "    x.append(v - get_the_average(*args1)) # append those values into list x\n",
        "  print(x)\n",
        "  for v in args2: # iterate through y values to find difference to y mean\n",
        "    y.append(v - get_the_average(*args2)) # append those values into list y\n",
        "  print(y)\n",
        "  for i in range(len(x)): # iterate through both x and y to calculate product\n",
        "    z.append(x[i] * y[i]) # append to z\n",
        "  print(z)\n",
        "  return sum(z) / (len(args1) - 1) # return z / n-1\n",
        "\n",
        "print(covar([18, 25, 40, 50],[125, 120, 100, 70]))"
      ],
      "metadata": {
        "colab": {
          "base_uri": "https://localhost:8080/"
        },
        "id": "iIMfUKbAb0xs",
        "outputId": "67d8c540-0fe5-447d-c95f-77702d3807ca"
      },
      "execution_count": 24,
      "outputs": [
        {
          "output_type": "stream",
          "name": "stdout",
          "text": [
            "[-15.25, -8.25, 6.75, 16.75]\n",
            "[21.25, 16.25, -3.75, -33.75]\n",
            "[-324.0625, -134.0625, -25.3125, -565.3125]\n",
            "-349.5833333333333\n"
          ]
        }
      ]
    }
  ]
}