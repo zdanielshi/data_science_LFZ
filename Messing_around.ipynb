{
  "nbformat": 4,
  "nbformat_minor": 0,
  "metadata": {
    "colab": {
      "name": "Messing around.ipynb",
      "provenance": [],
      "authorship_tag": "ABX9TyM7rX5CsfbJtteGgG2L8igF",
      "include_colab_link": true
    },
    "kernelspec": {
      "name": "python3",
      "display_name": "Python 3"
    },
    "language_info": {
      "name": "python"
    }
  },
  "cells": [
    {
      "cell_type": "markdown",
      "metadata": {
        "id": "view-in-github",
        "colab_type": "text"
      },
      "source": [
        "<a href=\"https://colab.research.google.com/github/zdanielshi/personal_projects/blob/main/Messing_around.ipynb\" target=\"_parent\"><img src=\"https://colab.research.google.com/assets/colab-badge.svg\" alt=\"Open In Colab\"/></a>"
      ]
    },
    {
      "cell_type": "markdown",
      "source": [
        "Given a year, determine whether it is a leap year. If it is a leap year, return the Boolean true, otherwise return False. In the Gregorian calendar, three conditions are used to identify leap years:\n",
        "\n",
        "*   The year can be evenly divided by 4, is a leap year, unless:\n",
        "*   The year can be evenly divided by 100, it is NOT a leap year, unless:\n",
        "  *   The year is also evenly divisible by 400. Then it is a leap year.\n"
      ],
      "metadata": {
        "id": "tu5Uw7TgGmX7"
      }
    },
    {
      "cell_type": "code",
      "source": [
        "def leap_year_check(value):\n",
        "  if value % 400 == 0 or value % 100 !=0 and value % 4 == 0: \n",
        "    leap_year_result = str(value) + ' is a leap year.' # True response\n",
        "  else: #False response\n",
        "    leap_year_result = str(value) + ' is NOT a leap year.' \n",
        "  return leap_year_result\n",
        "\n",
        "print(leap_year_check(1972)) # is a leap year\n",
        "print(leap_year_check(1948)) # is a leap year\n",
        "print(leap_year_check(1991))\n",
        "print(leap_year_check(1995))\n",
        "print(leap_year_check(1985))\n",
        "print(leap_year_check(2000)) # is a leap year\n",
        "print(leap_year_check(2022)) # is a leap year"
      ],
      "metadata": {
        "colab": {
          "base_uri": "https://localhost:8080/"
        },
        "id": "m70bPVpeHGCY",
        "outputId": "3b67d156-d458-479e-8d7c-ac4d936a0a36"
      },
      "execution_count": 5,
      "outputs": [
        {
          "output_type": "stream",
          "name": "stdout",
          "text": [
            "1972 is a leap year.\n",
            "1948 is a leap year.\n",
            "1991 is NOT a leap year.\n",
            "1995 is NOT a leap year.\n",
            "1985 is NOT a leap year.\n",
            "2000 is a leap year.\n",
            "2022 is NOT a leap year.\n"
          ]
        }
      ]
    },
    {
      "cell_type": "markdown",
      "source": [
        "Write a function that takes two inputs and adds the two numbers together and returns the result. Use Try / Except to throw an exception if users input an incorrect value."
      ],
      "metadata": {
        "id": "LqeahHECKhpS"
      }
    },
    {
      "cell_type": "code",
      "source": [
        "#start try block\n",
        "def add_two_numbers(val_1, val_2):\n",
        "  try:\n",
        "    int_x = int(x)\n",
        "    int_y = int(y)\n",
        "\n",
        "    print(\"x is\", x)\n",
        "    print(\"y is\", y)\n",
        "\n",
        "    z = int_x + int_y\n",
        "\n",
        "    print(\"x + Y =\",z)\n",
        "  except:\n",
        "    print(\"An error occured.\")\n",
        "\n",
        "# collect inputs\n",
        "x = input(\"Enter a number: \")\n",
        "y = input(\"Enter a number: \")\n",
        "\n",
        "# run the function\n",
        "add_two_numbers(x, y)"
      ],
      "metadata": {
        "colab": {
          "base_uri": "https://localhost:8080/"
        },
        "id": "h6KZ95JvKxv6",
        "outputId": "27c00bd6-b766-4088-8fde-3f6097d57790"
      },
      "execution_count": 9,
      "outputs": [
        {
          "output_type": "stream",
          "name": "stdout",
          "text": [
            "Enter a number: a\n",
            "Enter a number: b\n",
            "An error occured.\n"
          ]
        }
      ]
    },
    {
      "cell_type": "code",
      "source": [
        "# define the function\n",
        "def get_the_average(*values): \n",
        "  try: \n",
        "    return sum(values) / len(values)\n",
        "  except:\n",
        "    print(\"An error occured\")\n",
        "\n",
        "get_the_average(1, 2, 4, 65, 3, 4, 88)"
      ],
      "metadata": {
        "colab": {
          "base_uri": "https://localhost:8080/"
        },
        "id": "LuEkmHSOBGk8",
        "outputId": "2e8a47f1-f31d-44cc-9915-d59d741d1605"
      },
      "execution_count": 26,
      "outputs": [
        {
          "output_type": "execute_result",
          "data": {
            "text/plain": [
              "23.857142857142858"
            ]
          },
          "metadata": {},
          "execution_count": 26
        }
      ]
    },
    {
      "cell_type": "code",
      "source": [
        "def get_the_geo_mean(*values): \n",
        "  try: \n",
        "    result = 1\n",
        "    for x in values:\n",
        "      result = result * x\n",
        "    return result ** (1/len(values))\n",
        "  except:\n",
        "    print(\"An error occured\")\n",
        "\n",
        "get_the_geo_mean(1, 2, 4, 65, 3, 4, 88)"
      ],
      "metadata": {
        "colab": {
          "base_uri": "https://localhost:8080/"
        },
        "id": "bokOhcebFe1p",
        "outputId": "d40a27d8-bebf-4c56-f6c5-60a6e398f41e"
      },
      "execution_count": 30,
      "outputs": [
        {
          "output_type": "execute_result",
          "data": {
            "text/plain": [
              "6.606211383171664"
            ]
          },
          "metadata": {},
          "execution_count": 30
        }
      ]
    },
    {
      "cell_type": "code",
      "source": [
        "def get_wtd_avg(wts, sco):\n",
        "  products = []\n",
        "  for x in range(len(wts)):\n",
        "    products.append(wts[x] * sco[x])\n",
        "  return sum(products) / sum(wts)\n",
        "\n",
        "weights = [.15, .15, .35, .35]\n",
        "scores = [78, 70, 89, 94]\n",
        "\n",
        "get_wtd_avg(weights, scores)"
      ],
      "metadata": {
        "colab": {
          "base_uri": "https://localhost:8080/"
        },
        "id": "xqlT_vhwIIfF",
        "outputId": "f39915ef-b200-4142-8662-b476e1b3f487"
      },
      "execution_count": 55,
      "outputs": [
        {
          "output_type": "execute_result",
          "data": {
            "text/plain": [
              "86.25000000000001"
            ]
          },
          "metadata": {},
          "execution_count": 55
        }
      ]
    },
    {
      "cell_type": "markdown",
      "source": [
        "Write a function to return the median of a list"
      ],
      "metadata": {
        "id": "Aeq05iGtLTl8"
      }
    },
    {
      "cell_type": "code",
      "source": [
        "def get_median(*values):\n",
        "  list_of_values = list(values) # convert tuple to list\n",
        "  list_of_values.sort # sort list ascending\n",
        "  if len(list_of_values) % 2 != 0: # if list is odd\n",
        "    middle_index = int((len(list_of_values) - 1) / 2) # take len + 1, divide by 2 to get the middle index\n",
        "    return list_of_values[middle_index] # return the middle index position\n",
        "  else: \n",
        "    half_index = (len(list_of_values) / 2) # get the value left of midpoint\n",
        "    half_index_plus_one = (len(list_of_values) / 2) + 1 # get the value right of midpoint\n",
        "    return (half_index + half_index_plus_one) / 2 \n",
        "\n",
        "print(get_median(1, 2, 3, 4, 5, 6, 7, 8, 9, 10))\n"
      ],
      "metadata": {
        "colab": {
          "base_uri": "https://localhost:8080/"
        },
        "id": "eVlZ7wplRPLB",
        "outputId": "8929f50d-2098-40f1-c343-229033e0edd0"
      },
      "execution_count": 79,
      "outputs": [
        {
          "output_type": "stream",
          "name": "stdout",
          "text": [
            "5.5\n"
          ]
        }
      ]
    }
  ]
}